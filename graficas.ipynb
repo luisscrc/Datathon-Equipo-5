{
 "cells": [
  {
   "cell_type": "code",
   "execution_count": 27,
   "metadata": {},
   "outputs": [],
   "source": [
    "import plotly.express as px\n",
    "import numpy as np\n",
    "import pandas as pd\n",
    "import matplotlib.pyplot as plt"
   ]
  },
  {
   "cell_type": "code",
   "execution_count": 31,
   "metadata": {},
   "outputs": [
    {
     "data": {
      "text/html": [
       "<div>\n",
       "<style scoped>\n",
       "    .dataframe tbody tr th:only-of-type {\n",
       "        vertical-align: middle;\n",
       "    }\n",
       "\n",
       "    .dataframe tbody tr th {\n",
       "        vertical-align: top;\n",
       "    }\n",
       "\n",
       "    .dataframe thead th {\n",
       "        text-align: right;\n",
       "    }\n",
       "</style>\n",
       "<table border=\"1\" class=\"dataframe\">\n",
       "  <thead>\n",
       "    <tr style=\"text-align: right;\">\n",
       "      <th></th>\n",
       "      <th>POSICIÓN</th>\n",
       "      <th>AREA</th>\n",
       "      <th>Á.LIQ.</th>\n",
       "      <th>GRUPO DE PERSONAL</th>\n",
       "      <th>CODIGO POSTAL</th>\n",
       "      <th>MOTIVO DE LA RENUNCIA</th>\n",
       "      <th>BANDA</th>\n",
       "      <th>BAJA</th>\n",
       "      <th>REGLAPHT</th>\n",
       "      <th>ALTA</th>\n",
       "      <th>...</th>\n",
       "      <th>LUGAR DE NACIMIENTO</th>\n",
       "      <th>NACIONALIDAD</th>\n",
       "      <th>EDAD</th>\n",
       "      <th>¿CUANTO TIEMPO TIENE VIVIENDO EN CD. JUAREZ?</th>\n",
       "      <th>ESTADO CIVIL</th>\n",
       "      <th>HIJOS</th>\n",
       "      <th>Distancia</th>\n",
       "      <th>TIEMPO VIVIENDO EN CD JUAREZ - CATEGORIA</th>\n",
       "      <th>TIENE HIJOS</th>\n",
       "      <th>TIPO DE RENUNCIA</th>\n",
       "    </tr>\n",
       "  </thead>\n",
       "  <tbody>\n",
       "    <tr>\n",
       "      <th>0</th>\n",
       "      <td>POS514</td>\n",
       "      <td>LOG</td>\n",
       "      <td>S6</td>\n",
       "      <td>Exempt</td>\n",
       "      <td>32520</td>\n",
       "      <td>OTRO EMPLEO</td>\n",
       "      <td>E3</td>\n",
       "      <td>2023-01-02</td>\n",
       "      <td>ADMINIST</td>\n",
       "      <td>2018-06-21</td>\n",
       "      <td>...</td>\n",
       "      <td>CHIHUAHUA</td>\n",
       "      <td>Mexican</td>\n",
       "      <td>31</td>\n",
       "      <td>NaN</td>\n",
       "      <td>Soltero</td>\n",
       "      <td>0</td>\n",
       "      <td>10.815469</td>\n",
       "      <td>Menos de 1 Año</td>\n",
       "      <td>No</td>\n",
       "      <td>VOLUNTARIA</td>\n",
       "    </tr>\n",
       "    <tr>\n",
       "      <th>1</th>\n",
       "      <td>POS1745</td>\n",
       "      <td>MFS</td>\n",
       "      <td>S5</td>\n",
       "      <td>Direct</td>\n",
       "      <td>32217</td>\n",
       "      <td>OTRO EMPLEO</td>\n",
       "      <td>DNO</td>\n",
       "      <td>2023-01-03</td>\n",
       "      <td>ADMINIST</td>\n",
       "      <td>2017-07-20</td>\n",
       "      <td>...</td>\n",
       "      <td>DURANGO</td>\n",
       "      <td>Mexican</td>\n",
       "      <td>25</td>\n",
       "      <td>10+ Years</td>\n",
       "      <td>Soltero</td>\n",
       "      <td>0</td>\n",
       "      <td>18.258464</td>\n",
       "      <td>10+ Años</td>\n",
       "      <td>No</td>\n",
       "      <td>VOLUNTARIA</td>\n",
       "    </tr>\n",
       "    <tr>\n",
       "      <th>2</th>\n",
       "      <td>POS1230</td>\n",
       "      <td>VS7</td>\n",
       "      <td>S5</td>\n",
       "      <td>Direct</td>\n",
       "      <td>32600</td>\n",
       "      <td>OTRO EMPLEO</td>\n",
       "      <td>DNO</td>\n",
       "      <td>2023-01-03</td>\n",
       "      <td>JT012324</td>\n",
       "      <td>2019-08-29</td>\n",
       "      <td>...</td>\n",
       "      <td>CHIHUAHUA</td>\n",
       "      <td>Mexican</td>\n",
       "      <td>23</td>\n",
       "      <td>10+ Years</td>\n",
       "      <td>Soltero</td>\n",
       "      <td>0</td>\n",
       "      <td>18.460211</td>\n",
       "      <td>10+ Años</td>\n",
       "      <td>No</td>\n",
       "      <td>VOLUNTARIA</td>\n",
       "    </tr>\n",
       "    <tr>\n",
       "      <th>3</th>\n",
       "      <td>POS1661</td>\n",
       "      <td>MFS</td>\n",
       "      <td>S5</td>\n",
       "      <td>Direct</td>\n",
       "      <td>32575</td>\n",
       "      <td>ESTUDIOS</td>\n",
       "      <td>DO</td>\n",
       "      <td>2023-01-03</td>\n",
       "      <td>JT012324</td>\n",
       "      <td>2022-11-03</td>\n",
       "      <td>...</td>\n",
       "      <td>CHIHUAHUA</td>\n",
       "      <td>Mexican</td>\n",
       "      <td>18</td>\n",
       "      <td>10+ Years</td>\n",
       "      <td>Soltero</td>\n",
       "      <td>0</td>\n",
       "      <td>6.025403</td>\n",
       "      <td>10+ Años</td>\n",
       "      <td>No</td>\n",
       "      <td>VOLUNTARIA</td>\n",
       "    </tr>\n",
       "    <tr>\n",
       "      <th>4</th>\n",
       "      <td>POS1921</td>\n",
       "      <td>MFS</td>\n",
       "      <td>S5</td>\n",
       "      <td>Direct</td>\n",
       "      <td>32575</td>\n",
       "      <td>CAMBIO DE DOMICILIO</td>\n",
       "      <td>DO</td>\n",
       "      <td>2023-01-03</td>\n",
       "      <td>JT012324</td>\n",
       "      <td>2017-03-02</td>\n",
       "      <td>...</td>\n",
       "      <td>CHIHUAHUA</td>\n",
       "      <td>Mexican</td>\n",
       "      <td>26</td>\n",
       "      <td>10+ Years</td>\n",
       "      <td>Soltero</td>\n",
       "      <td>0</td>\n",
       "      <td>6.025403</td>\n",
       "      <td>10+ Años</td>\n",
       "      <td>No</td>\n",
       "      <td>VOLUNTARIA</td>\n",
       "    </tr>\n",
       "  </tbody>\n",
       "</table>\n",
       "<p>5 rows × 24 columns</p>\n",
       "</div>"
      ],
      "text/plain": [
       "  POSICIÓN AREA Á.LIQ. GRUPO DE PERSONAL  CODIGO POSTAL MOTIVO DE LA RENUNCIA  \\\n",
       "0   POS514  LOG     S6            Exempt          32520           OTRO EMPLEO   \n",
       "1  POS1745  MFS     S5            Direct          32217           OTRO EMPLEO   \n",
       "2  POS1230  VS7     S5            Direct          32600           OTRO EMPLEO   \n",
       "3  POS1661  MFS     S5            Direct          32575              ESTUDIOS   \n",
       "4  POS1921  MFS     S5            Direct          32575   CAMBIO DE DOMICILIO   \n",
       "\n",
       "  BANDA        BAJA  REGLAPHT        ALTA  ...  LUGAR DE NACIMIENTO  \\\n",
       "0    E3  2023-01-02  ADMINIST  2018-06-21  ...            CHIHUAHUA   \n",
       "1   DNO  2023-01-03  ADMINIST  2017-07-20  ...              DURANGO   \n",
       "2   DNO  2023-01-03  JT012324  2019-08-29  ...            CHIHUAHUA   \n",
       "3    DO  2023-01-03  JT012324  2022-11-03  ...            CHIHUAHUA   \n",
       "4    DO  2023-01-03  JT012324  2017-03-02  ...            CHIHUAHUA   \n",
       "\n",
       "   NACIONALIDAD  EDAD ¿CUANTO TIEMPO TIENE VIVIENDO EN CD. JUAREZ?  \\\n",
       "0       Mexican    31                                          NaN   \n",
       "1       Mexican    25                                    10+ Years   \n",
       "2       Mexican    23                                    10+ Years   \n",
       "3       Mexican    18                                    10+ Years   \n",
       "4       Mexican    26                                    10+ Years   \n",
       "\n",
       "  ESTADO CIVIL HIJOS  Distancia TIEMPO VIVIENDO EN CD JUAREZ - CATEGORIA  \\\n",
       "0      Soltero     0  10.815469                           Menos de 1 Año   \n",
       "1      Soltero     0  18.258464                                 10+ Años   \n",
       "2      Soltero     0  18.460211                                 10+ Años   \n",
       "3      Soltero     0   6.025403                                 10+ Años   \n",
       "4      Soltero     0   6.025403                                 10+ Años   \n",
       "\n",
       "  TIENE HIJOS  TIPO DE RENUNCIA  \n",
       "0          No        VOLUNTARIA  \n",
       "1          No        VOLUNTARIA  \n",
       "2          No        VOLUNTARIA  \n",
       "3          No        VOLUNTARIA  \n",
       "4          No        VOLUNTARIA  \n",
       "\n",
       "[5 rows x 24 columns]"
      ]
     },
     "execution_count": 31,
     "metadata": {},
     "output_type": "execute_result"
    }
   ],
   "source": [
    "# Leer archivo bosch_aic_datathon_limpio.csv\n",
    "data = pd.read_csv(\"bosch_aic_datathon_limpio.csv\")\n",
    "\n",
    "data.head()"
   ]
  },
  {
   "cell_type": "code",
   "execution_count": 29,
   "metadata": {},
   "outputs": [
    {
     "data": {
      "application/vnd.plotly.v1+json": {
       "config": {
        "plotlyServerURL": "https://plot.ly"
       },
       "data": [
        {
         "alignmentgroup": "True",
         "hovertemplate": "SEXO=F<br>Categoría Salarial=%{x}<br>Frecuencia=%{y}<extra></extra>",
         "legendgroup": "F",
         "marker": {
          "color": "#636efa",
          "pattern": {
           "shape": ""
          }
         },
         "name": "F",
         "offsetgroup": "F",
         "orientation": "v",
         "showlegend": true,
         "textposition": "auto",
         "type": "bar",
         "x": [
          "DNO",
          "DO",
          "E3",
          "E4",
          "SL1"
         ],
         "xaxis": "x",
         "y": [
          71,
          583,
          32,
          16,
          5
         ],
         "yaxis": "y"
        },
        {
         "alignmentgroup": "True",
         "hovertemplate": "SEXO=M<br>Categoría Salarial=%{x}<br>Frecuencia=%{y}<extra></extra>",
         "legendgroup": "M",
         "marker": {
          "color": "#EF553B",
          "pattern": {
           "shape": ""
          }
         },
         "name": "M",
         "offsetgroup": "M",
         "orientation": "v",
         "showlegend": true,
         "textposition": "auto",
         "type": "bar",
         "x": [
          "DNO",
          "DO",
          "E3",
          "E4",
          "SL1"
         ],
         "xaxis": "x",
         "y": [
          291,
          296,
          65,
          33,
          8
         ],
         "yaxis": "y"
        }
       ],
       "layout": {
        "barmode": "group",
        "legend": {
         "title": {
          "text": "SEXO"
         },
         "tracegroupgap": 0
        },
        "template": {
         "data": {
          "bar": [
           {
            "error_x": {
             "color": "#2a3f5f"
            },
            "error_y": {
             "color": "#2a3f5f"
            },
            "marker": {
             "line": {
              "color": "#E5ECF6",
              "width": 0.5
             },
             "pattern": {
              "fillmode": "overlay",
              "size": 10,
              "solidity": 0.2
             }
            },
            "type": "bar"
           }
          ],
          "barpolar": [
           {
            "marker": {
             "line": {
              "color": "#E5ECF6",
              "width": 0.5
             },
             "pattern": {
              "fillmode": "overlay",
              "size": 10,
              "solidity": 0.2
             }
            },
            "type": "barpolar"
           }
          ],
          "carpet": [
           {
            "aaxis": {
             "endlinecolor": "#2a3f5f",
             "gridcolor": "white",
             "linecolor": "white",
             "minorgridcolor": "white",
             "startlinecolor": "#2a3f5f"
            },
            "baxis": {
             "endlinecolor": "#2a3f5f",
             "gridcolor": "white",
             "linecolor": "white",
             "minorgridcolor": "white",
             "startlinecolor": "#2a3f5f"
            },
            "type": "carpet"
           }
          ],
          "choropleth": [
           {
            "colorbar": {
             "outlinewidth": 0,
             "ticks": ""
            },
            "type": "choropleth"
           }
          ],
          "contour": [
           {
            "colorbar": {
             "outlinewidth": 0,
             "ticks": ""
            },
            "colorscale": [
             [
              0,
              "#0d0887"
             ],
             [
              0.1111111111111111,
              "#46039f"
             ],
             [
              0.2222222222222222,
              "#7201a8"
             ],
             [
              0.3333333333333333,
              "#9c179e"
             ],
             [
              0.4444444444444444,
              "#bd3786"
             ],
             [
              0.5555555555555556,
              "#d8576b"
             ],
             [
              0.6666666666666666,
              "#ed7953"
             ],
             [
              0.7777777777777778,
              "#fb9f3a"
             ],
             [
              0.8888888888888888,
              "#fdca26"
             ],
             [
              1,
              "#f0f921"
             ]
            ],
            "type": "contour"
           }
          ],
          "contourcarpet": [
           {
            "colorbar": {
             "outlinewidth": 0,
             "ticks": ""
            },
            "type": "contourcarpet"
           }
          ],
          "heatmap": [
           {
            "colorbar": {
             "outlinewidth": 0,
             "ticks": ""
            },
            "colorscale": [
             [
              0,
              "#0d0887"
             ],
             [
              0.1111111111111111,
              "#46039f"
             ],
             [
              0.2222222222222222,
              "#7201a8"
             ],
             [
              0.3333333333333333,
              "#9c179e"
             ],
             [
              0.4444444444444444,
              "#bd3786"
             ],
             [
              0.5555555555555556,
              "#d8576b"
             ],
             [
              0.6666666666666666,
              "#ed7953"
             ],
             [
              0.7777777777777778,
              "#fb9f3a"
             ],
             [
              0.8888888888888888,
              "#fdca26"
             ],
             [
              1,
              "#f0f921"
             ]
            ],
            "type": "heatmap"
           }
          ],
          "heatmapgl": [
           {
            "colorbar": {
             "outlinewidth": 0,
             "ticks": ""
            },
            "colorscale": [
             [
              0,
              "#0d0887"
             ],
             [
              0.1111111111111111,
              "#46039f"
             ],
             [
              0.2222222222222222,
              "#7201a8"
             ],
             [
              0.3333333333333333,
              "#9c179e"
             ],
             [
              0.4444444444444444,
              "#bd3786"
             ],
             [
              0.5555555555555556,
              "#d8576b"
             ],
             [
              0.6666666666666666,
              "#ed7953"
             ],
             [
              0.7777777777777778,
              "#fb9f3a"
             ],
             [
              0.8888888888888888,
              "#fdca26"
             ],
             [
              1,
              "#f0f921"
             ]
            ],
            "type": "heatmapgl"
           }
          ],
          "histogram": [
           {
            "marker": {
             "pattern": {
              "fillmode": "overlay",
              "size": 10,
              "solidity": 0.2
             }
            },
            "type": "histogram"
           }
          ],
          "histogram2d": [
           {
            "colorbar": {
             "outlinewidth": 0,
             "ticks": ""
            },
            "colorscale": [
             [
              0,
              "#0d0887"
             ],
             [
              0.1111111111111111,
              "#46039f"
             ],
             [
              0.2222222222222222,
              "#7201a8"
             ],
             [
              0.3333333333333333,
              "#9c179e"
             ],
             [
              0.4444444444444444,
              "#bd3786"
             ],
             [
              0.5555555555555556,
              "#d8576b"
             ],
             [
              0.6666666666666666,
              "#ed7953"
             ],
             [
              0.7777777777777778,
              "#fb9f3a"
             ],
             [
              0.8888888888888888,
              "#fdca26"
             ],
             [
              1,
              "#f0f921"
             ]
            ],
            "type": "histogram2d"
           }
          ],
          "histogram2dcontour": [
           {
            "colorbar": {
             "outlinewidth": 0,
             "ticks": ""
            },
            "colorscale": [
             [
              0,
              "#0d0887"
             ],
             [
              0.1111111111111111,
              "#46039f"
             ],
             [
              0.2222222222222222,
              "#7201a8"
             ],
             [
              0.3333333333333333,
              "#9c179e"
             ],
             [
              0.4444444444444444,
              "#bd3786"
             ],
             [
              0.5555555555555556,
              "#d8576b"
             ],
             [
              0.6666666666666666,
              "#ed7953"
             ],
             [
              0.7777777777777778,
              "#fb9f3a"
             ],
             [
              0.8888888888888888,
              "#fdca26"
             ],
             [
              1,
              "#f0f921"
             ]
            ],
            "type": "histogram2dcontour"
           }
          ],
          "mesh3d": [
           {
            "colorbar": {
             "outlinewidth": 0,
             "ticks": ""
            },
            "type": "mesh3d"
           }
          ],
          "parcoords": [
           {
            "line": {
             "colorbar": {
              "outlinewidth": 0,
              "ticks": ""
             }
            },
            "type": "parcoords"
           }
          ],
          "pie": [
           {
            "automargin": true,
            "type": "pie"
           }
          ],
          "scatter": [
           {
            "fillpattern": {
             "fillmode": "overlay",
             "size": 10,
             "solidity": 0.2
            },
            "type": "scatter"
           }
          ],
          "scatter3d": [
           {
            "line": {
             "colorbar": {
              "outlinewidth": 0,
              "ticks": ""
             }
            },
            "marker": {
             "colorbar": {
              "outlinewidth": 0,
              "ticks": ""
             }
            },
            "type": "scatter3d"
           }
          ],
          "scattercarpet": [
           {
            "marker": {
             "colorbar": {
              "outlinewidth": 0,
              "ticks": ""
             }
            },
            "type": "scattercarpet"
           }
          ],
          "scattergeo": [
           {
            "marker": {
             "colorbar": {
              "outlinewidth": 0,
              "ticks": ""
             }
            },
            "type": "scattergeo"
           }
          ],
          "scattergl": [
           {
            "marker": {
             "colorbar": {
              "outlinewidth": 0,
              "ticks": ""
             }
            },
            "type": "scattergl"
           }
          ],
          "scattermapbox": [
           {
            "marker": {
             "colorbar": {
              "outlinewidth": 0,
              "ticks": ""
             }
            },
            "type": "scattermapbox"
           }
          ],
          "scatterpolar": [
           {
            "marker": {
             "colorbar": {
              "outlinewidth": 0,
              "ticks": ""
             }
            },
            "type": "scatterpolar"
           }
          ],
          "scatterpolargl": [
           {
            "marker": {
             "colorbar": {
              "outlinewidth": 0,
              "ticks": ""
             }
            },
            "type": "scatterpolargl"
           }
          ],
          "scatterternary": [
           {
            "marker": {
             "colorbar": {
              "outlinewidth": 0,
              "ticks": ""
             }
            },
            "type": "scatterternary"
           }
          ],
          "surface": [
           {
            "colorbar": {
             "outlinewidth": 0,
             "ticks": ""
            },
            "colorscale": [
             [
              0,
              "#0d0887"
             ],
             [
              0.1111111111111111,
              "#46039f"
             ],
             [
              0.2222222222222222,
              "#7201a8"
             ],
             [
              0.3333333333333333,
              "#9c179e"
             ],
             [
              0.4444444444444444,
              "#bd3786"
             ],
             [
              0.5555555555555556,
              "#d8576b"
             ],
             [
              0.6666666666666666,
              "#ed7953"
             ],
             [
              0.7777777777777778,
              "#fb9f3a"
             ],
             [
              0.8888888888888888,
              "#fdca26"
             ],
             [
              1,
              "#f0f921"
             ]
            ],
            "type": "surface"
           }
          ],
          "table": [
           {
            "cells": {
             "fill": {
              "color": "#EBF0F8"
             },
             "line": {
              "color": "white"
             }
            },
            "header": {
             "fill": {
              "color": "#C8D4E3"
             },
             "line": {
              "color": "white"
             }
            },
            "type": "table"
           }
          ]
         },
         "layout": {
          "annotationdefaults": {
           "arrowcolor": "#2a3f5f",
           "arrowhead": 0,
           "arrowwidth": 1
          },
          "autotypenumbers": "strict",
          "coloraxis": {
           "colorbar": {
            "outlinewidth": 0,
            "ticks": ""
           }
          },
          "colorscale": {
           "diverging": [
            [
             0,
             "#8e0152"
            ],
            [
             0.1,
             "#c51b7d"
            ],
            [
             0.2,
             "#de77ae"
            ],
            [
             0.3,
             "#f1b6da"
            ],
            [
             0.4,
             "#fde0ef"
            ],
            [
             0.5,
             "#f7f7f7"
            ],
            [
             0.6,
             "#e6f5d0"
            ],
            [
             0.7,
             "#b8e186"
            ],
            [
             0.8,
             "#7fbc41"
            ],
            [
             0.9,
             "#4d9221"
            ],
            [
             1,
             "#276419"
            ]
           ],
           "sequential": [
            [
             0,
             "#0d0887"
            ],
            [
             0.1111111111111111,
             "#46039f"
            ],
            [
             0.2222222222222222,
             "#7201a8"
            ],
            [
             0.3333333333333333,
             "#9c179e"
            ],
            [
             0.4444444444444444,
             "#bd3786"
            ],
            [
             0.5555555555555556,
             "#d8576b"
            ],
            [
             0.6666666666666666,
             "#ed7953"
            ],
            [
             0.7777777777777778,
             "#fb9f3a"
            ],
            [
             0.8888888888888888,
             "#fdca26"
            ],
            [
             1,
             "#f0f921"
            ]
           ],
           "sequentialminus": [
            [
             0,
             "#0d0887"
            ],
            [
             0.1111111111111111,
             "#46039f"
            ],
            [
             0.2222222222222222,
             "#7201a8"
            ],
            [
             0.3333333333333333,
             "#9c179e"
            ],
            [
             0.4444444444444444,
             "#bd3786"
            ],
            [
             0.5555555555555556,
             "#d8576b"
            ],
            [
             0.6666666666666666,
             "#ed7953"
            ],
            [
             0.7777777777777778,
             "#fb9f3a"
            ],
            [
             0.8888888888888888,
             "#fdca26"
            ],
            [
             1,
             "#f0f921"
            ]
           ]
          },
          "colorway": [
           "#636efa",
           "#EF553B",
           "#00cc96",
           "#ab63fa",
           "#FFA15A",
           "#19d3f3",
           "#FF6692",
           "#B6E880",
           "#FF97FF",
           "#FECB52"
          ],
          "font": {
           "color": "#2a3f5f"
          },
          "geo": {
           "bgcolor": "white",
           "lakecolor": "white",
           "landcolor": "#E5ECF6",
           "showlakes": true,
           "showland": true,
           "subunitcolor": "white"
          },
          "hoverlabel": {
           "align": "left"
          },
          "hovermode": "closest",
          "mapbox": {
           "style": "light"
          },
          "paper_bgcolor": "white",
          "plot_bgcolor": "#E5ECF6",
          "polar": {
           "angularaxis": {
            "gridcolor": "white",
            "linecolor": "white",
            "ticks": ""
           },
           "bgcolor": "#E5ECF6",
           "radialaxis": {
            "gridcolor": "white",
            "linecolor": "white",
            "ticks": ""
           }
          },
          "scene": {
           "xaxis": {
            "backgroundcolor": "#E5ECF6",
            "gridcolor": "white",
            "gridwidth": 2,
            "linecolor": "white",
            "showbackground": true,
            "ticks": "",
            "zerolinecolor": "white"
           },
           "yaxis": {
            "backgroundcolor": "#E5ECF6",
            "gridcolor": "white",
            "gridwidth": 2,
            "linecolor": "white",
            "showbackground": true,
            "ticks": "",
            "zerolinecolor": "white"
           },
           "zaxis": {
            "backgroundcolor": "#E5ECF6",
            "gridcolor": "white",
            "gridwidth": 2,
            "linecolor": "white",
            "showbackground": true,
            "ticks": "",
            "zerolinecolor": "white"
           }
          },
          "shapedefaults": {
           "line": {
            "color": "#2a3f5f"
           }
          },
          "ternary": {
           "aaxis": {
            "gridcolor": "white",
            "linecolor": "white",
            "ticks": ""
           },
           "baxis": {
            "gridcolor": "white",
            "linecolor": "white",
            "ticks": ""
           },
           "bgcolor": "#E5ECF6",
           "caxis": {
            "gridcolor": "white",
            "linecolor": "white",
            "ticks": ""
           }
          },
          "title": {
           "x": 0.05
          },
          "xaxis": {
           "automargin": true,
           "gridcolor": "white",
           "linecolor": "white",
           "ticks": "",
           "title": {
            "standoff": 15
           },
           "zerolinecolor": "white",
           "zerolinewidth": 2
          },
          "yaxis": {
           "automargin": true,
           "gridcolor": "white",
           "linecolor": "white",
           "ticks": "",
           "title": {
            "standoff": 15
           },
           "zerolinecolor": "white",
           "zerolinewidth": 2
          }
         }
        },
        "title": {
         "text": "Distribución de Categorías Salariales por Género"
        },
        "xaxis": {
         "anchor": "y",
         "domain": [
          0,
          1
         ],
         "title": {
          "text": "Categoría Salarial"
         }
        },
        "yaxis": {
         "anchor": "x",
         "domain": [
          0,
          1
         ],
         "title": {
          "text": "Frecuencia"
         }
        }
       }
      },
      "text/html": [
       "<div>                            <div id=\"d832accb-78bb-46c0-8e3c-257c83502a0a\" class=\"plotly-graph-div\" style=\"height:525px; width:100%;\"></div>            <script type=\"text/javascript\">                require([\"plotly\"], function(Plotly) {                    window.PLOTLYENV=window.PLOTLYENV || {};                                    if (document.getElementById(\"d832accb-78bb-46c0-8e3c-257c83502a0a\")) {                    Plotly.newPlot(                        \"d832accb-78bb-46c0-8e3c-257c83502a0a\",                        [{\"alignmentgroup\":\"True\",\"hovertemplate\":\"SEXO=F\\u003cbr\\u003eCategoría Salarial=%{x}\\u003cbr\\u003eFrecuencia=%{y}\\u003cextra\\u003e\\u003c\\u002fextra\\u003e\",\"legendgroup\":\"F\",\"marker\":{\"color\":\"#636efa\",\"pattern\":{\"shape\":\"\"}},\"name\":\"F\",\"offsetgroup\":\"F\",\"orientation\":\"v\",\"showlegend\":true,\"textposition\":\"auto\",\"x\":[\"DNO\",\"DO\",\"E3\",\"E4\",\"SL1\"],\"xaxis\":\"x\",\"y\":[71,583,32,16,5],\"yaxis\":\"y\",\"type\":\"bar\"},{\"alignmentgroup\":\"True\",\"hovertemplate\":\"SEXO=M\\u003cbr\\u003eCategoría Salarial=%{x}\\u003cbr\\u003eFrecuencia=%{y}\\u003cextra\\u003e\\u003c\\u002fextra\\u003e\",\"legendgroup\":\"M\",\"marker\":{\"color\":\"#EF553B\",\"pattern\":{\"shape\":\"\"}},\"name\":\"M\",\"offsetgroup\":\"M\",\"orientation\":\"v\",\"showlegend\":true,\"textposition\":\"auto\",\"x\":[\"DNO\",\"DO\",\"E3\",\"E4\",\"SL1\"],\"xaxis\":\"x\",\"y\":[291,296,65,33,8],\"yaxis\":\"y\",\"type\":\"bar\"}],                        {\"template\":{\"data\":{\"histogram2dcontour\":[{\"type\":\"histogram2dcontour\",\"colorbar\":{\"outlinewidth\":0,\"ticks\":\"\"},\"colorscale\":[[0.0,\"#0d0887\"],[0.1111111111111111,\"#46039f\"],[0.2222222222222222,\"#7201a8\"],[0.3333333333333333,\"#9c179e\"],[0.4444444444444444,\"#bd3786\"],[0.5555555555555556,\"#d8576b\"],[0.6666666666666666,\"#ed7953\"],[0.7777777777777778,\"#fb9f3a\"],[0.8888888888888888,\"#fdca26\"],[1.0,\"#f0f921\"]]}],\"choropleth\":[{\"type\":\"choropleth\",\"colorbar\":{\"outlinewidth\":0,\"ticks\":\"\"}}],\"histogram2d\":[{\"type\":\"histogram2d\",\"colorbar\":{\"outlinewidth\":0,\"ticks\":\"\"},\"colorscale\":[[0.0,\"#0d0887\"],[0.1111111111111111,\"#46039f\"],[0.2222222222222222,\"#7201a8\"],[0.3333333333333333,\"#9c179e\"],[0.4444444444444444,\"#bd3786\"],[0.5555555555555556,\"#d8576b\"],[0.6666666666666666,\"#ed7953\"],[0.7777777777777778,\"#fb9f3a\"],[0.8888888888888888,\"#fdca26\"],[1.0,\"#f0f921\"]]}],\"heatmap\":[{\"type\":\"heatmap\",\"colorbar\":{\"outlinewidth\":0,\"ticks\":\"\"},\"colorscale\":[[0.0,\"#0d0887\"],[0.1111111111111111,\"#46039f\"],[0.2222222222222222,\"#7201a8\"],[0.3333333333333333,\"#9c179e\"],[0.4444444444444444,\"#bd3786\"],[0.5555555555555556,\"#d8576b\"],[0.6666666666666666,\"#ed7953\"],[0.7777777777777778,\"#fb9f3a\"],[0.8888888888888888,\"#fdca26\"],[1.0,\"#f0f921\"]]}],\"heatmapgl\":[{\"type\":\"heatmapgl\",\"colorbar\":{\"outlinewidth\":0,\"ticks\":\"\"},\"colorscale\":[[0.0,\"#0d0887\"],[0.1111111111111111,\"#46039f\"],[0.2222222222222222,\"#7201a8\"],[0.3333333333333333,\"#9c179e\"],[0.4444444444444444,\"#bd3786\"],[0.5555555555555556,\"#d8576b\"],[0.6666666666666666,\"#ed7953\"],[0.7777777777777778,\"#fb9f3a\"],[0.8888888888888888,\"#fdca26\"],[1.0,\"#f0f921\"]]}],\"contourcarpet\":[{\"type\":\"contourcarpet\",\"colorbar\":{\"outlinewidth\":0,\"ticks\":\"\"}}],\"contour\":[{\"type\":\"contour\",\"colorbar\":{\"outlinewidth\":0,\"ticks\":\"\"},\"colorscale\":[[0.0,\"#0d0887\"],[0.1111111111111111,\"#46039f\"],[0.2222222222222222,\"#7201a8\"],[0.3333333333333333,\"#9c179e\"],[0.4444444444444444,\"#bd3786\"],[0.5555555555555556,\"#d8576b\"],[0.6666666666666666,\"#ed7953\"],[0.7777777777777778,\"#fb9f3a\"],[0.8888888888888888,\"#fdca26\"],[1.0,\"#f0f921\"]]}],\"surface\":[{\"type\":\"surface\",\"colorbar\":{\"outlinewidth\":0,\"ticks\":\"\"},\"colorscale\":[[0.0,\"#0d0887\"],[0.1111111111111111,\"#46039f\"],[0.2222222222222222,\"#7201a8\"],[0.3333333333333333,\"#9c179e\"],[0.4444444444444444,\"#bd3786\"],[0.5555555555555556,\"#d8576b\"],[0.6666666666666666,\"#ed7953\"],[0.7777777777777778,\"#fb9f3a\"],[0.8888888888888888,\"#fdca26\"],[1.0,\"#f0f921\"]]}],\"mesh3d\":[{\"type\":\"mesh3d\",\"colorbar\":{\"outlinewidth\":0,\"ticks\":\"\"}}],\"scatter\":[{\"fillpattern\":{\"fillmode\":\"overlay\",\"size\":10,\"solidity\":0.2},\"type\":\"scatter\"}],\"parcoords\":[{\"type\":\"parcoords\",\"line\":{\"colorbar\":{\"outlinewidth\":0,\"ticks\":\"\"}}}],\"scatterpolargl\":[{\"type\":\"scatterpolargl\",\"marker\":{\"colorbar\":{\"outlinewidth\":0,\"ticks\":\"\"}}}],\"bar\":[{\"error_x\":{\"color\":\"#2a3f5f\"},\"error_y\":{\"color\":\"#2a3f5f\"},\"marker\":{\"line\":{\"color\":\"#E5ECF6\",\"width\":0.5},\"pattern\":{\"fillmode\":\"overlay\",\"size\":10,\"solidity\":0.2}},\"type\":\"bar\"}],\"scattergeo\":[{\"type\":\"scattergeo\",\"marker\":{\"colorbar\":{\"outlinewidth\":0,\"ticks\":\"\"}}}],\"scatterpolar\":[{\"type\":\"scatterpolar\",\"marker\":{\"colorbar\":{\"outlinewidth\":0,\"ticks\":\"\"}}}],\"histogram\":[{\"marker\":{\"pattern\":{\"fillmode\":\"overlay\",\"size\":10,\"solidity\":0.2}},\"type\":\"histogram\"}],\"scattergl\":[{\"type\":\"scattergl\",\"marker\":{\"colorbar\":{\"outlinewidth\":0,\"ticks\":\"\"}}}],\"scatter3d\":[{\"type\":\"scatter3d\",\"line\":{\"colorbar\":{\"outlinewidth\":0,\"ticks\":\"\"}},\"marker\":{\"colorbar\":{\"outlinewidth\":0,\"ticks\":\"\"}}}],\"scattermapbox\":[{\"type\":\"scattermapbox\",\"marker\":{\"colorbar\":{\"outlinewidth\":0,\"ticks\":\"\"}}}],\"scatterternary\":[{\"type\":\"scatterternary\",\"marker\":{\"colorbar\":{\"outlinewidth\":0,\"ticks\":\"\"}}}],\"scattercarpet\":[{\"type\":\"scattercarpet\",\"marker\":{\"colorbar\":{\"outlinewidth\":0,\"ticks\":\"\"}}}],\"carpet\":[{\"aaxis\":{\"endlinecolor\":\"#2a3f5f\",\"gridcolor\":\"white\",\"linecolor\":\"white\",\"minorgridcolor\":\"white\",\"startlinecolor\":\"#2a3f5f\"},\"baxis\":{\"endlinecolor\":\"#2a3f5f\",\"gridcolor\":\"white\",\"linecolor\":\"white\",\"minorgridcolor\":\"white\",\"startlinecolor\":\"#2a3f5f\"},\"type\":\"carpet\"}],\"table\":[{\"cells\":{\"fill\":{\"color\":\"#EBF0F8\"},\"line\":{\"color\":\"white\"}},\"header\":{\"fill\":{\"color\":\"#C8D4E3\"},\"line\":{\"color\":\"white\"}},\"type\":\"table\"}],\"barpolar\":[{\"marker\":{\"line\":{\"color\":\"#E5ECF6\",\"width\":0.5},\"pattern\":{\"fillmode\":\"overlay\",\"size\":10,\"solidity\":0.2}},\"type\":\"barpolar\"}],\"pie\":[{\"automargin\":true,\"type\":\"pie\"}]},\"layout\":{\"autotypenumbers\":\"strict\",\"colorway\":[\"#636efa\",\"#EF553B\",\"#00cc96\",\"#ab63fa\",\"#FFA15A\",\"#19d3f3\",\"#FF6692\",\"#B6E880\",\"#FF97FF\",\"#FECB52\"],\"font\":{\"color\":\"#2a3f5f\"},\"hovermode\":\"closest\",\"hoverlabel\":{\"align\":\"left\"},\"paper_bgcolor\":\"white\",\"plot_bgcolor\":\"#E5ECF6\",\"polar\":{\"bgcolor\":\"#E5ECF6\",\"angularaxis\":{\"gridcolor\":\"white\",\"linecolor\":\"white\",\"ticks\":\"\"},\"radialaxis\":{\"gridcolor\":\"white\",\"linecolor\":\"white\",\"ticks\":\"\"}},\"ternary\":{\"bgcolor\":\"#E5ECF6\",\"aaxis\":{\"gridcolor\":\"white\",\"linecolor\":\"white\",\"ticks\":\"\"},\"baxis\":{\"gridcolor\":\"white\",\"linecolor\":\"white\",\"ticks\":\"\"},\"caxis\":{\"gridcolor\":\"white\",\"linecolor\":\"white\",\"ticks\":\"\"}},\"coloraxis\":{\"colorbar\":{\"outlinewidth\":0,\"ticks\":\"\"}},\"colorscale\":{\"sequential\":[[0.0,\"#0d0887\"],[0.1111111111111111,\"#46039f\"],[0.2222222222222222,\"#7201a8\"],[0.3333333333333333,\"#9c179e\"],[0.4444444444444444,\"#bd3786\"],[0.5555555555555556,\"#d8576b\"],[0.6666666666666666,\"#ed7953\"],[0.7777777777777778,\"#fb9f3a\"],[0.8888888888888888,\"#fdca26\"],[1.0,\"#f0f921\"]],\"sequentialminus\":[[0.0,\"#0d0887\"],[0.1111111111111111,\"#46039f\"],[0.2222222222222222,\"#7201a8\"],[0.3333333333333333,\"#9c179e\"],[0.4444444444444444,\"#bd3786\"],[0.5555555555555556,\"#d8576b\"],[0.6666666666666666,\"#ed7953\"],[0.7777777777777778,\"#fb9f3a\"],[0.8888888888888888,\"#fdca26\"],[1.0,\"#f0f921\"]],\"diverging\":[[0,\"#8e0152\"],[0.1,\"#c51b7d\"],[0.2,\"#de77ae\"],[0.3,\"#f1b6da\"],[0.4,\"#fde0ef\"],[0.5,\"#f7f7f7\"],[0.6,\"#e6f5d0\"],[0.7,\"#b8e186\"],[0.8,\"#7fbc41\"],[0.9,\"#4d9221\"],[1,\"#276419\"]]},\"xaxis\":{\"gridcolor\":\"white\",\"linecolor\":\"white\",\"ticks\":\"\",\"title\":{\"standoff\":15},\"zerolinecolor\":\"white\",\"automargin\":true,\"zerolinewidth\":2},\"yaxis\":{\"gridcolor\":\"white\",\"linecolor\":\"white\",\"ticks\":\"\",\"title\":{\"standoff\":15},\"zerolinecolor\":\"white\",\"automargin\":true,\"zerolinewidth\":2},\"scene\":{\"xaxis\":{\"backgroundcolor\":\"#E5ECF6\",\"gridcolor\":\"white\",\"linecolor\":\"white\",\"showbackground\":true,\"ticks\":\"\",\"zerolinecolor\":\"white\",\"gridwidth\":2},\"yaxis\":{\"backgroundcolor\":\"#E5ECF6\",\"gridcolor\":\"white\",\"linecolor\":\"white\",\"showbackground\":true,\"ticks\":\"\",\"zerolinecolor\":\"white\",\"gridwidth\":2},\"zaxis\":{\"backgroundcolor\":\"#E5ECF6\",\"gridcolor\":\"white\",\"linecolor\":\"white\",\"showbackground\":true,\"ticks\":\"\",\"zerolinecolor\":\"white\",\"gridwidth\":2}},\"shapedefaults\":{\"line\":{\"color\":\"#2a3f5f\"}},\"annotationdefaults\":{\"arrowcolor\":\"#2a3f5f\",\"arrowhead\":0,\"arrowwidth\":1},\"geo\":{\"bgcolor\":\"white\",\"landcolor\":\"#E5ECF6\",\"subunitcolor\":\"white\",\"showland\":true,\"showlakes\":true,\"lakecolor\":\"white\"},\"title\":{\"x\":0.05},\"mapbox\":{\"style\":\"light\"}}},\"xaxis\":{\"anchor\":\"y\",\"domain\":[0.0,1.0],\"title\":{\"text\":\"Categoría Salarial\"}},\"yaxis\":{\"anchor\":\"x\",\"domain\":[0.0,1.0],\"title\":{\"text\":\"Frecuencia\"}},\"legend\":{\"title\":{\"text\":\"SEXO\"},\"tracegroupgap\":0},\"title\":{\"text\":\"Distribución de Categorías Salariales por Género\"},\"barmode\":\"group\"},                        {\"responsive\": true}                    ).then(function(){\n",
       "                            \n",
       "var gd = document.getElementById('d832accb-78bb-46c0-8e3c-257c83502a0a');\n",
       "var x = new MutationObserver(function (mutations, observer) {{\n",
       "        var display = window.getComputedStyle(gd).display;\n",
       "        if (!display || display === 'none') {{\n",
       "            console.log([gd, 'removed!']);\n",
       "            Plotly.purge(gd);\n",
       "            observer.disconnect();\n",
       "        }}\n",
       "}});\n",
       "\n",
       "// Listen for the removal of the full notebook cells\n",
       "var notebookContainer = gd.closest('#notebook-container');\n",
       "if (notebookContainer) {{\n",
       "    x.observe(notebookContainer, {childList: true});\n",
       "}}\n",
       "\n",
       "// Listen for the clearing of the current output cell\n",
       "var outputEl = gd.closest('.output');\n",
       "if (outputEl) {{\n",
       "    x.observe(outputEl, {childList: true});\n",
       "}}\n",
       "\n",
       "                        })                };                });            </script>        </div>"
      ]
     },
     "metadata": {},
     "output_type": "display_data"
    },
    {
     "data": {
      "application/vnd.plotly.v1+json": {
       "config": {
        "plotlyServerURL": "https://plot.ly"
       },
       "data": [
        {
         "alignmentgroup": "True",
         "hovertemplate": "SEXO=F<br>Frecuencia=%{x}<br>Categoría de Área=%{y}<extra></extra>",
         "legendgroup": "F",
         "marker": {
          "color": "#636efa",
          "pattern": {
           "shape": ""
          }
         },
         "name": "F",
         "offsetgroup": "F",
         "orientation": "h",
         "showlegend": true,
         "textposition": "auto",
         "type": "bar",
         "x": [
          1,
          1,
          4,
          1,
          8,
          3,
          16,
          147,
          9,
          30,
          77,
          20,
          27,
          72,
          99,
          193
         ],
         "xaxis": "x",
         "y": [
          "Admin MSE1",
          "Admin MSE2",
          "CTG",
          "DBE",
          "HRL",
          "HSE",
          "LOG",
          "MFS",
          "QMM",
          "TEF",
          "VS1",
          "VS1-HOUS",
          "VS4",
          "VS5",
          "VS7",
          "VS9-ABS"
         ],
         "yaxis": "y"
        },
        {
         "alignmentgroup": "True",
         "hovertemplate": "SEXO=M<br>Frecuencia=%{x}<br>Categoría de Área=%{y}<extra></extra>",
         "legendgroup": "M",
         "marker": {
          "color": "#EF553B",
          "pattern": {
           "shape": ""
          }
         },
         "name": "M",
         "offsetgroup": "M",
         "orientation": "h",
         "showlegend": true,
         "textposition": "auto",
         "type": "bar",
         "x": [
          1,
          4,
          4,
          2,
          2,
          81,
          139,
          10,
          58,
          45,
          7,
          61,
          60,
          93,
          126
         ],
         "xaxis": "x",
         "y": [
          "Admin MSE2",
          "CTG",
          "DBE",
          "HRL",
          "HSE",
          "LOG",
          "MFS",
          "QMM",
          "TEF",
          "VS1",
          "VS1-HOUS",
          "VS4",
          "VS5",
          "VS7",
          "VS9-ABS"
         ],
         "yaxis": "y"
        }
       ],
       "layout": {
        "barmode": "group",
        "legend": {
         "title": {
          "text": "SEXO"
         },
         "tracegroupgap": 0
        },
        "template": {
         "data": {
          "bar": [
           {
            "error_x": {
             "color": "#2a3f5f"
            },
            "error_y": {
             "color": "#2a3f5f"
            },
            "marker": {
             "line": {
              "color": "#E5ECF6",
              "width": 0.5
             },
             "pattern": {
              "fillmode": "overlay",
              "size": 10,
              "solidity": 0.2
             }
            },
            "type": "bar"
           }
          ],
          "barpolar": [
           {
            "marker": {
             "line": {
              "color": "#E5ECF6",
              "width": 0.5
             },
             "pattern": {
              "fillmode": "overlay",
              "size": 10,
              "solidity": 0.2
             }
            },
            "type": "barpolar"
           }
          ],
          "carpet": [
           {
            "aaxis": {
             "endlinecolor": "#2a3f5f",
             "gridcolor": "white",
             "linecolor": "white",
             "minorgridcolor": "white",
             "startlinecolor": "#2a3f5f"
            },
            "baxis": {
             "endlinecolor": "#2a3f5f",
             "gridcolor": "white",
             "linecolor": "white",
             "minorgridcolor": "white",
             "startlinecolor": "#2a3f5f"
            },
            "type": "carpet"
           }
          ],
          "choropleth": [
           {
            "colorbar": {
             "outlinewidth": 0,
             "ticks": ""
            },
            "type": "choropleth"
           }
          ],
          "contour": [
           {
            "colorbar": {
             "outlinewidth": 0,
             "ticks": ""
            },
            "colorscale": [
             [
              0,
              "#0d0887"
             ],
             [
              0.1111111111111111,
              "#46039f"
             ],
             [
              0.2222222222222222,
              "#7201a8"
             ],
             [
              0.3333333333333333,
              "#9c179e"
             ],
             [
              0.4444444444444444,
              "#bd3786"
             ],
             [
              0.5555555555555556,
              "#d8576b"
             ],
             [
              0.6666666666666666,
              "#ed7953"
             ],
             [
              0.7777777777777778,
              "#fb9f3a"
             ],
             [
              0.8888888888888888,
              "#fdca26"
             ],
             [
              1,
              "#f0f921"
             ]
            ],
            "type": "contour"
           }
          ],
          "contourcarpet": [
           {
            "colorbar": {
             "outlinewidth": 0,
             "ticks": ""
            },
            "type": "contourcarpet"
           }
          ],
          "heatmap": [
           {
            "colorbar": {
             "outlinewidth": 0,
             "ticks": ""
            },
            "colorscale": [
             [
              0,
              "#0d0887"
             ],
             [
              0.1111111111111111,
              "#46039f"
             ],
             [
              0.2222222222222222,
              "#7201a8"
             ],
             [
              0.3333333333333333,
              "#9c179e"
             ],
             [
              0.4444444444444444,
              "#bd3786"
             ],
             [
              0.5555555555555556,
              "#d8576b"
             ],
             [
              0.6666666666666666,
              "#ed7953"
             ],
             [
              0.7777777777777778,
              "#fb9f3a"
             ],
             [
              0.8888888888888888,
              "#fdca26"
             ],
             [
              1,
              "#f0f921"
             ]
            ],
            "type": "heatmap"
           }
          ],
          "heatmapgl": [
           {
            "colorbar": {
             "outlinewidth": 0,
             "ticks": ""
            },
            "colorscale": [
             [
              0,
              "#0d0887"
             ],
             [
              0.1111111111111111,
              "#46039f"
             ],
             [
              0.2222222222222222,
              "#7201a8"
             ],
             [
              0.3333333333333333,
              "#9c179e"
             ],
             [
              0.4444444444444444,
              "#bd3786"
             ],
             [
              0.5555555555555556,
              "#d8576b"
             ],
             [
              0.6666666666666666,
              "#ed7953"
             ],
             [
              0.7777777777777778,
              "#fb9f3a"
             ],
             [
              0.8888888888888888,
              "#fdca26"
             ],
             [
              1,
              "#f0f921"
             ]
            ],
            "type": "heatmapgl"
           }
          ],
          "histogram": [
           {
            "marker": {
             "pattern": {
              "fillmode": "overlay",
              "size": 10,
              "solidity": 0.2
             }
            },
            "type": "histogram"
           }
          ],
          "histogram2d": [
           {
            "colorbar": {
             "outlinewidth": 0,
             "ticks": ""
            },
            "colorscale": [
             [
              0,
              "#0d0887"
             ],
             [
              0.1111111111111111,
              "#46039f"
             ],
             [
              0.2222222222222222,
              "#7201a8"
             ],
             [
              0.3333333333333333,
              "#9c179e"
             ],
             [
              0.4444444444444444,
              "#bd3786"
             ],
             [
              0.5555555555555556,
              "#d8576b"
             ],
             [
              0.6666666666666666,
              "#ed7953"
             ],
             [
              0.7777777777777778,
              "#fb9f3a"
             ],
             [
              0.8888888888888888,
              "#fdca26"
             ],
             [
              1,
              "#f0f921"
             ]
            ],
            "type": "histogram2d"
           }
          ],
          "histogram2dcontour": [
           {
            "colorbar": {
             "outlinewidth": 0,
             "ticks": ""
            },
            "colorscale": [
             [
              0,
              "#0d0887"
             ],
             [
              0.1111111111111111,
              "#46039f"
             ],
             [
              0.2222222222222222,
              "#7201a8"
             ],
             [
              0.3333333333333333,
              "#9c179e"
             ],
             [
              0.4444444444444444,
              "#bd3786"
             ],
             [
              0.5555555555555556,
              "#d8576b"
             ],
             [
              0.6666666666666666,
              "#ed7953"
             ],
             [
              0.7777777777777778,
              "#fb9f3a"
             ],
             [
              0.8888888888888888,
              "#fdca26"
             ],
             [
              1,
              "#f0f921"
             ]
            ],
            "type": "histogram2dcontour"
           }
          ],
          "mesh3d": [
           {
            "colorbar": {
             "outlinewidth": 0,
             "ticks": ""
            },
            "type": "mesh3d"
           }
          ],
          "parcoords": [
           {
            "line": {
             "colorbar": {
              "outlinewidth": 0,
              "ticks": ""
             }
            },
            "type": "parcoords"
           }
          ],
          "pie": [
           {
            "automargin": true,
            "type": "pie"
           }
          ],
          "scatter": [
           {
            "fillpattern": {
             "fillmode": "overlay",
             "size": 10,
             "solidity": 0.2
            },
            "type": "scatter"
           }
          ],
          "scatter3d": [
           {
            "line": {
             "colorbar": {
              "outlinewidth": 0,
              "ticks": ""
             }
            },
            "marker": {
             "colorbar": {
              "outlinewidth": 0,
              "ticks": ""
             }
            },
            "type": "scatter3d"
           }
          ],
          "scattercarpet": [
           {
            "marker": {
             "colorbar": {
              "outlinewidth": 0,
              "ticks": ""
             }
            },
            "type": "scattercarpet"
           }
          ],
          "scattergeo": [
           {
            "marker": {
             "colorbar": {
              "outlinewidth": 0,
              "ticks": ""
             }
            },
            "type": "scattergeo"
           }
          ],
          "scattergl": [
           {
            "marker": {
             "colorbar": {
              "outlinewidth": 0,
              "ticks": ""
             }
            },
            "type": "scattergl"
           }
          ],
          "scattermapbox": [
           {
            "marker": {
             "colorbar": {
              "outlinewidth": 0,
              "ticks": ""
             }
            },
            "type": "scattermapbox"
           }
          ],
          "scatterpolar": [
           {
            "marker": {
             "colorbar": {
              "outlinewidth": 0,
              "ticks": ""
             }
            },
            "type": "scatterpolar"
           }
          ],
          "scatterpolargl": [
           {
            "marker": {
             "colorbar": {
              "outlinewidth": 0,
              "ticks": ""
             }
            },
            "type": "scatterpolargl"
           }
          ],
          "scatterternary": [
           {
            "marker": {
             "colorbar": {
              "outlinewidth": 0,
              "ticks": ""
             }
            },
            "type": "scatterternary"
           }
          ],
          "surface": [
           {
            "colorbar": {
             "outlinewidth": 0,
             "ticks": ""
            },
            "colorscale": [
             [
              0,
              "#0d0887"
             ],
             [
              0.1111111111111111,
              "#46039f"
             ],
             [
              0.2222222222222222,
              "#7201a8"
             ],
             [
              0.3333333333333333,
              "#9c179e"
             ],
             [
              0.4444444444444444,
              "#bd3786"
             ],
             [
              0.5555555555555556,
              "#d8576b"
             ],
             [
              0.6666666666666666,
              "#ed7953"
             ],
             [
              0.7777777777777778,
              "#fb9f3a"
             ],
             [
              0.8888888888888888,
              "#fdca26"
             ],
             [
              1,
              "#f0f921"
             ]
            ],
            "type": "surface"
           }
          ],
          "table": [
           {
            "cells": {
             "fill": {
              "color": "#EBF0F8"
             },
             "line": {
              "color": "white"
             }
            },
            "header": {
             "fill": {
              "color": "#C8D4E3"
             },
             "line": {
              "color": "white"
             }
            },
            "type": "table"
           }
          ]
         },
         "layout": {
          "annotationdefaults": {
           "arrowcolor": "#2a3f5f",
           "arrowhead": 0,
           "arrowwidth": 1
          },
          "autotypenumbers": "strict",
          "coloraxis": {
           "colorbar": {
            "outlinewidth": 0,
            "ticks": ""
           }
          },
          "colorscale": {
           "diverging": [
            [
             0,
             "#8e0152"
            ],
            [
             0.1,
             "#c51b7d"
            ],
            [
             0.2,
             "#de77ae"
            ],
            [
             0.3,
             "#f1b6da"
            ],
            [
             0.4,
             "#fde0ef"
            ],
            [
             0.5,
             "#f7f7f7"
            ],
            [
             0.6,
             "#e6f5d0"
            ],
            [
             0.7,
             "#b8e186"
            ],
            [
             0.8,
             "#7fbc41"
            ],
            [
             0.9,
             "#4d9221"
            ],
            [
             1,
             "#276419"
            ]
           ],
           "sequential": [
            [
             0,
             "#0d0887"
            ],
            [
             0.1111111111111111,
             "#46039f"
            ],
            [
             0.2222222222222222,
             "#7201a8"
            ],
            [
             0.3333333333333333,
             "#9c179e"
            ],
            [
             0.4444444444444444,
             "#bd3786"
            ],
            [
             0.5555555555555556,
             "#d8576b"
            ],
            [
             0.6666666666666666,
             "#ed7953"
            ],
            [
             0.7777777777777778,
             "#fb9f3a"
            ],
            [
             0.8888888888888888,
             "#fdca26"
            ],
            [
             1,
             "#f0f921"
            ]
           ],
           "sequentialminus": [
            [
             0,
             "#0d0887"
            ],
            [
             0.1111111111111111,
             "#46039f"
            ],
            [
             0.2222222222222222,
             "#7201a8"
            ],
            [
             0.3333333333333333,
             "#9c179e"
            ],
            [
             0.4444444444444444,
             "#bd3786"
            ],
            [
             0.5555555555555556,
             "#d8576b"
            ],
            [
             0.6666666666666666,
             "#ed7953"
            ],
            [
             0.7777777777777778,
             "#fb9f3a"
            ],
            [
             0.8888888888888888,
             "#fdca26"
            ],
            [
             1,
             "#f0f921"
            ]
           ]
          },
          "colorway": [
           "#636efa",
           "#EF553B",
           "#00cc96",
           "#ab63fa",
           "#FFA15A",
           "#19d3f3",
           "#FF6692",
           "#B6E880",
           "#FF97FF",
           "#FECB52"
          ],
          "font": {
           "color": "#2a3f5f"
          },
          "geo": {
           "bgcolor": "white",
           "lakecolor": "white",
           "landcolor": "#E5ECF6",
           "showlakes": true,
           "showland": true,
           "subunitcolor": "white"
          },
          "hoverlabel": {
           "align": "left"
          },
          "hovermode": "closest",
          "mapbox": {
           "style": "light"
          },
          "paper_bgcolor": "white",
          "plot_bgcolor": "#E5ECF6",
          "polar": {
           "angularaxis": {
            "gridcolor": "white",
            "linecolor": "white",
            "ticks": ""
           },
           "bgcolor": "#E5ECF6",
           "radialaxis": {
            "gridcolor": "white",
            "linecolor": "white",
            "ticks": ""
           }
          },
          "scene": {
           "xaxis": {
            "backgroundcolor": "#E5ECF6",
            "gridcolor": "white",
            "gridwidth": 2,
            "linecolor": "white",
            "showbackground": true,
            "ticks": "",
            "zerolinecolor": "white"
           },
           "yaxis": {
            "backgroundcolor": "#E5ECF6",
            "gridcolor": "white",
            "gridwidth": 2,
            "linecolor": "white",
            "showbackground": true,
            "ticks": "",
            "zerolinecolor": "white"
           },
           "zaxis": {
            "backgroundcolor": "#E5ECF6",
            "gridcolor": "white",
            "gridwidth": 2,
            "linecolor": "white",
            "showbackground": true,
            "ticks": "",
            "zerolinecolor": "white"
           }
          },
          "shapedefaults": {
           "line": {
            "color": "#2a3f5f"
           }
          },
          "ternary": {
           "aaxis": {
            "gridcolor": "white",
            "linecolor": "white",
            "ticks": ""
           },
           "baxis": {
            "gridcolor": "white",
            "linecolor": "white",
            "ticks": ""
           },
           "bgcolor": "#E5ECF6",
           "caxis": {
            "gridcolor": "white",
            "linecolor": "white",
            "ticks": ""
           }
          },
          "title": {
           "x": 0.05
          },
          "xaxis": {
           "automargin": true,
           "gridcolor": "white",
           "linecolor": "white",
           "ticks": "",
           "title": {
            "standoff": 15
           },
           "zerolinecolor": "white",
           "zerolinewidth": 2
          },
          "yaxis": {
           "automargin": true,
           "gridcolor": "white",
           "linecolor": "white",
           "ticks": "",
           "title": {
            "standoff": 15
           },
           "zerolinecolor": "white",
           "zerolinewidth": 2
          }
         }
        },
        "title": {
         "text": "Distribución de Categorías de Áreas por Género"
        },
        "xaxis": {
         "anchor": "y",
         "domain": [
          0,
          1
         ],
         "title": {
          "text": "Frecuencia"
         }
        },
        "yaxis": {
         "anchor": "x",
         "domain": [
          0,
          1
         ],
         "title": {
          "text": "Categoría de Área"
         }
        }
       }
      },
      "text/html": [
       "<div>                            <div id=\"3a750a42-c243-4b9d-a2ee-04e82e4fbfcf\" class=\"plotly-graph-div\" style=\"height:525px; width:100%;\"></div>            <script type=\"text/javascript\">                require([\"plotly\"], function(Plotly) {                    window.PLOTLYENV=window.PLOTLYENV || {};                                    if (document.getElementById(\"3a750a42-c243-4b9d-a2ee-04e82e4fbfcf\")) {                    Plotly.newPlot(                        \"3a750a42-c243-4b9d-a2ee-04e82e4fbfcf\",                        [{\"alignmentgroup\":\"True\",\"hovertemplate\":\"SEXO=F\\u003cbr\\u003eFrecuencia=%{x}\\u003cbr\\u003eCategoría de Área=%{y}\\u003cextra\\u003e\\u003c\\u002fextra\\u003e\",\"legendgroup\":\"F\",\"marker\":{\"color\":\"#636efa\",\"pattern\":{\"shape\":\"\"}},\"name\":\"F\",\"offsetgroup\":\"F\",\"orientation\":\"h\",\"showlegend\":true,\"textposition\":\"auto\",\"x\":[1,1,4,1,8,3,16,147,9,30,77,20,27,72,99,193],\"xaxis\":\"x\",\"y\":[\"Admin MSE1\",\"Admin MSE2\",\"CTG\",\"DBE\",\"HRL\",\"HSE\",\"LOG\",\"MFS\",\"QMM\",\"TEF\",\"VS1\",\"VS1-HOUS\",\"VS4\",\"VS5\",\"VS7\",\"VS9-ABS\"],\"yaxis\":\"y\",\"type\":\"bar\"},{\"alignmentgroup\":\"True\",\"hovertemplate\":\"SEXO=M\\u003cbr\\u003eFrecuencia=%{x}\\u003cbr\\u003eCategoría de Área=%{y}\\u003cextra\\u003e\\u003c\\u002fextra\\u003e\",\"legendgroup\":\"M\",\"marker\":{\"color\":\"#EF553B\",\"pattern\":{\"shape\":\"\"}},\"name\":\"M\",\"offsetgroup\":\"M\",\"orientation\":\"h\",\"showlegend\":true,\"textposition\":\"auto\",\"x\":[1,4,4,2,2,81,139,10,58,45,7,61,60,93,126],\"xaxis\":\"x\",\"y\":[\"Admin MSE2\",\"CTG\",\"DBE\",\"HRL\",\"HSE\",\"LOG\",\"MFS\",\"QMM\",\"TEF\",\"VS1\",\"VS1-HOUS\",\"VS4\",\"VS5\",\"VS7\",\"VS9-ABS\"],\"yaxis\":\"y\",\"type\":\"bar\"}],                        {\"template\":{\"data\":{\"histogram2dcontour\":[{\"type\":\"histogram2dcontour\",\"colorbar\":{\"outlinewidth\":0,\"ticks\":\"\"},\"colorscale\":[[0.0,\"#0d0887\"],[0.1111111111111111,\"#46039f\"],[0.2222222222222222,\"#7201a8\"],[0.3333333333333333,\"#9c179e\"],[0.4444444444444444,\"#bd3786\"],[0.5555555555555556,\"#d8576b\"],[0.6666666666666666,\"#ed7953\"],[0.7777777777777778,\"#fb9f3a\"],[0.8888888888888888,\"#fdca26\"],[1.0,\"#f0f921\"]]}],\"choropleth\":[{\"type\":\"choropleth\",\"colorbar\":{\"outlinewidth\":0,\"ticks\":\"\"}}],\"histogram2d\":[{\"type\":\"histogram2d\",\"colorbar\":{\"outlinewidth\":0,\"ticks\":\"\"},\"colorscale\":[[0.0,\"#0d0887\"],[0.1111111111111111,\"#46039f\"],[0.2222222222222222,\"#7201a8\"],[0.3333333333333333,\"#9c179e\"],[0.4444444444444444,\"#bd3786\"],[0.5555555555555556,\"#d8576b\"],[0.6666666666666666,\"#ed7953\"],[0.7777777777777778,\"#fb9f3a\"],[0.8888888888888888,\"#fdca26\"],[1.0,\"#f0f921\"]]}],\"heatmap\":[{\"type\":\"heatmap\",\"colorbar\":{\"outlinewidth\":0,\"ticks\":\"\"},\"colorscale\":[[0.0,\"#0d0887\"],[0.1111111111111111,\"#46039f\"],[0.2222222222222222,\"#7201a8\"],[0.3333333333333333,\"#9c179e\"],[0.4444444444444444,\"#bd3786\"],[0.5555555555555556,\"#d8576b\"],[0.6666666666666666,\"#ed7953\"],[0.7777777777777778,\"#fb9f3a\"],[0.8888888888888888,\"#fdca26\"],[1.0,\"#f0f921\"]]}],\"heatmapgl\":[{\"type\":\"heatmapgl\",\"colorbar\":{\"outlinewidth\":0,\"ticks\":\"\"},\"colorscale\":[[0.0,\"#0d0887\"],[0.1111111111111111,\"#46039f\"],[0.2222222222222222,\"#7201a8\"],[0.3333333333333333,\"#9c179e\"],[0.4444444444444444,\"#bd3786\"],[0.5555555555555556,\"#d8576b\"],[0.6666666666666666,\"#ed7953\"],[0.7777777777777778,\"#fb9f3a\"],[0.8888888888888888,\"#fdca26\"],[1.0,\"#f0f921\"]]}],\"contourcarpet\":[{\"type\":\"contourcarpet\",\"colorbar\":{\"outlinewidth\":0,\"ticks\":\"\"}}],\"contour\":[{\"type\":\"contour\",\"colorbar\":{\"outlinewidth\":0,\"ticks\":\"\"},\"colorscale\":[[0.0,\"#0d0887\"],[0.1111111111111111,\"#46039f\"],[0.2222222222222222,\"#7201a8\"],[0.3333333333333333,\"#9c179e\"],[0.4444444444444444,\"#bd3786\"],[0.5555555555555556,\"#d8576b\"],[0.6666666666666666,\"#ed7953\"],[0.7777777777777778,\"#fb9f3a\"],[0.8888888888888888,\"#fdca26\"],[1.0,\"#f0f921\"]]}],\"surface\":[{\"type\":\"surface\",\"colorbar\":{\"outlinewidth\":0,\"ticks\":\"\"},\"colorscale\":[[0.0,\"#0d0887\"],[0.1111111111111111,\"#46039f\"],[0.2222222222222222,\"#7201a8\"],[0.3333333333333333,\"#9c179e\"],[0.4444444444444444,\"#bd3786\"],[0.5555555555555556,\"#d8576b\"],[0.6666666666666666,\"#ed7953\"],[0.7777777777777778,\"#fb9f3a\"],[0.8888888888888888,\"#fdca26\"],[1.0,\"#f0f921\"]]}],\"mesh3d\":[{\"type\":\"mesh3d\",\"colorbar\":{\"outlinewidth\":0,\"ticks\":\"\"}}],\"scatter\":[{\"fillpattern\":{\"fillmode\":\"overlay\",\"size\":10,\"solidity\":0.2},\"type\":\"scatter\"}],\"parcoords\":[{\"type\":\"parcoords\",\"line\":{\"colorbar\":{\"outlinewidth\":0,\"ticks\":\"\"}}}],\"scatterpolargl\":[{\"type\":\"scatterpolargl\",\"marker\":{\"colorbar\":{\"outlinewidth\":0,\"ticks\":\"\"}}}],\"bar\":[{\"error_x\":{\"color\":\"#2a3f5f\"},\"error_y\":{\"color\":\"#2a3f5f\"},\"marker\":{\"line\":{\"color\":\"#E5ECF6\",\"width\":0.5},\"pattern\":{\"fillmode\":\"overlay\",\"size\":10,\"solidity\":0.2}},\"type\":\"bar\"}],\"scattergeo\":[{\"type\":\"scattergeo\",\"marker\":{\"colorbar\":{\"outlinewidth\":0,\"ticks\":\"\"}}}],\"scatterpolar\":[{\"type\":\"scatterpolar\",\"marker\":{\"colorbar\":{\"outlinewidth\":0,\"ticks\":\"\"}}}],\"histogram\":[{\"marker\":{\"pattern\":{\"fillmode\":\"overlay\",\"size\":10,\"solidity\":0.2}},\"type\":\"histogram\"}],\"scattergl\":[{\"type\":\"scattergl\",\"marker\":{\"colorbar\":{\"outlinewidth\":0,\"ticks\":\"\"}}}],\"scatter3d\":[{\"type\":\"scatter3d\",\"line\":{\"colorbar\":{\"outlinewidth\":0,\"ticks\":\"\"}},\"marker\":{\"colorbar\":{\"outlinewidth\":0,\"ticks\":\"\"}}}],\"scattermapbox\":[{\"type\":\"scattermapbox\",\"marker\":{\"colorbar\":{\"outlinewidth\":0,\"ticks\":\"\"}}}],\"scatterternary\":[{\"type\":\"scatterternary\",\"marker\":{\"colorbar\":{\"outlinewidth\":0,\"ticks\":\"\"}}}],\"scattercarpet\":[{\"type\":\"scattercarpet\",\"marker\":{\"colorbar\":{\"outlinewidth\":0,\"ticks\":\"\"}}}],\"carpet\":[{\"aaxis\":{\"endlinecolor\":\"#2a3f5f\",\"gridcolor\":\"white\",\"linecolor\":\"white\",\"minorgridcolor\":\"white\",\"startlinecolor\":\"#2a3f5f\"},\"baxis\":{\"endlinecolor\":\"#2a3f5f\",\"gridcolor\":\"white\",\"linecolor\":\"white\",\"minorgridcolor\":\"white\",\"startlinecolor\":\"#2a3f5f\"},\"type\":\"carpet\"}],\"table\":[{\"cells\":{\"fill\":{\"color\":\"#EBF0F8\"},\"line\":{\"color\":\"white\"}},\"header\":{\"fill\":{\"color\":\"#C8D4E3\"},\"line\":{\"color\":\"white\"}},\"type\":\"table\"}],\"barpolar\":[{\"marker\":{\"line\":{\"color\":\"#E5ECF6\",\"width\":0.5},\"pattern\":{\"fillmode\":\"overlay\",\"size\":10,\"solidity\":0.2}},\"type\":\"barpolar\"}],\"pie\":[{\"automargin\":true,\"type\":\"pie\"}]},\"layout\":{\"autotypenumbers\":\"strict\",\"colorway\":[\"#636efa\",\"#EF553B\",\"#00cc96\",\"#ab63fa\",\"#FFA15A\",\"#19d3f3\",\"#FF6692\",\"#B6E880\",\"#FF97FF\",\"#FECB52\"],\"font\":{\"color\":\"#2a3f5f\"},\"hovermode\":\"closest\",\"hoverlabel\":{\"align\":\"left\"},\"paper_bgcolor\":\"white\",\"plot_bgcolor\":\"#E5ECF6\",\"polar\":{\"bgcolor\":\"#E5ECF6\",\"angularaxis\":{\"gridcolor\":\"white\",\"linecolor\":\"white\",\"ticks\":\"\"},\"radialaxis\":{\"gridcolor\":\"white\",\"linecolor\":\"white\",\"ticks\":\"\"}},\"ternary\":{\"bgcolor\":\"#E5ECF6\",\"aaxis\":{\"gridcolor\":\"white\",\"linecolor\":\"white\",\"ticks\":\"\"},\"baxis\":{\"gridcolor\":\"white\",\"linecolor\":\"white\",\"ticks\":\"\"},\"caxis\":{\"gridcolor\":\"white\",\"linecolor\":\"white\",\"ticks\":\"\"}},\"coloraxis\":{\"colorbar\":{\"outlinewidth\":0,\"ticks\":\"\"}},\"colorscale\":{\"sequential\":[[0.0,\"#0d0887\"],[0.1111111111111111,\"#46039f\"],[0.2222222222222222,\"#7201a8\"],[0.3333333333333333,\"#9c179e\"],[0.4444444444444444,\"#bd3786\"],[0.5555555555555556,\"#d8576b\"],[0.6666666666666666,\"#ed7953\"],[0.7777777777777778,\"#fb9f3a\"],[0.8888888888888888,\"#fdca26\"],[1.0,\"#f0f921\"]],\"sequentialminus\":[[0.0,\"#0d0887\"],[0.1111111111111111,\"#46039f\"],[0.2222222222222222,\"#7201a8\"],[0.3333333333333333,\"#9c179e\"],[0.4444444444444444,\"#bd3786\"],[0.5555555555555556,\"#d8576b\"],[0.6666666666666666,\"#ed7953\"],[0.7777777777777778,\"#fb9f3a\"],[0.8888888888888888,\"#fdca26\"],[1.0,\"#f0f921\"]],\"diverging\":[[0,\"#8e0152\"],[0.1,\"#c51b7d\"],[0.2,\"#de77ae\"],[0.3,\"#f1b6da\"],[0.4,\"#fde0ef\"],[0.5,\"#f7f7f7\"],[0.6,\"#e6f5d0\"],[0.7,\"#b8e186\"],[0.8,\"#7fbc41\"],[0.9,\"#4d9221\"],[1,\"#276419\"]]},\"xaxis\":{\"gridcolor\":\"white\",\"linecolor\":\"white\",\"ticks\":\"\",\"title\":{\"standoff\":15},\"zerolinecolor\":\"white\",\"automargin\":true,\"zerolinewidth\":2},\"yaxis\":{\"gridcolor\":\"white\",\"linecolor\":\"white\",\"ticks\":\"\",\"title\":{\"standoff\":15},\"zerolinecolor\":\"white\",\"automargin\":true,\"zerolinewidth\":2},\"scene\":{\"xaxis\":{\"backgroundcolor\":\"#E5ECF6\",\"gridcolor\":\"white\",\"linecolor\":\"white\",\"showbackground\":true,\"ticks\":\"\",\"zerolinecolor\":\"white\",\"gridwidth\":2},\"yaxis\":{\"backgroundcolor\":\"#E5ECF6\",\"gridcolor\":\"white\",\"linecolor\":\"white\",\"showbackground\":true,\"ticks\":\"\",\"zerolinecolor\":\"white\",\"gridwidth\":2},\"zaxis\":{\"backgroundcolor\":\"#E5ECF6\",\"gridcolor\":\"white\",\"linecolor\":\"white\",\"showbackground\":true,\"ticks\":\"\",\"zerolinecolor\":\"white\",\"gridwidth\":2}},\"shapedefaults\":{\"line\":{\"color\":\"#2a3f5f\"}},\"annotationdefaults\":{\"arrowcolor\":\"#2a3f5f\",\"arrowhead\":0,\"arrowwidth\":1},\"geo\":{\"bgcolor\":\"white\",\"landcolor\":\"#E5ECF6\",\"subunitcolor\":\"white\",\"showland\":true,\"showlakes\":true,\"lakecolor\":\"white\"},\"title\":{\"x\":0.05},\"mapbox\":{\"style\":\"light\"}}},\"xaxis\":{\"anchor\":\"y\",\"domain\":[0.0,1.0],\"title\":{\"text\":\"Frecuencia\"}},\"yaxis\":{\"anchor\":\"x\",\"domain\":[0.0,1.0],\"title\":{\"text\":\"Categoría de Área\"}},\"legend\":{\"title\":{\"text\":\"SEXO\"},\"tracegroupgap\":0},\"title\":{\"text\":\"Distribución de Categorías de Áreas por Género\"},\"barmode\":\"group\"},                        {\"responsive\": true}                    ).then(function(){\n",
       "                            \n",
       "var gd = document.getElementById('3a750a42-c243-4b9d-a2ee-04e82e4fbfcf');\n",
       "var x = new MutationObserver(function (mutations, observer) {{\n",
       "        var display = window.getComputedStyle(gd).display;\n",
       "        if (!display || display === 'none') {{\n",
       "            console.log([gd, 'removed!']);\n",
       "            Plotly.purge(gd);\n",
       "            observer.disconnect();\n",
       "        }}\n",
       "}});\n",
       "\n",
       "// Listen for the removal of the full notebook cells\n",
       "var notebookContainer = gd.closest('#notebook-container');\n",
       "if (notebookContainer) {{\n",
       "    x.observe(notebookContainer, {childList: true});\n",
       "}}\n",
       "\n",
       "// Listen for the clearing of the current output cell\n",
       "var outputEl = gd.closest('.output');\n",
       "if (outputEl) {{\n",
       "    x.observe(outputEl, {childList: true});\n",
       "}}\n",
       "\n",
       "                        })                };                });            </script>        </div>"
      ]
     },
     "metadata": {},
     "output_type": "display_data"
    },
    {
     "data": {
      "image/png": "[encoded data removed]",
      "text/plain": [
       "<Figure size 1000x600 with 1 Axes>"
      ]
     },
     "metadata": {},
     "output_type": "display_data"
    },
    {
     "data": {
      "application/vnd.plotly.v1+json": {
       "config": {
        "plotlyServerURL": "https://plot.ly"
       },
       "data": [
        {
         "alignmentgroup": "True",
         "hovertemplate": "Género=%{x}<br>Frecuencia=%{y}<extra></extra>",
         "legendgroup": "",
         "marker": {
          "color": "#636efa",
          "pattern": {
           "shape": ""
          }
         },
         "name": "",
         "offsetgroup": "",
         "orientation": "v",
         "showlegend": false,
         "textposition": "auto",
         "type": "bar",
         "x": [
          "F",
          "M"
         ],
         "xaxis": "x",
         "y": [
          708,
          693
         ],
         "yaxis": "y"
        }
       ],
       "layout": {
        "barmode": "relative",
        "legend": {
         "tracegroupgap": 0
        },
        "template": {
         "data": {
          "bar": [
           {
            "error_x": {
             "color": "#2a3f5f"
            },
            "error_y": {
             "color": "#2a3f5f"
            },
            "marker": {
             "line": {
              "color": "#E5ECF6",
              "width": 0.5
             },
             "pattern": {
              "fillmode": "overlay",
              "size": 10,
              "solidity": 0.2
             }
            },
            "type": "bar"
           }
          ],
          "barpolar": [
           {
            "marker": {
             "line": {
              "color": "#E5ECF6",
              "width": 0.5
             },
             "pattern": {
              "fillmode": "overlay",
              "size": 10,
              "solidity": 0.2
             }
            },
            "type": "barpolar"
           }
          ],
          "carpet": [
           {
            "aaxis": {
             "endlinecolor": "#2a3f5f",
             "gridcolor": "white",
             "linecolor": "white",
             "minorgridcolor": "white",
             "startlinecolor": "#2a3f5f"
            },
            "baxis": {
             "endlinecolor": "#2a3f5f",
             "gridcolor": "white",
             "linecolor": "white",
             "minorgridcolor": "white",
             "startlinecolor": "#2a3f5f"
            },
            "type": "carpet"
           }
          ],
          "choropleth": [
           {
            "colorbar": {
             "outlinewidth": 0,
             "ticks": ""
            },
            "type": "choropleth"
           }
          ],
          "contour": [
           {
            "colorbar": {
             "outlinewidth": 0,
             "ticks": ""
            },
            "colorscale": [
             [
              0,
              "#0d0887"
             ],
             [
              0.1111111111111111,
              "#46039f"
             ],
             [
              0.2222222222222222,
              "#7201a8"
             ],
             [
              0.3333333333333333,
              "#9c179e"
             ],
             [
              0.4444444444444444,
              "#bd3786"
             ],
             [
              0.5555555555555556,
              "#d8576b"
             ],
             [
              0.6666666666666666,
              "#ed7953"
             ],
             [
              0.7777777777777778,
              "#fb9f3a"
             ],
             [
              0.8888888888888888,
              "#fdca26"
             ],
             [
              1,
              "#f0f921"
             ]
            ],
            "type": "contour"
           }
          ],
          "contourcarpet": [
           {
            "colorbar": {
             "outlinewidth": 0,
             "ticks": ""
            },
            "type": "contourcarpet"
           }
          ],
          "heatmap": [
           {
            "colorbar": {
             "outlinewidth": 0,
             "ticks": ""
            },
            "colorscale": [
             [
              0,
              "#0d0887"
             ],
             [
              0.1111111111111111,
              "#46039f"
             ],
             [
              0.2222222222222222,
              "#7201a8"
             ],
             [
              0.3333333333333333,
              "#9c179e"
             ],
             [
              0.4444444444444444,
              "#bd3786"
             ],
             [
              0.5555555555555556,
              "#d8576b"
             ],
             [
              0.6666666666666666,
              "#ed7953"
             ],
             [
              0.7777777777777778,
              "#fb9f3a"
             ],
             [
              0.8888888888888888,
              "#fdca26"
             ],
             [
              1,
              "#f0f921"
             ]
            ],
            "type": "heatmap"
           }
          ],
          "heatmapgl": [
           {
            "colorbar": {
             "outlinewidth": 0,
             "ticks": ""
            },
            "colorscale": [
             [
              0,
              "#0d0887"
             ],
             [
              0.1111111111111111,
              "#46039f"
             ],
             [
              0.2222222222222222,
              "#7201a8"
             ],
             [
              0.3333333333333333,
              "#9c179e"
             ],
             [
              0.4444444444444444,
              "#bd3786"
             ],
             [
              0.5555555555555556,
              "#d8576b"
             ],
             [
              0.6666666666666666,
              "#ed7953"
             ],
             [
              0.7777777777777778,
              "#fb9f3a"
             ],
             [
              0.8888888888888888,
              "#fdca26"
             ],
             [
              1,
              "#f0f921"
             ]
            ],
            "type": "heatmapgl"
           }
          ],
          "histogram": [
           {
            "marker": {
             "pattern": {
              "fillmode": "overlay",
              "size": 10,
              "solidity": 0.2
             }
            },
            "type": "histogram"
           }
          ],
          "histogram2d": [
           {
            "colorbar": {
             "outlinewidth": 0,
             "ticks": ""
            },
            "colorscale": [
             [
              0,
              "#0d0887"
             ],
             [
              0.1111111111111111,
              "#46039f"
             ],
             [
              0.2222222222222222,
              "#7201a8"
             ],
             [
              0.3333333333333333,
              "#9c179e"
             ],
             [
              0.4444444444444444,
              "#bd3786"
             ],
             [
              0.5555555555555556,
              "#d8576b"
             ],
             [
              0.6666666666666666,
              "#ed7953"
             ],
             [
              0.7777777777777778,
              "#fb9f3a"
             ],
             [
              0.8888888888888888,
              "#fdca26"
             ],
             [
              1,
              "#f0f921"
             ]
            ],
            "type": "histogram2d"
           }
          ],
          "histogram2dcontour": [
           {
            "colorbar": {
             "outlinewidth": 0,
             "ticks": ""
            },
            "colorscale": [
             [
              0,
              "#0d0887"
             ],
             [
              0.1111111111111111,
              "#46039f"
             ],
             [
              0.2222222222222222,
              "#7201a8"
             ],
             [
              0.3333333333333333,
              "#9c179e"
             ],
             [
              0.4444444444444444,
              "#bd3786"
             ],
             [
              0.5555555555555556,
              "#d8576b"
             ],
             [
              0.6666666666666666,
              "#ed7953"
             ],
             [
              0.7777777777777778,
              "#fb9f3a"
             ],
             [
              0.8888888888888888,
              "#fdca26"
             ],
             [
              1,
              "#f0f921"
             ]
            ],
            "type": "histogram2dcontour"
           }
          ],
          "mesh3d": [
           {
            "colorbar": {
             "outlinewidth": 0,
             "ticks": ""
            },
            "type": "mesh3d"
           }
          ],
          "parcoords": [
           {
            "line": {
             "colorbar": {
              "outlinewidth": 0,
              "ticks": ""
             }
            },
            "type": "parcoords"
           }
          ],
          "pie": [
           {
            "automargin": true,
            "type": "pie"
           }
          ],
          "scatter": [
           {
            "fillpattern": {
             "fillmode": "overlay",
             "size": 10,
             "solidity": 0.2
            },
            "type": "scatter"
           }
          ],
          "scatter3d": [
           {
            "line": {
             "colorbar": {
              "outlinewidth": 0,
              "ticks": ""
             }
            },
            "marker": {
             "colorbar": {
              "outlinewidth": 0,
              "ticks": ""
             }
            },
            "type": "scatter3d"
           }
          ],
          "scattercarpet": [
           {
            "marker": {
             "colorbar": {
              "outlinewidth": 0,
              "ticks": ""
             }
            },
            "type": "scattercarpet"
           }
          ],
          "scattergeo": [
           {
            "marker": {
             "colorbar": {
              "outlinewidth": 0,
              "ticks": ""
             }
            },
            "type": "scattergeo"
           }
          ],
          "scattergl": [
           {
            "marker": {
             "colorbar": {
              "outlinewidth": 0,
              "ticks": ""
             }
            },
            "type": "scattergl"
           }
          ],
          "scattermapbox": [
           {
            "marker": {
             "colorbar": {
              "outlinewidth": 0,
              "ticks": ""
             }
            },
            "type": "scattermapbox"
           }
          ],
          "scatterpolar": [
           {
            "marker": {
             "colorbar": {
              "outlinewidth": 0,
              "ticks": ""
             }
            },
            "type": "scatterpolar"
           }
          ],
          "scatterpolargl": [
           {
            "marker": {
             "colorbar": {
              "outlinewidth": 0,
              "ticks": ""
             }
            },
            "type": "scatterpolargl"
           }
          ],
          "scatterternary": [
           {
            "marker": {
             "colorbar": {
              "outlinewidth": 0,
              "ticks": ""
             }
            },
            "type": "scatterternary"
           }
          ],
          "surface": [
           {
            "colorbar": {
             "outlinewidth": 0,
             "ticks": ""
            },
            "colorscale": [
             [
              0,
              "#0d0887"
             ],
             [
              0.1111111111111111,
              "#46039f"
             ],
             [
              0.2222222222222222,
              "#7201a8"
             ],
             [
              0.3333333333333333,
              "#9c179e"
             ],
             [
              0.4444444444444444,
              "#bd3786"
             ],
             [
              0.5555555555555556,
              "#d8576b"
             ],
             [
              0.6666666666666666,
              "#ed7953"
             ],
             [
              0.7777777777777778,
              "#fb9f3a"
             ],
             [
              0.8888888888888888,
              "#fdca26"
             ],
             [
              1,
              "#f0f921"
             ]
            ],
            "type": "surface"
           }
          ],
          "table": [
           {
            "cells": {
             "fill": {
              "color": "#EBF0F8"
             },
             "line": {
              "color": "white"
             }
            },
            "header": {
             "fill": {
              "color": "#C8D4E3"
             },
             "line": {
              "color": "white"
             }
            },
            "type": "table"
           }
          ]
         },
         "layout": {
          "annotationdefaults": {
           "arrowcolor": "#2a3f5f",
           "arrowhead": 0,
           "arrowwidth": 1
          },
          "autotypenumbers": "strict",
          "coloraxis": {
           "colorbar": {
            "outlinewidth": 0,
            "ticks": ""
           }
          },
          "colorscale": {
           "diverging": [
            [
             0,
             "#8e0152"
            ],
            [
             0.1,
             "#c51b7d"
            ],
            [
             0.2,
             "#de77ae"
            ],
            [
             0.3,
             "#f1b6da"
            ],
            [
             0.4,
             "#fde0ef"
            ],
            [
             0.5,
             "#f7f7f7"
            ],
            [
             0.6,
             "#e6f5d0"
            ],
            [
             0.7,
             "#b8e186"
            ],
            [
             0.8,
             "#7fbc41"
            ],
            [
             0.9,
             "#4d9221"
            ],
            [
             1,
             "#276419"
            ]
           ],
           "sequential": [
            [
             0,
             "#0d0887"
            ],
            [
             0.1111111111111111,
             "#46039f"
            ],
            [
             0.2222222222222222,
             "#7201a8"
            ],
            [
             0.3333333333333333,
             "#9c179e"
            ],
            [
             0.4444444444444444,
             "#bd3786"
            ],
            [
             0.5555555555555556,
             "#d8576b"
            ],
            [
             0.6666666666666666,
             "#ed7953"
            ],
            [
             0.7777777777777778,
             "#fb9f3a"
            ],
            [
             0.8888888888888888,
             "#fdca26"
            ],
            [
             1,
             "#f0f921"
            ]
           ],
           "sequentialminus": [
            [
             0,
             "#0d0887"
            ],
            [
             0.1111111111111111,
             "#46039f"
            ],
            [
             0.2222222222222222,
             "#7201a8"
            ],
            [
             0.3333333333333333,
             "#9c179e"
            ],
            [
             0.4444444444444444,
             "#bd3786"
            ],
            [
             0.5555555555555556,
             "#d8576b"
            ],
            [
             0.6666666666666666,
             "#ed7953"
            ],
            [
             0.7777777777777778,
             "#fb9f3a"
            ],
            [
             0.8888888888888888,
             "#fdca26"
            ],
            [
             1,
             "#f0f921"
            ]
           ]
          },
          "colorway": [
           "#636efa",
           "#EF553B",
           "#00cc96",
           "#ab63fa",
           "#FFA15A",
           "#19d3f3",
           "#FF6692",
           "#B6E880",
           "#FF97FF",
           "#FECB52"
          ],
          "font": {
           "color": "#2a3f5f"
          },
          "geo": {
           "bgcolor": "white",
           "lakecolor": "white",
           "landcolor": "#E5ECF6",
           "showlakes": true,
           "showland": true,
           "subunitcolor": "white"
          },
          "hoverlabel": {
           "align": "left"
          },
          "hovermode": "closest",
          "mapbox": {
           "style": "light"
          },
          "paper_bgcolor": "white",
          "plot_bgcolor": "#E5ECF6",
          "polar": {
           "angularaxis": {
            "gridcolor": "white",
            "linecolor": "white",
            "ticks": ""
           },
           "bgcolor": "#E5ECF6",
           "radialaxis": {
            "gridcolor": "white",
            "linecolor": "white",
            "ticks": ""
           }
          },
          "scene": {
           "xaxis": {
            "backgroundcolor": "#E5ECF6",
            "gridcolor": "white",
            "gridwidth": 2,
            "linecolor": "white",
            "showbackground": true,
            "ticks": "",
            "zerolinecolor": "white"
           },
           "yaxis": {
            "backgroundcolor": "#E5ECF6",
            "gridcolor": "white",
            "gridwidth": 2,
            "linecolor": "white",
            "showbackground": true,
            "ticks": "",
            "zerolinecolor": "white"
           },
           "zaxis": {
            "backgroundcolor": "#E5ECF6",
            "gridcolor": "white",
            "gridwidth": 2,
            "linecolor": "white",
            "showbackground": true,
            "ticks": "",
            "zerolinecolor": "white"
           }
          },
          "shapedefaults": {
           "line": {
            "color": "#2a3f5f"
           }
          },
          "ternary": {
           "aaxis": {
            "gridcolor": "white",
            "linecolor": "white",
            "ticks": ""
           },
           "baxis": {
            "gridcolor": "white",
            "linecolor": "white",
            "ticks": ""
           },
           "bgcolor": "#E5ECF6",
           "caxis": {
            "gridcolor": "white",
            "linecolor": "white",
            "ticks": ""
           }
          },
          "title": {
           "x": 0.05
          },
          "xaxis": {
           "automargin": true,
           "gridcolor": "white",
           "linecolor": "white",
           "ticks": "",
           "title": {
            "standoff": 15
           },
           "zerolinecolor": "white",
           "zerolinewidth": 2
          },
          "yaxis": {
           "automargin": true,
           "gridcolor": "white",
           "linecolor": "white",
           "ticks": "",
           "title": {
            "standoff": 15
           },
           "zerolinecolor": "white",
           "zerolinewidth": 2
          }
         }
        },
        "title": {
         "text": "Distribución por Género"
        },
        "xaxis": {
         "anchor": "y",
         "domain": [
          0,
          1
         ],
         "title": {
          "text": "Género"
         }
        },
        "yaxis": {
         "anchor": "x",
         "domain": [
          0,
          1
         ],
         "title": {
          "text": "Frecuencia"
         }
        }
       }
      },
      "text/html": [
       "<div>                            <div id=\"f065acdb-5c29-4a24-80e8-5e6c9c1efd5c\" class=\"plotly-graph-div\" style=\"height:525px; width:100%;\"></div>            <script type=\"text/javascript\">                require([\"plotly\"], function(Plotly) {                    window.PLOTLYENV=window.PLOTLYENV || {};                                    if (document.getElementById(\"f065acdb-5c29-4a24-80e8-5e6c9c1efd5c\")) {                    Plotly.newPlot(                        \"f065acdb-5c29-4a24-80e8-5e6c9c1efd5c\",                        [{\"alignmentgroup\":\"True\",\"hovertemplate\":\"Género=%{x}\\u003cbr\\u003eFrecuencia=%{y}\\u003cextra\\u003e\\u003c\\u002fextra\\u003e\",\"legendgroup\":\"\",\"marker\":{\"color\":\"#636efa\",\"pattern\":{\"shape\":\"\"}},\"name\":\"\",\"offsetgroup\":\"\",\"orientation\":\"v\",\"showlegend\":false,\"textposition\":\"auto\",\"x\":[\"F\",\"M\"],\"xaxis\":\"x\",\"y\":[708,693],\"yaxis\":\"y\",\"type\":\"bar\"}],                        {\"template\":{\"data\":{\"histogram2dcontour\":[{\"type\":\"histogram2dcontour\",\"colorbar\":{\"outlinewidth\":0,\"ticks\":\"\"},\"colorscale\":[[0.0,\"#0d0887\"],[0.1111111111111111,\"#46039f\"],[0.2222222222222222,\"#7201a8\"],[0.3333333333333333,\"#9c179e\"],[0.4444444444444444,\"#bd3786\"],[0.5555555555555556,\"#d8576b\"],[0.6666666666666666,\"#ed7953\"],[0.7777777777777778,\"#fb9f3a\"],[0.8888888888888888,\"#fdca26\"],[1.0,\"#f0f921\"]]}],\"choropleth\":[{\"type\":\"choropleth\",\"colorbar\":{\"outlinewidth\":0,\"ticks\":\"\"}}],\"histogram2d\":[{\"type\":\"histogram2d\",\"colorbar\":{\"outlinewidth\":0,\"ticks\":\"\"},\"colorscale\":[[0.0,\"#0d0887\"],[0.1111111111111111,\"#46039f\"],[0.2222222222222222,\"#7201a8\"],[0.3333333333333333,\"#9c179e\"],[0.4444444444444444,\"#bd3786\"],[0.5555555555555556,\"#d8576b\"],[0.6666666666666666,\"#ed7953\"],[0.7777777777777778,\"#fb9f3a\"],[0.8888888888888888,\"#fdca26\"],[1.0,\"#f0f921\"]]}],\"heatmap\":[{\"type\":\"heatmap\",\"colorbar\":{\"outlinewidth\":0,\"ticks\":\"\"},\"colorscale\":[[0.0,\"#0d0887\"],[0.1111111111111111,\"#46039f\"],[0.2222222222222222,\"#7201a8\"],[0.3333333333333333,\"#9c179e\"],[0.4444444444444444,\"#bd3786\"],[0.5555555555555556,\"#d8576b\"],[0.6666666666666666,\"#ed7953\"],[0.7777777777777778,\"#fb9f3a\"],[0.8888888888888888,\"#fdca26\"],[1.0,\"#f0f921\"]]}],\"heatmapgl\":[{\"type\":\"heatmapgl\",\"colorbar\":{\"outlinewidth\":0,\"ticks\":\"\"},\"colorscale\":[[0.0,\"#0d0887\"],[0.1111111111111111,\"#46039f\"],[0.2222222222222222,\"#7201a8\"],[0.3333333333333333,\"#9c179e\"],[0.4444444444444444,\"#bd3786\"],[0.5555555555555556,\"#d8576b\"],[0.6666666666666666,\"#ed7953\"],[0.7777777777777778,\"#fb9f3a\"],[0.8888888888888888,\"#fdca26\"],[1.0,\"#f0f921\"]]}],\"contourcarpet\":[{\"type\":\"contourcarpet\",\"colorbar\":{\"outlinewidth\":0,\"ticks\":\"\"}}],\"contour\":[{\"type\":\"contour\",\"colorbar\":{\"outlinewidth\":0,\"ticks\":\"\"},\"colorscale\":[[0.0,\"#0d0887\"],[0.1111111111111111,\"#46039f\"],[0.2222222222222222,\"#7201a8\"],[0.3333333333333333,\"#9c179e\"],[0.4444444444444444,\"#bd3786\"],[0.5555555555555556,\"#d8576b\"],[0.6666666666666666,\"#ed7953\"],[0.7777777777777778,\"#fb9f3a\"],[0.8888888888888888,\"#fdca26\"],[1.0,\"#f0f921\"]]}],\"surface\":[{\"type\":\"surface\",\"colorbar\":{\"outlinewidth\":0,\"ticks\":\"\"},\"colorscale\":[[0.0,\"#0d0887\"],[0.1111111111111111,\"#46039f\"],[0.2222222222222222,\"#7201a8\"],[0.3333333333333333,\"#9c179e\"],[0.4444444444444444,\"#bd3786\"],[0.5555555555555556,\"#d8576b\"],[0.6666666666666666,\"#ed7953\"],[0.7777777777777778,\"#fb9f3a\"],[0.8888888888888888,\"#fdca26\"],[1.0,\"#f0f921\"]]}],\"mesh3d\":[{\"type\":\"mesh3d\",\"colorbar\":{\"outlinewidth\":0,\"ticks\":\"\"}}],\"scatter\":[{\"fillpattern\":{\"fillmode\":\"overlay\",\"size\":10,\"solidity\":0.2},\"type\":\"scatter\"}],\"parcoords\":[{\"type\":\"parcoords\",\"line\":{\"colorbar\":{\"outlinewidth\":0,\"ticks\":\"\"}}}],\"scatterpolargl\":[{\"type\":\"scatterpolargl\",\"marker\":{\"colorbar\":{\"outlinewidth\":0,\"ticks\":\"\"}}}],\"bar\":[{\"error_x\":{\"color\":\"#2a3f5f\"},\"error_y\":{\"color\":\"#2a3f5f\"},\"marker\":{\"line\":{\"color\":\"#E5ECF6\",\"width\":0.5},\"pattern\":{\"fillmode\":\"overlay\",\"size\":10,\"solidity\":0.2}},\"type\":\"bar\"}],\"scattergeo\":[{\"type\":\"scattergeo\",\"marker\":{\"colorbar\":{\"outlinewidth\":0,\"ticks\":\"\"}}}],\"scatterpolar\":[{\"type\":\"scatterpolar\",\"marker\":{\"colorbar\":{\"outlinewidth\":0,\"ticks\":\"\"}}}],\"histogram\":[{\"marker\":{\"pattern\":{\"fillmode\":\"overlay\",\"size\":10,\"solidity\":0.2}},\"type\":\"histogram\"}],\"scattergl\":[{\"type\":\"scattergl\",\"marker\":{\"colorbar\":{\"outlinewidth\":0,\"ticks\":\"\"}}}],\"scatter3d\":[{\"type\":\"scatter3d\",\"line\":{\"colorbar\":{\"outlinewidth\":0,\"ticks\":\"\"}},\"marker\":{\"colorbar\":{\"outlinewidth\":0,\"ticks\":\"\"}}}],\"scattermapbox\":[{\"type\":\"scattermapbox\",\"marker\":{\"colorbar\":{\"outlinewidth\":0,\"ticks\":\"\"}}}],\"scatterternary\":[{\"type\":\"scatterternary\",\"marker\":{\"colorbar\":{\"outlinewidth\":0,\"ticks\":\"\"}}}],\"scattercarpet\":[{\"type\":\"scattercarpet\",\"marker\":{\"colorbar\":{\"outlinewidth\":0,\"ticks\":\"\"}}}],\"carpet\":[{\"aaxis\":{\"endlinecolor\":\"#2a3f5f\",\"gridcolor\":\"white\",\"linecolor\":\"white\",\"minorgridcolor\":\"white\",\"startlinecolor\":\"#2a3f5f\"},\"baxis\":{\"endlinecolor\":\"#2a3f5f\",\"gridcolor\":\"white\",\"linecolor\":\"white\",\"minorgridcolor\":\"white\",\"startlinecolor\":\"#2a3f5f\"},\"type\":\"carpet\"}],\"table\":[{\"cells\":{\"fill\":{\"color\":\"#EBF0F8\"},\"line\":{\"color\":\"white\"}},\"header\":{\"fill\":{\"color\":\"#C8D4E3\"},\"line\":{\"color\":\"white\"}},\"type\":\"table\"}],\"barpolar\":[{\"marker\":{\"line\":{\"color\":\"#E5ECF6\",\"width\":0.5},\"pattern\":{\"fillmode\":\"overlay\",\"size\":10,\"solidity\":0.2}},\"type\":\"barpolar\"}],\"pie\":[{\"automargin\":true,\"type\":\"pie\"}]},\"layout\":{\"autotypenumbers\":\"strict\",\"colorway\":[\"#636efa\",\"#EF553B\",\"#00cc96\",\"#ab63fa\",\"#FFA15A\",\"#19d3f3\",\"#FF6692\",\"#B6E880\",\"#FF97FF\",\"#FECB52\"],\"font\":{\"color\":\"#2a3f5f\"},\"hovermode\":\"closest\",\"hoverlabel\":{\"align\":\"left\"},\"paper_bgcolor\":\"white\",\"plot_bgcolor\":\"#E5ECF6\",\"polar\":{\"bgcolor\":\"#E5ECF6\",\"angularaxis\":{\"gridcolor\":\"white\",\"linecolor\":\"white\",\"ticks\":\"\"},\"radialaxis\":{\"gridcolor\":\"white\",\"linecolor\":\"white\",\"ticks\":\"\"}},\"ternary\":{\"bgcolor\":\"#E5ECF6\",\"aaxis\":{\"gridcolor\":\"white\",\"linecolor\":\"white\",\"ticks\":\"\"},\"baxis\":{\"gridcolor\":\"white\",\"linecolor\":\"white\",\"ticks\":\"\"},\"caxis\":{\"gridcolor\":\"white\",\"linecolor\":\"white\",\"ticks\":\"\"}},\"coloraxis\":{\"colorbar\":{\"outlinewidth\":0,\"ticks\":\"\"}},\"colorscale\":{\"sequential\":[[0.0,\"#0d0887\"],[0.1111111111111111,\"#46039f\"],[0.2222222222222222,\"#7201a8\"],[0.3333333333333333,\"#9c179e\"],[0.4444444444444444,\"#bd3786\"],[0.5555555555555556,\"#d8576b\"],[0.6666666666666666,\"#ed7953\"],[0.7777777777777778,\"#fb9f3a\"],[0.8888888888888888,\"#fdca26\"],[1.0,\"#f0f921\"]],\"sequentialminus\":[[0.0,\"#0d0887\"],[0.1111111111111111,\"#46039f\"],[0.2222222222222222,\"#7201a8\"],[0.3333333333333333,\"#9c179e\"],[0.4444444444444444,\"#bd3786\"],[0.5555555555555556,\"#d8576b\"],[0.6666666666666666,\"#ed7953\"],[0.7777777777777778,\"#fb9f3a\"],[0.8888888888888888,\"#fdca26\"],[1.0,\"#f0f921\"]],\"diverging\":[[0,\"#8e0152\"],[0.1,\"#c51b7d\"],[0.2,\"#de77ae\"],[0.3,\"#f1b6da\"],[0.4,\"#fde0ef\"],[0.5,\"#f7f7f7\"],[0.6,\"#e6f5d0\"],[0.7,\"#b8e186\"],[0.8,\"#7fbc41\"],[0.9,\"#4d9221\"],[1,\"#276419\"]]},\"xaxis\":{\"gridcolor\":\"white\",\"linecolor\":\"white\",\"ticks\":\"\",\"title\":{\"standoff\":15},\"zerolinecolor\":\"white\",\"automargin\":true,\"zerolinewidth\":2},\"yaxis\":{\"gridcolor\":\"white\",\"linecolor\":\"white\",\"ticks\":\"\",\"title\":{\"standoff\":15},\"zerolinecolor\":\"white\",\"automargin\":true,\"zerolinewidth\":2},\"scene\":{\"xaxis\":{\"backgroundcolor\":\"#E5ECF6\",\"gridcolor\":\"white\",\"linecolor\":\"white\",\"showbackground\":true,\"ticks\":\"\",\"zerolinecolor\":\"white\",\"gridwidth\":2},\"yaxis\":{\"backgroundcolor\":\"#E5ECF6\",\"gridcolor\":\"white\",\"linecolor\":\"white\",\"showbackground\":true,\"ticks\":\"\",\"zerolinecolor\":\"white\",\"gridwidth\":2},\"zaxis\":{\"backgroundcolor\":\"#E5ECF6\",\"gridcolor\":\"white\",\"linecolor\":\"white\",\"showbackground\":true,\"ticks\":\"\",\"zerolinecolor\":\"white\",\"gridwidth\":2}},\"shapedefaults\":{\"line\":{\"color\":\"#2a3f5f\"}},\"annotationdefaults\":{\"arrowcolor\":\"#2a3f5f\",\"arrowhead\":0,\"arrowwidth\":1},\"geo\":{\"bgcolor\":\"white\",\"landcolor\":\"#E5ECF6\",\"subunitcolor\":\"white\",\"showland\":true,\"showlakes\":true,\"lakecolor\":\"white\"},\"title\":{\"x\":0.05},\"mapbox\":{\"style\":\"light\"}}},\"xaxis\":{\"anchor\":\"y\",\"domain\":[0.0,1.0],\"title\":{\"text\":\"Género\"}},\"yaxis\":{\"anchor\":\"x\",\"domain\":[0.0,1.0],\"title\":{\"text\":\"Frecuencia\"}},\"legend\":{\"tracegroupgap\":0},\"title\":{\"text\":\"Distribución por Género\"},\"barmode\":\"relative\"},                        {\"responsive\": true}                    ).then(function(){\n",
       "                            \n",
       "var gd = document.getElementById('f065acdb-5c29-4a24-80e8-5e6c9c1efd5c');\n",
       "var x = new MutationObserver(function (mutations, observer) {{\n",
       "        var display = window.getComputedStyle(gd).display;\n",
       "        if (!display || display === 'none') {{\n",
       "            console.log([gd, 'removed!']);\n",
       "            Plotly.purge(gd);\n",
       "            observer.disconnect();\n",
       "        }}\n",
       "}});\n",
       "\n",
       "// Listen for the removal of the full notebook cells\n",
       "var notebookContainer = gd.closest('#notebook-container');\n",
       "if (notebookContainer) {{\n",
       "    x.observe(notebookContainer, {childList: true});\n",
       "}}\n",
       "\n",
       "// Listen for the clearing of the current output cell\n",
       "var outputEl = gd.closest('.output');\n",
       "if (outputEl) {{\n",
       "    x.observe(outputEl, {childList: true});\n",
       "}}\n",
       "\n",
       "                        })                };                });            </script>        </div>"
      ]
     },
     "metadata": {},
     "output_type": "display_data"
    },
    {
     "data": {
      "application/vnd.plotly.v1+json": {
       "config": {
        "plotlyServerURL": "https://plot.ly"
       },
       "data": [
        {
         "alignmentgroup": "True",
         "bingroup": "x",
         "hovertemplate": "Edad=%{x}<br>count=%{y}<extra></extra>",
         "legendgroup": "",
         "marker": {
          "color": "#636efa",
          "pattern": {
           "shape": ""
          }
         },
         "name": "",
         "nbinsx": 10,
         "offsetgroup": "",
         "orientation": "v",
         "showlegend": false,
         "type": "histogram",
         "x": [
          31,
          25,
          23,
          18,
          26,
          38,
          21,
          27,
          25,
          32,
          18,
          41,
          40,
          25,
          27,
          33,
          23,
          20,
          31,
          18,
          21,
          23,
          24,
          30,
          45,
          36,
          18,
          30,
          22,
          24,
          23,
          23,
          20,
          48,
          45,
          33,
          22,
          31,
          45,
          39,
          27,
          36,
          36,
          24,
          42,
          24,
          42,
          28,
          24,
          20,
          28,
          20,
          45,
          38,
          39,
          20,
          47,
          65,
          37,
          28,
          39,
          46,
          31,
          53,
          42,
          30,
          21,
          21,
          52,
          30,
          25,
          31,
          27,
          34,
          27,
          22,
          42,
          29,
          31,
          24,
          39,
          22,
          24,
          25,
          23,
          24,
          30,
          18,
          25,
          22,
          30,
          33,
          30,
          30,
          30,
          47,
          38,
          34,
          23,
          22,
          25,
          57,
          33,
          26,
          22,
          31,
          20,
          21,
          23,
          20,
          36,
          33,
          24,
          25,
          33,
          33,
          19,
          24,
          32,
          60,
          57,
          50,
          24,
          25,
          26,
          21,
          21,
          20,
          38,
          20,
          25,
          23,
          27,
          30,
          24,
          21,
          21,
          32,
          30,
          19,
          25,
          24,
          24,
          42,
          33,
          29,
          18,
          27,
          30,
          31,
          31,
          19,
          21,
          31,
          26,
          28,
          27,
          24,
          48,
          28,
          37,
          41,
          20,
          39,
          19,
          31,
          28,
          46,
          35,
          26,
          51,
          26,
          27,
          19,
          20,
          25,
          33,
          23,
          19,
          25,
          25,
          41,
          35,
          19,
          33,
          34,
          42,
          27,
          32,
          24,
          19,
          26,
          31,
          31,
          48,
          18,
          20,
          51,
          23,
          42,
          40,
          21,
          18,
          26,
          20,
          44,
          39,
          21,
          44,
          18,
          19,
          45,
          28,
          56,
          27,
          43,
          21,
          30,
          33,
          34,
          21,
          18,
          36,
          43,
          35,
          34,
          27,
          18,
          21,
          20,
          36,
          22,
          30,
          53,
          41,
          22,
          25,
          28,
          43,
          44,
          26,
          24,
          22,
          32,
          23,
          49,
          22,
          19,
          25,
          21,
          23,
          46,
          20,
          49,
          20,
          25,
          63,
          19,
          22,
          23,
          27,
          21,
          20,
          42,
          27,
          28,
          20,
          41,
          27,
          47,
          21,
          30,
          28,
          25,
          44,
          42,
          31,
          53,
          21,
          38,
          26,
          32,
          24,
          22,
          48,
          62,
          31,
          24,
          25,
          24,
          32,
          20,
          43,
          41,
          24,
          23,
          44,
          24,
          35,
          23,
          31,
          33,
          38,
          50,
          27,
          34,
          31,
          43,
          50,
          18,
          29,
          41,
          32,
          46,
          21,
          22,
          19,
          24,
          34,
          26,
          25,
          45,
          36,
          34,
          23,
          28,
          36,
          25,
          29,
          32,
          30,
          33,
          27,
          26,
          49,
          26,
          39,
          37,
          29,
          21,
          36,
          21,
          24,
          28,
          21,
          30,
          25,
          38,
          24,
          24,
          24,
          38,
          60,
          28,
          24,
          22,
          28,
          19,
          23,
          41,
          37,
          21,
          31,
          31,
          48,
          28,
          35,
          21,
          28,
          36,
          34,
          21,
          32,
          22,
          30,
          18,
          25,
          22,
          28,
          38,
          32,
          20,
          29,
          24,
          58,
          55,
          53,
          23,
          26,
          45,
          22,
          31,
          21,
          39,
          18,
          20,
          31,
          24,
          24,
          55,
          25,
          21,
          31,
          27,
          57,
          45,
          24,
          27,
          32,
          39,
          19,
          23,
          26,
          19,
          30,
          30,
          29,
          38,
          24,
          25,
          43,
          24,
          24,
          45,
          45,
          27,
          24,
          37,
          23,
          38,
          27,
          30,
          18,
          36,
          43,
          55,
          24,
          48,
          51,
          46,
          48,
          27,
          23,
          34,
          26,
          20,
          33,
          19,
          24,
          22,
          26,
          25,
          20,
          20,
          24,
          19,
          23,
          48,
          55,
          35,
          23,
          31,
          19,
          19,
          26,
          19,
          30,
          34,
          22,
          27,
          24,
          21,
          23,
          36,
          21,
          26,
          35,
          31,
          31,
          20,
          21,
          61,
          34,
          25,
          25,
          21,
          22,
          22,
          23,
          41,
          19,
          42,
          28,
          31,
          26,
          44,
          19,
          20,
          47,
          19,
          53,
          31,
          53,
          49,
          34,
          21,
          20,
          30,
          23,
          26,
          25,
          30,
          50,
          20,
          21,
          25,
          21,
          42,
          30,
          34,
          30,
          39,
          20,
          22,
          28,
          19,
          37,
          47,
          49,
          31,
          23,
          21,
          35,
          19,
          44,
          43,
          21,
          23,
          36,
          33,
          23,
          54,
          37,
          49,
          57,
          45,
          28,
          28,
          32,
          29,
          25,
          25,
          27,
          33,
          51,
          28,
          26,
          21,
          36,
          41,
          25,
          28,
          22,
          24,
          19,
          43,
          29,
          37,
          35,
          37,
          28,
          22,
          20,
          32,
          57,
          39,
          25,
          30,
          23,
          30,
          44,
          23,
          46,
          25,
          35,
          31,
          62,
          35,
          27,
          30,
          22,
          41,
          28,
          30,
          31,
          24,
          26,
          44,
          21,
          36,
          33,
          47,
          33,
          22,
          22,
          54,
          23,
          39,
          38,
          24,
          21,
          23,
          24,
          41,
          46,
          36,
          19,
          28,
          32,
          55,
          20,
          19,
          19,
          30,
          20,
          22,
          26,
          25,
          43,
          43,
          29,
          25,
          21,
          29,
          24,
          55,
          46,
          55,
          21,
          20,
          25,
          22,
          22,
          27,
          29,
          44,
          41,
          52,
          45,
          20,
          33,
          38,
          30,
          31,
          24,
          26,
          25,
          33,
          30,
          30,
          43,
          27,
          20,
          21,
          41,
          20,
          19,
          30,
          47,
          25,
          23,
          42,
          23,
          30,
          22,
          20,
          21,
          29,
          22,
          31,
          22,
          23,
          26,
          27,
          36,
          27,
          51,
          29,
          57,
          26,
          30,
          30,
          23,
          19,
          30,
          24,
          28,
          29,
          26,
          33,
          30,
          22,
          51,
          42,
          41,
          28,
          30,
          20,
          33,
          33,
          26,
          20,
          23,
          27,
          42,
          26,
          21,
          22,
          31,
          21,
          53,
          30,
          42,
          36,
          40,
          45,
          26,
          38,
          32,
          47,
          30,
          40,
          37,
          42,
          26,
          23,
          47,
          46,
          41,
          22,
          20,
          25,
          28,
          29,
          30,
          24,
          43,
          26,
          21,
          31,
          22,
          26,
          24,
          32,
          20,
          23,
          25,
          23,
          44,
          27,
          36,
          24,
          23,
          36,
          21,
          28,
          23,
          26,
          24,
          30,
          27,
          28,
          26,
          24,
          38,
          32,
          38,
          38,
          21,
          26,
          46,
          19,
          21,
          31,
          24,
          43,
          25,
          24,
          29,
          43,
          21,
          36,
          28,
          29,
          23,
          28,
          32,
          55,
          23,
          20,
          48,
          30,
          32,
          26,
          25,
          27,
          39,
          23,
          28,
          60,
          43,
          26,
          49,
          34,
          20,
          23,
          25,
          40,
          32,
          38,
          23,
          39,
          30,
          41,
          38,
          29,
          32,
          40,
          50,
          47,
          40,
          26,
          28,
          49,
          30,
          24,
          35,
          27,
          41,
          30,
          32,
          22,
          32,
          29,
          27,
          27,
          27,
          24,
          39,
          29,
          22,
          20,
          28,
          21,
          21,
          38,
          36,
          33,
          60,
          28,
          25,
          32,
          31,
          26,
          43,
          22,
          42,
          25,
          34,
          26,
          22,
          27,
          33,
          22,
          41,
          24,
          24,
          28,
          34,
          26,
          32,
          42,
          33,
          24,
          27,
          39,
          27,
          67,
          21,
          25,
          24,
          30,
          31,
          42,
          26,
          28,
          31,
          26,
          28,
          23,
          25,
          23,
          49,
          32,
          20,
          22,
          23,
          22,
          24,
          23,
          22,
          29,
          34,
          37,
          23,
          26,
          42,
          37,
          28,
          31,
          28,
          25,
          23,
          32,
          27,
          29,
          43,
          38,
          30,
          37,
          27,
          28,
          27,
          61,
          36,
          49,
          21,
          26,
          19,
          23,
          41,
          36,
          25,
          26,
          45,
          23,
          28,
          24,
          24,
          25,
          32,
          21,
          24,
          24,
          20,
          20,
          48,
          38,
          25,
          46,
          36,
          20,
          35,
          33,
          31,
          29,
          24,
          22,
          20,
          29,
          26,
          29,
          30,
          32,
          46,
          41,
          27,
          27,
          32,
          48,
          24,
          25,
          22,
          25,
          19,
          26,
          26,
          22,
          23,
          35,
          29,
          40,
          39,
          58,
          51,
          33,
          60,
          26,
          26,
          26,
          26,
          22,
          39,
          22,
          35,
          24,
          23,
          32,
          26,
          24,
          27,
          29,
          26,
          25,
          30,
          25,
          26,
          39,
          33,
          33,
          20,
          31,
          37,
          28,
          50,
          27,
          58,
          36,
          30,
          22,
          22,
          23,
          26,
          19,
          36,
          40,
          31,
          33,
          21,
          32,
          24,
          30,
          28,
          44,
          34,
          42,
          26,
          30,
          34,
          26,
          27,
          37,
          34,
          45,
          63,
          29,
          24,
          25,
          26,
          52,
          33,
          40,
          38,
          50,
          26,
          25,
          20,
          30,
          28,
          26,
          23,
          23,
          23,
          20,
          23,
          29,
          27,
          36,
          22,
          28,
          26,
          26,
          24,
          29,
          23,
          19,
          26,
          29,
          29,
          37,
          30,
          33,
          30,
          24,
          43,
          43,
          20,
          48,
          23,
          20,
          24,
          19,
          41,
          42,
          41,
          37,
          28,
          39,
          32,
          56,
          28,
          24,
          34,
          28,
          31,
          44,
          62,
          38,
          30,
          50,
          35,
          32,
          25,
          21,
          25,
          36,
          19,
          45,
          25,
          46,
          23,
          39,
          35,
          49,
          32,
          39,
          38,
          30,
          32,
          25,
          31,
          25,
          29,
          26,
          25,
          35,
          39,
          30,
          26,
          41,
          24,
          25,
          45,
          23,
          34,
          27,
          27,
          24,
          25,
          44,
          21,
          21,
          35,
          50,
          33,
          44,
          25,
          25,
          21,
          20,
          21,
          35,
          22,
          29,
          37,
          47,
          39,
          44,
          47,
          26,
          36,
          27,
          30,
          34,
          23,
          34,
          47,
          23,
          33,
          53,
          28,
          26,
          30,
          28,
          33,
          36,
          22,
          22,
          24,
          27,
          31,
          28,
          29,
          26,
          47,
          29,
          36,
          46,
          30,
          30,
          27,
          33,
          41,
          34,
          30,
          42,
          22,
          37,
          48,
          25,
          23,
          28,
          54,
          31,
          29,
          32,
          30,
          25,
          19,
          31,
          38,
          26,
          26,
          39,
          34,
          20,
          26,
          27,
          55,
          57,
          31,
          37,
          26,
          47,
          24,
          33,
          35,
          24,
          34,
          29,
          35,
          25,
          21,
          25,
          28,
          35,
          25,
          26,
          41,
          41,
          24,
          27,
          34,
          45,
          27,
          21,
          26,
          39,
          23,
          31,
          48,
          25,
          24,
          39,
          29,
          34,
          32,
          22,
          25,
          30,
          23,
          28,
          30,
          25,
          23,
          24,
          24,
          27,
          23,
          37,
          34,
          33,
          23,
          43,
          28,
          32,
          21,
          25,
          21,
          45,
          25,
          25,
          28,
          24,
          64,
          37,
          26,
          42,
          27,
          28,
          23,
          27,
          22,
          32,
          24,
          20,
          22,
          22,
          23,
          31,
          40,
          26,
          27,
          55,
          60,
          40,
          36,
          32,
          23,
          23,
          26,
          25,
          22,
          24,
          48,
          45,
          20,
          46,
          18,
          24,
          35,
          19,
          32,
          25,
          44,
          59,
          55,
          34,
          27,
          32,
          26,
          33,
          37,
          23,
          21,
          27,
          22,
          30,
          23,
          22,
          25,
          27,
          25,
          49,
          31,
          54,
          29,
          30,
          60,
          23,
          40,
          45,
          24,
          47,
          21,
          20,
          24,
          38,
          27,
          23,
          24,
          20,
          20,
          30,
          32,
          33,
          27,
          28,
          59,
          40,
          57,
          37,
          61,
          62,
          57,
          55,
          44,
          28,
          21,
          45,
          46
         ],
         "xaxis": "x",
         "yaxis": "y"
        },
        {
         "alignmentgroup": "True",
         "hovertemplate": "Edad=%{x}<extra></extra>",
         "legendgroup": "",
         "marker": {
          "color": "#636efa"
         },
         "name": "",
         "notched": true,
         "offsetgroup": "",
         "showlegend": false,
         "type": "box",
         "x": [
          31,
          25,
          23,
          18,
          26,
          38,
          21,
          27,
          25,
          32,
          18,
          41,
          40,
          25,
          27,
          33,
          23,
          20,
          31,
          18,
          21,
          23,
          24,
          30,
          45,
          36,
          18,
          30,
          22,
          24,
          23,
          23,
          20,
          48,
          45,
          33,
          22,
          31,
          45,
          39,
          27,
          36,
          36,
          24,
          42,
          24,
          42,
          28,
          24,
          20,
          28,
          20,
          45,
          38,
          39,
          20,
          47,
          65,
          37,
          28,
          39,
          46,
          31,
          53,
          42,
          30,
          21,
          21,
          52,
          30,
          25,
          31,
          27,
          34,
          27,
          22,
          42,
          29,
          31,
          24,
          39,
          22,
          24,
          25,
          23,
          24,
          30,
          18,
          25,
          22,
          30,
          33,
          30,
          30,
          30,
          47,
          38,
          34,
          23,
          22,
          25,
          57,
          33,
          26,
          22,
          31,
          20,
          21,
          23,
          20,
          36,
          33,
          24,
          25,
          33,
          33,
          19,
          24,
          32,
          60,
          57,
          50,
          24,
          25,
          26,
          21,
          21,
          20,
          38,
          20,
          25,
          23,
          27,
          30,
          24,
          21,
          21,
          32,
          30,
          19,
          25,
          24,
          24,
          42,
          33,
          29,
          18,
          27,
          30,
          31,
          31,
          19,
          21,
          31,
          26,
          28,
          27,
          24,
          48,
          28,
          37,
          41,
          20,
          39,
          19,
          31,
          28,
          46,
          35,
          26,
          51,
          26,
          27,
          19,
          20,
          25,
          33,
          23,
          19,
          25,
          25,
          41,
          35,
          19,
          33,
          34,
          42,
          27,
          32,
          24,
          19,
          26,
          31,
          31,
          48,
          18,
          20,
          51,
          23,
          42,
          40,
          21,
          18,
          26,
          20,
          44,
          39,
          21,
          44,
          18,
          19,
          45,
          28,
          56,
          27,
          43,
          21,
          30,
          33,
          34,
          21,
          18,
          36,
          43,
          35,
          34,
          27,
          18,
          21,
          20,
          36,
          22,
          30,
          53,
          41,
          22,
          25,
          28,
          43,
          44,
          26,
          24,
          22,
          32,
          23,
          49,
          22,
          19,
          25,
          21,
          23,
          46,
          20,
          49,
          20,
          25,
          63,
          19,
          22,
          23,
          27,
          21,
          20,
          42,
          27,
          28,
          20,
          41,
          27,
          47,
          21,
          30,
          28,
          25,
          44,
          42,
          31,
          53,
          21,
          38,
          26,
          32,
          24,
          22,
          48,
          62,
          31,
          24,
          25,
          24,
          32,
          20,
          43,
          41,
          24,
          23,
          44,
          24,
          35,
          23,
          31,
          33,
          38,
          50,
          27,
          34,
          31,
          43,
          50,
          18,
          29,
          41,
          32,
          46,
          21,
          22,
          19,
          24,
          34,
          26,
          25,
          45,
          36,
          34,
          23,
          28,
          36,
          25,
          29,
          32,
          30,
          33,
          27,
          26,
          49,
          26,
          39,
          37,
          29,
          21,
          36,
          21,
          24,
          28,
          21,
          30,
          25,
          38,
          24,
          24,
          24,
          38,
          60,
          28,
          24,
          22,
          28,
          19,
          23,
          41,
          37,
          21,
          31,
          31,
          48,
          28,
          35,
          21,
          28,
          36,
          34,
          21,
          32,
          22,
          30,
          18,
          25,
          22,
          28,
          38,
          32,
          20,
          29,
          24,
          58,
          55,
          53,
          23,
          26,
          45,
          22,
          31,
          21,
          39,
          18,
          20,
          31,
          24,
          24,
          55,
          25,
          21,
          31,
          27,
          57,
          45,
          24,
          27,
          32,
          39,
          19,
          23,
          26,
          19,
          30,
          30,
          29,
          38,
          24,
          25,
          43,
          24,
          24,
          45,
          45,
          27,
          24,
          37,
          23,
          38,
          27,
          30,
          18,
          36,
          43,
          55,
          24,
          48,
          51,
          46,
          48,
          27,
          23,
          34,
          26,
          20,
          33,
          19,
          24,
          22,
          26,
          25,
          20,
          20,
          24,
          19,
          23,
          48,
          55,
          35,
          23,
          31,
          19,
          19,
          26,
          19,
          30,
          34,
          22,
          27,
          24,
          21,
          23,
          36,
          21,
          26,
          35,
          31,
          31,
          20,
          21,
          61,
          34,
          25,
          25,
          21,
          22,
          22,
          23,
          41,
          19,
          42,
          28,
          31,
          26,
          44,
          19,
          20,
          47,
          19,
          53,
          31,
          53,
          49,
          34,
          21,
          20,
          30,
          23,
          26,
          25,
          30,
          50,
          20,
          21,
          25,
          21,
          42,
          30,
          34,
          30,
          39,
          20,
          22,
          28,
          19,
          37,
          47,
          49,
          31,
          23,
          21,
          35,
          19,
          44,
          43,
          21,
          23,
          36,
          33,
          23,
          54,
          37,
          49,
          57,
          45,
          28,
          28,
          32,
          29,
          25,
          25,
          27,
          33,
          51,
          28,
          26,
          21,
          36,
          41,
          25,
          28,
          22,
          24,
          19,
          43,
          29,
          37,
          35,
          37,
          28,
          22,
          20,
          32,
          57,
          39,
          25,
          30,
          23,
          30,
          44,
          23,
          46,
          25,
          35,
          31,
          62,
          35,
          27,
          30,
          22,
          41,
          28,
          30,
          31,
          24,
          26,
          44,
          21,
          36,
          33,
          47,
          33,
          22,
          22,
          54,
          23,
          39,
          38,
          24,
          21,
          23,
          24,
          41,
          46,
          36,
          19,
          28,
          32,
          55,
          20,
          19,
          19,
          30,
          20,
          22,
          26,
          25,
          43,
          43,
          29,
          25,
          21,
          29,
          24,
          55,
          46,
          55,
          21,
          20,
          25,
          22,
          22,
          27,
          29,
          44,
          41,
          52,
          45,
          20,
          33,
          38,
          30,
          31,
          24,
          26,
          25,
          33,
          30,
          30,
          43,
          27,
          20,
          21,
          41,
          20,
          19,
          30,
          47,
          25,
          23,
          42,
          23,
          30,
          22,
          20,
          21,
          29,
          22,
          31,
          22,
          23,
          26,
          27,
          36,
          27,
          51,
          29,
          57,
          26,
          30,
          30,
          23,
          19,
          30,
          24,
          28,
          29,
          26,
          33,
          30,
          22,
          51,
          42,
          41,
          28,
          30,
          20,
          33,
          33,
          26,
          20,
          23,
          27,
          42,
          26,
          21,
          22,
          31,
          21,
          53,
          30,
          42,
          36,
          40,
          45,
          26,
          38,
          32,
          47,
          30,
          40,
          37,
          42,
          26,
          23,
          47,
          46,
          41,
          22,
          20,
          25,
          28,
          29,
          30,
          24,
          43,
          26,
          21,
          31,
          22,
          26,
          24,
          32,
          20,
          23,
          25,
          23,
          44,
          27,
          36,
          24,
          23,
          36,
          21,
          28,
          23,
          26,
          24,
          30,
          27,
          28,
          26,
          24,
          38,
          32,
          38,
          38,
          21,
          26,
          46,
          19,
          21,
          31,
          24,
          43,
          25,
          24,
          29,
          43,
          21,
          36,
          28,
          29,
          23,
          28,
          32,
          55,
          23,
          20,
          48,
          30,
          32,
          26,
          25,
          27,
          39,
          23,
          28,
          60,
          43,
          26,
          49,
          34,
          20,
          23,
          25,
          40,
          32,
          38,
          23,
          39,
          30,
          41,
          38,
          29,
          32,
          40,
          50,
          47,
          40,
          26,
          28,
          49,
          30,
          24,
          35,
          27,
          41,
          30,
          32,
          22,
          32,
          29,
          27,
          27,
          27,
          24,
          39,
          29,
          22,
          20,
          28,
          21,
          21,
          38,
          36,
          33,
          60,
          28,
          25,
          32,
          31,
          26,
          43,
          22,
          42,
          25,
          34,
          26,
          22,
          27,
          33,
          22,
          41,
          24,
          24,
          28,
          34,
          26,
          32,
          42,
          33,
          24,
          27,
          39,
          27,
          67,
          21,
          25,
          24,
          30,
          31,
          42,
          26,
          28,
          31,
          26,
          28,
          23,
          25,
          23,
          49,
          32,
          20,
          22,
          23,
          22,
          24,
          23,
          22,
          29,
          34,
          37,
          23,
          26,
          42,
          37,
          28,
          31,
          28,
          25,
          23,
          32,
          27,
          29,
          43,
          38,
          30,
          37,
          27,
          28,
          27,
          61,
          36,
          49,
          21,
          26,
          19,
          23,
          41,
          36,
          25,
          26,
          45,
          23,
          28,
          24,
          24,
          25,
          32,
          21,
          24,
          24,
          20,
          20,
          48,
          38,
          25,
          46,
          36,
          20,
          35,
          33,
          31,
          29,
          24,
          22,
          20,
          29,
          26,
          29,
          30,
          32,
          46,
          41,
          27,
          27,
          32,
          48,
          24,
          25,
          22,
          25,
          19,
          26,
          26,
          22,
          23,
          35,
          29,
          40,
          39,
          58,
          51,
          33,
          60,
          26,
          26,
          26,
          26,
          22,
          39,
          22,
          35,
          24,
          23,
          32,
          26,
          24,
          27,
          29,
          26,
          25,
          30,
          25,
          26,
          39,
          33,
          33,
          20,
          31,
          37,
          28,
          50,
          27,
          58,
          36,
          30,
          22,
          22,
          23,
          26,
          19,
          36,
          40,
          31,
          33,
          21,
          32,
          24,
          30,
          28,
          44,
          34,
          42,
          26,
          30,
          34,
          26,
          27,
          37,
          34,
          45,
          63,
          29,
          24,
          25,
          26,
          52,
          33,
          40,
          38,
          50,
          26,
          25,
          20,
          30,
          28,
          26,
          23,
          23,
          23,
          20,
          23,
          29,
          27,
          36,
          22,
          28,
          26,
          26,
          24,
          29,
          23,
          19,
          26,
          29,
          29,
          37,
          30,
          33,
          30,
          24,
          43,
          43,
          20,
          48,
          23,
          20,
          24,
          19,
          41,
          42,
          41,
          37,
          28,
          39,
          32,
          56,
          28,
          24,
          34,
          28,
          31,
          44,
          62,
          38,
          30,
          50,
          35,
          32,
          25,
          21,
          25,
          36,
          19,
          45,
          25,
          46,
          23,
          39,
          35,
          49,
          32,
          39,
          38,
          30,
          32,
          25,
          31,
          25,
          29,
          26,
          25,
          35,
          39,
          30,
          26,
          41,
          24,
          25,
          45,
          23,
          34,
          27,
          27,
          24,
          25,
          44,
          21,
          21,
          35,
          50,
          33,
          44,
          25,
          25,
          21,
          20,
          21,
          35,
          22,
          29,
          37,
          47,
          39,
          44,
          47,
          26,
          36,
          27,
          30,
          34,
          23,
          34,
          47,
          23,
          33,
          53,
          28,
          26,
          30,
          28,
          33,
          36,
          22,
          22,
          24,
          27,
          31,
          28,
          29,
          26,
          47,
          29,
          36,
          46,
          30,
          30,
          27,
          33,
          41,
          34,
          30,
          42,
          22,
          37,
          48,
          25,
          23,
          28,
          54,
          31,
          29,
          32,
          30,
          25,
          19,
          31,
          38,
          26,
          26,
          39,
          34,
          20,
          26,
          27,
          55,
          57,
          31,
          37,
          26,
          47,
          24,
          33,
          35,
          24,
          34,
          29,
          35,
          25,
          21,
          25,
          28,
          35,
          25,
          26,
          41,
          41,
          24,
          27,
          34,
          45,
          27,
          21,
          26,
          39,
          23,
          31,
          48,
          25,
          24,
          39,
          29,
          34,
          32,
          22,
          25,
          30,
          23,
          28,
          30,
          25,
          23,
          24,
          24,
          27,
          23,
          37,
          34,
          33,
          23,
          43,
          28,
          32,
          21,
          25,
          21,
          45,
          25,
          25,
          28,
          24,
          64,
          37,
          26,
          42,
          27,
          28,
          23,
          27,
          22,
          32,
          24,
          20,
          22,
          22,
          23,
          31,
          40,
          26,
          27,
          55,
          60,
          40,
          36,
          32,
          23,
          23,
          26,
          25,
          22,
          24,
          48,
          45,
          20,
          46,
          18,
          24,
          35,
          19,
          32,
          25,
          44,
          59,
          55,
          34,
          27,
          32,
          26,
          33,
          37,
          23,
          21,
          27,
          22,
          30,
          23,
          22,
          25,
          27,
          25,
          49,
          31,
          54,
          29,
          30,
          60,
          23,
          40,
          45,
          24,
          47,
          21,
          20,
          24,
          38,
          27,
          23,
          24,
          20,
          20,
          30,
          32,
          33,
          27,
          28,
          59,
          40,
          57,
          37,
          61,
          62,
          57,
          55,
          44,
          28,
          21,
          45,
          46
         ],
         "xaxis": "x2",
         "yaxis": "y2"
        }
       ],
       "layout": {
        "barmode": "relative",
        "legend": {
         "tracegroupgap": 0
        },
        "template": {
         "data": {
          "bar": [
           {
            "error_x": {
             "color": "#2a3f5f"
            },
            "error_y": {
             "color": "#2a3f5f"
            },
            "marker": {
             "line": {
              "color": "#E5ECF6",
              "width": 0.5
             },
             "pattern": {
              "fillmode": "overlay",
              "size": 10,
              "solidity": 0.2
             }
            },
            "type": "bar"
           }
          ],
          "barpolar": [
           {
            "marker": {
             "line": {
              "color": "#E5ECF6",
              "width": 0.5
             },
             "pattern": {
              "fillmode": "overlay",
              "size": 10,
              "solidity": 0.2
             }
            },
            "type": "barpolar"
           }
          ],
          "carpet": [
           {
            "aaxis": {
             "endlinecolor": "#2a3f5f",
             "gridcolor": "white",
             "linecolor": "white",
             "minorgridcolor": "white",
             "startlinecolor": "#2a3f5f"
            },
            "baxis": {
             "endlinecolor": "#2a3f5f",
             "gridcolor": "white",
             "linecolor": "white",
             "minorgridcolor": "white",
             "startlinecolor": "#2a3f5f"
            },
            "type": "carpet"
           }
          ],
          "choropleth": [
           {
            "colorbar": {
             "outlinewidth": 0,
             "ticks": ""
            },
            "type": "choropleth"
           }
          ],
          "contour": [
           {
            "colorbar": {
             "outlinewidth": 0,
             "ticks": ""
            },
            "colorscale": [
             [
              0,
              "#0d0887"
             ],
             [
              0.1111111111111111,
              "#46039f"
             ],
             [
              0.2222222222222222,
              "#7201a8"
             ],
             [
              0.3333333333333333,
              "#9c179e"
             ],
             [
              0.4444444444444444,
              "#bd3786"
             ],
             [
              0.5555555555555556,
              "#d8576b"
             ],
             [
              0.6666666666666666,
              "#ed7953"
             ],
             [
              0.7777777777777778,
              "#fb9f3a"
             ],
             [
              0.8888888888888888,
              "#fdca26"
             ],
             [
              1,
              "#f0f921"
             ]
            ],
            "type": "contour"
           }
          ],
          "contourcarpet": [
           {
            "colorbar": {
             "outlinewidth": 0,
             "ticks": ""
            },
            "type": "contourcarpet"
           }
          ],
          "heatmap": [
           {
            "colorbar": {
             "outlinewidth": 0,
             "ticks": ""
            },
            "colorscale": [
             [
              0,
              "#0d0887"
             ],
             [
              0.1111111111111111,
              "#46039f"
             ],
             [
              0.2222222222222222,
              "#7201a8"
             ],
             [
              0.3333333333333333,
              "#9c179e"
             ],
             [
              0.4444444444444444,
              "#bd3786"
             ],
             [
              0.5555555555555556,
              "#d8576b"
             ],
             [
              0.6666666666666666,
              "#ed7953"
             ],
             [
              0.7777777777777778,
              "#fb9f3a"
             ],
             [
              0.8888888888888888,
              "#fdca26"
             ],
             [
              1,
              "#f0f921"
             ]
            ],
            "type": "heatmap"
           }
          ],
          "heatmapgl": [
           {
            "colorbar": {
             "outlinewidth": 0,
             "ticks": ""
            },
            "colorscale": [
             [
              0,
              "#0d0887"
             ],
             [
              0.1111111111111111,
              "#46039f"
             ],
             [
              0.2222222222222222,
              "#7201a8"
             ],
             [
              0.3333333333333333,
              "#9c179e"
             ],
             [
              0.4444444444444444,
              "#bd3786"
             ],
             [
              0.5555555555555556,
              "#d8576b"
             ],
             [
              0.6666666666666666,
              "#ed7953"
             ],
             [
              0.7777777777777778,
              "#fb9f3a"
             ],
             [
              0.8888888888888888,
              "#fdca26"
             ],
             [
              1,
              "#f0f921"
             ]
            ],
            "type": "heatmapgl"
           }
          ],
          "histogram": [
           {
            "marker": {
             "pattern": {
              "fillmode": "overlay",
              "size": 10,
              "solidity": 0.2
             }
            },
            "type": "histogram"
           }
          ],
          "histogram2d": [
           {
            "colorbar": {
             "outlinewidth": 0,
             "ticks": ""
            },
            "colorscale": [
             [
              0,
              "#0d0887"
             ],
             [
              0.1111111111111111,
              "#46039f"
             ],
             [
              0.2222222222222222,
              "#7201a8"
             ],
             [
              0.3333333333333333,
              "#9c179e"
             ],
             [
              0.4444444444444444,
              "#bd3786"
             ],
             [
              0.5555555555555556,
              "#d8576b"
             ],
             [
              0.6666666666666666,
              "#ed7953"
             ],
             [
              0.7777777777777778,
              "#fb9f3a"
             ],
             [
              0.8888888888888888,
              "#fdca26"
             ],
             [
              1,
              "#f0f921"
             ]
            ],
            "type": "histogram2d"
           }
          ],
          "histogram2dcontour": [
           {
            "colorbar": {
             "outlinewidth": 0,
             "ticks": ""
            },
            "colorscale": [
             [
              0,
              "#0d0887"
             ],
             [
              0.1111111111111111,
              "#46039f"
             ],
             [
              0.2222222222222222,
              "#7201a8"
             ],
             [
              0.3333333333333333,
              "#9c179e"
             ],
             [
              0.4444444444444444,
              "#bd3786"
             ],
             [
              0.5555555555555556,
              "#d8576b"
             ],
             [
              0.6666666666666666,
              "#ed7953"
             ],
             [
              0.7777777777777778,
              "#fb9f3a"
             ],
             [
              0.8888888888888888,
              "#fdca26"
             ],
             [
              1,
              "#f0f921"
             ]
            ],
            "type": "histogram2dcontour"
           }
          ],
          "mesh3d": [
           {
            "colorbar": {
             "outlinewidth": 0,
             "ticks": ""
            },
            "type": "mesh3d"
           }
          ],
          "parcoords": [
           {
            "line": {
             "colorbar": {
              "outlinewidth": 0,
              "ticks": ""
             }
            },
            "type": "parcoords"
           }
          ],
          "pie": [
           {
            "automargin": true,
            "type": "pie"
           }
          ],
          "scatter": [
           {
            "fillpattern": {
             "fillmode": "overlay",
             "size": 10,
             "solidity": 0.2
            },
            "type": "scatter"
           }
          ],
          "scatter3d": [
           {
            "line": {
             "colorbar": {
              "outlinewidth": 0,
              "ticks": ""
             }
            },
            "marker": {
             "colorbar": {
              "outlinewidth": 0,
              "ticks": ""
             }
            },
            "type": "scatter3d"
           }
          ],
          "scattercarpet": [
           {
            "marker": {
             "colorbar": {
              "outlinewidth": 0,
              "ticks": ""
             }
            },
            "type": "scattercarpet"
           }
          ],
          "scattergeo": [
           {
            "marker": {
             "colorbar": {
              "outlinewidth": 0,
              "ticks": ""
             }
            },
            "type": "scattergeo"
           }
          ],
          "scattergl": [
           {
            "marker": {
             "colorbar": {
              "outlinewidth": 0,
              "ticks": ""
             }
            },
            "type": "scattergl"
           }
          ],
          "scattermapbox": [
           {
            "marker": {
             "colorbar": {
              "outlinewidth": 0,
              "ticks": ""
             }
            },
            "type": "scattermapbox"
           }
          ],
          "scatterpolar": [
           {
            "marker": {
             "colorbar": {
              "outlinewidth": 0,
              "ticks": ""
             }
            },
            "type": "scatterpolar"
           }
          ],
          "scatterpolargl": [
           {
            "marker": {
             "colorbar": {
              "outlinewidth": 0,
              "ticks": ""
             }
            },
            "type": "scatterpolargl"
           }
          ],
          "scatterternary": [
           {
            "marker": {
             "colorbar": {
              "outlinewidth": 0,
              "ticks": ""
             }
            },
            "type": "scatterternary"
           }
          ],
          "surface": [
           {
            "colorbar": {
             "outlinewidth": 0,
             "ticks": ""
            },
            "colorscale": [
             [
              0,
              "#0d0887"
             ],
             [
              0.1111111111111111,
              "#46039f"
             ],
             [
              0.2222222222222222,
              "#7201a8"
             ],
             [
              0.3333333333333333,
              "#9c179e"
             ],
             [
              0.4444444444444444,
              "#bd3786"
             ],
             [
              0.5555555555555556,
              "#d8576b"
             ],
             [
              0.6666666666666666,
              "#ed7953"
             ],
             [
              0.7777777777777778,
              "#fb9f3a"
             ],
             [
              0.8888888888888888,
              "#fdca26"
             ],
             [
              1,
              "#f0f921"
             ]
            ],
            "type": "surface"
           }
          ],
          "table": [
           {
            "cells": {
             "fill": {
              "color": "#EBF0F8"
             },
             "line": {
              "color": "white"
             }
            },
            "header": {
             "fill": {
              "color": "#C8D4E3"
             },
             "line": {
              "color": "white"
             }
            },
            "type": "table"
           }
          ]
         },
         "layout": {
          "annotationdefaults": {
           "arrowcolor": "#2a3f5f",
           "arrowhead": 0,
           "arrowwidth": 1
          },
          "autotypenumbers": "strict",
          "coloraxis": {
           "colorbar": {
            "outlinewidth": 0,
            "ticks": ""
           }
          },
          "colorscale": {
           "diverging": [
            [
             0,
             "#8e0152"
            ],
            [
             0.1,
             "#c51b7d"
            ],
            [
             0.2,
             "#de77ae"
            ],
            [
             0.3,
             "#f1b6da"
            ],
            [
             0.4,
             "#fde0ef"
            ],
            [
             0.5,
             "#f7f7f7"
            ],
            [
             0.6,
             "#e6f5d0"
            ],
            [
             0.7,
             "#b8e186"
            ],
            [
             0.8,
             "#7fbc41"
            ],
            [
             0.9,
             "#4d9221"
            ],
            [
             1,
             "#276419"
            ]
           ],
           "sequential": [
            [
             0,
             "#0d0887"
            ],
            [
             0.1111111111111111,
             "#46039f"
            ],
            [
             0.2222222222222222,
             "#7201a8"
            ],
            [
             0.3333333333333333,
             "#9c179e"
            ],
            [
             0.4444444444444444,
             "#bd3786"
            ],
            [
             0.5555555555555556,
             "#d8576b"
            ],
            [
             0.6666666666666666,
             "#ed7953"
            ],
            [
             0.7777777777777778,
             "#fb9f3a"
            ],
            [
             0.8888888888888888,
             "#fdca26"
            ],
            [
             1,
             "#f0f921"
            ]
           ],
           "sequentialminus": [
            [
             0,
             "#0d0887"
            ],
            [
             0.1111111111111111,
             "#46039f"
            ],
            [
             0.2222222222222222,
             "#7201a8"
            ],
            [
             0.3333333333333333,
             "#9c179e"
            ],
            [
             0.4444444444444444,
             "#bd3786"
            ],
            [
             0.5555555555555556,
             "#d8576b"
            ],
            [
             0.6666666666666666,
             "#ed7953"
            ],
            [
             0.7777777777777778,
             "#fb9f3a"
            ],
            [
             0.8888888888888888,
             "#fdca26"
            ],
            [
             1,
             "#f0f921"
            ]
           ]
          },
          "colorway": [
           "#636efa",
           "#EF553B",
           "#00cc96",
           "#ab63fa",
           "#FFA15A",
           "#19d3f3",
           "#FF6692",
           "#B6E880",
           "#FF97FF",
           "#FECB52"
          ],
          "font": {
           "color": "#2a3f5f"
          },
          "geo": {
           "bgcolor": "white",
           "lakecolor": "white",
           "landcolor": "#E5ECF6",
           "showlakes": true,
           "showland": true,
           "subunitcolor": "white"
          },
          "hoverlabel": {
           "align": "left"
          },
          "hovermode": "closest",
          "mapbox": {
           "style": "light"
          },
          "paper_bgcolor": "white",
          "plot_bgcolor": "#E5ECF6",
          "polar": {
           "angularaxis": {
            "gridcolor": "white",
            "linecolor": "white",
            "ticks": ""
           },
           "bgcolor": "#E5ECF6",
           "radialaxis": {
            "gridcolor": "white",
            "linecolor": "white",
            "ticks": ""
           }
          },
          "scene": {
           "xaxis": {
            "backgroundcolor": "#E5ECF6",
            "gridcolor": "white",
            "gridwidth": 2,
            "linecolor": "white",
            "showbackground": true,
            "ticks": "",
            "zerolinecolor": "white"
           },
           "yaxis": {
            "backgroundcolor": "#E5ECF6",
            "gridcolor": "white",
            "gridwidth": 2,
            "linecolor": "white",
            "showbackground": true,
            "ticks": "",
            "zerolinecolor": "white"
           },
           "zaxis": {
            "backgroundcolor": "#E5ECF6",
            "gridcolor": "white",
            "gridwidth": 2,
            "linecolor": "white",
            "showbackground": true,
            "ticks": "",
            "zerolinecolor": "white"
           }
          },
          "shapedefaults": {
           "line": {
            "color": "#2a3f5f"
           }
          },
          "ternary": {
           "aaxis": {
            "gridcolor": "white",
            "linecolor": "white",
            "ticks": ""
           },
           "baxis": {
            "gridcolor": "white",
            "linecolor": "white",
            "ticks": ""
           },
           "bgcolor": "#E5ECF6",
           "caxis": {
            "gridcolor": "white",
            "linecolor": "white",
            "ticks": ""
           }
          },
          "title": {
           "x": 0.05
          },
          "xaxis": {
           "automargin": true,
           "gridcolor": "white",
           "linecolor": "white",
           "ticks": "",
           "title": {
            "standoff": 15
           },
           "zerolinecolor": "white",
           "zerolinewidth": 2
          },
          "yaxis": {
           "automargin": true,
           "gridcolor": "white",
           "linecolor": "white",
           "ticks": "",
           "title": {
            "standoff": 15
           },
           "zerolinecolor": "white",
           "zerolinewidth": 2
          }
         }
        },
        "title": {
         "text": "Distribución de Edad"
        },
        "xaxis": {
         "anchor": "y",
         "domain": [
          0,
          1
         ],
         "title": {
          "text": "Edad"
         }
        },
        "xaxis2": {
         "anchor": "y2",
         "domain": [
          0,
          1
         ],
         "matches": "x",
         "showgrid": true,
         "showticklabels": false
        },
        "yaxis": {
         "anchor": "x",
         "domain": [
          0,
          0.8316
         ],
         "title": {
          "text": "count"
         }
        },
        "yaxis2": {
         "anchor": "x2",
         "domain": [
          0.8416,
          1
         ],
         "matches": "y2",
         "showgrid": false,
         "showline": false,
         "showticklabels": false,
         "ticks": ""
        }
       }
      },
      "text/html": [
       "<div>                            <div id=\"22ff6fdd-99db-4b78-b726-bca2399498c8\" class=\"plotly-graph-div\" style=\"height:525px; width:100%;\"></div>            <script type=\"text/javascript\">                require([\"plotly\"], function(Plotly) {                    window.PLOTLYENV=window.PLOTLYENV || {};                                    if (document.getElementById(\"22ff6fdd-99db-4b78-b726-bca2399498c8\")) {                    Plotly.newPlot(                        \"22ff6fdd-99db-4b78-b726-bca2399498c8\",                        [{\"alignmentgroup\":\"True\",\"bingroup\":\"x\",\"hovertemplate\":\"Edad=%{x}\\u003cbr\\u003ecount=%{y}\\u003cextra\\u003e\\u003c\\u002fextra\\u003e\",\"legendgroup\":\"\",\"marker\":{\"color\":\"#636efa\",\"pattern\":{\"shape\":\"\"}},\"name\":\"\",\"nbinsx\":10,\"offsetgroup\":\"\",\"orientation\":\"v\",\"showlegend\":false,\"x\":[31,25,23,18,26,38,21,27,25,32,18,41,40,25,27,33,23,20,31,18,21,23,24,30,45,36,18,30,22,24,23,23,20,48,45,33,22,31,45,39,27,36,36,24,42,24,42,28,24,20,28,20,45,38,39,20,47,65,37,28,39,46,31,53,42,30,21,21,52,30,25,31,27,34,27,22,42,29,31,24,39,22,24,25,23,24,30,18,25,22,30,33,30,30,30,47,38,34,23,22,25,57,33,26,22,31,20,21,23,20,36,33,24,25,33,33,19,24,32,60,57,50,24,25,26,21,21,20,38,20,25,23,27,30,24,21,21,32,30,19,25,24,24,42,33,29,18,27,30,31,31,19,21,31,26,28,27,24,48,28,37,41,20,39,19,31,28,46,35,26,51,26,27,19,20,25,33,23,19,25,25,41,35,19,33,34,42,27,32,24,19,26,31,31,48,18,20,51,23,42,40,21,18,26,20,44,39,21,44,18,19,45,28,56,27,43,21,30,33,34,21,18,36,43,35,34,27,18,21,20,36,22,30,53,41,22,25,28,43,44,26,24,22,32,23,49,22,19,25,21,23,46,20,49,20,25,63,19,22,23,27,21,20,42,27,28,20,41,27,47,21,30,28,25,44,42,31,53,21,38,26,32,24,22,48,62,31,24,25,24,32,20,43,41,24,23,44,24,35,23,31,33,38,50,27,34,31,43,50,18,29,41,32,46,21,22,19,24,34,26,25,45,36,34,23,28,36,25,29,32,30,33,27,26,49,26,39,37,29,21,36,21,24,28,21,30,25,38,24,24,24,38,60,28,24,22,28,19,23,41,37,21,31,31,48,28,35,21,28,36,34,21,32,22,30,18,25,22,28,38,32,20,29,24,58,55,53,23,26,45,22,31,21,39,18,20,31,24,24,55,25,21,31,27,57,45,24,27,32,39,19,23,26,19,30,30,29,38,24,25,43,24,24,45,45,27,24,37,23,38,27,30,18,36,43,55,24,48,51,46,48,27,23,34,26,20,33,19,24,22,26,25,20,20,24,19,23,48,55,35,23,31,19,19,26,19,30,34,22,27,24,21,23,36,21,26,35,31,31,20,21,61,34,25,25,21,22,22,23,41,19,42,28,31,26,44,19,20,47,19,53,31,53,49,34,21,20,30,23,26,25,30,50,20,21,25,21,42,30,34,30,39,20,22,28,19,37,47,49,31,23,21,35,19,44,43,21,23,36,33,23,54,37,49,57,45,28,28,32,29,25,25,27,33,51,28,26,21,36,41,25,28,22,24,19,43,29,37,35,37,28,22,20,32,57,39,25,30,23,30,44,23,46,25,35,31,62,35,27,30,22,41,28,30,31,24,26,44,21,36,33,47,33,22,22,54,23,39,38,24,21,23,24,41,46,36,19,28,32,55,20,19,19,30,20,22,26,25,43,43,29,25,21,29,24,55,46,55,21,20,25,22,22,27,29,44,41,52,45,20,33,38,30,31,24,26,25,33,30,30,43,27,20,21,41,20,19,30,47,25,23,42,23,30,22,20,21,29,22,31,22,23,26,27,36,27,51,29,57,26,30,30,23,19,30,24,28,29,26,33,30,22,51,42,41,28,30,20,33,33,26,20,23,27,42,26,21,22,31,21,53,30,42,36,40,45,26,38,32,47,30,40,37,42,26,23,47,46,41,22,20,25,28,29,30,24,43,26,21,31,22,26,24,32,20,23,25,23,44,27,36,24,23,36,21,28,23,26,24,30,27,28,26,24,38,32,38,38,21,26,46,19,21,31,24,43,25,24,29,43,21,36,28,29,23,28,32,55,23,20,48,30,32,26,25,27,39,23,28,60,43,26,49,34,20,23,25,40,32,38,23,39,30,41,38,29,32,40,50,47,40,26,28,49,30,24,35,27,41,30,32,22,32,29,27,27,27,24,39,29,22,20,28,21,21,38,36,33,60,28,25,32,31,26,43,22,42,25,34,26,22,27,33,22,41,24,24,28,34,26,32,42,33,24,27,39,27,67,21,25,24,30,31,42,26,28,31,26,28,23,25,23,49,32,20,22,23,22,24,23,22,29,34,37,23,26,42,37,28,31,28,25,23,32,27,29,43,38,30,37,27,28,27,61,36,49,21,26,19,23,41,36,25,26,45,23,28,24,24,25,32,21,24,24,20,20,48,38,25,46,36,20,35,33,31,29,24,22,20,29,26,29,30,32,46,41,27,27,32,48,24,25,22,25,19,26,26,22,23,35,29,40,39,58,51,33,60,26,26,26,26,22,39,22,35,24,23,32,26,24,27,29,26,25,30,25,26,39,33,33,20,31,37,28,50,27,58,36,30,22,22,23,26,19,36,40,31,33,21,32,24,30,28,44,34,42,26,30,34,26,27,37,34,45,63,29,24,25,26,52,33,40,38,50,26,25,20,30,28,26,23,23,23,20,23,29,27,36,22,28,26,26,24,29,23,19,26,29,29,37,30,33,30,24,43,43,20,48,23,20,24,19,41,42,41,37,28,39,32,56,28,24,34,28,31,44,62,38,30,50,35,32,25,21,25,36,19,45,25,46,23,39,35,49,32,39,38,30,32,25,31,25,29,26,25,35,39,30,26,41,24,25,45,23,34,27,27,24,25,44,21,21,35,50,33,44,25,25,21,20,21,35,22,29,37,47,39,44,47,26,36,27,30,34,23,34,47,23,33,53,28,26,30,28,33,36,22,22,24,27,31,28,29,26,47,29,36,46,30,30,27,33,41,34,30,42,22,37,48,25,23,28,54,31,29,32,30,25,19,31,38,26,26,39,34,20,26,27,55,57,31,37,26,47,24,33,35,24,34,29,35,25,21,25,28,35,25,26,41,41,24,27,34,45,27,21,26,39,23,31,48,25,24,39,29,34,32,22,25,30,23,28,30,25,23,24,24,27,23,37,34,33,23,43,28,32,21,25,21,45,25,25,28,24,64,37,26,42,27,28,23,27,22,32,24,20,22,22,23,31,40,26,27,55,60,40,36,32,23,23,26,25,22,24,48,45,20,46,18,24,35,19,32,25,44,59,55,34,27,32,26,33,37,23,21,27,22,30,23,22,25,27,25,49,31,54,29,30,60,23,40,45,24,47,21,20,24,38,27,23,24,20,20,30,32,33,27,28,59,40,57,37,61,62,57,55,44,28,21,45,46],\"xaxis\":\"x\",\"yaxis\":\"y\",\"type\":\"histogram\"},{\"alignmentgroup\":\"True\",\"hovertemplate\":\"Edad=%{x}\\u003cextra\\u003e\\u003c\\u002fextra\\u003e\",\"legendgroup\":\"\",\"marker\":{\"color\":\"#636efa\"},\"name\":\"\",\"notched\":true,\"offsetgroup\":\"\",\"showlegend\":false,\"x\":[31,25,23,18,26,38,21,27,25,32,18,41,40,25,27,33,23,20,31,18,21,23,24,30,45,36,18,30,22,24,23,23,20,48,45,33,22,31,45,39,27,36,36,24,42,24,42,28,24,20,28,20,45,38,39,20,47,65,37,28,39,46,31,53,42,30,21,21,52,30,25,31,27,34,27,22,42,29,31,24,39,22,24,25,23,24,30,18,25,22,30,33,30,30,30,47,38,34,23,22,25,57,33,26,22,31,20,21,23,20,36,33,24,25,33,33,19,24,32,60,57,50,24,25,26,21,21,20,38,20,25,23,27,30,24,21,21,32,30,19,25,24,24,42,33,29,18,27,30,31,31,19,21,31,26,28,27,24,48,28,37,41,20,39,19,31,28,46,35,26,51,26,27,19,20,25,33,23,19,25,25,41,35,19,33,34,42,27,32,24,19,26,31,31,48,18,20,51,23,42,40,21,18,26,20,44,39,21,44,18,19,45,28,56,27,43,21,30,33,34,21,18,36,43,35,34,27,18,21,20,36,22,30,53,41,22,25,28,43,44,26,24,22,32,23,49,22,19,25,21,23,46,20,49,20,25,63,19,22,23,27,21,20,42,27,28,20,41,27,47,21,30,28,25,44,42,31,53,21,38,26,32,24,22,48,62,31,24,25,24,32,20,43,41,24,23,44,24,35,23,31,33,38,50,27,34,31,43,50,18,29,41,32,46,21,22,19,24,34,26,25,45,36,34,23,28,36,25,29,32,30,33,27,26,49,26,39,37,29,21,36,21,24,28,21,30,25,38,24,24,24,38,60,28,24,22,28,19,23,41,37,21,31,31,48,28,35,21,28,36,34,21,32,22,30,18,25,22,28,38,32,20,29,24,58,55,53,23,26,45,22,31,21,39,18,20,31,24,24,55,25,21,31,27,57,45,24,27,32,39,19,23,26,19,30,30,29,38,24,25,43,24,24,45,45,27,24,37,23,38,27,30,18,36,43,55,24,48,51,46,48,27,23,34,26,20,33,19,24,22,26,25,20,20,24,19,23,48,55,35,23,31,19,19,26,19,30,34,22,27,24,21,23,36,21,26,35,31,31,20,21,61,34,25,25,21,22,22,23,41,19,42,28,31,26,44,19,20,47,19,53,31,53,49,34,21,20,30,23,26,25,30,50,20,21,25,21,42,30,34,30,39,20,22,28,19,37,47,49,31,23,21,35,19,44,43,21,23,36,33,23,54,37,49,57,45,28,28,32,29,25,25,27,33,51,28,26,21,36,41,25,28,22,24,19,43,29,37,35,37,28,22,20,32,57,39,25,30,23,30,44,23,46,25,35,31,62,35,27,30,22,41,28,30,31,24,26,44,21,36,33,47,33,22,22,54,23,39,38,24,21,23,24,41,46,36,19,28,32,55,20,19,19,30,20,22,26,25,43,43,29,25,21,29,24,55,46,55,21,20,25,22,22,27,29,44,41,52,45,20,33,38,30,31,24,26,25,33,30,30,43,27,20,21,41,20,19,30,47,25,23,42,23,30,22,20,21,29,22,31,22,23,26,27,36,27,51,29,57,26,30,30,23,19,30,24,28,29,26,33,30,22,51,42,41,28,30,20,33,33,26,20,23,27,42,26,21,22,31,21,53,30,42,36,40,45,26,38,32,47,30,40,37,42,26,23,47,46,41,22,20,25,28,29,30,24,43,26,21,31,22,26,24,32,20,23,25,23,44,27,36,24,23,36,21,28,23,26,24,30,27,28,26,24,38,32,38,38,21,26,46,19,21,31,24,43,25,24,29,43,21,36,28,29,23,28,32,55,23,20,48,30,32,26,25,27,39,23,28,60,43,26,49,34,20,23,25,40,32,38,23,39,30,41,38,29,32,40,50,47,40,26,28,49,30,24,35,27,41,30,32,22,32,29,27,27,27,24,39,29,22,20,28,21,21,38,36,33,60,28,25,32,31,26,43,22,42,25,34,26,22,27,33,22,41,24,24,28,34,26,32,42,33,24,27,39,27,67,21,25,24,30,31,42,26,28,31,26,28,23,25,23,49,32,20,22,23,22,24,23,22,29,34,37,23,26,42,37,28,31,28,25,23,32,27,29,43,38,30,37,27,28,27,61,36,49,21,26,19,23,41,36,25,26,45,23,28,24,24,25,32,21,24,24,20,20,48,38,25,46,36,20,35,33,31,29,24,22,20,29,26,29,30,32,46,41,27,27,32,48,24,25,22,25,19,26,26,22,23,35,29,40,39,58,51,33,60,26,26,26,26,22,39,22,35,24,23,32,26,24,27,29,26,25,30,25,26,39,33,33,20,31,37,28,50,27,58,36,30,22,22,23,26,19,36,40,31,33,21,32,24,30,28,44,34,42,26,30,34,26,27,37,34,45,63,29,24,25,26,52,33,40,38,50,26,25,20,30,28,26,23,23,23,20,23,29,27,36,22,28,26,26,24,29,23,19,26,29,29,37,30,33,30,24,43,43,20,48,23,20,24,19,41,42,41,37,28,39,32,56,28,24,34,28,31,44,62,38,30,50,35,32,25,21,25,36,19,45,25,46,23,39,35,49,32,39,38,30,32,25,31,25,29,26,25,35,39,30,26,41,24,25,45,23,34,27,27,24,25,44,21,21,35,50,33,44,25,25,21,20,21,35,22,29,37,47,39,44,47,26,36,27,30,34,23,34,47,23,33,53,28,26,30,28,33,36,22,22,24,27,31,28,29,26,47,29,36,46,30,30,27,33,41,34,30,42,22,37,48,25,23,28,54,31,29,32,30,25,19,31,38,26,26,39,34,20,26,27,55,57,31,37,26,47,24,33,35,24,34,29,35,25,21,25,28,35,25,26,41,41,24,27,34,45,27,21,26,39,23,31,48,25,24,39,29,34,32,22,25,30,23,28,30,25,23,24,24,27,23,37,34,33,23,43,28,32,21,25,21,45,25,25,28,24,64,37,26,42,27,28,23,27,22,32,24,20,22,22,23,31,40,26,27,55,60,40,36,32,23,23,26,25,22,24,48,45,20,46,18,24,35,19,32,25,44,59,55,34,27,32,26,33,37,23,21,27,22,30,23,22,25,27,25,49,31,54,29,30,60,23,40,45,24,47,21,20,24,38,27,23,24,20,20,30,32,33,27,28,59,40,57,37,61,62,57,55,44,28,21,45,46],\"xaxis\":\"x2\",\"yaxis\":\"y2\",\"type\":\"box\"}],                        {\"template\":{\"data\":{\"histogram2dcontour\":[{\"type\":\"histogram2dcontour\",\"colorbar\":{\"outlinewidth\":0,\"ticks\":\"\"},\"colorscale\":[[0.0,\"#0d0887\"],[0.1111111111111111,\"#46039f\"],[0.2222222222222222,\"#7201a8\"],[0.3333333333333333,\"#9c179e\"],[0.4444444444444444,\"#bd3786\"],[0.5555555555555556,\"#d8576b\"],[0.6666666666666666,\"#ed7953\"],[0.7777777777777778,\"#fb9f3a\"],[0.8888888888888888,\"#fdca26\"],[1.0,\"#f0f921\"]]}],\"choropleth\":[{\"type\":\"choropleth\",\"colorbar\":{\"outlinewidth\":0,\"ticks\":\"\"}}],\"histogram2d\":[{\"type\":\"histogram2d\",\"colorbar\":{\"outlinewidth\":0,\"ticks\":\"\"},\"colorscale\":[[0.0,\"#0d0887\"],[0.1111111111111111,\"#46039f\"],[0.2222222222222222,\"#7201a8\"],[0.3333333333333333,\"#9c179e\"],[0.4444444444444444,\"#bd3786\"],[0.5555555555555556,\"#d8576b\"],[0.6666666666666666,\"#ed7953\"],[0.7777777777777778,\"#fb9f3a\"],[0.8888888888888888,\"#fdca26\"],[1.0,\"#f0f921\"]]}],\"heatmap\":[{\"type\":\"heatmap\",\"colorbar\":{\"outlinewidth\":0,\"ticks\":\"\"},\"colorscale\":[[0.0,\"#0d0887\"],[0.1111111111111111,\"#46039f\"],[0.2222222222222222,\"#7201a8\"],[0.3333333333333333,\"#9c179e\"],[0.4444444444444444,\"#bd3786\"],[0.5555555555555556,\"#d8576b\"],[0.6666666666666666,\"#ed7953\"],[0.7777777777777778,\"#fb9f3a\"],[0.8888888888888888,\"#fdca26\"],[1.0,\"#f0f921\"]]}],\"heatmapgl\":[{\"type\":\"heatmapgl\",\"colorbar\":{\"outlinewidth\":0,\"ticks\":\"\"},\"colorscale\":[[0.0,\"#0d0887\"],[0.1111111111111111,\"#46039f\"],[0.2222222222222222,\"#7201a8\"],[0.3333333333333333,\"#9c179e\"],[0.4444444444444444,\"#bd3786\"],[0.5555555555555556,\"#d8576b\"],[0.6666666666666666,\"#ed7953\"],[0.7777777777777778,\"#fb9f3a\"],[0.8888888888888888,\"#fdca26\"],[1.0,\"#f0f921\"]]}],\"contourcarpet\":[{\"type\":\"contourcarpet\",\"colorbar\":{\"outlinewidth\":0,\"ticks\":\"\"}}],\"contour\":[{\"type\":\"contour\",\"colorbar\":{\"outlinewidth\":0,\"ticks\":\"\"},\"colorscale\":[[0.0,\"#0d0887\"],[0.1111111111111111,\"#46039f\"],[0.2222222222222222,\"#7201a8\"],[0.3333333333333333,\"#9c179e\"],[0.4444444444444444,\"#bd3786\"],[0.5555555555555556,\"#d8576b\"],[0.6666666666666666,\"#ed7953\"],[0.7777777777777778,\"#fb9f3a\"],[0.8888888888888888,\"#fdca26\"],[1.0,\"#f0f921\"]]}],\"surface\":[{\"type\":\"surface\",\"colorbar\":{\"outlinewidth\":0,\"ticks\":\"\"},\"colorscale\":[[0.0,\"#0d0887\"],[0.1111111111111111,\"#46039f\"],[0.2222222222222222,\"#7201a8\"],[0.3333333333333333,\"#9c179e\"],[0.4444444444444444,\"#bd3786\"],[0.5555555555555556,\"#d8576b\"],[0.6666666666666666,\"#ed7953\"],[0.7777777777777778,\"#fb9f3a\"],[0.8888888888888888,\"#fdca26\"],[1.0,\"#f0f921\"]]}],\"mesh3d\":[{\"type\":\"mesh3d\",\"colorbar\":{\"outlinewidth\":0,\"ticks\":\"\"}}],\"scatter\":[{\"fillpattern\":{\"fillmode\":\"overlay\",\"size\":10,\"solidity\":0.2},\"type\":\"scatter\"}],\"parcoords\":[{\"type\":\"parcoords\",\"line\":{\"colorbar\":{\"outlinewidth\":0,\"ticks\":\"\"}}}],\"scatterpolargl\":[{\"type\":\"scatterpolargl\",\"marker\":{\"colorbar\":{\"outlinewidth\":0,\"ticks\":\"\"}}}],\"bar\":[{\"error_x\":{\"color\":\"#2a3f5f\"},\"error_y\":{\"color\":\"#2a3f5f\"},\"marker\":{\"line\":{\"color\":\"#E5ECF6\",\"width\":0.5},\"pattern\":{\"fillmode\":\"overlay\",\"size\":10,\"solidity\":0.2}},\"type\":\"bar\"}],\"scattergeo\":[{\"type\":\"scattergeo\",\"marker\":{\"colorbar\":{\"outlinewidth\":0,\"ticks\":\"\"}}}],\"scatterpolar\":[{\"type\":\"scatterpolar\",\"marker\":{\"colorbar\":{\"outlinewidth\":0,\"ticks\":\"\"}}}],\"histogram\":[{\"marker\":{\"pattern\":{\"fillmode\":\"overlay\",\"size\":10,\"solidity\":0.2}},\"type\":\"histogram\"}],\"scattergl\":[{\"type\":\"scattergl\",\"marker\":{\"colorbar\":{\"outlinewidth\":0,\"ticks\":\"\"}}}],\"scatter3d\":[{\"type\":\"scatter3d\",\"line\":{\"colorbar\":{\"outlinewidth\":0,\"ticks\":\"\"}},\"marker\":{\"colorbar\":{\"outlinewidth\":0,\"ticks\":\"\"}}}],\"scattermapbox\":[{\"type\":\"scattermapbox\",\"marker\":{\"colorbar\":{\"outlinewidth\":0,\"ticks\":\"\"}}}],\"scatterternary\":[{\"type\":\"scatterternary\",\"marker\":{\"colorbar\":{\"outlinewidth\":0,\"ticks\":\"\"}}}],\"scattercarpet\":[{\"type\":\"scattercarpet\",\"marker\":{\"colorbar\":{\"outlinewidth\":0,\"ticks\":\"\"}}}],\"carpet\":[{\"aaxis\":{\"endlinecolor\":\"#2a3f5f\",\"gridcolor\":\"white\",\"linecolor\":\"white\",\"minorgridcolor\":\"white\",\"startlinecolor\":\"#2a3f5f\"},\"baxis\":{\"endlinecolor\":\"#2a3f5f\",\"gridcolor\":\"white\",\"linecolor\":\"white\",\"minorgridcolor\":\"white\",\"startlinecolor\":\"#2a3f5f\"},\"type\":\"carpet\"}],\"table\":[{\"cells\":{\"fill\":{\"color\":\"#EBF0F8\"},\"line\":{\"color\":\"white\"}},\"header\":{\"fill\":{\"color\":\"#C8D4E3\"},\"line\":{\"color\":\"white\"}},\"type\":\"table\"}],\"barpolar\":[{\"marker\":{\"line\":{\"color\":\"#E5ECF6\",\"width\":0.5},\"pattern\":{\"fillmode\":\"overlay\",\"size\":10,\"solidity\":0.2}},\"type\":\"barpolar\"}],\"pie\":[{\"automargin\":true,\"type\":\"pie\"}]},\"layout\":{\"autotypenumbers\":\"strict\",\"colorway\":[\"#636efa\",\"#EF553B\",\"#00cc96\",\"#ab63fa\",\"#FFA15A\",\"#19d3f3\",\"#FF6692\",\"#B6E880\",\"#FF97FF\",\"#FECB52\"],\"font\":{\"color\":\"#2a3f5f\"},\"hovermode\":\"closest\",\"hoverlabel\":{\"align\":\"left\"},\"paper_bgcolor\":\"white\",\"plot_bgcolor\":\"#E5ECF6\",\"polar\":{\"bgcolor\":\"#E5ECF6\",\"angularaxis\":{\"gridcolor\":\"white\",\"linecolor\":\"white\",\"ticks\":\"\"},\"radialaxis\":{\"gridcolor\":\"white\",\"linecolor\":\"white\",\"ticks\":\"\"}},\"ternary\":{\"bgcolor\":\"#E5ECF6\",\"aaxis\":{\"gridcolor\":\"white\",\"linecolor\":\"white\",\"ticks\":\"\"},\"baxis\":{\"gridcolor\":\"white\",\"linecolor\":\"white\",\"ticks\":\"\"},\"caxis\":{\"gridcolor\":\"white\",\"linecolor\":\"white\",\"ticks\":\"\"}},\"coloraxis\":{\"colorbar\":{\"outlinewidth\":0,\"ticks\":\"\"}},\"colorscale\":{\"sequential\":[[0.0,\"#0d0887\"],[0.1111111111111111,\"#46039f\"],[0.2222222222222222,\"#7201a8\"],[0.3333333333333333,\"#9c179e\"],[0.4444444444444444,\"#bd3786\"],[0.5555555555555556,\"#d8576b\"],[0.6666666666666666,\"#ed7953\"],[0.7777777777777778,\"#fb9f3a\"],[0.8888888888888888,\"#fdca26\"],[1.0,\"#f0f921\"]],\"sequentialminus\":[[0.0,\"#0d0887\"],[0.1111111111111111,\"#46039f\"],[0.2222222222222222,\"#7201a8\"],[0.3333333333333333,\"#9c179e\"],[0.4444444444444444,\"#bd3786\"],[0.5555555555555556,\"#d8576b\"],[0.6666666666666666,\"#ed7953\"],[0.7777777777777778,\"#fb9f3a\"],[0.8888888888888888,\"#fdca26\"],[1.0,\"#f0f921\"]],\"diverging\":[[0,\"#8e0152\"],[0.1,\"#c51b7d\"],[0.2,\"#de77ae\"],[0.3,\"#f1b6da\"],[0.4,\"#fde0ef\"],[0.5,\"#f7f7f7\"],[0.6,\"#e6f5d0\"],[0.7,\"#b8e186\"],[0.8,\"#7fbc41\"],[0.9,\"#4d9221\"],[1,\"#276419\"]]},\"xaxis\":{\"gridcolor\":\"white\",\"linecolor\":\"white\",\"ticks\":\"\",\"title\":{\"standoff\":15},\"zerolinecolor\":\"white\",\"automargin\":true,\"zerolinewidth\":2},\"yaxis\":{\"gridcolor\":\"white\",\"linecolor\":\"white\",\"ticks\":\"\",\"title\":{\"standoff\":15},\"zerolinecolor\":\"white\",\"automargin\":true,\"zerolinewidth\":2},\"scene\":{\"xaxis\":{\"backgroundcolor\":\"#E5ECF6\",\"gridcolor\":\"white\",\"linecolor\":\"white\",\"showbackground\":true,\"ticks\":\"\",\"zerolinecolor\":\"white\",\"gridwidth\":2},\"yaxis\":{\"backgroundcolor\":\"#E5ECF6\",\"gridcolor\":\"white\",\"linecolor\":\"white\",\"showbackground\":true,\"ticks\":\"\",\"zerolinecolor\":\"white\",\"gridwidth\":2},\"zaxis\":{\"backgroundcolor\":\"#E5ECF6\",\"gridcolor\":\"white\",\"linecolor\":\"white\",\"showbackground\":true,\"ticks\":\"\",\"zerolinecolor\":\"white\",\"gridwidth\":2}},\"shapedefaults\":{\"line\":{\"color\":\"#2a3f5f\"}},\"annotationdefaults\":{\"arrowcolor\":\"#2a3f5f\",\"arrowhead\":0,\"arrowwidth\":1},\"geo\":{\"bgcolor\":\"white\",\"landcolor\":\"#E5ECF6\",\"subunitcolor\":\"white\",\"showland\":true,\"showlakes\":true,\"lakecolor\":\"white\"},\"title\":{\"x\":0.05},\"mapbox\":{\"style\":\"light\"}}},\"xaxis\":{\"anchor\":\"y\",\"domain\":[0.0,1.0],\"title\":{\"text\":\"Edad\"}},\"yaxis\":{\"anchor\":\"x\",\"domain\":[0.0,0.8316],\"title\":{\"text\":\"count\"}},\"xaxis2\":{\"anchor\":\"y2\",\"domain\":[0.0,1.0],\"matches\":\"x\",\"showticklabels\":false,\"showgrid\":true},\"yaxis2\":{\"anchor\":\"x2\",\"domain\":[0.8416,1.0],\"matches\":\"y2\",\"showticklabels\":false,\"showline\":false,\"ticks\":\"\",\"showgrid\":false},\"legend\":{\"tracegroupgap\":0},\"title\":{\"text\":\"Distribución de Edad\"},\"barmode\":\"relative\"},                        {\"responsive\": true}                    ).then(function(){\n",
       "                            \n",
       "var gd = document.getElementById('22ff6fdd-99db-4b78-b726-bca2399498c8');\n",
       "var x = new MutationObserver(function (mutations, observer) {{\n",
       "        var display = window.getComputedStyle(gd).display;\n",
       "        if (!display || display === 'none') {{\n",
       "            console.log([gd, 'removed!']);\n",
       "            Plotly.purge(gd);\n",
       "            observer.disconnect();\n",
       "        }}\n",
       "}});\n",
       "\n",
       "// Listen for the removal of the full notebook cells\n",
       "var notebookContainer = gd.closest('#notebook-container');\n",
       "if (notebookContainer) {{\n",
       "    x.observe(notebookContainer, {childList: true});\n",
       "}}\n",
       "\n",
       "// Listen for the clearing of the current output cell\n",
       "var outputEl = gd.closest('.output');\n",
       "if (outputEl) {{\n",
       "    x.observe(outputEl, {childList: true});\n",
       "}}\n",
       "\n",
       "                        })                };                });            </script>        </div>"
      ]
     },
     "metadata": {},
     "output_type": "display_data"
    },
    {
     "data": {
      "application/vnd.plotly.v1+json": {
       "config": {
        "plotlyServerURL": "https://plot.ly"
       },
       "data": [
        {
         "alignmentgroup": "True",
         "hovertemplate": "Estado Civil=%{x}<br>Frecuencia=%{y}<extra></extra>",
         "legendgroup": "",
         "marker": {
          "color": "#636efa",
          "pattern": {
           "shape": ""
          }
         },
         "name": "",
         "offsetgroup": "",
         "orientation": "v",
         "showlegend": false,
         "textposition": "auto",
         "type": "bar",
         "x": [
          "Soltero",
          "Casad",
          "U-Libr",
          "Sep"
         ],
         "xaxis": "x",
         "y": [
          752,
          334,
          285,
          30
         ],
         "yaxis": "y"
        }
       ],
       "layout": {
        "barmode": "relative",
        "legend": {
         "tracegroupgap": 0
        },
        "template": {
         "data": {
          "bar": [
           {
            "error_x": {
             "color": "#2a3f5f"
            },
            "error_y": {
             "color": "#2a3f5f"
            },
            "marker": {
             "line": {
              "color": "#E5ECF6",
              "width": 0.5
             },
             "pattern": {
              "fillmode": "overlay",
              "size": 10,
              "solidity": 0.2
             }
            },
            "type": "bar"
           }
          ],
          "barpolar": [
           {
            "marker": {
             "line": {
              "color": "#E5ECF6",
              "width": 0.5
             },
             "pattern": {
              "fillmode": "overlay",
              "size": 10,
              "solidity": 0.2
             }
            },
            "type": "barpolar"
           }
          ],
          "carpet": [
           {
            "aaxis": {
             "endlinecolor": "#2a3f5f",
             "gridcolor": "white",
             "linecolor": "white",
             "minorgridcolor": "white",
             "startlinecolor": "#2a3f5f"
            },
            "baxis": {
             "endlinecolor": "#2a3f5f",
             "gridcolor": "white",
             "linecolor": "white",
             "minorgridcolor": "white",
             "startlinecolor": "#2a3f5f"
            },
            "type": "carpet"
           }
          ],
          "choropleth": [
           {
            "colorbar": {
             "outlinewidth": 0,
             "ticks": ""
            },
            "type": "choropleth"
           }
          ],
          "contour": [
           {
            "colorbar": {
             "outlinewidth": 0,
             "ticks": ""
            },
            "colorscale": [
             [
              0,
              "#0d0887"
             ],
             [
              0.1111111111111111,
              "#46039f"
             ],
             [
              0.2222222222222222,
              "#7201a8"
             ],
             [
              0.3333333333333333,
              "#9c179e"
             ],
             [
              0.4444444444444444,
              "#bd3786"
             ],
             [
              0.5555555555555556,
              "#d8576b"
             ],
             [
              0.6666666666666666,
              "#ed7953"
             ],
             [
              0.7777777777777778,
              "#fb9f3a"
             ],
             [
              0.8888888888888888,
              "#fdca26"
             ],
             [
              1,
              "#f0f921"
             ]
            ],
            "type": "contour"
           }
          ],
          "contourcarpet": [
           {
            "colorbar": {
             "outlinewidth": 0,
             "ticks": ""
            },
            "type": "contourcarpet"
           }
          ],
          "heatmap": [
           {
            "colorbar": {
             "outlinewidth": 0,
             "ticks": ""
            },
            "colorscale": [
             [
              0,
              "#0d0887"
             ],
             [
              0.1111111111111111,
              "#46039f"
             ],
             [
              0.2222222222222222,
              "#7201a8"
             ],
             [
              0.3333333333333333,
              "#9c179e"
             ],
             [
              0.4444444444444444,
              "#bd3786"
             ],
             [
              0.5555555555555556,
              "#d8576b"
             ],
             [
              0.6666666666666666,
              "#ed7953"
             ],
             [
              0.7777777777777778,
              "#fb9f3a"
             ],
             [
              0.8888888888888888,
              "#fdca26"
             ],
             [
              1,
              "#f0f921"
             ]
            ],
            "type": "heatmap"
           }
          ],
          "heatmapgl": [
           {
            "colorbar": {
             "outlinewidth": 0,
             "ticks": ""
            },
            "colorscale": [
             [
              0,
              "#0d0887"
             ],
             [
              0.1111111111111111,
              "#46039f"
             ],
             [
              0.2222222222222222,
              "#7201a8"
             ],
             [
              0.3333333333333333,
              "#9c179e"
             ],
             [
              0.4444444444444444,
              "#bd3786"
             ],
             [
              0.5555555555555556,
              "#d8576b"
             ],
             [
              0.6666666666666666,
              "#ed7953"
             ],
             [
              0.7777777777777778,
              "#fb9f3a"
             ],
             [
              0.8888888888888888,
              "#fdca26"
             ],
             [
              1,
              "#f0f921"
             ]
            ],
            "type": "heatmapgl"
           }
          ],
          "histogram": [
           {
            "marker": {
             "pattern": {
              "fillmode": "overlay",
              "size": 10,
              "solidity": 0.2
             }
            },
            "type": "histogram"
           }
          ],
          "histogram2d": [
           {
            "colorbar": {
             "outlinewidth": 0,
             "ticks": ""
            },
            "colorscale": [
             [
              0,
              "#0d0887"
             ],
             [
              0.1111111111111111,
              "#46039f"
             ],
             [
              0.2222222222222222,
              "#7201a8"
             ],
             [
              0.3333333333333333,
              "#9c179e"
             ],
             [
              0.4444444444444444,
              "#bd3786"
             ],
             [
              0.5555555555555556,
              "#d8576b"
             ],
             [
              0.6666666666666666,
              "#ed7953"
             ],
             [
              0.7777777777777778,
              "#fb9f3a"
             ],
             [
              0.8888888888888888,
              "#fdca26"
             ],
             [
              1,
              "#f0f921"
             ]
            ],
            "type": "histogram2d"
           }
          ],
          "histogram2dcontour": [
           {
            "colorbar": {
             "outlinewidth": 0,
             "ticks": ""
            },
            "colorscale": [
             [
              0,
              "#0d0887"
             ],
             [
              0.1111111111111111,
              "#46039f"
             ],
             [
              0.2222222222222222,
              "#7201a8"
             ],
             [
              0.3333333333333333,
              "#9c179e"
             ],
             [
              0.4444444444444444,
              "#bd3786"
             ],
             [
              0.5555555555555556,
              "#d8576b"
             ],
             [
              0.6666666666666666,
              "#ed7953"
             ],
             [
              0.7777777777777778,
              "#fb9f3a"
             ],
             [
              0.8888888888888888,
              "#fdca26"
             ],
             [
              1,
              "#f0f921"
             ]
            ],
            "type": "histogram2dcontour"
           }
          ],
          "mesh3d": [
           {
            "colorbar": {
             "outlinewidth": 0,
             "ticks": ""
            },
            "type": "mesh3d"
           }
          ],
          "parcoords": [
           {
            "line": {
             "colorbar": {
              "outlinewidth": 0,
              "ticks": ""
             }
            },
            "type": "parcoords"
           }
          ],
          "pie": [
           {
            "automargin": true,
            "type": "pie"
           }
          ],
          "scatter": [
           {
            "fillpattern": {
             "fillmode": "overlay",
             "size": 10,
             "solidity": 0.2
            },
            "type": "scatter"
           }
          ],
          "scatter3d": [
           {
            "line": {
             "colorbar": {
              "outlinewidth": 0,
              "ticks": ""
             }
            },
            "marker": {
             "colorbar": {
              "outlinewidth": 0,
              "ticks": ""
             }
            },
            "type": "scatter3d"
           }
          ],
          "scattercarpet": [
           {
            "marker": {
             "colorbar": {
              "outlinewidth": 0,
              "ticks": ""
             }
            },
            "type": "scattercarpet"
           }
          ],
          "scattergeo": [
           {
            "marker": {
             "colorbar": {
              "outlinewidth": 0,
              "ticks": ""
             }
            },
            "type": "scattergeo"
           }
          ],
          "scattergl": [
           {
            "marker": {
             "colorbar": {
              "outlinewidth": 0,
              "ticks": ""
             }
            },
            "type": "scattergl"
           }
          ],
          "scattermapbox": [
           {
            "marker": {
             "colorbar": {
              "outlinewidth": 0,
              "ticks": ""
             }
            },
            "type": "scattermapbox"
           }
          ],
          "scatterpolar": [
           {
            "marker": {
             "colorbar": {
              "outlinewidth": 0,
              "ticks": ""
             }
            },
            "type": "scatterpolar"
           }
          ],
          "scatterpolargl": [
           {
            "marker": {
             "colorbar": {
              "outlinewidth": 0,
              "ticks": ""
             }
            },
            "type": "scatterpolargl"
           }
          ],
          "scatterternary": [
           {
            "marker": {
             "colorbar": {
              "outlinewidth": 0,
              "ticks": ""
             }
            },
            "type": "scatterternary"
           }
          ],
          "surface": [
           {
            "colorbar": {
             "outlinewidth": 0,
             "ticks": ""
            },
            "colorscale": [
             [
              0,
              "#0d0887"
             ],
             [
              0.1111111111111111,
              "#46039f"
             ],
             [
              0.2222222222222222,
              "#7201a8"
             ],
             [
              0.3333333333333333,
              "#9c179e"
             ],
             [
              0.4444444444444444,
              "#bd3786"
             ],
             [
              0.5555555555555556,
              "#d8576b"
             ],
             [
              0.6666666666666666,
              "#ed7953"
             ],
             [
              0.7777777777777778,
              "#fb9f3a"
             ],
             [
              0.8888888888888888,
              "#fdca26"
             ],
             [
              1,
              "#f0f921"
             ]
            ],
            "type": "surface"
           }
          ],
          "table": [
           {
            "cells": {
             "fill": {
              "color": "#EBF0F8"
             },
             "line": {
              "color": "white"
             }
            },
            "header": {
             "fill": {
              "color": "#C8D4E3"
             },
             "line": {
              "color": "white"
             }
            },
            "type": "table"
           }
          ]
         },
         "layout": {
          "annotationdefaults": {
           "arrowcolor": "#2a3f5f",
           "arrowhead": 0,
           "arrowwidth": 1
          },
          "autotypenumbers": "strict",
          "coloraxis": {
           "colorbar": {
            "outlinewidth": 0,
            "ticks": ""
           }
          },
          "colorscale": {
           "diverging": [
            [
             0,
             "#8e0152"
            ],
            [
             0.1,
             "#c51b7d"
            ],
            [
             0.2,
             "#de77ae"
            ],
            [
             0.3,
             "#f1b6da"
            ],
            [
             0.4,
             "#fde0ef"
            ],
            [
             0.5,
             "#f7f7f7"
            ],
            [
             0.6,
             "#e6f5d0"
            ],
            [
             0.7,
             "#b8e186"
            ],
            [
             0.8,
             "#7fbc41"
            ],
            [
             0.9,
             "#4d9221"
            ],
            [
             1,
             "#276419"
            ]
           ],
           "sequential": [
            [
             0,
             "#0d0887"
            ],
            [
             0.1111111111111111,
             "#46039f"
            ],
            [
             0.2222222222222222,
             "#7201a8"
            ],
            [
             0.3333333333333333,
             "#9c179e"
            ],
            [
             0.4444444444444444,
             "#bd3786"
            ],
            [
             0.5555555555555556,
             "#d8576b"
            ],
            [
             0.6666666666666666,
             "#ed7953"
            ],
            [
             0.7777777777777778,
             "#fb9f3a"
            ],
            [
             0.8888888888888888,
             "#fdca26"
            ],
            [
             1,
             "#f0f921"
            ]
           ],
           "sequentialminus": [
            [
             0,
             "#0d0887"
            ],
            [
             0.1111111111111111,
             "#46039f"
            ],
            [
             0.2222222222222222,
             "#7201a8"
            ],
            [
             0.3333333333333333,
             "#9c179e"
            ],
            [
             0.4444444444444444,
             "#bd3786"
            ],
            [
             0.5555555555555556,
             "#d8576b"
            ],
            [
             0.6666666666666666,
             "#ed7953"
            ],
            [
             0.7777777777777778,
             "#fb9f3a"
            ],
            [
             0.8888888888888888,
             "#fdca26"
            ],
            [
             1,
             "#f0f921"
            ]
           ]
          },
          "colorway": [
           "#636efa",
           "#EF553B",
           "#00cc96",
           "#ab63fa",
           "#FFA15A",
           "#19d3f3",
           "#FF6692",
           "#B6E880",
           "#FF97FF",
           "#FECB52"
          ],
          "font": {
           "color": "#2a3f5f"
          },
          "geo": {
           "bgcolor": "white",
           "lakecolor": "white",
           "landcolor": "#E5ECF6",
           "showlakes": true,
           "showland": true,
           "subunitcolor": "white"
          },
          "hoverlabel": {
           "align": "left"
          },
          "hovermode": "closest",
          "mapbox": {
           "style": "light"
          },
          "paper_bgcolor": "white",
          "plot_bgcolor": "#E5ECF6",
          "polar": {
           "angularaxis": {
            "gridcolor": "white",
            "linecolor": "white",
            "ticks": ""
           },
           "bgcolor": "#E5ECF6",
           "radialaxis": {
            "gridcolor": "white",
            "linecolor": "white",
            "ticks": ""
           }
          },
          "scene": {
           "xaxis": {
            "backgroundcolor": "#E5ECF6",
            "gridcolor": "white",
            "gridwidth": 2,
            "linecolor": "white",
            "showbackground": true,
            "ticks": "",
            "zerolinecolor": "white"
           },
           "yaxis": {
            "backgroundcolor": "#E5ECF6",
            "gridcolor": "white",
            "gridwidth": 2,
            "linecolor": "white",
            "showbackground": true,
            "ticks": "",
            "zerolinecolor": "white"
           },
           "zaxis": {
            "backgroundcolor": "#E5ECF6",
            "gridcolor": "white",
            "gridwidth": 2,
            "linecolor": "white",
            "showbackground": true,
            "ticks": "",
            "zerolinecolor": "white"
           }
          },
          "shapedefaults": {
           "line": {
            "color": "#2a3f5f"
           }
          },
          "ternary": {
           "aaxis": {
            "gridcolor": "white",
            "linecolor": "white",
            "ticks": ""
           },
           "baxis": {
            "gridcolor": "white",
            "linecolor": "white",
            "ticks": ""
           },
           "bgcolor": "#E5ECF6",
           "caxis": {
            "gridcolor": "white",
            "linecolor": "white",
            "ticks": ""
           }
          },
          "title": {
           "x": 0.05
          },
          "xaxis": {
           "automargin": true,
           "gridcolor": "white",
           "linecolor": "white",
           "ticks": "",
           "title": {
            "standoff": 15
           },
           "zerolinecolor": "white",
           "zerolinewidth": 2
          },
          "yaxis": {
           "automargin": true,
           "gridcolor": "white",
           "linecolor": "white",
           "ticks": "",
           "title": {
            "standoff": 15
           },
           "zerolinecolor": "white",
           "zerolinewidth": 2
          }
         }
        },
        "title": {
         "text": "Distribución por Estado Civil"
        },
        "xaxis": {
         "anchor": "y",
         "domain": [
          0,
          1
         ],
         "title": {
          "text": "Estado Civil"
         }
        },
        "yaxis": {
         "anchor": "x",
         "domain": [
          0,
          1
         ],
         "title": {
          "text": "Frecuencia"
         }
        }
       }
      },
      "text/html": [
       "<div>                            <div id=\"ec949ad9-3095-4f71-a6c8-b5d4041669d7\" class=\"plotly-graph-div\" style=\"height:525px; width:100%;\"></div>            <script type=\"text/javascript\">                require([\"plotly\"], function(Plotly) {                    window.PLOTLYENV=window.PLOTLYENV || {};                                    if (document.getElementById(\"ec949ad9-3095-4f71-a6c8-b5d4041669d7\")) {                    Plotly.newPlot(                        \"ec949ad9-3095-4f71-a6c8-b5d4041669d7\",                        [{\"alignmentgroup\":\"True\",\"hovertemplate\":\"Estado Civil=%{x}\\u003cbr\\u003eFrecuencia=%{y}\\u003cextra\\u003e\\u003c\\u002fextra\\u003e\",\"legendgroup\":\"\",\"marker\":{\"color\":\"#636efa\",\"pattern\":{\"shape\":\"\"}},\"name\":\"\",\"offsetgroup\":\"\",\"orientation\":\"v\",\"showlegend\":false,\"textposition\":\"auto\",\"x\":[\"Soltero\",\"Casad\",\"U-Libr\",\"Sep\"],\"xaxis\":\"x\",\"y\":[752,334,285,30],\"yaxis\":\"y\",\"type\":\"bar\"}],                        {\"template\":{\"data\":{\"histogram2dcontour\":[{\"type\":\"histogram2dcontour\",\"colorbar\":{\"outlinewidth\":0,\"ticks\":\"\"},\"colorscale\":[[0.0,\"#0d0887\"],[0.1111111111111111,\"#46039f\"],[0.2222222222222222,\"#7201a8\"],[0.3333333333333333,\"#9c179e\"],[0.4444444444444444,\"#bd3786\"],[0.5555555555555556,\"#d8576b\"],[0.6666666666666666,\"#ed7953\"],[0.7777777777777778,\"#fb9f3a\"],[0.8888888888888888,\"#fdca26\"],[1.0,\"#f0f921\"]]}],\"choropleth\":[{\"type\":\"choropleth\",\"colorbar\":{\"outlinewidth\":0,\"ticks\":\"\"}}],\"histogram2d\":[{\"type\":\"histogram2d\",\"colorbar\":{\"outlinewidth\":0,\"ticks\":\"\"},\"colorscale\":[[0.0,\"#0d0887\"],[0.1111111111111111,\"#46039f\"],[0.2222222222222222,\"#7201a8\"],[0.3333333333333333,\"#9c179e\"],[0.4444444444444444,\"#bd3786\"],[0.5555555555555556,\"#d8576b\"],[0.6666666666666666,\"#ed7953\"],[0.7777777777777778,\"#fb9f3a\"],[0.8888888888888888,\"#fdca26\"],[1.0,\"#f0f921\"]]}],\"heatmap\":[{\"type\":\"heatmap\",\"colorbar\":{\"outlinewidth\":0,\"ticks\":\"\"},\"colorscale\":[[0.0,\"#0d0887\"],[0.1111111111111111,\"#46039f\"],[0.2222222222222222,\"#7201a8\"],[0.3333333333333333,\"#9c179e\"],[0.4444444444444444,\"#bd3786\"],[0.5555555555555556,\"#d8576b\"],[0.6666666666666666,\"#ed7953\"],[0.7777777777777778,\"#fb9f3a\"],[0.8888888888888888,\"#fdca26\"],[1.0,\"#f0f921\"]]}],\"heatmapgl\":[{\"type\":\"heatmapgl\",\"colorbar\":{\"outlinewidth\":0,\"ticks\":\"\"},\"colorscale\":[[0.0,\"#0d0887\"],[0.1111111111111111,\"#46039f\"],[0.2222222222222222,\"#7201a8\"],[0.3333333333333333,\"#9c179e\"],[0.4444444444444444,\"#bd3786\"],[0.5555555555555556,\"#d8576b\"],[0.6666666666666666,\"#ed7953\"],[0.7777777777777778,\"#fb9f3a\"],[0.8888888888888888,\"#fdca26\"],[1.0,\"#f0f921\"]]}],\"contourcarpet\":[{\"type\":\"contourcarpet\",\"colorbar\":{\"outlinewidth\":0,\"ticks\":\"\"}}],\"contour\":[{\"type\":\"contour\",\"colorbar\":{\"outlinewidth\":0,\"ticks\":\"\"},\"colorscale\":[[0.0,\"#0d0887\"],[0.1111111111111111,\"#46039f\"],[0.2222222222222222,\"#7201a8\"],[0.3333333333333333,\"#9c179e\"],[0.4444444444444444,\"#bd3786\"],[0.5555555555555556,\"#d8576b\"],[0.6666666666666666,\"#ed7953\"],[0.7777777777777778,\"#fb9f3a\"],[0.8888888888888888,\"#fdca26\"],[1.0,\"#f0f921\"]]}],\"surface\":[{\"type\":\"surface\",\"colorbar\":{\"outlinewidth\":0,\"ticks\":\"\"},\"colorscale\":[[0.0,\"#0d0887\"],[0.1111111111111111,\"#46039f\"],[0.2222222222222222,\"#7201a8\"],[0.3333333333333333,\"#9c179e\"],[0.4444444444444444,\"#bd3786\"],[0.5555555555555556,\"#d8576b\"],[0.6666666666666666,\"#ed7953\"],[0.7777777777777778,\"#fb9f3a\"],[0.8888888888888888,\"#fdca26\"],[1.0,\"#f0f921\"]]}],\"mesh3d\":[{\"type\":\"mesh3d\",\"colorbar\":{\"outlinewidth\":0,\"ticks\":\"\"}}],\"scatter\":[{\"fillpattern\":{\"fillmode\":\"overlay\",\"size\":10,\"solidity\":0.2},\"type\":\"scatter\"}],\"parcoords\":[{\"type\":\"parcoords\",\"line\":{\"colorbar\":{\"outlinewidth\":0,\"ticks\":\"\"}}}],\"scatterpolargl\":[{\"type\":\"scatterpolargl\",\"marker\":{\"colorbar\":{\"outlinewidth\":0,\"ticks\":\"\"}}}],\"bar\":[{\"error_x\":{\"color\":\"#2a3f5f\"},\"error_y\":{\"color\":\"#2a3f5f\"},\"marker\":{\"line\":{\"color\":\"#E5ECF6\",\"width\":0.5},\"pattern\":{\"fillmode\":\"overlay\",\"size\":10,\"solidity\":0.2}},\"type\":\"bar\"}],\"scattergeo\":[{\"type\":\"scattergeo\",\"marker\":{\"colorbar\":{\"outlinewidth\":0,\"ticks\":\"\"}}}],\"scatterpolar\":[{\"type\":\"scatterpolar\",\"marker\":{\"colorbar\":{\"outlinewidth\":0,\"ticks\":\"\"}}}],\"histogram\":[{\"marker\":{\"pattern\":{\"fillmode\":\"overlay\",\"size\":10,\"solidity\":0.2}},\"type\":\"histogram\"}],\"scattergl\":[{\"type\":\"scattergl\",\"marker\":{\"colorbar\":{\"outlinewidth\":0,\"ticks\":\"\"}}}],\"scatter3d\":[{\"type\":\"scatter3d\",\"line\":{\"colorbar\":{\"outlinewidth\":0,\"ticks\":\"\"}},\"marker\":{\"colorbar\":{\"outlinewidth\":0,\"ticks\":\"\"}}}],\"scattermapbox\":[{\"type\":\"scattermapbox\",\"marker\":{\"colorbar\":{\"outlinewidth\":0,\"ticks\":\"\"}}}],\"scatterternary\":[{\"type\":\"scatterternary\",\"marker\":{\"colorbar\":{\"outlinewidth\":0,\"ticks\":\"\"}}}],\"scattercarpet\":[{\"type\":\"scattercarpet\",\"marker\":{\"colorbar\":{\"outlinewidth\":0,\"ticks\":\"\"}}}],\"carpet\":[{\"aaxis\":{\"endlinecolor\":\"#2a3f5f\",\"gridcolor\":\"white\",\"linecolor\":\"white\",\"minorgridcolor\":\"white\",\"startlinecolor\":\"#2a3f5f\"},\"baxis\":{\"endlinecolor\":\"#2a3f5f\",\"gridcolor\":\"white\",\"linecolor\":\"white\",\"minorgridcolor\":\"white\",\"startlinecolor\":\"#2a3f5f\"},\"type\":\"carpet\"}],\"table\":[{\"cells\":{\"fill\":{\"color\":\"#EBF0F8\"},\"line\":{\"color\":\"white\"}},\"header\":{\"fill\":{\"color\":\"#C8D4E3\"},\"line\":{\"color\":\"white\"}},\"type\":\"table\"}],\"barpolar\":[{\"marker\":{\"line\":{\"color\":\"#E5ECF6\",\"width\":0.5},\"pattern\":{\"fillmode\":\"overlay\",\"size\":10,\"solidity\":0.2}},\"type\":\"barpolar\"}],\"pie\":[{\"automargin\":true,\"type\":\"pie\"}]},\"layout\":{\"autotypenumbers\":\"strict\",\"colorway\":[\"#636efa\",\"#EF553B\",\"#00cc96\",\"#ab63fa\",\"#FFA15A\",\"#19d3f3\",\"#FF6692\",\"#B6E880\",\"#FF97FF\",\"#FECB52\"],\"font\":{\"color\":\"#2a3f5f\"},\"hovermode\":\"closest\",\"hoverlabel\":{\"align\":\"left\"},\"paper_bgcolor\":\"white\",\"plot_bgcolor\":\"#E5ECF6\",\"polar\":{\"bgcolor\":\"#E5ECF6\",\"angularaxis\":{\"gridcolor\":\"white\",\"linecolor\":\"white\",\"ticks\":\"\"},\"radialaxis\":{\"gridcolor\":\"white\",\"linecolor\":\"white\",\"ticks\":\"\"}},\"ternary\":{\"bgcolor\":\"#E5ECF6\",\"aaxis\":{\"gridcolor\":\"white\",\"linecolor\":\"white\",\"ticks\":\"\"},\"baxis\":{\"gridcolor\":\"white\",\"linecolor\":\"white\",\"ticks\":\"\"},\"caxis\":{\"gridcolor\":\"white\",\"linecolor\":\"white\",\"ticks\":\"\"}},\"coloraxis\":{\"colorbar\":{\"outlinewidth\":0,\"ticks\":\"\"}},\"colorscale\":{\"sequential\":[[0.0,\"#0d0887\"],[0.1111111111111111,\"#46039f\"],[0.2222222222222222,\"#7201a8\"],[0.3333333333333333,\"#9c179e\"],[0.4444444444444444,\"#bd3786\"],[0.5555555555555556,\"#d8576b\"],[0.6666666666666666,\"#ed7953\"],[0.7777777777777778,\"#fb9f3a\"],[0.8888888888888888,\"#fdca26\"],[1.0,\"#f0f921\"]],\"sequentialminus\":[[0.0,\"#0d0887\"],[0.1111111111111111,\"#46039f\"],[0.2222222222222222,\"#7201a8\"],[0.3333333333333333,\"#9c179e\"],[0.4444444444444444,\"#bd3786\"],[0.5555555555555556,\"#d8576b\"],[0.6666666666666666,\"#ed7953\"],[0.7777777777777778,\"#fb9f3a\"],[0.8888888888888888,\"#fdca26\"],[1.0,\"#f0f921\"]],\"diverging\":[[0,\"#8e0152\"],[0.1,\"#c51b7d\"],[0.2,\"#de77ae\"],[0.3,\"#f1b6da\"],[0.4,\"#fde0ef\"],[0.5,\"#f7f7f7\"],[0.6,\"#e6f5d0\"],[0.7,\"#b8e186\"],[0.8,\"#7fbc41\"],[0.9,\"#4d9221\"],[1,\"#276419\"]]},\"xaxis\":{\"gridcolor\":\"white\",\"linecolor\":\"white\",\"ticks\":\"\",\"title\":{\"standoff\":15},\"zerolinecolor\":\"white\",\"automargin\":true,\"zerolinewidth\":2},\"yaxis\":{\"gridcolor\":\"white\",\"linecolor\":\"white\",\"ticks\":\"\",\"title\":{\"standoff\":15},\"zerolinecolor\":\"white\",\"automargin\":true,\"zerolinewidth\":2},\"scene\":{\"xaxis\":{\"backgroundcolor\":\"#E5ECF6\",\"gridcolor\":\"white\",\"linecolor\":\"white\",\"showbackground\":true,\"ticks\":\"\",\"zerolinecolor\":\"white\",\"gridwidth\":2},\"yaxis\":{\"backgroundcolor\":\"#E5ECF6\",\"gridcolor\":\"white\",\"linecolor\":\"white\",\"showbackground\":true,\"ticks\":\"\",\"zerolinecolor\":\"white\",\"gridwidth\":2},\"zaxis\":{\"backgroundcolor\":\"#E5ECF6\",\"gridcolor\":\"white\",\"linecolor\":\"white\",\"showbackground\":true,\"ticks\":\"\",\"zerolinecolor\":\"white\",\"gridwidth\":2}},\"shapedefaults\":{\"line\":{\"color\":\"#2a3f5f\"}},\"annotationdefaults\":{\"arrowcolor\":\"#2a3f5f\",\"arrowhead\":0,\"arrowwidth\":1},\"geo\":{\"bgcolor\":\"white\",\"landcolor\":\"#E5ECF6\",\"subunitcolor\":\"white\",\"showland\":true,\"showlakes\":true,\"lakecolor\":\"white\"},\"title\":{\"x\":0.05},\"mapbox\":{\"style\":\"light\"}}},\"xaxis\":{\"anchor\":\"y\",\"domain\":[0.0,1.0],\"title\":{\"text\":\"Estado Civil\"}},\"yaxis\":{\"anchor\":\"x\",\"domain\":[0.0,1.0],\"title\":{\"text\":\"Frecuencia\"}},\"legend\":{\"tracegroupgap\":0},\"title\":{\"text\":\"Distribución por Estado Civil\"},\"barmode\":\"relative\"},                        {\"responsive\": true}                    ).then(function(){\n",
       "                            \n",
       "var gd = document.getElementById('ec949ad9-3095-4f71-a6c8-b5d4041669d7');\n",
       "var x = new MutationObserver(function (mutations, observer) {{\n",
       "        var display = window.getComputedStyle(gd).display;\n",
       "        if (!display || display === 'none') {{\n",
       "            console.log([gd, 'removed!']);\n",
       "            Plotly.purge(gd);\n",
       "            observer.disconnect();\n",
       "        }}\n",
       "}});\n",
       "\n",
       "// Listen for the removal of the full notebook cells\n",
       "var notebookContainer = gd.closest('#notebook-container');\n",
       "if (notebookContainer) {{\n",
       "    x.observe(notebookContainer, {childList: true});\n",
       "}}\n",
       "\n",
       "// Listen for the clearing of the current output cell\n",
       "var outputEl = gd.closest('.output');\n",
       "if (outputEl) {{\n",
       "    x.observe(outputEl, {childList: true});\n",
       "}}\n",
       "\n",
       "                        })                };                });            </script>        </div>"
      ]
     },
     "metadata": {},
     "output_type": "display_data"
    },
    {
     "data": {
      "application/vnd.plotly.v1+json": {
       "config": {
        "plotlyServerURL": "https://plot.ly"
       },
       "data": [
        {
         "alignmentgroup": "True",
         "hovertemplate": "Número de Hijos=%{x}<br>Frecuencia=%{y}<extra></extra>",
         "legendgroup": "",
         "marker": {
          "color": "#636efa",
          "pattern": {
           "shape": ""
          }
         },
         "name": "",
         "offsetgroup": "",
         "orientation": "v",
         "showlegend": false,
         "textposition": "auto",
         "type": "bar",
         "x": [
          0,
          1,
          2,
          3,
          4,
          5,
          6
         ],
         "xaxis": "x",
         "y": [
          651,
          259,
          238,
          178,
          61,
          11,
          3
         ],
         "yaxis": "y"
        }
       ],
       "layout": {
        "barmode": "relative",
        "legend": {
         "tracegroupgap": 0
        },
        "template": {
         "data": {
          "bar": [
           {
            "error_x": {
             "color": "#2a3f5f"
            },
            "error_y": {
             "color": "#2a3f5f"
            },
            "marker": {
             "line": {
              "color": "#E5ECF6",
              "width": 0.5
             },
             "pattern": {
              "fillmode": "overlay",
              "size": 10,
              "solidity": 0.2
             }
            },
            "type": "bar"
           }
          ],
          "barpolar": [
           {
            "marker": {
             "line": {
              "color": "#E5ECF6",
              "width": 0.5
             },
             "pattern": {
              "fillmode": "overlay",
              "size": 10,
              "solidity": 0.2
             }
            },
            "type": "barpolar"
           }
          ],
          "carpet": [
           {
            "aaxis": {
             "endlinecolor": "#2a3f5f",
             "gridcolor": "white",
             "linecolor": "white",
             "minorgridcolor": "white",
             "startlinecolor": "#2a3f5f"
            },
            "baxis": {
             "endlinecolor": "#2a3f5f",
             "gridcolor": "white",
             "linecolor": "white",
             "minorgridcolor": "white",
             "startlinecolor": "#2a3f5f"
            },
            "type": "carpet"
           }
          ],
          "choropleth": [
           {
            "colorbar": {
             "outlinewidth": 0,
             "ticks": ""
            },
            "type": "choropleth"
           }
          ],
          "contour": [
           {
            "colorbar": {
             "outlinewidth": 0,
             "ticks": ""
            },
            "colorscale": [
             [
              0,
              "#0d0887"
             ],
             [
              0.1111111111111111,
              "#46039f"
             ],
             [
              0.2222222222222222,
              "#7201a8"
             ],
             [
              0.3333333333333333,
              "#9c179e"
             ],
             [
              0.4444444444444444,
              "#bd3786"
             ],
             [
              0.5555555555555556,
              "#d8576b"
             ],
             [
              0.6666666666666666,
              "#ed7953"
             ],
             [
              0.7777777777777778,
              "#fb9f3a"
             ],
             [
              0.8888888888888888,
              "#fdca26"
             ],
             [
              1,
              "#f0f921"
             ]
            ],
            "type": "contour"
           }
          ],
          "contourcarpet": [
           {
            "colorbar": {
             "outlinewidth": 0,
             "ticks": ""
            },
            "type": "contourcarpet"
           }
          ],
          "heatmap": [
           {
            "colorbar": {
             "outlinewidth": 0,
             "ticks": ""
            },
            "colorscale": [
             [
              0,
              "#0d0887"
             ],
             [
              0.1111111111111111,
              "#46039f"
             ],
             [
              0.2222222222222222,
              "#7201a8"
             ],
             [
              0.3333333333333333,
              "#9c179e"
             ],
             [
              0.4444444444444444,
              "#bd3786"
             ],
             [
              0.5555555555555556,
              "#d8576b"
             ],
             [
              0.6666666666666666,
              "#ed7953"
             ],
             [
              0.7777777777777778,
              "#fb9f3a"
             ],
             [
              0.8888888888888888,
              "#fdca26"
             ],
             [
              1,
              "#f0f921"
             ]
            ],
            "type": "heatmap"
           }
          ],
          "heatmapgl": [
           {
            "colorbar": {
             "outlinewidth": 0,
             "ticks": ""
            },
            "colorscale": [
             [
              0,
              "#0d0887"
             ],
             [
              0.1111111111111111,
              "#46039f"
             ],
             [
              0.2222222222222222,
              "#7201a8"
             ],
             [
              0.3333333333333333,
              "#9c179e"
             ],
             [
              0.4444444444444444,
              "#bd3786"
             ],
             [
              0.5555555555555556,
              "#d8576b"
             ],
             [
              0.6666666666666666,
              "#ed7953"
             ],
             [
              0.7777777777777778,
              "#fb9f3a"
             ],
             [
              0.8888888888888888,
              "#fdca26"
             ],
             [
              1,
              "#f0f921"
             ]
            ],
            "type": "heatmapgl"
           }
          ],
          "histogram": [
           {
            "marker": {
             "pattern": {
              "fillmode": "overlay",
              "size": 10,
              "solidity": 0.2
             }
            },
            "type": "histogram"
           }
          ],
          "histogram2d": [
           {
            "colorbar": {
             "outlinewidth": 0,
             "ticks": ""
            },
            "colorscale": [
             [
              0,
              "#0d0887"
             ],
             [
              0.1111111111111111,
              "#46039f"
             ],
             [
              0.2222222222222222,
              "#7201a8"
             ],
             [
              0.3333333333333333,
              "#9c179e"
             ],
             [
              0.4444444444444444,
              "#bd3786"
             ],
             [
              0.5555555555555556,
              "#d8576b"
             ],
             [
              0.6666666666666666,
              "#ed7953"
             ],
             [
              0.7777777777777778,
              "#fb9f3a"
             ],
             [
              0.8888888888888888,
              "#fdca26"
             ],
             [
              1,
              "#f0f921"
             ]
            ],
            "type": "histogram2d"
           }
          ],
          "histogram2dcontour": [
           {
            "colorbar": {
             "outlinewidth": 0,
             "ticks": ""
            },
            "colorscale": [
             [
              0,
              "#0d0887"
             ],
             [
              0.1111111111111111,
              "#46039f"
             ],
             [
              0.2222222222222222,
              "#7201a8"
             ],
             [
              0.3333333333333333,
              "#9c179e"
             ],
             [
              0.4444444444444444,
              "#bd3786"
             ],
             [
              0.5555555555555556,
              "#d8576b"
             ],
             [
              0.6666666666666666,
              "#ed7953"
             ],
             [
              0.7777777777777778,
              "#fb9f3a"
             ],
             [
              0.8888888888888888,
              "#fdca26"
             ],
             [
              1,
              "#f0f921"
             ]
            ],
            "type": "histogram2dcontour"
           }
          ],
          "mesh3d": [
           {
            "colorbar": {
             "outlinewidth": 0,
             "ticks": ""
            },
            "type": "mesh3d"
           }
          ],
          "parcoords": [
           {
            "line": {
             "colorbar": {
              "outlinewidth": 0,
              "ticks": ""
             }
            },
            "type": "parcoords"
           }
          ],
          "pie": [
           {
            "automargin": true,
            "type": "pie"
           }
          ],
          "scatter": [
           {
            "fillpattern": {
             "fillmode": "overlay",
             "size": 10,
             "solidity": 0.2
            },
            "type": "scatter"
           }
          ],
          "scatter3d": [
           {
            "line": {
             "colorbar": {
              "outlinewidth": 0,
              "ticks": ""
             }
            },
            "marker": {
             "colorbar": {
              "outlinewidth": 0,
              "ticks": ""
             }
            },
            "type": "scatter3d"
           }
          ],
          "scattercarpet": [
           {
            "marker": {
             "colorbar": {
              "outlinewidth": 0,
              "ticks": ""
             }
            },
            "type": "scattercarpet"
           }
          ],
          "scattergeo": [
           {
            "marker": {
             "colorbar": {
              "outlinewidth": 0,
              "ticks": ""
             }
            },
            "type": "scattergeo"
           }
          ],
          "scattergl": [
           {
            "marker": {
             "colorbar": {
              "outlinewidth": 0,
              "ticks": ""
             }
            },
            "type": "scattergl"
           }
          ],
          "scattermapbox": [
           {
            "marker": {
             "colorbar": {
              "outlinewidth": 0,
              "ticks": ""
             }
            },
            "type": "scattermapbox"
           }
          ],
          "scatterpolar": [
           {
            "marker": {
             "colorbar": {
              "outlinewidth": 0,
              "ticks": ""
             }
            },
            "type": "scatterpolar"
           }
          ],
          "scatterpolargl": [
           {
            "marker": {
             "colorbar": {
              "outlinewidth": 0,
              "ticks": ""
             }
            },
            "type": "scatterpolargl"
           }
          ],
          "scatterternary": [
           {
            "marker": {
             "colorbar": {
              "outlinewidth": 0,
              "ticks": ""
             }
            },
            "type": "scatterternary"
           }
          ],
          "surface": [
           {
            "colorbar": {
             "outlinewidth": 0,
             "ticks": ""
            },
            "colorscale": [
             [
              0,
              "#0d0887"
             ],
             [
              0.1111111111111111,
              "#46039f"
             ],
             [
              0.2222222222222222,
              "#7201a8"
             ],
             [
              0.3333333333333333,
              "#9c179e"
             ],
             [
              0.4444444444444444,
              "#bd3786"
             ],
             [
              0.5555555555555556,
              "#d8576b"
             ],
             [
              0.6666666666666666,
              "#ed7953"
             ],
             [
              0.7777777777777778,
              "#fb9f3a"
             ],
             [
              0.8888888888888888,
              "#fdca26"
             ],
             [
              1,
              "#f0f921"
             ]
            ],
            "type": "surface"
           }
          ],
          "table": [
           {
            "cells": {
             "fill": {
              "color": "#EBF0F8"
             },
             "line": {
              "color": "white"
             }
            },
            "header": {
             "fill": {
              "color": "#C8D4E3"
             },
             "line": {
              "color": "white"
             }
            },
            "type": "table"
           }
          ]
         },
         "layout": {
          "annotationdefaults": {
           "arrowcolor": "#2a3f5f",
           "arrowhead": 0,
           "arrowwidth": 1
          },
          "autotypenumbers": "strict",
          "coloraxis": {
           "colorbar": {
            "outlinewidth": 0,
            "ticks": ""
           }
          },
          "colorscale": {
           "diverging": [
            [
             0,
             "#8e0152"
            ],
            [
             0.1,
             "#c51b7d"
            ],
            [
             0.2,
             "#de77ae"
            ],
            [
             0.3,
             "#f1b6da"
            ],
            [
             0.4,
             "#fde0ef"
            ],
            [
             0.5,
             "#f7f7f7"
            ],
            [
             0.6,
             "#e6f5d0"
            ],
            [
             0.7,
             "#b8e186"
            ],
            [
             0.8,
             "#7fbc41"
            ],
            [
             0.9,
             "#4d9221"
            ],
            [
             1,
             "#276419"
            ]
           ],
           "sequential": [
            [
             0,
             "#0d0887"
            ],
            [
             0.1111111111111111,
             "#46039f"
            ],
            [
             0.2222222222222222,
             "#7201a8"
            ],
            [
             0.3333333333333333,
             "#9c179e"
            ],
            [
             0.4444444444444444,
             "#bd3786"
            ],
            [
             0.5555555555555556,
             "#d8576b"
            ],
            [
             0.6666666666666666,
             "#ed7953"
            ],
            [
             0.7777777777777778,
             "#fb9f3a"
            ],
            [
             0.8888888888888888,
             "#fdca26"
            ],
            [
             1,
             "#f0f921"
            ]
           ],
           "sequentialminus": [
            [
             0,
             "#0d0887"
            ],
            [
             0.1111111111111111,
             "#46039f"
            ],
            [
             0.2222222222222222,
             "#7201a8"
            ],
            [
             0.3333333333333333,
             "#9c179e"
            ],
            [
             0.4444444444444444,
             "#bd3786"
            ],
            [
             0.5555555555555556,
             "#d8576b"
            ],
            [
             0.6666666666666666,
             "#ed7953"
            ],
            [
             0.7777777777777778,
             "#fb9f3a"
            ],
            [
             0.8888888888888888,
             "#fdca26"
            ],
            [
             1,
             "#f0f921"
            ]
           ]
          },
          "colorway": [
           "#636efa",
           "#EF553B",
           "#00cc96",
           "#ab63fa",
           "#FFA15A",
           "#19d3f3",
           "#FF6692",
           "#B6E880",
           "#FF97FF",
           "#FECB52"
          ],
          "font": {
           "color": "#2a3f5f"
          },
          "geo": {
           "bgcolor": "white",
           "lakecolor": "white",
           "landcolor": "#E5ECF6",
           "showlakes": true,
           "showland": true,
           "subunitcolor": "white"
          },
          "hoverlabel": {
           "align": "left"
          },
          "hovermode": "closest",
          "mapbox": {
           "style": "light"
          },
          "paper_bgcolor": "white",
          "plot_bgcolor": "#E5ECF6",
          "polar": {
           "angularaxis": {
            "gridcolor": "white",
            "linecolor": "white",
            "ticks": ""
           },
           "bgcolor": "#E5ECF6",
           "radialaxis": {
            "gridcolor": "white",
            "linecolor": "white",
            "ticks": ""
           }
          },
          "scene": {
           "xaxis": {
            "backgroundcolor": "#E5ECF6",
            "gridcolor": "white",
            "gridwidth": 2,
            "linecolor": "white",
            "showbackground": true,
            "ticks": "",
            "zerolinecolor": "white"
           },
           "yaxis": {
            "backgroundcolor": "#E5ECF6",
            "gridcolor": "white",
            "gridwidth": 2,
            "linecolor": "white",
            "showbackground": true,
            "ticks": "",
            "zerolinecolor": "white"
           },
           "zaxis": {
            "backgroundcolor": "#E5ECF6",
            "gridcolor": "white",
            "gridwidth": 2,
            "linecolor": "white",
            "showbackground": true,
            "ticks": "",
            "zerolinecolor": "white"
           }
          },
          "shapedefaults": {
           "line": {
            "color": "#2a3f5f"
           }
          },
          "ternary": {
           "aaxis": {
            "gridcolor": "white",
            "linecolor": "white",
            "ticks": ""
           },
           "baxis": {
            "gridcolor": "white",
            "linecolor": "white",
            "ticks": ""
           },
           "bgcolor": "#E5ECF6",
           "caxis": {
            "gridcolor": "white",
            "linecolor": "white",
            "ticks": ""
           }
          },
          "title": {
           "x": 0.05
          },
          "xaxis": {
           "automargin": true,
           "gridcolor": "white",
           "linecolor": "white",
           "ticks": "",
           "title": {
            "standoff": 15
           },
           "zerolinecolor": "white",
           "zerolinewidth": 2
          },
          "yaxis": {
           "automargin": true,
           "gridcolor": "white",
           "linecolor": "white",
           "ticks": "",
           "title": {
            "standoff": 15
           },
           "zerolinecolor": "white",
           "zerolinewidth": 2
          }
         }
        },
        "title": {
         "text": "Distribución del Número de Hijos"
        },
        "xaxis": {
         "anchor": "y",
         "domain": [
          0,
          1
         ],
         "title": {
          "text": "Número de Hijos"
         }
        },
        "yaxis": {
         "anchor": "x",
         "domain": [
          0,
          1
         ],
         "title": {
          "text": "Frecuencia"
         }
        }
       }
      },
      "text/html": [
       "<div>                            <div id=\"6ac959dc-04fa-4591-ae13-3defd62fef30\" class=\"plotly-graph-div\" style=\"height:525px; width:100%;\"></div>            <script type=\"text/javascript\">                require([\"plotly\"], function(Plotly) {                    window.PLOTLYENV=window.PLOTLYENV || {};                                    if (document.getElementById(\"6ac959dc-04fa-4591-ae13-3defd62fef30\")) {                    Plotly.newPlot(                        \"6ac959dc-04fa-4591-ae13-3defd62fef30\",                        [{\"alignmentgroup\":\"True\",\"hovertemplate\":\"Número de Hijos=%{x}\\u003cbr\\u003eFrecuencia=%{y}\\u003cextra\\u003e\\u003c\\u002fextra\\u003e\",\"legendgroup\":\"\",\"marker\":{\"color\":\"#636efa\",\"pattern\":{\"shape\":\"\"}},\"name\":\"\",\"offsetgroup\":\"\",\"orientation\":\"v\",\"showlegend\":false,\"textposition\":\"auto\",\"x\":[0,1,2,3,4,5,6],\"xaxis\":\"x\",\"y\":[651,259,238,178,61,11,3],\"yaxis\":\"y\",\"type\":\"bar\"}],                        {\"template\":{\"data\":{\"histogram2dcontour\":[{\"type\":\"histogram2dcontour\",\"colorbar\":{\"outlinewidth\":0,\"ticks\":\"\"},\"colorscale\":[[0.0,\"#0d0887\"],[0.1111111111111111,\"#46039f\"],[0.2222222222222222,\"#7201a8\"],[0.3333333333333333,\"#9c179e\"],[0.4444444444444444,\"#bd3786\"],[0.5555555555555556,\"#d8576b\"],[0.6666666666666666,\"#ed7953\"],[0.7777777777777778,\"#fb9f3a\"],[0.8888888888888888,\"#fdca26\"],[1.0,\"#f0f921\"]]}],\"choropleth\":[{\"type\":\"choropleth\",\"colorbar\":{\"outlinewidth\":0,\"ticks\":\"\"}}],\"histogram2d\":[{\"type\":\"histogram2d\",\"colorbar\":{\"outlinewidth\":0,\"ticks\":\"\"},\"colorscale\":[[0.0,\"#0d0887\"],[0.1111111111111111,\"#46039f\"],[0.2222222222222222,\"#7201a8\"],[0.3333333333333333,\"#9c179e\"],[0.4444444444444444,\"#bd3786\"],[0.5555555555555556,\"#d8576b\"],[0.6666666666666666,\"#ed7953\"],[0.7777777777777778,\"#fb9f3a\"],[0.8888888888888888,\"#fdca26\"],[1.0,\"#f0f921\"]]}],\"heatmap\":[{\"type\":\"heatmap\",\"colorbar\":{\"outlinewidth\":0,\"ticks\":\"\"},\"colorscale\":[[0.0,\"#0d0887\"],[0.1111111111111111,\"#46039f\"],[0.2222222222222222,\"#7201a8\"],[0.3333333333333333,\"#9c179e\"],[0.4444444444444444,\"#bd3786\"],[0.5555555555555556,\"#d8576b\"],[0.6666666666666666,\"#ed7953\"],[0.7777777777777778,\"#fb9f3a\"],[0.8888888888888888,\"#fdca26\"],[1.0,\"#f0f921\"]]}],\"heatmapgl\":[{\"type\":\"heatmapgl\",\"colorbar\":{\"outlinewidth\":0,\"ticks\":\"\"},\"colorscale\":[[0.0,\"#0d0887\"],[0.1111111111111111,\"#46039f\"],[0.2222222222222222,\"#7201a8\"],[0.3333333333333333,\"#9c179e\"],[0.4444444444444444,\"#bd3786\"],[0.5555555555555556,\"#d8576b\"],[0.6666666666666666,\"#ed7953\"],[0.7777777777777778,\"#fb9f3a\"],[0.8888888888888888,\"#fdca26\"],[1.0,\"#f0f921\"]]}],\"contourcarpet\":[{\"type\":\"contourcarpet\",\"colorbar\":{\"outlinewidth\":0,\"ticks\":\"\"}}],\"contour\":[{\"type\":\"contour\",\"colorbar\":{\"outlinewidth\":0,\"ticks\":\"\"},\"colorscale\":[[0.0,\"#0d0887\"],[0.1111111111111111,\"#46039f\"],[0.2222222222222222,\"#7201a8\"],[0.3333333333333333,\"#9c179e\"],[0.4444444444444444,\"#bd3786\"],[0.5555555555555556,\"#d8576b\"],[0.6666666666666666,\"#ed7953\"],[0.7777777777777778,\"#fb9f3a\"],[0.8888888888888888,\"#fdca26\"],[1.0,\"#f0f921\"]]}],\"surface\":[{\"type\":\"surface\",\"colorbar\":{\"outlinewidth\":0,\"ticks\":\"\"},\"colorscale\":[[0.0,\"#0d0887\"],[0.1111111111111111,\"#46039f\"],[0.2222222222222222,\"#7201a8\"],[0.3333333333333333,\"#9c179e\"],[0.4444444444444444,\"#bd3786\"],[0.5555555555555556,\"#d8576b\"],[0.6666666666666666,\"#ed7953\"],[0.7777777777777778,\"#fb9f3a\"],[0.8888888888888888,\"#fdca26\"],[1.0,\"#f0f921\"]]}],\"mesh3d\":[{\"type\":\"mesh3d\",\"colorbar\":{\"outlinewidth\":0,\"ticks\":\"\"}}],\"scatter\":[{\"fillpattern\":{\"fillmode\":\"overlay\",\"size\":10,\"solidity\":0.2},\"type\":\"scatter\"}],\"parcoords\":[{\"type\":\"parcoords\",\"line\":{\"colorbar\":{\"outlinewidth\":0,\"ticks\":\"\"}}}],\"scatterpolargl\":[{\"type\":\"scatterpolargl\",\"marker\":{\"colorbar\":{\"outlinewidth\":0,\"ticks\":\"\"}}}],\"bar\":[{\"error_x\":{\"color\":\"#2a3f5f\"},\"error_y\":{\"color\":\"#2a3f5f\"},\"marker\":{\"line\":{\"color\":\"#E5ECF6\",\"width\":0.5},\"pattern\":{\"fillmode\":\"overlay\",\"size\":10,\"solidity\":0.2}},\"type\":\"bar\"}],\"scattergeo\":[{\"type\":\"scattergeo\",\"marker\":{\"colorbar\":{\"outlinewidth\":0,\"ticks\":\"\"}}}],\"scatterpolar\":[{\"type\":\"scatterpolar\",\"marker\":{\"colorbar\":{\"outlinewidth\":0,\"ticks\":\"\"}}}],\"histogram\":[{\"marker\":{\"pattern\":{\"fillmode\":\"overlay\",\"size\":10,\"solidity\":0.2}},\"type\":\"histogram\"}],\"scattergl\":[{\"type\":\"scattergl\",\"marker\":{\"colorbar\":{\"outlinewidth\":0,\"ticks\":\"\"}}}],\"scatter3d\":[{\"type\":\"scatter3d\",\"line\":{\"colorbar\":{\"outlinewidth\":0,\"ticks\":\"\"}},\"marker\":{\"colorbar\":{\"outlinewidth\":0,\"ticks\":\"\"}}}],\"scattermapbox\":[{\"type\":\"scattermapbox\",\"marker\":{\"colorbar\":{\"outlinewidth\":0,\"ticks\":\"\"}}}],\"scatterternary\":[{\"type\":\"scatterternary\",\"marker\":{\"colorbar\":{\"outlinewidth\":0,\"ticks\":\"\"}}}],\"scattercarpet\":[{\"type\":\"scattercarpet\",\"marker\":{\"colorbar\":{\"outlinewidth\":0,\"ticks\":\"\"}}}],\"carpet\":[{\"aaxis\":{\"endlinecolor\":\"#2a3f5f\",\"gridcolor\":\"white\",\"linecolor\":\"white\",\"minorgridcolor\":\"white\",\"startlinecolor\":\"#2a3f5f\"},\"baxis\":{\"endlinecolor\":\"#2a3f5f\",\"gridcolor\":\"white\",\"linecolor\":\"white\",\"minorgridcolor\":\"white\",\"startlinecolor\":\"#2a3f5f\"},\"type\":\"carpet\"}],\"table\":[{\"cells\":{\"fill\":{\"color\":\"#EBF0F8\"},\"line\":{\"color\":\"white\"}},\"header\":{\"fill\":{\"color\":\"#C8D4E3\"},\"line\":{\"color\":\"white\"}},\"type\":\"table\"}],\"barpolar\":[{\"marker\":{\"line\":{\"color\":\"#E5ECF6\",\"width\":0.5},\"pattern\":{\"fillmode\":\"overlay\",\"size\":10,\"solidity\":0.2}},\"type\":\"barpolar\"}],\"pie\":[{\"automargin\":true,\"type\":\"pie\"}]},\"layout\":{\"autotypenumbers\":\"strict\",\"colorway\":[\"#636efa\",\"#EF553B\",\"#00cc96\",\"#ab63fa\",\"#FFA15A\",\"#19d3f3\",\"#FF6692\",\"#B6E880\",\"#FF97FF\",\"#FECB52\"],\"font\":{\"color\":\"#2a3f5f\"},\"hovermode\":\"closest\",\"hoverlabel\":{\"align\":\"left\"},\"paper_bgcolor\":\"white\",\"plot_bgcolor\":\"#E5ECF6\",\"polar\":{\"bgcolor\":\"#E5ECF6\",\"angularaxis\":{\"gridcolor\":\"white\",\"linecolor\":\"white\",\"ticks\":\"\"},\"radialaxis\":{\"gridcolor\":\"white\",\"linecolor\":\"white\",\"ticks\":\"\"}},\"ternary\":{\"bgcolor\":\"#E5ECF6\",\"aaxis\":{\"gridcolor\":\"white\",\"linecolor\":\"white\",\"ticks\":\"\"},\"baxis\":{\"gridcolor\":\"white\",\"linecolor\":\"white\",\"ticks\":\"\"},\"caxis\":{\"gridcolor\":\"white\",\"linecolor\":\"white\",\"ticks\":\"\"}},\"coloraxis\":{\"colorbar\":{\"outlinewidth\":0,\"ticks\":\"\"}},\"colorscale\":{\"sequential\":[[0.0,\"#0d0887\"],[0.1111111111111111,\"#46039f\"],[0.2222222222222222,\"#7201a8\"],[0.3333333333333333,\"#9c179e\"],[0.4444444444444444,\"#bd3786\"],[0.5555555555555556,\"#d8576b\"],[0.6666666666666666,\"#ed7953\"],[0.7777777777777778,\"#fb9f3a\"],[0.8888888888888888,\"#fdca26\"],[1.0,\"#f0f921\"]],\"sequentialminus\":[[0.0,\"#0d0887\"],[0.1111111111111111,\"#46039f\"],[0.2222222222222222,\"#7201a8\"],[0.3333333333333333,\"#9c179e\"],[0.4444444444444444,\"#bd3786\"],[0.5555555555555556,\"#d8576b\"],[0.6666666666666666,\"#ed7953\"],[0.7777777777777778,\"#fb9f3a\"],[0.8888888888888888,\"#fdca26\"],[1.0,\"#f0f921\"]],\"diverging\":[[0,\"#8e0152\"],[0.1,\"#c51b7d\"],[0.2,\"#de77ae\"],[0.3,\"#f1b6da\"],[0.4,\"#fde0ef\"],[0.5,\"#f7f7f7\"],[0.6,\"#e6f5d0\"],[0.7,\"#b8e186\"],[0.8,\"#7fbc41\"],[0.9,\"#4d9221\"],[1,\"#276419\"]]},\"xaxis\":{\"gridcolor\":\"white\",\"linecolor\":\"white\",\"ticks\":\"\",\"title\":{\"standoff\":15},\"zerolinecolor\":\"white\",\"automargin\":true,\"zerolinewidth\":2},\"yaxis\":{\"gridcolor\":\"white\",\"linecolor\":\"white\",\"ticks\":\"\",\"title\":{\"standoff\":15},\"zerolinecolor\":\"white\",\"automargin\":true,\"zerolinewidth\":2},\"scene\":{\"xaxis\":{\"backgroundcolor\":\"#E5ECF6\",\"gridcolor\":\"white\",\"linecolor\":\"white\",\"showbackground\":true,\"ticks\":\"\",\"zerolinecolor\":\"white\",\"gridwidth\":2},\"yaxis\":{\"backgroundcolor\":\"#E5ECF6\",\"gridcolor\":\"white\",\"linecolor\":\"white\",\"showbackground\":true,\"ticks\":\"\",\"zerolinecolor\":\"white\",\"gridwidth\":2},\"zaxis\":{\"backgroundcolor\":\"#E5ECF6\",\"gridcolor\":\"white\",\"linecolor\":\"white\",\"showbackground\":true,\"ticks\":\"\",\"zerolinecolor\":\"white\",\"gridwidth\":2}},\"shapedefaults\":{\"line\":{\"color\":\"#2a3f5f\"}},\"annotationdefaults\":{\"arrowcolor\":\"#2a3f5f\",\"arrowhead\":0,\"arrowwidth\":1},\"geo\":{\"bgcolor\":\"white\",\"landcolor\":\"#E5ECF6\",\"subunitcolor\":\"white\",\"showland\":true,\"showlakes\":true,\"lakecolor\":\"white\"},\"title\":{\"x\":0.05},\"mapbox\":{\"style\":\"light\"}}},\"xaxis\":{\"anchor\":\"y\",\"domain\":[0.0,1.0],\"title\":{\"text\":\"Número de Hijos\"}},\"yaxis\":{\"anchor\":\"x\",\"domain\":[0.0,1.0],\"title\":{\"text\":\"Frecuencia\"}},\"legend\":{\"tracegroupgap\":0},\"title\":{\"text\":\"Distribución del Número de Hijos\"},\"barmode\":\"relative\"},                        {\"responsive\": true}                    ).then(function(){\n",
       "                            \n",
       "var gd = document.getElementById('6ac959dc-04fa-4591-ae13-3defd62fef30');\n",
       "var x = new MutationObserver(function (mutations, observer) {{\n",
       "        var display = window.getComputedStyle(gd).display;\n",
       "        if (!display || display === 'none') {{\n",
       "            console.log([gd, 'removed!']);\n",
       "            Plotly.purge(gd);\n",
       "            observer.disconnect();\n",
       "        }}\n",
       "}});\n",
       "\n",
       "// Listen for the removal of the full notebook cells\n",
       "var notebookContainer = gd.closest('#notebook-container');\n",
       "if (notebookContainer) {{\n",
       "    x.observe(notebookContainer, {childList: true});\n",
       "}}\n",
       "\n",
       "// Listen for the clearing of the current output cell\n",
       "var outputEl = gd.closest('.output');\n",
       "if (outputEl) {{\n",
       "    x.observe(outputEl, {childList: true});\n",
       "}}\n",
       "\n",
       "                        })                };                });            </script>        </div>"
      ]
     },
     "metadata": {},
     "output_type": "display_data"
    },
    {
     "data": {
      "application/vnd.plotly.v1+json": {
       "config": {
        "plotlyServerURL": "https://plot.ly"
       },
       "data": [
        {
         "alignmentgroup": "True",
         "hovertemplate": "Tiene Hijos=%{x}<br>Frecuencia=%{y}<extra></extra>",
         "legendgroup": "",
         "marker": {
          "color": "#636efa",
          "pattern": {
           "shape": ""
          }
         },
         "name": "",
         "offsetgroup": "",
         "orientation": "v",
         "showlegend": false,
         "textposition": "auto",
         "type": "bar",
         "x": [
          "Sí",
          "No"
         ],
         "xaxis": "x",
         "y": [
          750,
          651
         ],
         "yaxis": "y"
        }
       ],
       "layout": {
        "barmode": "relative",
        "legend": {
         "tracegroupgap": 0
        },
        "template": {
         "data": {
          "bar": [
           {
            "error_x": {
             "color": "#2a3f5f"
            },
            "error_y": {
             "color": "#2a3f5f"
            },
            "marker": {
             "line": {
              "color": "#E5ECF6",
              "width": 0.5
             },
             "pattern": {
              "fillmode": "overlay",
              "size": 10,
              "solidity": 0.2
             }
            },
            "type": "bar"
           }
          ],
          "barpolar": [
           {
            "marker": {
             "line": {
              "color": "#E5ECF6",
              "width": 0.5
             },
             "pattern": {
              "fillmode": "overlay",
              "size": 10,
              "solidity": 0.2
             }
            },
            "type": "barpolar"
           }
          ],
          "carpet": [
           {
            "aaxis": {
             "endlinecolor": "#2a3f5f",
             "gridcolor": "white",
             "linecolor": "white",
             "minorgridcolor": "white",
             "startlinecolor": "#2a3f5f"
            },
            "baxis": {
             "endlinecolor": "#2a3f5f",
             "gridcolor": "white",
             "linecolor": "white",
             "minorgridcolor": "white",
             "startlinecolor": "#2a3f5f"
            },
            "type": "carpet"
           }
          ],
          "choropleth": [
           {
            "colorbar": {
             "outlinewidth": 0,
             "ticks": ""
            },
            "type": "choropleth"
           }
          ],
          "contour": [
           {
            "colorbar": {
             "outlinewidth": 0,
             "ticks": ""
            },
            "colorscale": [
             [
              0,
              "#0d0887"
             ],
             [
              0.1111111111111111,
              "#46039f"
             ],
             [
              0.2222222222222222,
              "#7201a8"
             ],
             [
              0.3333333333333333,
              "#9c179e"
             ],
             [
              0.4444444444444444,
              "#bd3786"
             ],
             [
              0.5555555555555556,
              "#d8576b"
             ],
             [
              0.6666666666666666,
              "#ed7953"
             ],
             [
              0.7777777777777778,
              "#fb9f3a"
             ],
             [
              0.8888888888888888,
              "#fdca26"
             ],
             [
              1,
              "#f0f921"
             ]
            ],
            "type": "contour"
           }
          ],
          "contourcarpet": [
           {
            "colorbar": {
             "outlinewidth": 0,
             "ticks": ""
            },
            "type": "contourcarpet"
           }
          ],
          "heatmap": [
           {
            "colorbar": {
             "outlinewidth": 0,
             "ticks": ""
            },
            "colorscale": [
             [
              0,
              "#0d0887"
             ],
             [
              0.1111111111111111,
              "#46039f"
             ],
             [
              0.2222222222222222,
              "#7201a8"
             ],
             [
              0.3333333333333333,
              "#9c179e"
             ],
             [
              0.4444444444444444,
              "#bd3786"
             ],
             [
              0.5555555555555556,
              "#d8576b"
             ],
             [
              0.6666666666666666,
              "#ed7953"
             ],
             [
              0.7777777777777778,
              "#fb9f3a"
             ],
             [
              0.8888888888888888,
              "#fdca26"
             ],
             [
              1,
              "#f0f921"
             ]
            ],
            "type": "heatmap"
           }
          ],
          "heatmapgl": [
           {
            "colorbar": {
             "outlinewidth": 0,
             "ticks": ""
            },
            "colorscale": [
             [
              0,
              "#0d0887"
             ],
             [
              0.1111111111111111,
              "#46039f"
             ],
             [
              0.2222222222222222,
              "#7201a8"
             ],
             [
              0.3333333333333333,
              "#9c179e"
             ],
             [
              0.4444444444444444,
              "#bd3786"
             ],
             [
              0.5555555555555556,
              "#d8576b"
             ],
             [
              0.6666666666666666,
              "#ed7953"
             ],
             [
              0.7777777777777778,
              "#fb9f3a"
             ],
             [
              0.8888888888888888,
              "#fdca26"
             ],
             [
              1,
              "#f0f921"
             ]
            ],
            "type": "heatmapgl"
           }
          ],
          "histogram": [
           {
            "marker": {
             "pattern": {
              "fillmode": "overlay",
              "size": 10,
              "solidity": 0.2
             }
            },
            "type": "histogram"
           }
          ],
          "histogram2d": [
           {
            "colorbar": {
             "outlinewidth": 0,
             "ticks": ""
            },
            "colorscale": [
             [
              0,
              "#0d0887"
             ],
             [
              0.1111111111111111,
              "#46039f"
             ],
             [
              0.2222222222222222,
              "#7201a8"
             ],
             [
              0.3333333333333333,
              "#9c179e"
             ],
             [
              0.4444444444444444,
              "#bd3786"
             ],
             [
              0.5555555555555556,
              "#d8576b"
             ],
             [
              0.6666666666666666,
              "#ed7953"
             ],
             [
              0.7777777777777778,
              "#fb9f3a"
             ],
             [
              0.8888888888888888,
              "#fdca26"
             ],
             [
              1,
              "#f0f921"
             ]
            ],
            "type": "histogram2d"
           }
          ],
          "histogram2dcontour": [
           {
            "colorbar": {
             "outlinewidth": 0,
             "ticks": ""
            },
            "colorscale": [
             [
              0,
              "#0d0887"
             ],
             [
              0.1111111111111111,
              "#46039f"
             ],
             [
              0.2222222222222222,
              "#7201a8"
             ],
             [
              0.3333333333333333,
              "#9c179e"
             ],
             [
              0.4444444444444444,
              "#bd3786"
             ],
             [
              0.5555555555555556,
              "#d8576b"
             ],
             [
              0.6666666666666666,
              "#ed7953"
             ],
             [
              0.7777777777777778,
              "#fb9f3a"
             ],
             [
              0.8888888888888888,
              "#fdca26"
             ],
             [
              1,
              "#f0f921"
             ]
            ],
            "type": "histogram2dcontour"
           }
          ],
          "mesh3d": [
           {
            "colorbar": {
             "outlinewidth": 0,
             "ticks": ""
            },
            "type": "mesh3d"
           }
          ],
          "parcoords": [
           {
            "line": {
             "colorbar": {
              "outlinewidth": 0,
              "ticks": ""
             }
            },
            "type": "parcoords"
           }
          ],
          "pie": [
           {
            "automargin": true,
            "type": "pie"
           }
          ],
          "scatter": [
           {
            "fillpattern": {
             "fillmode": "overlay",
             "size": 10,
             "solidity": 0.2
            },
            "type": "scatter"
           }
          ],
          "scatter3d": [
           {
            "line": {
             "colorbar": {
              "outlinewidth": 0,
              "ticks": ""
             }
            },
            "marker": {
             "colorbar": {
              "outlinewidth": 0,
              "ticks": ""
             }
            },
            "type": "scatter3d"
           }
          ],
          "scattercarpet": [
           {
            "marker": {
             "colorbar": {
              "outlinewidth": 0,
              "ticks": ""
             }
            },
            "type": "scattercarpet"
           }
          ],
          "scattergeo": [
           {
            "marker": {
             "colorbar": {
              "outlinewidth": 0,
              "ticks": ""
             }
            },
            "type": "scattergeo"
           }
          ],
          "scattergl": [
           {
            "marker": {
             "colorbar": {
              "outlinewidth": 0,
              "ticks": ""
             }
            },
            "type": "scattergl"
           }
          ],
          "scattermapbox": [
           {
            "marker": {
             "colorbar": {
              "outlinewidth": 0,
              "ticks": ""
             }
            },
            "type": "scattermapbox"
           }
          ],
          "scatterpolar": [
           {
            "marker": {
             "colorbar": {
              "outlinewidth": 0,
              "ticks": ""
             }
            },
            "type": "scatterpolar"
           }
          ],
          "scatterpolargl": [
           {
            "marker": {
             "colorbar": {
              "outlinewidth": 0,
              "ticks": ""
             }
            },
            "type": "scatterpolargl"
           }
          ],
          "scatterternary": [
           {
            "marker": {
             "colorbar": {
              "outlinewidth": 0,
              "ticks": ""
             }
            },
            "type": "scatterternary"
           }
          ],
          "surface": [
           {
            "colorbar": {
             "outlinewidth": 0,
             "ticks": ""
            },
            "colorscale": [
             [
              0,
              "#0d0887"
             ],
             [
              0.1111111111111111,
              "#46039f"
             ],
             [
              0.2222222222222222,
              "#7201a8"
             ],
             [
              0.3333333333333333,
              "#9c179e"
             ],
             [
              0.4444444444444444,
              "#bd3786"
             ],
             [
              0.5555555555555556,
              "#d8576b"
             ],
             [
              0.6666666666666666,
              "#ed7953"
             ],
             [
              0.7777777777777778,
              "#fb9f3a"
             ],
             [
              0.8888888888888888,
              "#fdca26"
             ],
             [
              1,
              "#f0f921"
             ]
            ],
            "type": "surface"
           }
          ],
          "table": [
           {
            "cells": {
             "fill": {
              "color": "#EBF0F8"
             },
             "line": {
              "color": "white"
             }
            },
            "header": {
             "fill": {
              "color": "#C8D4E3"
             },
             "line": {
              "color": "white"
             }
            },
            "type": "table"
           }
          ]
         },
         "layout": {
          "annotationdefaults": {
           "arrowcolor": "#2a3f5f",
           "arrowhead": 0,
           "arrowwidth": 1
          },
          "autotypenumbers": "strict",
          "coloraxis": {
           "colorbar": {
            "outlinewidth": 0,
            "ticks": ""
           }
          },
          "colorscale": {
           "diverging": [
            [
             0,
             "#8e0152"
            ],
            [
             0.1,
             "#c51b7d"
            ],
            [
             0.2,
             "#de77ae"
            ],
            [
             0.3,
             "#f1b6da"
            ],
            [
             0.4,
             "#fde0ef"
            ],
            [
             0.5,
             "#f7f7f7"
            ],
            [
             0.6,
             "#e6f5d0"
            ],
            [
             0.7,
             "#b8e186"
            ],
            [
             0.8,
             "#7fbc41"
            ],
            [
             0.9,
             "#4d9221"
            ],
            [
             1,
             "#276419"
            ]
           ],
           "sequential": [
            [
             0,
             "#0d0887"
            ],
            [
             0.1111111111111111,
             "#46039f"
            ],
            [
             0.2222222222222222,
             "#7201a8"
            ],
            [
             0.3333333333333333,
             "#9c179e"
            ],
            [
             0.4444444444444444,
             "#bd3786"
            ],
            [
             0.5555555555555556,
             "#d8576b"
            ],
            [
             0.6666666666666666,
             "#ed7953"
            ],
            [
             0.7777777777777778,
             "#fb9f3a"
            ],
            [
             0.8888888888888888,
             "#fdca26"
            ],
            [
             1,
             "#f0f921"
            ]
           ],
           "sequentialminus": [
            [
             0,
             "#0d0887"
            ],
            [
             0.1111111111111111,
             "#46039f"
            ],
            [
             0.2222222222222222,
             "#7201a8"
            ],
            [
             0.3333333333333333,
             "#9c179e"
            ],
            [
             0.4444444444444444,
             "#bd3786"
            ],
            [
             0.5555555555555556,
             "#d8576b"
            ],
            [
             0.6666666666666666,
             "#ed7953"
            ],
            [
             0.7777777777777778,
             "#fb9f3a"
            ],
            [
             0.8888888888888888,
             "#fdca26"
            ],
            [
             1,
             "#f0f921"
            ]
           ]
          },
          "colorway": [
           "#636efa",
           "#EF553B",
           "#00cc96",
           "#ab63fa",
           "#FFA15A",
           "#19d3f3",
           "#FF6692",
           "#B6E880",
           "#FF97FF",
           "#FECB52"
          ],
          "font": {
           "color": "#2a3f5f"
          },
          "geo": {
           "bgcolor": "white",
           "lakecolor": "white",
           "landcolor": "#E5ECF6",
           "showlakes": true,
           "showland": true,
           "subunitcolor": "white"
          },
          "hoverlabel": {
           "align": "left"
          },
          "hovermode": "closest",
          "mapbox": {
           "style": "light"
          },
          "paper_bgcolor": "white",
          "plot_bgcolor": "#E5ECF6",
          "polar": {
           "angularaxis": {
            "gridcolor": "white",
            "linecolor": "white",
            "ticks": ""
           },
           "bgcolor": "#E5ECF6",
           "radialaxis": {
            "gridcolor": "white",
            "linecolor": "white",
            "ticks": ""
           }
          },
          "scene": {
           "xaxis": {
            "backgroundcolor": "#E5ECF6",
            "gridcolor": "white",
            "gridwidth": 2,
            "linecolor": "white",
            "showbackground": true,
            "ticks": "",
            "zerolinecolor": "white"
           },
           "yaxis": {
            "backgroundcolor": "#E5ECF6",
            "gridcolor": "white",
            "gridwidth": 2,
            "linecolor": "white",
            "showbackground": true,
            "ticks": "",
            "zerolinecolor": "white"
           },
           "zaxis": {
            "backgroundcolor": "#E5ECF6",
            "gridcolor": "white",
            "gridwidth": 2,
            "linecolor": "white",
            "showbackground": true,
            "ticks": "",
            "zerolinecolor": "white"
           }
          },
          "shapedefaults": {
           "line": {
            "color": "#2a3f5f"
           }
          },
          "ternary": {
           "aaxis": {
            "gridcolor": "white",
            "linecolor": "white",
            "ticks": ""
           },
           "baxis": {
            "gridcolor": "white",
            "linecolor": "white",
            "ticks": ""
           },
           "bgcolor": "#E5ECF6",
           "caxis": {
            "gridcolor": "white",
            "linecolor": "white",
            "ticks": ""
           }
          },
          "title": {
           "x": 0.05
          },
          "xaxis": {
           "automargin": true,
           "gridcolor": "white",
           "linecolor": "white",
           "ticks": "",
           "title": {
            "standoff": 15
           },
           "zerolinecolor": "white",
           "zerolinewidth": 2
          },
          "yaxis": {
           "automargin": true,
           "gridcolor": "white",
           "linecolor": "white",
           "ticks": "",
           "title": {
            "standoff": 15
           },
           "zerolinecolor": "white",
           "zerolinewidth": 2
          }
         }
        },
        "title": {
         "text": "Distribución de Personas con y sin Hijos"
        },
        "xaxis": {
         "anchor": "y",
         "domain": [
          0,
          1
         ],
         "title": {
          "text": "Tiene Hijos"
         }
        },
        "yaxis": {
         "anchor": "x",
         "domain": [
          0,
          1
         ],
         "title": {
          "text": "Frecuencia"
         }
        }
       }
      },
      "text/html": [
       "<div>                            <div id=\"33a20ef9-b56b-4138-9ffe-478c337a1730\" class=\"plotly-graph-div\" style=\"height:525px; width:100%;\"></div>            <script type=\"text/javascript\">                require([\"plotly\"], function(Plotly) {                    window.PLOTLYENV=window.PLOTLYENV || {};                                    if (document.getElementById(\"33a20ef9-b56b-4138-9ffe-478c337a1730\")) {                    Plotly.newPlot(                        \"33a20ef9-b56b-4138-9ffe-478c337a1730\",                        [{\"alignmentgroup\":\"True\",\"hovertemplate\":\"Tiene Hijos=%{x}\\u003cbr\\u003eFrecuencia=%{y}\\u003cextra\\u003e\\u003c\\u002fextra\\u003e\",\"legendgroup\":\"\",\"marker\":{\"color\":\"#636efa\",\"pattern\":{\"shape\":\"\"}},\"name\":\"\",\"offsetgroup\":\"\",\"orientation\":\"v\",\"showlegend\":false,\"textposition\":\"auto\",\"x\":[\"Sí\",\"No\"],\"xaxis\":\"x\",\"y\":[750,651],\"yaxis\":\"y\",\"type\":\"bar\"}],                        {\"template\":{\"data\":{\"histogram2dcontour\":[{\"type\":\"histogram2dcontour\",\"colorbar\":{\"outlinewidth\":0,\"ticks\":\"\"},\"colorscale\":[[0.0,\"#0d0887\"],[0.1111111111111111,\"#46039f\"],[0.2222222222222222,\"#7201a8\"],[0.3333333333333333,\"#9c179e\"],[0.4444444444444444,\"#bd3786\"],[0.5555555555555556,\"#d8576b\"],[0.6666666666666666,\"#ed7953\"],[0.7777777777777778,\"#fb9f3a\"],[0.8888888888888888,\"#fdca26\"],[1.0,\"#f0f921\"]]}],\"choropleth\":[{\"type\":\"choropleth\",\"colorbar\":{\"outlinewidth\":0,\"ticks\":\"\"}}],\"histogram2d\":[{\"type\":\"histogram2d\",\"colorbar\":{\"outlinewidth\":0,\"ticks\":\"\"},\"colorscale\":[[0.0,\"#0d0887\"],[0.1111111111111111,\"#46039f\"],[0.2222222222222222,\"#7201a8\"],[0.3333333333333333,\"#9c179e\"],[0.4444444444444444,\"#bd3786\"],[0.5555555555555556,\"#d8576b\"],[0.6666666666666666,\"#ed7953\"],[0.7777777777777778,\"#fb9f3a\"],[0.8888888888888888,\"#fdca26\"],[1.0,\"#f0f921\"]]}],\"heatmap\":[{\"type\":\"heatmap\",\"colorbar\":{\"outlinewidth\":0,\"ticks\":\"\"},\"colorscale\":[[0.0,\"#0d0887\"],[0.1111111111111111,\"#46039f\"],[0.2222222222222222,\"#7201a8\"],[0.3333333333333333,\"#9c179e\"],[0.4444444444444444,\"#bd3786\"],[0.5555555555555556,\"#d8576b\"],[0.6666666666666666,\"#ed7953\"],[0.7777777777777778,\"#fb9f3a\"],[0.8888888888888888,\"#fdca26\"],[1.0,\"#f0f921\"]]}],\"heatmapgl\":[{\"type\":\"heatmapgl\",\"colorbar\":{\"outlinewidth\":0,\"ticks\":\"\"},\"colorscale\":[[0.0,\"#0d0887\"],[0.1111111111111111,\"#46039f\"],[0.2222222222222222,\"#7201a8\"],[0.3333333333333333,\"#9c179e\"],[0.4444444444444444,\"#bd3786\"],[0.5555555555555556,\"#d8576b\"],[0.6666666666666666,\"#ed7953\"],[0.7777777777777778,\"#fb9f3a\"],[0.8888888888888888,\"#fdca26\"],[1.0,\"#f0f921\"]]}],\"contourcarpet\":[{\"type\":\"contourcarpet\",\"colorbar\":{\"outlinewidth\":0,\"ticks\":\"\"}}],\"contour\":[{\"type\":\"contour\",\"colorbar\":{\"outlinewidth\":0,\"ticks\":\"\"},\"colorscale\":[[0.0,\"#0d0887\"],[0.1111111111111111,\"#46039f\"],[0.2222222222222222,\"#7201a8\"],[0.3333333333333333,\"#9c179e\"],[0.4444444444444444,\"#bd3786\"],[0.5555555555555556,\"#d8576b\"],[0.6666666666666666,\"#ed7953\"],[0.7777777777777778,\"#fb9f3a\"],[0.8888888888888888,\"#fdca26\"],[1.0,\"#f0f921\"]]}],\"surface\":[{\"type\":\"surface\",\"colorbar\":{\"outlinewidth\":0,\"ticks\":\"\"},\"colorscale\":[[0.0,\"#0d0887\"],[0.1111111111111111,\"#46039f\"],[0.2222222222222222,\"#7201a8\"],[0.3333333333333333,\"#9c179e\"],[0.4444444444444444,\"#bd3786\"],[0.5555555555555556,\"#d8576b\"],[0.6666666666666666,\"#ed7953\"],[0.7777777777777778,\"#fb9f3a\"],[0.8888888888888888,\"#fdca26\"],[1.0,\"#f0f921\"]]}],\"mesh3d\":[{\"type\":\"mesh3d\",\"colorbar\":{\"outlinewidth\":0,\"ticks\":\"\"}}],\"scatter\":[{\"fillpattern\":{\"fillmode\":\"overlay\",\"size\":10,\"solidity\":0.2},\"type\":\"scatter\"}],\"parcoords\":[{\"type\":\"parcoords\",\"line\":{\"colorbar\":{\"outlinewidth\":0,\"ticks\":\"\"}}}],\"scatterpolargl\":[{\"type\":\"scatterpolargl\",\"marker\":{\"colorbar\":{\"outlinewidth\":0,\"ticks\":\"\"}}}],\"bar\":[{\"error_x\":{\"color\":\"#2a3f5f\"},\"error_y\":{\"color\":\"#2a3f5f\"},\"marker\":{\"line\":{\"color\":\"#E5ECF6\",\"width\":0.5},\"pattern\":{\"fillmode\":\"overlay\",\"size\":10,\"solidity\":0.2}},\"type\":\"bar\"}],\"scattergeo\":[{\"type\":\"scattergeo\",\"marker\":{\"colorbar\":{\"outlinewidth\":0,\"ticks\":\"\"}}}],\"scatterpolar\":[{\"type\":\"scatterpolar\",\"marker\":{\"colorbar\":{\"outlinewidth\":0,\"ticks\":\"\"}}}],\"histogram\":[{\"marker\":{\"pattern\":{\"fillmode\":\"overlay\",\"size\":10,\"solidity\":0.2}},\"type\":\"histogram\"}],\"scattergl\":[{\"type\":\"scattergl\",\"marker\":{\"colorbar\":{\"outlinewidth\":0,\"ticks\":\"\"}}}],\"scatter3d\":[{\"type\":\"scatter3d\",\"line\":{\"colorbar\":{\"outlinewidth\":0,\"ticks\":\"\"}},\"marker\":{\"colorbar\":{\"outlinewidth\":0,\"ticks\":\"\"}}}],\"scattermapbox\":[{\"type\":\"scattermapbox\",\"marker\":{\"colorbar\":{\"outlinewidth\":0,\"ticks\":\"\"}}}],\"scatterternary\":[{\"type\":\"scatterternary\",\"marker\":{\"colorbar\":{\"outlinewidth\":0,\"ticks\":\"\"}}}],\"scattercarpet\":[{\"type\":\"scattercarpet\",\"marker\":{\"colorbar\":{\"outlinewidth\":0,\"ticks\":\"\"}}}],\"carpet\":[{\"aaxis\":{\"endlinecolor\":\"#2a3f5f\",\"gridcolor\":\"white\",\"linecolor\":\"white\",\"minorgridcolor\":\"white\",\"startlinecolor\":\"#2a3f5f\"},\"baxis\":{\"endlinecolor\":\"#2a3f5f\",\"gridcolor\":\"white\",\"linecolor\":\"white\",\"minorgridcolor\":\"white\",\"startlinecolor\":\"#2a3f5f\"},\"type\":\"carpet\"}],\"table\":[{\"cells\":{\"fill\":{\"color\":\"#EBF0F8\"},\"line\":{\"color\":\"white\"}},\"header\":{\"fill\":{\"color\":\"#C8D4E3\"},\"line\":{\"color\":\"white\"}},\"type\":\"table\"}],\"barpolar\":[{\"marker\":{\"line\":{\"color\":\"#E5ECF6\",\"width\":0.5},\"pattern\":{\"fillmode\":\"overlay\",\"size\":10,\"solidity\":0.2}},\"type\":\"barpolar\"}],\"pie\":[{\"automargin\":true,\"type\":\"pie\"}]},\"layout\":{\"autotypenumbers\":\"strict\",\"colorway\":[\"#636efa\",\"#EF553B\",\"#00cc96\",\"#ab63fa\",\"#FFA15A\",\"#19d3f3\",\"#FF6692\",\"#B6E880\",\"#FF97FF\",\"#FECB52\"],\"font\":{\"color\":\"#2a3f5f\"},\"hovermode\":\"closest\",\"hoverlabel\":{\"align\":\"left\"},\"paper_bgcolor\":\"white\",\"plot_bgcolor\":\"#E5ECF6\",\"polar\":{\"bgcolor\":\"#E5ECF6\",\"angularaxis\":{\"gridcolor\":\"white\",\"linecolor\":\"white\",\"ticks\":\"\"},\"radialaxis\":{\"gridcolor\":\"white\",\"linecolor\":\"white\",\"ticks\":\"\"}},\"ternary\":{\"bgcolor\":\"#E5ECF6\",\"aaxis\":{\"gridcolor\":\"white\",\"linecolor\":\"white\",\"ticks\":\"\"},\"baxis\":{\"gridcolor\":\"white\",\"linecolor\":\"white\",\"ticks\":\"\"},\"caxis\":{\"gridcolor\":\"white\",\"linecolor\":\"white\",\"ticks\":\"\"}},\"coloraxis\":{\"colorbar\":{\"outlinewidth\":0,\"ticks\":\"\"}},\"colorscale\":{\"sequential\":[[0.0,\"#0d0887\"],[0.1111111111111111,\"#46039f\"],[0.2222222222222222,\"#7201a8\"],[0.3333333333333333,\"#9c179e\"],[0.4444444444444444,\"#bd3786\"],[0.5555555555555556,\"#d8576b\"],[0.6666666666666666,\"#ed7953\"],[0.7777777777777778,\"#fb9f3a\"],[0.8888888888888888,\"#fdca26\"],[1.0,\"#f0f921\"]],\"sequentialminus\":[[0.0,\"#0d0887\"],[0.1111111111111111,\"#46039f\"],[0.2222222222222222,\"#7201a8\"],[0.3333333333333333,\"#9c179e\"],[0.4444444444444444,\"#bd3786\"],[0.5555555555555556,\"#d8576b\"],[0.6666666666666666,\"#ed7953\"],[0.7777777777777778,\"#fb9f3a\"],[0.8888888888888888,\"#fdca26\"],[1.0,\"#f0f921\"]],\"diverging\":[[0,\"#8e0152\"],[0.1,\"#c51b7d\"],[0.2,\"#de77ae\"],[0.3,\"#f1b6da\"],[0.4,\"#fde0ef\"],[0.5,\"#f7f7f7\"],[0.6,\"#e6f5d0\"],[0.7,\"#b8e186\"],[0.8,\"#7fbc41\"],[0.9,\"#4d9221\"],[1,\"#276419\"]]},\"xaxis\":{\"gridcolor\":\"white\",\"linecolor\":\"white\",\"ticks\":\"\",\"title\":{\"standoff\":15},\"zerolinecolor\":\"white\",\"automargin\":true,\"zerolinewidth\":2},\"yaxis\":{\"gridcolor\":\"white\",\"linecolor\":\"white\",\"ticks\":\"\",\"title\":{\"standoff\":15},\"zerolinecolor\":\"white\",\"automargin\":true,\"zerolinewidth\":2},\"scene\":{\"xaxis\":{\"backgroundcolor\":\"#E5ECF6\",\"gridcolor\":\"white\",\"linecolor\":\"white\",\"showbackground\":true,\"ticks\":\"\",\"zerolinecolor\":\"white\",\"gridwidth\":2},\"yaxis\":{\"backgroundcolor\":\"#E5ECF6\",\"gridcolor\":\"white\",\"linecolor\":\"white\",\"showbackground\":true,\"ticks\":\"\",\"zerolinecolor\":\"white\",\"gridwidth\":2},\"zaxis\":{\"backgroundcolor\":\"#E5ECF6\",\"gridcolor\":\"white\",\"linecolor\":\"white\",\"showbackground\":true,\"ticks\":\"\",\"zerolinecolor\":\"white\",\"gridwidth\":2}},\"shapedefaults\":{\"line\":{\"color\":\"#2a3f5f\"}},\"annotationdefaults\":{\"arrowcolor\":\"#2a3f5f\",\"arrowhead\":0,\"arrowwidth\":1},\"geo\":{\"bgcolor\":\"white\",\"landcolor\":\"#E5ECF6\",\"subunitcolor\":\"white\",\"showland\":true,\"showlakes\":true,\"lakecolor\":\"white\"},\"title\":{\"x\":0.05},\"mapbox\":{\"style\":\"light\"}}},\"xaxis\":{\"anchor\":\"y\",\"domain\":[0.0,1.0],\"title\":{\"text\":\"Tiene Hijos\"}},\"yaxis\":{\"anchor\":\"x\",\"domain\":[0.0,1.0],\"title\":{\"text\":\"Frecuencia\"}},\"legend\":{\"tracegroupgap\":0},\"title\":{\"text\":\"Distribución de Personas con y sin Hijos\"},\"barmode\":\"relative\"},                        {\"responsive\": true}                    ).then(function(){\n",
       "                            \n",
       "var gd = document.getElementById('33a20ef9-b56b-4138-9ffe-478c337a1730');\n",
       "var x = new MutationObserver(function (mutations, observer) {{\n",
       "        var display = window.getComputedStyle(gd).display;\n",
       "        if (!display || display === 'none') {{\n",
       "            console.log([gd, 'removed!']);\n",
       "            Plotly.purge(gd);\n",
       "            observer.disconnect();\n",
       "        }}\n",
       "}});\n",
       "\n",
       "// Listen for the removal of the full notebook cells\n",
       "var notebookContainer = gd.closest('#notebook-container');\n",
       "if (notebookContainer) {{\n",
       "    x.observe(notebookContainer, {childList: true});\n",
       "}}\n",
       "\n",
       "// Listen for the clearing of the current output cell\n",
       "var outputEl = gd.closest('.output');\n",
       "if (outputEl) {{\n",
       "    x.observe(outputEl, {childList: true});\n",
       "}}\n",
       "\n",
       "                        })                };                });            </script>        </div>"
      ]
     },
     "metadata": {},
     "output_type": "display_data"
    },
    {
     "data": {
      "application/vnd.plotly.v1+json": {
       "config": {
        "plotlyServerURL": "https://plot.ly"
       },
       "data": [
        {
         "alignmentgroup": "True",
         "hovertemplate": "TIPO DE RENUNCIA=DESPIDO<br>BANDA=%{x}<br>conteo=%{y}<extra></extra>",
         "legendgroup": "DESPIDO",
         "marker": {
          "color": "#636efa",
          "pattern": {
           "shape": ""
          }
         },
         "name": "DESPIDO",
         "offsetgroup": "DESPIDO",
         "orientation": "v",
         "showlegend": true,
         "textposition": "auto",
         "type": "bar",
         "x": [
          "DNO",
          "DO",
          "E3",
          "E4",
          "SL1"
         ],
         "xaxis": "x",
         "y": [
          42,
          98,
          11,
          3,
          4
         ],
         "yaxis": "y"
        },
        {
         "alignmentgroup": "True",
         "hovertemplate": "TIPO DE RENUNCIA=VOLUNTARIA<br>BANDA=%{x}<br>conteo=%{y}<extra></extra>",
         "legendgroup": "VOLUNTARIA",
         "marker": {
          "color": "#EF553B",
          "pattern": {
           "shape": ""
          }
         },
         "name": "VOLUNTARIA",
         "offsetgroup": "VOLUNTARIA",
         "orientation": "v",
         "showlegend": true,
         "textposition": "auto",
         "type": "bar",
         "x": [
          "DNO",
          "DO",
          "E3",
          "E4",
          "SL1"
         ],
         "xaxis": "x",
         "y": [
          320,
          781,
          86,
          46,
          9
         ],
         "yaxis": "y"
        }
       ],
       "layout": {
        "barmode": "relative",
        "legend": {
         "title": {
          "text": "TIPO DE RENUNCIA"
         },
         "tracegroupgap": 0
        },
        "template": {
         "data": {
          "bar": [
           {
            "error_x": {
             "color": "#2a3f5f"
            },
            "error_y": {
             "color": "#2a3f5f"
            },
            "marker": {
             "line": {
              "color": "#E5ECF6",
              "width": 0.5
             },
             "pattern": {
              "fillmode": "overlay",
              "size": 10,
              "solidity": 0.2
             }
            },
            "type": "bar"
           }
          ],
          "barpolar": [
           {
            "marker": {
             "line": {
              "color": "#E5ECF6",
              "width": 0.5
             },
             "pattern": {
              "fillmode": "overlay",
              "size": 10,
              "solidity": 0.2
             }
            },
            "type": "barpolar"
           }
          ],
          "carpet": [
           {
            "aaxis": {
             "endlinecolor": "#2a3f5f",
             "gridcolor": "white",
             "linecolor": "white",
             "minorgridcolor": "white",
             "startlinecolor": "#2a3f5f"
            },
            "baxis": {
             "endlinecolor": "#2a3f5f",
             "gridcolor": "white",
             "linecolor": "white",
             "minorgridcolor": "white",
             "startlinecolor": "#2a3f5f"
            },
            "type": "carpet"
           }
          ],
          "choropleth": [
           {
            "colorbar": {
             "outlinewidth": 0,
             "ticks": ""
            },
            "type": "choropleth"
           }
          ],
          "contour": [
           {
            "colorbar": {
             "outlinewidth": 0,
             "ticks": ""
            },
            "colorscale": [
             [
              0,
              "#0d0887"
             ],
             [
              0.1111111111111111,
              "#46039f"
             ],
             [
              0.2222222222222222,
              "#7201a8"
             ],
             [
              0.3333333333333333,
              "#9c179e"
             ],
             [
              0.4444444444444444,
              "#bd3786"
             ],
             [
              0.5555555555555556,
              "#d8576b"
             ],
             [
              0.6666666666666666,
              "#ed7953"
             ],
             [
              0.7777777777777778,
              "#fb9f3a"
             ],
             [
              0.8888888888888888,
              "#fdca26"
             ],
             [
              1,
              "#f0f921"
             ]
            ],
            "type": "contour"
           }
          ],
          "contourcarpet": [
           {
            "colorbar": {
             "outlinewidth": 0,
             "ticks": ""
            },
            "type": "contourcarpet"
           }
          ],
          "heatmap": [
           {
            "colorbar": {
             "outlinewidth": 0,
             "ticks": ""
            },
            "colorscale": [
             [
              0,
              "#0d0887"
             ],
             [
              0.1111111111111111,
              "#46039f"
             ],
             [
              0.2222222222222222,
              "#7201a8"
             ],
             [
              0.3333333333333333,
              "#9c179e"
             ],
             [
              0.4444444444444444,
              "#bd3786"
             ],
             [
              0.5555555555555556,
              "#d8576b"
             ],
             [
              0.6666666666666666,
              "#ed7953"
             ],
             [
              0.7777777777777778,
              "#fb9f3a"
             ],
             [
              0.8888888888888888,
              "#fdca26"
             ],
             [
              1,
              "#f0f921"
             ]
            ],
            "type": "heatmap"
           }
          ],
          "heatmapgl": [
           {
            "colorbar": {
             "outlinewidth": 0,
             "ticks": ""
            },
            "colorscale": [
             [
              0,
              "#0d0887"
             ],
             [
              0.1111111111111111,
              "#46039f"
             ],
             [
              0.2222222222222222,
              "#7201a8"
             ],
             [
              0.3333333333333333,
              "#9c179e"
             ],
             [
              0.4444444444444444,
              "#bd3786"
             ],
             [
              0.5555555555555556,
              "#d8576b"
             ],
             [
              0.6666666666666666,
              "#ed7953"
             ],
             [
              0.7777777777777778,
              "#fb9f3a"
             ],
             [
              0.8888888888888888,
              "#fdca26"
             ],
             [
              1,
              "#f0f921"
             ]
            ],
            "type": "heatmapgl"
           }
          ],
          "histogram": [
           {
            "marker": {
             "pattern": {
              "fillmode": "overlay",
              "size": 10,
              "solidity": 0.2
             }
            },
            "type": "histogram"
           }
          ],
          "histogram2d": [
           {
            "colorbar": {
             "outlinewidth": 0,
             "ticks": ""
            },
            "colorscale": [
             [
              0,
              "#0d0887"
             ],
             [
              0.1111111111111111,
              "#46039f"
             ],
             [
              0.2222222222222222,
              "#7201a8"
             ],
             [
              0.3333333333333333,
              "#9c179e"
             ],
             [
              0.4444444444444444,
              "#bd3786"
             ],
             [
              0.5555555555555556,
              "#d8576b"
             ],
             [
              0.6666666666666666,
              "#ed7953"
             ],
             [
              0.7777777777777778,
              "#fb9f3a"
             ],
             [
              0.8888888888888888,
              "#fdca26"
             ],
             [
              1,
              "#f0f921"
             ]
            ],
            "type": "histogram2d"
           }
          ],
          "histogram2dcontour": [
           {
            "colorbar": {
             "outlinewidth": 0,
             "ticks": ""
            },
            "colorscale": [
             [
              0,
              "#0d0887"
             ],
             [
              0.1111111111111111,
              "#46039f"
             ],
             [
              0.2222222222222222,
              "#7201a8"
             ],
             [
              0.3333333333333333,
              "#9c179e"
             ],
             [
              0.4444444444444444,
              "#bd3786"
             ],
             [
              0.5555555555555556,
              "#d8576b"
             ],
             [
              0.6666666666666666,
              "#ed7953"
             ],
             [
              0.7777777777777778,
              "#fb9f3a"
             ],
             [
              0.8888888888888888,
              "#fdca26"
             ],
             [
              1,
              "#f0f921"
             ]
            ],
            "type": "histogram2dcontour"
           }
          ],
          "mesh3d": [
           {
            "colorbar": {
             "outlinewidth": 0,
             "ticks": ""
            },
            "type": "mesh3d"
           }
          ],
          "parcoords": [
           {
            "line": {
             "colorbar": {
              "outlinewidth": 0,
              "ticks": ""
             }
            },
            "type": "parcoords"
           }
          ],
          "pie": [
           {
            "automargin": true,
            "type": "pie"
           }
          ],
          "scatter": [
           {
            "fillpattern": {
             "fillmode": "overlay",
             "size": 10,
             "solidity": 0.2
            },
            "type": "scatter"
           }
          ],
          "scatter3d": [
           {
            "line": {
             "colorbar": {
              "outlinewidth": 0,
              "ticks": ""
             }
            },
            "marker": {
             "colorbar": {
              "outlinewidth": 0,
              "ticks": ""
             }
            },
            "type": "scatter3d"
           }
          ],
          "scattercarpet": [
           {
            "marker": {
             "colorbar": {
              "outlinewidth": 0,
              "ticks": ""
             }
            },
            "type": "scattercarpet"
           }
          ],
          "scattergeo": [
           {
            "marker": {
             "colorbar": {
              "outlinewidth": 0,
              "ticks": ""
             }
            },
            "type": "scattergeo"
           }
          ],
          "scattergl": [
           {
            "marker": {
             "colorbar": {
              "outlinewidth": 0,
              "ticks": ""
             }
            },
            "type": "scattergl"
           }
          ],
          "scattermapbox": [
           {
            "marker": {
             "colorbar": {
              "outlinewidth": 0,
              "ticks": ""
             }
            },
            "type": "scattermapbox"
           }
          ],
          "scatterpolar": [
           {
            "marker": {
             "colorbar": {
              "outlinewidth": 0,
              "ticks": ""
             }
            },
            "type": "scatterpolar"
           }
          ],
          "scatterpolargl": [
           {
            "marker": {
             "colorbar": {
              "outlinewidth": 0,
              "ticks": ""
             }
            },
            "type": "scatterpolargl"
           }
          ],
          "scatterternary": [
           {
            "marker": {
             "colorbar": {
              "outlinewidth": 0,
              "ticks": ""
             }
            },
            "type": "scatterternary"
           }
          ],
          "surface": [
           {
            "colorbar": {
             "outlinewidth": 0,
             "ticks": ""
            },
            "colorscale": [
             [
              0,
              "#0d0887"
             ],
             [
              0.1111111111111111,
              "#46039f"
             ],
             [
              0.2222222222222222,
              "#7201a8"
             ],
             [
              0.3333333333333333,
              "#9c179e"
             ],
             [
              0.4444444444444444,
              "#bd3786"
             ],
             [
              0.5555555555555556,
              "#d8576b"
             ],
             [
              0.6666666666666666,
              "#ed7953"
             ],
             [
              0.7777777777777778,
              "#fb9f3a"
             ],
             [
              0.8888888888888888,
              "#fdca26"
             ],
             [
              1,
              "#f0f921"
             ]
            ],
            "type": "surface"
           }
          ],
          "table": [
           {
            "cells": {
             "fill": {
              "color": "#EBF0F8"
             },
             "line": {
              "color": "white"
             }
            },
            "header": {
             "fill": {
              "color": "#C8D4E3"
             },
             "line": {
              "color": "white"
             }
            },
            "type": "table"
           }
          ]
         },
         "layout": {
          "annotationdefaults": {
           "arrowcolor": "#2a3f5f",
           "arrowhead": 0,
           "arrowwidth": 1
          },
          "autotypenumbers": "strict",
          "coloraxis": {
           "colorbar": {
            "outlinewidth": 0,
            "ticks": ""
           }
          },
          "colorscale": {
           "diverging": [
            [
             0,
             "#8e0152"
            ],
            [
             0.1,
             "#c51b7d"
            ],
            [
             0.2,
             "#de77ae"
            ],
            [
             0.3,
             "#f1b6da"
            ],
            [
             0.4,
             "#fde0ef"
            ],
            [
             0.5,
             "#f7f7f7"
            ],
            [
             0.6,
             "#e6f5d0"
            ],
            [
             0.7,
             "#b8e186"
            ],
            [
             0.8,
             "#7fbc41"
            ],
            [
             0.9,
             "#4d9221"
            ],
            [
             1,
             "#276419"
            ]
           ],
           "sequential": [
            [
             0,
             "#0d0887"
            ],
            [
             0.1111111111111111,
             "#46039f"
            ],
            [
             0.2222222222222222,
             "#7201a8"
            ],
            [
             0.3333333333333333,
             "#9c179e"
            ],
            [
             0.4444444444444444,
             "#bd3786"
            ],
            [
             0.5555555555555556,
             "#d8576b"
            ],
            [
             0.6666666666666666,
             "#ed7953"
            ],
            [
             0.7777777777777778,
             "#fb9f3a"
            ],
            [
             0.8888888888888888,
             "#fdca26"
            ],
            [
             1,
             "#f0f921"
            ]
           ],
           "sequentialminus": [
            [
             0,
             "#0d0887"
            ],
            [
             0.1111111111111111,
             "#46039f"
            ],
            [
             0.2222222222222222,
             "#7201a8"
            ],
            [
             0.3333333333333333,
             "#9c179e"
            ],
            [
             0.4444444444444444,
             "#bd3786"
            ],
            [
             0.5555555555555556,
             "#d8576b"
            ],
            [
             0.6666666666666666,
             "#ed7953"
            ],
            [
             0.7777777777777778,
             "#fb9f3a"
            ],
            [
             0.8888888888888888,
             "#fdca26"
            ],
            [
             1,
             "#f0f921"
            ]
           ]
          },
          "colorway": [
           "#636efa",
           "#EF553B",
           "#00cc96",
           "#ab63fa",
           "#FFA15A",
           "#19d3f3",
           "#FF6692",
           "#B6E880",
           "#FF97FF",
           "#FECB52"
          ],
          "font": {
           "color": "#2a3f5f"
          },
          "geo": {
           "bgcolor": "white",
           "lakecolor": "white",
           "landcolor": "#E5ECF6",
           "showlakes": true,
           "showland": true,
           "subunitcolor": "white"
          },
          "hoverlabel": {
           "align": "left"
          },
          "hovermode": "closest",
          "mapbox": {
           "style": "light"
          },
          "paper_bgcolor": "white",
          "plot_bgcolor": "#E5ECF6",
          "polar": {
           "angularaxis": {
            "gridcolor": "white",
            "linecolor": "white",
            "ticks": ""
           },
           "bgcolor": "#E5ECF6",
           "radialaxis": {
            "gridcolor": "white",
            "linecolor": "white",
            "ticks": ""
           }
          },
          "scene": {
           "xaxis": {
            "backgroundcolor": "#E5ECF6",
            "gridcolor": "white",
            "gridwidth": 2,
            "linecolor": "white",
            "showbackground": true,
            "ticks": "",
            "zerolinecolor": "white"
           },
           "yaxis": {
            "backgroundcolor": "#E5ECF6",
            "gridcolor": "white",
            "gridwidth": 2,
            "linecolor": "white",
            "showbackground": true,
            "ticks": "",
            "zerolinecolor": "white"
           },
           "zaxis": {
            "backgroundcolor": "#E5ECF6",
            "gridcolor": "white",
            "gridwidth": 2,
            "linecolor": "white",
            "showbackground": true,
            "ticks": "",
            "zerolinecolor": "white"
           }
          },
          "shapedefaults": {
           "line": {
            "color": "#2a3f5f"
           }
          },
          "ternary": {
           "aaxis": {
            "gridcolor": "white",
            "linecolor": "white",
            "ticks": ""
           },
           "baxis": {
            "gridcolor": "white",
            "linecolor": "white",
            "ticks": ""
           },
           "bgcolor": "#E5ECF6",
           "caxis": {
            "gridcolor": "white",
            "linecolor": "white",
            "ticks": ""
           }
          },
          "title": {
           "x": 0.05
          },
          "xaxis": {
           "automargin": true,
           "gridcolor": "white",
           "linecolor": "white",
           "ticks": "",
           "title": {
            "standoff": 15
           },
           "zerolinecolor": "white",
           "zerolinewidth": 2
          },
          "yaxis": {
           "automargin": true,
           "gridcolor": "white",
           "linecolor": "white",
           "ticks": "",
           "title": {
            "standoff": 15
           },
           "zerolinecolor": "white",
           "zerolinewidth": 2
          }
         }
        },
        "title": {
         "text": "BANDA vs. TIPO DE RENUNCIA"
        },
        "xaxis": {
         "anchor": "y",
         "domain": [
          0,
          1
         ],
         "title": {
          "text": "BANDA"
         }
        },
        "yaxis": {
         "anchor": "x",
         "domain": [
          0,
          1
         ],
         "title": {
          "text": "conteo"
         }
        }
       }
      },
      "text/html": [
       "<div>                            <div id=\"59dbc7d8-4582-47ca-8273-9d504ac63ef6\" class=\"plotly-graph-div\" style=\"height:525px; width:100%;\"></div>            <script type=\"text/javascript\">                require([\"plotly\"], function(Plotly) {                    window.PLOTLYENV=window.PLOTLYENV || {};                                    if (document.getElementById(\"59dbc7d8-4582-47ca-8273-9d504ac63ef6\")) {                    Plotly.newPlot(                        \"59dbc7d8-4582-47ca-8273-9d504ac63ef6\",                        [{\"alignmentgroup\":\"True\",\"hovertemplate\":\"TIPO DE RENUNCIA=DESPIDO\\u003cbr\\u003eBANDA=%{x}\\u003cbr\\u003econteo=%{y}\\u003cextra\\u003e\\u003c\\u002fextra\\u003e\",\"legendgroup\":\"DESPIDO\",\"marker\":{\"color\":\"#636efa\",\"pattern\":{\"shape\":\"\"}},\"name\":\"DESPIDO\",\"offsetgroup\":\"DESPIDO\",\"orientation\":\"v\",\"showlegend\":true,\"textposition\":\"auto\",\"x\":[\"DNO\",\"DO\",\"E3\",\"E4\",\"SL1\"],\"xaxis\":\"x\",\"y\":[42,98,11,3,4],\"yaxis\":\"y\",\"type\":\"bar\"},{\"alignmentgroup\":\"True\",\"hovertemplate\":\"TIPO DE RENUNCIA=VOLUNTARIA\\u003cbr\\u003eBANDA=%{x}\\u003cbr\\u003econteo=%{y}\\u003cextra\\u003e\\u003c\\u002fextra\\u003e\",\"legendgroup\":\"VOLUNTARIA\",\"marker\":{\"color\":\"#EF553B\",\"pattern\":{\"shape\":\"\"}},\"name\":\"VOLUNTARIA\",\"offsetgroup\":\"VOLUNTARIA\",\"orientation\":\"v\",\"showlegend\":true,\"textposition\":\"auto\",\"x\":[\"DNO\",\"DO\",\"E3\",\"E4\",\"SL1\"],\"xaxis\":\"x\",\"y\":[320,781,86,46,9],\"yaxis\":\"y\",\"type\":\"bar\"}],                        {\"template\":{\"data\":{\"histogram2dcontour\":[{\"type\":\"histogram2dcontour\",\"colorbar\":{\"outlinewidth\":0,\"ticks\":\"\"},\"colorscale\":[[0.0,\"#0d0887\"],[0.1111111111111111,\"#46039f\"],[0.2222222222222222,\"#7201a8\"],[0.3333333333333333,\"#9c179e\"],[0.4444444444444444,\"#bd3786\"],[0.5555555555555556,\"#d8576b\"],[0.6666666666666666,\"#ed7953\"],[0.7777777777777778,\"#fb9f3a\"],[0.8888888888888888,\"#fdca26\"],[1.0,\"#f0f921\"]]}],\"choropleth\":[{\"type\":\"choropleth\",\"colorbar\":{\"outlinewidth\":0,\"ticks\":\"\"}}],\"histogram2d\":[{\"type\":\"histogram2d\",\"colorbar\":{\"outlinewidth\":0,\"ticks\":\"\"},\"colorscale\":[[0.0,\"#0d0887\"],[0.1111111111111111,\"#46039f\"],[0.2222222222222222,\"#7201a8\"],[0.3333333333333333,\"#9c179e\"],[0.4444444444444444,\"#bd3786\"],[0.5555555555555556,\"#d8576b\"],[0.6666666666666666,\"#ed7953\"],[0.7777777777777778,\"#fb9f3a\"],[0.8888888888888888,\"#fdca26\"],[1.0,\"#f0f921\"]]}],\"heatmap\":[{\"type\":\"heatmap\",\"colorbar\":{\"outlinewidth\":0,\"ticks\":\"\"},\"colorscale\":[[0.0,\"#0d0887\"],[0.1111111111111111,\"#46039f\"],[0.2222222222222222,\"#7201a8\"],[0.3333333333333333,\"#9c179e\"],[0.4444444444444444,\"#bd3786\"],[0.5555555555555556,\"#d8576b\"],[0.6666666666666666,\"#ed7953\"],[0.7777777777777778,\"#fb9f3a\"],[0.8888888888888888,\"#fdca26\"],[1.0,\"#f0f921\"]]}],\"heatmapgl\":[{\"type\":\"heatmapgl\",\"colorbar\":{\"outlinewidth\":0,\"ticks\":\"\"},\"colorscale\":[[0.0,\"#0d0887\"],[0.1111111111111111,\"#46039f\"],[0.2222222222222222,\"#7201a8\"],[0.3333333333333333,\"#9c179e\"],[0.4444444444444444,\"#bd3786\"],[0.5555555555555556,\"#d8576b\"],[0.6666666666666666,\"#ed7953\"],[0.7777777777777778,\"#fb9f3a\"],[0.8888888888888888,\"#fdca26\"],[1.0,\"#f0f921\"]]}],\"contourcarpet\":[{\"type\":\"contourcarpet\",\"colorbar\":{\"outlinewidth\":0,\"ticks\":\"\"}}],\"contour\":[{\"type\":\"contour\",\"colorbar\":{\"outlinewidth\":0,\"ticks\":\"\"},\"colorscale\":[[0.0,\"#0d0887\"],[0.1111111111111111,\"#46039f\"],[0.2222222222222222,\"#7201a8\"],[0.3333333333333333,\"#9c179e\"],[0.4444444444444444,\"#bd3786\"],[0.5555555555555556,\"#d8576b\"],[0.6666666666666666,\"#ed7953\"],[0.7777777777777778,\"#fb9f3a\"],[0.8888888888888888,\"#fdca26\"],[1.0,\"#f0f921\"]]}],\"surface\":[{\"type\":\"surface\",\"colorbar\":{\"outlinewidth\":0,\"ticks\":\"\"},\"colorscale\":[[0.0,\"#0d0887\"],[0.1111111111111111,\"#46039f\"],[0.2222222222222222,\"#7201a8\"],[0.3333333333333333,\"#9c179e\"],[0.4444444444444444,\"#bd3786\"],[0.5555555555555556,\"#d8576b\"],[0.6666666666666666,\"#ed7953\"],[0.7777777777777778,\"#fb9f3a\"],[0.8888888888888888,\"#fdca26\"],[1.0,\"#f0f921\"]]}],\"mesh3d\":[{\"type\":\"mesh3d\",\"colorbar\":{\"outlinewidth\":0,\"ticks\":\"\"}}],\"scatter\":[{\"fillpattern\":{\"fillmode\":\"overlay\",\"size\":10,\"solidity\":0.2},\"type\":\"scatter\"}],\"parcoords\":[{\"type\":\"parcoords\",\"line\":{\"colorbar\":{\"outlinewidth\":0,\"ticks\":\"\"}}}],\"scatterpolargl\":[{\"type\":\"scatterpolargl\",\"marker\":{\"colorbar\":{\"outlinewidth\":0,\"ticks\":\"\"}}}],\"bar\":[{\"error_x\":{\"color\":\"#2a3f5f\"},\"error_y\":{\"color\":\"#2a3f5f\"},\"marker\":{\"line\":{\"color\":\"#E5ECF6\",\"width\":0.5},\"pattern\":{\"fillmode\":\"overlay\",\"size\":10,\"solidity\":0.2}},\"type\":\"bar\"}],\"scattergeo\":[{\"type\":\"scattergeo\",\"marker\":{\"colorbar\":{\"outlinewidth\":0,\"ticks\":\"\"}}}],\"scatterpolar\":[{\"type\":\"scatterpolar\",\"marker\":{\"colorbar\":{\"outlinewidth\":0,\"ticks\":\"\"}}}],\"histogram\":[{\"marker\":{\"pattern\":{\"fillmode\":\"overlay\",\"size\":10,\"solidity\":0.2}},\"type\":\"histogram\"}],\"scattergl\":[{\"type\":\"scattergl\",\"marker\":{\"colorbar\":{\"outlinewidth\":0,\"ticks\":\"\"}}}],\"scatter3d\":[{\"type\":\"scatter3d\",\"line\":{\"colorbar\":{\"outlinewidth\":0,\"ticks\":\"\"}},\"marker\":{\"colorbar\":{\"outlinewidth\":0,\"ticks\":\"\"}}}],\"scattermapbox\":[{\"type\":\"scattermapbox\",\"marker\":{\"colorbar\":{\"outlinewidth\":0,\"ticks\":\"\"}}}],\"scatterternary\":[{\"type\":\"scatterternary\",\"marker\":{\"colorbar\":{\"outlinewidth\":0,\"ticks\":\"\"}}}],\"scattercarpet\":[{\"type\":\"scattercarpet\",\"marker\":{\"colorbar\":{\"outlinewidth\":0,\"ticks\":\"\"}}}],\"carpet\":[{\"aaxis\":{\"endlinecolor\":\"#2a3f5f\",\"gridcolor\":\"white\",\"linecolor\":\"white\",\"minorgridcolor\":\"white\",\"startlinecolor\":\"#2a3f5f\"},\"baxis\":{\"endlinecolor\":\"#2a3f5f\",\"gridcolor\":\"white\",\"linecolor\":\"white\",\"minorgridcolor\":\"white\",\"startlinecolor\":\"#2a3f5f\"},\"type\":\"carpet\"}],\"table\":[{\"cells\":{\"fill\":{\"color\":\"#EBF0F8\"},\"line\":{\"color\":\"white\"}},\"header\":{\"fill\":{\"color\":\"#C8D4E3\"},\"line\":{\"color\":\"white\"}},\"type\":\"table\"}],\"barpolar\":[{\"marker\":{\"line\":{\"color\":\"#E5ECF6\",\"width\":0.5},\"pattern\":{\"fillmode\":\"overlay\",\"size\":10,\"solidity\":0.2}},\"type\":\"barpolar\"}],\"pie\":[{\"automargin\":true,\"type\":\"pie\"}]},\"layout\":{\"autotypenumbers\":\"strict\",\"colorway\":[\"#636efa\",\"#EF553B\",\"#00cc96\",\"#ab63fa\",\"#FFA15A\",\"#19d3f3\",\"#FF6692\",\"#B6E880\",\"#FF97FF\",\"#FECB52\"],\"font\":{\"color\":\"#2a3f5f\"},\"hovermode\":\"closest\",\"hoverlabel\":{\"align\":\"left\"},\"paper_bgcolor\":\"white\",\"plot_bgcolor\":\"#E5ECF6\",\"polar\":{\"bgcolor\":\"#E5ECF6\",\"angularaxis\":{\"gridcolor\":\"white\",\"linecolor\":\"white\",\"ticks\":\"\"},\"radialaxis\":{\"gridcolor\":\"white\",\"linecolor\":\"white\",\"ticks\":\"\"}},\"ternary\":{\"bgcolor\":\"#E5ECF6\",\"aaxis\":{\"gridcolor\":\"white\",\"linecolor\":\"white\",\"ticks\":\"\"},\"baxis\":{\"gridcolor\":\"white\",\"linecolor\":\"white\",\"ticks\":\"\"},\"caxis\":{\"gridcolor\":\"white\",\"linecolor\":\"white\",\"ticks\":\"\"}},\"coloraxis\":{\"colorbar\":{\"outlinewidth\":0,\"ticks\":\"\"}},\"colorscale\":{\"sequential\":[[0.0,\"#0d0887\"],[0.1111111111111111,\"#46039f\"],[0.2222222222222222,\"#7201a8\"],[0.3333333333333333,\"#9c179e\"],[0.4444444444444444,\"#bd3786\"],[0.5555555555555556,\"#d8576b\"],[0.6666666666666666,\"#ed7953\"],[0.7777777777777778,\"#fb9f3a\"],[0.8888888888888888,\"#fdca26\"],[1.0,\"#f0f921\"]],\"sequentialminus\":[[0.0,\"#0d0887\"],[0.1111111111111111,\"#46039f\"],[0.2222222222222222,\"#7201a8\"],[0.3333333333333333,\"#9c179e\"],[0.4444444444444444,\"#bd3786\"],[0.5555555555555556,\"#d8576b\"],[0.6666666666666666,\"#ed7953\"],[0.7777777777777778,\"#fb9f3a\"],[0.8888888888888888,\"#fdca26\"],[1.0,\"#f0f921\"]],\"diverging\":[[0,\"#8e0152\"],[0.1,\"#c51b7d\"],[0.2,\"#de77ae\"],[0.3,\"#f1b6da\"],[0.4,\"#fde0ef\"],[0.5,\"#f7f7f7\"],[0.6,\"#e6f5d0\"],[0.7,\"#b8e186\"],[0.8,\"#7fbc41\"],[0.9,\"#4d9221\"],[1,\"#276419\"]]},\"xaxis\":{\"gridcolor\":\"white\",\"linecolor\":\"white\",\"ticks\":\"\",\"title\":{\"standoff\":15},\"zerolinecolor\":\"white\",\"automargin\":true,\"zerolinewidth\":2},\"yaxis\":{\"gridcolor\":\"white\",\"linecolor\":\"white\",\"ticks\":\"\",\"title\":{\"standoff\":15},\"zerolinecolor\":\"white\",\"automargin\":true,\"zerolinewidth\":2},\"scene\":{\"xaxis\":{\"backgroundcolor\":\"#E5ECF6\",\"gridcolor\":\"white\",\"linecolor\":\"white\",\"showbackground\":true,\"ticks\":\"\",\"zerolinecolor\":\"white\",\"gridwidth\":2},\"yaxis\":{\"backgroundcolor\":\"#E5ECF6\",\"gridcolor\":\"white\",\"linecolor\":\"white\",\"showbackground\":true,\"ticks\":\"\",\"zerolinecolor\":\"white\",\"gridwidth\":2},\"zaxis\":{\"backgroundcolor\":\"#E5ECF6\",\"gridcolor\":\"white\",\"linecolor\":\"white\",\"showbackground\":true,\"ticks\":\"\",\"zerolinecolor\":\"white\",\"gridwidth\":2}},\"shapedefaults\":{\"line\":{\"color\":\"#2a3f5f\"}},\"annotationdefaults\":{\"arrowcolor\":\"#2a3f5f\",\"arrowhead\":0,\"arrowwidth\":1},\"geo\":{\"bgcolor\":\"white\",\"landcolor\":\"#E5ECF6\",\"subunitcolor\":\"white\",\"showland\":true,\"showlakes\":true,\"lakecolor\":\"white\"},\"title\":{\"x\":0.05},\"mapbox\":{\"style\":\"light\"}}},\"xaxis\":{\"anchor\":\"y\",\"domain\":[0.0,1.0],\"title\":{\"text\":\"BANDA\"}},\"yaxis\":{\"anchor\":\"x\",\"domain\":[0.0,1.0],\"title\":{\"text\":\"conteo\"}},\"legend\":{\"title\":{\"text\":\"TIPO DE RENUNCIA\"},\"tracegroupgap\":0},\"title\":{\"text\":\"BANDA vs. TIPO DE RENUNCIA\"},\"barmode\":\"relative\"},                        {\"responsive\": true}                    ).then(function(){\n",
       "                            \n",
       "var gd = document.getElementById('59dbc7d8-4582-47ca-8273-9d504ac63ef6');\n",
       "var x = new MutationObserver(function (mutations, observer) {{\n",
       "        var display = window.getComputedStyle(gd).display;\n",
       "        if (!display || display === 'none') {{\n",
       "            console.log([gd, 'removed!']);\n",
       "            Plotly.purge(gd);\n",
       "            observer.disconnect();\n",
       "        }}\n",
       "}});\n",
       "\n",
       "// Listen for the removal of the full notebook cells\n",
       "var notebookContainer = gd.closest('#notebook-container');\n",
       "if (notebookContainer) {{\n",
       "    x.observe(notebookContainer, {childList: true});\n",
       "}}\n",
       "\n",
       "// Listen for the clearing of the current output cell\n",
       "var outputEl = gd.closest('.output');\n",
       "if (outputEl) {{\n",
       "    x.observe(outputEl, {childList: true});\n",
       "}}\n",
       "\n",
       "                        })                };                });            </script>        </div>"
      ]
     },
     "metadata": {},
     "output_type": "display_data"
    },
    {
     "data": {
      "application/vnd.plotly.v1+json": {
       "config": {
        "plotlyServerURL": "https://plot.ly"
       },
       "data": [
        {
         "alignmentgroup": "True",
         "hovertemplate": "MOTIVO DE LA RENUNCIA=CAMBIO DE DOMICILIO<br>BANDA=%{x}<br>conteo=%{y}<extra></extra>",
         "legendgroup": "CAMBIO DE DOMICILIO",
         "marker": {
          "color": "#636efa",
          "pattern": {
           "shape": ""
          }
         },
         "name": "CAMBIO DE DOMICILIO",
         "offsetgroup": "CAMBIO DE DOMICILIO",
         "orientation": "v",
         "showlegend": true,
         "textposition": "auto",
         "type": "bar",
         "x": [
          "DNO",
          "DO",
          "E3",
          "E4",
          "SL1"
         ],
         "xaxis": "x",
         "y": [
          16,
          65,
          4,
          2,
          2
         ],
         "yaxis": "y"
        },
        {
         "alignmentgroup": "True",
         "hovertemplate": "MOTIVO DE LA RENUNCIA=ESTUDIOS<br>BANDA=%{x}<br>conteo=%{y}<extra></extra>",
         "legendgroup": "ESTUDIOS",
         "marker": {
          "color": "#EF553B",
          "pattern": {
           "shape": ""
          }
         },
         "name": "ESTUDIOS",
         "offsetgroup": "ESTUDIOS",
         "orientation": "v",
         "showlegend": true,
         "textposition": "auto",
         "type": "bar",
         "x": [
          "DNO",
          "DO"
         ],
         "xaxis": "x",
         "y": [
          11,
          57
         ],
         "yaxis": "y"
        },
        {
         "alignmentgroup": "True",
         "hovertemplate": "MOTIVO DE LA RENUNCIA=INSATISFACCIÓN PERSONAL<br>BANDA=%{x}<br>conteo=%{y}<extra></extra>",
         "legendgroup": "INSATISFACCIÓN PERSONAL",
         "marker": {
          "color": "#00cc96",
          "pattern": {
           "shape": ""
          }
         },
         "name": "INSATISFACCIÓN PERSONAL",
         "offsetgroup": "INSATISFACCIÓN PERSONAL",
         "orientation": "v",
         "showlegend": true,
         "textposition": "auto",
         "type": "bar",
         "x": [
          "DNO",
          "DO",
          "E3"
         ],
         "xaxis": "x",
         "y": [
          26,
          66,
          2
         ],
         "yaxis": "y"
        },
        {
         "alignmentgroup": "True",
         "hovertemplate": "MOTIVO DE LA RENUNCIA=MUERTE NATURAL<br>BANDA=%{x}<br>conteo=%{y}<extra></extra>",
         "legendgroup": "MUERTE NATURAL",
         "marker": {
          "color": "#ab63fa",
          "pattern": {
           "shape": ""
          }
         },
         "name": "MUERTE NATURAL",
         "offsetgroup": "MUERTE NATURAL",
         "orientation": "v",
         "showlegend": true,
         "textposition": "auto",
         "type": "bar",
         "x": [
          "DNO",
          "DO"
         ],
         "xaxis": "x",
         "y": [
          1,
          2
         ],
         "yaxis": "y"
        },
        {
         "alignmentgroup": "True",
         "hovertemplate": "MOTIVO DE LA RENUNCIA=NO REGRESO   NO DIO RAZÓN<br>BANDA=%{x}<br>conteo=%{y}<extra></extra>",
         "legendgroup": "NO REGRESO   NO DIO RAZÓN",
         "marker": {
          "color": "#FFA15A",
          "pattern": {
           "shape": ""
          }
         },
         "name": "NO REGRESO   NO DIO RAZÓN",
         "offsetgroup": "NO REGRESO   NO DIO RAZÓN",
         "orientation": "v",
         "showlegend": true,
         "textposition": "auto",
         "type": "bar",
         "x": [
          "DNO",
          "DO"
         ],
         "xaxis": "x",
         "y": [
          20,
          196
         ],
         "yaxis": "y"
        },
        {
         "alignmentgroup": "True",
         "hovertemplate": "MOTIVO DE LA RENUNCIA=OTRO EMPLEO<br>BANDA=%{x}<br>conteo=%{y}<extra></extra>",
         "legendgroup": "OTRO EMPLEO",
         "marker": {
          "color": "#19d3f3",
          "pattern": {
           "shape": ""
          }
         },
         "name": "OTRO EMPLEO",
         "offsetgroup": "OTRO EMPLEO",
         "orientation": "v",
         "showlegend": true,
         "textposition": "auto",
         "type": "bar",
         "x": [
          "DNO",
          "DO",
          "E3",
          "E4",
          "SL1"
         ],
         "xaxis": "x",
         "y": [
          144,
          80,
          54,
          29,
          1
         ],
         "yaxis": "y"
        },
        {
         "alignmentgroup": "True",
         "hovertemplate": "MOTIVO DE LA RENUNCIA=PAT PENSIONADO IMSS<br>BANDA=%{x}<br>conteo=%{y}<extra></extra>",
         "legendgroup": "PAT PENSIONADO IMSS",
         "marker": {
          "color": "#FF6692",
          "pattern": {
           "shape": ""
          }
         },
         "name": "PAT PENSIONADO IMSS",
         "offsetgroup": "PAT PENSIONADO IMSS",
         "orientation": "v",
         "showlegend": true,
         "textposition": "auto",
         "type": "bar",
         "x": [
          "DNO",
          "DO",
          "E3",
          "E4"
         ],
         "xaxis": "x",
         "y": [
          2,
          4,
          1,
          1
         ],
         "yaxis": "y"
        },
        {
         "alignmentgroup": "True",
         "hovertemplate": "MOTIVO DE LA RENUNCIA=PAT TERMINACIÓN DEL CONTRATO<br>BANDA=%{x}<br>conteo=%{y}<extra></extra>",
         "legendgroup": "PAT TERMINACIÓN DEL CONTRATO",
         "marker": {
          "color": "#B6E880",
          "pattern": {
           "shape": ""
          }
         },
         "name": "PAT TERMINACIÓN DEL CONTRATO",
         "offsetgroup": "PAT TERMINACIÓN DEL CONTRATO",
         "orientation": "v",
         "showlegend": true,
         "textposition": "auto",
         "type": "bar",
         "x": [
          "DNO",
          "DO",
          "E3",
          "SL1"
         ],
         "xaxis": "x",
         "y": [
          1,
          2,
          1,
          2
         ],
         "yaxis": "y"
        },
        {
         "alignmentgroup": "True",
         "hovertemplate": "MOTIVO DE LA RENUNCIA=PROB PERSONALES Y FAM <br>BANDA=%{x}<br>conteo=%{y}<extra></extra>",
         "legendgroup": "PROB PERSONALES Y FAM ",
         "marker": {
          "color": "#FF97FF",
          "pattern": {
           "shape": ""
          }
         },
         "name": "PROB PERSONALES Y FAM ",
         "offsetgroup": "PROB PERSONALES Y FAM ",
         "orientation": "v",
         "showlegend": true,
         "textposition": "auto",
         "type": "bar",
         "x": [
          "DNO",
          "DO",
          "E3",
          "E4",
          "SL1"
         ],
         "xaxis": "x",
         "y": [
          33,
          154,
          6,
          2,
          2
         ],
         "yaxis": "y"
        },
        {
         "alignmentgroup": "True",
         "hovertemplate": "MOTIVO DE LA RENUNCIA=PROBLEMAS CON TRANSPORTE<br>BANDA=%{x}<br>conteo=%{y}<extra></extra>",
         "legendgroup": "PROBLEMAS CON TRANSPORTE",
         "marker": {
          "color": "#FECB52",
          "pattern": {
           "shape": ""
          }
         },
         "name": "PROBLEMAS CON TRANSPORTE",
         "offsetgroup": "PROBLEMAS CON TRANSPORTE",
         "orientation": "v",
         "showlegend": true,
         "textposition": "auto",
         "type": "bar",
         "x": [
          "DNO"
         ],
         "xaxis": "x",
         "y": [
          1
         ],
         "yaxis": "y"
        },
        {
         "alignmentgroup": "True",
         "hovertemplate": "MOTIVO DE LA RENUNCIA=RAZONES MÉDICAS<br>BANDA=%{x}<br>conteo=%{y}<extra></extra>",
         "legendgroup": "RAZONES MÉDICAS",
         "marker": {
          "color": "#636efa",
          "pattern": {
           "shape": ""
          }
         },
         "name": "RAZONES MÉDICAS",
         "offsetgroup": "RAZONES MÉDICAS",
         "orientation": "v",
         "showlegend": true,
         "textposition": "auto",
         "type": "bar",
         "x": [
          "DNO",
          "DO"
         ],
         "xaxis": "x",
         "y": [
          3,
          25
         ],
         "yaxis": "y"
        },
        {
         "alignmentgroup": "True",
         "hovertemplate": "MOTIVO DE LA RENUNCIA=TRA AUSENTISMOS CONTINUOS<br>BANDA=%{x}<br>conteo=%{y}<extra></extra>",
         "legendgroup": "TRA AUSENTISMOS CONTINUOS",
         "marker": {
          "color": "#EF553B",
          "pattern": {
           "shape": ""
          }
         },
         "name": "TRA AUSENTISMOS CONTINUOS",
         "offsetgroup": "TRA AUSENTISMOS CONTINUOS",
         "orientation": "v",
         "showlegend": true,
         "textposition": "auto",
         "type": "bar",
         "x": [
          "DNO",
          "DO",
          "E3"
         ],
         "xaxis": "x",
         "y": [
          9,
          61,
          1
         ],
         "yaxis": "y"
        },
        {
         "alignmentgroup": "True",
         "hovertemplate": "MOTIVO DE LA RENUNCIA=TRA BAJO DESEMPEÑO<br>BANDA=%{x}<br>conteo=%{y}<extra></extra>",
         "legendgroup": "TRA BAJO DESEMPEÑO",
         "marker": {
          "color": "#00cc96",
          "pattern": {
           "shape": ""
          }
         },
         "name": "TRA BAJO DESEMPEÑO",
         "offsetgroup": "TRA BAJO DESEMPEÑO",
         "orientation": "v",
         "showlegend": true,
         "textposition": "auto",
         "type": "bar",
         "x": [
          "DNO",
          "E3"
         ],
         "xaxis": "x",
         "y": [
          1,
          2
         ],
         "yaxis": "y"
        },
        {
         "alignmentgroup": "True",
         "hovertemplate": "MOTIVO DE LA RENUNCIA=TRA FALSIFICACIÓN DE DOCTOS <br>BANDA=%{x}<br>conteo=%{y}<extra></extra>",
         "legendgroup": "TRA FALSIFICACIÓN DE DOCTOS ",
         "marker": {
          "color": "#ab63fa",
          "pattern": {
           "shape": ""
          }
         },
         "name": "TRA FALSIFICACIÓN DE DOCTOS ",
         "offsetgroup": "TRA FALSIFICACIÓN DE DOCTOS ",
         "orientation": "v",
         "showlegend": true,
         "textposition": "auto",
         "type": "bar",
         "x": [
          "DNO",
          "DO"
         ],
         "xaxis": "x",
         "y": [
          1,
          1
         ],
         "yaxis": "y"
        },
        {
         "alignmentgroup": "True",
         "hovertemplate": "MOTIVO DE LA RENUNCIA=TRA JUBILACIÓN<br>BANDA=%{x}<br>conteo=%{y}<extra></extra>",
         "legendgroup": "TRA JUBILACIÓN",
         "marker": {
          "color": "#FFA15A",
          "pattern": {
           "shape": ""
          }
         },
         "name": "TRA JUBILACIÓN",
         "offsetgroup": "TRA JUBILACIÓN",
         "orientation": "v",
         "showlegend": true,
         "textposition": "auto",
         "type": "bar",
         "x": [
          "DNO",
          "DO",
          "E3",
          "E4",
          "SL1"
         ],
         "xaxis": "x",
         "y": [
          15,
          13,
          3,
          1,
          1
         ],
         "yaxis": "y"
        },
        {
         "alignmentgroup": "True",
         "hovertemplate": "MOTIVO DE LA RENUNCIA=TRA LFT Y REGLAMENTO INT<br>BANDA=%{x}<br>conteo=%{y}<extra></extra>",
         "legendgroup": "TRA LFT Y REGLAMENTO INT",
         "marker": {
          "color": "#19d3f3",
          "pattern": {
           "shape": ""
          }
         },
         "name": "TRA LFT Y REGLAMENTO INT",
         "offsetgroup": "TRA LFT Y REGLAMENTO INT",
         "orientation": "v",
         "showlegend": true,
         "textposition": "auto",
         "type": "bar",
         "x": [
          "DNO",
          "DO"
         ],
         "xaxis": "x",
         "y": [
          6,
          6
         ],
         "yaxis": "y"
        },
        {
         "alignmentgroup": "True",
         "hovertemplate": "MOTIVO DE LA RENUNCIA=TRA LFT Y REGLAMENTO INT <br>BANDA=%{x}<br>conteo=%{y}<extra></extra>",
         "legendgroup": "TRA LFT Y REGLAMENTO INT ",
         "marker": {
          "color": "#FF6692",
          "pattern": {
           "shape": ""
          }
         },
         "name": "TRA LFT Y REGLAMENTO INT ",
         "offsetgroup": "TRA LFT Y REGLAMENTO INT ",
         "orientation": "v",
         "showlegend": true,
         "textposition": "auto",
         "type": "bar",
         "x": [
          "DNO",
          "DO",
          "E3"
         ],
         "xaxis": "x",
         "y": [
          6,
          5,
          1
         ],
         "yaxis": "y"
        },
        {
         "alignmentgroup": "True",
         "hovertemplate": "MOTIVO DE LA RENUNCIA=TRANSFERENCIA ENTRE PLANTA<br>BANDA=%{x}<br>conteo=%{y}<extra></extra>",
         "legendgroup": "TRANSFERENCIA ENTRE PLANTA",
         "marker": {
          "color": "#B6E880",
          "pattern": {
           "shape": ""
          }
         },
         "name": "TRANSFERENCIA ENTRE PLANTA",
         "offsetgroup": "TRANSFERENCIA ENTRE PLANTA",
         "orientation": "v",
         "showlegend": true,
         "textposition": "auto",
         "type": "bar",
         "x": [
          "DNO",
          "DO",
          "E3",
          "E4",
          "SL1"
         ],
         "xaxis": "x",
         "y": [
          66,
          133,
          20,
          13,
          4
         ],
         "yaxis": "y"
        },
        {
         "alignmentgroup": "True",
         "hovertemplate": "MOTIVO DE LA RENUNCIA=AMBIENTE DE TRABAJO<br>BANDA=%{x}<br>conteo=%{y}<extra></extra>",
         "legendgroup": "AMBIENTE DE TRABAJO",
         "marker": {
          "color": "#FF97FF",
          "pattern": {
           "shape": ""
          }
         },
         "name": "AMBIENTE DE TRABAJO",
         "offsetgroup": "AMBIENTE DE TRABAJO",
         "orientation": "v",
         "showlegend": true,
         "textposition": "auto",
         "type": "bar",
         "x": [
          "DO"
         ],
         "xaxis": "x",
         "y": [
          1
         ],
         "yaxis": "y"
        },
        {
         "alignmentgroup": "True",
         "hovertemplate": "MOTIVO DE LA RENUNCIA=MATERNIDAD<br>BANDA=%{x}<br>conteo=%{y}<extra></extra>",
         "legendgroup": "MATERNIDAD",
         "marker": {
          "color": "#FECB52",
          "pattern": {
           "shape": ""
          }
         },
         "name": "MATERNIDAD",
         "offsetgroup": "MATERNIDAD",
         "orientation": "v",
         "showlegend": true,
         "textposition": "auto",
         "type": "bar",
         "x": [
          "DO"
         ],
         "xaxis": "x",
         "y": [
          3
         ],
         "yaxis": "y"
        },
        {
         "alignmentgroup": "True",
         "hovertemplate": "MOTIVO DE LA RENUNCIA=MATRIMONIO<br>BANDA=%{x}<br>conteo=%{y}<extra></extra>",
         "legendgroup": "MATRIMONIO",
         "marker": {
          "color": "#636efa",
          "pattern": {
           "shape": ""
          }
         },
         "name": "MATRIMONIO",
         "offsetgroup": "MATRIMONIO",
         "orientation": "v",
         "showlegend": true,
         "textposition": "auto",
         "type": "bar",
         "x": [
          "DO"
         ],
         "xaxis": "x",
         "y": [
          1
         ],
         "yaxis": "y"
        },
        {
         "alignmentgroup": "True",
         "hovertemplate": "MOTIVO DE LA RENUNCIA=MUERTE ACCIDENTAL<br>BANDA=%{x}<br>conteo=%{y}<extra></extra>",
         "legendgroup": "MUERTE ACCIDENTAL",
         "marker": {
          "color": "#EF553B",
          "pattern": {
           "shape": ""
          }
         },
         "name": "MUERTE ACCIDENTAL",
         "offsetgroup": "MUERTE ACCIDENTAL",
         "orientation": "v",
         "showlegend": true,
         "textposition": "auto",
         "type": "bar",
         "x": [
          "DO",
          "E3"
         ],
         "xaxis": "x",
         "y": [
          1,
          1
         ],
         "yaxis": "y"
        },
        {
         "alignmentgroup": "True",
         "hovertemplate": "MOTIVO DE LA RENUNCIA=TRA FALSIFICACIÓN DE DOCTO<br>BANDA=%{x}<br>conteo=%{y}<extra></extra>",
         "legendgroup": "TRA FALSIFICACIÓN DE DOCTO",
         "marker": {
          "color": "#00cc96",
          "pattern": {
           "shape": ""
          }
         },
         "name": "TRA FALSIFICACIÓN DE DOCTO",
         "offsetgroup": "TRA FALSIFICACIÓN DE DOCTO",
         "orientation": "v",
         "showlegend": true,
         "textposition": "auto",
         "type": "bar",
         "x": [
          "DO"
         ],
         "xaxis": "x",
         "y": [
          2
         ],
         "yaxis": "y"
        },
        {
         "alignmentgroup": "True",
         "hovertemplate": "MOTIVO DE LA RENUNCIA=TRA USO DE DROGAS Y BEBI<br>BANDA=%{x}<br>conteo=%{y}<extra></extra>",
         "legendgroup": "TRA USO DE DROGAS Y BEBI",
         "marker": {
          "color": "#ab63fa",
          "pattern": {
           "shape": ""
          }
         },
         "name": "TRA USO DE DROGAS Y BEBI",
         "offsetgroup": "TRA USO DE DROGAS Y BEBI",
         "orientation": "v",
         "showlegend": true,
         "textposition": "auto",
         "type": "bar",
         "x": [
          "DO"
         ],
         "xaxis": "x",
         "y": [
          1
         ],
         "yaxis": "y"
        },
        {
         "alignmentgroup": "True",
         "hovertemplate": "MOTIVO DE LA RENUNCIA=PAT VARIOS JUBILADO<br>BANDA=%{x}<br>conteo=%{y}<extra></extra>",
         "legendgroup": "PAT VARIOS JUBILADO",
         "marker": {
          "color": "#FFA15A",
          "pattern": {
           "shape": ""
          }
         },
         "name": "PAT VARIOS JUBILADO",
         "offsetgroup": "PAT VARIOS JUBILADO",
         "orientation": "v",
         "showlegend": true,
         "textposition": "auto",
         "type": "bar",
         "x": [
          "E3"
         ],
         "xaxis": "x",
         "y": [
          1
         ],
         "yaxis": "y"
        },
        {
         "alignmentgroup": "True",
         "hovertemplate": "MOTIVO DE LA RENUNCIA=PAT TERMINACIÓN DEL CONTRA<br>BANDA=%{x}<br>conteo=%{y}<extra></extra>",
         "legendgroup": "PAT TERMINACIÓN DEL CONTRA",
         "marker": {
          "color": "#19d3f3",
          "pattern": {
           "shape": ""
          }
         },
         "name": "PAT TERMINACIÓN DEL CONTRA",
         "offsetgroup": "PAT TERMINACIÓN DEL CONTRA",
         "orientation": "v",
         "showlegend": true,
         "textposition": "auto",
         "type": "bar",
         "x": [
          "E4",
          "SL1"
         ],
         "xaxis": "x",
         "y": [
          1,
          1
         ],
         "yaxis": "y"
        }
       ],
       "layout": {
        "barmode": "relative",
        "legend": {
         "title": {
          "text": "MOTIVO DE LA RENUNCIA"
         },
         "tracegroupgap": 0
        },
        "template": {
         "data": {
          "bar": [
           {
            "error_x": {
             "color": "#2a3f5f"
            },
            "error_y": {
             "color": "#2a3f5f"
            },
            "marker": {
             "line": {
              "color": "#E5ECF6",
              "width": 0.5
             },
             "pattern": {
              "fillmode": "overlay",
              "size": 10,
              "solidity": 0.2
             }
            },
            "type": "bar"
           }
          ],
          "barpolar": [
           {
            "marker": {
             "line": {
              "color": "#E5ECF6",
              "width": 0.5
             },
             "pattern": {
              "fillmode": "overlay",
              "size": 10,
              "solidity": 0.2
             }
            },
            "type": "barpolar"
           }
          ],
          "carpet": [
           {
            "aaxis": {
             "endlinecolor": "#2a3f5f",
             "gridcolor": "white",
             "linecolor": "white",
             "minorgridcolor": "white",
             "startlinecolor": "#2a3f5f"
            },
            "baxis": {
             "endlinecolor": "#2a3f5f",
             "gridcolor": "white",
             "linecolor": "white",
             "minorgridcolor": "white",
             "startlinecolor": "#2a3f5f"
            },
            "type": "carpet"
           }
          ],
          "choropleth": [
           {
            "colorbar": {
             "outlinewidth": 0,
             "ticks": ""
            },
            "type": "choropleth"
           }
          ],
          "contour": [
           {
            "colorbar": {
             "outlinewidth": 0,
             "ticks": ""
            },
            "colorscale": [
             [
              0,
              "#0d0887"
             ],
             [
              0.1111111111111111,
              "#46039f"
             ],
             [
              0.2222222222222222,
              "#7201a8"
             ],
             [
              0.3333333333333333,
              "#9c179e"
             ],
             [
              0.4444444444444444,
              "#bd3786"
             ],
             [
              0.5555555555555556,
              "#d8576b"
             ],
             [
              0.6666666666666666,
              "#ed7953"
             ],
             [
              0.7777777777777778,
              "#fb9f3a"
             ],
             [
              0.8888888888888888,
              "#fdca26"
             ],
             [
              1,
              "#f0f921"
             ]
            ],
            "type": "contour"
           }
          ],
          "contourcarpet": [
           {
            "colorbar": {
             "outlinewidth": 0,
             "ticks": ""
            },
            "type": "contourcarpet"
           }
          ],
          "heatmap": [
           {
            "colorbar": {
             "outlinewidth": 0,
             "ticks": ""
            },
            "colorscale": [
             [
              0,
              "#0d0887"
             ],
             [
              0.1111111111111111,
              "#46039f"
             ],
             [
              0.2222222222222222,
              "#7201a8"
             ],
             [
              0.3333333333333333,
              "#9c179e"
             ],
             [
              0.4444444444444444,
              "#bd3786"
             ],
             [
              0.5555555555555556,
              "#d8576b"
             ],
             [
              0.6666666666666666,
              "#ed7953"
             ],
             [
              0.7777777777777778,
              "#fb9f3a"
             ],
             [
              0.8888888888888888,
              "#fdca26"
             ],
             [
              1,
              "#f0f921"
             ]
            ],
            "type": "heatmap"
           }
          ],
          "heatmapgl": [
           {
            "colorbar": {
             "outlinewidth": 0,
             "ticks": ""
            },
            "colorscale": [
             [
              0,
              "#0d0887"
             ],
             [
              0.1111111111111111,
              "#46039f"
             ],
             [
              0.2222222222222222,
              "#7201a8"
             ],
             [
              0.3333333333333333,
              "#9c179e"
             ],
             [
              0.4444444444444444,
              "#bd3786"
             ],
             [
              0.5555555555555556,
              "#d8576b"
             ],
             [
              0.6666666666666666,
              "#ed7953"
             ],
             [
              0.7777777777777778,
              "#fb9f3a"
             ],
             [
              0.8888888888888888,
              "#fdca26"
             ],
             [
              1,
              "#f0f921"
             ]
            ],
            "type": "heatmapgl"
           }
          ],
          "histogram": [
           {
            "marker": {
             "pattern": {
              "fillmode": "overlay",
              "size": 10,
              "solidity": 0.2
             }
            },
            "type": "histogram"
           }
          ],
          "histogram2d": [
           {
            "colorbar": {
             "outlinewidth": 0,
             "ticks": ""
            },
            "colorscale": [
             [
              0,
              "#0d0887"
             ],
             [
              0.1111111111111111,
              "#46039f"
             ],
             [
              0.2222222222222222,
              "#7201a8"
             ],
             [
              0.3333333333333333,
              "#9c179e"
             ],
             [
              0.4444444444444444,
              "#bd3786"
             ],
             [
              0.5555555555555556,
              "#d8576b"
             ],
             [
              0.6666666666666666,
              "#ed7953"
             ],
             [
              0.7777777777777778,
              "#fb9f3a"
             ],
             [
              0.8888888888888888,
              "#fdca26"
             ],
             [
              1,
              "#f0f921"
             ]
            ],
            "type": "histogram2d"
           }
          ],
          "histogram2dcontour": [
           {
            "colorbar": {
             "outlinewidth": 0,
             "ticks": ""
            },
            "colorscale": [
             [
              0,
              "#0d0887"
             ],
             [
              0.1111111111111111,
              "#46039f"
             ],
             [
              0.2222222222222222,
              "#7201a8"
             ],
             [
              0.3333333333333333,
              "#9c179e"
             ],
             [
              0.4444444444444444,
              "#bd3786"
             ],
             [
              0.5555555555555556,
              "#d8576b"
             ],
             [
              0.6666666666666666,
              "#ed7953"
             ],
             [
              0.7777777777777778,
              "#fb9f3a"
             ],
             [
              0.8888888888888888,
              "#fdca26"
             ],
             [
              1,
              "#f0f921"
             ]
            ],
            "type": "histogram2dcontour"
           }
          ],
          "mesh3d": [
           {
            "colorbar": {
             "outlinewidth": 0,
             "ticks": ""
            },
            "type": "mesh3d"
           }
          ],
          "parcoords": [
           {
            "line": {
             "colorbar": {
              "outlinewidth": 0,
              "ticks": ""
             }
            },
            "type": "parcoords"
           }
          ],
          "pie": [
           {
            "automargin": true,
            "type": "pie"
           }
          ],
          "scatter": [
           {
            "fillpattern": {
             "fillmode": "overlay",
             "size": 10,
             "solidity": 0.2
            },
            "type": "scatter"
           }
          ],
          "scatter3d": [
           {
            "line": {
             "colorbar": {
              "outlinewidth": 0,
              "ticks": ""
             }
            },
            "marker": {
             "colorbar": {
              "outlinewidth": 0,
              "ticks": ""
             }
            },
            "type": "scatter3d"
           }
          ],
          "scattercarpet": [
           {
            "marker": {
             "colorbar": {
              "outlinewidth": 0,
              "ticks": ""
             }
            },
            "type": "scattercarpet"
           }
          ],
          "scattergeo": [
           {
            "marker": {
             "colorbar": {
              "outlinewidth": 0,
              "ticks": ""
             }
            },
            "type": "scattergeo"
           }
          ],
          "scattergl": [
           {
            "marker": {
             "colorbar": {
              "outlinewidth": 0,
              "ticks": ""
             }
            },
            "type": "scattergl"
           }
          ],
          "scattermapbox": [
           {
            "marker": {
             "colorbar": {
              "outlinewidth": 0,
              "ticks": ""
             }
            },
            "type": "scattermapbox"
           }
          ],
          "scatterpolar": [
           {
            "marker": {
             "colorbar": {
              "outlinewidth": 0,
              "ticks": ""
             }
            },
            "type": "scatterpolar"
           }
          ],
          "scatterpolargl": [
           {
            "marker": {
             "colorbar": {
              "outlinewidth": 0,
              "ticks": ""
             }
            },
            "type": "scatterpolargl"
           }
          ],
          "scatterternary": [
           {
            "marker": {
             "colorbar": {
              "outlinewidth": 0,
              "ticks": ""
             }
            },
            "type": "scatterternary"
           }
          ],
          "surface": [
           {
            "colorbar": {
             "outlinewidth": 0,
             "ticks": ""
            },
            "colorscale": [
             [
              0,
              "#0d0887"
             ],
             [
              0.1111111111111111,
              "#46039f"
             ],
             [
              0.2222222222222222,
              "#7201a8"
             ],
             [
              0.3333333333333333,
              "#9c179e"
             ],
             [
              0.4444444444444444,
              "#bd3786"
             ],
             [
              0.5555555555555556,
              "#d8576b"
             ],
             [
              0.6666666666666666,
              "#ed7953"
             ],
             [
              0.7777777777777778,
              "#fb9f3a"
             ],
             [
              0.8888888888888888,
              "#fdca26"
             ],
             [
              1,
              "#f0f921"
             ]
            ],
            "type": "surface"
           }
          ],
          "table": [
           {
            "cells": {
             "fill": {
              "color": "#EBF0F8"
             },
             "line": {
              "color": "white"
             }
            },
            "header": {
             "fill": {
              "color": "#C8D4E3"
             },
             "line": {
              "color": "white"
             }
            },
            "type": "table"
           }
          ]
         },
         "layout": {
          "annotationdefaults": {
           "arrowcolor": "#2a3f5f",
           "arrowhead": 0,
           "arrowwidth": 1
          },
          "autotypenumbers": "strict",
          "coloraxis": {
           "colorbar": {
            "outlinewidth": 0,
            "ticks": ""
           }
          },
          "colorscale": {
           "diverging": [
            [
             0,
             "#8e0152"
            ],
            [
             0.1,
             "#c51b7d"
            ],
            [
             0.2,
             "#de77ae"
            ],
            [
             0.3,
             "#f1b6da"
            ],
            [
             0.4,
             "#fde0ef"
            ],
            [
             0.5,
             "#f7f7f7"
            ],
            [
             0.6,
             "#e6f5d0"
            ],
            [
             0.7,
             "#b8e186"
            ],
            [
             0.8,
             "#7fbc41"
            ],
            [
             0.9,
             "#4d9221"
            ],
            [
             1,
             "#276419"
            ]
           ],
           "sequential": [
            [
             0,
             "#0d0887"
            ],
            [
             0.1111111111111111,
             "#46039f"
            ],
            [
             0.2222222222222222,
             "#7201a8"
            ],
            [
             0.3333333333333333,
             "#9c179e"
            ],
            [
             0.4444444444444444,
             "#bd3786"
            ],
            [
             0.5555555555555556,
             "#d8576b"
            ],
            [
             0.6666666666666666,
             "#ed7953"
            ],
            [
             0.7777777777777778,
             "#fb9f3a"
            ],
            [
             0.8888888888888888,
             "#fdca26"
            ],
            [
             1,
             "#f0f921"
            ]
           ],
           "sequentialminus": [
            [
             0,
             "#0d0887"
            ],
            [
             0.1111111111111111,
             "#46039f"
            ],
            [
             0.2222222222222222,
             "#7201a8"
            ],
            [
             0.3333333333333333,
             "#9c179e"
            ],
            [
             0.4444444444444444,
             "#bd3786"
            ],
            [
             0.5555555555555556,
             "#d8576b"
            ],
            [
             0.6666666666666666,
             "#ed7953"
            ],
            [
             0.7777777777777778,
             "#fb9f3a"
            ],
            [
             0.8888888888888888,
             "#fdca26"
            ],
            [
             1,
             "#f0f921"
            ]
           ]
          },
          "colorway": [
           "#636efa",
           "#EF553B",
           "#00cc96",
           "#ab63fa",
           "#FFA15A",
           "#19d3f3",
           "#FF6692",
           "#B6E880",
           "#FF97FF",
           "#FECB52"
          ],
          "font": {
           "color": "#2a3f5f"
          },
          "geo": {
           "bgcolor": "white",
           "lakecolor": "white",
           "landcolor": "#E5ECF6",
           "showlakes": true,
           "showland": true,
           "subunitcolor": "white"
          },
          "hoverlabel": {
           "align": "left"
          },
          "hovermode": "closest",
          "mapbox": {
           "style": "light"
          },
          "paper_bgcolor": "white",
          "plot_bgcolor": "#E5ECF6",
          "polar": {
           "angularaxis": {
            "gridcolor": "white",
            "linecolor": "white",
            "ticks": ""
           },
           "bgcolor": "#E5ECF6",
           "radialaxis": {
            "gridcolor": "white",
            "linecolor": "white",
            "ticks": ""
           }
          },
          "scene": {
           "xaxis": {
            "backgroundcolor": "#E5ECF6",
            "gridcolor": "white",
            "gridwidth": 2,
            "linecolor": "white",
            "showbackground": true,
            "ticks": "",
            "zerolinecolor": "white"
           },
           "yaxis": {
            "backgroundcolor": "#E5ECF6",
            "gridcolor": "white",
            "gridwidth": 2,
            "linecolor": "white",
            "showbackground": true,
            "ticks": "",
            "zerolinecolor": "white"
           },
           "zaxis": {
            "backgroundcolor": "#E5ECF6",
            "gridcolor": "white",
            "gridwidth": 2,
            "linecolor": "white",
            "showbackground": true,
            "ticks": "",
            "zerolinecolor": "white"
           }
          },
          "shapedefaults": {
           "line": {
            "color": "#2a3f5f"
           }
          },
          "ternary": {
           "aaxis": {
            "gridcolor": "white",
            "linecolor": "white",
            "ticks": ""
           },
           "baxis": {
            "gridcolor": "white",
            "linecolor": "white",
            "ticks": ""
           },
           "bgcolor": "#E5ECF6",
           "caxis": {
            "gridcolor": "white",
            "linecolor": "white",
            "ticks": ""
           }
          },
          "title": {
           "x": 0.05
          },
          "xaxis": {
           "automargin": true,
           "gridcolor": "white",
           "linecolor": "white",
           "ticks": "",
           "title": {
            "standoff": 15
           },
           "zerolinecolor": "white",
           "zerolinewidth": 2
          },
          "yaxis": {
           "automargin": true,
           "gridcolor": "white",
           "linecolor": "white",
           "ticks": "",
           "title": {
            "standoff": 15
           },
           "zerolinecolor": "white",
           "zerolinewidth": 2
          }
         }
        },
        "title": {
         "text": "BANDA vs. MOTIVO DE LA RENUNCIA"
        },
        "xaxis": {
         "anchor": "y",
         "domain": [
          0,
          1
         ],
         "title": {
          "text": "BANDA"
         }
        },
        "yaxis": {
         "anchor": "x",
         "domain": [
          0,
          1
         ],
         "title": {
          "text": "conteo"
         }
        }
       }
      },
      "text/html": [
       "<div>                            <div id=\"f183f205-d4e1-4fbe-9d90-13c4d03be098\" class=\"plotly-graph-div\" style=\"height:525px; width:100%;\"></div>            <script type=\"text/javascript\">                require([\"plotly\"], function(Plotly) {                    window.PLOTLYENV=window.PLOTLYENV || {};                                    if (document.getElementById(\"f183f205-d4e1-4fbe-9d90-13c4d03be098\")) {                    Plotly.newPlot(                        \"f183f205-d4e1-4fbe-9d90-13c4d03be098\",                        [{\"alignmentgroup\":\"True\",\"hovertemplate\":\"MOTIVO DE LA RENUNCIA=CAMBIO DE DOMICILIO\\u003cbr\\u003eBANDA=%{x}\\u003cbr\\u003econteo=%{y}\\u003cextra\\u003e\\u003c\\u002fextra\\u003e\",\"legendgroup\":\"CAMBIO DE DOMICILIO\",\"marker\":{\"color\":\"#636efa\",\"pattern\":{\"shape\":\"\"}},\"name\":\"CAMBIO DE DOMICILIO\",\"offsetgroup\":\"CAMBIO DE DOMICILIO\",\"orientation\":\"v\",\"showlegend\":true,\"textposition\":\"auto\",\"x\":[\"DNO\",\"DO\",\"E3\",\"E4\",\"SL1\"],\"xaxis\":\"x\",\"y\":[16,65,4,2,2],\"yaxis\":\"y\",\"type\":\"bar\"},{\"alignmentgroup\":\"True\",\"hovertemplate\":\"MOTIVO DE LA RENUNCIA=ESTUDIOS\\u003cbr\\u003eBANDA=%{x}\\u003cbr\\u003econteo=%{y}\\u003cextra\\u003e\\u003c\\u002fextra\\u003e\",\"legendgroup\":\"ESTUDIOS\",\"marker\":{\"color\":\"#EF553B\",\"pattern\":{\"shape\":\"\"}},\"name\":\"ESTUDIOS\",\"offsetgroup\":\"ESTUDIOS\",\"orientation\":\"v\",\"showlegend\":true,\"textposition\":\"auto\",\"x\":[\"DNO\",\"DO\"],\"xaxis\":\"x\",\"y\":[11,57],\"yaxis\":\"y\",\"type\":\"bar\"},{\"alignmentgroup\":\"True\",\"hovertemplate\":\"MOTIVO DE LA RENUNCIA=INSATISFACCIÓN PERSONAL\\u003cbr\\u003eBANDA=%{x}\\u003cbr\\u003econteo=%{y}\\u003cextra\\u003e\\u003c\\u002fextra\\u003e\",\"legendgroup\":\"INSATISFACCIÓN PERSONAL\",\"marker\":{\"color\":\"#00cc96\",\"pattern\":{\"shape\":\"\"}},\"name\":\"INSATISFACCIÓN PERSONAL\",\"offsetgroup\":\"INSATISFACCIÓN PERSONAL\",\"orientation\":\"v\",\"showlegend\":true,\"textposition\":\"auto\",\"x\":[\"DNO\",\"DO\",\"E3\"],\"xaxis\":\"x\",\"y\":[26,66,2],\"yaxis\":\"y\",\"type\":\"bar\"},{\"alignmentgroup\":\"True\",\"hovertemplate\":\"MOTIVO DE LA RENUNCIA=MUERTE NATURAL\\u003cbr\\u003eBANDA=%{x}\\u003cbr\\u003econteo=%{y}\\u003cextra\\u003e\\u003c\\u002fextra\\u003e\",\"legendgroup\":\"MUERTE NATURAL\",\"marker\":{\"color\":\"#ab63fa\",\"pattern\":{\"shape\":\"\"}},\"name\":\"MUERTE NATURAL\",\"offsetgroup\":\"MUERTE NATURAL\",\"orientation\":\"v\",\"showlegend\":true,\"textposition\":\"auto\",\"x\":[\"DNO\",\"DO\"],\"xaxis\":\"x\",\"y\":[1,2],\"yaxis\":\"y\",\"type\":\"bar\"},{\"alignmentgroup\":\"True\",\"hovertemplate\":\"MOTIVO DE LA RENUNCIA=NO REGRESO   NO DIO RAZÓN\\u003cbr\\u003eBANDA=%{x}\\u003cbr\\u003econteo=%{y}\\u003cextra\\u003e\\u003c\\u002fextra\\u003e\",\"legendgroup\":\"NO REGRESO   NO DIO RAZÓN\",\"marker\":{\"color\":\"#FFA15A\",\"pattern\":{\"shape\":\"\"}},\"name\":\"NO REGRESO   NO DIO RAZÓN\",\"offsetgroup\":\"NO REGRESO   NO DIO RAZÓN\",\"orientation\":\"v\",\"showlegend\":true,\"textposition\":\"auto\",\"x\":[\"DNO\",\"DO\"],\"xaxis\":\"x\",\"y\":[20,196],\"yaxis\":\"y\",\"type\":\"bar\"},{\"alignmentgroup\":\"True\",\"hovertemplate\":\"MOTIVO DE LA RENUNCIA=OTRO EMPLEO\\u003cbr\\u003eBANDA=%{x}\\u003cbr\\u003econteo=%{y}\\u003cextra\\u003e\\u003c\\u002fextra\\u003e\",\"legendgroup\":\"OTRO EMPLEO\",\"marker\":{\"color\":\"#19d3f3\",\"pattern\":{\"shape\":\"\"}},\"name\":\"OTRO EMPLEO\",\"offsetgroup\":\"OTRO EMPLEO\",\"orientation\":\"v\",\"showlegend\":true,\"textposition\":\"auto\",\"x\":[\"DNO\",\"DO\",\"E3\",\"E4\",\"SL1\"],\"xaxis\":\"x\",\"y\":[144,80,54,29,1],\"yaxis\":\"y\",\"type\":\"bar\"},{\"alignmentgroup\":\"True\",\"hovertemplate\":\"MOTIVO DE LA RENUNCIA=PAT PENSIONADO IMSS\\u003cbr\\u003eBANDA=%{x}\\u003cbr\\u003econteo=%{y}\\u003cextra\\u003e\\u003c\\u002fextra\\u003e\",\"legendgroup\":\"PAT PENSIONADO IMSS\",\"marker\":{\"color\":\"#FF6692\",\"pattern\":{\"shape\":\"\"}},\"name\":\"PAT PENSIONADO IMSS\",\"offsetgroup\":\"PAT PENSIONADO IMSS\",\"orientation\":\"v\",\"showlegend\":true,\"textposition\":\"auto\",\"x\":[\"DNO\",\"DO\",\"E3\",\"E4\"],\"xaxis\":\"x\",\"y\":[2,4,1,1],\"yaxis\":\"y\",\"type\":\"bar\"},{\"alignmentgroup\":\"True\",\"hovertemplate\":\"MOTIVO DE LA RENUNCIA=PAT TERMINACIÓN DEL CONTRATO\\u003cbr\\u003eBANDA=%{x}\\u003cbr\\u003econteo=%{y}\\u003cextra\\u003e\\u003c\\u002fextra\\u003e\",\"legendgroup\":\"PAT TERMINACIÓN DEL CONTRATO\",\"marker\":{\"color\":\"#B6E880\",\"pattern\":{\"shape\":\"\"}},\"name\":\"PAT TERMINACIÓN DEL CONTRATO\",\"offsetgroup\":\"PAT TERMINACIÓN DEL CONTRATO\",\"orientation\":\"v\",\"showlegend\":true,\"textposition\":\"auto\",\"x\":[\"DNO\",\"DO\",\"E3\",\"SL1\"],\"xaxis\":\"x\",\"y\":[1,2,1,2],\"yaxis\":\"y\",\"type\":\"bar\"},{\"alignmentgroup\":\"True\",\"hovertemplate\":\"MOTIVO DE LA RENUNCIA=PROB PERSONALES Y FAM \\u003cbr\\u003eBANDA=%{x}\\u003cbr\\u003econteo=%{y}\\u003cextra\\u003e\\u003c\\u002fextra\\u003e\",\"legendgroup\":\"PROB PERSONALES Y FAM \",\"marker\":{\"color\":\"#FF97FF\",\"pattern\":{\"shape\":\"\"}},\"name\":\"PROB PERSONALES Y FAM \",\"offsetgroup\":\"PROB PERSONALES Y FAM \",\"orientation\":\"v\",\"showlegend\":true,\"textposition\":\"auto\",\"x\":[\"DNO\",\"DO\",\"E3\",\"E4\",\"SL1\"],\"xaxis\":\"x\",\"y\":[33,154,6,2,2],\"yaxis\":\"y\",\"type\":\"bar\"},{\"alignmentgroup\":\"True\",\"hovertemplate\":\"MOTIVO DE LA RENUNCIA=PROBLEMAS CON TRANSPORTE\\u003cbr\\u003eBANDA=%{x}\\u003cbr\\u003econteo=%{y}\\u003cextra\\u003e\\u003c\\u002fextra\\u003e\",\"legendgroup\":\"PROBLEMAS CON TRANSPORTE\",\"marker\":{\"color\":\"#FECB52\",\"pattern\":{\"shape\":\"\"}},\"name\":\"PROBLEMAS CON TRANSPORTE\",\"offsetgroup\":\"PROBLEMAS CON TRANSPORTE\",\"orientation\":\"v\",\"showlegend\":true,\"textposition\":\"auto\",\"x\":[\"DNO\"],\"xaxis\":\"x\",\"y\":[1],\"yaxis\":\"y\",\"type\":\"bar\"},{\"alignmentgroup\":\"True\",\"hovertemplate\":\"MOTIVO DE LA RENUNCIA=RAZONES MÉDICAS\\u003cbr\\u003eBANDA=%{x}\\u003cbr\\u003econteo=%{y}\\u003cextra\\u003e\\u003c\\u002fextra\\u003e\",\"legendgroup\":\"RAZONES MÉDICAS\",\"marker\":{\"color\":\"#636efa\",\"pattern\":{\"shape\":\"\"}},\"name\":\"RAZONES MÉDICAS\",\"offsetgroup\":\"RAZONES MÉDICAS\",\"orientation\":\"v\",\"showlegend\":true,\"textposition\":\"auto\",\"x\":[\"DNO\",\"DO\"],\"xaxis\":\"x\",\"y\":[3,25],\"yaxis\":\"y\",\"type\":\"bar\"},{\"alignmentgroup\":\"True\",\"hovertemplate\":\"MOTIVO DE LA RENUNCIA=TRA AUSENTISMOS CONTINUOS\\u003cbr\\u003eBANDA=%{x}\\u003cbr\\u003econteo=%{y}\\u003cextra\\u003e\\u003c\\u002fextra\\u003e\",\"legendgroup\":\"TRA AUSENTISMOS CONTINUOS\",\"marker\":{\"color\":\"#EF553B\",\"pattern\":{\"shape\":\"\"}},\"name\":\"TRA AUSENTISMOS CONTINUOS\",\"offsetgroup\":\"TRA AUSENTISMOS CONTINUOS\",\"orientation\":\"v\",\"showlegend\":true,\"textposition\":\"auto\",\"x\":[\"DNO\",\"DO\",\"E3\"],\"xaxis\":\"x\",\"y\":[9,61,1],\"yaxis\":\"y\",\"type\":\"bar\"},{\"alignmentgroup\":\"True\",\"hovertemplate\":\"MOTIVO DE LA RENUNCIA=TRA BAJO DESEMPEÑO\\u003cbr\\u003eBANDA=%{x}\\u003cbr\\u003econteo=%{y}\\u003cextra\\u003e\\u003c\\u002fextra\\u003e\",\"legendgroup\":\"TRA BAJO DESEMPEÑO\",\"marker\":{\"color\":\"#00cc96\",\"pattern\":{\"shape\":\"\"}},\"name\":\"TRA BAJO DESEMPEÑO\",\"offsetgroup\":\"TRA BAJO DESEMPEÑO\",\"orientation\":\"v\",\"showlegend\":true,\"textposition\":\"auto\",\"x\":[\"DNO\",\"E3\"],\"xaxis\":\"x\",\"y\":[1,2],\"yaxis\":\"y\",\"type\":\"bar\"},{\"alignmentgroup\":\"True\",\"hovertemplate\":\"MOTIVO DE LA RENUNCIA=TRA FALSIFICACIÓN DE DOCTOS \\u003cbr\\u003eBANDA=%{x}\\u003cbr\\u003econteo=%{y}\\u003cextra\\u003e\\u003c\\u002fextra\\u003e\",\"legendgroup\":\"TRA FALSIFICACIÓN DE DOCTOS \",\"marker\":{\"color\":\"#ab63fa\",\"pattern\":{\"shape\":\"\"}},\"name\":\"TRA FALSIFICACIÓN DE DOCTOS \",\"offsetgroup\":\"TRA FALSIFICACIÓN DE DOCTOS \",\"orientation\":\"v\",\"showlegend\":true,\"textposition\":\"auto\",\"x\":[\"DNO\",\"DO\"],\"xaxis\":\"x\",\"y\":[1,1],\"yaxis\":\"y\",\"type\":\"bar\"},{\"alignmentgroup\":\"True\",\"hovertemplate\":\"MOTIVO DE LA RENUNCIA=TRA JUBILACIÓN\\u003cbr\\u003eBANDA=%{x}\\u003cbr\\u003econteo=%{y}\\u003cextra\\u003e\\u003c\\u002fextra\\u003e\",\"legendgroup\":\"TRA JUBILACIÓN\",\"marker\":{\"color\":\"#FFA15A\",\"pattern\":{\"shape\":\"\"}},\"name\":\"TRA JUBILACIÓN\",\"offsetgroup\":\"TRA JUBILACIÓN\",\"orientation\":\"v\",\"showlegend\":true,\"textposition\":\"auto\",\"x\":[\"DNO\",\"DO\",\"E3\",\"E4\",\"SL1\"],\"xaxis\":\"x\",\"y\":[15,13,3,1,1],\"yaxis\":\"y\",\"type\":\"bar\"},{\"alignmentgroup\":\"True\",\"hovertemplate\":\"MOTIVO DE LA RENUNCIA=TRA LFT Y REGLAMENTO INT\\u003cbr\\u003eBANDA=%{x}\\u003cbr\\u003econteo=%{y}\\u003cextra\\u003e\\u003c\\u002fextra\\u003e\",\"legendgroup\":\"TRA LFT Y REGLAMENTO INT\",\"marker\":{\"color\":\"#19d3f3\",\"pattern\":{\"shape\":\"\"}},\"name\":\"TRA LFT Y REGLAMENTO INT\",\"offsetgroup\":\"TRA LFT Y REGLAMENTO INT\",\"orientation\":\"v\",\"showlegend\":true,\"textposition\":\"auto\",\"x\":[\"DNO\",\"DO\"],\"xaxis\":\"x\",\"y\":[6,6],\"yaxis\":\"y\",\"type\":\"bar\"},{\"alignmentgroup\":\"True\",\"hovertemplate\":\"MOTIVO DE LA RENUNCIA=TRA LFT Y REGLAMENTO INT \\u003cbr\\u003eBANDA=%{x}\\u003cbr\\u003econteo=%{y}\\u003cextra\\u003e\\u003c\\u002fextra\\u003e\",\"legendgroup\":\"TRA LFT Y REGLAMENTO INT \",\"marker\":{\"color\":\"#FF6692\",\"pattern\":{\"shape\":\"\"}},\"name\":\"TRA LFT Y REGLAMENTO INT \",\"offsetgroup\":\"TRA LFT Y REGLAMENTO INT \",\"orientation\":\"v\",\"showlegend\":true,\"textposition\":\"auto\",\"x\":[\"DNO\",\"DO\",\"E3\"],\"xaxis\":\"x\",\"y\":[6,5,1],\"yaxis\":\"y\",\"type\":\"bar\"},{\"alignmentgroup\":\"True\",\"hovertemplate\":\"MOTIVO DE LA RENUNCIA=TRANSFERENCIA ENTRE PLANTA\\u003cbr\\u003eBANDA=%{x}\\u003cbr\\u003econteo=%{y}\\u003cextra\\u003e\\u003c\\u002fextra\\u003e\",\"legendgroup\":\"TRANSFERENCIA ENTRE PLANTA\",\"marker\":{\"color\":\"#B6E880\",\"pattern\":{\"shape\":\"\"}},\"name\":\"TRANSFERENCIA ENTRE PLANTA\",\"offsetgroup\":\"TRANSFERENCIA ENTRE PLANTA\",\"orientation\":\"v\",\"showlegend\":true,\"textposition\":\"auto\",\"x\":[\"DNO\",\"DO\",\"E3\",\"E4\",\"SL1\"],\"xaxis\":\"x\",\"y\":[66,133,20,13,4],\"yaxis\":\"y\",\"type\":\"bar\"},{\"alignmentgroup\":\"True\",\"hovertemplate\":\"MOTIVO DE LA RENUNCIA=AMBIENTE DE TRABAJO\\u003cbr\\u003eBANDA=%{x}\\u003cbr\\u003econteo=%{y}\\u003cextra\\u003e\\u003c\\u002fextra\\u003e\",\"legendgroup\":\"AMBIENTE DE TRABAJO\",\"marker\":{\"color\":\"#FF97FF\",\"pattern\":{\"shape\":\"\"}},\"name\":\"AMBIENTE DE TRABAJO\",\"offsetgroup\":\"AMBIENTE DE TRABAJO\",\"orientation\":\"v\",\"showlegend\":true,\"textposition\":\"auto\",\"x\":[\"DO\"],\"xaxis\":\"x\",\"y\":[1],\"yaxis\":\"y\",\"type\":\"bar\"},{\"alignmentgroup\":\"True\",\"hovertemplate\":\"MOTIVO DE LA RENUNCIA=MATERNIDAD\\u003cbr\\u003eBANDA=%{x}\\u003cbr\\u003econteo=%{y}\\u003cextra\\u003e\\u003c\\u002fextra\\u003e\",\"legendgroup\":\"MATERNIDAD\",\"marker\":{\"color\":\"#FECB52\",\"pattern\":{\"shape\":\"\"}},\"name\":\"MATERNIDAD\",\"offsetgroup\":\"MATERNIDAD\",\"orientation\":\"v\",\"showlegend\":true,\"textposition\":\"auto\",\"x\":[\"DO\"],\"xaxis\":\"x\",\"y\":[3],\"yaxis\":\"y\",\"type\":\"bar\"},{\"alignmentgroup\":\"True\",\"hovertemplate\":\"MOTIVO DE LA RENUNCIA=MATRIMONIO\\u003cbr\\u003eBANDA=%{x}\\u003cbr\\u003econteo=%{y}\\u003cextra\\u003e\\u003c\\u002fextra\\u003e\",\"legendgroup\":\"MATRIMONIO\",\"marker\":{\"color\":\"#636efa\",\"pattern\":{\"shape\":\"\"}},\"name\":\"MATRIMONIO\",\"offsetgroup\":\"MATRIMONIO\",\"orientation\":\"v\",\"showlegend\":true,\"textposition\":\"auto\",\"x\":[\"DO\"],\"xaxis\":\"x\",\"y\":[1],\"yaxis\":\"y\",\"type\":\"bar\"},{\"alignmentgroup\":\"True\",\"hovertemplate\":\"MOTIVO DE LA RENUNCIA=MUERTE ACCIDENTAL\\u003cbr\\u003eBANDA=%{x}\\u003cbr\\u003econteo=%{y}\\u003cextra\\u003e\\u003c\\u002fextra\\u003e\",\"legendgroup\":\"MUERTE ACCIDENTAL\",\"marker\":{\"color\":\"#EF553B\",\"pattern\":{\"shape\":\"\"}},\"name\":\"MUERTE ACCIDENTAL\",\"offsetgroup\":\"MUERTE ACCIDENTAL\",\"orientation\":\"v\",\"showlegend\":true,\"textposition\":\"auto\",\"x\":[\"DO\",\"E3\"],\"xaxis\":\"x\",\"y\":[1,1],\"yaxis\":\"y\",\"type\":\"bar\"},{\"alignmentgroup\":\"True\",\"hovertemplate\":\"MOTIVO DE LA RENUNCIA=TRA FALSIFICACIÓN DE DOCTO\\u003cbr\\u003eBANDA=%{x}\\u003cbr\\u003econteo=%{y}\\u003cextra\\u003e\\u003c\\u002fextra\\u003e\",\"legendgroup\":\"TRA FALSIFICACIÓN DE DOCTO\",\"marker\":{\"color\":\"#00cc96\",\"pattern\":{\"shape\":\"\"}},\"name\":\"TRA FALSIFICACIÓN DE DOCTO\",\"offsetgroup\":\"TRA FALSIFICACIÓN DE DOCTO\",\"orientation\":\"v\",\"showlegend\":true,\"textposition\":\"auto\",\"x\":[\"DO\"],\"xaxis\":\"x\",\"y\":[2],\"yaxis\":\"y\",\"type\":\"bar\"},{\"alignmentgroup\":\"True\",\"hovertemplate\":\"MOTIVO DE LA RENUNCIA=TRA USO DE DROGAS Y BEBI\\u003cbr\\u003eBANDA=%{x}\\u003cbr\\u003econteo=%{y}\\u003cextra\\u003e\\u003c\\u002fextra\\u003e\",\"legendgroup\":\"TRA USO DE DROGAS Y BEBI\",\"marker\":{\"color\":\"#ab63fa\",\"pattern\":{\"shape\":\"\"}},\"name\":\"TRA USO DE DROGAS Y BEBI\",\"offsetgroup\":\"TRA USO DE DROGAS Y BEBI\",\"orientation\":\"v\",\"showlegend\":true,\"textposition\":\"auto\",\"x\":[\"DO\"],\"xaxis\":\"x\",\"y\":[1],\"yaxis\":\"y\",\"type\":\"bar\"},{\"alignmentgroup\":\"True\",\"hovertemplate\":\"MOTIVO DE LA RENUNCIA=PAT VARIOS JUBILADO\\u003cbr\\u003eBANDA=%{x}\\u003cbr\\u003econteo=%{y}\\u003cextra\\u003e\\u003c\\u002fextra\\u003e\",\"legendgroup\":\"PAT VARIOS JUBILADO\",\"marker\":{\"color\":\"#FFA15A\",\"pattern\":{\"shape\":\"\"}},\"name\":\"PAT VARIOS JUBILADO\",\"offsetgroup\":\"PAT VARIOS JUBILADO\",\"orientation\":\"v\",\"showlegend\":true,\"textposition\":\"auto\",\"x\":[\"E3\"],\"xaxis\":\"x\",\"y\":[1],\"yaxis\":\"y\",\"type\":\"bar\"},{\"alignmentgroup\":\"True\",\"hovertemplate\":\"MOTIVO DE LA RENUNCIA=PAT TERMINACIÓN DEL CONTRA\\u003cbr\\u003eBANDA=%{x}\\u003cbr\\u003econteo=%{y}\\u003cextra\\u003e\\u003c\\u002fextra\\u003e\",\"legendgroup\":\"PAT TERMINACIÓN DEL CONTRA\",\"marker\":{\"color\":\"#19d3f3\",\"pattern\":{\"shape\":\"\"}},\"name\":\"PAT TERMINACIÓN DEL CONTRA\",\"offsetgroup\":\"PAT TERMINACIÓN DEL CONTRA\",\"orientation\":\"v\",\"showlegend\":true,\"textposition\":\"auto\",\"x\":[\"E4\",\"SL1\"],\"xaxis\":\"x\",\"y\":[1,1],\"yaxis\":\"y\",\"type\":\"bar\"}],                        {\"template\":{\"data\":{\"histogram2dcontour\":[{\"type\":\"histogram2dcontour\",\"colorbar\":{\"outlinewidth\":0,\"ticks\":\"\"},\"colorscale\":[[0.0,\"#0d0887\"],[0.1111111111111111,\"#46039f\"],[0.2222222222222222,\"#7201a8\"],[0.3333333333333333,\"#9c179e\"],[0.4444444444444444,\"#bd3786\"],[0.5555555555555556,\"#d8576b\"],[0.6666666666666666,\"#ed7953\"],[0.7777777777777778,\"#fb9f3a\"],[0.8888888888888888,\"#fdca26\"],[1.0,\"#f0f921\"]]}],\"choropleth\":[{\"type\":\"choropleth\",\"colorbar\":{\"outlinewidth\":0,\"ticks\":\"\"}}],\"histogram2d\":[{\"type\":\"histogram2d\",\"colorbar\":{\"outlinewidth\":0,\"ticks\":\"\"},\"colorscale\":[[0.0,\"#0d0887\"],[0.1111111111111111,\"#46039f\"],[0.2222222222222222,\"#7201a8\"],[0.3333333333333333,\"#9c179e\"],[0.4444444444444444,\"#bd3786\"],[0.5555555555555556,\"#d8576b\"],[0.6666666666666666,\"#ed7953\"],[0.7777777777777778,\"#fb9f3a\"],[0.8888888888888888,\"#fdca26\"],[1.0,\"#f0f921\"]]}],\"heatmap\":[{\"type\":\"heatmap\",\"colorbar\":{\"outlinewidth\":0,\"ticks\":\"\"},\"colorscale\":[[0.0,\"#0d0887\"],[0.1111111111111111,\"#46039f\"],[0.2222222222222222,\"#7201a8\"],[0.3333333333333333,\"#9c179e\"],[0.4444444444444444,\"#bd3786\"],[0.5555555555555556,\"#d8576b\"],[0.6666666666666666,\"#ed7953\"],[0.7777777777777778,\"#fb9f3a\"],[0.8888888888888888,\"#fdca26\"],[1.0,\"#f0f921\"]]}],\"heatmapgl\":[{\"type\":\"heatmapgl\",\"colorbar\":{\"outlinewidth\":0,\"ticks\":\"\"},\"colorscale\":[[0.0,\"#0d0887\"],[0.1111111111111111,\"#46039f\"],[0.2222222222222222,\"#7201a8\"],[0.3333333333333333,\"#9c179e\"],[0.4444444444444444,\"#bd3786\"],[0.5555555555555556,\"#d8576b\"],[0.6666666666666666,\"#ed7953\"],[0.7777777777777778,\"#fb9f3a\"],[0.8888888888888888,\"#fdca26\"],[1.0,\"#f0f921\"]]}],\"contourcarpet\":[{\"type\":\"contourcarpet\",\"colorbar\":{\"outlinewidth\":0,\"ticks\":\"\"}}],\"contour\":[{\"type\":\"contour\",\"colorbar\":{\"outlinewidth\":0,\"ticks\":\"\"},\"colorscale\":[[0.0,\"#0d0887\"],[0.1111111111111111,\"#46039f\"],[0.2222222222222222,\"#7201a8\"],[0.3333333333333333,\"#9c179e\"],[0.4444444444444444,\"#bd3786\"],[0.5555555555555556,\"#d8576b\"],[0.6666666666666666,\"#ed7953\"],[0.7777777777777778,\"#fb9f3a\"],[0.8888888888888888,\"#fdca26\"],[1.0,\"#f0f921\"]]}],\"surface\":[{\"type\":\"surface\",\"colorbar\":{\"outlinewidth\":0,\"ticks\":\"\"},\"colorscale\":[[0.0,\"#0d0887\"],[0.1111111111111111,\"#46039f\"],[0.2222222222222222,\"#7201a8\"],[0.3333333333333333,\"#9c179e\"],[0.4444444444444444,\"#bd3786\"],[0.5555555555555556,\"#d8576b\"],[0.6666666666666666,\"#ed7953\"],[0.7777777777777778,\"#fb9f3a\"],[0.8888888888888888,\"#fdca26\"],[1.0,\"#f0f921\"]]}],\"mesh3d\":[{\"type\":\"mesh3d\",\"colorbar\":{\"outlinewidth\":0,\"ticks\":\"\"}}],\"scatter\":[{\"fillpattern\":{\"fillmode\":\"overlay\",\"size\":10,\"solidity\":0.2},\"type\":\"scatter\"}],\"parcoords\":[{\"type\":\"parcoords\",\"line\":{\"colorbar\":{\"outlinewidth\":0,\"ticks\":\"\"}}}],\"scatterpolargl\":[{\"type\":\"scatterpolargl\",\"marker\":{\"colorbar\":{\"outlinewidth\":0,\"ticks\":\"\"}}}],\"bar\":[{\"error_x\":{\"color\":\"#2a3f5f\"},\"error_y\":{\"color\":\"#2a3f5f\"},\"marker\":{\"line\":{\"color\":\"#E5ECF6\",\"width\":0.5},\"pattern\":{\"fillmode\":\"overlay\",\"size\":10,\"solidity\":0.2}},\"type\":\"bar\"}],\"scattergeo\":[{\"type\":\"scattergeo\",\"marker\":{\"colorbar\":{\"outlinewidth\":0,\"ticks\":\"\"}}}],\"scatterpolar\":[{\"type\":\"scatterpolar\",\"marker\":{\"colorbar\":{\"outlinewidth\":0,\"ticks\":\"\"}}}],\"histogram\":[{\"marker\":{\"pattern\":{\"fillmode\":\"overlay\",\"size\":10,\"solidity\":0.2}},\"type\":\"histogram\"}],\"scattergl\":[{\"type\":\"scattergl\",\"marker\":{\"colorbar\":{\"outlinewidth\":0,\"ticks\":\"\"}}}],\"scatter3d\":[{\"type\":\"scatter3d\",\"line\":{\"colorbar\":{\"outlinewidth\":0,\"ticks\":\"\"}},\"marker\":{\"colorbar\":{\"outlinewidth\":0,\"ticks\":\"\"}}}],\"scattermapbox\":[{\"type\":\"scattermapbox\",\"marker\":{\"colorbar\":{\"outlinewidth\":0,\"ticks\":\"\"}}}],\"scatterternary\":[{\"type\":\"scatterternary\",\"marker\":{\"colorbar\":{\"outlinewidth\":0,\"ticks\":\"\"}}}],\"scattercarpet\":[{\"type\":\"scattercarpet\",\"marker\":{\"colorbar\":{\"outlinewidth\":0,\"ticks\":\"\"}}}],\"carpet\":[{\"aaxis\":{\"endlinecolor\":\"#2a3f5f\",\"gridcolor\":\"white\",\"linecolor\":\"white\",\"minorgridcolor\":\"white\",\"startlinecolor\":\"#2a3f5f\"},\"baxis\":{\"endlinecolor\":\"#2a3f5f\",\"gridcolor\":\"white\",\"linecolor\":\"white\",\"minorgridcolor\":\"white\",\"startlinecolor\":\"#2a3f5f\"},\"type\":\"carpet\"}],\"table\":[{\"cells\":{\"fill\":{\"color\":\"#EBF0F8\"},\"line\":{\"color\":\"white\"}},\"header\":{\"fill\":{\"color\":\"#C8D4E3\"},\"line\":{\"color\":\"white\"}},\"type\":\"table\"}],\"barpolar\":[{\"marker\":{\"line\":{\"color\":\"#E5ECF6\",\"width\":0.5},\"pattern\":{\"fillmode\":\"overlay\",\"size\":10,\"solidity\":0.2}},\"type\":\"barpolar\"}],\"pie\":[{\"automargin\":true,\"type\":\"pie\"}]},\"layout\":{\"autotypenumbers\":\"strict\",\"colorway\":[\"#636efa\",\"#EF553B\",\"#00cc96\",\"#ab63fa\",\"#FFA15A\",\"#19d3f3\",\"#FF6692\",\"#B6E880\",\"#FF97FF\",\"#FECB52\"],\"font\":{\"color\":\"#2a3f5f\"},\"hovermode\":\"closest\",\"hoverlabel\":{\"align\":\"left\"},\"paper_bgcolor\":\"white\",\"plot_bgcolor\":\"#E5ECF6\",\"polar\":{\"bgcolor\":\"#E5ECF6\",\"angularaxis\":{\"gridcolor\":\"white\",\"linecolor\":\"white\",\"ticks\":\"\"},\"radialaxis\":{\"gridcolor\":\"white\",\"linecolor\":\"white\",\"ticks\":\"\"}},\"ternary\":{\"bgcolor\":\"#E5ECF6\",\"aaxis\":{\"gridcolor\":\"white\",\"linecolor\":\"white\",\"ticks\":\"\"},\"baxis\":{\"gridcolor\":\"white\",\"linecolor\":\"white\",\"ticks\":\"\"},\"caxis\":{\"gridcolor\":\"white\",\"linecolor\":\"white\",\"ticks\":\"\"}},\"coloraxis\":{\"colorbar\":{\"outlinewidth\":0,\"ticks\":\"\"}},\"colorscale\":{\"sequential\":[[0.0,\"#0d0887\"],[0.1111111111111111,\"#46039f\"],[0.2222222222222222,\"#7201a8\"],[0.3333333333333333,\"#9c179e\"],[0.4444444444444444,\"#bd3786\"],[0.5555555555555556,\"#d8576b\"],[0.6666666666666666,\"#ed7953\"],[0.7777777777777778,\"#fb9f3a\"],[0.8888888888888888,\"#fdca26\"],[1.0,\"#f0f921\"]],\"sequentialminus\":[[0.0,\"#0d0887\"],[0.1111111111111111,\"#46039f\"],[0.2222222222222222,\"#7201a8\"],[0.3333333333333333,\"#9c179e\"],[0.4444444444444444,\"#bd3786\"],[0.5555555555555556,\"#d8576b\"],[0.6666666666666666,\"#ed7953\"],[0.7777777777777778,\"#fb9f3a\"],[0.8888888888888888,\"#fdca26\"],[1.0,\"#f0f921\"]],\"diverging\":[[0,\"#8e0152\"],[0.1,\"#c51b7d\"],[0.2,\"#de77ae\"],[0.3,\"#f1b6da\"],[0.4,\"#fde0ef\"],[0.5,\"#f7f7f7\"],[0.6,\"#e6f5d0\"],[0.7,\"#b8e186\"],[0.8,\"#7fbc41\"],[0.9,\"#4d9221\"],[1,\"#276419\"]]},\"xaxis\":{\"gridcolor\":\"white\",\"linecolor\":\"white\",\"ticks\":\"\",\"title\":{\"standoff\":15},\"zerolinecolor\":\"white\",\"automargin\":true,\"zerolinewidth\":2},\"yaxis\":{\"gridcolor\":\"white\",\"linecolor\":\"white\",\"ticks\":\"\",\"title\":{\"standoff\":15},\"zerolinecolor\":\"white\",\"automargin\":true,\"zerolinewidth\":2},\"scene\":{\"xaxis\":{\"backgroundcolor\":\"#E5ECF6\",\"gridcolor\":\"white\",\"linecolor\":\"white\",\"showbackground\":true,\"ticks\":\"\",\"zerolinecolor\":\"white\",\"gridwidth\":2},\"yaxis\":{\"backgroundcolor\":\"#E5ECF6\",\"gridcolor\":\"white\",\"linecolor\":\"white\",\"showbackground\":true,\"ticks\":\"\",\"zerolinecolor\":\"white\",\"gridwidth\":2},\"zaxis\":{\"backgroundcolor\":\"#E5ECF6\",\"gridcolor\":\"white\",\"linecolor\":\"white\",\"showbackground\":true,\"ticks\":\"\",\"zerolinecolor\":\"white\",\"gridwidth\":2}},\"shapedefaults\":{\"line\":{\"color\":\"#2a3f5f\"}},\"annotationdefaults\":{\"arrowcolor\":\"#2a3f5f\",\"arrowhead\":0,\"arrowwidth\":1},\"geo\":{\"bgcolor\":\"white\",\"landcolor\":\"#E5ECF6\",\"subunitcolor\":\"white\",\"showland\":true,\"showlakes\":true,\"lakecolor\":\"white\"},\"title\":{\"x\":0.05},\"mapbox\":{\"style\":\"light\"}}},\"xaxis\":{\"anchor\":\"y\",\"domain\":[0.0,1.0],\"title\":{\"text\":\"BANDA\"}},\"yaxis\":{\"anchor\":\"x\",\"domain\":[0.0,1.0],\"title\":{\"text\":\"conteo\"}},\"legend\":{\"title\":{\"text\":\"MOTIVO DE LA RENUNCIA\"},\"tracegroupgap\":0},\"title\":{\"text\":\"BANDA vs. MOTIVO DE LA RENUNCIA\"},\"barmode\":\"relative\"},                        {\"responsive\": true}                    ).then(function(){\n",
       "                            \n",
       "var gd = document.getElementById('f183f205-d4e1-4fbe-9d90-13c4d03be098');\n",
       "var x = new MutationObserver(function (mutations, observer) {{\n",
       "        var display = window.getComputedStyle(gd).display;\n",
       "        if (!display || display === 'none') {{\n",
       "            console.log([gd, 'removed!']);\n",
       "            Plotly.purge(gd);\n",
       "            observer.disconnect();\n",
       "        }}\n",
       "}});\n",
       "\n",
       "// Listen for the removal of the full notebook cells\n",
       "var notebookContainer = gd.closest('#notebook-container');\n",
       "if (notebookContainer) {{\n",
       "    x.observe(notebookContainer, {childList: true});\n",
       "}}\n",
       "\n",
       "// Listen for the clearing of the current output cell\n",
       "var outputEl = gd.closest('.output');\n",
       "if (outputEl) {{\n",
       "    x.observe(outputEl, {childList: true});\n",
       "}}\n",
       "\n",
       "                        })                };                });            </script>        </div>"
      ]
     },
     "metadata": {},
     "output_type": "display_data"
    },
    {
     "data": {
      "application/vnd.plotly.v1+json": {
       "config": {
        "plotlyServerURL": "https://plot.ly"
       },
       "data": [
        {
         "alignmentgroup": "True",
         "hovertemplate": "BANDA=%{x}<br>ANTIGÜEDAD=%{y}<extra></extra>",
         "legendgroup": "",
         "marker": {
          "color": "#636efa"
         },
         "name": "",
         "notched": false,
         "offsetgroup": "",
         "orientation": "v",
         "showlegend": false,
         "type": "box",
         "x": [
          "E3",
          "DNO",
          "DNO",
          "DO",
          "DO",
          "DNO",
          "DO",
          "DO",
          "DNO",
          "DO",
          "DO",
          "DO",
          "DNO",
          "DNO",
          "DNO",
          "DO",
          "DO",
          "DO",
          "DO",
          "DO",
          "DO",
          "DO",
          "DNO",
          "E3",
          "DNO",
          "E4",
          "DO",
          "DO",
          "DO",
          "DNO",
          "DO",
          "DO",
          "DO",
          "DO",
          "DO",
          "DO",
          "DO",
          "DNO",
          "DNO",
          "DNO",
          "DNO",
          "DO",
          "DO",
          "DNO",
          "E3",
          "DO",
          "E4",
          "E3",
          "DO",
          "DNO",
          "DNO",
          "DO",
          "DO",
          "DO",
          "DO",
          "DO",
          "DNO",
          "DNO",
          "DO",
          "DO",
          "DO",
          "DO",
          "DO",
          "DO",
          "DO",
          "DO",
          "DO",
          "DO",
          "DO",
          "DO",
          "DO",
          "DO",
          "DNO",
          "DNO",
          "DO",
          "DNO",
          "DO",
          "E4",
          "DO",
          "DO",
          "DNO",
          "DNO",
          "DO",
          "DO",
          "DO",
          "DO",
          "DNO",
          "DO",
          "DO",
          "DO",
          "DO",
          "DO",
          "DNO",
          "DNO",
          "E3",
          "E4",
          "DNO",
          "DNO",
          "DO",
          "DNO",
          "DNO",
          "DO",
          "E4",
          "E3",
          "DO",
          "DNO",
          "DO",
          "DO",
          "DO",
          "DO",
          "DNO",
          "DO",
          "DNO",
          "DO",
          "DO",
          "DO",
          "DO",
          "DO",
          "DO",
          "DO",
          "DNO",
          "DNO",
          "DO",
          "DO",
          "DO",
          "DO",
          "DO",
          "DO",
          "DO",
          "DO",
          "DNO",
          "DNO",
          "DO",
          "DO",
          "DO",
          "DO",
          "DO",
          "DO",
          "E3",
          "DO",
          "DO",
          "DO",
          "DNO",
          "DO",
          "DO",
          "DO",
          "DO",
          "DNO",
          "DO",
          "DO",
          "DNO",
          "DO",
          "DO",
          "DNO",
          "DO",
          "DO",
          "DO",
          "DNO",
          "E3",
          "DNO",
          "DNO",
          "DO",
          "DO",
          "DO",
          "DO",
          "DNO",
          "DO",
          "DO",
          "DO",
          "DO",
          "E4",
          "DO",
          "DNO",
          "DO",
          "DO",
          "DO",
          "DO",
          "DO",
          "DO",
          "DO",
          "DNO",
          "DNO",
          "DO",
          "DO",
          "SL1",
          "DNO",
          "E3",
          "DNO",
          "DO",
          "DNO",
          "DO",
          "DO",
          "DO",
          "DNO",
          "E4",
          "DO",
          "DO",
          "DO",
          "DO",
          "DNO",
          "DO",
          "DO",
          "DO",
          "DO",
          "DO",
          "E4",
          "DO",
          "DO",
          "DO",
          "DO",
          "DO",
          "DNO",
          "DNO",
          "DO",
          "DO",
          "DO",
          "DO",
          "DO",
          "DO",
          "DO",
          "DO",
          "DO",
          "DO",
          "DO",
          "DNO",
          "DO",
          "DO",
          "DO",
          "DO",
          "DO",
          "DO",
          "DO",
          "DO",
          "DO",
          "DO",
          "DO",
          "DO",
          "DO",
          "DO",
          "DO",
          "DO",
          "DNO",
          "DO",
          "DNO",
          "DO",
          "DO",
          "DO",
          "DO",
          "DO",
          "DO",
          "DO",
          "E4",
          "DO",
          "DO",
          "DO",
          "DNO",
          "E3",
          "DO",
          "DO",
          "DO",
          "DO",
          "DO",
          "DO",
          "DO",
          "DNO",
          "DO",
          "DO",
          "DO",
          "DO",
          "DO",
          "DO",
          "DNO",
          "DNO",
          "DNO",
          "DO",
          "DO",
          "DO",
          "DO",
          "DO",
          "DO",
          "E3",
          "E4",
          "E3",
          "DNO",
          "SL1",
          "DNO",
          "DNO",
          "DO",
          "DO",
          "DO",
          "DO",
          "DO",
          "DO",
          "DO",
          "DO",
          "DO",
          "DNO",
          "DNO",
          "DO",
          "DO",
          "DO",
          "DO",
          "DO",
          "DO",
          "DNO",
          "E3",
          "E3",
          "DO",
          "DNO",
          "DO",
          "DO",
          "DNO",
          "DO",
          "DO",
          "DO",
          "DO",
          "DO",
          "DO",
          "DO",
          "DO",
          "DO",
          "DO",
          "DO",
          "DNO",
          "DO",
          "DO",
          "E3",
          "DO",
          "DO",
          "E4",
          "DNO",
          "DNO",
          "DO",
          "DO",
          "DO",
          "DO",
          "DO",
          "DO",
          "DO",
          "DO",
          "DO",
          "DO",
          "DO",
          "DO",
          "DO",
          "DO",
          "DO",
          "DO",
          "DO",
          "DO",
          "DO",
          "SL1",
          "DNO",
          "DO",
          "DO",
          "DO",
          "DO",
          "DO",
          "DO",
          "DO",
          "DO",
          "DO",
          "DO",
          "DO",
          "DO",
          "E3",
          "E3",
          "DO",
          "DNO",
          "DO",
          "DO",
          "DO",
          "DO",
          "DO",
          "DO",
          "DO",
          "DO",
          "DO",
          "DO",
          "DO",
          "DO",
          "DO",
          "E3",
          "DNO",
          "DO",
          "DO",
          "DNO",
          "DNO",
          "DNO",
          "DO",
          "DO",
          "DO",
          "DO",
          "DO",
          "DO",
          "DO",
          "DO",
          "DO",
          "DO",
          "E3",
          "DO",
          "DO",
          "DO",
          "DNO",
          "DO",
          "DO",
          "DNO",
          "DNO",
          "DO",
          "DO",
          "DO",
          "DNO",
          "DO",
          "DO",
          "DO",
          "DNO",
          "DO",
          "DO",
          "DO",
          "DO",
          "DNO",
          "DO",
          "DO",
          "DO",
          "DO",
          "DO",
          "DO",
          "DNO",
          "DO",
          "DO",
          "DO",
          "DO",
          "DO",
          "DO",
          "DO",
          "DNO",
          "DNO",
          "E4",
          "SL1",
          "DNO",
          "DO",
          "DNO",
          "DO",
          "DO",
          "DO",
          "DO",
          "DO",
          "DO",
          "DNO",
          "DO",
          "DNO",
          "E3",
          "DO",
          null,
          "DO",
          "DO",
          "DO",
          "E4",
          "DNO",
          "DO",
          "DO",
          "DO",
          "DO",
          "DO",
          "DO",
          "DO",
          "DO",
          "DO",
          "DO",
          "DO",
          "DNO",
          "DO",
          "DNO",
          "DO",
          "DO",
          "DO",
          "DNO",
          "DO",
          "DO",
          "DO",
          "DNO",
          "SL1",
          "E4",
          "DO",
          "DO",
          "DO",
          "DO",
          "DO",
          "DNO",
          "DO",
          "DO",
          "DNO",
          "E3",
          "DO",
          "DO",
          "DO",
          "DO",
          "DO",
          "DNO",
          "DO",
          "E3",
          "E4",
          "DO",
          "DO",
          "E3",
          "DO",
          "DO",
          "DO",
          "E3",
          "DO",
          "DO",
          "DO",
          "DO",
          "DO",
          "DO",
          "DO",
          "DO",
          "SL1",
          "E4",
          "DO",
          "DO",
          "DO",
          "DO",
          "DO",
          "DO",
          "DO",
          "DNO",
          "DO",
          "DO",
          "DO",
          "DO",
          "DO",
          "DNO",
          "DO",
          "DO",
          "DO",
          "DO",
          "DNO",
          "DO",
          "DO",
          "DO",
          "DNO",
          "DNO",
          "DNO",
          "DNO",
          "DO",
          "DNO",
          "DNO",
          "E3",
          "DNO",
          "DNO",
          "DNO",
          "E3",
          "E3",
          "DO",
          "DO",
          "DNO",
          "DO",
          "DO",
          "DNO",
          "DNO",
          "DO",
          "DO",
          "DNO",
          "DO",
          "DO",
          "DNO",
          "DNO",
          "DO",
          "DO",
          "DO",
          "DO",
          "DO",
          "DNO",
          "DO",
          "DO",
          "DO",
          "DO",
          "DO",
          "DNO",
          "DO",
          "DNO",
          "DO",
          "DNO",
          "DO",
          "DNO",
          "E3",
          "DO",
          "DNO",
          "E3",
          "DO",
          "DO",
          "DNO",
          "DO",
          "E3",
          "DO",
          "DO",
          "DNO",
          "DO",
          "DO",
          "DO",
          "DO",
          "SL1",
          "DO",
          "DO",
          "DO",
          "E3",
          "DO",
          "DO",
          "DO",
          "DO",
          "DO",
          "DNO",
          "DNO",
          "DO",
          "DO",
          "DO",
          "E4",
          "E3",
          "DO",
          "DO",
          "DO",
          "DO",
          "DO",
          "DO",
          "DO",
          "DO",
          "DNO",
          "DO",
          "DNO",
          "DNO",
          "DNO",
          "DO",
          "E3",
          "DNO",
          "DO",
          "DO",
          "DNO",
          "DO",
          "DO",
          "DO",
          "DO",
          "DO",
          "DO",
          "DNO",
          "DO",
          "DNO",
          "DO",
          "DNO",
          "DO",
          "E3",
          "DO",
          "DO",
          "DNO",
          "DNO",
          "E3",
          "E3",
          "E3",
          "E4",
          "E4",
          "E4",
          "DNO",
          "DO",
          "DO",
          "DO",
          "DO",
          "DO",
          "DNO",
          "DO",
          "E3",
          "DO",
          "DO",
          "DO",
          "DO",
          "DNO",
          "DO",
          "DO",
          "DO",
          "DO",
          "DO",
          "DO",
          "DO",
          "DNO",
          "DO",
          "DO",
          "E3",
          "SL1",
          "E3",
          "DO",
          "DNO",
          "DO",
          "DO",
          "DO",
          "DO",
          "DO",
          "DO",
          "DO",
          "DNO",
          "DNO",
          "DO",
          "DNO",
          "DNO",
          "DNO",
          "DO",
          "DO",
          "DNO",
          "DO",
          "DO",
          "DO",
          "DO",
          "E3",
          "DO",
          "DO",
          "E3",
          "E4",
          "DO",
          "DO",
          "DO",
          "DO",
          "DO",
          "DO",
          "DNO",
          "DO",
          "DO",
          "DO",
          "DO",
          "DNO",
          "DNO",
          "DO",
          "DO",
          "E4",
          "E3",
          "DO",
          "DO",
          "DO",
          "DO",
          "DO",
          "DNO",
          "DO",
          "DO",
          "DO",
          "DO",
          "DO",
          "DNO",
          "DNO",
          "DO",
          "DNO",
          "E3",
          "DO",
          "DO",
          "DO",
          "DNO",
          "DNO",
          "DO",
          "DO",
          "DNO",
          "DNO",
          "DNO",
          "DNO",
          "E3",
          "E3",
          "DO",
          "DNO",
          "DO",
          "DNO",
          "DO",
          "DO",
          "DO",
          "DO",
          "DNO",
          "DNO",
          "DNO",
          "DO",
          "DO",
          "E3",
          "E4",
          "DO",
          "DO",
          "DO",
          "DO",
          "DO",
          "DO",
          "DO",
          "DNO",
          "DO",
          "DO",
          "DNO",
          "DO",
          "DO",
          "DO",
          "DO",
          "DNO",
          "DNO",
          "DO",
          "DO",
          "DO",
          "DNO",
          "E3",
          "DNO",
          "DO",
          "DO",
          "DNO",
          "DNO",
          "DNO",
          "DNO",
          "E3",
          "SL1",
          "DNO",
          "DNO",
          "DO",
          "E4",
          "DO",
          "DO",
          "DO",
          "DO",
          "DO",
          "DNO",
          "DO",
          "E3",
          "E4",
          "DO",
          "E3",
          "E4",
          "E3",
          "DNO",
          "DO",
          "DNO",
          "DO",
          "DNO",
          "DNO",
          "DO",
          "DNO",
          "DNO",
          "DO",
          "E4",
          "DNO",
          "DO",
          "DO",
          "E3",
          "E3",
          "E3",
          "DO",
          "DNO",
          "DNO",
          "DNO",
          "DNO",
          "DNO",
          "DNO",
          "E4",
          "DO",
          "DO",
          "DO",
          "DO",
          "DO",
          "DO",
          "DO",
          "DO",
          "DNO",
          "DNO",
          "DNO",
          "DNO",
          "DO",
          "E3",
          "DO",
          "DO",
          "DO",
          "DO",
          "DO",
          "DO",
          "DNO",
          "DNO",
          "DO",
          "DNO",
          "DNO",
          "DO",
          "DNO",
          "DO",
          "DO",
          "DO",
          "DO",
          "DNO",
          "DNO",
          "DNO",
          "DO",
          "E3",
          "E4",
          "E4",
          "DNO",
          "DO",
          "DO",
          "DO",
          "DNO",
          "DNO",
          "DO",
          "DO",
          "DNO",
          "DO",
          "DNO",
          "E3",
          "DO",
          "E3",
          "DNO",
          "DO",
          "DO",
          "DO",
          "DO",
          "DO",
          "DO",
          "DO",
          "DO",
          "DO",
          "DO",
          "DO",
          "DO",
          "DNO",
          "DO",
          "DO",
          "DO",
          "DNO",
          "DO",
          "DO",
          "E4",
          "E3",
          "E4",
          "E3",
          "E3",
          "DNO",
          "E3",
          "E3",
          "SL1",
          "DNO",
          "DO",
          "DNO",
          "DO",
          "DO",
          "DO",
          "DNO",
          "DO",
          "DO",
          "DNO",
          "DNO",
          "DO",
          "DNO",
          "DNO",
          "DO",
          "DNO",
          "E3",
          "DO",
          "DO",
          "DNO",
          "DNO",
          "DO",
          "DNO",
          "DNO",
          "DO",
          "DO",
          "DO",
          "DNO",
          "DO",
          "DO",
          "DNO",
          "DO",
          "E3",
          "DO",
          "DO",
          "DO",
          "DO",
          "DO",
          "DO",
          "DO",
          "DO",
          "DNO",
          "DNO",
          "DNO",
          "DO",
          "DO",
          "DO",
          "DO",
          "E3",
          "SL1",
          "DNO",
          "DNO",
          "DO",
          "DO",
          "DO",
          "DO",
          "DNO",
          "DO",
          "DO",
          "DNO",
          "DNO",
          "E3",
          "DO",
          "E4",
          "DO",
          "E4",
          "E4",
          "E3",
          "DNO",
          "DO",
          "DO",
          "DNO",
          "DO",
          "DO",
          "DO",
          "DNO",
          "DO",
          "DO",
          "DNO",
          "DO",
          "DO",
          "DNO",
          "DO",
          "DNO",
          "E4",
          "DNO",
          "E3",
          "E4",
          "E3",
          "E3",
          "DO",
          "DO",
          "DO",
          "DNO",
          "DNO",
          "DO",
          "DNO",
          "DO",
          "DO",
          "DO",
          "DO",
          "DNO",
          "DNO",
          "DO",
          "DO",
          "DNO",
          "DNO",
          "E3",
          "DO",
          "DNO",
          "DO",
          "DNO",
          "DO",
          "DNO",
          "DO",
          "DO",
          "DNO",
          "DNO",
          "E3",
          "E3",
          "E3",
          "E3",
          "DO",
          "E3",
          "DNO",
          "DO",
          "DO",
          "DNO",
          "DNO",
          "DO",
          "DNO",
          "DO",
          "DO",
          "DO",
          "DNO",
          "DNO",
          "DO",
          "E3",
          "DNO",
          "DNO",
          "DO",
          "DNO",
          "DNO",
          "DO",
          "DO",
          "DNO",
          "DNO",
          "DO",
          "DNO",
          "DNO",
          "DNO",
          "DNO",
          "DO",
          "DO",
          "DO",
          "DO",
          "DO",
          "DNO",
          "E3",
          "DNO",
          "DO",
          "DO",
          "E3",
          "DNO",
          "DO",
          "DNO",
          "DO",
          "DO",
          "DNO",
          "DO",
          "DO",
          "DO",
          "DO",
          "DNO",
          "DO",
          "DNO",
          "DO",
          "DNO",
          "DNO",
          "DO",
          "DNO",
          "DO",
          "DO",
          "DO",
          "DO",
          "E3",
          "DNO",
          "DO",
          "DNO",
          "SL1",
          "DO",
          "DO",
          "DO",
          "DO",
          "E3",
          "DO",
          "DO",
          "DO",
          "DO",
          "DO",
          "DNO",
          "DNO",
          "DNO",
          "DO",
          "E4",
          "DNO",
          "DNO",
          "DO",
          "DO",
          "DO",
          "DNO",
          "DNO",
          "DO",
          "DO",
          "DO",
          "DNO",
          "DO",
          "E4",
          "DNO",
          "E3",
          "DNO",
          "DNO",
          "DO",
          "DNO",
          "E3",
          "DNO",
          "DNO",
          "DO",
          "DNO",
          "DO",
          "DO",
          "DNO",
          "DO",
          "DNO",
          "DNO",
          "DO",
          "DNO",
          "DO",
          "DO",
          "DO",
          "DO",
          "DO",
          "DO",
          "DO",
          "DO",
          "DO",
          "DNO",
          "DO",
          "DO",
          "DO",
          "DO",
          "DO",
          "DO",
          "DNO",
          "DO",
          "DNO",
          "DNO",
          "DO",
          "E3",
          "E4",
          "DO",
          "DNO",
          "DO",
          "E4",
          "DNO",
          "DO",
          "DO",
          "DO",
          "DNO",
          "DO",
          "DO",
          "E3",
          "DO",
          "DNO",
          "DNO",
          "DO",
          "DO",
          "E3",
          "DO",
          "DO",
          "DO",
          "DO",
          "DO",
          "DO",
          "DO",
          "DO",
          "DO",
          "DO",
          "DO",
          "DO",
          "DNO",
          "DO",
          "SL1",
          "DNO",
          "E4",
          "DO",
          "E3",
          "DO",
          "DO",
          "DO",
          "DO",
          "DO",
          "DO",
          "DO",
          "DO",
          "DO",
          "DO",
          "DO",
          "DNO",
          "DO",
          "DNO",
          "DNO",
          "DNO",
          "DO",
          "DNO",
          "DO",
          "DO",
          "E3",
          "DO",
          "DO",
          "DO",
          "DO",
          "DO",
          "DO",
          "DO",
          "DO",
          "DO",
          "DO",
          "DO",
          "DO",
          "DO",
          "DNO",
          "DNO",
          "DNO",
          "E3",
          "DO",
          "DO",
          "DO",
          "DO",
          "DO",
          "DO",
          "DO",
          "DO",
          "DO",
          "DO",
          "DNO",
          "DNO",
          "DNO",
          "DO",
          "DO",
          "DO",
          "DNO",
          "E4",
          "DO",
          "DO",
          "DO",
          "DO",
          "DO",
          "DO",
          "DO",
          "DNO",
          "E4",
          "DO",
          "DNO",
          "DNO",
          "E3",
          "DO",
          "DO",
          "DO",
          "DO",
          "E3",
          "DO",
          "DO",
          "DO",
          "DO",
          "DNO",
          "DO",
          "DO",
          "DO",
          "DNO",
          "DO",
          "DNO",
          "DNO",
          "DNO",
          "DNO",
          "DO",
          "DO",
          "DO",
          "DO",
          "DO",
          "DO",
          "DO",
          "DNO",
          "E3",
          "DO",
          "E3",
          "E4",
          "DO",
          "DO",
          "DO",
          "DNO",
          "DO",
          "DO",
          "DO",
          "DO",
          "DO",
          "DO",
          "DO",
          "DO",
          "DO",
          "DO",
          "DO",
          "DO",
          "DO",
          "DO",
          "DO",
          "DNO",
          "DNO",
          "DO",
          "DNO",
          "DO",
          "E4",
          "E4",
          "E3",
          "DO",
          "DO",
          "DO",
          "DO",
          "DO",
          "DO",
          "DO",
          "DO",
          "DO",
          "DO",
          "DNO",
          "DNO",
          "DO",
          "DNO",
          "DO",
          "DNO",
          "DO",
          "DO",
          "DNO",
          "DO",
          "DO",
          "DO",
          "DNO",
          "DO",
          "DNO",
          "DO",
          "DNO",
          "DO",
          "DO",
          "DNO",
          "DO",
          "DNO",
          "DNO",
          "DNO",
          "DNO",
          "DNO",
          "DNO",
          "DNO",
          "DO",
          "E4",
          "DNO",
          "DO",
          "E4",
          "DNO",
          "DNO",
          "DNO",
          "E3"
         ],
         "x0": " ",
         "xaxis": "x",
         "y": [
          1656,
          1993,
          1223,
          61,
          2133,
          1580,
          1090,
          747,
          1034,
          1083,
          84,
          2498,
          26,
          1587,
          1440,
          146,
          1217,
          818,
          76,
          48,
          118,
          1582,
          22,
          589,
          2004,
          4493,
          32,
          95,
          1384,
          1216,
          705,
          705,
          152,
          118,
          99,
          99,
          40,
          26,
          6278,
          3466,
          2829,
          2260,
          34,
          1527,
          6199,
          169,
          6087,
          3187,
          46,
          25,
          46,
          831,
          782,
          145,
          131,
          61,
          2049,
          2477,
          76,
          1064,
          3334,
          81,
          39,
          39,
          39,
          132,
          1300,
          1076,
          782,
          691,
          145,
          68,
          3079,
          2267,
          1895,
          7,
          1870,
          2615,
          144,
          88,
          5628,
          1218,
          145,
          1979,
          120,
          103,
          4016,
          68,
          1860,
          173,
          124,
          76,
          1373,
          638,
          1929,
          2424,
          2494,
          1978,
          1202,
          54,
          2175,
          2820,
          3090,
          1530,
          1625,
          3497,
          130,
          25,
          1510,
          166,
          134,
          75,
          26,
          2042,
          75,
          27,
          21,
          21,
          1219,
          6241,
          10003,
          698,
          26,
          1489,
          194,
          180,
          110,
          26,
          19,
          41,
          729,
          498,
          32,
          18,
          1643,
          1223,
          831,
          89,
          3011,
          33,
          1881,
          2189,
          2049,
          2007,
          145,
          225,
          64,
          1975,
          179,
          39,
          96,
          19,
          19,
          691,
          180,
          155,
          117,
          84,
          1604,
          1639,
          95,
          25,
          110,
          56,
          33,
          2932,
          159,
          103,
          97,
          34,
          3651,
          799,
          110,
          173,
          75,
          70,
          70,
          40,
          12,
          2253,
          2056,
          3695,
          2372,
          82,
          4092,
          3075,
          2502,
          2400,
          1566,
          96,
          77,
          70,
          61,
          2953,
          6227,
          130,
          109,
          102,
          88,
          40,
          215,
          96,
          75,
          33,
          810,
          4609,
          159,
          89,
          82,
          47,
          33,
          2140,
          547,
          6220,
          1559,
          1545,
          901,
          243,
          138,
          131,
          124,
          47,
          26,
          19,
          2281,
          2224,
          203,
          137,
          130,
          775,
          243,
          173,
          173,
          152,
          138,
          103,
          68,
          3226,
          40,
          230,
          131,
          138,
          82,
          47,
          82,
          89,
          211,
          96,
          180,
          180,
          180,
          203,
          98,
          4988,
          214,
          1335,
          1951,
          96,
          215,
          110,
          83,
          891,
          127,
          240,
          2977,
          127,
          102,
          46,
          250,
          2778,
          1258,
          2021,
          2344,
          2365,
          957,
          1531,
          1202,
          194,
          138,
          131,
          1366,
          997,
          323,
          134,
          1954,
          5478,
          4704,
          137,
          1160,
          2133,
          103,
          96,
          61,
          1643,
          54,
          48,
          2302,
          2084,
          264,
          251,
          145,
          133,
          3093,
          61,
          2150,
          2656,
          2474,
          2769,
          1368,
          54,
          2329,
          6987,
          133,
          3669,
          110,
          68,
          222,
          138,
          75,
          2974,
          2400,
          103,
          1314,
          3429,
          133,
          1344,
          2268,
          2038,
          88,
          3612,
          2658,
          1846,
          187,
          180,
          152,
          2224,
          4437,
          2105,
          110,
          183,
          165,
          292,
          278,
          278,
          257,
          152,
          75,
          131,
          13,
          13,
          14,
          5513,
          3937,
          1769,
          1398,
          894,
          285,
          161,
          124,
          5997,
          1398,
          924,
          21,
          3152,
          3019,
          961,
          1718,
          172,
          2855,
          1685,
          1195,
          866,
          341,
          278,
          201,
          187,
          166,
          138,
          1993,
          2168,
          3002,
          292,
          1975,
          428,
          6535,
          6458,
          3624,
          1601,
          1426,
          992,
          910,
          215,
          194,
          180,
          159,
          152,
          41,
          41,
          127,
          6400,
          181,
          39,
          2392,
          2742,
          1384,
          999,
          952,
          341,
          201,
          173,
          138,
          82,
          26,
          26,
          3184,
          2498,
          299,
          299,
          243,
          194,
          68,
          26,
          2014,
          5832,
          2680,
          27,
          27,
          3187,
          323,
          3670,
          1796,
          137,
          25,
          117,
          298,
          6584,
          2192,
          2719,
          8132,
          2607,
          25,
          1615,
          1293,
          327,
          327,
          152,
          103,
          61,
          19,
          34,
          1607,
          603,
          246,
          218,
          43,
          36,
          22,
          6395,
          4552,
          60,
          1587,
          1475,
          348,
          61,
          61,
          47,
          3674,
          2743,
          1387,
          162,
          2021,
          999,
          852,
          376,
          379,
          264,
          243,
          217,
          74,
          68,
          40,
          4054,
          3426,
          1737,
          1671,
          323,
          224,
          201,
          165,
          148,
          78,
          3067,
          2079,
          1727,
          1321,
          876,
          369,
          362,
          165,
          84,
          2115,
          2101,
          5019,
          5104,
          1787,
          1008,
          348,
          306,
          274,
          173,
          173,
          60,
          40,
          32,
          33,
          35,
          18,
          4029,
          3166,
          2928,
          1454,
          390,
          411,
          292,
          188,
          47,
          39,
          39,
          3757,
          2988,
          1475,
          1011,
          327,
          316,
          263,
          222,
          204,
          173,
          75,
          68,
          68,
          19,
          2413,
          2273,
          6234,
          4225,
          3721,
          3721,
          1980,
          2998,
          2515,
          2021,
          1478,
          1130,
          362,
          229,
          145,
          109,
          96,
          47,
          2210,
          81,
          376,
          306,
          75,
          26,
          3128,
          2827,
          20,
          1310,
          344,
          316,
          85,
          2991,
          2991,
          271,
          1104,
          82,
          26,
          2477,
          990,
          372,
          246,
          225,
          113,
          3952,
          3833,
          3026,
          158,
          180,
          131,
          40,
          2224,
          2540,
          813,
          1874,
          369,
          243,
          131,
          19,
          18,
          3753,
          3029,
          1055,
          89,
          26,
          422,
          342,
          2630,
          1083,
          859,
          754,
          1531,
          2960,
          1364,
          834,
          351,
          1681,
          1509,
          5570,
          684,
          425,
          413,
          392,
          369,
          362,
          286,
          1447,
          1826,
          1783,
          3107,
          2183,
          783,
          1289,
          395,
          5933,
          1934,
          5861,
          1027,
          915,
          810,
          705,
          404,
          341,
          1783,
          1734,
          5300,
          1594,
          2640,
          855,
          1793,
          362,
          719,
          4171,
          2008,
          1166,
          897,
          3112,
          2993,
          2949,
          1424,
          1440,
          915,
          873,
          831,
          439,
          425,
          376,
          10376,
          900,
          834,
          5135,
          1258,
          1132,
          978,
          789,
          399,
          376,
          1594,
          1545,
          1671,
          1650,
          2204,
          461,
          1275,
          309,
          4309,
          2403,
          2422,
          1454,
          1069,
          852,
          824,
          404,
          385,
          1762,
          1657,
          3009,
          2358,
          1594,
          1317,
          480,
          2924,
          1468,
          1419,
          810,
          441,
          439,
          1671,
          714,
          1481,
          855,
          395,
          1010,
          6342,
          1217,
          944,
          832,
          776,
          748,
          405,
          1546,
          1855,
          4053,
          3164,
          3128,
          2693,
          2247,
          2100,
          1946,
          64,
          2271,
          883,
          956,
          454,
          1649,
          1412,
          1146,
          845,
          455,
          455,
          1699,
          3016,
          2442,
          2428,
          2246,
          1448,
          316,
          911,
          2564,
          1461,
          1293,
          915,
          488,
          481,
          313,
          1608,
          1917,
          6336,
          1324,
          1058,
          1181,
          922,
          908,
          831,
          789,
          775,
          432,
          1769,
          4219,
          3214,
          3086,
          433,
          1288,
          6162,
          2602,
          3178,
          2966,
          1188,
          880,
          845,
          474,
          448,
          2225,
          489,
          2308,
          1314,
          1307,
          901,
          894,
          441,
          418,
          404,
          1545,
          915,
          1727,
          3828,
          6114,
          1223,
          915,
          1910,
          3193,
          3051,
          2974,
          2281,
          1478,
          4137,
          582,
          414,
          5919,
          2937,
          1432,
          956,
          1937,
          852,
          1692,
          2225,
          1000,
          2730,
          3867,
          1660,
          2942,
          2678,
          4732,
          490,
          467,
          1650,
          1966,
          6523,
          5900,
          2624,
          2610,
          2596,
          2008,
          2106,
          1464,
          1142,
          2760,
          1457,
          1366,
          3684,
          517,
          1055,
          4214,
          2437,
          2834,
          2659,
          2029,
          92,
          3220,
          1517,
          922,
          789,
          593,
          504,
          439,
          1594,
          4401,
          3256,
          2778,
          2353,
          507,
          4125,
          2571,
          1363,
          1237,
          1209,
          1126,
          973,
          824,
          614,
          572,
          565,
          523,
          483,
          1573,
          1916,
          1853,
          1755,
          1741,
          3228,
          3114,
          2057,
          478,
          1757,
          1884,
          1821,
          5495,
          1363,
          957,
          824,
          1601,
          1727,
          3256,
          1713,
          2939,
          546,
          1366,
          365,
          953,
          1199,
          1552,
          1006,
          999,
          943,
          873,
          817,
          817,
          600,
          579,
          544,
          511,
          488,
          474,
          1706,
          1650,
          5881,
          1734,
          1664,
          2645,
          2407,
          631,
          556,
          512,
          1653,
          1632,
          1814,
          5190,
          2676,
          2244,
          2021,
          2021,
          1076,
          1027,
          980,
          859,
          635,
          509,
          488,
          236,
          1636,
          1874,
          1797,
          2645,
          2148,
          316,
          3313,
          1559,
          1496,
          1154,
          950,
          866,
          866,
          831,
          532,
          511,
          6224,
          6154,
          1804,
          3079,
          2519,
          952,
          1786,
          2564,
          837,
          992,
          964,
          558,
          532,
          1966,
          1839,
          3337,
          2871,
          2708,
          2134,
          2057,
          1651,
          518,
          1345,
          5954,
          1608,
          1398,
          1090,
          838,
          537,
          530,
          1699,
          1685,
          1980,
          1762,
          2540,
          5407,
          563,
          9888,
          4652,
          3322,
          2979,
          1488,
          1615,
          1545,
          1272,
          1083,
          936,
          532,
          495,
          138,
          1734,
          1692,
          1895,
          1797,
          1762,
          3408,
          2316,
          1896,
          1156,
          477,
          211,
          1908,
          2445,
          46,
          649,
          539,
          532,
          1923,
          1853,
          2155,
          5853,
          865,
          1566,
          1272,
          901,
          593,
          581,
          502,
          1937,
          4425,
          2071,
          2138,
          552,
          1566,
          1531,
          1216,
          901,
          8008,
          2393,
          2113,
          1594,
          512,
          2606,
          1423,
          2000,
          5080,
          552,
          3325,
          3226,
          1125,
          642,
          1440,
          1783,
          3331,
          5503,
          2337,
          2106,
          13,
          1555,
          638,
          598,
          3495,
          3289,
          1303,
          1111,
          1065,
          936,
          932,
          908,
          355,
          2680,
          1870,
          719,
          1842,
          2379,
          1160,
          2109,
          889,
          631,
          628,
          616,
          3326,
          361,
          2896,
          3233,
          3212,
          3023,
          2126,
          1651,
          6278,
          635,
          621,
          316,
          25,
          21,
          21,
          18,
          4759,
          3633,
          3387,
          3380,
          3289,
          467,
          3110,
          1769,
          27,
          19,
          19,
          1713,
          6409,
          6071,
          5802,
          4318,
          2466,
          2155,
          1048,
          950,
          915,
          795,
          623,
          609,
          600,
          26,
          2106,
          1895,
          5330,
          4771,
          4684,
          3813,
          3474,
          2906,
          2792,
          2141,
          981,
          974,
          663,
          19,
          19,
          1811,
          5188,
          2897,
          279,
          2561,
          2724,
          1506,
          1485,
          1156,
          589,
          1855,
          2942,
          1621,
          1069,
          950,
          630,
          593,
          19,
          2106,
          3689,
          3660,
          3044,
          2470,
          2449,
          1069,
          654,
          609,
          607,
          71,
          61,
          27,
          20,
          19,
          13,
          13,
          2078,
          1860,
          1846,
          2449,
          2239,
          1741,
          2137,
          9871,
          1902,
          3370,
          3336,
          3249,
          2883,
          2442,
          2361,
          1699,
          999,
          974,
          672,
          665,
          651,
          628,
          69,
          20,
          2008,
          1338,
          671,
          633,
          456,
          69,
          62,
          55,
          55,
          41,
          39,
          35,
          35,
          35,
          27,
          17,
          14,
          1904,
          1903,
          2916,
          2837,
          2375,
          2198,
          2557,
          644,
          40,
          40,
          32,
          28,
          21,
          14,
          16,
          11,
          1751,
          2134,
          10397,
          9923,
          4799,
          3275,
          2512,
          12,
          1149,
          706,
          654,
          386,
          69,
          62,
          62,
          62,
          49,
          41,
          41,
          30,
          30,
          20,
          20,
          7,
          106,
          2107,
          1952,
          8705,
          1446,
          1111,
          665,
          82,
          61,
          48,
          33,
          12,
          15,
          15,
          15,
          3299,
          2939,
          1492,
          1236,
          774,
          661,
          400,
          372,
          106,
          78,
          50,
          46,
          38,
          29,
          22,
          1870,
          1863,
          1814,
          3574,
          2263,
          2185,
          1240,
          1049,
          1035,
          986,
          806,
          769,
          53,
          2080,
          10552,
          3094,
          2912,
          2268,
          1671,
          1629,
          1447,
          1443,
          1356,
          1314,
          813,
          740,
          656,
          67,
          56,
          25,
          25,
          2171,
          1979,
          8632,
          4854,
          3942,
          2052,
          689,
          64,
          1559,
          1412,
          1384,
          745,
          130,
          117,
          67,
          57,
          46,
          46,
          39,
          39,
          32,
          33,
          25,
          2148,
          4847,
          6759,
          3430,
          1908,
          3324,
          2778,
          204,
          3795,
          299,
          1167,
          1013,
          144,
          81,
          39,
          39,
          25,
          25,
          1895,
          5258,
          3359,
          3341,
          2836,
          2589,
          2414,
          1783,
          1748,
          1244,
          1190,
          1192,
          1183,
          803,
          749,
          698,
          194,
          109,
          103,
          78,
          77,
          75,
          18,
          5,
          1909,
          2155,
          6766,
          5188,
          4694,
          4348,
          3606,
          3243,
          8096,
          5520,
          4128,
          2547,
          43,
          1982,
          3115
         ],
         "y0": " ",
         "yaxis": "y"
        }
       ],
       "layout": {
        "boxmode": "group",
        "legend": {
         "tracegroupgap": 0
        },
        "template": {
         "data": {
          "bar": [
           {
            "error_x": {
             "color": "#2a3f5f"
            },
            "error_y": {
             "color": "#2a3f5f"
            },
            "marker": {
             "line": {
              "color": "#E5ECF6",
              "width": 0.5
             },
             "pattern": {
              "fillmode": "overlay",
              "size": 10,
              "solidity": 0.2
             }
            },
            "type": "bar"
           }
          ],
          "barpolar": [
           {
            "marker": {
             "line": {
              "color": "#E5ECF6",
              "width": 0.5
             },
             "pattern": {
              "fillmode": "overlay",
              "size": 10,
              "solidity": 0.2
             }
            },
            "type": "barpolar"
           }
          ],
          "carpet": [
           {
            "aaxis": {
             "endlinecolor": "#2a3f5f",
             "gridcolor": "white",
             "linecolor": "white",
             "minorgridcolor": "white",
             "startlinecolor": "#2a3f5f"
            },
            "baxis": {
             "endlinecolor": "#2a3f5f",
             "gridcolor": "white",
             "linecolor": "white",
             "minorgridcolor": "white",
             "startlinecolor": "#2a3f5f"
            },
            "type": "carpet"
           }
          ],
          "choropleth": [
           {
            "colorbar": {
             "outlinewidth": 0,
             "ticks": ""
            },
            "type": "choropleth"
           }
          ],
          "contour": [
           {
            "colorbar": {
             "outlinewidth": 0,
             "ticks": ""
            },
            "colorscale": [
             [
              0,
              "#0d0887"
             ],
             [
              0.1111111111111111,
              "#46039f"
             ],
             [
              0.2222222222222222,
              "#7201a8"
             ],
             [
              0.3333333333333333,
              "#9c179e"
             ],
             [
              0.4444444444444444,
              "#bd3786"
             ],
             [
              0.5555555555555556,
              "#d8576b"
             ],
             [
              0.6666666666666666,
              "#ed7953"
             ],
             [
              0.7777777777777778,
              "#fb9f3a"
             ],
             [
              0.8888888888888888,
              "#fdca26"
             ],
             [
              1,
              "#f0f921"
             ]
            ],
            "type": "contour"
           }
          ],
          "contourcarpet": [
           {
            "colorbar": {
             "outlinewidth": 0,
             "ticks": ""
            },
            "type": "contourcarpet"
           }
          ],
          "heatmap": [
           {
            "colorbar": {
             "outlinewidth": 0,
             "ticks": ""
            },
            "colorscale": [
             [
              0,
              "#0d0887"
             ],
             [
              0.1111111111111111,
              "#46039f"
             ],
             [
              0.2222222222222222,
              "#7201a8"
             ],
             [
              0.3333333333333333,
              "#9c179e"
             ],
             [
              0.4444444444444444,
              "#bd3786"
             ],
             [
              0.5555555555555556,
              "#d8576b"
             ],
             [
              0.6666666666666666,
              "#ed7953"
             ],
             [
              0.7777777777777778,
              "#fb9f3a"
             ],
             [
              0.8888888888888888,
              "#fdca26"
             ],
             [
              1,
              "#f0f921"
             ]
            ],
            "type": "heatmap"
           }
          ],
          "heatmapgl": [
           {
            "colorbar": {
             "outlinewidth": 0,
             "ticks": ""
            },
            "colorscale": [
             [
              0,
              "#0d0887"
             ],
             [
              0.1111111111111111,
              "#46039f"
             ],
             [
              0.2222222222222222,
              "#7201a8"
             ],
             [
              0.3333333333333333,
              "#9c179e"
             ],
             [
              0.4444444444444444,
              "#bd3786"
             ],
             [
              0.5555555555555556,
              "#d8576b"
             ],
             [
              0.6666666666666666,
              "#ed7953"
             ],
             [
              0.7777777777777778,
              "#fb9f3a"
             ],
             [
              0.8888888888888888,
              "#fdca26"
             ],
             [
              1,
              "#f0f921"
             ]
            ],
            "type": "heatmapgl"
           }
          ],
          "histogram": [
           {
            "marker": {
             "pattern": {
              "fillmode": "overlay",
              "size": 10,
              "solidity": 0.2
             }
            },
            "type": "histogram"
           }
          ],
          "histogram2d": [
           {
            "colorbar": {
             "outlinewidth": 0,
             "ticks": ""
            },
            "colorscale": [
             [
              0,
              "#0d0887"
             ],
             [
              0.1111111111111111,
              "#46039f"
             ],
             [
              0.2222222222222222,
              "#7201a8"
             ],
             [
              0.3333333333333333,
              "#9c179e"
             ],
             [
              0.4444444444444444,
              "#bd3786"
             ],
             [
              0.5555555555555556,
              "#d8576b"
             ],
             [
              0.6666666666666666,
              "#ed7953"
             ],
             [
              0.7777777777777778,
              "#fb9f3a"
             ],
             [
              0.8888888888888888,
              "#fdca26"
             ],
             [
              1,
              "#f0f921"
             ]
            ],
            "type": "histogram2d"
           }
          ],
          "histogram2dcontour": [
           {
            "colorbar": {
             "outlinewidth": 0,
             "ticks": ""
            },
            "colorscale": [
             [
              0,
              "#0d0887"
             ],
             [
              0.1111111111111111,
              "#46039f"
             ],
             [
              0.2222222222222222,
              "#7201a8"
             ],
             [
              0.3333333333333333,
              "#9c179e"
             ],
             [
              0.4444444444444444,
              "#bd3786"
             ],
             [
              0.5555555555555556,
              "#d8576b"
             ],
             [
              0.6666666666666666,
              "#ed7953"
             ],
             [
              0.7777777777777778,
              "#fb9f3a"
             ],
             [
              0.8888888888888888,
              "#fdca26"
             ],
             [
              1,
              "#f0f921"
             ]
            ],
            "type": "histogram2dcontour"
           }
          ],
          "mesh3d": [
           {
            "colorbar": {
             "outlinewidth": 0,
             "ticks": ""
            },
            "type": "mesh3d"
           }
          ],
          "parcoords": [
           {
            "line": {
             "colorbar": {
              "outlinewidth": 0,
              "ticks": ""
             }
            },
            "type": "parcoords"
           }
          ],
          "pie": [
           {
            "automargin": true,
            "type": "pie"
           }
          ],
          "scatter": [
           {
            "fillpattern": {
             "fillmode": "overlay",
             "size": 10,
             "solidity": 0.2
            },
            "type": "scatter"
           }
          ],
          "scatter3d": [
           {
            "line": {
             "colorbar": {
              "outlinewidth": 0,
              "ticks": ""
             }
            },
            "marker": {
             "colorbar": {
              "outlinewidth": 0,
              "ticks": ""
             }
            },
            "type": "scatter3d"
           }
          ],
          "scattercarpet": [
           {
            "marker": {
             "colorbar": {
              "outlinewidth": 0,
              "ticks": ""
             }
            },
            "type": "scattercarpet"
           }
          ],
          "scattergeo": [
           {
            "marker": {
             "colorbar": {
              "outlinewidth": 0,
              "ticks": ""
             }
            },
            "type": "scattergeo"
           }
          ],
          "scattergl": [
           {
            "marker": {
             "colorbar": {
              "outlinewidth": 0,
              "ticks": ""
             }
            },
            "type": "scattergl"
           }
          ],
          "scattermapbox": [
           {
            "marker": {
             "colorbar": {
              "outlinewidth": 0,
              "ticks": ""
             }
            },
            "type": "scattermapbox"
           }
          ],
          "scatterpolar": [
           {
            "marker": {
             "colorbar": {
              "outlinewidth": 0,
              "ticks": ""
             }
            },
            "type": "scatterpolar"
           }
          ],
          "scatterpolargl": [
           {
            "marker": {
             "colorbar": {
              "outlinewidth": 0,
              "ticks": ""
             }
            },
            "type": "scatterpolargl"
           }
          ],
          "scatterternary": [
           {
            "marker": {
             "colorbar": {
              "outlinewidth": 0,
              "ticks": ""
             }
            },
            "type": "scatterternary"
           }
          ],
          "surface": [
           {
            "colorbar": {
             "outlinewidth": 0,
             "ticks": ""
            },
            "colorscale": [
             [
              0,
              "#0d0887"
             ],
             [
              0.1111111111111111,
              "#46039f"
             ],
             [
              0.2222222222222222,
              "#7201a8"
             ],
             [
              0.3333333333333333,
              "#9c179e"
             ],
             [
              0.4444444444444444,
              "#bd3786"
             ],
             [
              0.5555555555555556,
              "#d8576b"
             ],
             [
              0.6666666666666666,
              "#ed7953"
             ],
             [
              0.7777777777777778,
              "#fb9f3a"
             ],
             [
              0.8888888888888888,
              "#fdca26"
             ],
             [
              1,
              "#f0f921"
             ]
            ],
            "type": "surface"
           }
          ],
          "table": [
           {
            "cells": {
             "fill": {
              "color": "#EBF0F8"
             },
             "line": {
              "color": "white"
             }
            },
            "header": {
             "fill": {
              "color": "#C8D4E3"
             },
             "line": {
              "color": "white"
             }
            },
            "type": "table"
           }
          ]
         },
         "layout": {
          "annotationdefaults": {
           "arrowcolor": "#2a3f5f",
           "arrowhead": 0,
           "arrowwidth": 1
          },
          "autotypenumbers": "strict",
          "coloraxis": {
           "colorbar": {
            "outlinewidth": 0,
            "ticks": ""
           }
          },
          "colorscale": {
           "diverging": [
            [
             0,
             "#8e0152"
            ],
            [
             0.1,
             "#c51b7d"
            ],
            [
             0.2,
             "#de77ae"
            ],
            [
             0.3,
             "#f1b6da"
            ],
            [
             0.4,
             "#fde0ef"
            ],
            [
             0.5,
             "#f7f7f7"
            ],
            [
             0.6,
             "#e6f5d0"
            ],
            [
             0.7,
             "#b8e186"
            ],
            [
             0.8,
             "#7fbc41"
            ],
            [
             0.9,
             "#4d9221"
            ],
            [
             1,
             "#276419"
            ]
           ],
           "sequential": [
            [
             0,
             "#0d0887"
            ],
            [
             0.1111111111111111,
             "#46039f"
            ],
            [
             0.2222222222222222,
             "#7201a8"
            ],
            [
             0.3333333333333333,
             "#9c179e"
            ],
            [
             0.4444444444444444,
             "#bd3786"
            ],
            [
             0.5555555555555556,
             "#d8576b"
            ],
            [
             0.6666666666666666,
             "#ed7953"
            ],
            [
             0.7777777777777778,
             "#fb9f3a"
            ],
            [
             0.8888888888888888,
             "#fdca26"
            ],
            [
             1,
             "#f0f921"
            ]
           ],
           "sequentialminus": [
            [
             0,
             "#0d0887"
            ],
            [
             0.1111111111111111,
             "#46039f"
            ],
            [
             0.2222222222222222,
             "#7201a8"
            ],
            [
             0.3333333333333333,
             "#9c179e"
            ],
            [
             0.4444444444444444,
             "#bd3786"
            ],
            [
             0.5555555555555556,
             "#d8576b"
            ],
            [
             0.6666666666666666,
             "#ed7953"
            ],
            [
             0.7777777777777778,
             "#fb9f3a"
            ],
            [
             0.8888888888888888,
             "#fdca26"
            ],
            [
             1,
             "#f0f921"
            ]
           ]
          },
          "colorway": [
           "#636efa",
           "#EF553B",
           "#00cc96",
           "#ab63fa",
           "#FFA15A",
           "#19d3f3",
           "#FF6692",
           "#B6E880",
           "#FF97FF",
           "#FECB52"
          ],
          "font": {
           "color": "#2a3f5f"
          },
          "geo": {
           "bgcolor": "white",
           "lakecolor": "white",
           "landcolor": "#E5ECF6",
           "showlakes": true,
           "showland": true,
           "subunitcolor": "white"
          },
          "hoverlabel": {
           "align": "left"
          },
          "hovermode": "closest",
          "mapbox": {
           "style": "light"
          },
          "paper_bgcolor": "white",
          "plot_bgcolor": "#E5ECF6",
          "polar": {
           "angularaxis": {
            "gridcolor": "white",
            "linecolor": "white",
            "ticks": ""
           },
           "bgcolor": "#E5ECF6",
           "radialaxis": {
            "gridcolor": "white",
            "linecolor": "white",
            "ticks": ""
           }
          },
          "scene": {
           "xaxis": {
            "backgroundcolor": "#E5ECF6",
            "gridcolor": "white",
            "gridwidth": 2,
            "linecolor": "white",
            "showbackground": true,
            "ticks": "",
            "zerolinecolor": "white"
           },
           "yaxis": {
            "backgroundcolor": "#E5ECF6",
            "gridcolor": "white",
            "gridwidth": 2,
            "linecolor": "white",
            "showbackground": true,
            "ticks": "",
            "zerolinecolor": "white"
           },
           "zaxis": {
            "backgroundcolor": "#E5ECF6",
            "gridcolor": "white",
            "gridwidth": 2,
            "linecolor": "white",
            "showbackground": true,
            "ticks": "",
            "zerolinecolor": "white"
           }
          },
          "shapedefaults": {
           "line": {
            "color": "#2a3f5f"
           }
          },
          "ternary": {
           "aaxis": {
            "gridcolor": "white",
            "linecolor": "white",
            "ticks": ""
           },
           "baxis": {
            "gridcolor": "white",
            "linecolor": "white",
            "ticks": ""
           },
           "bgcolor": "#E5ECF6",
           "caxis": {
            "gridcolor": "white",
            "linecolor": "white",
            "ticks": ""
           }
          },
          "title": {
           "x": 0.05
          },
          "xaxis": {
           "automargin": true,
           "gridcolor": "white",
           "linecolor": "white",
           "ticks": "",
           "title": {
            "standoff": 15
           },
           "zerolinecolor": "white",
           "zerolinewidth": 2
          },
          "yaxis": {
           "automargin": true,
           "gridcolor": "white",
           "linecolor": "white",
           "ticks": "",
           "title": {
            "standoff": 15
           },
           "zerolinecolor": "white",
           "zerolinewidth": 2
          }
         }
        },
        "title": {
         "text": "BANDA vs. ANTIGÜEDAD"
        },
        "xaxis": {
         "anchor": "y",
         "domain": [
          0,
          1
         ],
         "title": {
          "text": "BANDA"
         }
        },
        "yaxis": {
         "anchor": "x",
         "domain": [
          0,
          1
         ],
         "title": {
          "text": "ANTIGÜEDAD"
         }
        }
       }
      },
      "text/html": [
       "<div>                            <div id=\"3f465cd2-f4ba-4d30-99c9-27d9230d8567\" class=\"plotly-graph-div\" style=\"height:525px; width:100%;\"></div>            <script type=\"text/javascript\">                require([\"plotly\"], function(Plotly) {                    window.PLOTLYENV=window.PLOTLYENV || {};                                    if (document.getElementById(\"3f465cd2-f4ba-4d30-99c9-27d9230d8567\")) {                    Plotly.newPlot(                        \"3f465cd2-f4ba-4d30-99c9-27d9230d8567\",                        [{\"alignmentgroup\":\"True\",\"hovertemplate\":\"BANDA=%{x}\\u003cbr\\u003eANTIGÜEDAD=%{y}\\u003cextra\\u003e\\u003c\\u002fextra\\u003e\",\"legendgroup\":\"\",\"marker\":{\"color\":\"#636efa\"},\"name\":\"\",\"notched\":false,\"offsetgroup\":\"\",\"orientation\":\"v\",\"showlegend\":false,\"x\":[\"E3\",\"DNO\",\"DNO\",\"DO\",\"DO\",\"DNO\",\"DO\",\"DO\",\"DNO\",\"DO\",\"DO\",\"DO\",\"DNO\",\"DNO\",\"DNO\",\"DO\",\"DO\",\"DO\",\"DO\",\"DO\",\"DO\",\"DO\",\"DNO\",\"E3\",\"DNO\",\"E4\",\"DO\",\"DO\",\"DO\",\"DNO\",\"DO\",\"DO\",\"DO\",\"DO\",\"DO\",\"DO\",\"DO\",\"DNO\",\"DNO\",\"DNO\",\"DNO\",\"DO\",\"DO\",\"DNO\",\"E3\",\"DO\",\"E4\",\"E3\",\"DO\",\"DNO\",\"DNO\",\"DO\",\"DO\",\"DO\",\"DO\",\"DO\",\"DNO\",\"DNO\",\"DO\",\"DO\",\"DO\",\"DO\",\"DO\",\"DO\",\"DO\",\"DO\",\"DO\",\"DO\",\"DO\",\"DO\",\"DO\",\"DO\",\"DNO\",\"DNO\",\"DO\",\"DNO\",\"DO\",\"E4\",\"DO\",\"DO\",\"DNO\",\"DNO\",\"DO\",\"DO\",\"DO\",\"DO\",\"DNO\",\"DO\",\"DO\",\"DO\",\"DO\",\"DO\",\"DNO\",\"DNO\",\"E3\",\"E4\",\"DNO\",\"DNO\",\"DO\",\"DNO\",\"DNO\",\"DO\",\"E4\",\"E3\",\"DO\",\"DNO\",\"DO\",\"DO\",\"DO\",\"DO\",\"DNO\",\"DO\",\"DNO\",\"DO\",\"DO\",\"DO\",\"DO\",\"DO\",\"DO\",\"DO\",\"DNO\",\"DNO\",\"DO\",\"DO\",\"DO\",\"DO\",\"DO\",\"DO\",\"DO\",\"DO\",\"DNO\",\"DNO\",\"DO\",\"DO\",\"DO\",\"DO\",\"DO\",\"DO\",\"E3\",\"DO\",\"DO\",\"DO\",\"DNO\",\"DO\",\"DO\",\"DO\",\"DO\",\"DNO\",\"DO\",\"DO\",\"DNO\",\"DO\",\"DO\",\"DNO\",\"DO\",\"DO\",\"DO\",\"DNO\",\"E3\",\"DNO\",\"DNO\",\"DO\",\"DO\",\"DO\",\"DO\",\"DNO\",\"DO\",\"DO\",\"DO\",\"DO\",\"E4\",\"DO\",\"DNO\",\"DO\",\"DO\",\"DO\",\"DO\",\"DO\",\"DO\",\"DO\",\"DNO\",\"DNO\",\"DO\",\"DO\",\"SL1\",\"DNO\",\"E3\",\"DNO\",\"DO\",\"DNO\",\"DO\",\"DO\",\"DO\",\"DNO\",\"E4\",\"DO\",\"DO\",\"DO\",\"DO\",\"DNO\",\"DO\",\"DO\",\"DO\",\"DO\",\"DO\",\"E4\",\"DO\",\"DO\",\"DO\",\"DO\",\"DO\",\"DNO\",\"DNO\",\"DO\",\"DO\",\"DO\",\"DO\",\"DO\",\"DO\",\"DO\",\"DO\",\"DO\",\"DO\",\"DO\",\"DNO\",\"DO\",\"DO\",\"DO\",\"DO\",\"DO\",\"DO\",\"DO\",\"DO\",\"DO\",\"DO\",\"DO\",\"DO\",\"DO\",\"DO\",\"DO\",\"DO\",\"DNO\",\"DO\",\"DNO\",\"DO\",\"DO\",\"DO\",\"DO\",\"DO\",\"DO\",\"DO\",\"E4\",\"DO\",\"DO\",\"DO\",\"DNO\",\"E3\",\"DO\",\"DO\",\"DO\",\"DO\",\"DO\",\"DO\",\"DO\",\"DNO\",\"DO\",\"DO\",\"DO\",\"DO\",\"DO\",\"DO\",\"DNO\",\"DNO\",\"DNO\",\"DO\",\"DO\",\"DO\",\"DO\",\"DO\",\"DO\",\"E3\",\"E4\",\"E3\",\"DNO\",\"SL1\",\"DNO\",\"DNO\",\"DO\",\"DO\",\"DO\",\"DO\",\"DO\",\"DO\",\"DO\",\"DO\",\"DO\",\"DNO\",\"DNO\",\"DO\",\"DO\",\"DO\",\"DO\",\"DO\",\"DO\",\"DNO\",\"E3\",\"E3\",\"DO\",\"DNO\",\"DO\",\"DO\",\"DNO\",\"DO\",\"DO\",\"DO\",\"DO\",\"DO\",\"DO\",\"DO\",\"DO\",\"DO\",\"DO\",\"DO\",\"DNO\",\"DO\",\"DO\",\"E3\",\"DO\",\"DO\",\"E4\",\"DNO\",\"DNO\",\"DO\",\"DO\",\"DO\",\"DO\",\"DO\",\"DO\",\"DO\",\"DO\",\"DO\",\"DO\",\"DO\",\"DO\",\"DO\",\"DO\",\"DO\",\"DO\",\"DO\",\"DO\",\"DO\",\"SL1\",\"DNO\",\"DO\",\"DO\",\"DO\",\"DO\",\"DO\",\"DO\",\"DO\",\"DO\",\"DO\",\"DO\",\"DO\",\"DO\",\"E3\",\"E3\",\"DO\",\"DNO\",\"DO\",\"DO\",\"DO\",\"DO\",\"DO\",\"DO\",\"DO\",\"DO\",\"DO\",\"DO\",\"DO\",\"DO\",\"DO\",\"E3\",\"DNO\",\"DO\",\"DO\",\"DNO\",\"DNO\",\"DNO\",\"DO\",\"DO\",\"DO\",\"DO\",\"DO\",\"DO\",\"DO\",\"DO\",\"DO\",\"DO\",\"E3\",\"DO\",\"DO\",\"DO\",\"DNO\",\"DO\",\"DO\",\"DNO\",\"DNO\",\"DO\",\"DO\",\"DO\",\"DNO\",\"DO\",\"DO\",\"DO\",\"DNO\",\"DO\",\"DO\",\"DO\",\"DO\",\"DNO\",\"DO\",\"DO\",\"DO\",\"DO\",\"DO\",\"DO\",\"DNO\",\"DO\",\"DO\",\"DO\",\"DO\",\"DO\",\"DO\",\"DO\",\"DNO\",\"DNO\",\"E4\",\"SL1\",\"DNO\",\"DO\",\"DNO\",\"DO\",\"DO\",\"DO\",\"DO\",\"DO\",\"DO\",\"DNO\",\"DO\",\"DNO\",\"E3\",\"DO\",null,\"DO\",\"DO\",\"DO\",\"E4\",\"DNO\",\"DO\",\"DO\",\"DO\",\"DO\",\"DO\",\"DO\",\"DO\",\"DO\",\"DO\",\"DO\",\"DO\",\"DNO\",\"DO\",\"DNO\",\"DO\",\"DO\",\"DO\",\"DNO\",\"DO\",\"DO\",\"DO\",\"DNO\",\"SL1\",\"E4\",\"DO\",\"DO\",\"DO\",\"DO\",\"DO\",\"DNO\",\"DO\",\"DO\",\"DNO\",\"E3\",\"DO\",\"DO\",\"DO\",\"DO\",\"DO\",\"DNO\",\"DO\",\"E3\",\"E4\",\"DO\",\"DO\",\"E3\",\"DO\",\"DO\",\"DO\",\"E3\",\"DO\",\"DO\",\"DO\",\"DO\",\"DO\",\"DO\",\"DO\",\"DO\",\"SL1\",\"E4\",\"DO\",\"DO\",\"DO\",\"DO\",\"DO\",\"DO\",\"DO\",\"DNO\",\"DO\",\"DO\",\"DO\",\"DO\",\"DO\",\"DNO\",\"DO\",\"DO\",\"DO\",\"DO\",\"DNO\",\"DO\",\"DO\",\"DO\",\"DNO\",\"DNO\",\"DNO\",\"DNO\",\"DO\",\"DNO\",\"DNO\",\"E3\",\"DNO\",\"DNO\",\"DNO\",\"E3\",\"E3\",\"DO\",\"DO\",\"DNO\",\"DO\",\"DO\",\"DNO\",\"DNO\",\"DO\",\"DO\",\"DNO\",\"DO\",\"DO\",\"DNO\",\"DNO\",\"DO\",\"DO\",\"DO\",\"DO\",\"DO\",\"DNO\",\"DO\",\"DO\",\"DO\",\"DO\",\"DO\",\"DNO\",\"DO\",\"DNO\",\"DO\",\"DNO\",\"DO\",\"DNO\",\"E3\",\"DO\",\"DNO\",\"E3\",\"DO\",\"DO\",\"DNO\",\"DO\",\"E3\",\"DO\",\"DO\",\"DNO\",\"DO\",\"DO\",\"DO\",\"DO\",\"SL1\",\"DO\",\"DO\",\"DO\",\"E3\",\"DO\",\"DO\",\"DO\",\"DO\",\"DO\",\"DNO\",\"DNO\",\"DO\",\"DO\",\"DO\",\"E4\",\"E3\",\"DO\",\"DO\",\"DO\",\"DO\",\"DO\",\"DO\",\"DO\",\"DO\",\"DNO\",\"DO\",\"DNO\",\"DNO\",\"DNO\",\"DO\",\"E3\",\"DNO\",\"DO\",\"DO\",\"DNO\",\"DO\",\"DO\",\"DO\",\"DO\",\"DO\",\"DO\",\"DNO\",\"DO\",\"DNO\",\"DO\",\"DNO\",\"DO\",\"E3\",\"DO\",\"DO\",\"DNO\",\"DNO\",\"E3\",\"E3\",\"E3\",\"E4\",\"E4\",\"E4\",\"DNO\",\"DO\",\"DO\",\"DO\",\"DO\",\"DO\",\"DNO\",\"DO\",\"E3\",\"DO\",\"DO\",\"DO\",\"DO\",\"DNO\",\"DO\",\"DO\",\"DO\",\"DO\",\"DO\",\"DO\",\"DO\",\"DNO\",\"DO\",\"DO\",\"E3\",\"SL1\",\"E3\",\"DO\",\"DNO\",\"DO\",\"DO\",\"DO\",\"DO\",\"DO\",\"DO\",\"DO\",\"DNO\",\"DNO\",\"DO\",\"DNO\",\"DNO\",\"DNO\",\"DO\",\"DO\",\"DNO\",\"DO\",\"DO\",\"DO\",\"DO\",\"E3\",\"DO\",\"DO\",\"E3\",\"E4\",\"DO\",\"DO\",\"DO\",\"DO\",\"DO\",\"DO\",\"DNO\",\"DO\",\"DO\",\"DO\",\"DO\",\"DNO\",\"DNO\",\"DO\",\"DO\",\"E4\",\"E3\",\"DO\",\"DO\",\"DO\",\"DO\",\"DO\",\"DNO\",\"DO\",\"DO\",\"DO\",\"DO\",\"DO\",\"DNO\",\"DNO\",\"DO\",\"DNO\",\"E3\",\"DO\",\"DO\",\"DO\",\"DNO\",\"DNO\",\"DO\",\"DO\",\"DNO\",\"DNO\",\"DNO\",\"DNO\",\"E3\",\"E3\",\"DO\",\"DNO\",\"DO\",\"DNO\",\"DO\",\"DO\",\"DO\",\"DO\",\"DNO\",\"DNO\",\"DNO\",\"DO\",\"DO\",\"E3\",\"E4\",\"DO\",\"DO\",\"DO\",\"DO\",\"DO\",\"DO\",\"DO\",\"DNO\",\"DO\",\"DO\",\"DNO\",\"DO\",\"DO\",\"DO\",\"DO\",\"DNO\",\"DNO\",\"DO\",\"DO\",\"DO\",\"DNO\",\"E3\",\"DNO\",\"DO\",\"DO\",\"DNO\",\"DNO\",\"DNO\",\"DNO\",\"E3\",\"SL1\",\"DNO\",\"DNO\",\"DO\",\"E4\",\"DO\",\"DO\",\"DO\",\"DO\",\"DO\",\"DNO\",\"DO\",\"E3\",\"E4\",\"DO\",\"E3\",\"E4\",\"E3\",\"DNO\",\"DO\",\"DNO\",\"DO\",\"DNO\",\"DNO\",\"DO\",\"DNO\",\"DNO\",\"DO\",\"E4\",\"DNO\",\"DO\",\"DO\",\"E3\",\"E3\",\"E3\",\"DO\",\"DNO\",\"DNO\",\"DNO\",\"DNO\",\"DNO\",\"DNO\",\"E4\",\"DO\",\"DO\",\"DO\",\"DO\",\"DO\",\"DO\",\"DO\",\"DO\",\"DNO\",\"DNO\",\"DNO\",\"DNO\",\"DO\",\"E3\",\"DO\",\"DO\",\"DO\",\"DO\",\"DO\",\"DO\",\"DNO\",\"DNO\",\"DO\",\"DNO\",\"DNO\",\"DO\",\"DNO\",\"DO\",\"DO\",\"DO\",\"DO\",\"DNO\",\"DNO\",\"DNO\",\"DO\",\"E3\",\"E4\",\"E4\",\"DNO\",\"DO\",\"DO\",\"DO\",\"DNO\",\"DNO\",\"DO\",\"DO\",\"DNO\",\"DO\",\"DNO\",\"E3\",\"DO\",\"E3\",\"DNO\",\"DO\",\"DO\",\"DO\",\"DO\",\"DO\",\"DO\",\"DO\",\"DO\",\"DO\",\"DO\",\"DO\",\"DO\",\"DNO\",\"DO\",\"DO\",\"DO\",\"DNO\",\"DO\",\"DO\",\"E4\",\"E3\",\"E4\",\"E3\",\"E3\",\"DNO\",\"E3\",\"E3\",\"SL1\",\"DNO\",\"DO\",\"DNO\",\"DO\",\"DO\",\"DO\",\"DNO\",\"DO\",\"DO\",\"DNO\",\"DNO\",\"DO\",\"DNO\",\"DNO\",\"DO\",\"DNO\",\"E3\",\"DO\",\"DO\",\"DNO\",\"DNO\",\"DO\",\"DNO\",\"DNO\",\"DO\",\"DO\",\"DO\",\"DNO\",\"DO\",\"DO\",\"DNO\",\"DO\",\"E3\",\"DO\",\"DO\",\"DO\",\"DO\",\"DO\",\"DO\",\"DO\",\"DO\",\"DNO\",\"DNO\",\"DNO\",\"DO\",\"DO\",\"DO\",\"DO\",\"E3\",\"SL1\",\"DNO\",\"DNO\",\"DO\",\"DO\",\"DO\",\"DO\",\"DNO\",\"DO\",\"DO\",\"DNO\",\"DNO\",\"E3\",\"DO\",\"E4\",\"DO\",\"E4\",\"E4\",\"E3\",\"DNO\",\"DO\",\"DO\",\"DNO\",\"DO\",\"DO\",\"DO\",\"DNO\",\"DO\",\"DO\",\"DNO\",\"DO\",\"DO\",\"DNO\",\"DO\",\"DNO\",\"E4\",\"DNO\",\"E3\",\"E4\",\"E3\",\"E3\",\"DO\",\"DO\",\"DO\",\"DNO\",\"DNO\",\"DO\",\"DNO\",\"DO\",\"DO\",\"DO\",\"DO\",\"DNO\",\"DNO\",\"DO\",\"DO\",\"DNO\",\"DNO\",\"E3\",\"DO\",\"DNO\",\"DO\",\"DNO\",\"DO\",\"DNO\",\"DO\",\"DO\",\"DNO\",\"DNO\",\"E3\",\"E3\",\"E3\",\"E3\",\"DO\",\"E3\",\"DNO\",\"DO\",\"DO\",\"DNO\",\"DNO\",\"DO\",\"DNO\",\"DO\",\"DO\",\"DO\",\"DNO\",\"DNO\",\"DO\",\"E3\",\"DNO\",\"DNO\",\"DO\",\"DNO\",\"DNO\",\"DO\",\"DO\",\"DNO\",\"DNO\",\"DO\",\"DNO\",\"DNO\",\"DNO\",\"DNO\",\"DO\",\"DO\",\"DO\",\"DO\",\"DO\",\"DNO\",\"E3\",\"DNO\",\"DO\",\"DO\",\"E3\",\"DNO\",\"DO\",\"DNO\",\"DO\",\"DO\",\"DNO\",\"DO\",\"DO\",\"DO\",\"DO\",\"DNO\",\"DO\",\"DNO\",\"DO\",\"DNO\",\"DNO\",\"DO\",\"DNO\",\"DO\",\"DO\",\"DO\",\"DO\",\"E3\",\"DNO\",\"DO\",\"DNO\",\"SL1\",\"DO\",\"DO\",\"DO\",\"DO\",\"E3\",\"DO\",\"DO\",\"DO\",\"DO\",\"DO\",\"DNO\",\"DNO\",\"DNO\",\"DO\",\"E4\",\"DNO\",\"DNO\",\"DO\",\"DO\",\"DO\",\"DNO\",\"DNO\",\"DO\",\"DO\",\"DO\",\"DNO\",\"DO\",\"E4\",\"DNO\",\"E3\",\"DNO\",\"DNO\",\"DO\",\"DNO\",\"E3\",\"DNO\",\"DNO\",\"DO\",\"DNO\",\"DO\",\"DO\",\"DNO\",\"DO\",\"DNO\",\"DNO\",\"DO\",\"DNO\",\"DO\",\"DO\",\"DO\",\"DO\",\"DO\",\"DO\",\"DO\",\"DO\",\"DO\",\"DNO\",\"DO\",\"DO\",\"DO\",\"DO\",\"DO\",\"DO\",\"DNO\",\"DO\",\"DNO\",\"DNO\",\"DO\",\"E3\",\"E4\",\"DO\",\"DNO\",\"DO\",\"E4\",\"DNO\",\"DO\",\"DO\",\"DO\",\"DNO\",\"DO\",\"DO\",\"E3\",\"DO\",\"DNO\",\"DNO\",\"DO\",\"DO\",\"E3\",\"DO\",\"DO\",\"DO\",\"DO\",\"DO\",\"DO\",\"DO\",\"DO\",\"DO\",\"DO\",\"DO\",\"DO\",\"DNO\",\"DO\",\"SL1\",\"DNO\",\"E4\",\"DO\",\"E3\",\"DO\",\"DO\",\"DO\",\"DO\",\"DO\",\"DO\",\"DO\",\"DO\",\"DO\",\"DO\",\"DO\",\"DNO\",\"DO\",\"DNO\",\"DNO\",\"DNO\",\"DO\",\"DNO\",\"DO\",\"DO\",\"E3\",\"DO\",\"DO\",\"DO\",\"DO\",\"DO\",\"DO\",\"DO\",\"DO\",\"DO\",\"DO\",\"DO\",\"DO\",\"DO\",\"DNO\",\"DNO\",\"DNO\",\"E3\",\"DO\",\"DO\",\"DO\",\"DO\",\"DO\",\"DO\",\"DO\",\"DO\",\"DO\",\"DO\",\"DNO\",\"DNO\",\"DNO\",\"DO\",\"DO\",\"DO\",\"DNO\",\"E4\",\"DO\",\"DO\",\"DO\",\"DO\",\"DO\",\"DO\",\"DO\",\"DNO\",\"E4\",\"DO\",\"DNO\",\"DNO\",\"E3\",\"DO\",\"DO\",\"DO\",\"DO\",\"E3\",\"DO\",\"DO\",\"DO\",\"DO\",\"DNO\",\"DO\",\"DO\",\"DO\",\"DNO\",\"DO\",\"DNO\",\"DNO\",\"DNO\",\"DNO\",\"DO\",\"DO\",\"DO\",\"DO\",\"DO\",\"DO\",\"DO\",\"DNO\",\"E3\",\"DO\",\"E3\",\"E4\",\"DO\",\"DO\",\"DO\",\"DNO\",\"DO\",\"DO\",\"DO\",\"DO\",\"DO\",\"DO\",\"DO\",\"DO\",\"DO\",\"DO\",\"DO\",\"DO\",\"DO\",\"DO\",\"DO\",\"DNO\",\"DNO\",\"DO\",\"DNO\",\"DO\",\"E4\",\"E4\",\"E3\",\"DO\",\"DO\",\"DO\",\"DO\",\"DO\",\"DO\",\"DO\",\"DO\",\"DO\",\"DO\",\"DNO\",\"DNO\",\"DO\",\"DNO\",\"DO\",\"DNO\",\"DO\",\"DO\",\"DNO\",\"DO\",\"DO\",\"DO\",\"DNO\",\"DO\",\"DNO\",\"DO\",\"DNO\",\"DO\",\"DO\",\"DNO\",\"DO\",\"DNO\",\"DNO\",\"DNO\",\"DNO\",\"DNO\",\"DNO\",\"DNO\",\"DO\",\"E4\",\"DNO\",\"DO\",\"E4\",\"DNO\",\"DNO\",\"DNO\",\"E3\"],\"x0\":\" \",\"xaxis\":\"x\",\"y\":[1656,1993,1223,61,2133,1580,1090,747,1034,1083,84,2498,26,1587,1440,146,1217,818,76,48,118,1582,22,589,2004,4493,32,95,1384,1216,705,705,152,118,99,99,40,26,6278,3466,2829,2260,34,1527,6199,169,6087,3187,46,25,46,831,782,145,131,61,2049,2477,76,1064,3334,81,39,39,39,132,1300,1076,782,691,145,68,3079,2267,1895,7,1870,2615,144,88,5628,1218,145,1979,120,103,4016,68,1860,173,124,76,1373,638,1929,2424,2494,1978,1202,54,2175,2820,3090,1530,1625,3497,130,25,1510,166,134,75,26,2042,75,27,21,21,1219,6241,10003,698,26,1489,194,180,110,26,19,41,729,498,32,18,1643,1223,831,89,3011,33,1881,2189,2049,2007,145,225,64,1975,179,39,96,19,19,691,180,155,117,84,1604,1639,95,25,110,56,33,2932,159,103,97,34,3651,799,110,173,75,70,70,40,12,2253,2056,3695,2372,82,4092,3075,2502,2400,1566,96,77,70,61,2953,6227,130,109,102,88,40,215,96,75,33,810,4609,159,89,82,47,33,2140,547,6220,1559,1545,901,243,138,131,124,47,26,19,2281,2224,203,137,130,775,243,173,173,152,138,103,68,3226,40,230,131,138,82,47,82,89,211,96,180,180,180,203,98,4988,214,1335,1951,96,215,110,83,891,127,240,2977,127,102,46,250,2778,1258,2021,2344,2365,957,1531,1202,194,138,131,1366,997,323,134,1954,5478,4704,137,1160,2133,103,96,61,1643,54,48,2302,2084,264,251,145,133,3093,61,2150,2656,2474,2769,1368,54,2329,6987,133,3669,110,68,222,138,75,2974,2400,103,1314,3429,133,1344,2268,2038,88,3612,2658,1846,187,180,152,2224,4437,2105,110,183,165,292,278,278,257,152,75,131,13,13,14,5513,3937,1769,1398,894,285,161,124,5997,1398,924,21,3152,3019,961,1718,172,2855,1685,1195,866,341,278,201,187,166,138,1993,2168,3002,292,1975,428,6535,6458,3624,1601,1426,992,910,215,194,180,159,152,41,41,127,6400,181,39,2392,2742,1384,999,952,341,201,173,138,82,26,26,3184,2498,299,299,243,194,68,26,2014,5832,2680,27,27,3187,323,3670,1796,137,25,117,298,6584,2192,2719,8132,2607,25,1615,1293,327,327,152,103,61,19,34,1607,603,246,218,43,36,22,6395,4552,60,1587,1475,348,61,61,47,3674,2743,1387,162,2021,999,852,376,379,264,243,217,74,68,40,4054,3426,1737,1671,323,224,201,165,148,78,3067,2079,1727,1321,876,369,362,165,84,2115,2101,5019,5104,1787,1008,348,306,274,173,173,60,40,32,33,35,18,4029,3166,2928,1454,390,411,292,188,47,39,39,3757,2988,1475,1011,327,316,263,222,204,173,75,68,68,19,2413,2273,6234,4225,3721,3721,1980,2998,2515,2021,1478,1130,362,229,145,109,96,47,2210,81,376,306,75,26,3128,2827,20,1310,344,316,85,2991,2991,271,1104,82,26,2477,990,372,246,225,113,3952,3833,3026,158,180,131,40,2224,2540,813,1874,369,243,131,19,18,3753,3029,1055,89,26,422,342,2630,1083,859,754,1531,2960,1364,834,351,1681,1509,5570,684,425,413,392,369,362,286,1447,1826,1783,3107,2183,783,1289,395,5933,1934,5861,1027,915,810,705,404,341,1783,1734,5300,1594,2640,855,1793,362,719,4171,2008,1166,897,3112,2993,2949,1424,1440,915,873,831,439,425,376,10376,900,834,5135,1258,1132,978,789,399,376,1594,1545,1671,1650,2204,461,1275,309,4309,2403,2422,1454,1069,852,824,404,385,1762,1657,3009,2358,1594,1317,480,2924,1468,1419,810,441,439,1671,714,1481,855,395,1010,6342,1217,944,832,776,748,405,1546,1855,4053,3164,3128,2693,2247,2100,1946,64,2271,883,956,454,1649,1412,1146,845,455,455,1699,3016,2442,2428,2246,1448,316,911,2564,1461,1293,915,488,481,313,1608,1917,6336,1324,1058,1181,922,908,831,789,775,432,1769,4219,3214,3086,433,1288,6162,2602,3178,2966,1188,880,845,474,448,2225,489,2308,1314,1307,901,894,441,418,404,1545,915,1727,3828,6114,1223,915,1910,3193,3051,2974,2281,1478,4137,582,414,5919,2937,1432,956,1937,852,1692,2225,1000,2730,3867,1660,2942,2678,4732,490,467,1650,1966,6523,5900,2624,2610,2596,2008,2106,1464,1142,2760,1457,1366,3684,517,1055,4214,2437,2834,2659,2029,92,3220,1517,922,789,593,504,439,1594,4401,3256,2778,2353,507,4125,2571,1363,1237,1209,1126,973,824,614,572,565,523,483,1573,1916,1853,1755,1741,3228,3114,2057,478,1757,1884,1821,5495,1363,957,824,1601,1727,3256,1713,2939,546,1366,365,953,1199,1552,1006,999,943,873,817,817,600,579,544,511,488,474,1706,1650,5881,1734,1664,2645,2407,631,556,512,1653,1632,1814,5190,2676,2244,2021,2021,1076,1027,980,859,635,509,488,236,1636,1874,1797,2645,2148,316,3313,1559,1496,1154,950,866,866,831,532,511,6224,6154,1804,3079,2519,952,1786,2564,837,992,964,558,532,1966,1839,3337,2871,2708,2134,2057,1651,518,1345,5954,1608,1398,1090,838,537,530,1699,1685,1980,1762,2540,5407,563,9888,4652,3322,2979,1488,1615,1545,1272,1083,936,532,495,138,1734,1692,1895,1797,1762,3408,2316,1896,1156,477,211,1908,2445,46,649,539,532,1923,1853,2155,5853,865,1566,1272,901,593,581,502,1937,4425,2071,2138,552,1566,1531,1216,901,8008,2393,2113,1594,512,2606,1423,2000,5080,552,3325,3226,1125,642,1440,1783,3331,5503,2337,2106,13,1555,638,598,3495,3289,1303,1111,1065,936,932,908,355,2680,1870,719,1842,2379,1160,2109,889,631,628,616,3326,361,2896,3233,3212,3023,2126,1651,6278,635,621,316,25,21,21,18,4759,3633,3387,3380,3289,467,3110,1769,27,19,19,1713,6409,6071,5802,4318,2466,2155,1048,950,915,795,623,609,600,26,2106,1895,5330,4771,4684,3813,3474,2906,2792,2141,981,974,663,19,19,1811,5188,2897,279,2561,2724,1506,1485,1156,589,1855,2942,1621,1069,950,630,593,19,2106,3689,3660,3044,2470,2449,1069,654,609,607,71,61,27,20,19,13,13,2078,1860,1846,2449,2239,1741,2137,9871,1902,3370,3336,3249,2883,2442,2361,1699,999,974,672,665,651,628,69,20,2008,1338,671,633,456,69,62,55,55,41,39,35,35,35,27,17,14,1904,1903,2916,2837,2375,2198,2557,644,40,40,32,28,21,14,16,11,1751,2134,10397,9923,4799,3275,2512,12,1149,706,654,386,69,62,62,62,49,41,41,30,30,20,20,7,106,2107,1952,8705,1446,1111,665,82,61,48,33,12,15,15,15,3299,2939,1492,1236,774,661,400,372,106,78,50,46,38,29,22,1870,1863,1814,3574,2263,2185,1240,1049,1035,986,806,769,53,2080,10552,3094,2912,2268,1671,1629,1447,1443,1356,1314,813,740,656,67,56,25,25,2171,1979,8632,4854,3942,2052,689,64,1559,1412,1384,745,130,117,67,57,46,46,39,39,32,33,25,2148,4847,6759,3430,1908,3324,2778,204,3795,299,1167,1013,144,81,39,39,25,25,1895,5258,3359,3341,2836,2589,2414,1783,1748,1244,1190,1192,1183,803,749,698,194,109,103,78,77,75,18,5,1909,2155,6766,5188,4694,4348,3606,3243,8096,5520,4128,2547,43,1982,3115],\"y0\":\" \",\"yaxis\":\"y\",\"type\":\"box\"}],                        {\"template\":{\"data\":{\"histogram2dcontour\":[{\"type\":\"histogram2dcontour\",\"colorbar\":{\"outlinewidth\":0,\"ticks\":\"\"},\"colorscale\":[[0.0,\"#0d0887\"],[0.1111111111111111,\"#46039f\"],[0.2222222222222222,\"#7201a8\"],[0.3333333333333333,\"#9c179e\"],[0.4444444444444444,\"#bd3786\"],[0.5555555555555556,\"#d8576b\"],[0.6666666666666666,\"#ed7953\"],[0.7777777777777778,\"#fb9f3a\"],[0.8888888888888888,\"#fdca26\"],[1.0,\"#f0f921\"]]}],\"choropleth\":[{\"type\":\"choropleth\",\"colorbar\":{\"outlinewidth\":0,\"ticks\":\"\"}}],\"histogram2d\":[{\"type\":\"histogram2d\",\"colorbar\":{\"outlinewidth\":0,\"ticks\":\"\"},\"colorscale\":[[0.0,\"#0d0887\"],[0.1111111111111111,\"#46039f\"],[0.2222222222222222,\"#7201a8\"],[0.3333333333333333,\"#9c179e\"],[0.4444444444444444,\"#bd3786\"],[0.5555555555555556,\"#d8576b\"],[0.6666666666666666,\"#ed7953\"],[0.7777777777777778,\"#fb9f3a\"],[0.8888888888888888,\"#fdca26\"],[1.0,\"#f0f921\"]]}],\"heatmap\":[{\"type\":\"heatmap\",\"colorbar\":{\"outlinewidth\":0,\"ticks\":\"\"},\"colorscale\":[[0.0,\"#0d0887\"],[0.1111111111111111,\"#46039f\"],[0.2222222222222222,\"#7201a8\"],[0.3333333333333333,\"#9c179e\"],[0.4444444444444444,\"#bd3786\"],[0.5555555555555556,\"#d8576b\"],[0.6666666666666666,\"#ed7953\"],[0.7777777777777778,\"#fb9f3a\"],[0.8888888888888888,\"#fdca26\"],[1.0,\"#f0f921\"]]}],\"heatmapgl\":[{\"type\":\"heatmapgl\",\"colorbar\":{\"outlinewidth\":0,\"ticks\":\"\"},\"colorscale\":[[0.0,\"#0d0887\"],[0.1111111111111111,\"#46039f\"],[0.2222222222222222,\"#7201a8\"],[0.3333333333333333,\"#9c179e\"],[0.4444444444444444,\"#bd3786\"],[0.5555555555555556,\"#d8576b\"],[0.6666666666666666,\"#ed7953\"],[0.7777777777777778,\"#fb9f3a\"],[0.8888888888888888,\"#fdca26\"],[1.0,\"#f0f921\"]]}],\"contourcarpet\":[{\"type\":\"contourcarpet\",\"colorbar\":{\"outlinewidth\":0,\"ticks\":\"\"}}],\"contour\":[{\"type\":\"contour\",\"colorbar\":{\"outlinewidth\":0,\"ticks\":\"\"},\"colorscale\":[[0.0,\"#0d0887\"],[0.1111111111111111,\"#46039f\"],[0.2222222222222222,\"#7201a8\"],[0.3333333333333333,\"#9c179e\"],[0.4444444444444444,\"#bd3786\"],[0.5555555555555556,\"#d8576b\"],[0.6666666666666666,\"#ed7953\"],[0.7777777777777778,\"#fb9f3a\"],[0.8888888888888888,\"#fdca26\"],[1.0,\"#f0f921\"]]}],\"surface\":[{\"type\":\"surface\",\"colorbar\":{\"outlinewidth\":0,\"ticks\":\"\"},\"colorscale\":[[0.0,\"#0d0887\"],[0.1111111111111111,\"#46039f\"],[0.2222222222222222,\"#7201a8\"],[0.3333333333333333,\"#9c179e\"],[0.4444444444444444,\"#bd3786\"],[0.5555555555555556,\"#d8576b\"],[0.6666666666666666,\"#ed7953\"],[0.7777777777777778,\"#fb9f3a\"],[0.8888888888888888,\"#fdca26\"],[1.0,\"#f0f921\"]]}],\"mesh3d\":[{\"type\":\"mesh3d\",\"colorbar\":{\"outlinewidth\":0,\"ticks\":\"\"}}],\"scatter\":[{\"fillpattern\":{\"fillmode\":\"overlay\",\"size\":10,\"solidity\":0.2},\"type\":\"scatter\"}],\"parcoords\":[{\"type\":\"parcoords\",\"line\":{\"colorbar\":{\"outlinewidth\":0,\"ticks\":\"\"}}}],\"scatterpolargl\":[{\"type\":\"scatterpolargl\",\"marker\":{\"colorbar\":{\"outlinewidth\":0,\"ticks\":\"\"}}}],\"bar\":[{\"error_x\":{\"color\":\"#2a3f5f\"},\"error_y\":{\"color\":\"#2a3f5f\"},\"marker\":{\"line\":{\"color\":\"#E5ECF6\",\"width\":0.5},\"pattern\":{\"fillmode\":\"overlay\",\"size\":10,\"solidity\":0.2}},\"type\":\"bar\"}],\"scattergeo\":[{\"type\":\"scattergeo\",\"marker\":{\"colorbar\":{\"outlinewidth\":0,\"ticks\":\"\"}}}],\"scatterpolar\":[{\"type\":\"scatterpolar\",\"marker\":{\"colorbar\":{\"outlinewidth\":0,\"ticks\":\"\"}}}],\"histogram\":[{\"marker\":{\"pattern\":{\"fillmode\":\"overlay\",\"size\":10,\"solidity\":0.2}},\"type\":\"histogram\"}],\"scattergl\":[{\"type\":\"scattergl\",\"marker\":{\"colorbar\":{\"outlinewidth\":0,\"ticks\":\"\"}}}],\"scatter3d\":[{\"type\":\"scatter3d\",\"line\":{\"colorbar\":{\"outlinewidth\":0,\"ticks\":\"\"}},\"marker\":{\"colorbar\":{\"outlinewidth\":0,\"ticks\":\"\"}}}],\"scattermapbox\":[{\"type\":\"scattermapbox\",\"marker\":{\"colorbar\":{\"outlinewidth\":0,\"ticks\":\"\"}}}],\"scatterternary\":[{\"type\":\"scatterternary\",\"marker\":{\"colorbar\":{\"outlinewidth\":0,\"ticks\":\"\"}}}],\"scattercarpet\":[{\"type\":\"scattercarpet\",\"marker\":{\"colorbar\":{\"outlinewidth\":0,\"ticks\":\"\"}}}],\"carpet\":[{\"aaxis\":{\"endlinecolor\":\"#2a3f5f\",\"gridcolor\":\"white\",\"linecolor\":\"white\",\"minorgridcolor\":\"white\",\"startlinecolor\":\"#2a3f5f\"},\"baxis\":{\"endlinecolor\":\"#2a3f5f\",\"gridcolor\":\"white\",\"linecolor\":\"white\",\"minorgridcolor\":\"white\",\"startlinecolor\":\"#2a3f5f\"},\"type\":\"carpet\"}],\"table\":[{\"cells\":{\"fill\":{\"color\":\"#EBF0F8\"},\"line\":{\"color\":\"white\"}},\"header\":{\"fill\":{\"color\":\"#C8D4E3\"},\"line\":{\"color\":\"white\"}},\"type\":\"table\"}],\"barpolar\":[{\"marker\":{\"line\":{\"color\":\"#E5ECF6\",\"width\":0.5},\"pattern\":{\"fillmode\":\"overlay\",\"size\":10,\"solidity\":0.2}},\"type\":\"barpolar\"}],\"pie\":[{\"automargin\":true,\"type\":\"pie\"}]},\"layout\":{\"autotypenumbers\":\"strict\",\"colorway\":[\"#636efa\",\"#EF553B\",\"#00cc96\",\"#ab63fa\",\"#FFA15A\",\"#19d3f3\",\"#FF6692\",\"#B6E880\",\"#FF97FF\",\"#FECB52\"],\"font\":{\"color\":\"#2a3f5f\"},\"hovermode\":\"closest\",\"hoverlabel\":{\"align\":\"left\"},\"paper_bgcolor\":\"white\",\"plot_bgcolor\":\"#E5ECF6\",\"polar\":{\"bgcolor\":\"#E5ECF6\",\"angularaxis\":{\"gridcolor\":\"white\",\"linecolor\":\"white\",\"ticks\":\"\"},\"radialaxis\":{\"gridcolor\":\"white\",\"linecolor\":\"white\",\"ticks\":\"\"}},\"ternary\":{\"bgcolor\":\"#E5ECF6\",\"aaxis\":{\"gridcolor\":\"white\",\"linecolor\":\"white\",\"ticks\":\"\"},\"baxis\":{\"gridcolor\":\"white\",\"linecolor\":\"white\",\"ticks\":\"\"},\"caxis\":{\"gridcolor\":\"white\",\"linecolor\":\"white\",\"ticks\":\"\"}},\"coloraxis\":{\"colorbar\":{\"outlinewidth\":0,\"ticks\":\"\"}},\"colorscale\":{\"sequential\":[[0.0,\"#0d0887\"],[0.1111111111111111,\"#46039f\"],[0.2222222222222222,\"#7201a8\"],[0.3333333333333333,\"#9c179e\"],[0.4444444444444444,\"#bd3786\"],[0.5555555555555556,\"#d8576b\"],[0.6666666666666666,\"#ed7953\"],[0.7777777777777778,\"#fb9f3a\"],[0.8888888888888888,\"#fdca26\"],[1.0,\"#f0f921\"]],\"sequentialminus\":[[0.0,\"#0d0887\"],[0.1111111111111111,\"#46039f\"],[0.2222222222222222,\"#7201a8\"],[0.3333333333333333,\"#9c179e\"],[0.4444444444444444,\"#bd3786\"],[0.5555555555555556,\"#d8576b\"],[0.6666666666666666,\"#ed7953\"],[0.7777777777777778,\"#fb9f3a\"],[0.8888888888888888,\"#fdca26\"],[1.0,\"#f0f921\"]],\"diverging\":[[0,\"#8e0152\"],[0.1,\"#c51b7d\"],[0.2,\"#de77ae\"],[0.3,\"#f1b6da\"],[0.4,\"#fde0ef\"],[0.5,\"#f7f7f7\"],[0.6,\"#e6f5d0\"],[0.7,\"#b8e186\"],[0.8,\"#7fbc41\"],[0.9,\"#4d9221\"],[1,\"#276419\"]]},\"xaxis\":{\"gridcolor\":\"white\",\"linecolor\":\"white\",\"ticks\":\"\",\"title\":{\"standoff\":15},\"zerolinecolor\":\"white\",\"automargin\":true,\"zerolinewidth\":2},\"yaxis\":{\"gridcolor\":\"white\",\"linecolor\":\"white\",\"ticks\":\"\",\"title\":{\"standoff\":15},\"zerolinecolor\":\"white\",\"automargin\":true,\"zerolinewidth\":2},\"scene\":{\"xaxis\":{\"backgroundcolor\":\"#E5ECF6\",\"gridcolor\":\"white\",\"linecolor\":\"white\",\"showbackground\":true,\"ticks\":\"\",\"zerolinecolor\":\"white\",\"gridwidth\":2},\"yaxis\":{\"backgroundcolor\":\"#E5ECF6\",\"gridcolor\":\"white\",\"linecolor\":\"white\",\"showbackground\":true,\"ticks\":\"\",\"zerolinecolor\":\"white\",\"gridwidth\":2},\"zaxis\":{\"backgroundcolor\":\"#E5ECF6\",\"gridcolor\":\"white\",\"linecolor\":\"white\",\"showbackground\":true,\"ticks\":\"\",\"zerolinecolor\":\"white\",\"gridwidth\":2}},\"shapedefaults\":{\"line\":{\"color\":\"#2a3f5f\"}},\"annotationdefaults\":{\"arrowcolor\":\"#2a3f5f\",\"arrowhead\":0,\"arrowwidth\":1},\"geo\":{\"bgcolor\":\"white\",\"landcolor\":\"#E5ECF6\",\"subunitcolor\":\"white\",\"showland\":true,\"showlakes\":true,\"lakecolor\":\"white\"},\"title\":{\"x\":0.05},\"mapbox\":{\"style\":\"light\"}}},\"xaxis\":{\"anchor\":\"y\",\"domain\":[0.0,1.0],\"title\":{\"text\":\"BANDA\"}},\"yaxis\":{\"anchor\":\"x\",\"domain\":[0.0,1.0],\"title\":{\"text\":\"ANTIGÜEDAD\"}},\"legend\":{\"tracegroupgap\":0},\"title\":{\"text\":\"BANDA vs. ANTIGÜEDAD\"},\"boxmode\":\"group\"},                        {\"responsive\": true}                    ).then(function(){\n",
       "                            \n",
       "var gd = document.getElementById('3f465cd2-f4ba-4d30-99c9-27d9230d8567');\n",
       "var x = new MutationObserver(function (mutations, observer) {{\n",
       "        var display = window.getComputedStyle(gd).display;\n",
       "        if (!display || display === 'none') {{\n",
       "            console.log([gd, 'removed!']);\n",
       "            Plotly.purge(gd);\n",
       "            observer.disconnect();\n",
       "        }}\n",
       "}});\n",
       "\n",
       "// Listen for the removal of the full notebook cells\n",
       "var notebookContainer = gd.closest('#notebook-container');\n",
       "if (notebookContainer) {{\n",
       "    x.observe(notebookContainer, {childList: true});\n",
       "}}\n",
       "\n",
       "// Listen for the clearing of the current output cell\n",
       "var outputEl = gd.closest('.output');\n",
       "if (outputEl) {{\n",
       "    x.observe(outputEl, {childList: true});\n",
       "}}\n",
       "\n",
       "                        })                };                });            </script>        </div>"
      ]
     },
     "metadata": {},
     "output_type": "display_data"
    },
    {
     "data": {
      "application/vnd.plotly.v1+json": {
       "config": {
        "plotlyServerURL": "https://plot.ly"
       },
       "data": [
        {
         "hovertemplate": "Distancia=%{x}<br>ANTIGÜEDAD=%{y}<extra></extra>",
         "legendgroup": "",
         "marker": {
          "color": "#636efa",
          "symbol": "circle"
         },
         "mode": "markers",
         "name": "",
         "showlegend": false,
         "type": "scattergl",
         "x": [
          10.815468874175656,
          18.258464034263955,
          18.460211302745325,
          6.025403146377438,
          6.025403146377438,
          18.460211302745325,
          6.025403146377438,
          6.025403146377438,
          12.782753425564334,
          6.025403146377438,
          6.025403146377438,
          6.025403146377438,
          6.025403146377438,
          5.169751139513358,
          6.376805488828198,
          6.025403146377438,
          6.025403146377438,
          2.6942229076486908,
          4.874712011839221,
          6.025403146377438,
          6.025403146377438,
          13.59346846802786,
          6.025403146377438,
          null,
          18.460211302745325,
          2.6942229076486908,
          6.025403146377438,
          13.59346846802786,
          13.59346846802786,
          6.025403146377438,
          13.940636066402496,
          6.025403146377438,
          6.025403146377438,
          13.59346846802786,
          null,
          6.025403146377438,
          14.816703036317268,
          13.940636066402496,
          18.258464034263955,
          20.716003241103618,
          13.59346846802786,
          2.6942229076486908,
          6.025403146377438,
          7.244211171772542,
          14.766084763351962,
          6.025403146377438,
          10.25442013078869,
          5.66534680905694,
          13.59346846802786,
          9.352542138276764,
          6.025403146377438,
          6.025403146377438,
          6.025403146377438,
          6.025403146377438,
          13.59346846802786,
          6.025403146377438,
          6.376805488828198,
          4.457987355144732,
          6.025403146377438,
          6.025403146377438,
          6.025403146377438,
          6.025403146377438,
          13.940636066402496,
          14.766084763351962,
          6.025403146377438,
          6.025403146377438,
          5.547035154748849,
          13.59346846802786,
          6.025403146377438,
          null,
          6.025403146377438,
          6.025403146377438,
          6.025403146377438,
          13.59346846802786,
          6.025403146377438,
          13.59346846802786,
          18.460211302745325,
          6.025403146377438,
          13.59346846802786,
          6.025403146377438,
          13.59346846802786,
          13.59346846802786,
          6.025403146377438,
          9.366780562752464,
          6.025403146377438,
          13.59346846802786,
          16.782938724016287,
          14.766084763351962,
          18.460211302745325,
          6.025403146377438,
          6.025403146377438,
          6.025403146377438,
          5.7126146248371725,
          19.114496458152686,
          2.6942229076486908,
          4.239045606125979,
          13.59346846802786,
          6.025403146377438,
          7.651533171870985,
          3.237393628796011,
          7.706894327778476,
          6.025403146377438,
          18.108271094304147,
          6.997366424868751,
          13.59346846802786,
          6.025403146377438,
          7.616734714551439,
          6.025403146377438,
          6.025403146377438,
          6.025403146377438,
          6.025403146377438,
          6.025403146377438,
          3.2680676311965646,
          18.460211302745325,
          6.025403146377438,
          3.2680676311965646,
          13.59346846802786,
          6.025403146377438,
          6.025403146377438,
          9.465687849347075,
          13.940636066402496,
          6.025403146377438,
          6.025403146377438,
          6.025403146377438,
          6.025403146377438,
          6.025403146377438,
          6.025403146377438,
          13.59346846802786,
          6.025403146377438,
          17.022359158622354,
          13.763945044922124,
          6.025403146377438,
          7.616734714551439,
          18.460211302745325,
          6.025403146377438,
          14.766084763351962,
          6.025403146377438,
          6.025403146377438,
          21.36717004776061,
          13.59346846802786,
          13.59346846802786,
          7.616734714551439,
          18.460211302745325,
          13.940636066402496,
          14.816703036317268,
          6.025403146377438,
          7.616734714551439,
          3.2680676311965646,
          6.025403146377438,
          13.59346846802786,
          16.782938724016287,
          13.59346846802786,
          13.59346846802786,
          18.460211302745325,
          6.025403146377438,
          6.025403146377438,
          6.025403146377438,
          6.025403146377438,
          2.6942229076486908,
          13.940636066402496,
          6.025403146377438,
          6.025403146377438,
          13.59346846802786,
          13.59346846802786,
          6.025403146377438,
          6.025403146377438,
          6.025403146377438,
          14.766084763351962,
          7.616734714551439,
          6.025403146377438,
          4.239045606125979,
          13.59346846802786,
          4.457987355144732,
          13.59346846802786,
          13.59346846802786,
          6.025403146377438,
          7.616734714551439,
          6.025403146377438,
          14.766084763351962,
          6.376805488828198,
          11.616135671000698,
          16.944722917499377,
          6.025403146377438,
          null,
          5.701427952235059,
          3.2680676311965646,
          4.542514330484239,
          4.457987355144732,
          4.874712011839221,
          6.025403146377438,
          6.025403146377438,
          6.025403146377438,
          5.450623970974352,
          5.66534680905694,
          2.6942229076486908,
          13.59346846802786,
          6.025403146377438,
          6.025403146377438,
          18.460211302745325,
          7.706894327778476,
          6.025403146377438,
          6.025403146377438,
          14.766084763351962,
          6.025403146377438,
          13.940636066402496,
          6.2435744940117885,
          6.025403146377438,
          7.616734714551439,
          13.59346846802786,
          13.59346846802786,
          6.025403146377438,
          3.2680676311965646,
          13.37776764682687,
          20.687631247527385,
          6.376805488828198,
          7.616734714551439,
          6.025403146377438,
          6.025403146377438,
          13.59346846802786,
          4.268086649052308,
          13.59346846802786,
          29.76262433945618,
          13.59346846802786,
          7.616734714551439,
          18.460211302745325,
          6.025403146377438,
          6.025403146377438,
          6.025403146377438,
          2.6942229076486908,
          7.616734714551439,
          6.025403146377438,
          13.940636066402496,
          14.766084763351962,
          6.025403146377438,
          6.025403146377438,
          6.025403146377438,
          13.59346846802786,
          13.59346846802786,
          13.59346846802786,
          6.025403146377438,
          6.025403146377438,
          6.025403146377438,
          6.025403146377438,
          14.766084763351962,
          6.025403146377438,
          6.025403146377438,
          6.025403146377438,
          6.025403146377438,
          13.940636066402496,
          6.025403146377438,
          6.025403146377438,
          6.2435744940117885,
          6.025403146377438,
          7.616734714551439,
          14.766084763351962,
          18.460211302745325,
          7.522064631144397,
          13.59346846802786,
          13.59346846802786,
          6.025403146377438,
          6.025403146377438,
          6.025403146377438,
          null,
          6.025403146377438,
          13.59346846802786,
          9.80866561329665,
          6.025403146377438,
          6.025403146377438,
          6.025403146377438,
          7.616734714551439,
          6.025403146377438,
          7.096108678554284,
          13.59346846802786,
          13.59346846802786,
          6.376805488828198,
          13.59346846802786,
          6.025403146377438,
          7.616734714551439,
          7.616734714551439,
          6.025403146377438,
          13.940636066402496,
          12.443160619824605,
          31.10873058960069,
          10.306050350854846,
          5.701427952235059,
          13.59346846802786,
          13.59346846802786,
          6.025403146377438,
          13.59346846802786,
          4.457987355144732,
          6.025403146377438,
          6.025403146377438,
          7.616734714551439,
          6.025403146377438,
          7.522064631144397,
          6.025403146377438,
          6.025403146377438,
          6.025403146377438,
          6.025403146377438,
          6.025403146377438,
          9.366780562752464,
          6.025403146377438,
          6.025403146377438,
          7.616734714551439,
          6.6968511312655945,
          7.651533171870985,
          21.36717004776061,
          6.025403146377438,
          13.59346846802786,
          6.025403146377438,
          6.025403146377438,
          22.0706987252346,
          6.025403146377438,
          7.616734714551439,
          6.025403146377438,
          13.59346846802786,
          737.350801614168,
          13.59346846802786,
          13.59346846802786,
          6.025403146377438,
          13.59346846802786,
          7.616734714551439,
          6.025403146377438,
          7.522064631144397,
          14.816703036317268,
          14.816703036317268,
          18.460211302745325,
          13.59346846802786,
          6.025403146377438,
          6.025403146377438,
          6.025403146377438,
          6.025403146377438,
          6.025403146377438,
          6.025403146377438,
          14.766084763351962,
          14.766084763351962,
          13.59346846802786,
          6.025403146377438,
          4.268086649052308,
          6.025403146377438,
          6.025403146377438,
          6.025403146377438,
          6.376805488828198,
          6.025403146377438,
          6.025403146377438,
          6.025403146377438,
          6.025403146377438,
          6.025403146377438,
          13.59346846802786,
          6.376805488828198,
          6.025403146377438,
          3.650904795956228,
          10.674237037613494,
          11.616135671000698,
          6.025403146377438,
          13.59346846802786,
          6.025403146377438,
          6.025403146377438,
          14.766084763351962,
          6.025403146377438,
          6.025403146377438,
          7.522064631144397,
          7.616734714551439,
          4.874712011839221,
          4.457987355144732,
          6.2435744940117885,
          9.689887942263292,
          null,
          6.025403146377438,
          13.59346846802786,
          6.025403146377438,
          10.674237037613494,
          6.025403146377438,
          6.025403146377438,
          6.025403146377438,
          7.616734714551439,
          6.025403146377438,
          6.025403146377438,
          6.025403146377438,
          13.59346846802786,
          6.376805488828198,
          6.212976326401295,
          7.245987223533048,
          18.460211302745325,
          18.630424750079985,
          6.025403146377438,
          5.701427952235059,
          11.616135671000698,
          9.366780562752464,
          6.025403146377438,
          13.59346846802786,
          6.025403146377438,
          11.616135671000698,
          14.766084763351962,
          22.597263960481488,
          6.025403146377438,
          7.616734714551439,
          6.025403146377438,
          6.025403146377438,
          5.547035154748849,
          6.025403146377438,
          13.940636066402496,
          6.025403146377438,
          13.59346846802786,
          7.616734714551439,
          6.025403146377438,
          3.2680676311965646,
          11.664474526091285,
          6.025403146377438,
          2.6942229076486908,
          6.025403146377438,
          13.59346846802786,
          6.025403146377438,
          18.460211302745325,
          4.457987355144732,
          4.457987355144732,
          7.616734714551439,
          13.59346846802786,
          6.025403146377438,
          null,
          4.457987355144732,
          6.025403146377438,
          18.460211302745325,
          14.766084763351962,
          6.025403146377438,
          31.10873058960069,
          31.10873058960069,
          6.025403146377438,
          13.59346846802786,
          13.59346846802786,
          13.59346846802786,
          7.616734714551439,
          6.025403146377438,
          6.025403146377438,
          737.350801614168,
          16.59959946004633,
          18.460211302745325,
          5.701427952235059,
          2.6942229076486908,
          13.940636066402496,
          7.616734714551439,
          22.597263960481488,
          6.025403146377438,
          6.025403146377438,
          14.766084763351962,
          7.616734714551439,
          7.616734714551439,
          6.025403146377438,
          6.025403146377438,
          6.025403146377438,
          3.2680676311965646,
          9.366780562752464,
          6.025403146377438,
          6.025403146377438,
          737.350801614168,
          14.816703036317268,
          13.59346846802786,
          10.674237037613494,
          6.025403146377438,
          14.816703036317268,
          6.025403146377438,
          6.025403146377438,
          6.025403146377438,
          7.706894327778476,
          13.59346846802786,
          null,
          6.025403146377438,
          13.59346846802786,
          18.460211302745325,
          9.366780562752464,
          7.096108678554284,
          6.376805488828198,
          12.782753425564334,
          4.239045606125979,
          12.782753425564334,
          10.674237037613494,
          6.025403146377438,
          18.460211302745325,
          6.025403146377438,
          6.025403146377438,
          20.687631247527385,
          11.189670071304056,
          1527.4248388995431,
          6.025403146377438,
          3.2680676311965646,
          14.766084763351962,
          14.766084763351962,
          13.59346846802786,
          13.59346846802786,
          6.025403146377438,
          6.025403146377438,
          7.616734714551439,
          6.025403146377438,
          13.59346846802786,
          18.460211302745325,
          7.616734714551439,
          13.59346846802786,
          6.025403146377438,
          6.025403146377438,
          6.025403146377438,
          14.766084763351962,
          7.245987223533048,
          16.782938724016287,
          7.616734714551439,
          6.025403146377438,
          13.59346846802786,
          6.025403146377438,
          6.025403146377438,
          3.2680676311965646,
          13.59346846802786,
          13.59346846802786,
          6.025403146377438,
          6.025403146377438,
          6.025403146377438,
          13.59346846802786,
          3.2680676311965646,
          13.59346846802786,
          4.239045606125979,
          6.025403146377438,
          6.025403146377438,
          3.2680676311965646,
          4.268086649052308,
          13.59346846802786,
          6.376805488828198,
          6.025403146377438,
          6.025403146377438,
          6.025403146377438,
          6.025403146377438,
          14.92353294468273,
          6.025403146377438,
          13.59346846802786,
          6.025403146377438,
          6.025403146377438,
          7.616734714551439,
          6.025403146377438,
          6.025403146377438,
          7.616734714551439,
          6.025403146377438,
          14.766084763351962,
          7.706894327778476,
          6.025403146377438,
          9.366780562752464,
          2.6942229076486908,
          6.025403146377438,
          3.2680676311965646,
          14.657746310691811,
          7.616734714551439,
          7.522064631144397,
          6.025403146377438,
          7.616734714551439,
          22.0706987252346,
          18.460211302745325,
          14.816703036317268,
          2.6942229076486908,
          6.025403146377438,
          7.706894327778476,
          13.59346846802786,
          6.025403146377438,
          13.59346846802786,
          6.025403146377438,
          6.025403146377438,
          13.59346846802786,
          6.025403146377438,
          5.547035154748849,
          6.025403146377438,
          7.706894327778476,
          4.457987355144732,
          6.025403146377438,
          6.025403146377438,
          6.025403146377438,
          6.025403146377438,
          5.169751139513358,
          13.59346846802786,
          13.59346846802786,
          13.59346846802786,
          6.025403146377438,
          6.025403146377438,
          6.025403146377438,
          7.616734714551439,
          6.025403146377438,
          13.59346846802786,
          10.166025796228546,
          6.025403146377438,
          4.239045606125979,
          6.025403146377438,
          13.59346846802786,
          null,
          18.258464034263955,
          6.025403146377438,
          12.782753425564334,
          6.025403146377438,
          6.025403146377438,
          6.025403146377438,
          5.169751139513358,
          10.815468874175656,
          7.616734714551439,
          6.025403146377438,
          7.616734714551439,
          6.025403146377438,
          13.59346846802786,
          6.025403146377438,
          6.025403146377438,
          14.937596259270164,
          13.59346846802786,
          6.025403146377438,
          6.025403146377438,
          5.66534680905694,
          7.651533171870985,
          6.025403146377438,
          6.025403146377438,
          7.616734714551439,
          6.025403146377438,
          3.2680676311965646,
          13.763945044922124,
          13.59346846802786,
          6.025403146377438,
          9.366780562752464,
          10.25442013078869,
          null,
          4.268086649052308,
          14.766084763351962,
          6.025403146377438,
          6.025403146377438,
          6.025403146377438,
          14.766084763351962,
          6.025403146377438,
          6.025403146377438,
          6.025403146377438,
          6.212976326401295,
          13.59346846802786,
          4.457987355144732,
          6.025403146377438,
          6.025403146377438,
          2.6942229076486908,
          4.268086649052308,
          20.687631247527385,
          4.457987355144732,
          9.366780562752464,
          13.59346846802786,
          6.025403146377438,
          14.816703036317268,
          6.025403146377438,
          6.025403146377438,
          4.874712011839221,
          5.547035154748849,
          6.025403146377438,
          14.816703036317268,
          6.025403146377438,
          13.940636066402496,
          6.025403146377438,
          18.460211302745325,
          18.460211302745325,
          6.376805488828198,
          19.34412242080157,
          16.043164994805494,
          5.7126146248371725,
          13.59346846802786,
          4.239045606125979,
          14.766084763351962,
          5.701427952235059,
          5.701427952235059,
          14.766084763351962,
          13.59346846802786,
          6.025403146377438,
          13.59346846802786,
          9.366780562752464,
          6.025403146377438,
          7.759679831441712,
          31.10873058960069,
          9.352542138276764,
          13.59346846802786,
          6.025403146377438,
          6.025403146377438,
          13.59346846802786,
          13.59346846802786,
          6.025403146377438,
          6.025403146377438,
          6.376805488828198,
          13.940636066402496,
          6.025403146377438,
          7.616734714551439,
          13.59346846802786,
          16.436061255880027,
          6.376805488828198,
          12.716701156516796,
          5.701427952235059,
          7.785272822825696,
          5.701427952235059,
          5.547035154748849,
          14.766084763351962,
          6.025403146377438,
          6.025403146377438,
          6.025403146377438,
          6.025403146377438,
          6.025403146377438,
          6.025403146377438,
          4.457987355144732,
          7.706894327778476,
          13.59346846802786,
          13.59346846802786,
          13.59346846802786,
          13.940636066402496,
          13.940636066402496,
          6.025403146377438,
          6.025403146377438,
          6.025403146377438,
          7.616734714551439,
          13.940636066402496,
          6.025403146377438,
          6.025403146377438,
          6.997366424868751,
          18.460211302745325,
          6.025403146377438,
          1243.2957809244976,
          2.6942229076486908,
          13.59346846802786,
          6.025403146377438,
          6.025403146377438,
          6.025403146377438,
          6.025403146377438,
          13.59346846802786,
          4.874712011839221,
          6.025403146377438,
          13.59346846802786,
          307.1124707060224,
          13.940636066402496,
          13.59346846802786,
          6.025403146377438,
          4.457987355144732,
          13.59346846802786,
          42.01385207664307,
          17.022359158622354,
          6.376805488828198,
          6.025403146377438,
          11.616135671000698,
          19.114496458152686,
          13.59346846802786,
          18.460211302745325,
          6.025403146377438,
          13.59346846802786,
          6.025403146377438,
          18.460211302745325,
          4.268086649052308,
          13.59346846802786,
          14.766084763351962,
          4.457987355144732,
          18.460211302745325,
          6.997366424868751,
          6.025403146377438,
          4.874712011839221,
          6.025403146377438,
          6.025403146377438,
          7.616734714551439,
          13.59346846802786,
          6.025403146377438,
          6.025403146377438,
          18.460211302745325,
          6.025403146377438,
          14.766084763351962,
          7.584333904200922,
          3.2680676311965646,
          13.940636066402496,
          6.025403146377438,
          6.025403146377438,
          13.59346846802786,
          6.025403146377438,
          6.025403146377438,
          6.025403146377438,
          7.616734714551439,
          22.054976830138827,
          13.59346846802786,
          13.59346846802786,
          18.460211302745325,
          6.025403146377438,
          20.48928213077728,
          10.442363024796329,
          13.59346846802786,
          6.025403146377438,
          6.025403146377438,
          6.025403146377438,
          6.025403146377438,
          6.025403146377438,
          18.258464034263955,
          6.025403146377438,
          13.59346846802786,
          13.59346846802786,
          6.025403146377438,
          6.025403146377438,
          6.025403146377438,
          6.025403146377438,
          13.59346846802786,
          6.025403146377438,
          10.674237037613494,
          6.025403146377438,
          6.025403146377438,
          4.457987355144732,
          20.687631247527385,
          14.937596259270164,
          13.59346846802786,
          6.025403146377438,
          13.59346846802786,
          13.59346846802786,
          12.782753425564334,
          13.59346846802786,
          13.59346846802786,
          7.616734714551439,
          10.815468874175656,
          null,
          3.2680676311965646,
          20.687631247527385,
          2.6942229076486908,
          13.59346846802786,
          13.59346846802786,
          13.59346846802786,
          6.025403146377438,
          13.59346846802786,
          14.816703036317268,
          6.025403146377438,
          5.450623970974352,
          10.166025796228546,
          6.025403146377438,
          17.289630651037655,
          5.701427952235059,
          10.112647307403655,
          14.766084763351962,
          13.59346846802786,
          13.59346846802786,
          6.025403146377438,
          6.025403146377438,
          13.940636066402496,
          6.025403146377438,
          13.940636066402496,
          13.59346846802786,
          13.940636066402496,
          5.701427952235059,
          6.025403146377438,
          6.025403146377438,
          4.457987355144732,
          10.674237037613494,
          2.6942229076486908,
          17.022359158622354,
          7.706894327778476,
          18.460211302745325,
          6.025403146377438,
          4.457987355144732,
          13.59346846802786,
          6.025403146377438,
          5.547035154748849,
          11.819490323107049,
          12.782753425564334,
          6.376805488828198,
          6.025403146377438,
          6.2435744940117885,
          6.025403146377438,
          6.025403146377438,
          10.77977246595093,
          4.268086649052308,
          20.687631247527385,
          6.025403146377438,
          4.457987355144732,
          13.59346846802786,
          6.025403146377438,
          6.025403146377438,
          6.025403146377438,
          18.460211302745325,
          7.706894327778476,
          6.025403146377438,
          7.651533171870985,
          18.460211302745325,
          13.59346846802786,
          18.460211302745325,
          13.59346846802786,
          14.766084763351962,
          6.025403146377438,
          6.025403146377438,
          7.616734714551439,
          13.59346846802786,
          18.460211302745325,
          6.025403146377438,
          6.025403146377438,
          7.522064631144397,
          7.522064631144397,
          7.616734714551439,
          6.025403146377438,
          11.616135671000698,
          5.7126146248371725,
          7.595804650162556,
          14.92353294468273,
          6.376805488828198,
          14.766084763351962,
          6.025403146377438,
          12.782753425564334,
          13.940636066402496,
          22.054976830138827,
          13.940636066402496,
          6.025403146377438,
          6.025403146377438,
          18.460211302745325,
          12.716701156516796,
          13.59346846802786,
          14.766084763351962,
          13.59346846802786,
          6.025403146377438,
          7.616734714551439,
          6.025403146377438,
          6.025403146377438,
          18.460211302745325,
          6.025403146377438,
          6.025403146377438,
          6.025403146377438,
          6.025403146377438,
          19.114496458152686,
          6.025403146377438,
          14.766084763351962,
          11.920380969153708,
          6.025403146377438,
          20.48928213077728,
          18.460211302745325,
          13.59346846802786,
          4.874712011839221,
          4.457987355144732,
          4.268086649052308,
          13.763945044922124,
          null,
          16.59959946004633,
          5.169751139513358,
          7.651533171870985,
          12.782753425564334,
          38.45372965383364,
          null,
          11.616135671000698,
          6.025403146377438,
          4.874712011839221,
          6.025403146377438,
          6.025403146377438,
          18.460211302745325,
          6.025403146377438,
          7.616734714551439,
          737.350801614168,
          7.706894327778476,
          6.025403146377438,
          7.616734714551439,
          6.025403146377438,
          6.025403146377438,
          6.025403146377438,
          6.376805488828198,
          13.940636066402496,
          6.025403146377438,
          6.025403146377438,
          7.616734714551439,
          6.025403146377438,
          6.025403146377438,
          7.651533171870985,
          7.616734714551439,
          6.025403146377438,
          6.025403146377438,
          4.457987355144732,
          14.937596259270164,
          18.460211302745325,
          4.457987355144732,
          6.376805488828198,
          6.025403146377438,
          5.701427952235059,
          6.212976326401295,
          6.025403146377438,
          13.59346846802786,
          6.025403146377438,
          13.59346846802786,
          6.025403146377438,
          6.025403146377438,
          6.025403146377438,
          6.025403146377438,
          13.339587815816865,
          7.616734714551439,
          4.457987355144732,
          6.025403146377438,
          14.816703036317268,
          6.025403146377438,
          9.352542138276764,
          10.674237037613494,
          1630.6349174707034,
          13.339587815816865,
          18.460211302745325,
          6.025403146377438,
          13.59346846802786,
          13.940636066402496,
          13.940636066402496,
          14.766084763351962,
          6.025403146377438,
          22.597263960481488,
          6.376805488828198,
          7.616734714551439,
          6.025403146377438,
          12.782753425564334,
          5.539363926289355,
          2.6942229076486908,
          2.6942229076486908,
          12.782753425564334,
          2.6942229076486908,
          6.025403146377438,
          6.025403146377438,
          9.366780562752464,
          6.025403146377438,
          13.59346846802786,
          6.025403146377438,
          9.13538068421002,
          6.025403146377438,
          14.766084763351962,
          5.701427952235059,
          18.460211302745325,
          6.025403146377438,
          11.819490323107049,
          6.025403146377438,
          4.457987355144732,
          18.108271094304147,
          5.169751139513358,
          11.967789599584812,
          10.166025796228546,
          5.169751139513358,
          5.547035154748849,
          6.025403146377438,
          6.025403146377438,
          6.025403146377438,
          6.025403146377438,
          6.025403146377438,
          13.940636066402496,
          3.2680676311965646,
          6.025403146377438,
          6.025403146377438,
          6.025403146377438,
          13.59346846802786,
          6.025403146377438,
          6.025403146377438,
          2.6942229076486908,
          6.025403146377438,
          6.025403146377438,
          19.114496458152686,
          7.651533171870985,
          6.025403146377438,
          11.616135671000698,
          13.59346846802786,
          7.616734714551439,
          13.339587815816865,
          19.114496458152686,
          4.457987355144732,
          13.59346846802786,
          6.025403146377438,
          6.376805488828198,
          7.759679831441712,
          18.460211302745325,
          12.782753425564334,
          4.239045606125979,
          6.025403146377438,
          21.36717004776061,
          19.832316065349787,
          13.59346846802786,
          6.025403146377438,
          11.920380969153708,
          13.339587815816865,
          4.268086649052308,
          7.616734714551439,
          13.59346846802786,
          13.59346846802786,
          6.025403146377438,
          5.701427952235059,
          18.245312095157416,
          7.706894327778476,
          12.782753425564334,
          6.025403146377438,
          2.6942229076486908,
          5.169751139513358,
          13.59346846802786,
          18.460211302745325,
          6.025403146377438,
          737.350801614168,
          6.025403146377438,
          7.616734714551439,
          6.025403146377438,
          988.1415324630964,
          19.114496458152686,
          14.657746310691811,
          12.716701156516796,
          13.59346846802786,
          5.547035154748849,
          6.025403146377438,
          6.025403146377438,
          6.025403146377438,
          4.457987355144732,
          20.716003241103618,
          13.59346846802786,
          7.616734714551439,
          13.59346846802786,
          3.237393628796011,
          6.025403146377438,
          13.59346846802786,
          14.766084763351962,
          6.025403146377438,
          6.025403146377438,
          6.376805488828198,
          3.2680676311965646,
          14.766084763351962,
          18.460211302745325,
          6.025403146377438,
          6.025403146377438,
          13.59346846802786,
          6.025403146377438,
          13.59346846802786,
          6.025403146377438,
          14.766084763351962,
          5.66534680905694,
          14.766084763351962,
          8.849346831029628,
          6.025403146377438,
          7.616734714551439,
          6.025403146377438,
          7.522064631144397,
          17.022359158622354,
          4.874712011839221,
          13.59346846802786,
          5.701427952235059,
          7.616734714551439,
          6.025403146377438,
          6.025403146377438,
          6.025403146377438,
          7.595804650162556,
          6.025403146377438,
          13.59346846802786,
          6.025403146377438,
          6.025403146377438,
          13.59346846802786,
          18.460211302745325,
          13.59346846802786,
          7.616734714551439,
          13.59346846802786,
          11.616135671000698,
          6.025403146377438,
          13.59346846802786,
          13.59346846802786,
          13.59346846802786,
          6.025403146377438,
          16.436061255880027,
          13.59346846802786,
          13.59346846802786,
          7.616734714551439,
          11.616135671000698,
          14.816703036317268,
          6.025403146377438,
          17.35378236195776,
          3.2680676311965646,
          31.10873058960069,
          7.616734714551439,
          11.308465798744136,
          14.816703036317268,
          6.212976326401295,
          21.36717004776061,
          22.597263960481488,
          7.616734714551439,
          6.025403146377438,
          6.025403146377438,
          11.616135671000698,
          6.025403146377438,
          13.940636066402496,
          7.616734714551439,
          11.177101187541354,
          19.34412242080157,
          13.59346846802786,
          13.59346846802786,
          4.457987355144732,
          13.59346846802786,
          2.6942229076486908,
          13.59346846802786,
          6.025403146377438,
          6.025403146377438,
          7.616734714551439,
          6.025403146377438,
          9.366780562752464,
          6.025403146377438,
          6.025403146377438,
          6.025403146377438,
          6.025403146377438,
          12.782753425564334,
          6.025403146377438,
          7.616734714551439,
          4.239045606125979,
          5.66534680905694,
          14.766084763351962,
          16.436061255880027,
          4.457987355144732,
          14.816703036317268,
          7.096108678554284,
          6.212976326401295,
          13.59346846802786,
          4.457987355144732,
          31.10873058960069,
          4.874712011839221,
          6.025403146377438,
          18.460211302745325,
          13.59346846802786,
          6.376805488828198,
          13.59346846802786,
          13.59346846802786,
          21.36717004776061,
          7.616734714551439,
          13.59346846802786,
          18.460211302745325,
          6.025403146377438,
          6.025403146377438,
          2.6942229076486908,
          13.59346846802786,
          6.025403146377438,
          5.169751139513358,
          6.025403146377438,
          6.025403146377438,
          6.376805488828198,
          13.59346846802786,
          6.025403146377438,
          6.025403146377438,
          13.59346846802786,
          14.766084763351962,
          6.025403146377438,
          13.59346846802786,
          13.59346846802786,
          null,
          13.59346846802786,
          13.940636066402496,
          13.59346846802786,
          3.2680676311965646,
          18.460211302745325,
          6.025403146377438,
          6.025403146377438,
          6.025403146377438,
          4.268086649052308,
          6.025403146377438,
          4.239045606125979,
          5.169751139513358,
          18.460211302745325,
          13.59346846802786,
          6.025403146377438,
          6.025403146377438,
          19.34412242080157,
          14.937596259270164,
          14.766084763351962,
          9.366780562752464,
          6.025403146377438,
          6.025403146377438,
          11.616135671000698,
          6.025403146377438,
          7.616734714551439,
          6.025403146377438,
          6.025403146377438,
          6.025403146377438,
          6.025403146377438,
          6.025403146377438,
          9.366780562752464,
          6.376805488828198,
          13.59346846802786,
          6.025403146377438,
          6.025403146377438,
          6.025403146377438,
          6.025403146377438,
          12.782753425564334,
          6.025403146377438,
          7.706894327778476,
          13.940636066402496,
          2.6942229076486908,
          13.940636066402496,
          6.025403146377438,
          13.59346846802786,
          13.940636066402496,
          7.616734714551439,
          6.025403146377438,
          13.59346846802786,
          6.025403146377438,
          4.268086649052308,
          6.025403146377438,
          7.616734714551439,
          18.460211302745325,
          18.460211302745325,
          13.940636066402496,
          6.025403146377438,
          6.025403146377438,
          5.169751139513358,
          7.616734714551439,
          6.025403146377438,
          6.025403146377438,
          737.350801614168,
          13.59346846802786,
          14.766084763351962,
          6.025403146377438,
          6.025403146377438,
          6.025403146377438,
          6.2435744940117885,
          13.940636066402496,
          19.114496458152686,
          13.59346846802786,
          7.244211171772542,
          7.706894327778476,
          6.025403146377438,
          6.025403146377438,
          6.025403146377438,
          4.268086649052308,
          6.025403146377438,
          13.59346846802786,
          6.025403146377438,
          18.630424750079985,
          18.539114506706543,
          13.59346846802786,
          13.59346846802786,
          6.025403146377438,
          75.52532182002187,
          13.59346846802786,
          31.10873058960069,
          11.616135671000698,
          9.80866561329665,
          9.074712948912278,
          13.59346846802786,
          14.766084763351962,
          4.268086649052308,
          5.169751139513358,
          18.460211302745325,
          18.460211302745325,
          7.616734714551439,
          4.457987355144732,
          6.025403146377438,
          14.273638758813377,
          13.59346846802786,
          10.166025796228546,
          6.025403146377438,
          6.025403146377438,
          13.59346846802786,
          6.025403146377438,
          6.025403146377438,
          7.616734714551439,
          7.616734714551439,
          6.025403146377438,
          14.816703036317268,
          6.025403146377438,
          6.025403146377438,
          6.025403146377438,
          13.59346846802786,
          6.025403146377438,
          6.025403146377438,
          13.59346846802786,
          6.025403146377438,
          6.025403146377438,
          20.716003241103618,
          4.542514330484239,
          13.940636066402496,
          11.967789599584812,
          7.616734714551439,
          6.025403146377438,
          18.245312095157416,
          5.547035154748849,
          10.154399502176677,
          6.025403146377438,
          13.59346846802786,
          6.025403146377438,
          13.59346846802786,
          6.025403146377438,
          6.025403146377438,
          6.025403146377438,
          6.025403146377438,
          7.616734714551439,
          6.025403146377438,
          6.025403146377438,
          13.940636066402496,
          13.940636066402496,
          3.2680676311965646,
          6.376805488828198,
          9.366780562752464,
          6.025403146377438,
          14.816703036317268,
          13.59346846802786,
          null,
          6.025403146377438,
          6.025403146377438,
          3.2680676311965646,
          6.025403146377438,
          6.025403146377438,
          7.616734714551439,
          7.616734714551439,
          6.025403146377438,
          6.025403146377438,
          18.460211302745325,
          6.025403146377438,
          4.457987355144732,
          15.088072805628071,
          6.025403146377438,
          14.273638758813377,
          6.025403146377438,
          7.706894327778476,
          12.782753425564334,
          14.816703036317268,
          6.997366424868751,
          10.5408664411629,
          13.59346846802786,
          5.66534680905694,
          6.025403146377438,
          6.025403146377438,
          18.460211302745325,
          4.268086649052308
         ],
         "xaxis": "x",
         "y": [
          1656,
          1993,
          1223,
          61,
          2133,
          1580,
          1090,
          747,
          1034,
          1083,
          84,
          2498,
          26,
          1587,
          1440,
          146,
          1217,
          818,
          76,
          48,
          118,
          1582,
          22,
          589,
          2004,
          4493,
          32,
          95,
          1384,
          1216,
          705,
          705,
          152,
          118,
          99,
          99,
          40,
          26,
          6278,
          3466,
          2829,
          2260,
          34,
          1527,
          6199,
          169,
          6087,
          3187,
          46,
          25,
          46,
          831,
          782,
          145,
          131,
          61,
          2049,
          2477,
          76,
          1064,
          3334,
          81,
          39,
          39,
          39,
          132,
          1300,
          1076,
          782,
          691,
          145,
          68,
          3079,
          2267,
          1895,
          7,
          1870,
          2615,
          144,
          88,
          5628,
          1218,
          145,
          1979,
          120,
          103,
          4016,
          68,
          1860,
          173,
          124,
          76,
          1373,
          638,
          1929,
          2424,
          2494,
          1978,
          1202,
          54,
          2175,
          2820,
          3090,
          1530,
          1625,
          3497,
          130,
          25,
          1510,
          166,
          134,
          75,
          26,
          2042,
          75,
          27,
          21,
          21,
          1219,
          6241,
          10003,
          698,
          26,
          1489,
          194,
          180,
          110,
          26,
          19,
          41,
          729,
          498,
          32,
          18,
          1643,
          1223,
          831,
          89,
          3011,
          33,
          1881,
          2189,
          2049,
          2007,
          145,
          225,
          64,
          1975,
          179,
          39,
          96,
          19,
          19,
          691,
          180,
          155,
          117,
          84,
          1604,
          1639,
          95,
          25,
          110,
          56,
          33,
          2932,
          159,
          103,
          97,
          34,
          3651,
          799,
          110,
          173,
          75,
          70,
          70,
          40,
          12,
          2253,
          2056,
          3695,
          2372,
          82,
          4092,
          3075,
          2502,
          2400,
          1566,
          96,
          77,
          70,
          61,
          2953,
          6227,
          130,
          109,
          102,
          88,
          40,
          215,
          96,
          75,
          33,
          810,
          4609,
          159,
          89,
          82,
          47,
          33,
          2140,
          547,
          6220,
          1559,
          1545,
          901,
          243,
          138,
          131,
          124,
          47,
          26,
          19,
          2281,
          2224,
          203,
          137,
          130,
          775,
          243,
          173,
          173,
          152,
          138,
          103,
          68,
          3226,
          40,
          230,
          131,
          138,
          82,
          47,
          82,
          89,
          211,
          96,
          180,
          180,
          180,
          203,
          98,
          4988,
          214,
          1335,
          1951,
          96,
          215,
          110,
          83,
          891,
          127,
          240,
          2977,
          127,
          102,
          46,
          250,
          2778,
          1258,
          2021,
          2344,
          2365,
          957,
          1531,
          1202,
          194,
          138,
          131,
          1366,
          997,
          323,
          134,
          1954,
          5478,
          4704,
          137,
          1160,
          2133,
          103,
          96,
          61,
          1643,
          54,
          48,
          2302,
          2084,
          264,
          251,
          145,
          133,
          3093,
          61,
          2150,
          2656,
          2474,
          2769,
          1368,
          54,
          2329,
          6987,
          133,
          3669,
          110,
          68,
          222,
          138,
          75,
          2974,
          2400,
          103,
          1314,
          3429,
          133,
          1344,
          2268,
          2038,
          88,
          3612,
          2658,
          1846,
          187,
          180,
          152,
          2224,
          4437,
          2105,
          110,
          183,
          165,
          292,
          278,
          278,
          257,
          152,
          75,
          131,
          13,
          13,
          14,
          5513,
          3937,
          1769,
          1398,
          894,
          285,
          161,
          124,
          5997,
          1398,
          924,
          21,
          3152,
          3019,
          961,
          1718,
          172,
          2855,
          1685,
          1195,
          866,
          341,
          278,
          201,
          187,
          166,
          138,
          1993,
          2168,
          3002,
          292,
          1975,
          428,
          6535,
          6458,
          3624,
          1601,
          1426,
          992,
          910,
          215,
          194,
          180,
          159,
          152,
          41,
          41,
          127,
          6400,
          181,
          39,
          2392,
          2742,
          1384,
          999,
          952,
          341,
          201,
          173,
          138,
          82,
          26,
          26,
          3184,
          2498,
          299,
          299,
          243,
          194,
          68,
          26,
          2014,
          5832,
          2680,
          27,
          27,
          3187,
          323,
          3670,
          1796,
          137,
          25,
          117,
          298,
          6584,
          2192,
          2719,
          8132,
          2607,
          25,
          1615,
          1293,
          327,
          327,
          152,
          103,
          61,
          19,
          34,
          1607,
          603,
          246,
          218,
          43,
          36,
          22,
          6395,
          4552,
          60,
          1587,
          1475,
          348,
          61,
          61,
          47,
          3674,
          2743,
          1387,
          162,
          2021,
          999,
          852,
          376,
          379,
          264,
          243,
          217,
          74,
          68,
          40,
          4054,
          3426,
          1737,
          1671,
          323,
          224,
          201,
          165,
          148,
          78,
          3067,
          2079,
          1727,
          1321,
          876,
          369,
          362,
          165,
          84,
          2115,
          2101,
          5019,
          5104,
          1787,
          1008,
          348,
          306,
          274,
          173,
          173,
          60,
          40,
          32,
          33,
          35,
          18,
          4029,
          3166,
          2928,
          1454,
          390,
          411,
          292,
          188,
          47,
          39,
          39,
          3757,
          2988,
          1475,
          1011,
          327,
          316,
          263,
          222,
          204,
          173,
          75,
          68,
          68,
          19,
          2413,
          2273,
          6234,
          4225,
          3721,
          3721,
          1980,
          2998,
          2515,
          2021,
          1478,
          1130,
          362,
          229,
          145,
          109,
          96,
          47,
          2210,
          81,
          376,
          306,
          75,
          26,
          3128,
          2827,
          20,
          1310,
          344,
          316,
          85,
          2991,
          2991,
          271,
          1104,
          82,
          26,
          2477,
          990,
          372,
          246,
          225,
          113,
          3952,
          3833,
          3026,
          158,
          180,
          131,
          40,
          2224,
          2540,
          813,
          1874,
          369,
          243,
          131,
          19,
          18,
          3753,
          3029,
          1055,
          89,
          26,
          422,
          342,
          2630,
          1083,
          859,
          754,
          1531,
          2960,
          1364,
          834,
          351,
          1681,
          1509,
          5570,
          684,
          425,
          413,
          392,
          369,
          362,
          286,
          1447,
          1826,
          1783,
          3107,
          2183,
          783,
          1289,
          395,
          5933,
          1934,
          5861,
          1027,
          915,
          810,
          705,
          404,
          341,
          1783,
          1734,
          5300,
          1594,
          2640,
          855,
          1793,
          362,
          719,
          4171,
          2008,
          1166,
          897,
          3112,
          2993,
          2949,
          1424,
          1440,
          915,
          873,
          831,
          439,
          425,
          376,
          10376,
          900,
          834,
          5135,
          1258,
          1132,
          978,
          789,
          399,
          376,
          1594,
          1545,
          1671,
          1650,
          2204,
          461,
          1275,
          309,
          4309,
          2403,
          2422,
          1454,
          1069,
          852,
          824,
          404,
          385,
          1762,
          1657,
          3009,
          2358,
          1594,
          1317,
          480,
          2924,
          1468,
          1419,
          810,
          441,
          439,
          1671,
          714,
          1481,
          855,
          395,
          1010,
          6342,
          1217,
          944,
          832,
          776,
          748,
          405,
          1546,
          1855,
          4053,
          3164,
          3128,
          2693,
          2247,
          2100,
          1946,
          64,
          2271,
          883,
          956,
          454,
          1649,
          1412,
          1146,
          845,
          455,
          455,
          1699,
          3016,
          2442,
          2428,
          2246,
          1448,
          316,
          911,
          2564,
          1461,
          1293,
          915,
          488,
          481,
          313,
          1608,
          1917,
          6336,
          1324,
          1058,
          1181,
          922,
          908,
          831,
          789,
          775,
          432,
          1769,
          4219,
          3214,
          3086,
          433,
          1288,
          6162,
          2602,
          3178,
          2966,
          1188,
          880,
          845,
          474,
          448,
          2225,
          489,
          2308,
          1314,
          1307,
          901,
          894,
          441,
          418,
          404,
          1545,
          915,
          1727,
          3828,
          6114,
          1223,
          915,
          1910,
          3193,
          3051,
          2974,
          2281,
          1478,
          4137,
          582,
          414,
          5919,
          2937,
          1432,
          956,
          1937,
          852,
          1692,
          2225,
          1000,
          2730,
          3867,
          1660,
          2942,
          2678,
          4732,
          490,
          467,
          1650,
          1966,
          6523,
          5900,
          2624,
          2610,
          2596,
          2008,
          2106,
          1464,
          1142,
          2760,
          1457,
          1366,
          3684,
          517,
          1055,
          4214,
          2437,
          2834,
          2659,
          2029,
          92,
          3220,
          1517,
          922,
          789,
          593,
          504,
          439,
          1594,
          4401,
          3256,
          2778,
          2353,
          507,
          4125,
          2571,
          1363,
          1237,
          1209,
          1126,
          973,
          824,
          614,
          572,
          565,
          523,
          483,
          1573,
          1916,
          1853,
          1755,
          1741,
          3228,
          3114,
          2057,
          478,
          1757,
          1884,
          1821,
          5495,
          1363,
          957,
          824,
          1601,
          1727,
          3256,
          1713,
          2939,
          546,
          1366,
          365,
          953,
          1199,
          1552,
          1006,
          999,
          943,
          873,
          817,
          817,
          600,
          579,
          544,
          511,
          488,
          474,
          1706,
          1650,
          5881,
          1734,
          1664,
          2645,
          2407,
          631,
          556,
          512,
          1653,
          1632,
          1814,
          5190,
          2676,
          2244,
          2021,
          2021,
          1076,
          1027,
          980,
          859,
          635,
          509,
          488,
          236,
          1636,
          1874,
          1797,
          2645,
          2148,
          316,
          3313,
          1559,
          1496,
          1154,
          950,
          866,
          866,
          831,
          532,
          511,
          6224,
          6154,
          1804,
          3079,
          2519,
          952,
          1786,
          2564,
          837,
          992,
          964,
          558,
          532,
          1966,
          1839,
          3337,
          2871,
          2708,
          2134,
          2057,
          1651,
          518,
          1345,
          5954,
          1608,
          1398,
          1090,
          838,
          537,
          530,
          1699,
          1685,
          1980,
          1762,
          2540,
          5407,
          563,
          9888,
          4652,
          3322,
          2979,
          1488,
          1615,
          1545,
          1272,
          1083,
          936,
          532,
          495,
          138,
          1734,
          1692,
          1895,
          1797,
          1762,
          3408,
          2316,
          1896,
          1156,
          477,
          211,
          1908,
          2445,
          46,
          649,
          539,
          532,
          1923,
          1853,
          2155,
          5853,
          865,
          1566,
          1272,
          901,
          593,
          581,
          502,
          1937,
          4425,
          2071,
          2138,
          552,
          1566,
          1531,
          1216,
          901,
          8008,
          2393,
          2113,
          1594,
          512,
          2606,
          1423,
          2000,
          5080,
          552,
          3325,
          3226,
          1125,
          642,
          1440,
          1783,
          3331,
          5503,
          2337,
          2106,
          13,
          1555,
          638,
          598,
          3495,
          3289,
          1303,
          1111,
          1065,
          936,
          932,
          908,
          355,
          2680,
          1870,
          719,
          1842,
          2379,
          1160,
          2109,
          889,
          631,
          628,
          616,
          3326,
          361,
          2896,
          3233,
          3212,
          3023,
          2126,
          1651,
          6278,
          635,
          621,
          316,
          25,
          21,
          21,
          18,
          4759,
          3633,
          3387,
          3380,
          3289,
          467,
          3110,
          1769,
          27,
          19,
          19,
          1713,
          6409,
          6071,
          5802,
          4318,
          2466,
          2155,
          1048,
          950,
          915,
          795,
          623,
          609,
          600,
          26,
          2106,
          1895,
          5330,
          4771,
          4684,
          3813,
          3474,
          2906,
          2792,
          2141,
          981,
          974,
          663,
          19,
          19,
          1811,
          5188,
          2897,
          279,
          2561,
          2724,
          1506,
          1485,
          1156,
          589,
          1855,
          2942,
          1621,
          1069,
          950,
          630,
          593,
          19,
          2106,
          3689,
          3660,
          3044,
          2470,
          2449,
          1069,
          654,
          609,
          607,
          71,
          61,
          27,
          20,
          19,
          13,
          13,
          2078,
          1860,
          1846,
          2449,
          2239,
          1741,
          2137,
          9871,
          1902,
          3370,
          3336,
          3249,
          2883,
          2442,
          2361,
          1699,
          999,
          974,
          672,
          665,
          651,
          628,
          69,
          20,
          2008,
          1338,
          671,
          633,
          456,
          69,
          62,
          55,
          55,
          41,
          39,
          35,
          35,
          35,
          27,
          17,
          14,
          1904,
          1903,
          2916,
          2837,
          2375,
          2198,
          2557,
          644,
          40,
          40,
          32,
          28,
          21,
          14,
          16,
          11,
          1751,
          2134,
          10397,
          9923,
          4799,
          3275,
          2512,
          12,
          1149,
          706,
          654,
          386,
          69,
          62,
          62,
          62,
          49,
          41,
          41,
          30,
          30,
          20,
          20,
          7,
          106,
          2107,
          1952,
          8705,
          1446,
          1111,
          665,
          82,
          61,
          48,
          33,
          12,
          15,
          15,
          15,
          3299,
          2939,
          1492,
          1236,
          774,
          661,
          400,
          372,
          106,
          78,
          50,
          46,
          38,
          29,
          22,
          1870,
          1863,
          1814,
          3574,
          2263,
          2185,
          1240,
          1049,
          1035,
          986,
          806,
          769,
          53,
          2080,
          10552,
          3094,
          2912,
          2268,
          1671,
          1629,
          1447,
          1443,
          1356,
          1314,
          813,
          740,
          656,
          67,
          56,
          25,
          25,
          2171,
          1979,
          8632,
          4854,
          3942,
          2052,
          689,
          64,
          1559,
          1412,
          1384,
          745,
          130,
          117,
          67,
          57,
          46,
          46,
          39,
          39,
          32,
          33,
          25,
          2148,
          4847,
          6759,
          3430,
          1908,
          3324,
          2778,
          204,
          3795,
          299,
          1167,
          1013,
          144,
          81,
          39,
          39,
          25,
          25,
          1895,
          5258,
          3359,
          3341,
          2836,
          2589,
          2414,
          1783,
          1748,
          1244,
          1190,
          1192,
          1183,
          803,
          749,
          698,
          194,
          109,
          103,
          78,
          77,
          75,
          18,
          5,
          1909,
          2155,
          6766,
          5188,
          4694,
          4348,
          3606,
          3243,
          8096,
          5520,
          4128,
          2547,
          43,
          1982,
          3115
         ],
         "yaxis": "y"
        }
       ],
       "layout": {
        "legend": {
         "tracegroupgap": 0
        },
        "template": {
         "data": {
          "bar": [
           {
            "error_x": {
             "color": "#2a3f5f"
            },
            "error_y": {
             "color": "#2a3f5f"
            },
            "marker": {
             "line": {
              "color": "#E5ECF6",
              "width": 0.5
             },
             "pattern": {
              "fillmode": "overlay",
              "size": 10,
              "solidity": 0.2
             }
            },
            "type": "bar"
           }
          ],
          "barpolar": [
           {
            "marker": {
             "line": {
              "color": "#E5ECF6",
              "width": 0.5
             },
             "pattern": {
              "fillmode": "overlay",
              "size": 10,
              "solidity": 0.2
             }
            },
            "type": "barpolar"
           }
          ],
          "carpet": [
           {
            "aaxis": {
             "endlinecolor": "#2a3f5f",
             "gridcolor": "white",
             "linecolor": "white",
             "minorgridcolor": "white",
             "startlinecolor": "#2a3f5f"
            },
            "baxis": {
             "endlinecolor": "#2a3f5f",
             "gridcolor": "white",
             "linecolor": "white",
             "minorgridcolor": "white",
             "startlinecolor": "#2a3f5f"
            },
            "type": "carpet"
           }
          ],
          "choropleth": [
           {
            "colorbar": {
             "outlinewidth": 0,
             "ticks": ""
            },
            "type": "choropleth"
           }
          ],
          "contour": [
           {
            "colorbar": {
             "outlinewidth": 0,
             "ticks": ""
            },
            "colorscale": [
             [
              0,
              "#0d0887"
             ],
             [
              0.1111111111111111,
              "#46039f"
             ],
             [
              0.2222222222222222,
              "#7201a8"
             ],
             [
              0.3333333333333333,
              "#9c179e"
             ],
             [
              0.4444444444444444,
              "#bd3786"
             ],
             [
              0.5555555555555556,
              "#d8576b"
             ],
             [
              0.6666666666666666,
              "#ed7953"
             ],
             [
              0.7777777777777778,
              "#fb9f3a"
             ],
             [
              0.8888888888888888,
              "#fdca26"
             ],
             [
              1,
              "#f0f921"
             ]
            ],
            "type": "contour"
           }
          ],
          "contourcarpet": [
           {
            "colorbar": {
             "outlinewidth": 0,
             "ticks": ""
            },
            "type": "contourcarpet"
           }
          ],
          "heatmap": [
           {
            "colorbar": {
             "outlinewidth": 0,
             "ticks": ""
            },
            "colorscale": [
             [
              0,
              "#0d0887"
             ],
             [
              0.1111111111111111,
              "#46039f"
             ],
             [
              0.2222222222222222,
              "#7201a8"
             ],
             [
              0.3333333333333333,
              "#9c179e"
             ],
             [
              0.4444444444444444,
              "#bd3786"
             ],
             [
              0.5555555555555556,
              "#d8576b"
             ],
             [
              0.6666666666666666,
              "#ed7953"
             ],
             [
              0.7777777777777778,
              "#fb9f3a"
             ],
             [
              0.8888888888888888,
              "#fdca26"
             ],
             [
              1,
              "#f0f921"
             ]
            ],
            "type": "heatmap"
           }
          ],
          "heatmapgl": [
           {
            "colorbar": {
             "outlinewidth": 0,
             "ticks": ""
            },
            "colorscale": [
             [
              0,
              "#0d0887"
             ],
             [
              0.1111111111111111,
              "#46039f"
             ],
             [
              0.2222222222222222,
              "#7201a8"
             ],
             [
              0.3333333333333333,
              "#9c179e"
             ],
             [
              0.4444444444444444,
              "#bd3786"
             ],
             [
              0.5555555555555556,
              "#d8576b"
             ],
             [
              0.6666666666666666,
              "#ed7953"
             ],
             [
              0.7777777777777778,
              "#fb9f3a"
             ],
             [
              0.8888888888888888,
              "#fdca26"
             ],
             [
              1,
              "#f0f921"
             ]
            ],
            "type": "heatmapgl"
           }
          ],
          "histogram": [
           {
            "marker": {
             "pattern": {
              "fillmode": "overlay",
              "size": 10,
              "solidity": 0.2
             }
            },
            "type": "histogram"
           }
          ],
          "histogram2d": [
           {
            "colorbar": {
             "outlinewidth": 0,
             "ticks": ""
            },
            "colorscale": [
             [
              0,
              "#0d0887"
             ],
             [
              0.1111111111111111,
              "#46039f"
             ],
             [
              0.2222222222222222,
              "#7201a8"
             ],
             [
              0.3333333333333333,
              "#9c179e"
             ],
             [
              0.4444444444444444,
              "#bd3786"
             ],
             [
              0.5555555555555556,
              "#d8576b"
             ],
             [
              0.6666666666666666,
              "#ed7953"
             ],
             [
              0.7777777777777778,
              "#fb9f3a"
             ],
             [
              0.8888888888888888,
              "#fdca26"
             ],
             [
              1,
              "#f0f921"
             ]
            ],
            "type": "histogram2d"
           }
          ],
          "histogram2dcontour": [
           {
            "colorbar": {
             "outlinewidth": 0,
             "ticks": ""
            },
            "colorscale": [
             [
              0,
              "#0d0887"
             ],
             [
              0.1111111111111111,
              "#46039f"
             ],
             [
              0.2222222222222222,
              "#7201a8"
             ],
             [
              0.3333333333333333,
              "#9c179e"
             ],
             [
              0.4444444444444444,
              "#bd3786"
             ],
             [
              0.5555555555555556,
              "#d8576b"
             ],
             [
              0.6666666666666666,
              "#ed7953"
             ],
             [
              0.7777777777777778,
              "#fb9f3a"
             ],
             [
              0.8888888888888888,
              "#fdca26"
             ],
             [
              1,
              "#f0f921"
             ]
            ],
            "type": "histogram2dcontour"
           }
          ],
          "mesh3d": [
           {
            "colorbar": {
             "outlinewidth": 0,
             "ticks": ""
            },
            "type": "mesh3d"
           }
          ],
          "parcoords": [
           {
            "line": {
             "colorbar": {
              "outlinewidth": 0,
              "ticks": ""
             }
            },
            "type": "parcoords"
           }
          ],
          "pie": [
           {
            "automargin": true,
            "type": "pie"
           }
          ],
          "scatter": [
           {
            "fillpattern": {
             "fillmode": "overlay",
             "size": 10,
             "solidity": 0.2
            },
            "type": "scatter"
           }
          ],
          "scatter3d": [
           {
            "line": {
             "colorbar": {
              "outlinewidth": 0,
              "ticks": ""
             }
            },
            "marker": {
             "colorbar": {
              "outlinewidth": 0,
              "ticks": ""
             }
            },
            "type": "scatter3d"
           }
          ],
          "scattercarpet": [
           {
            "marker": {
             "colorbar": {
              "outlinewidth": 0,
              "ticks": ""
             }
            },
            "type": "scattercarpet"
           }
          ],
          "scattergeo": [
           {
            "marker": {
             "colorbar": {
              "outlinewidth": 0,
              "ticks": ""
             }
            },
            "type": "scattergeo"
           }
          ],
          "scattergl": [
           {
            "marker": {
             "colorbar": {
              "outlinewidth": 0,
              "ticks": ""
             }
            },
            "type": "scattergl"
           }
          ],
          "scattermapbox": [
           {
            "marker": {
             "colorbar": {
              "outlinewidth": 0,
              "ticks": ""
             }
            },
            "type": "scattermapbox"
           }
          ],
          "scatterpolar": [
           {
            "marker": {
             "colorbar": {
              "outlinewidth": 0,
              "ticks": ""
             }
            },
            "type": "scatterpolar"
           }
          ],
          "scatterpolargl": [
           {
            "marker": {
             "colorbar": {
              "outlinewidth": 0,
              "ticks": ""
             }
            },
            "type": "scatterpolargl"
           }
          ],
          "scatterternary": [
           {
            "marker": {
             "colorbar": {
              "outlinewidth": 0,
              "ticks": ""
             }
            },
            "type": "scatterternary"
           }
          ],
          "surface": [
           {
            "colorbar": {
             "outlinewidth": 0,
             "ticks": ""
            },
            "colorscale": [
             [
              0,
              "#0d0887"
             ],
             [
              0.1111111111111111,
              "#46039f"
             ],
             [
              0.2222222222222222,
              "#7201a8"
             ],
             [
              0.3333333333333333,
              "#9c179e"
             ],
             [
              0.4444444444444444,
              "#bd3786"
             ],
             [
              0.5555555555555556,
              "#d8576b"
             ],
             [
              0.6666666666666666,
              "#ed7953"
             ],
             [
              0.7777777777777778,
              "#fb9f3a"
             ],
             [
              0.8888888888888888,
              "#fdca26"
             ],
             [
              1,
              "#f0f921"
             ]
            ],
            "type": "surface"
           }
          ],
          "table": [
           {
            "cells": {
             "fill": {
              "color": "#EBF0F8"
             },
             "line": {
              "color": "white"
             }
            },
            "header": {
             "fill": {
              "color": "#C8D4E3"
             },
             "line": {
              "color": "white"
             }
            },
            "type": "table"
           }
          ]
         },
         "layout": {
          "annotationdefaults": {
           "arrowcolor": "#2a3f5f",
           "arrowhead": 0,
           "arrowwidth": 1
          },
          "autotypenumbers": "strict",
          "coloraxis": {
           "colorbar": {
            "outlinewidth": 0,
            "ticks": ""
           }
          },
          "colorscale": {
           "diverging": [
            [
             0,
             "#8e0152"
            ],
            [
             0.1,
             "#c51b7d"
            ],
            [
             0.2,
             "#de77ae"
            ],
            [
             0.3,
             "#f1b6da"
            ],
            [
             0.4,
             "#fde0ef"
            ],
            [
             0.5,
             "#f7f7f7"
            ],
            [
             0.6,
             "#e6f5d0"
            ],
            [
             0.7,
             "#b8e186"
            ],
            [
             0.8,
             "#7fbc41"
            ],
            [
             0.9,
             "#4d9221"
            ],
            [
             1,
             "#276419"
            ]
           ],
           "sequential": [
            [
             0,
             "#0d0887"
            ],
            [
             0.1111111111111111,
             "#46039f"
            ],
            [
             0.2222222222222222,
             "#7201a8"
            ],
            [
             0.3333333333333333,
             "#9c179e"
            ],
            [
             0.4444444444444444,
             "#bd3786"
            ],
            [
             0.5555555555555556,
             "#d8576b"
            ],
            [
             0.6666666666666666,
             "#ed7953"
            ],
            [
             0.7777777777777778,
             "#fb9f3a"
            ],
            [
             0.8888888888888888,
             "#fdca26"
            ],
            [
             1,
             "#f0f921"
            ]
           ],
           "sequentialminus": [
            [
             0,
             "#0d0887"
            ],
            [
             0.1111111111111111,
             "#46039f"
            ],
            [
             0.2222222222222222,
             "#7201a8"
            ],
            [
             0.3333333333333333,
             "#9c179e"
            ],
            [
             0.4444444444444444,
             "#bd3786"
            ],
            [
             0.5555555555555556,
             "#d8576b"
            ],
            [
             0.6666666666666666,
             "#ed7953"
            ],
            [
             0.7777777777777778,
             "#fb9f3a"
            ],
            [
             0.8888888888888888,
             "#fdca26"
            ],
            [
             1,
             "#f0f921"
            ]
           ]
          },
          "colorway": [
           "#636efa",
           "#EF553B",
           "#00cc96",
           "#ab63fa",
           "#FFA15A",
           "#19d3f3",
           "#FF6692",
           "#B6E880",
           "#FF97FF",
           "#FECB52"
          ],
          "font": {
           "color": "#2a3f5f"
          },
          "geo": {
           "bgcolor": "white",
           "lakecolor": "white",
           "landcolor": "#E5ECF6",
           "showlakes": true,
           "showland": true,
           "subunitcolor": "white"
          },
          "hoverlabel": {
           "align": "left"
          },
          "hovermode": "closest",
          "mapbox": {
           "style": "light"
          },
          "paper_bgcolor": "white",
          "plot_bgcolor": "#E5ECF6",
          "polar": {
           "angularaxis": {
            "gridcolor": "white",
            "linecolor": "white",
            "ticks": ""
           },
           "bgcolor": "#E5ECF6",
           "radialaxis": {
            "gridcolor": "white",
            "linecolor": "white",
            "ticks": ""
           }
          },
          "scene": {
           "xaxis": {
            "backgroundcolor": "#E5ECF6",
            "gridcolor": "white",
            "gridwidth": 2,
            "linecolor": "white",
            "showbackground": true,
            "ticks": "",
            "zerolinecolor": "white"
           },
           "yaxis": {
            "backgroundcolor": "#E5ECF6",
            "gridcolor": "white",
            "gridwidth": 2,
            "linecolor": "white",
            "showbackground": true,
            "ticks": "",
            "zerolinecolor": "white"
           },
           "zaxis": {
            "backgroundcolor": "#E5ECF6",
            "gridcolor": "white",
            "gridwidth": 2,
            "linecolor": "white",
            "showbackground": true,
            "ticks": "",
            "zerolinecolor": "white"
           }
          },
          "shapedefaults": {
           "line": {
            "color": "#2a3f5f"
           }
          },
          "ternary": {
           "aaxis": {
            "gridcolor": "white",
            "linecolor": "white",
            "ticks": ""
           },
           "baxis": {
            "gridcolor": "white",
            "linecolor": "white",
            "ticks": ""
           },
           "bgcolor": "#E5ECF6",
           "caxis": {
            "gridcolor": "white",
            "linecolor": "white",
            "ticks": ""
           }
          },
          "title": {
           "x": 0.05
          },
          "xaxis": {
           "automargin": true,
           "gridcolor": "white",
           "linecolor": "white",
           "ticks": "",
           "title": {
            "standoff": 15
           },
           "zerolinecolor": "white",
           "zerolinewidth": 2
          },
          "yaxis": {
           "automargin": true,
           "gridcolor": "white",
           "linecolor": "white",
           "ticks": "",
           "title": {
            "standoff": 15
           },
           "zerolinecolor": "white",
           "zerolinewidth": 2
          }
         }
        },
        "title": {
         "text": "Relación entre Distancia y Antigüedad"
        },
        "xaxis": {
         "anchor": "y",
         "domain": [
          0,
          1
         ],
         "title": {
          "text": "Distancia"
         }
        },
        "yaxis": {
         "anchor": "x",
         "domain": [
          0,
          1
         ],
         "title": {
          "text": "ANTIGÜEDAD"
         }
        }
       }
      },
      "text/html": [
       "<div>                            <div id=\"30815a87-31a4-49d3-845e-5b98649ca4bb\" class=\"plotly-graph-div\" style=\"height:525px; width:100%;\"></div>            <script type=\"text/javascript\">                require([\"plotly\"], function(Plotly) {                    window.PLOTLYENV=window.PLOTLYENV || {};                                    if (document.getElementById(\"30815a87-31a4-49d3-845e-5b98649ca4bb\")) {                    Plotly.newPlot(                        \"30815a87-31a4-49d3-845e-5b98649ca4bb\",                        [{\"hovertemplate\":\"Distancia=%{x}\\u003cbr\\u003eANTIGÜEDAD=%{y}\\u003cextra\\u003e\\u003c\\u002fextra\\u003e\",\"legendgroup\":\"\",\"marker\":{\"color\":\"#636efa\",\"symbol\":\"circle\"},\"mode\":\"markers\",\"name\":\"\",\"showlegend\":false,\"x\":[10.815468874175656,18.258464034263955,18.460211302745325,6.025403146377438,6.025403146377438,18.460211302745325,6.025403146377438,6.025403146377438,12.782753425564334,6.025403146377438,6.025403146377438,6.025403146377438,6.025403146377438,5.169751139513358,6.376805488828198,6.025403146377438,6.025403146377438,2.6942229076486908,4.874712011839221,6.025403146377438,6.025403146377438,13.59346846802786,6.025403146377438,null,18.460211302745325,2.6942229076486908,6.025403146377438,13.59346846802786,13.59346846802786,6.025403146377438,13.940636066402496,6.025403146377438,6.025403146377438,13.59346846802786,null,6.025403146377438,14.816703036317268,13.940636066402496,18.258464034263955,20.716003241103618,13.59346846802786,2.6942229076486908,6.025403146377438,7.244211171772542,14.766084763351962,6.025403146377438,10.25442013078869,5.66534680905694,13.59346846802786,9.352542138276764,6.025403146377438,6.025403146377438,6.025403146377438,6.025403146377438,13.59346846802786,6.025403146377438,6.376805488828198,4.457987355144732,6.025403146377438,6.025403146377438,6.025403146377438,6.025403146377438,13.940636066402496,14.766084763351962,6.025403146377438,6.025403146377438,5.547035154748849,13.59346846802786,6.025403146377438,null,6.025403146377438,6.025403146377438,6.025403146377438,13.59346846802786,6.025403146377438,13.59346846802786,18.460211302745325,6.025403146377438,13.59346846802786,6.025403146377438,13.59346846802786,13.59346846802786,6.025403146377438,9.366780562752464,6.025403146377438,13.59346846802786,16.782938724016287,14.766084763351962,18.460211302745325,6.025403146377438,6.025403146377438,6.025403146377438,5.7126146248371725,19.114496458152686,2.6942229076486908,4.239045606125979,13.59346846802786,6.025403146377438,7.651533171870985,3.237393628796011,7.706894327778476,6.025403146377438,18.108271094304147,6.997366424868751,13.59346846802786,6.025403146377438,7.616734714551439,6.025403146377438,6.025403146377438,6.025403146377438,6.025403146377438,6.025403146377438,3.2680676311965646,18.460211302745325,6.025403146377438,3.2680676311965646,13.59346846802786,6.025403146377438,6.025403146377438,9.465687849347075,13.940636066402496,6.025403146377438,6.025403146377438,6.025403146377438,6.025403146377438,6.025403146377438,6.025403146377438,13.59346846802786,6.025403146377438,17.022359158622354,13.763945044922124,6.025403146377438,7.616734714551439,18.460211302745325,6.025403146377438,14.766084763351962,6.025403146377438,6.025403146377438,21.36717004776061,13.59346846802786,13.59346846802786,7.616734714551439,18.460211302745325,13.940636066402496,14.816703036317268,6.025403146377438,7.616734714551439,3.2680676311965646,6.025403146377438,13.59346846802786,16.782938724016287,13.59346846802786,13.59346846802786,18.460211302745325,6.025403146377438,6.025403146377438,6.025403146377438,6.025403146377438,2.6942229076486908,13.940636066402496,6.025403146377438,6.025403146377438,13.59346846802786,13.59346846802786,6.025403146377438,6.025403146377438,6.025403146377438,14.766084763351962,7.616734714551439,6.025403146377438,4.239045606125979,13.59346846802786,4.457987355144732,13.59346846802786,13.59346846802786,6.025403146377438,7.616734714551439,6.025403146377438,14.766084763351962,6.376805488828198,11.616135671000698,16.944722917499377,6.025403146377438,null,5.701427952235059,3.2680676311965646,4.542514330484239,4.457987355144732,4.874712011839221,6.025403146377438,6.025403146377438,6.025403146377438,5.450623970974352,5.66534680905694,2.6942229076486908,13.59346846802786,6.025403146377438,6.025403146377438,18.460211302745325,7.706894327778476,6.025403146377438,6.025403146377438,14.766084763351962,6.025403146377438,13.940636066402496,6.2435744940117885,6.025403146377438,7.616734714551439,13.59346846802786,13.59346846802786,6.025403146377438,3.2680676311965646,13.37776764682687,20.687631247527385,6.376805488828198,7.616734714551439,6.025403146377438,6.025403146377438,13.59346846802786,4.268086649052308,13.59346846802786,29.76262433945618,13.59346846802786,7.616734714551439,18.460211302745325,6.025403146377438,6.025403146377438,6.025403146377438,2.6942229076486908,7.616734714551439,6.025403146377438,13.940636066402496,14.766084763351962,6.025403146377438,6.025403146377438,6.025403146377438,13.59346846802786,13.59346846802786,13.59346846802786,6.025403146377438,6.025403146377438,6.025403146377438,6.025403146377438,14.766084763351962,6.025403146377438,6.025403146377438,6.025403146377438,6.025403146377438,13.940636066402496,6.025403146377438,6.025403146377438,6.2435744940117885,6.025403146377438,7.616734714551439,14.766084763351962,18.460211302745325,7.522064631144397,13.59346846802786,13.59346846802786,6.025403146377438,6.025403146377438,6.025403146377438,null,6.025403146377438,13.59346846802786,9.80866561329665,6.025403146377438,6.025403146377438,6.025403146377438,7.616734714551439,6.025403146377438,7.096108678554284,13.59346846802786,13.59346846802786,6.376805488828198,13.59346846802786,6.025403146377438,7.616734714551439,7.616734714551439,6.025403146377438,13.940636066402496,12.443160619824605,31.10873058960069,10.306050350854846,5.701427952235059,13.59346846802786,13.59346846802786,6.025403146377438,13.59346846802786,4.457987355144732,6.025403146377438,6.025403146377438,7.616734714551439,6.025403146377438,7.522064631144397,6.025403146377438,6.025403146377438,6.025403146377438,6.025403146377438,6.025403146377438,9.366780562752464,6.025403146377438,6.025403146377438,7.616734714551439,6.6968511312655945,7.651533171870985,21.36717004776061,6.025403146377438,13.59346846802786,6.025403146377438,6.025403146377438,22.0706987252346,6.025403146377438,7.616734714551439,6.025403146377438,13.59346846802786,737.350801614168,13.59346846802786,13.59346846802786,6.025403146377438,13.59346846802786,7.616734714551439,6.025403146377438,7.522064631144397,14.816703036317268,14.816703036317268,18.460211302745325,13.59346846802786,6.025403146377438,6.025403146377438,6.025403146377438,6.025403146377438,6.025403146377438,6.025403146377438,14.766084763351962,14.766084763351962,13.59346846802786,6.025403146377438,4.268086649052308,6.025403146377438,6.025403146377438,6.025403146377438,6.376805488828198,6.025403146377438,6.025403146377438,6.025403146377438,6.025403146377438,6.025403146377438,13.59346846802786,6.376805488828198,6.025403146377438,3.650904795956228,10.674237037613494,11.616135671000698,6.025403146377438,13.59346846802786,6.025403146377438,6.025403146377438,14.766084763351962,6.025403146377438,6.025403146377438,7.522064631144397,7.616734714551439,4.874712011839221,4.457987355144732,6.2435744940117885,9.689887942263292,null,6.025403146377438,13.59346846802786,6.025403146377438,10.674237037613494,6.025403146377438,6.025403146377438,6.025403146377438,7.616734714551439,6.025403146377438,6.025403146377438,6.025403146377438,13.59346846802786,6.376805488828198,6.212976326401295,7.245987223533048,18.460211302745325,18.630424750079985,6.025403146377438,5.701427952235059,11.616135671000698,9.366780562752464,6.025403146377438,13.59346846802786,6.025403146377438,11.616135671000698,14.766084763351962,22.597263960481488,6.025403146377438,7.616734714551439,6.025403146377438,6.025403146377438,5.547035154748849,6.025403146377438,13.940636066402496,6.025403146377438,13.59346846802786,7.616734714551439,6.025403146377438,3.2680676311965646,11.664474526091285,6.025403146377438,2.6942229076486908,6.025403146377438,13.59346846802786,6.025403146377438,18.460211302745325,4.457987355144732,4.457987355144732,7.616734714551439,13.59346846802786,6.025403146377438,null,4.457987355144732,6.025403146377438,18.460211302745325,14.766084763351962,6.025403146377438,31.10873058960069,31.10873058960069,6.025403146377438,13.59346846802786,13.59346846802786,13.59346846802786,7.616734714551439,6.025403146377438,6.025403146377438,737.350801614168,16.59959946004633,18.460211302745325,5.701427952235059,2.6942229076486908,13.940636066402496,7.616734714551439,22.597263960481488,6.025403146377438,6.025403146377438,14.766084763351962,7.616734714551439,7.616734714551439,6.025403146377438,6.025403146377438,6.025403146377438,3.2680676311965646,9.366780562752464,6.025403146377438,6.025403146377438,737.350801614168,14.816703036317268,13.59346846802786,10.674237037613494,6.025403146377438,14.816703036317268,6.025403146377438,6.025403146377438,6.025403146377438,7.706894327778476,13.59346846802786,null,6.025403146377438,13.59346846802786,18.460211302745325,9.366780562752464,7.096108678554284,6.376805488828198,12.782753425564334,4.239045606125979,12.782753425564334,10.674237037613494,6.025403146377438,18.460211302745325,6.025403146377438,6.025403146377438,20.687631247527385,11.189670071304056,1527.4248388995431,6.025403146377438,3.2680676311965646,14.766084763351962,14.766084763351962,13.59346846802786,13.59346846802786,6.025403146377438,6.025403146377438,7.616734714551439,6.025403146377438,13.59346846802786,18.460211302745325,7.616734714551439,13.59346846802786,6.025403146377438,6.025403146377438,6.025403146377438,14.766084763351962,7.245987223533048,16.782938724016287,7.616734714551439,6.025403146377438,13.59346846802786,6.025403146377438,6.025403146377438,3.2680676311965646,13.59346846802786,13.59346846802786,6.025403146377438,6.025403146377438,6.025403146377438,13.59346846802786,3.2680676311965646,13.59346846802786,4.239045606125979,6.025403146377438,6.025403146377438,3.2680676311965646,4.268086649052308,13.59346846802786,6.376805488828198,6.025403146377438,6.025403146377438,6.025403146377438,6.025403146377438,14.92353294468273,6.025403146377438,13.59346846802786,6.025403146377438,6.025403146377438,7.616734714551439,6.025403146377438,6.025403146377438,7.616734714551439,6.025403146377438,14.766084763351962,7.706894327778476,6.025403146377438,9.366780562752464,2.6942229076486908,6.025403146377438,3.2680676311965646,14.657746310691811,7.616734714551439,7.522064631144397,6.025403146377438,7.616734714551439,22.0706987252346,18.460211302745325,14.816703036317268,2.6942229076486908,6.025403146377438,7.706894327778476,13.59346846802786,6.025403146377438,13.59346846802786,6.025403146377438,6.025403146377438,13.59346846802786,6.025403146377438,5.547035154748849,6.025403146377438,7.706894327778476,4.457987355144732,6.025403146377438,6.025403146377438,6.025403146377438,6.025403146377438,5.169751139513358,13.59346846802786,13.59346846802786,13.59346846802786,6.025403146377438,6.025403146377438,6.025403146377438,7.616734714551439,6.025403146377438,13.59346846802786,10.166025796228546,6.025403146377438,4.239045606125979,6.025403146377438,13.59346846802786,null,18.258464034263955,6.025403146377438,12.782753425564334,6.025403146377438,6.025403146377438,6.025403146377438,5.169751139513358,10.815468874175656,7.616734714551439,6.025403146377438,7.616734714551439,6.025403146377438,13.59346846802786,6.025403146377438,6.025403146377438,14.937596259270164,13.59346846802786,6.025403146377438,6.025403146377438,5.66534680905694,7.651533171870985,6.025403146377438,6.025403146377438,7.616734714551439,6.025403146377438,3.2680676311965646,13.763945044922124,13.59346846802786,6.025403146377438,9.366780562752464,10.25442013078869,null,4.268086649052308,14.766084763351962,6.025403146377438,6.025403146377438,6.025403146377438,14.766084763351962,6.025403146377438,6.025403146377438,6.025403146377438,6.212976326401295,13.59346846802786,4.457987355144732,6.025403146377438,6.025403146377438,2.6942229076486908,4.268086649052308,20.687631247527385,4.457987355144732,9.366780562752464,13.59346846802786,6.025403146377438,14.816703036317268,6.025403146377438,6.025403146377438,4.874712011839221,5.547035154748849,6.025403146377438,14.816703036317268,6.025403146377438,13.940636066402496,6.025403146377438,18.460211302745325,18.460211302745325,6.376805488828198,19.34412242080157,16.043164994805494,5.7126146248371725,13.59346846802786,4.239045606125979,14.766084763351962,5.701427952235059,5.701427952235059,14.766084763351962,13.59346846802786,6.025403146377438,13.59346846802786,9.366780562752464,6.025403146377438,7.759679831441712,31.10873058960069,9.352542138276764,13.59346846802786,6.025403146377438,6.025403146377438,13.59346846802786,13.59346846802786,6.025403146377438,6.025403146377438,6.376805488828198,13.940636066402496,6.025403146377438,7.616734714551439,13.59346846802786,16.436061255880027,6.376805488828198,12.716701156516796,5.701427952235059,7.785272822825696,5.701427952235059,5.547035154748849,14.766084763351962,6.025403146377438,6.025403146377438,6.025403146377438,6.025403146377438,6.025403146377438,6.025403146377438,4.457987355144732,7.706894327778476,13.59346846802786,13.59346846802786,13.59346846802786,13.940636066402496,13.940636066402496,6.025403146377438,6.025403146377438,6.025403146377438,7.616734714551439,13.940636066402496,6.025403146377438,6.025403146377438,6.997366424868751,18.460211302745325,6.025403146377438,1243.2957809244976,2.6942229076486908,13.59346846802786,6.025403146377438,6.025403146377438,6.025403146377438,6.025403146377438,13.59346846802786,4.874712011839221,6.025403146377438,13.59346846802786,307.1124707060224,13.940636066402496,13.59346846802786,6.025403146377438,4.457987355144732,13.59346846802786,42.01385207664307,17.022359158622354,6.376805488828198,6.025403146377438,11.616135671000698,19.114496458152686,13.59346846802786,18.460211302745325,6.025403146377438,13.59346846802786,6.025403146377438,18.460211302745325,4.268086649052308,13.59346846802786,14.766084763351962,4.457987355144732,18.460211302745325,6.997366424868751,6.025403146377438,4.874712011839221,6.025403146377438,6.025403146377438,7.616734714551439,13.59346846802786,6.025403146377438,6.025403146377438,18.460211302745325,6.025403146377438,14.766084763351962,7.584333904200922,3.2680676311965646,13.940636066402496,6.025403146377438,6.025403146377438,13.59346846802786,6.025403146377438,6.025403146377438,6.025403146377438,7.616734714551439,22.054976830138827,13.59346846802786,13.59346846802786,18.460211302745325,6.025403146377438,20.48928213077728,10.442363024796329,13.59346846802786,6.025403146377438,6.025403146377438,6.025403146377438,6.025403146377438,6.025403146377438,18.258464034263955,6.025403146377438,13.59346846802786,13.59346846802786,6.025403146377438,6.025403146377438,6.025403146377438,6.025403146377438,13.59346846802786,6.025403146377438,10.674237037613494,6.025403146377438,6.025403146377438,4.457987355144732,20.687631247527385,14.937596259270164,13.59346846802786,6.025403146377438,13.59346846802786,13.59346846802786,12.782753425564334,13.59346846802786,13.59346846802786,7.616734714551439,10.815468874175656,null,3.2680676311965646,20.687631247527385,2.6942229076486908,13.59346846802786,13.59346846802786,13.59346846802786,6.025403146377438,13.59346846802786,14.816703036317268,6.025403146377438,5.450623970974352,10.166025796228546,6.025403146377438,17.289630651037655,5.701427952235059,10.112647307403655,14.766084763351962,13.59346846802786,13.59346846802786,6.025403146377438,6.025403146377438,13.940636066402496,6.025403146377438,13.940636066402496,13.59346846802786,13.940636066402496,5.701427952235059,6.025403146377438,6.025403146377438,4.457987355144732,10.674237037613494,2.6942229076486908,17.022359158622354,7.706894327778476,18.460211302745325,6.025403146377438,4.457987355144732,13.59346846802786,6.025403146377438,5.547035154748849,11.819490323107049,12.782753425564334,6.376805488828198,6.025403146377438,6.2435744940117885,6.025403146377438,6.025403146377438,10.77977246595093,4.268086649052308,20.687631247527385,6.025403146377438,4.457987355144732,13.59346846802786,6.025403146377438,6.025403146377438,6.025403146377438,18.460211302745325,7.706894327778476,6.025403146377438,7.651533171870985,18.460211302745325,13.59346846802786,18.460211302745325,13.59346846802786,14.766084763351962,6.025403146377438,6.025403146377438,7.616734714551439,13.59346846802786,18.460211302745325,6.025403146377438,6.025403146377438,7.522064631144397,7.522064631144397,7.616734714551439,6.025403146377438,11.616135671000698,5.7126146248371725,7.595804650162556,14.92353294468273,6.376805488828198,14.766084763351962,6.025403146377438,12.782753425564334,13.940636066402496,22.054976830138827,13.940636066402496,6.025403146377438,6.025403146377438,18.460211302745325,12.716701156516796,13.59346846802786,14.766084763351962,13.59346846802786,6.025403146377438,7.616734714551439,6.025403146377438,6.025403146377438,18.460211302745325,6.025403146377438,6.025403146377438,6.025403146377438,6.025403146377438,19.114496458152686,6.025403146377438,14.766084763351962,11.920380969153708,6.025403146377438,20.48928213077728,18.460211302745325,13.59346846802786,4.874712011839221,4.457987355144732,4.268086649052308,13.763945044922124,null,16.59959946004633,5.169751139513358,7.651533171870985,12.782753425564334,38.45372965383364,null,11.616135671000698,6.025403146377438,4.874712011839221,6.025403146377438,6.025403146377438,18.460211302745325,6.025403146377438,7.616734714551439,737.350801614168,7.706894327778476,6.025403146377438,7.616734714551439,6.025403146377438,6.025403146377438,6.025403146377438,6.376805488828198,13.940636066402496,6.025403146377438,6.025403146377438,7.616734714551439,6.025403146377438,6.025403146377438,7.651533171870985,7.616734714551439,6.025403146377438,6.025403146377438,4.457987355144732,14.937596259270164,18.460211302745325,4.457987355144732,6.376805488828198,6.025403146377438,5.701427952235059,6.212976326401295,6.025403146377438,13.59346846802786,6.025403146377438,13.59346846802786,6.025403146377438,6.025403146377438,6.025403146377438,6.025403146377438,13.339587815816865,7.616734714551439,4.457987355144732,6.025403146377438,14.816703036317268,6.025403146377438,9.352542138276764,10.674237037613494,1630.6349174707034,13.339587815816865,18.460211302745325,6.025403146377438,13.59346846802786,13.940636066402496,13.940636066402496,14.766084763351962,6.025403146377438,22.597263960481488,6.376805488828198,7.616734714551439,6.025403146377438,12.782753425564334,5.539363926289355,2.6942229076486908,2.6942229076486908,12.782753425564334,2.6942229076486908,6.025403146377438,6.025403146377438,9.366780562752464,6.025403146377438,13.59346846802786,6.025403146377438,9.13538068421002,6.025403146377438,14.766084763351962,5.701427952235059,18.460211302745325,6.025403146377438,11.819490323107049,6.025403146377438,4.457987355144732,18.108271094304147,5.169751139513358,11.967789599584812,10.166025796228546,5.169751139513358,5.547035154748849,6.025403146377438,6.025403146377438,6.025403146377438,6.025403146377438,6.025403146377438,13.940636066402496,3.2680676311965646,6.025403146377438,6.025403146377438,6.025403146377438,13.59346846802786,6.025403146377438,6.025403146377438,2.6942229076486908,6.025403146377438,6.025403146377438,19.114496458152686,7.651533171870985,6.025403146377438,11.616135671000698,13.59346846802786,7.616734714551439,13.339587815816865,19.114496458152686,4.457987355144732,13.59346846802786,6.025403146377438,6.376805488828198,7.759679831441712,18.460211302745325,12.782753425564334,4.239045606125979,6.025403146377438,21.36717004776061,19.832316065349787,13.59346846802786,6.025403146377438,11.920380969153708,13.339587815816865,4.268086649052308,7.616734714551439,13.59346846802786,13.59346846802786,6.025403146377438,5.701427952235059,18.245312095157416,7.706894327778476,12.782753425564334,6.025403146377438,2.6942229076486908,5.169751139513358,13.59346846802786,18.460211302745325,6.025403146377438,737.350801614168,6.025403146377438,7.616734714551439,6.025403146377438,988.1415324630964,19.114496458152686,14.657746310691811,12.716701156516796,13.59346846802786,5.547035154748849,6.025403146377438,6.025403146377438,6.025403146377438,4.457987355144732,20.716003241103618,13.59346846802786,7.616734714551439,13.59346846802786,3.237393628796011,6.025403146377438,13.59346846802786,14.766084763351962,6.025403146377438,6.025403146377438,6.376805488828198,3.2680676311965646,14.766084763351962,18.460211302745325,6.025403146377438,6.025403146377438,13.59346846802786,6.025403146377438,13.59346846802786,6.025403146377438,14.766084763351962,5.66534680905694,14.766084763351962,8.849346831029628,6.025403146377438,7.616734714551439,6.025403146377438,7.522064631144397,17.022359158622354,4.874712011839221,13.59346846802786,5.701427952235059,7.616734714551439,6.025403146377438,6.025403146377438,6.025403146377438,7.595804650162556,6.025403146377438,13.59346846802786,6.025403146377438,6.025403146377438,13.59346846802786,18.460211302745325,13.59346846802786,7.616734714551439,13.59346846802786,11.616135671000698,6.025403146377438,13.59346846802786,13.59346846802786,13.59346846802786,6.025403146377438,16.436061255880027,13.59346846802786,13.59346846802786,7.616734714551439,11.616135671000698,14.816703036317268,6.025403146377438,17.35378236195776,3.2680676311965646,31.10873058960069,7.616734714551439,11.308465798744136,14.816703036317268,6.212976326401295,21.36717004776061,22.597263960481488,7.616734714551439,6.025403146377438,6.025403146377438,11.616135671000698,6.025403146377438,13.940636066402496,7.616734714551439,11.177101187541354,19.34412242080157,13.59346846802786,13.59346846802786,4.457987355144732,13.59346846802786,2.6942229076486908,13.59346846802786,6.025403146377438,6.025403146377438,7.616734714551439,6.025403146377438,9.366780562752464,6.025403146377438,6.025403146377438,6.025403146377438,6.025403146377438,12.782753425564334,6.025403146377438,7.616734714551439,4.239045606125979,5.66534680905694,14.766084763351962,16.436061255880027,4.457987355144732,14.816703036317268,7.096108678554284,6.212976326401295,13.59346846802786,4.457987355144732,31.10873058960069,4.874712011839221,6.025403146377438,18.460211302745325,13.59346846802786,6.376805488828198,13.59346846802786,13.59346846802786,21.36717004776061,7.616734714551439,13.59346846802786,18.460211302745325,6.025403146377438,6.025403146377438,2.6942229076486908,13.59346846802786,6.025403146377438,5.169751139513358,6.025403146377438,6.025403146377438,6.376805488828198,13.59346846802786,6.025403146377438,6.025403146377438,13.59346846802786,14.766084763351962,6.025403146377438,13.59346846802786,13.59346846802786,null,13.59346846802786,13.940636066402496,13.59346846802786,3.2680676311965646,18.460211302745325,6.025403146377438,6.025403146377438,6.025403146377438,4.268086649052308,6.025403146377438,4.239045606125979,5.169751139513358,18.460211302745325,13.59346846802786,6.025403146377438,6.025403146377438,19.34412242080157,14.937596259270164,14.766084763351962,9.366780562752464,6.025403146377438,6.025403146377438,11.616135671000698,6.025403146377438,7.616734714551439,6.025403146377438,6.025403146377438,6.025403146377438,6.025403146377438,6.025403146377438,9.366780562752464,6.376805488828198,13.59346846802786,6.025403146377438,6.025403146377438,6.025403146377438,6.025403146377438,12.782753425564334,6.025403146377438,7.706894327778476,13.940636066402496,2.6942229076486908,13.940636066402496,6.025403146377438,13.59346846802786,13.940636066402496,7.616734714551439,6.025403146377438,13.59346846802786,6.025403146377438,4.268086649052308,6.025403146377438,7.616734714551439,18.460211302745325,18.460211302745325,13.940636066402496,6.025403146377438,6.025403146377438,5.169751139513358,7.616734714551439,6.025403146377438,6.025403146377438,737.350801614168,13.59346846802786,14.766084763351962,6.025403146377438,6.025403146377438,6.025403146377438,6.2435744940117885,13.940636066402496,19.114496458152686,13.59346846802786,7.244211171772542,7.706894327778476,6.025403146377438,6.025403146377438,6.025403146377438,4.268086649052308,6.025403146377438,13.59346846802786,6.025403146377438,18.630424750079985,18.539114506706543,13.59346846802786,13.59346846802786,6.025403146377438,75.52532182002187,13.59346846802786,31.10873058960069,11.616135671000698,9.80866561329665,9.074712948912278,13.59346846802786,14.766084763351962,4.268086649052308,5.169751139513358,18.460211302745325,18.460211302745325,7.616734714551439,4.457987355144732,6.025403146377438,14.273638758813377,13.59346846802786,10.166025796228546,6.025403146377438,6.025403146377438,13.59346846802786,6.025403146377438,6.025403146377438,7.616734714551439,7.616734714551439,6.025403146377438,14.816703036317268,6.025403146377438,6.025403146377438,6.025403146377438,13.59346846802786,6.025403146377438,6.025403146377438,13.59346846802786,6.025403146377438,6.025403146377438,20.716003241103618,4.542514330484239,13.940636066402496,11.967789599584812,7.616734714551439,6.025403146377438,18.245312095157416,5.547035154748849,10.154399502176677,6.025403146377438,13.59346846802786,6.025403146377438,13.59346846802786,6.025403146377438,6.025403146377438,6.025403146377438,6.025403146377438,7.616734714551439,6.025403146377438,6.025403146377438,13.940636066402496,13.940636066402496,3.2680676311965646,6.376805488828198,9.366780562752464,6.025403146377438,14.816703036317268,13.59346846802786,null,6.025403146377438,6.025403146377438,3.2680676311965646,6.025403146377438,6.025403146377438,7.616734714551439,7.616734714551439,6.025403146377438,6.025403146377438,18.460211302745325,6.025403146377438,4.457987355144732,15.088072805628071,6.025403146377438,14.273638758813377,6.025403146377438,7.706894327778476,12.782753425564334,14.816703036317268,6.997366424868751,10.5408664411629,13.59346846802786,5.66534680905694,6.025403146377438,6.025403146377438,18.460211302745325,4.268086649052308],\"xaxis\":\"x\",\"y\":[1656,1993,1223,61,2133,1580,1090,747,1034,1083,84,2498,26,1587,1440,146,1217,818,76,48,118,1582,22,589,2004,4493,32,95,1384,1216,705,705,152,118,99,99,40,26,6278,3466,2829,2260,34,1527,6199,169,6087,3187,46,25,46,831,782,145,131,61,2049,2477,76,1064,3334,81,39,39,39,132,1300,1076,782,691,145,68,3079,2267,1895,7,1870,2615,144,88,5628,1218,145,1979,120,103,4016,68,1860,173,124,76,1373,638,1929,2424,2494,1978,1202,54,2175,2820,3090,1530,1625,3497,130,25,1510,166,134,75,26,2042,75,27,21,21,1219,6241,10003,698,26,1489,194,180,110,26,19,41,729,498,32,18,1643,1223,831,89,3011,33,1881,2189,2049,2007,145,225,64,1975,179,39,96,19,19,691,180,155,117,84,1604,1639,95,25,110,56,33,2932,159,103,97,34,3651,799,110,173,75,70,70,40,12,2253,2056,3695,2372,82,4092,3075,2502,2400,1566,96,77,70,61,2953,6227,130,109,102,88,40,215,96,75,33,810,4609,159,89,82,47,33,2140,547,6220,1559,1545,901,243,138,131,124,47,26,19,2281,2224,203,137,130,775,243,173,173,152,138,103,68,3226,40,230,131,138,82,47,82,89,211,96,180,180,180,203,98,4988,214,1335,1951,96,215,110,83,891,127,240,2977,127,102,46,250,2778,1258,2021,2344,2365,957,1531,1202,194,138,131,1366,997,323,134,1954,5478,4704,137,1160,2133,103,96,61,1643,54,48,2302,2084,264,251,145,133,3093,61,2150,2656,2474,2769,1368,54,2329,6987,133,3669,110,68,222,138,75,2974,2400,103,1314,3429,133,1344,2268,2038,88,3612,2658,1846,187,180,152,2224,4437,2105,110,183,165,292,278,278,257,152,75,131,13,13,14,5513,3937,1769,1398,894,285,161,124,5997,1398,924,21,3152,3019,961,1718,172,2855,1685,1195,866,341,278,201,187,166,138,1993,2168,3002,292,1975,428,6535,6458,3624,1601,1426,992,910,215,194,180,159,152,41,41,127,6400,181,39,2392,2742,1384,999,952,341,201,173,138,82,26,26,3184,2498,299,299,243,194,68,26,2014,5832,2680,27,27,3187,323,3670,1796,137,25,117,298,6584,2192,2719,8132,2607,25,1615,1293,327,327,152,103,61,19,34,1607,603,246,218,43,36,22,6395,4552,60,1587,1475,348,61,61,47,3674,2743,1387,162,2021,999,852,376,379,264,243,217,74,68,40,4054,3426,1737,1671,323,224,201,165,148,78,3067,2079,1727,1321,876,369,362,165,84,2115,2101,5019,5104,1787,1008,348,306,274,173,173,60,40,32,33,35,18,4029,3166,2928,1454,390,411,292,188,47,39,39,3757,2988,1475,1011,327,316,263,222,204,173,75,68,68,19,2413,2273,6234,4225,3721,3721,1980,2998,2515,2021,1478,1130,362,229,145,109,96,47,2210,81,376,306,75,26,3128,2827,20,1310,344,316,85,2991,2991,271,1104,82,26,2477,990,372,246,225,113,3952,3833,3026,158,180,131,40,2224,2540,813,1874,369,243,131,19,18,3753,3029,1055,89,26,422,342,2630,1083,859,754,1531,2960,1364,834,351,1681,1509,5570,684,425,413,392,369,362,286,1447,1826,1783,3107,2183,783,1289,395,5933,1934,5861,1027,915,810,705,404,341,1783,1734,5300,1594,2640,855,1793,362,719,4171,2008,1166,897,3112,2993,2949,1424,1440,915,873,831,439,425,376,10376,900,834,5135,1258,1132,978,789,399,376,1594,1545,1671,1650,2204,461,1275,309,4309,2403,2422,1454,1069,852,824,404,385,1762,1657,3009,2358,1594,1317,480,2924,1468,1419,810,441,439,1671,714,1481,855,395,1010,6342,1217,944,832,776,748,405,1546,1855,4053,3164,3128,2693,2247,2100,1946,64,2271,883,956,454,1649,1412,1146,845,455,455,1699,3016,2442,2428,2246,1448,316,911,2564,1461,1293,915,488,481,313,1608,1917,6336,1324,1058,1181,922,908,831,789,775,432,1769,4219,3214,3086,433,1288,6162,2602,3178,2966,1188,880,845,474,448,2225,489,2308,1314,1307,901,894,441,418,404,1545,915,1727,3828,6114,1223,915,1910,3193,3051,2974,2281,1478,4137,582,414,5919,2937,1432,956,1937,852,1692,2225,1000,2730,3867,1660,2942,2678,4732,490,467,1650,1966,6523,5900,2624,2610,2596,2008,2106,1464,1142,2760,1457,1366,3684,517,1055,4214,2437,2834,2659,2029,92,3220,1517,922,789,593,504,439,1594,4401,3256,2778,2353,507,4125,2571,1363,1237,1209,1126,973,824,614,572,565,523,483,1573,1916,1853,1755,1741,3228,3114,2057,478,1757,1884,1821,5495,1363,957,824,1601,1727,3256,1713,2939,546,1366,365,953,1199,1552,1006,999,943,873,817,817,600,579,544,511,488,474,1706,1650,5881,1734,1664,2645,2407,631,556,512,1653,1632,1814,5190,2676,2244,2021,2021,1076,1027,980,859,635,509,488,236,1636,1874,1797,2645,2148,316,3313,1559,1496,1154,950,866,866,831,532,511,6224,6154,1804,3079,2519,952,1786,2564,837,992,964,558,532,1966,1839,3337,2871,2708,2134,2057,1651,518,1345,5954,1608,1398,1090,838,537,530,1699,1685,1980,1762,2540,5407,563,9888,4652,3322,2979,1488,1615,1545,1272,1083,936,532,495,138,1734,1692,1895,1797,1762,3408,2316,1896,1156,477,211,1908,2445,46,649,539,532,1923,1853,2155,5853,865,1566,1272,901,593,581,502,1937,4425,2071,2138,552,1566,1531,1216,901,8008,2393,2113,1594,512,2606,1423,2000,5080,552,3325,3226,1125,642,1440,1783,3331,5503,2337,2106,13,1555,638,598,3495,3289,1303,1111,1065,936,932,908,355,2680,1870,719,1842,2379,1160,2109,889,631,628,616,3326,361,2896,3233,3212,3023,2126,1651,6278,635,621,316,25,21,21,18,4759,3633,3387,3380,3289,467,3110,1769,27,19,19,1713,6409,6071,5802,4318,2466,2155,1048,950,915,795,623,609,600,26,2106,1895,5330,4771,4684,3813,3474,2906,2792,2141,981,974,663,19,19,1811,5188,2897,279,2561,2724,1506,1485,1156,589,1855,2942,1621,1069,950,630,593,19,2106,3689,3660,3044,2470,2449,1069,654,609,607,71,61,27,20,19,13,13,2078,1860,1846,2449,2239,1741,2137,9871,1902,3370,3336,3249,2883,2442,2361,1699,999,974,672,665,651,628,69,20,2008,1338,671,633,456,69,62,55,55,41,39,35,35,35,27,17,14,1904,1903,2916,2837,2375,2198,2557,644,40,40,32,28,21,14,16,11,1751,2134,10397,9923,4799,3275,2512,12,1149,706,654,386,69,62,62,62,49,41,41,30,30,20,20,7,106,2107,1952,8705,1446,1111,665,82,61,48,33,12,15,15,15,3299,2939,1492,1236,774,661,400,372,106,78,50,46,38,29,22,1870,1863,1814,3574,2263,2185,1240,1049,1035,986,806,769,53,2080,10552,3094,2912,2268,1671,1629,1447,1443,1356,1314,813,740,656,67,56,25,25,2171,1979,8632,4854,3942,2052,689,64,1559,1412,1384,745,130,117,67,57,46,46,39,39,32,33,25,2148,4847,6759,3430,1908,3324,2778,204,3795,299,1167,1013,144,81,39,39,25,25,1895,5258,3359,3341,2836,2589,2414,1783,1748,1244,1190,1192,1183,803,749,698,194,109,103,78,77,75,18,5,1909,2155,6766,5188,4694,4348,3606,3243,8096,5520,4128,2547,43,1982,3115],\"yaxis\":\"y\",\"type\":\"scattergl\"}],                        {\"template\":{\"data\":{\"histogram2dcontour\":[{\"type\":\"histogram2dcontour\",\"colorbar\":{\"outlinewidth\":0,\"ticks\":\"\"},\"colorscale\":[[0.0,\"#0d0887\"],[0.1111111111111111,\"#46039f\"],[0.2222222222222222,\"#7201a8\"],[0.3333333333333333,\"#9c179e\"],[0.4444444444444444,\"#bd3786\"],[0.5555555555555556,\"#d8576b\"],[0.6666666666666666,\"#ed7953\"],[0.7777777777777778,\"#fb9f3a\"],[0.8888888888888888,\"#fdca26\"],[1.0,\"#f0f921\"]]}],\"choropleth\":[{\"type\":\"choropleth\",\"colorbar\":{\"outlinewidth\":0,\"ticks\":\"\"}}],\"histogram2d\":[{\"type\":\"histogram2d\",\"colorbar\":{\"outlinewidth\":0,\"ticks\":\"\"},\"colorscale\":[[0.0,\"#0d0887\"],[0.1111111111111111,\"#46039f\"],[0.2222222222222222,\"#7201a8\"],[0.3333333333333333,\"#9c179e\"],[0.4444444444444444,\"#bd3786\"],[0.5555555555555556,\"#d8576b\"],[0.6666666666666666,\"#ed7953\"],[0.7777777777777778,\"#fb9f3a\"],[0.8888888888888888,\"#fdca26\"],[1.0,\"#f0f921\"]]}],\"heatmap\":[{\"type\":\"heatmap\",\"colorbar\":{\"outlinewidth\":0,\"ticks\":\"\"},\"colorscale\":[[0.0,\"#0d0887\"],[0.1111111111111111,\"#46039f\"],[0.2222222222222222,\"#7201a8\"],[0.3333333333333333,\"#9c179e\"],[0.4444444444444444,\"#bd3786\"],[0.5555555555555556,\"#d8576b\"],[0.6666666666666666,\"#ed7953\"],[0.7777777777777778,\"#fb9f3a\"],[0.8888888888888888,\"#fdca26\"],[1.0,\"#f0f921\"]]}],\"heatmapgl\":[{\"type\":\"heatmapgl\",\"colorbar\":{\"outlinewidth\":0,\"ticks\":\"\"},\"colorscale\":[[0.0,\"#0d0887\"],[0.1111111111111111,\"#46039f\"],[0.2222222222222222,\"#7201a8\"],[0.3333333333333333,\"#9c179e\"],[0.4444444444444444,\"#bd3786\"],[0.5555555555555556,\"#d8576b\"],[0.6666666666666666,\"#ed7953\"],[0.7777777777777778,\"#fb9f3a\"],[0.8888888888888888,\"#fdca26\"],[1.0,\"#f0f921\"]]}],\"contourcarpet\":[{\"type\":\"contourcarpet\",\"colorbar\":{\"outlinewidth\":0,\"ticks\":\"\"}}],\"contour\":[{\"type\":\"contour\",\"colorbar\":{\"outlinewidth\":0,\"ticks\":\"\"},\"colorscale\":[[0.0,\"#0d0887\"],[0.1111111111111111,\"#46039f\"],[0.2222222222222222,\"#7201a8\"],[0.3333333333333333,\"#9c179e\"],[0.4444444444444444,\"#bd3786\"],[0.5555555555555556,\"#d8576b\"],[0.6666666666666666,\"#ed7953\"],[0.7777777777777778,\"#fb9f3a\"],[0.8888888888888888,\"#fdca26\"],[1.0,\"#f0f921\"]]}],\"surface\":[{\"type\":\"surface\",\"colorbar\":{\"outlinewidth\":0,\"ticks\":\"\"},\"colorscale\":[[0.0,\"#0d0887\"],[0.1111111111111111,\"#46039f\"],[0.2222222222222222,\"#7201a8\"],[0.3333333333333333,\"#9c179e\"],[0.4444444444444444,\"#bd3786\"],[0.5555555555555556,\"#d8576b\"],[0.6666666666666666,\"#ed7953\"],[0.7777777777777778,\"#fb9f3a\"],[0.8888888888888888,\"#fdca26\"],[1.0,\"#f0f921\"]]}],\"mesh3d\":[{\"type\":\"mesh3d\",\"colorbar\":{\"outlinewidth\":0,\"ticks\":\"\"}}],\"scatter\":[{\"fillpattern\":{\"fillmode\":\"overlay\",\"size\":10,\"solidity\":0.2},\"type\":\"scatter\"}],\"parcoords\":[{\"type\":\"parcoords\",\"line\":{\"colorbar\":{\"outlinewidth\":0,\"ticks\":\"\"}}}],\"scatterpolargl\":[{\"type\":\"scatterpolargl\",\"marker\":{\"colorbar\":{\"outlinewidth\":0,\"ticks\":\"\"}}}],\"bar\":[{\"error_x\":{\"color\":\"#2a3f5f\"},\"error_y\":{\"color\":\"#2a3f5f\"},\"marker\":{\"line\":{\"color\":\"#E5ECF6\",\"width\":0.5},\"pattern\":{\"fillmode\":\"overlay\",\"size\":10,\"solidity\":0.2}},\"type\":\"bar\"}],\"scattergeo\":[{\"type\":\"scattergeo\",\"marker\":{\"colorbar\":{\"outlinewidth\":0,\"ticks\":\"\"}}}],\"scatterpolar\":[{\"type\":\"scatterpolar\",\"marker\":{\"colorbar\":{\"outlinewidth\":0,\"ticks\":\"\"}}}],\"histogram\":[{\"marker\":{\"pattern\":{\"fillmode\":\"overlay\",\"size\":10,\"solidity\":0.2}},\"type\":\"histogram\"}],\"scattergl\":[{\"type\":\"scattergl\",\"marker\":{\"colorbar\":{\"outlinewidth\":0,\"ticks\":\"\"}}}],\"scatter3d\":[{\"type\":\"scatter3d\",\"line\":{\"colorbar\":{\"outlinewidth\":0,\"ticks\":\"\"}},\"marker\":{\"colorbar\":{\"outlinewidth\":0,\"ticks\":\"\"}}}],\"scattermapbox\":[{\"type\":\"scattermapbox\",\"marker\":{\"colorbar\":{\"outlinewidth\":0,\"ticks\":\"\"}}}],\"scatterternary\":[{\"type\":\"scatterternary\",\"marker\":{\"colorbar\":{\"outlinewidth\":0,\"ticks\":\"\"}}}],\"scattercarpet\":[{\"type\":\"scattercarpet\",\"marker\":{\"colorbar\":{\"outlinewidth\":0,\"ticks\":\"\"}}}],\"carpet\":[{\"aaxis\":{\"endlinecolor\":\"#2a3f5f\",\"gridcolor\":\"white\",\"linecolor\":\"white\",\"minorgridcolor\":\"white\",\"startlinecolor\":\"#2a3f5f\"},\"baxis\":{\"endlinecolor\":\"#2a3f5f\",\"gridcolor\":\"white\",\"linecolor\":\"white\",\"minorgridcolor\":\"white\",\"startlinecolor\":\"#2a3f5f\"},\"type\":\"carpet\"}],\"table\":[{\"cells\":{\"fill\":{\"color\":\"#EBF0F8\"},\"line\":{\"color\":\"white\"}},\"header\":{\"fill\":{\"color\":\"#C8D4E3\"},\"line\":{\"color\":\"white\"}},\"type\":\"table\"}],\"barpolar\":[{\"marker\":{\"line\":{\"color\":\"#E5ECF6\",\"width\":0.5},\"pattern\":{\"fillmode\":\"overlay\",\"size\":10,\"solidity\":0.2}},\"type\":\"barpolar\"}],\"pie\":[{\"automargin\":true,\"type\":\"pie\"}]},\"layout\":{\"autotypenumbers\":\"strict\",\"colorway\":[\"#636efa\",\"#EF553B\",\"#00cc96\",\"#ab63fa\",\"#FFA15A\",\"#19d3f3\",\"#FF6692\",\"#B6E880\",\"#FF97FF\",\"#FECB52\"],\"font\":{\"color\":\"#2a3f5f\"},\"hovermode\":\"closest\",\"hoverlabel\":{\"align\":\"left\"},\"paper_bgcolor\":\"white\",\"plot_bgcolor\":\"#E5ECF6\",\"polar\":{\"bgcolor\":\"#E5ECF6\",\"angularaxis\":{\"gridcolor\":\"white\",\"linecolor\":\"white\",\"ticks\":\"\"},\"radialaxis\":{\"gridcolor\":\"white\",\"linecolor\":\"white\",\"ticks\":\"\"}},\"ternary\":{\"bgcolor\":\"#E5ECF6\",\"aaxis\":{\"gridcolor\":\"white\",\"linecolor\":\"white\",\"ticks\":\"\"},\"baxis\":{\"gridcolor\":\"white\",\"linecolor\":\"white\",\"ticks\":\"\"},\"caxis\":{\"gridcolor\":\"white\",\"linecolor\":\"white\",\"ticks\":\"\"}},\"coloraxis\":{\"colorbar\":{\"outlinewidth\":0,\"ticks\":\"\"}},\"colorscale\":{\"sequential\":[[0.0,\"#0d0887\"],[0.1111111111111111,\"#46039f\"],[0.2222222222222222,\"#7201a8\"],[0.3333333333333333,\"#9c179e\"],[0.4444444444444444,\"#bd3786\"],[0.5555555555555556,\"#d8576b\"],[0.6666666666666666,\"#ed7953\"],[0.7777777777777778,\"#fb9f3a\"],[0.8888888888888888,\"#fdca26\"],[1.0,\"#f0f921\"]],\"sequentialminus\":[[0.0,\"#0d0887\"],[0.1111111111111111,\"#46039f\"],[0.2222222222222222,\"#7201a8\"],[0.3333333333333333,\"#9c179e\"],[0.4444444444444444,\"#bd3786\"],[0.5555555555555556,\"#d8576b\"],[0.6666666666666666,\"#ed7953\"],[0.7777777777777778,\"#fb9f3a\"],[0.8888888888888888,\"#fdca26\"],[1.0,\"#f0f921\"]],\"diverging\":[[0,\"#8e0152\"],[0.1,\"#c51b7d\"],[0.2,\"#de77ae\"],[0.3,\"#f1b6da\"],[0.4,\"#fde0ef\"],[0.5,\"#f7f7f7\"],[0.6,\"#e6f5d0\"],[0.7,\"#b8e186\"],[0.8,\"#7fbc41\"],[0.9,\"#4d9221\"],[1,\"#276419\"]]},\"xaxis\":{\"gridcolor\":\"white\",\"linecolor\":\"white\",\"ticks\":\"\",\"title\":{\"standoff\":15},\"zerolinecolor\":\"white\",\"automargin\":true,\"zerolinewidth\":2},\"yaxis\":{\"gridcolor\":\"white\",\"linecolor\":\"white\",\"ticks\":\"\",\"title\":{\"standoff\":15},\"zerolinecolor\":\"white\",\"automargin\":true,\"zerolinewidth\":2},\"scene\":{\"xaxis\":{\"backgroundcolor\":\"#E5ECF6\",\"gridcolor\":\"white\",\"linecolor\":\"white\",\"showbackground\":true,\"ticks\":\"\",\"zerolinecolor\":\"white\",\"gridwidth\":2},\"yaxis\":{\"backgroundcolor\":\"#E5ECF6\",\"gridcolor\":\"white\",\"linecolor\":\"white\",\"showbackground\":true,\"ticks\":\"\",\"zerolinecolor\":\"white\",\"gridwidth\":2},\"zaxis\":{\"backgroundcolor\":\"#E5ECF6\",\"gridcolor\":\"white\",\"linecolor\":\"white\",\"showbackground\":true,\"ticks\":\"\",\"zerolinecolor\":\"white\",\"gridwidth\":2}},\"shapedefaults\":{\"line\":{\"color\":\"#2a3f5f\"}},\"annotationdefaults\":{\"arrowcolor\":\"#2a3f5f\",\"arrowhead\":0,\"arrowwidth\":1},\"geo\":{\"bgcolor\":\"white\",\"landcolor\":\"#E5ECF6\",\"subunitcolor\":\"white\",\"showland\":true,\"showlakes\":true,\"lakecolor\":\"white\"},\"title\":{\"x\":0.05},\"mapbox\":{\"style\":\"light\"}}},\"xaxis\":{\"anchor\":\"y\",\"domain\":[0.0,1.0],\"title\":{\"text\":\"Distancia\"}},\"yaxis\":{\"anchor\":\"x\",\"domain\":[0.0,1.0],\"title\":{\"text\":\"ANTIGÜEDAD\"}},\"legend\":{\"tracegroupgap\":0},\"title\":{\"text\":\"Relación entre Distancia y Antigüedad\"}},                        {\"responsive\": true}                    ).then(function(){\n",
       "                            \n",
       "var gd = document.getElementById('30815a87-31a4-49d3-845e-5b98649ca4bb');\n",
       "var x = new MutationObserver(function (mutations, observer) {{\n",
       "        var display = window.getComputedStyle(gd).display;\n",
       "        if (!display || display === 'none') {{\n",
       "            console.log([gd, 'removed!']);\n",
       "            Plotly.purge(gd);\n",
       "            observer.disconnect();\n",
       "        }}\n",
       "}});\n",
       "\n",
       "// Listen for the removal of the full notebook cells\n",
       "var notebookContainer = gd.closest('#notebook-container');\n",
       "if (notebookContainer) {{\n",
       "    x.observe(notebookContainer, {childList: true});\n",
       "}}\n",
       "\n",
       "// Listen for the clearing of the current output cell\n",
       "var outputEl = gd.closest('.output');\n",
       "if (outputEl) {{\n",
       "    x.observe(outputEl, {childList: true});\n",
       "}}\n",
       "\n",
       "                        })                };                });            </script>        </div>"
      ]
     },
     "metadata": {},
     "output_type": "display_data"
    },
    {
     "data": {
      "application/vnd.plotly.v1+json": {
       "config": {
        "plotlyServerURL": "https://plot.ly"
       },
       "data": [
        {
         "alignmentgroup": "True",
         "hovertemplate": "Trimestre=%{x}<br>Contrataciones=%{y}<extra></extra>",
         "legendgroup": "",
         "marker": {
          "color": "#636efa",
          "pattern": {
           "shape": ""
          }
         },
         "name": "",
         "offsetgroup": "",
         "orientation": "v",
         "showlegend": false,
         "textposition": "auto",
         "type": "bar",
         "x": [
          "2022Q4",
          "2022Q3",
          "2023Q1",
          "2020Q4",
          "2021Q1",
          "2017Q3",
          "2020Q1",
          "2019Q3",
          "2019Q4",
          "2023Q2",
          "2017Q4",
          "2016Q4",
          "2018Q1",
          "2018Q3",
          "2017Q1",
          "2023Q3",
          "2019Q1",
          "2017Q2",
          "2013Q3",
          "2016Q1",
          "2018Q4",
          "2015Q1",
          "2018Q2",
          "2014Q4",
          "2015Q3",
          "2013Q4",
          "2016Q3",
          "2013Q2",
          "2015Q4",
          "2019Q2",
          "2021Q4",
          "2020Q3",
          "2015Q2",
          "2021Q2",
          "2016Q2",
          "2014Q1",
          "2014Q2",
          "2006Q1",
          "2013Q1",
          "2012Q3",
          "2009Q3",
          "2014Q3",
          "2012Q1",
          "2021Q3",
          "2022Q2",
          "2005Q4",
          "2010Q3",
          "2007Q3",
          "2005Q3",
          "2011Q1",
          "2004Q2",
          "2006Q2",
          "2022Q1",
          "2008Q1",
          "2009Q4",
          "2010Q4",
          "2005Q2",
          "1995Q3",
          "2023Q4",
          "2008Q2",
          "2010Q2",
          "2011Q3",
          "2008Q3",
          "2004Q4",
          "2006Q3",
          "2006Q4",
          "1993Q3",
          "2005Q1",
          "2000Q4",
          "2010Q1",
          "2008Q4",
          "1999Q2",
          "1994Q1",
          "1999Q1",
          "1994Q2",
          "2000Q3",
          "2011Q2",
          "1995Q2",
          "2007Q2",
          "2007Q1",
          "2009Q2",
          "2001Q2",
          "2011Q4",
          "2012Q4",
          "2007Q4"
         ],
         "xaxis": "x",
         "y": [
          144,
          113,
          111,
          80,
          71,
          51,
          49,
          48,
          43,
          38,
          35,
          32,
          31,
          28,
          28,
          27,
          26,
          24,
          23,
          22,
          22,
          20,
          19,
          18,
          17,
          17,
          15,
          13,
          13,
          13,
          11,
          11,
          11,
          10,
          10,
          10,
          9,
          8,
          7,
          7,
          7,
          7,
          6,
          5,
          5,
          5,
          5,
          5,
          4,
          4,
          4,
          3,
          3,
          3,
          3,
          3,
          3,
          3,
          3,
          3,
          3,
          2,
          2,
          2,
          2,
          2,
          1,
          1,
          1,
          1,
          1,
          1,
          1,
          1,
          1,
          1,
          1,
          1,
          1,
          1,
          1,
          1,
          1,
          1,
          1
         ],
         "yaxis": "y"
        }
       ],
       "layout": {
        "barmode": "relative",
        "legend": {
         "tracegroupgap": 0
        },
        "template": {
         "data": {
          "bar": [
           {
            "error_x": {
             "color": "#2a3f5f"
            },
            "error_y": {
             "color": "#2a3f5f"
            },
            "marker": {
             "line": {
              "color": "#E5ECF6",
              "width": 0.5
             },
             "pattern": {
              "fillmode": "overlay",
              "size": 10,
              "solidity": 0.2
             }
            },
            "type": "bar"
           }
          ],
          "barpolar": [
           {
            "marker": {
             "line": {
              "color": "#E5ECF6",
              "width": 0.5
             },
             "pattern": {
              "fillmode": "overlay",
              "size": 10,
              "solidity": 0.2
             }
            },
            "type": "barpolar"
           }
          ],
          "carpet": [
           {
            "aaxis": {
             "endlinecolor": "#2a3f5f",
             "gridcolor": "white",
             "linecolor": "white",
             "minorgridcolor": "white",
             "startlinecolor": "#2a3f5f"
            },
            "baxis": {
             "endlinecolor": "#2a3f5f",
             "gridcolor": "white",
             "linecolor": "white",
             "minorgridcolor": "white",
             "startlinecolor": "#2a3f5f"
            },
            "type": "carpet"
           }
          ],
          "choropleth": [
           {
            "colorbar": {
             "outlinewidth": 0,
             "ticks": ""
            },
            "type": "choropleth"
           }
          ],
          "contour": [
           {
            "colorbar": {
             "outlinewidth": 0,
             "ticks": ""
            },
            "colorscale": [
             [
              0,
              "#0d0887"
             ],
             [
              0.1111111111111111,
              "#46039f"
             ],
             [
              0.2222222222222222,
              "#7201a8"
             ],
             [
              0.3333333333333333,
              "#9c179e"
             ],
             [
              0.4444444444444444,
              "#bd3786"
             ],
             [
              0.5555555555555556,
              "#d8576b"
             ],
             [
              0.6666666666666666,
              "#ed7953"
             ],
             [
              0.7777777777777778,
              "#fb9f3a"
             ],
             [
              0.8888888888888888,
              "#fdca26"
             ],
             [
              1,
              "#f0f921"
             ]
            ],
            "type": "contour"
           }
          ],
          "contourcarpet": [
           {
            "colorbar": {
             "outlinewidth": 0,
             "ticks": ""
            },
            "type": "contourcarpet"
           }
          ],
          "heatmap": [
           {
            "colorbar": {
             "outlinewidth": 0,
             "ticks": ""
            },
            "colorscale": [
             [
              0,
              "#0d0887"
             ],
             [
              0.1111111111111111,
              "#46039f"
             ],
             [
              0.2222222222222222,
              "#7201a8"
             ],
             [
              0.3333333333333333,
              "#9c179e"
             ],
             [
              0.4444444444444444,
              "#bd3786"
             ],
             [
              0.5555555555555556,
              "#d8576b"
             ],
             [
              0.6666666666666666,
              "#ed7953"
             ],
             [
              0.7777777777777778,
              "#fb9f3a"
             ],
             [
              0.8888888888888888,
              "#fdca26"
             ],
             [
              1,
              "#f0f921"
             ]
            ],
            "type": "heatmap"
           }
          ],
          "heatmapgl": [
           {
            "colorbar": {
             "outlinewidth": 0,
             "ticks": ""
            },
            "colorscale": [
             [
              0,
              "#0d0887"
             ],
             [
              0.1111111111111111,
              "#46039f"
             ],
             [
              0.2222222222222222,
              "#7201a8"
             ],
             [
              0.3333333333333333,
              "#9c179e"
             ],
             [
              0.4444444444444444,
              "#bd3786"
             ],
             [
              0.5555555555555556,
              "#d8576b"
             ],
             [
              0.6666666666666666,
              "#ed7953"
             ],
             [
              0.7777777777777778,
              "#fb9f3a"
             ],
             [
              0.8888888888888888,
              "#fdca26"
             ],
             [
              1,
              "#f0f921"
             ]
            ],
            "type": "heatmapgl"
           }
          ],
          "histogram": [
           {
            "marker": {
             "pattern": {
              "fillmode": "overlay",
              "size": 10,
              "solidity": 0.2
             }
            },
            "type": "histogram"
           }
          ],
          "histogram2d": [
           {
            "colorbar": {
             "outlinewidth": 0,
             "ticks": ""
            },
            "colorscale": [
             [
              0,
              "#0d0887"
             ],
             [
              0.1111111111111111,
              "#46039f"
             ],
             [
              0.2222222222222222,
              "#7201a8"
             ],
             [
              0.3333333333333333,
              "#9c179e"
             ],
             [
              0.4444444444444444,
              "#bd3786"
             ],
             [
              0.5555555555555556,
              "#d8576b"
             ],
             [
              0.6666666666666666,
              "#ed7953"
             ],
             [
              0.7777777777777778,
              "#fb9f3a"
             ],
             [
              0.8888888888888888,
              "#fdca26"
             ],
             [
              1,
              "#f0f921"
             ]
            ],
            "type": "histogram2d"
           }
          ],
          "histogram2dcontour": [
           {
            "colorbar": {
             "outlinewidth": 0,
             "ticks": ""
            },
            "colorscale": [
             [
              0,
              "#0d0887"
             ],
             [
              0.1111111111111111,
              "#46039f"
             ],
             [
              0.2222222222222222,
              "#7201a8"
             ],
             [
              0.3333333333333333,
              "#9c179e"
             ],
             [
              0.4444444444444444,
              "#bd3786"
             ],
             [
              0.5555555555555556,
              "#d8576b"
             ],
             [
              0.6666666666666666,
              "#ed7953"
             ],
             [
              0.7777777777777778,
              "#fb9f3a"
             ],
             [
              0.8888888888888888,
              "#fdca26"
             ],
             [
              1,
              "#f0f921"
             ]
            ],
            "type": "histogram2dcontour"
           }
          ],
          "mesh3d": [
           {
            "colorbar": {
             "outlinewidth": 0,
             "ticks": ""
            },
            "type": "mesh3d"
           }
          ],
          "parcoords": [
           {
            "line": {
             "colorbar": {
              "outlinewidth": 0,
              "ticks": ""
             }
            },
            "type": "parcoords"
           }
          ],
          "pie": [
           {
            "automargin": true,
            "type": "pie"
           }
          ],
          "scatter": [
           {
            "fillpattern": {
             "fillmode": "overlay",
             "size": 10,
             "solidity": 0.2
            },
            "type": "scatter"
           }
          ],
          "scatter3d": [
           {
            "line": {
             "colorbar": {
              "outlinewidth": 0,
              "ticks": ""
             }
            },
            "marker": {
             "colorbar": {
              "outlinewidth": 0,
              "ticks": ""
             }
            },
            "type": "scatter3d"
           }
          ],
          "scattercarpet": [
           {
            "marker": {
             "colorbar": {
              "outlinewidth": 0,
              "ticks": ""
             }
            },
            "type": "scattercarpet"
           }
          ],
          "scattergeo": [
           {
            "marker": {
             "colorbar": {
              "outlinewidth": 0,
              "ticks": ""
             }
            },
            "type": "scattergeo"
           }
          ],
          "scattergl": [
           {
            "marker": {
             "colorbar": {
              "outlinewidth": 0,
              "ticks": ""
             }
            },
            "type": "scattergl"
           }
          ],
          "scattermapbox": [
           {
            "marker": {
             "colorbar": {
              "outlinewidth": 0,
              "ticks": ""
             }
            },
            "type": "scattermapbox"
           }
          ],
          "scatterpolar": [
           {
            "marker": {
             "colorbar": {
              "outlinewidth": 0,
              "ticks": ""
             }
            },
            "type": "scatterpolar"
           }
          ],
          "scatterpolargl": [
           {
            "marker": {
             "colorbar": {
              "outlinewidth": 0,
              "ticks": ""
             }
            },
            "type": "scatterpolargl"
           }
          ],
          "scatterternary": [
           {
            "marker": {
             "colorbar": {
              "outlinewidth": 0,
              "ticks": ""
             }
            },
            "type": "scatterternary"
           }
          ],
          "surface": [
           {
            "colorbar": {
             "outlinewidth": 0,
             "ticks": ""
            },
            "colorscale": [
             [
              0,
              "#0d0887"
             ],
             [
              0.1111111111111111,
              "#46039f"
             ],
             [
              0.2222222222222222,
              "#7201a8"
             ],
             [
              0.3333333333333333,
              "#9c179e"
             ],
             [
              0.4444444444444444,
              "#bd3786"
             ],
             [
              0.5555555555555556,
              "#d8576b"
             ],
             [
              0.6666666666666666,
              "#ed7953"
             ],
             [
              0.7777777777777778,
              "#fb9f3a"
             ],
             [
              0.8888888888888888,
              "#fdca26"
             ],
             [
              1,
              "#f0f921"
             ]
            ],
            "type": "surface"
           }
          ],
          "table": [
           {
            "cells": {
             "fill": {
              "color": "#EBF0F8"
             },
             "line": {
              "color": "white"
             }
            },
            "header": {
             "fill": {
              "color": "#C8D4E3"
             },
             "line": {
              "color": "white"
             }
            },
            "type": "table"
           }
          ]
         },
         "layout": {
          "annotationdefaults": {
           "arrowcolor": "#2a3f5f",
           "arrowhead": 0,
           "arrowwidth": 1
          },
          "autotypenumbers": "strict",
          "coloraxis": {
           "colorbar": {
            "outlinewidth": 0,
            "ticks": ""
           }
          },
          "colorscale": {
           "diverging": [
            [
             0,
             "#8e0152"
            ],
            [
             0.1,
             "#c51b7d"
            ],
            [
             0.2,
             "#de77ae"
            ],
            [
             0.3,
             "#f1b6da"
            ],
            [
             0.4,
             "#fde0ef"
            ],
            [
             0.5,
             "#f7f7f7"
            ],
            [
             0.6,
             "#e6f5d0"
            ],
            [
             0.7,
             "#b8e186"
            ],
            [
             0.8,
             "#7fbc41"
            ],
            [
             0.9,
             "#4d9221"
            ],
            [
             1,
             "#276419"
            ]
           ],
           "sequential": [
            [
             0,
             "#0d0887"
            ],
            [
             0.1111111111111111,
             "#46039f"
            ],
            [
             0.2222222222222222,
             "#7201a8"
            ],
            [
             0.3333333333333333,
             "#9c179e"
            ],
            [
             0.4444444444444444,
             "#bd3786"
            ],
            [
             0.5555555555555556,
             "#d8576b"
            ],
            [
             0.6666666666666666,
             "#ed7953"
            ],
            [
             0.7777777777777778,
             "#fb9f3a"
            ],
            [
             0.8888888888888888,
             "#fdca26"
            ],
            [
             1,
             "#f0f921"
            ]
           ],
           "sequentialminus": [
            [
             0,
             "#0d0887"
            ],
            [
             0.1111111111111111,
             "#46039f"
            ],
            [
             0.2222222222222222,
             "#7201a8"
            ],
            [
             0.3333333333333333,
             "#9c179e"
            ],
            [
             0.4444444444444444,
             "#bd3786"
            ],
            [
             0.5555555555555556,
             "#d8576b"
            ],
            [
             0.6666666666666666,
             "#ed7953"
            ],
            [
             0.7777777777777778,
             "#fb9f3a"
            ],
            [
             0.8888888888888888,
             "#fdca26"
            ],
            [
             1,
             "#f0f921"
            ]
           ]
          },
          "colorway": [
           "#636efa",
           "#EF553B",
           "#00cc96",
           "#ab63fa",
           "#FFA15A",
           "#19d3f3",
           "#FF6692",
           "#B6E880",
           "#FF97FF",
           "#FECB52"
          ],
          "font": {
           "color": "#2a3f5f"
          },
          "geo": {
           "bgcolor": "white",
           "lakecolor": "white",
           "landcolor": "#E5ECF6",
           "showlakes": true,
           "showland": true,
           "subunitcolor": "white"
          },
          "hoverlabel": {
           "align": "left"
          },
          "hovermode": "closest",
          "mapbox": {
           "style": "light"
          },
          "paper_bgcolor": "white",
          "plot_bgcolor": "#E5ECF6",
          "polar": {
           "angularaxis": {
            "gridcolor": "white",
            "linecolor": "white",
            "ticks": ""
           },
           "bgcolor": "#E5ECF6",
           "radialaxis": {
            "gridcolor": "white",
            "linecolor": "white",
            "ticks": ""
           }
          },
          "scene": {
           "xaxis": {
            "backgroundcolor": "#E5ECF6",
            "gridcolor": "white",
            "gridwidth": 2,
            "linecolor": "white",
            "showbackground": true,
            "ticks": "",
            "zerolinecolor": "white"
           },
           "yaxis": {
            "backgroundcolor": "#E5ECF6",
            "gridcolor": "white",
            "gridwidth": 2,
            "linecolor": "white",
            "showbackground": true,
            "ticks": "",
            "zerolinecolor": "white"
           },
           "zaxis": {
            "backgroundcolor": "#E5ECF6",
            "gridcolor": "white",
            "gridwidth": 2,
            "linecolor": "white",
            "showbackground": true,
            "ticks": "",
            "zerolinecolor": "white"
           }
          },
          "shapedefaults": {
           "line": {
            "color": "#2a3f5f"
           }
          },
          "ternary": {
           "aaxis": {
            "gridcolor": "white",
            "linecolor": "white",
            "ticks": ""
           },
           "baxis": {
            "gridcolor": "white",
            "linecolor": "white",
            "ticks": ""
           },
           "bgcolor": "#E5ECF6",
           "caxis": {
            "gridcolor": "white",
            "linecolor": "white",
            "ticks": ""
           }
          },
          "title": {
           "x": 0.05
          },
          "xaxis": {
           "automargin": true,
           "gridcolor": "white",
           "linecolor": "white",
           "ticks": "",
           "title": {
            "standoff": 15
           },
           "zerolinecolor": "white",
           "zerolinewidth": 2
          },
          "yaxis": {
           "automargin": true,
           "gridcolor": "white",
           "linecolor": "white",
           "ticks": "",
           "title": {
            "standoff": 15
           },
           "zerolinecolor": "white",
           "zerolinewidth": 2
          }
         }
        },
        "title": {
         "text": "Contrataciones por Trimestre"
        },
        "xaxis": {
         "anchor": "y",
         "domain": [
          0,
          1
         ],
         "title": {
          "text": "Trimestre"
         }
        },
        "yaxis": {
         "anchor": "x",
         "domain": [
          0,
          1
         ],
         "title": {
          "text": "Contrataciones"
         }
        }
       }
      },
      "text/html": [
       "<div>                            <div id=\"23da72d7-b82e-49ff-9407-13b6c72db446\" class=\"plotly-graph-div\" style=\"height:525px; width:100%;\"></div>            <script type=\"text/javascript\">                require([\"plotly\"], function(Plotly) {                    window.PLOTLYENV=window.PLOTLYENV || {};                                    if (document.getElementById(\"23da72d7-b82e-49ff-9407-13b6c72db446\")) {                    Plotly.newPlot(                        \"23da72d7-b82e-49ff-9407-13b6c72db446\",                        [{\"alignmentgroup\":\"True\",\"hovertemplate\":\"Trimestre=%{x}\\u003cbr\\u003eContrataciones=%{y}\\u003cextra\\u003e\\u003c\\u002fextra\\u003e\",\"legendgroup\":\"\",\"marker\":{\"color\":\"#636efa\",\"pattern\":{\"shape\":\"\"}},\"name\":\"\",\"offsetgroup\":\"\",\"orientation\":\"v\",\"showlegend\":false,\"textposition\":\"auto\",\"x\":[\"2022Q4\",\"2022Q3\",\"2023Q1\",\"2020Q4\",\"2021Q1\",\"2017Q3\",\"2020Q1\",\"2019Q3\",\"2019Q4\",\"2023Q2\",\"2017Q4\",\"2016Q4\",\"2018Q1\",\"2018Q3\",\"2017Q1\",\"2023Q3\",\"2019Q1\",\"2017Q2\",\"2013Q3\",\"2016Q1\",\"2018Q4\",\"2015Q1\",\"2018Q2\",\"2014Q4\",\"2015Q3\",\"2013Q4\",\"2016Q3\",\"2013Q2\",\"2015Q4\",\"2019Q2\",\"2021Q4\",\"2020Q3\",\"2015Q2\",\"2021Q2\",\"2016Q2\",\"2014Q1\",\"2014Q2\",\"2006Q1\",\"2013Q1\",\"2012Q3\",\"2009Q3\",\"2014Q3\",\"2012Q1\",\"2021Q3\",\"2022Q2\",\"2005Q4\",\"2010Q3\",\"2007Q3\",\"2005Q3\",\"2011Q1\",\"2004Q2\",\"2006Q2\",\"2022Q1\",\"2008Q1\",\"2009Q4\",\"2010Q4\",\"2005Q2\",\"1995Q3\",\"2023Q4\",\"2008Q2\",\"2010Q2\",\"2011Q3\",\"2008Q3\",\"2004Q4\",\"2006Q3\",\"2006Q4\",\"1993Q3\",\"2005Q1\",\"2000Q4\",\"2010Q1\",\"2008Q4\",\"1999Q2\",\"1994Q1\",\"1999Q1\",\"1994Q2\",\"2000Q3\",\"2011Q2\",\"1995Q2\",\"2007Q2\",\"2007Q1\",\"2009Q2\",\"2001Q2\",\"2011Q4\",\"2012Q4\",\"2007Q4\"],\"xaxis\":\"x\",\"y\":[144,113,111,80,71,51,49,48,43,38,35,32,31,28,28,27,26,24,23,22,22,20,19,18,17,17,15,13,13,13,11,11,11,10,10,10,9,8,7,7,7,7,6,5,5,5,5,5,4,4,4,3,3,3,3,3,3,3,3,3,3,2,2,2,2,2,1,1,1,1,1,1,1,1,1,1,1,1,1,1,1,1,1,1,1],\"yaxis\":\"y\",\"type\":\"bar\"}],                        {\"template\":{\"data\":{\"histogram2dcontour\":[{\"type\":\"histogram2dcontour\",\"colorbar\":{\"outlinewidth\":0,\"ticks\":\"\"},\"colorscale\":[[0.0,\"#0d0887\"],[0.1111111111111111,\"#46039f\"],[0.2222222222222222,\"#7201a8\"],[0.3333333333333333,\"#9c179e\"],[0.4444444444444444,\"#bd3786\"],[0.5555555555555556,\"#d8576b\"],[0.6666666666666666,\"#ed7953\"],[0.7777777777777778,\"#fb9f3a\"],[0.8888888888888888,\"#fdca26\"],[1.0,\"#f0f921\"]]}],\"choropleth\":[{\"type\":\"choropleth\",\"colorbar\":{\"outlinewidth\":0,\"ticks\":\"\"}}],\"histogram2d\":[{\"type\":\"histogram2d\",\"colorbar\":{\"outlinewidth\":0,\"ticks\":\"\"},\"colorscale\":[[0.0,\"#0d0887\"],[0.1111111111111111,\"#46039f\"],[0.2222222222222222,\"#7201a8\"],[0.3333333333333333,\"#9c179e\"],[0.4444444444444444,\"#bd3786\"],[0.5555555555555556,\"#d8576b\"],[0.6666666666666666,\"#ed7953\"],[0.7777777777777778,\"#fb9f3a\"],[0.8888888888888888,\"#fdca26\"],[1.0,\"#f0f921\"]]}],\"heatmap\":[{\"type\":\"heatmap\",\"colorbar\":{\"outlinewidth\":0,\"ticks\":\"\"},\"colorscale\":[[0.0,\"#0d0887\"],[0.1111111111111111,\"#46039f\"],[0.2222222222222222,\"#7201a8\"],[0.3333333333333333,\"#9c179e\"],[0.4444444444444444,\"#bd3786\"],[0.5555555555555556,\"#d8576b\"],[0.6666666666666666,\"#ed7953\"],[0.7777777777777778,\"#fb9f3a\"],[0.8888888888888888,\"#fdca26\"],[1.0,\"#f0f921\"]]}],\"heatmapgl\":[{\"type\":\"heatmapgl\",\"colorbar\":{\"outlinewidth\":0,\"ticks\":\"\"},\"colorscale\":[[0.0,\"#0d0887\"],[0.1111111111111111,\"#46039f\"],[0.2222222222222222,\"#7201a8\"],[0.3333333333333333,\"#9c179e\"],[0.4444444444444444,\"#bd3786\"],[0.5555555555555556,\"#d8576b\"],[0.6666666666666666,\"#ed7953\"],[0.7777777777777778,\"#fb9f3a\"],[0.8888888888888888,\"#fdca26\"],[1.0,\"#f0f921\"]]}],\"contourcarpet\":[{\"type\":\"contourcarpet\",\"colorbar\":{\"outlinewidth\":0,\"ticks\":\"\"}}],\"contour\":[{\"type\":\"contour\",\"colorbar\":{\"outlinewidth\":0,\"ticks\":\"\"},\"colorscale\":[[0.0,\"#0d0887\"],[0.1111111111111111,\"#46039f\"],[0.2222222222222222,\"#7201a8\"],[0.3333333333333333,\"#9c179e\"],[0.4444444444444444,\"#bd3786\"],[0.5555555555555556,\"#d8576b\"],[0.6666666666666666,\"#ed7953\"],[0.7777777777777778,\"#fb9f3a\"],[0.8888888888888888,\"#fdca26\"],[1.0,\"#f0f921\"]]}],\"surface\":[{\"type\":\"surface\",\"colorbar\":{\"outlinewidth\":0,\"ticks\":\"\"},\"colorscale\":[[0.0,\"#0d0887\"],[0.1111111111111111,\"#46039f\"],[0.2222222222222222,\"#7201a8\"],[0.3333333333333333,\"#9c179e\"],[0.4444444444444444,\"#bd3786\"],[0.5555555555555556,\"#d8576b\"],[0.6666666666666666,\"#ed7953\"],[0.7777777777777778,\"#fb9f3a\"],[0.8888888888888888,\"#fdca26\"],[1.0,\"#f0f921\"]]}],\"mesh3d\":[{\"type\":\"mesh3d\",\"colorbar\":{\"outlinewidth\":0,\"ticks\":\"\"}}],\"scatter\":[{\"fillpattern\":{\"fillmode\":\"overlay\",\"size\":10,\"solidity\":0.2},\"type\":\"scatter\"}],\"parcoords\":[{\"type\":\"parcoords\",\"line\":{\"colorbar\":{\"outlinewidth\":0,\"ticks\":\"\"}}}],\"scatterpolargl\":[{\"type\":\"scatterpolargl\",\"marker\":{\"colorbar\":{\"outlinewidth\":0,\"ticks\":\"\"}}}],\"bar\":[{\"error_x\":{\"color\":\"#2a3f5f\"},\"error_y\":{\"color\":\"#2a3f5f\"},\"marker\":{\"line\":{\"color\":\"#E5ECF6\",\"width\":0.5},\"pattern\":{\"fillmode\":\"overlay\",\"size\":10,\"solidity\":0.2}},\"type\":\"bar\"}],\"scattergeo\":[{\"type\":\"scattergeo\",\"marker\":{\"colorbar\":{\"outlinewidth\":0,\"ticks\":\"\"}}}],\"scatterpolar\":[{\"type\":\"scatterpolar\",\"marker\":{\"colorbar\":{\"outlinewidth\":0,\"ticks\":\"\"}}}],\"histogram\":[{\"marker\":{\"pattern\":{\"fillmode\":\"overlay\",\"size\":10,\"solidity\":0.2}},\"type\":\"histogram\"}],\"scattergl\":[{\"type\":\"scattergl\",\"marker\":{\"colorbar\":{\"outlinewidth\":0,\"ticks\":\"\"}}}],\"scatter3d\":[{\"type\":\"scatter3d\",\"line\":{\"colorbar\":{\"outlinewidth\":0,\"ticks\":\"\"}},\"marker\":{\"colorbar\":{\"outlinewidth\":0,\"ticks\":\"\"}}}],\"scattermapbox\":[{\"type\":\"scattermapbox\",\"marker\":{\"colorbar\":{\"outlinewidth\":0,\"ticks\":\"\"}}}],\"scatterternary\":[{\"type\":\"scatterternary\",\"marker\":{\"colorbar\":{\"outlinewidth\":0,\"ticks\":\"\"}}}],\"scattercarpet\":[{\"type\":\"scattercarpet\",\"marker\":{\"colorbar\":{\"outlinewidth\":0,\"ticks\":\"\"}}}],\"carpet\":[{\"aaxis\":{\"endlinecolor\":\"#2a3f5f\",\"gridcolor\":\"white\",\"linecolor\":\"white\",\"minorgridcolor\":\"white\",\"startlinecolor\":\"#2a3f5f\"},\"baxis\":{\"endlinecolor\":\"#2a3f5f\",\"gridcolor\":\"white\",\"linecolor\":\"white\",\"minorgridcolor\":\"white\",\"startlinecolor\":\"#2a3f5f\"},\"type\":\"carpet\"}],\"table\":[{\"cells\":{\"fill\":{\"color\":\"#EBF0F8\"},\"line\":{\"color\":\"white\"}},\"header\":{\"fill\":{\"color\":\"#C8D4E3\"},\"line\":{\"color\":\"white\"}},\"type\":\"table\"}],\"barpolar\":[{\"marker\":{\"line\":{\"color\":\"#E5ECF6\",\"width\":0.5},\"pattern\":{\"fillmode\":\"overlay\",\"size\":10,\"solidity\":0.2}},\"type\":\"barpolar\"}],\"pie\":[{\"automargin\":true,\"type\":\"pie\"}]},\"layout\":{\"autotypenumbers\":\"strict\",\"colorway\":[\"#636efa\",\"#EF553B\",\"#00cc96\",\"#ab63fa\",\"#FFA15A\",\"#19d3f3\",\"#FF6692\",\"#B6E880\",\"#FF97FF\",\"#FECB52\"],\"font\":{\"color\":\"#2a3f5f\"},\"hovermode\":\"closest\",\"hoverlabel\":{\"align\":\"left\"},\"paper_bgcolor\":\"white\",\"plot_bgcolor\":\"#E5ECF6\",\"polar\":{\"bgcolor\":\"#E5ECF6\",\"angularaxis\":{\"gridcolor\":\"white\",\"linecolor\":\"white\",\"ticks\":\"\"},\"radialaxis\":{\"gridcolor\":\"white\",\"linecolor\":\"white\",\"ticks\":\"\"}},\"ternary\":{\"bgcolor\":\"#E5ECF6\",\"aaxis\":{\"gridcolor\":\"white\",\"linecolor\":\"white\",\"ticks\":\"\"},\"baxis\":{\"gridcolor\":\"white\",\"linecolor\":\"white\",\"ticks\":\"\"},\"caxis\":{\"gridcolor\":\"white\",\"linecolor\":\"white\",\"ticks\":\"\"}},\"coloraxis\":{\"colorbar\":{\"outlinewidth\":0,\"ticks\":\"\"}},\"colorscale\":{\"sequential\":[[0.0,\"#0d0887\"],[0.1111111111111111,\"#46039f\"],[0.2222222222222222,\"#7201a8\"],[0.3333333333333333,\"#9c179e\"],[0.4444444444444444,\"#bd3786\"],[0.5555555555555556,\"#d8576b\"],[0.6666666666666666,\"#ed7953\"],[0.7777777777777778,\"#fb9f3a\"],[0.8888888888888888,\"#fdca26\"],[1.0,\"#f0f921\"]],\"sequentialminus\":[[0.0,\"#0d0887\"],[0.1111111111111111,\"#46039f\"],[0.2222222222222222,\"#7201a8\"],[0.3333333333333333,\"#9c179e\"],[0.4444444444444444,\"#bd3786\"],[0.5555555555555556,\"#d8576b\"],[0.6666666666666666,\"#ed7953\"],[0.7777777777777778,\"#fb9f3a\"],[0.8888888888888888,\"#fdca26\"],[1.0,\"#f0f921\"]],\"diverging\":[[0,\"#8e0152\"],[0.1,\"#c51b7d\"],[0.2,\"#de77ae\"],[0.3,\"#f1b6da\"],[0.4,\"#fde0ef\"],[0.5,\"#f7f7f7\"],[0.6,\"#e6f5d0\"],[0.7,\"#b8e186\"],[0.8,\"#7fbc41\"],[0.9,\"#4d9221\"],[1,\"#276419\"]]},\"xaxis\":{\"gridcolor\":\"white\",\"linecolor\":\"white\",\"ticks\":\"\",\"title\":{\"standoff\":15},\"zerolinecolor\":\"white\",\"automargin\":true,\"zerolinewidth\":2},\"yaxis\":{\"gridcolor\":\"white\",\"linecolor\":\"white\",\"ticks\":\"\",\"title\":{\"standoff\":15},\"zerolinecolor\":\"white\",\"automargin\":true,\"zerolinewidth\":2},\"scene\":{\"xaxis\":{\"backgroundcolor\":\"#E5ECF6\",\"gridcolor\":\"white\",\"linecolor\":\"white\",\"showbackground\":true,\"ticks\":\"\",\"zerolinecolor\":\"white\",\"gridwidth\":2},\"yaxis\":{\"backgroundcolor\":\"#E5ECF6\",\"gridcolor\":\"white\",\"linecolor\":\"white\",\"showbackground\":true,\"ticks\":\"\",\"zerolinecolor\":\"white\",\"gridwidth\":2},\"zaxis\":{\"backgroundcolor\":\"#E5ECF6\",\"gridcolor\":\"white\",\"linecolor\":\"white\",\"showbackground\":true,\"ticks\":\"\",\"zerolinecolor\":\"white\",\"gridwidth\":2}},\"shapedefaults\":{\"line\":{\"color\":\"#2a3f5f\"}},\"annotationdefaults\":{\"arrowcolor\":\"#2a3f5f\",\"arrowhead\":0,\"arrowwidth\":1},\"geo\":{\"bgcolor\":\"white\",\"landcolor\":\"#E5ECF6\",\"subunitcolor\":\"white\",\"showland\":true,\"showlakes\":true,\"lakecolor\":\"white\"},\"title\":{\"x\":0.05},\"mapbox\":{\"style\":\"light\"}}},\"xaxis\":{\"anchor\":\"y\",\"domain\":[0.0,1.0],\"title\":{\"text\":\"Trimestre\"}},\"yaxis\":{\"anchor\":\"x\",\"domain\":[0.0,1.0],\"title\":{\"text\":\"Contrataciones\"}},\"legend\":{\"tracegroupgap\":0},\"title\":{\"text\":\"Contrataciones por Trimestre\"},\"barmode\":\"relative\"},                        {\"responsive\": true}                    ).then(function(){\n",
       "                            \n",
       "var gd = document.getElementById('23da72d7-b82e-49ff-9407-13b6c72db446');\n",
       "var x = new MutationObserver(function (mutations, observer) {{\n",
       "        var display = window.getComputedStyle(gd).display;\n",
       "        if (!display || display === 'none') {{\n",
       "            console.log([gd, 'removed!']);\n",
       "            Plotly.purge(gd);\n",
       "            observer.disconnect();\n",
       "        }}\n",
       "}});\n",
       "\n",
       "// Listen for the removal of the full notebook cells\n",
       "var notebookContainer = gd.closest('#notebook-container');\n",
       "if (notebookContainer) {{\n",
       "    x.observe(notebookContainer, {childList: true});\n",
       "}}\n",
       "\n",
       "// Listen for the clearing of the current output cell\n",
       "var outputEl = gd.closest('.output');\n",
       "if (outputEl) {{\n",
       "    x.observe(outputEl, {childList: true});\n",
       "}}\n",
       "\n",
       "                        })                };                });            </script>        </div>"
      ]
     },
     "metadata": {},
     "output_type": "display_data"
    },
    {
     "data": {
      "application/vnd.plotly.v1+json": {
       "config": {
        "plotlyServerURL": "https://plot.ly"
       },
       "data": [
        {
         "alignmentgroup": "True",
         "hovertemplate": "Trimestre=%{x}<br>Bajas=%{y}<extra></extra>",
         "legendgroup": "",
         "marker": {
          "color": "#636efa",
          "pattern": {
           "shape": ""
          }
         },
         "name": "",
         "offsetgroup": "",
         "orientation": "v",
         "showlegend": false,
         "textposition": "auto",
         "type": "bar",
         "x": [
          "2022Q4",
          "2022Q2",
          "2022Q3",
          "2023Q1",
          "2023Q2",
          "2022Q1",
          "2023Q3",
          "2023Q4"
         ],
         "xaxis": "x",
         "y": [
          213,
          207,
          196,
          195,
          191,
          179,
          175,
          45
         ],
         "yaxis": "y"
        }
       ],
       "layout": {
        "barmode": "relative",
        "legend": {
         "tracegroupgap": 0
        },
        "template": {
         "data": {
          "bar": [
           {
            "error_x": {
             "color": "#2a3f5f"
            },
            "error_y": {
             "color": "#2a3f5f"
            },
            "marker": {
             "line": {
              "color": "#E5ECF6",
              "width": 0.5
             },
             "pattern": {
              "fillmode": "overlay",
              "size": 10,
              "solidity": 0.2
             }
            },
            "type": "bar"
           }
          ],
          "barpolar": [
           {
            "marker": {
             "line": {
              "color": "#E5ECF6",
              "width": 0.5
             },
             "pattern": {
              "fillmode": "overlay",
              "size": 10,
              "solidity": 0.2
             }
            },
            "type": "barpolar"
           }
          ],
          "carpet": [
           {
            "aaxis": {
             "endlinecolor": "#2a3f5f",
             "gridcolor": "white",
             "linecolor": "white",
             "minorgridcolor": "white",
             "startlinecolor": "#2a3f5f"
            },
            "baxis": {
             "endlinecolor": "#2a3f5f",
             "gridcolor": "white",
             "linecolor": "white",
             "minorgridcolor": "white",
             "startlinecolor": "#2a3f5f"
            },
            "type": "carpet"
           }
          ],
          "choropleth": [
           {
            "colorbar": {
             "outlinewidth": 0,
             "ticks": ""
            },
            "type": "choropleth"
           }
          ],
          "contour": [
           {
            "colorbar": {
             "outlinewidth": 0,
             "ticks": ""
            },
            "colorscale": [
             [
              0,
              "#0d0887"
             ],
             [
              0.1111111111111111,
              "#46039f"
             ],
             [
              0.2222222222222222,
              "#7201a8"
             ],
             [
              0.3333333333333333,
              "#9c179e"
             ],
             [
              0.4444444444444444,
              "#bd3786"
             ],
             [
              0.5555555555555556,
              "#d8576b"
             ],
             [
              0.6666666666666666,
              "#ed7953"
             ],
             [
              0.7777777777777778,
              "#fb9f3a"
             ],
             [
              0.8888888888888888,
              "#fdca26"
             ],
             [
              1,
              "#f0f921"
             ]
            ],
            "type": "contour"
           }
          ],
          "contourcarpet": [
           {
            "colorbar": {
             "outlinewidth": 0,
             "ticks": ""
            },
            "type": "contourcarpet"
           }
          ],
          "heatmap": [
           {
            "colorbar": {
             "outlinewidth": 0,
             "ticks": ""
            },
            "colorscale": [
             [
              0,
              "#0d0887"
             ],
             [
              0.1111111111111111,
              "#46039f"
             ],
             [
              0.2222222222222222,
              "#7201a8"
             ],
             [
              0.3333333333333333,
              "#9c179e"
             ],
             [
              0.4444444444444444,
              "#bd3786"
             ],
             [
              0.5555555555555556,
              "#d8576b"
             ],
             [
              0.6666666666666666,
              "#ed7953"
             ],
             [
              0.7777777777777778,
              "#fb9f3a"
             ],
             [
              0.8888888888888888,
              "#fdca26"
             ],
             [
              1,
              "#f0f921"
             ]
            ],
            "type": "heatmap"
           }
          ],
          "heatmapgl": [
           {
            "colorbar": {
             "outlinewidth": 0,
             "ticks": ""
            },
            "colorscale": [
             [
              0,
              "#0d0887"
             ],
             [
              0.1111111111111111,
              "#46039f"
             ],
             [
              0.2222222222222222,
              "#7201a8"
             ],
             [
              0.3333333333333333,
              "#9c179e"
             ],
             [
              0.4444444444444444,
              "#bd3786"
             ],
             [
              0.5555555555555556,
              "#d8576b"
             ],
             [
              0.6666666666666666,
              "#ed7953"
             ],
             [
              0.7777777777777778,
              "#fb9f3a"
             ],
             [
              0.8888888888888888,
              "#fdca26"
             ],
             [
              1,
              "#f0f921"
             ]
            ],
            "type": "heatmapgl"
           }
          ],
          "histogram": [
           {
            "marker": {
             "pattern": {
              "fillmode": "overlay",
              "size": 10,
              "solidity": 0.2
             }
            },
            "type": "histogram"
           }
          ],
          "histogram2d": [
           {
            "colorbar": {
             "outlinewidth": 0,
             "ticks": ""
            },
            "colorscale": [
             [
              0,
              "#0d0887"
             ],
             [
              0.1111111111111111,
              "#46039f"
             ],
             [
              0.2222222222222222,
              "#7201a8"
             ],
             [
              0.3333333333333333,
              "#9c179e"
             ],
             [
              0.4444444444444444,
              "#bd3786"
             ],
             [
              0.5555555555555556,
              "#d8576b"
             ],
             [
              0.6666666666666666,
              "#ed7953"
             ],
             [
              0.7777777777777778,
              "#fb9f3a"
             ],
             [
              0.8888888888888888,
              "#fdca26"
             ],
             [
              1,
              "#f0f921"
             ]
            ],
            "type": "histogram2d"
           }
          ],
          "histogram2dcontour": [
           {
            "colorbar": {
             "outlinewidth": 0,
             "ticks": ""
            },
            "colorscale": [
             [
              0,
              "#0d0887"
             ],
             [
              0.1111111111111111,
              "#46039f"
             ],
             [
              0.2222222222222222,
              "#7201a8"
             ],
             [
              0.3333333333333333,
              "#9c179e"
             ],
             [
              0.4444444444444444,
              "#bd3786"
             ],
             [
              0.5555555555555556,
              "#d8576b"
             ],
             [
              0.6666666666666666,
              "#ed7953"
             ],
             [
              0.7777777777777778,
              "#fb9f3a"
             ],
             [
              0.8888888888888888,
              "#fdca26"
             ],
             [
              1,
              "#f0f921"
             ]
            ],
            "type": "histogram2dcontour"
           }
          ],
          "mesh3d": [
           {
            "colorbar": {
             "outlinewidth": 0,
             "ticks": ""
            },
            "type": "mesh3d"
           }
          ],
          "parcoords": [
           {
            "line": {
             "colorbar": {
              "outlinewidth": 0,
              "ticks": ""
             }
            },
            "type": "parcoords"
           }
          ],
          "pie": [
           {
            "automargin": true,
            "type": "pie"
           }
          ],
          "scatter": [
           {
            "fillpattern": {
             "fillmode": "overlay",
             "size": 10,
             "solidity": 0.2
            },
            "type": "scatter"
           }
          ],
          "scatter3d": [
           {
            "line": {
             "colorbar": {
              "outlinewidth": 0,
              "ticks": ""
             }
            },
            "marker": {
             "colorbar": {
              "outlinewidth": 0,
              "ticks": ""
             }
            },
            "type": "scatter3d"
           }
          ],
          "scattercarpet": [
           {
            "marker": {
             "colorbar": {
              "outlinewidth": 0,
              "ticks": ""
             }
            },
            "type": "scattercarpet"
           }
          ],
          "scattergeo": [
           {
            "marker": {
             "colorbar": {
              "outlinewidth": 0,
              "ticks": ""
             }
            },
            "type": "scattergeo"
           }
          ],
          "scattergl": [
           {
            "marker": {
             "colorbar": {
              "outlinewidth": 0,
              "ticks": ""
             }
            },
            "type": "scattergl"
           }
          ],
          "scattermapbox": [
           {
            "marker": {
             "colorbar": {
              "outlinewidth": 0,
              "ticks": ""
             }
            },
            "type": "scattermapbox"
           }
          ],
          "scatterpolar": [
           {
            "marker": {
             "colorbar": {
              "outlinewidth": 0,
              "ticks": ""
             }
            },
            "type": "scatterpolar"
           }
          ],
          "scatterpolargl": [
           {
            "marker": {
             "colorbar": {
              "outlinewidth": 0,
              "ticks": ""
             }
            },
            "type": "scatterpolargl"
           }
          ],
          "scatterternary": [
           {
            "marker": {
             "colorbar": {
              "outlinewidth": 0,
              "ticks": ""
             }
            },
            "type": "scatterternary"
           }
          ],
          "surface": [
           {
            "colorbar": {
             "outlinewidth": 0,
             "ticks": ""
            },
            "colorscale": [
             [
              0,
              "#0d0887"
             ],
             [
              0.1111111111111111,
              "#46039f"
             ],
             [
              0.2222222222222222,
              "#7201a8"
             ],
             [
              0.3333333333333333,
              "#9c179e"
             ],
             [
              0.4444444444444444,
              "#bd3786"
             ],
             [
              0.5555555555555556,
              "#d8576b"
             ],
             [
              0.6666666666666666,
              "#ed7953"
             ],
             [
              0.7777777777777778,
              "#fb9f3a"
             ],
             [
              0.8888888888888888,
              "#fdca26"
             ],
             [
              1,
              "#f0f921"
             ]
            ],
            "type": "surface"
           }
          ],
          "table": [
           {
            "cells": {
             "fill": {
              "color": "#EBF0F8"
             },
             "line": {
              "color": "white"
             }
            },
            "header": {
             "fill": {
              "color": "#C8D4E3"
             },
             "line": {
              "color": "white"
             }
            },
            "type": "table"
           }
          ]
         },
         "layout": {
          "annotationdefaults": {
           "arrowcolor": "#2a3f5f",
           "arrowhead": 0,
           "arrowwidth": 1
          },
          "autotypenumbers": "strict",
          "coloraxis": {
           "colorbar": {
            "outlinewidth": 0,
            "ticks": ""
           }
          },
          "colorscale": {
           "diverging": [
            [
             0,
             "#8e0152"
            ],
            [
             0.1,
             "#c51b7d"
            ],
            [
             0.2,
             "#de77ae"
            ],
            [
             0.3,
             "#f1b6da"
            ],
            [
             0.4,
             "#fde0ef"
            ],
            [
             0.5,
             "#f7f7f7"
            ],
            [
             0.6,
             "#e6f5d0"
            ],
            [
             0.7,
             "#b8e186"
            ],
            [
             0.8,
             "#7fbc41"
            ],
            [
             0.9,
             "#4d9221"
            ],
            [
             1,
             "#276419"
            ]
           ],
           "sequential": [
            [
             0,
             "#0d0887"
            ],
            [
             0.1111111111111111,
             "#46039f"
            ],
            [
             0.2222222222222222,
             "#7201a8"
            ],
            [
             0.3333333333333333,
             "#9c179e"
            ],
            [
             0.4444444444444444,
             "#bd3786"
            ],
            [
             0.5555555555555556,
             "#d8576b"
            ],
            [
             0.6666666666666666,
             "#ed7953"
            ],
            [
             0.7777777777777778,
             "#fb9f3a"
            ],
            [
             0.8888888888888888,
             "#fdca26"
            ],
            [
             1,
             "#f0f921"
            ]
           ],
           "sequentialminus": [
            [
             0,
             "#0d0887"
            ],
            [
             0.1111111111111111,
             "#46039f"
            ],
            [
             0.2222222222222222,
             "#7201a8"
            ],
            [
             0.3333333333333333,
             "#9c179e"
            ],
            [
             0.4444444444444444,
             "#bd3786"
            ],
            [
             0.5555555555555556,
             "#d8576b"
            ],
            [
             0.6666666666666666,
             "#ed7953"
            ],
            [
             0.7777777777777778,
             "#fb9f3a"
            ],
            [
             0.8888888888888888,
             "#fdca26"
            ],
            [
             1,
             "#f0f921"
            ]
           ]
          },
          "colorway": [
           "#636efa",
           "#EF553B",
           "#00cc96",
           "#ab63fa",
           "#FFA15A",
           "#19d3f3",
           "#FF6692",
           "#B6E880",
           "#FF97FF",
           "#FECB52"
          ],
          "font": {
           "color": "#2a3f5f"
          },
          "geo": {
           "bgcolor": "white",
           "lakecolor": "white",
           "landcolor": "#E5ECF6",
           "showlakes": true,
           "showland": true,
           "subunitcolor": "white"
          },
          "hoverlabel": {
           "align": "left"
          },
          "hovermode": "closest",
          "mapbox": {
           "style": "light"
          },
          "paper_bgcolor": "white",
          "plot_bgcolor": "#E5ECF6",
          "polar": {
           "angularaxis": {
            "gridcolor": "white",
            "linecolor": "white",
            "ticks": ""
           },
           "bgcolor": "#E5ECF6",
           "radialaxis": {
            "gridcolor": "white",
            "linecolor": "white",
            "ticks": ""
           }
          },
          "scene": {
           "xaxis": {
            "backgroundcolor": "#E5ECF6",
            "gridcolor": "white",
            "gridwidth": 2,
            "linecolor": "white",
            "showbackground": true,
            "ticks": "",
            "zerolinecolor": "white"
           },
           "yaxis": {
            "backgroundcolor": "#E5ECF6",
            "gridcolor": "white",
            "gridwidth": 2,
            "linecolor": "white",
            "showbackground": true,
            "ticks": "",
            "zerolinecolor": "white"
           },
           "zaxis": {
            "backgroundcolor": "#E5ECF6",
            "gridcolor": "white",
            "gridwidth": 2,
            "linecolor": "white",
            "showbackground": true,
            "ticks": "",
            "zerolinecolor": "white"
           }
          },
          "shapedefaults": {
           "line": {
            "color": "#2a3f5f"
           }
          },
          "ternary": {
           "aaxis": {
            "gridcolor": "white",
            "linecolor": "white",
            "ticks": ""
           },
           "baxis": {
            "gridcolor": "white",
            "linecolor": "white",
            "ticks": ""
           },
           "bgcolor": "#E5ECF6",
           "caxis": {
            "gridcolor": "white",
            "linecolor": "white",
            "ticks": ""
           }
          },
          "title": {
           "x": 0.05
          },
          "xaxis": {
           "automargin": true,
           "gridcolor": "white",
           "linecolor": "white",
           "ticks": "",
           "title": {
            "standoff": 15
           },
           "zerolinecolor": "white",
           "zerolinewidth": 2
          },
          "yaxis": {
           "automargin": true,
           "gridcolor": "white",
           "linecolor": "white",
           "ticks": "",
           "title": {
            "standoff": 15
           },
           "zerolinecolor": "white",
           "zerolinewidth": 2
          }
         }
        },
        "title": {
         "text": "Bajas por Trimestre"
        },
        "xaxis": {
         "anchor": "y",
         "domain": [
          0,
          1
         ],
         "title": {
          "text": "Trimestre"
         }
        },
        "yaxis": {
         "anchor": "x",
         "domain": [
          0,
          1
         ],
         "title": {
          "text": "Bajas"
         }
        }
       }
      },
      "text/html": [
       "<div>                            <div id=\"dea07e17-2b09-4faf-bc1e-8f06e9b4cda4\" class=\"plotly-graph-div\" style=\"height:525px; width:100%;\"></div>            <script type=\"text/javascript\">                require([\"plotly\"], function(Plotly) {                    window.PLOTLYENV=window.PLOTLYENV || {};                                    if (document.getElementById(\"dea07e17-2b09-4faf-bc1e-8f06e9b4cda4\")) {                    Plotly.newPlot(                        \"dea07e17-2b09-4faf-bc1e-8f06e9b4cda4\",                        [{\"alignmentgroup\":\"True\",\"hovertemplate\":\"Trimestre=%{x}\\u003cbr\\u003eBajas=%{y}\\u003cextra\\u003e\\u003c\\u002fextra\\u003e\",\"legendgroup\":\"\",\"marker\":{\"color\":\"#636efa\",\"pattern\":{\"shape\":\"\"}},\"name\":\"\",\"offsetgroup\":\"\",\"orientation\":\"v\",\"showlegend\":false,\"textposition\":\"auto\",\"x\":[\"2022Q4\",\"2022Q2\",\"2022Q3\",\"2023Q1\",\"2023Q2\",\"2022Q1\",\"2023Q3\",\"2023Q4\"],\"xaxis\":\"x\",\"y\":[213,207,196,195,191,179,175,45],\"yaxis\":\"y\",\"type\":\"bar\"}],                        {\"template\":{\"data\":{\"histogram2dcontour\":[{\"type\":\"histogram2dcontour\",\"colorbar\":{\"outlinewidth\":0,\"ticks\":\"\"},\"colorscale\":[[0.0,\"#0d0887\"],[0.1111111111111111,\"#46039f\"],[0.2222222222222222,\"#7201a8\"],[0.3333333333333333,\"#9c179e\"],[0.4444444444444444,\"#bd3786\"],[0.5555555555555556,\"#d8576b\"],[0.6666666666666666,\"#ed7953\"],[0.7777777777777778,\"#fb9f3a\"],[0.8888888888888888,\"#fdca26\"],[1.0,\"#f0f921\"]]}],\"choropleth\":[{\"type\":\"choropleth\",\"colorbar\":{\"outlinewidth\":0,\"ticks\":\"\"}}],\"histogram2d\":[{\"type\":\"histogram2d\",\"colorbar\":{\"outlinewidth\":0,\"ticks\":\"\"},\"colorscale\":[[0.0,\"#0d0887\"],[0.1111111111111111,\"#46039f\"],[0.2222222222222222,\"#7201a8\"],[0.3333333333333333,\"#9c179e\"],[0.4444444444444444,\"#bd3786\"],[0.5555555555555556,\"#d8576b\"],[0.6666666666666666,\"#ed7953\"],[0.7777777777777778,\"#fb9f3a\"],[0.8888888888888888,\"#fdca26\"],[1.0,\"#f0f921\"]]}],\"heatmap\":[{\"type\":\"heatmap\",\"colorbar\":{\"outlinewidth\":0,\"ticks\":\"\"},\"colorscale\":[[0.0,\"#0d0887\"],[0.1111111111111111,\"#46039f\"],[0.2222222222222222,\"#7201a8\"],[0.3333333333333333,\"#9c179e\"],[0.4444444444444444,\"#bd3786\"],[0.5555555555555556,\"#d8576b\"],[0.6666666666666666,\"#ed7953\"],[0.7777777777777778,\"#fb9f3a\"],[0.8888888888888888,\"#fdca26\"],[1.0,\"#f0f921\"]]}],\"heatmapgl\":[{\"type\":\"heatmapgl\",\"colorbar\":{\"outlinewidth\":0,\"ticks\":\"\"},\"colorscale\":[[0.0,\"#0d0887\"],[0.1111111111111111,\"#46039f\"],[0.2222222222222222,\"#7201a8\"],[0.3333333333333333,\"#9c179e\"],[0.4444444444444444,\"#bd3786\"],[0.5555555555555556,\"#d8576b\"],[0.6666666666666666,\"#ed7953\"],[0.7777777777777778,\"#fb9f3a\"],[0.8888888888888888,\"#fdca26\"],[1.0,\"#f0f921\"]]}],\"contourcarpet\":[{\"type\":\"contourcarpet\",\"colorbar\":{\"outlinewidth\":0,\"ticks\":\"\"}}],\"contour\":[{\"type\":\"contour\",\"colorbar\":{\"outlinewidth\":0,\"ticks\":\"\"},\"colorscale\":[[0.0,\"#0d0887\"],[0.1111111111111111,\"#46039f\"],[0.2222222222222222,\"#7201a8\"],[0.3333333333333333,\"#9c179e\"],[0.4444444444444444,\"#bd3786\"],[0.5555555555555556,\"#d8576b\"],[0.6666666666666666,\"#ed7953\"],[0.7777777777777778,\"#fb9f3a\"],[0.8888888888888888,\"#fdca26\"],[1.0,\"#f0f921\"]]}],\"surface\":[{\"type\":\"surface\",\"colorbar\":{\"outlinewidth\":0,\"ticks\":\"\"},\"colorscale\":[[0.0,\"#0d0887\"],[0.1111111111111111,\"#46039f\"],[0.2222222222222222,\"#7201a8\"],[0.3333333333333333,\"#9c179e\"],[0.4444444444444444,\"#bd3786\"],[0.5555555555555556,\"#d8576b\"],[0.6666666666666666,\"#ed7953\"],[0.7777777777777778,\"#fb9f3a\"],[0.8888888888888888,\"#fdca26\"],[1.0,\"#f0f921\"]]}],\"mesh3d\":[{\"type\":\"mesh3d\",\"colorbar\":{\"outlinewidth\":0,\"ticks\":\"\"}}],\"scatter\":[{\"fillpattern\":{\"fillmode\":\"overlay\",\"size\":10,\"solidity\":0.2},\"type\":\"scatter\"}],\"parcoords\":[{\"type\":\"parcoords\",\"line\":{\"colorbar\":{\"outlinewidth\":0,\"ticks\":\"\"}}}],\"scatterpolargl\":[{\"type\":\"scatterpolargl\",\"marker\":{\"colorbar\":{\"outlinewidth\":0,\"ticks\":\"\"}}}],\"bar\":[{\"error_x\":{\"color\":\"#2a3f5f\"},\"error_y\":{\"color\":\"#2a3f5f\"},\"marker\":{\"line\":{\"color\":\"#E5ECF6\",\"width\":0.5},\"pattern\":{\"fillmode\":\"overlay\",\"size\":10,\"solidity\":0.2}},\"type\":\"bar\"}],\"scattergeo\":[{\"type\":\"scattergeo\",\"marker\":{\"colorbar\":{\"outlinewidth\":0,\"ticks\":\"\"}}}],\"scatterpolar\":[{\"type\":\"scatterpolar\",\"marker\":{\"colorbar\":{\"outlinewidth\":0,\"ticks\":\"\"}}}],\"histogram\":[{\"marker\":{\"pattern\":{\"fillmode\":\"overlay\",\"size\":10,\"solidity\":0.2}},\"type\":\"histogram\"}],\"scattergl\":[{\"type\":\"scattergl\",\"marker\":{\"colorbar\":{\"outlinewidth\":0,\"ticks\":\"\"}}}],\"scatter3d\":[{\"type\":\"scatter3d\",\"line\":{\"colorbar\":{\"outlinewidth\":0,\"ticks\":\"\"}},\"marker\":{\"colorbar\":{\"outlinewidth\":0,\"ticks\":\"\"}}}],\"scattermapbox\":[{\"type\":\"scattermapbox\",\"marker\":{\"colorbar\":{\"outlinewidth\":0,\"ticks\":\"\"}}}],\"scatterternary\":[{\"type\":\"scatterternary\",\"marker\":{\"colorbar\":{\"outlinewidth\":0,\"ticks\":\"\"}}}],\"scattercarpet\":[{\"type\":\"scattercarpet\",\"marker\":{\"colorbar\":{\"outlinewidth\":0,\"ticks\":\"\"}}}],\"carpet\":[{\"aaxis\":{\"endlinecolor\":\"#2a3f5f\",\"gridcolor\":\"white\",\"linecolor\":\"white\",\"minorgridcolor\":\"white\",\"startlinecolor\":\"#2a3f5f\"},\"baxis\":{\"endlinecolor\":\"#2a3f5f\",\"gridcolor\":\"white\",\"linecolor\":\"white\",\"minorgridcolor\":\"white\",\"startlinecolor\":\"#2a3f5f\"},\"type\":\"carpet\"}],\"table\":[{\"cells\":{\"fill\":{\"color\":\"#EBF0F8\"},\"line\":{\"color\":\"white\"}},\"header\":{\"fill\":{\"color\":\"#C8D4E3\"},\"line\":{\"color\":\"white\"}},\"type\":\"table\"}],\"barpolar\":[{\"marker\":{\"line\":{\"color\":\"#E5ECF6\",\"width\":0.5},\"pattern\":{\"fillmode\":\"overlay\",\"size\":10,\"solidity\":0.2}},\"type\":\"barpolar\"}],\"pie\":[{\"automargin\":true,\"type\":\"pie\"}]},\"layout\":{\"autotypenumbers\":\"strict\",\"colorway\":[\"#636efa\",\"#EF553B\",\"#00cc96\",\"#ab63fa\",\"#FFA15A\",\"#19d3f3\",\"#FF6692\",\"#B6E880\",\"#FF97FF\",\"#FECB52\"],\"font\":{\"color\":\"#2a3f5f\"},\"hovermode\":\"closest\",\"hoverlabel\":{\"align\":\"left\"},\"paper_bgcolor\":\"white\",\"plot_bgcolor\":\"#E5ECF6\",\"polar\":{\"bgcolor\":\"#E5ECF6\",\"angularaxis\":{\"gridcolor\":\"white\",\"linecolor\":\"white\",\"ticks\":\"\"},\"radialaxis\":{\"gridcolor\":\"white\",\"linecolor\":\"white\",\"ticks\":\"\"}},\"ternary\":{\"bgcolor\":\"#E5ECF6\",\"aaxis\":{\"gridcolor\":\"white\",\"linecolor\":\"white\",\"ticks\":\"\"},\"baxis\":{\"gridcolor\":\"white\",\"linecolor\":\"white\",\"ticks\":\"\"},\"caxis\":{\"gridcolor\":\"white\",\"linecolor\":\"white\",\"ticks\":\"\"}},\"coloraxis\":{\"colorbar\":{\"outlinewidth\":0,\"ticks\":\"\"}},\"colorscale\":{\"sequential\":[[0.0,\"#0d0887\"],[0.1111111111111111,\"#46039f\"],[0.2222222222222222,\"#7201a8\"],[0.3333333333333333,\"#9c179e\"],[0.4444444444444444,\"#bd3786\"],[0.5555555555555556,\"#d8576b\"],[0.6666666666666666,\"#ed7953\"],[0.7777777777777778,\"#fb9f3a\"],[0.8888888888888888,\"#fdca26\"],[1.0,\"#f0f921\"]],\"sequentialminus\":[[0.0,\"#0d0887\"],[0.1111111111111111,\"#46039f\"],[0.2222222222222222,\"#7201a8\"],[0.3333333333333333,\"#9c179e\"],[0.4444444444444444,\"#bd3786\"],[0.5555555555555556,\"#d8576b\"],[0.6666666666666666,\"#ed7953\"],[0.7777777777777778,\"#fb9f3a\"],[0.8888888888888888,\"#fdca26\"],[1.0,\"#f0f921\"]],\"diverging\":[[0,\"#8e0152\"],[0.1,\"#c51b7d\"],[0.2,\"#de77ae\"],[0.3,\"#f1b6da\"],[0.4,\"#fde0ef\"],[0.5,\"#f7f7f7\"],[0.6,\"#e6f5d0\"],[0.7,\"#b8e186\"],[0.8,\"#7fbc41\"],[0.9,\"#4d9221\"],[1,\"#276419\"]]},\"xaxis\":{\"gridcolor\":\"white\",\"linecolor\":\"white\",\"ticks\":\"\",\"title\":{\"standoff\":15},\"zerolinecolor\":\"white\",\"automargin\":true,\"zerolinewidth\":2},\"yaxis\":{\"gridcolor\":\"white\",\"linecolor\":\"white\",\"ticks\":\"\",\"title\":{\"standoff\":15},\"zerolinecolor\":\"white\",\"automargin\":true,\"zerolinewidth\":2},\"scene\":{\"xaxis\":{\"backgroundcolor\":\"#E5ECF6\",\"gridcolor\":\"white\",\"linecolor\":\"white\",\"showbackground\":true,\"ticks\":\"\",\"zerolinecolor\":\"white\",\"gridwidth\":2},\"yaxis\":{\"backgroundcolor\":\"#E5ECF6\",\"gridcolor\":\"white\",\"linecolor\":\"white\",\"showbackground\":true,\"ticks\":\"\",\"zerolinecolor\":\"white\",\"gridwidth\":2},\"zaxis\":{\"backgroundcolor\":\"#E5ECF6\",\"gridcolor\":\"white\",\"linecolor\":\"white\",\"showbackground\":true,\"ticks\":\"\",\"zerolinecolor\":\"white\",\"gridwidth\":2}},\"shapedefaults\":{\"line\":{\"color\":\"#2a3f5f\"}},\"annotationdefaults\":{\"arrowcolor\":\"#2a3f5f\",\"arrowhead\":0,\"arrowwidth\":1},\"geo\":{\"bgcolor\":\"white\",\"landcolor\":\"#E5ECF6\",\"subunitcolor\":\"white\",\"showland\":true,\"showlakes\":true,\"lakecolor\":\"white\"},\"title\":{\"x\":0.05},\"mapbox\":{\"style\":\"light\"}}},\"xaxis\":{\"anchor\":\"y\",\"domain\":[0.0,1.0],\"title\":{\"text\":\"Trimestre\"}},\"yaxis\":{\"anchor\":\"x\",\"domain\":[0.0,1.0],\"title\":{\"text\":\"Bajas\"}},\"legend\":{\"tracegroupgap\":0},\"title\":{\"text\":\"Bajas por Trimestre\"},\"barmode\":\"relative\"},                        {\"responsive\": true}                    ).then(function(){\n",
       "                            \n",
       "var gd = document.getElementById('dea07e17-2b09-4faf-bc1e-8f06e9b4cda4');\n",
       "var x = new MutationObserver(function (mutations, observer) {{\n",
       "        var display = window.getComputedStyle(gd).display;\n",
       "        if (!display || display === 'none') {{\n",
       "            console.log([gd, 'removed!']);\n",
       "            Plotly.purge(gd);\n",
       "            observer.disconnect();\n",
       "        }}\n",
       "}});\n",
       "\n",
       "// Listen for the removal of the full notebook cells\n",
       "var notebookContainer = gd.closest('#notebook-container');\n",
       "if (notebookContainer) {{\n",
       "    x.observe(notebookContainer, {childList: true});\n",
       "}}\n",
       "\n",
       "// Listen for the clearing of the current output cell\n",
       "var outputEl = gd.closest('.output');\n",
       "if (outputEl) {{\n",
       "    x.observe(outputEl, {childList: true});\n",
       "}}\n",
       "\n",
       "                        })                };                });            </script>        </div>"
      ]
     },
     "metadata": {},
     "output_type": "display_data"
    }
   ],
   "source": [
    "# Distribución de Categorías Salariales por Género\n",
    "df = data[['BANDA', 'SEXO']]\n",
    "conteo_banda = df.groupby(['SEXO', 'BANDA']).size().reset_index(name='conteo')\n",
    "fig = px.bar(conteo_banda, x='BANDA', y='conteo', color='SEXO', \n",
    "             barmode='group', \n",
    "             title='Distribución de Categorías Salariales por Género',\n",
    "             labels={'conteo': 'Frecuencia', 'BANDA': 'Categoría Salarial'})\n",
    "\n",
    "fig.show()\n",
    "\n",
    "\n",
    "# Distribución de Categorías de Áreas por Género\n",
    "df = data[['AREA', 'SEXO']]\n",
    "conteo_banda = df.groupby(['SEXO', 'AREA']).size().reset_index(name='conteo')\n",
    "\n",
    "fig = px.bar(conteo_banda, x='conteo', y='AREA', color='SEXO', \n",
    "             barmode='group', \n",
    "             title='Distribución de Categorías de Áreas por Género',\n",
    "             labels={'conteo': 'Frecuencia', 'AREA': 'Categoría de Área'})\n",
    "fig.show()\n",
    "\n",
    "#Distancia\n",
    "distancias = np.array(data['Distancia'])\n",
    "\n",
    "valores, frecuencias = np.unique(distancias, return_counts=True)\n",
    "\n",
    "plt.figure(figsize=(10, 6))\n",
    "for i in range(len(valores)):\n",
    "    plt.scatter(x=np.cos(i)*valores[i], y=np.sin(i)*valores[i], s=frecuencias[i]*100, label=f'{valores[i]}: {frecuencias[i]}')\n",
    "\n",
    "plt.scatter(0, 0, color='red', s=10)\n",
    "\n",
    "for i in range(len(valores)):\n",
    "    plt.plot([0, np.cos(i)*valores[i]], [0, np.sin(i)*valores[i]], color='grey', linestyle='--')\n",
    "\n",
    "plt.title('Visualización de Distancias y Frecuencias')\n",
    "plt.xlabel('Eje X')\n",
    "plt.ylabel('Eje Y')\n",
    "plt.show()\n",
    "\n",
    "\n",
    "#SEXO\n",
    "conteo_sexo = data['SEXO'].value_counts().reset_index()\n",
    "conteo_sexo.columns = ['SEXO', 'conteo']\n",
    "\n",
    "fig = px.bar(conteo_sexo, x='SEXO', y='conteo',\n",
    "             title='Distribución por Género',\n",
    "             labels={'conteo': 'Frecuencia', 'SEXO': 'Género'})\n",
    "fig.show()\n",
    "\n",
    "\n",
    "#EDAD\n",
    "fig = px.histogram(data, x='EDAD', nbins=10, \n",
    "                   title='Distribución de Edad',\n",
    "                   labels={'EDAD': 'Edad'},\n",
    "                   marginal='box')  # Puedes quitar 'marginal' si no deseas el diagrama de caja\n",
    "fig.show()\n",
    "\n",
    "conteo_estado_civil = data['ESTADO CIVIL'].value_counts().reset_index()\n",
    "conteo_estado_civil.columns = ['ESTADO CIVIL', 'conteo']\n",
    "\n",
    "# ESTADO CIVIL\n",
    "fig = px.bar(conteo_estado_civil, x='ESTADO CIVIL', y='conteo',\n",
    "             title='Distribución por Estado Civil',\n",
    "             labels={'conteo': 'Frecuencia', 'ESTADO CIVIL': 'Estado Civil'})\n",
    "\n",
    "fig.show()\n",
    "\n",
    "\n",
    "#HIJOS\n",
    "conteo_hijos = data['HIJOS'].value_counts().reset_index()\n",
    "conteo_hijos.columns = ['HIJOS', 'conteo']\n",
    "\n",
    "fig = px.bar(conteo_hijos, x='HIJOS', y='conteo',\n",
    "             title='Distribución del Número de Hijos',\n",
    "             labels={'conteo': 'Frecuencia', 'HIJOS': 'Número de Hijos'})\n",
    "\n",
    "fig.show()\n",
    "\n",
    "#TIENE hijo si no\n",
    "conteo_tiene_hijos = data['TIENE HIJOS'].value_counts().reset_index()\n",
    "conteo_tiene_hijos.columns = ['TIENE HIJOS', 'conteo']\n",
    "\n",
    "fig = px.bar(conteo_tiene_hijos, x='TIENE HIJOS', y='conteo',\n",
    "             title='Distribución de Personas con y sin Hijos',\n",
    "             labels={'conteo': 'Frecuencia', 'TIENE HIJOS': 'Tiene Hijos'})\n",
    "\n",
    "fig.show()\n",
    "\n",
    "\n",
    "# Calcula el conteo de cada combinación de 'BANDA' y 'TIPO RENUNCIA'\n",
    "conteo_banda_tipo = data.groupby(['BANDA', 'TIPO DE RENUNCIA']).size().reset_index(name='conteo')\n",
    "\n",
    "# Crea un gráfico de barras con Plotly Express\n",
    "fig1 = px.bar(conteo_banda_tipo, x='BANDA', y='conteo', color='TIPO DE RENUNCIA', title='BANDA vs. TIPO DE RENUNCIA')\n",
    "\n",
    "# Muestra el gráfico\n",
    "fig1.show()\n",
    "\n",
    "\n",
    "# Calcula el conteo de cada combinación de 'BANDA' y 'MOTIVO DE LA RENUNCIA'\n",
    "conteo_banda_motivo = data.groupby(['BANDA', 'MOTIVO DE LA RENUNCIA']).size().reset_index(name='conteo')\n",
    "\n",
    "# Crea un gráfico de barras con Plotly Express\n",
    "fig2 = px.bar(conteo_banda_motivo, x='BANDA', y='conteo', color='MOTIVO DE LA RENUNCIA', title='BANDA vs. MOTIVO DE LA RENUNCIA')\n",
    "\n",
    "# Muestra el gráfico\n",
    "fig2.show()\n",
    "\n",
    "# Gráfico para 'BANDA' y 'ANTIGÜEDAD'\n",
    "fig3 = px.box(data, x='BANDA', y='ANTIGÜEDAD', title='BANDA vs. ANTIGÜEDAD')\n",
    "fig3.show()\n",
    "\n",
    "#Relación entre antigüedad y distancia\n",
    "fig = px.scatter(data, x='Distancia', y='ANTIGÜEDAD',\n",
    "                 title='Relación entre Distancia y Antigüedad',\n",
    "                 labels={'Distancia': 'Distancia', 'Antigüedad': 'Antigüedad'})\n",
    "\n",
    "# Mostrar el gráfico\n",
    "fig.show()\n",
    "\n",
    "#Graficas para saber en que trimestre se contratron más personas y en que trimestre hubo m'as bajas\n",
    "data['ALTA'] = pd.to_datetime(data['ALTA'], errors='coerce')\n",
    "data['BAJA'] = pd.to_datetime(data['BAJA'], errors='coerce')\n",
    "\n",
    "# Extraer el trimestre y convertir a string\n",
    "data['Trimestre Alta'] = data['ALTA'].dt.to_period('Q').astype(str)\n",
    "data['Trimestre Baja'] = data['BAJA'].dt.to_period('Q').astype(str)\n",
    "\n",
    "# Conteo de contrataciones por trimestre\n",
    "contrataciones_por_trimestre = data['Trimestre Alta'].value_counts().reset_index()\n",
    "contrataciones_por_trimestre.columns = ['Trimestre', 'Contrataciones']\n",
    "\n",
    "# Gráfico de contrataciones\n",
    "fig1 = px.bar(contrataciones_por_trimestre, x='Trimestre', y='Contrataciones',\n",
    "              title='Contrataciones por Trimestre')\n",
    "fig1.show()\n",
    "\n",
    "# Conteo de bajas por trimestre\n",
    "bajas_por_trimestre = data['Trimestre Baja'].value_counts().reset_index()\n",
    "bajas_por_trimestre.columns = ['Trimestre', 'Bajas']\n",
    "\n",
    "# Gráfico de bajas\n",
    "fig2 = px.bar(bajas_por_trimestre, x='Trimestre', y='Bajas',\n",
    "              title='Bajas por Trimestre')\n",
    "fig2.show()"
   ]
  }
 ],
 "metadata": {
  "kernelspec": {
   "display_name": "rapids-23.10",
   "language": "python",
   "name": "python3"
  },
  "language_info": {
   "codemirror_mode": {
    "name": "ipython",
    "version": 3
   },
   "file_extension": ".py",
   "mimetype": "text/x-python",
   "name": "python",
   "nbconvert_exporter": "python",
   "pygments_lexer": "ipython3",
   "version": "3.10.13"
  }
 },
 "nbformat": 4,
 "nbformat_minor": 2
}
