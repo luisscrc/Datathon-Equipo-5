{
  "nbformat": 4,
  "nbformat_minor": 0,
  "metadata": {
    "colab": {
      "provenance": [],
      "authorship_tag": "ABX9TyMEkcnaQTLqjyyV6cZig9vv",
      "include_colab_link": true
    },
    "kernelspec": {
      "name": "python3",
      "display_name": "Python 3"
    },
    "language_info": {
      "name": "python"
    }
  },
  "cells": [
    {
      "cell_type": "markdown",
      "metadata": {
        "id": "view-in-github",
        "colab_type": "text"
      },
      "source": [
        "<a href=\"https://colab.research.google.com/github/luisscrc/Datathon-Equipo-5/blob/main/Proyecto_Datathon_Equipo_5.ipynb\" target=\"_parent\"><img src=\"https://colab.research.google.com/assets/colab-badge.svg\" alt=\"Open In Colab\"/></a>"
      ]
    },
    {
      "cell_type": "code",
      "execution_count": null,
      "metadata": {
        "id": "O6x6byr3Z7_g"
      },
      "outputs": [],
      "source": []
    },
    {
      "cell_type": "code",
      "source": [],
      "metadata": {
        "id": "9r5wbiGEZ9cd"
      },
      "execution_count": null,
      "outputs": []
    },
    {
      "cell_type": "markdown",
      "source": [
        "# Notebook Equipo 5"
      ],
      "metadata": {
        "id": "QhoR_j1iZ9no"
      }
    },
    {
      "cell_type": "markdown",
      "source": [
        "\n",
        "Diccionario\n",
        "Limpieza\n",
        "Visualización\n",
        "Modelo\n",
        "Red Neuronal\n",
        "Api\n",
        "Deploy"
      ],
      "metadata": {
        "id": "y8UAK0rkZ8jD"
      }
    }
  ]
}