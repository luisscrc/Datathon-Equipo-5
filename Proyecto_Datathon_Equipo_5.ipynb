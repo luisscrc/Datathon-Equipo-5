{
  "cells": [
    {
      "cell_type": "markdown",
      "metadata": {
        "colab_type": "text",
        "id": "view-in-github"
      },
      "source": [
        "<a href=\"https://colab.research.google.com/github/luisscrc/Datathon-Equipo-5/blob/main/Proyecto_Datathon_Equipo_5.ipynb\" target=\"_parent\"><img src=\"https://colab.research.google.com/assets/colab-badge.svg\" alt=\"Open In Colab\"/></a>"
      ]
    },
    {
      "cell_type": "code",
      "execution_count": null,
      "metadata": {
        "id": "O6x6byr3Z7_g"
      },
      "outputs": [],
      "source": []
    },
    {
      "cell_type": "code",
      "execution_count": null,
      "metadata": {
        "id": "9r5wbiGEZ9cd"
      },
      "outputs": [],
      "source": []
    },
    {
      "cell_type": "markdown",
      "metadata": {
        "id": "QhoR_j1iZ9no"
      },
      "source": [
        "# Notebook Equipo 5"
      ]
    },
    {
      "cell_type": "markdown",
      "metadata": {
        "id": "y8UAK0rkZ8jD"
      },
      "source": [
        "\n",
        "Diccionario\n",
        "Limpieza\n",
        "Visualización\n",
        "Modelo\n",
        "Red Neuronal\n",
        "Api\n",
        "Deploy"
      ]
    },
    {
      "cell_type": "markdown",
      "metadata": {},
      "source": [
        "Test victor"
      ]
    }
  ],
  "metadata": {
    "colab": {
      "authorship_tag": "ABX9TyMEkcnaQTLqjyyV6cZig9vv",
      "include_colab_link": true,
      "provenance": []
    },
    "kernelspec": {
      "display_name": "Python 3",
      "name": "python3"
    },
    "language_info": {
      "name": "python"
    }
  },
  "nbformat": 4,
  "nbformat_minor": 0
}
