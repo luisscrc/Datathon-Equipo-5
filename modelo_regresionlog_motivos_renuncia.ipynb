{
 "cells": [
  {
   "cell_type": "code",
   "execution_count": 1,
   "metadata": {},
   "outputs": [],
   "source": [
    "# Leer archivo bosch_aic_datathon_limpio.csv\n",
    "import pandas as pd\n",
    "\n",
    "# Leer archivo bosch_aic_datathon_limpio.csv\n",
    "data = pd.read_csv(\"bosch_aic_datathon_limpio.csv\")\n"
   ]
  },
  {
   "cell_type": "code",
   "execution_count": 2,
   "metadata": {},
   "outputs": [
    {
     "name": "stdout",
     "output_type": "stream",
     "text": [
      "                            precision    recall  f1-score   support\n",
      "\n",
      "       CAMBIO DE DOMICILIO       0.00      0.00      0.00        18\n",
      "                  ESTUDIOS       0.00      0.00      0.00        14\n",
      "   INSATISFACCIÓN PERSONAL       0.00      0.00      0.00        19\n",
      " NO REGRESO   NO DIO RAZÓN       0.33      0.72      0.46        43\n",
      "               OTRO EMPLEO       0.31      0.71      0.43        62\n",
      "    PROB PERSONALES Y FAM        0.19      0.10      0.13        39\n",
      "           RAZONES MÉDICAS       0.00      0.00      0.00         6\n",
      " TRA AUSENTISMOS CONTINUOS       0.00      0.00      0.00        14\n",
      "            TRA JUBILACIÓN       0.78      1.00      0.88         7\n",
      "  TRA LFT Y REGLAMENTO INT       0.00      0.00      0.00         2\n",
      " TRA LFT Y REGLAMENTO INT        0.00      0.00      0.00         2\n",
      "TRANSFERENCIA ENTRE PLANTA       0.50      0.09      0.15        47\n",
      "\n",
      "                  accuracy                           0.33       273\n",
      "                 macro avg       0.18      0.22      0.17       273\n",
      "              weighted avg       0.26      0.33      0.24       273\n",
      "\n"
     ]
    },
    {
     "name": "stderr",
     "output_type": "stream",
     "text": [
      "/home/codedspirit/anaconda3/envs/rapids-23.10/lib/python3.10/site-packages/sklearn/metrics/_classification.py:1471: UndefinedMetricWarning: Precision and F-score are ill-defined and being set to 0.0 in labels with no predicted samples. Use `zero_division` parameter to control this behavior.\n",
      "  _warn_prf(average, modifier, msg_start, len(result))\n",
      "/home/codedspirit/anaconda3/envs/rapids-23.10/lib/python3.10/site-packages/sklearn/metrics/_classification.py:1471: UndefinedMetricWarning: Precision and F-score are ill-defined and being set to 0.0 in labels with no predicted samples. Use `zero_division` parameter to control this behavior.\n",
      "  _warn_prf(average, modifier, msg_start, len(result))\n",
      "/home/codedspirit/anaconda3/envs/rapids-23.10/lib/python3.10/site-packages/sklearn/metrics/_classification.py:1471: UndefinedMetricWarning: Precision and F-score are ill-defined and being set to 0.0 in labels with no predicted samples. Use `zero_division` parameter to control this behavior.\n",
      "  _warn_prf(average, modifier, msg_start, len(result))\n"
     ]
    }
   ],
   "source": [
    "import numpy as np\n",
    "from sklearn.model_selection import train_test_split\n",
    "from sklearn.preprocessing import LabelEncoder, StandardScaler, OneHotEncoder\n",
    "from sklearn.linear_model import LogisticRegression\n",
    "from sklearn.metrics import classification_report\n",
    "from sklearn.pipeline import make_pipeline\n",
    "from sklearn.compose import ColumnTransformer\n",
    "\n",
    "# Preparando los datos\n",
    "X = data.drop(['MOTIVO DE LA RENUNCIA'], axis=1)\n",
    "y = data['MOTIVO DE LA RENUNCIA']\n",
    "\n",
    "# Seleccionar solo columnas numéricas y categóricas\n",
    "X = X.select_dtypes(include=['int64', 'float64', 'category'])\n",
    "\n",
    "# Rellenar valores faltantes con la mediana para columnas numéricas solo si son numéricas\n",
    "for column in X.select_dtypes(include=['int64', 'float64']).columns:\n",
    "    X[column] = X[column].fillna(X[column].median())\n",
    "\n",
    "# Codificar la variable objetivo\n",
    "le = LabelEncoder()\n",
    "y_encoded = le.fit_transform(y)\n",
    "\n",
    "# Identificar y eliminar clases con pocos ejemplos\n",
    "class_counts = np.bincount(y_encoded)\n",
    "classes_to_keep = np.where(class_counts > 10)[0]\n",
    "mask = np.isin(y_encoded, classes_to_keep)\n",
    "X_filtered = X[mask]\n",
    "y_filtered = y_encoded[mask]\n",
    "\n",
    "# Dividir los datos en conjuntos de entrenamiento y prueba\n",
    "X_train, X_test, y_train, y_test = train_test_split(X_filtered, y_filtered, test_size=0.2, stratify=y_filtered)\n",
    "\n",
    "# Crear un pipeline para transformar los datos\n",
    "numeric_transformer = StandardScaler()\n",
    "categorical_transformer = OneHotEncoder(handle_unknown='ignore')\n",
    "preprocessor = ColumnTransformer(\n",
    "    transformers=[\n",
    "        ('num', numeric_transformer, X_train.select_dtypes(include=['int64', 'float64']).columns),\n",
    "        ('cat', categorical_transformer, X_train.select_dtypes(include=['category']).columns)\n",
    "    ]\n",
    ")\n",
    "\n",
    "# Crear un modelo de regresión logística multiclase\n",
    "clf = LogisticRegression(multi_class='multinomial', solver='lbfgs', max_iter=1000)\n",
    "\n",
    "# Crear un pipeline que primero transforme los datos y luego entrene el modelo\n",
    "model = make_pipeline(preprocessor, clf)\n",
    "\n",
    "# Entrenar el modelo\n",
    "model.fit(X_train, y_train)\n",
    "\n",
    "# Predecir los valores de la variable objetivo para los datos de prueba\n",
    "y_pred = model.predict(X_test)\n",
    "\n",
    "# Mostrar el reporte de clasificación\n",
    "print(classification_report(y_test, y_pred, target_names=le.classes_[classes_to_keep]))"
   ]
  }
 ],
 "metadata": {
  "kernelspec": {
   "display_name": "rapids-23.10",
   "language": "python",
   "name": "python3"
  },
  "language_info": {
   "codemirror_mode": {
    "name": "ipython",
    "version": 3
   },
   "file_extension": ".py",
   "mimetype": "text/x-python",
   "name": "python",
   "nbconvert_exporter": "python",
   "pygments_lexer": "ipython3",
   "version": "3.10.13"
  }
 },
 "nbformat": 4,
 "nbformat_minor": 2
}
