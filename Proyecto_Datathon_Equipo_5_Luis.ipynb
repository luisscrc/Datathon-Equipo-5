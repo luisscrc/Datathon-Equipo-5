{
 "cells": [
  {
   "cell_type": "markdown",
   "metadata": {},
   "source": [
    "----\n",
    "**Carga de librerías**"
   ]
  },
  {
   "cell_type": "code",
   "execution_count": 1,
   "metadata": {},
   "outputs": [],
   "source": [
    "import time\n",
    "start_time = time.time()"
   ]
  },
  {
   "cell_type": "code",
   "execution_count": 2,
   "metadata": {},
   "outputs": [],
   "source": [
    "import numpy as np\n",
    "\n",
    "import matplotlib.pyplot as plt\n",
    "import sklearn\n",
    "%load_ext cudf.pandas\n",
    "# pandas API is now GPU accelerated\n",
    "\n",
    "import pandas as pd"
   ]
  },
  {
   "cell_type": "code",
   "execution_count": 3,
   "metadata": {},
   "outputs": [
    {
     "name": "stdout",
     "output_type": "stream",
     "text": [
      "Requirement already satisfied: openpyxl in /home/codedspirit/anaconda3/envs/rapids-23.10/lib/python3.10/site-packages (3.1.2)\n",
      "Requirement already satisfied: et-xmlfile in /home/codedspirit/anaconda3/envs/rapids-23.10/lib/python3.10/site-packages (from openpyxl) (1.1.0)\n"
     ]
    }
   ],
   "source": [
    "#Cargamos los datos\n",
    "! pip install openpyxl\n",
    "data = pd.read_excel('data/bosch_aic_datathon.xlsx')"
   ]
  },
  {
   "cell_type": "code",
   "execution_count": 4,
   "metadata": {},
   "outputs": [
    {
     "data": {
      "text/plain": [
       "pandas.core.frame.DataFrame"
      ]
     },
     "execution_count": 4,
     "metadata": {},
     "output_type": "execute_result"
    }
   ],
   "source": [
    "# Exploramos los tipos de datos\n",
    "type(data)"
   ]
  },
  {
   "cell_type": "code",
   "execution_count": 5,
   "metadata": {},
   "outputs": [],
   "source": [
    "#hacemos una copia de los datos\n",
    "data_sucia=data"
   ]
  },
  {
   "cell_type": "code",
   "execution_count": 6,
   "metadata": {},
   "outputs": [
    {
     "data": {
      "text/html": [
       "<div>\n",
       "<style scoped>\n",
       "    .dataframe tbody tr th:only-of-type {\n",
       "        vertical-align: middle;\n",
       "    }\n",
       "\n",
       "    .dataframe tbody tr th {\n",
       "        vertical-align: top;\n",
       "    }\n",
       "\n",
       "    .dataframe thead th {\n",
       "        text-align: right;\n",
       "    }\n",
       "</style>\n",
       "<table border=\"1\" class=\"dataframe\">\n",
       "  <thead>\n",
       "    <tr style=\"text-align: right;\">\n",
       "      <th></th>\n",
       "      <th>Posición</th>\n",
       "      <th>Area</th>\n",
       "      <th>Á.liq.</th>\n",
       "      <th>Grupo de personal</th>\n",
       "      <th>CODIGO POSTAL</th>\n",
       "      <th>Motivo de la RENUNCIA</th>\n",
       "      <th>Banda</th>\n",
       "      <th>Baja</th>\n",
       "      <th>ReglaPHT</th>\n",
       "      <th>Alta</th>\n",
       "      <th>Años</th>\n",
       "      <th>Meses</th>\n",
       "      <th>Antigüedad</th>\n",
       "      <th>Clave de sexo</th>\n",
       "      <th>Lugar de nacimiento</th>\n",
       "      <th>Nacionalidad</th>\n",
       "      <th>Edad del empleado</th>\n",
       "      <th>¿Cuanto tiempo tiene viviendo en Cd. Juarez?</th>\n",
       "      <th>Estado Civil</th>\n",
       "      <th>Hijos</th>\n",
       "    </tr>\n",
       "  </thead>\n",
       "  <tbody>\n",
       "    <tr>\n",
       "      <th>0</th>\n",
       "      <td>POS514</td>\n",
       "      <td>LOG</td>\n",
       "      <td>S6</td>\n",
       "      <td>Exempt</td>\n",
       "      <td>32520</td>\n",
       "      <td>Vol-Otro empleo</td>\n",
       "      <td>E3</td>\n",
       "      <td>2023-01-02</td>\n",
       "      <td>ADMINIST</td>\n",
       "      <td>2018-06-21</td>\n",
       "      <td>5</td>\n",
       "      <td>55.200000</td>\n",
       "      <td>1656</td>\n",
       "      <td>Femenino</td>\n",
       "      <td>JUAREZ</td>\n",
       "      <td>Mexican</td>\n",
       "      <td>31</td>\n",
       "      <td>None</td>\n",
       "      <td>solter</td>\n",
       "      <td>0</td>\n",
       "    </tr>\n",
       "    <tr>\n",
       "      <th>1</th>\n",
       "      <td>POS1745</td>\n",
       "      <td>MFS</td>\n",
       "      <td>S5</td>\n",
       "      <td>Direct</td>\n",
       "      <td>32217</td>\n",
       "      <td>Vol-Otro empleo</td>\n",
       "      <td>DNO</td>\n",
       "      <td>2023-01-03</td>\n",
       "      <td>ADMINIST</td>\n",
       "      <td>2017-07-20</td>\n",
       "      <td>6</td>\n",
       "      <td>66.433333</td>\n",
       "      <td>1993</td>\n",
       "      <td>Masculino</td>\n",
       "      <td>DURANGO</td>\n",
       "      <td>Mexican</td>\n",
       "      <td>25</td>\n",
       "      <td>10+ Years</td>\n",
       "      <td>solter</td>\n",
       "      <td>0</td>\n",
       "    </tr>\n",
       "    <tr>\n",
       "      <th>2</th>\n",
       "      <td>POS1230</td>\n",
       "      <td>VS7</td>\n",
       "      <td>S5</td>\n",
       "      <td>Direct</td>\n",
       "      <td>32600</td>\n",
       "      <td>Vol-Otro empleo</td>\n",
       "      <td>DNO</td>\n",
       "      <td>2023-01-03</td>\n",
       "      <td>JT012324</td>\n",
       "      <td>2019-08-29</td>\n",
       "      <td>4</td>\n",
       "      <td>40.766667</td>\n",
       "      <td>1223</td>\n",
       "      <td>Masculino</td>\n",
       "      <td>JUAREZ</td>\n",
       "      <td>Mexican</td>\n",
       "      <td>23</td>\n",
       "      <td>10+ Years</td>\n",
       "      <td>solter</td>\n",
       "      <td>0</td>\n",
       "    </tr>\n",
       "    <tr>\n",
       "      <th>3</th>\n",
       "      <td>POS1661</td>\n",
       "      <td>MFS</td>\n",
       "      <td>S5</td>\n",
       "      <td>Direct</td>\n",
       "      <td>32575</td>\n",
       "      <td>Vol-Estudios</td>\n",
       "      <td>DO</td>\n",
       "      <td>2023-01-03</td>\n",
       "      <td>JT012324</td>\n",
       "      <td>2022-11-03</td>\n",
       "      <td>1</td>\n",
       "      <td>2.033333</td>\n",
       "      <td>61</td>\n",
       "      <td>Femenino</td>\n",
       "      <td>CIUDAD JUAREZ</td>\n",
       "      <td>Mexican</td>\n",
       "      <td>18</td>\n",
       "      <td>10+ Years</td>\n",
       "      <td>solter</td>\n",
       "      <td>0</td>\n",
       "    </tr>\n",
       "    <tr>\n",
       "      <th>4</th>\n",
       "      <td>POS1921</td>\n",
       "      <td>MFS</td>\n",
       "      <td>S5</td>\n",
       "      <td>Direct</td>\n",
       "      <td>32575</td>\n",
       "      <td>Vol-Cambio de domicilio</td>\n",
       "      <td>DO</td>\n",
       "      <td>2023-01-03</td>\n",
       "      <td>JT012324</td>\n",
       "      <td>2017-03-02</td>\n",
       "      <td>6</td>\n",
       "      <td>71.100000</td>\n",
       "      <td>2133</td>\n",
       "      <td>Masculino</td>\n",
       "      <td>JUAREZ</td>\n",
       "      <td>Mexican</td>\n",
       "      <td>26</td>\n",
       "      <td>10+ Years</td>\n",
       "      <td>solter</td>\n",
       "      <td>0</td>\n",
       "    </tr>\n",
       "  </tbody>\n",
       "</table>\n",
       "</div>"
      ],
      "text/plain": [
       "  Posición Area Á.liq. Grupo de personal  CODIGO POSTAL  \\\n",
       "0   POS514  LOG     S6            Exempt          32520   \n",
       "1  POS1745  MFS     S5            Direct          32217   \n",
       "2  POS1230  VS7     S5            Direct          32600   \n",
       "3  POS1661  MFS     S5            Direct          32575   \n",
       "4  POS1921  MFS     S5            Direct          32575   \n",
       "\n",
       "     Motivo de la RENUNCIA Banda       Baja  ReglaPHT       Alta  Años  \\\n",
       "0          Vol-Otro empleo    E3 2023-01-02  ADMINIST 2018-06-21     5   \n",
       "1          Vol-Otro empleo   DNO 2023-01-03  ADMINIST 2017-07-20     6   \n",
       "2          Vol-Otro empleo   DNO 2023-01-03  JT012324 2019-08-29     4   \n",
       "3             Vol-Estudios    DO 2023-01-03  JT012324 2022-11-03     1   \n",
       "4  Vol-Cambio de domicilio    DO 2023-01-03  JT012324 2017-03-02     6   \n",
       "\n",
       "       Meses  Antigüedad Clave de sexo Lugar de nacimiento Nacionalidad  \\\n",
       "0  55.200000        1656      Femenino              JUAREZ      Mexican   \n",
       "1  66.433333        1993     Masculino             DURANGO      Mexican   \n",
       "2  40.766667        1223     Masculino              JUAREZ      Mexican   \n",
       "3   2.033333          61      Femenino       CIUDAD JUAREZ      Mexican   \n",
       "4  71.100000        2133     Masculino              JUAREZ      Mexican   \n",
       "\n",
       "   Edad del empleado ¿Cuanto tiempo tiene viviendo en Cd. Juarez?  \\\n",
       "0                 31                                         <NA>   \n",
       "1                 25                                    10+ Years   \n",
       "2                 23                                    10+ Years   \n",
       "3                 18                                    10+ Years   \n",
       "4                 26                                    10+ Years   \n",
       "\n",
       "  Estado Civil  Hijos  \n",
       "0       solter      0  \n",
       "1       solter      0  \n",
       "2       solter      0  \n",
       "3       solter      0  \n",
       "4       solter      0  "
      ]
     },
     "execution_count": 6,
     "metadata": {},
     "output_type": "execute_result"
    }
   ],
   "source": [
    "#Previsualizamos los datos\n",
    "data_sucia.head()"
   ]
  },
  {
   "cell_type": "code",
   "execution_count": 7,
   "metadata": {},
   "outputs": [
    {
     "data": {
      "text/plain": [
       "(1403, 20)"
      ]
     },
     "execution_count": 7,
     "metadata": {},
     "output_type": "execute_result"
    }
   ],
   "source": [
    "data_sucia.shape"
   ]
  },
  {
   "cell_type": "code",
   "execution_count": 8,
   "metadata": {},
   "outputs": [
    {
     "name": "stdout",
     "output_type": "stream",
     "text": [
      "<class 'pandas.core.frame.DataFrame'>\n",
      "RangeIndex: 1403 entries, 0 to 1402\n",
      "Data columns (total 20 columns):\n",
      " #   Column                                        Non-Null Count  Dtype         \n",
      "---  ------                                        --------------  -----         \n",
      " 0   Posición                                      1403 non-null   object        \n",
      " 1   Area                                          1403 non-null   object        \n",
      " 2   Á.liq.                                        1403 non-null   object        \n",
      " 3   Grupo de personal                             1403 non-null   object        \n",
      " 4   CODIGO POSTAL                                 1403 non-null   int64         \n",
      " 5   Motivo de la RENUNCIA                         1403 non-null   object        \n",
      " 6   Banda                                         1402 non-null   object        \n",
      " 7   Baja                                          1403 non-null   datetime64[ns]\n",
      " 8   ReglaPHT                                      1403 non-null   object        \n",
      " 9   Alta                                          1403 non-null   datetime64[ns]\n",
      " 10  Años                                          1403 non-null   int64         \n",
      " 11  Meses                                         1403 non-null   float64       \n",
      " 12  Antigüedad                                    1403 non-null   int64         \n",
      " 13  Clave de sexo                                 1403 non-null   object        \n",
      " 14  Lugar de nacimiento                           1401 non-null   object        \n",
      " 15  Nacionalidad                                  1403 non-null   object        \n",
      " 16  Edad del empleado                             1403 non-null   int64         \n",
      " 17  ¿Cuanto tiempo tiene viviendo en Cd. Juarez?  617 non-null    object        \n",
      " 18  Estado Civil                                  1393 non-null   object        \n",
      " 19  Hijos                                         1403 non-null   int64         \n",
      "dtypes: datetime64[ns](2), float64(1), int64(5), object(12)\n",
      "memory usage: 219.3+ KB\n"
     ]
    }
   ],
   "source": [
    "data_sucia.info()\n",
    "#Podemos ver que la mayoría de los datos son objetos \n",
    "#hay unos que son enteros, por lo que unos si será necesario cambiarlos \n",
    "#La columna de alta y baja son fechas de tiempo ese si corresponde"
   ]
  },
  {
   "cell_type": "code",
   "execution_count": 9,
   "metadata": {},
   "outputs": [
    {
     "data": {
      "text/html": [
       "<div>\n",
       "<style scoped>\n",
       "    .dataframe tbody tr th:only-of-type {\n",
       "        vertical-align: middle;\n",
       "    }\n",
       "\n",
       "    .dataframe tbody tr th {\n",
       "        vertical-align: top;\n",
       "    }\n",
       "\n",
       "    .dataframe thead th {\n",
       "        text-align: right;\n",
       "    }\n",
       "</style>\n",
       "<table border=\"1\" class=\"dataframe\">\n",
       "  <thead>\n",
       "    <tr style=\"text-align: right;\">\n",
       "      <th></th>\n",
       "      <th>CODIGO POSTAL</th>\n",
       "      <th>Años</th>\n",
       "      <th>Meses</th>\n",
       "      <th>Antigüedad</th>\n",
       "      <th>Edad del empleado</th>\n",
       "      <th>Hijos</th>\n",
       "    </tr>\n",
       "  </thead>\n",
       "  <tbody>\n",
       "    <tr>\n",
       "      <th>count</th>\n",
       "      <td>1403.000000</td>\n",
       "      <td>1403.000000</td>\n",
       "      <td>1403.000000</td>\n",
       "      <td>1403.000000</td>\n",
       "      <td>1403.000000</td>\n",
       "      <td>1403.000000</td>\n",
       "    </tr>\n",
       "    <tr>\n",
       "      <th>mean</th>\n",
       "      <td>32550.890948</td>\n",
       "      <td>4.192445</td>\n",
       "      <td>48.848373</td>\n",
       "      <td>1465.451176</td>\n",
       "      <td>30.941554</td>\n",
       "      <td>1.132573</td>\n",
       "    </tr>\n",
       "    <tr>\n",
       "      <th>std</th>\n",
       "      <td>1740.667827</td>\n",
       "      <td>4.650099</td>\n",
       "      <td>54.076010</td>\n",
       "      <td>1622.280304</td>\n",
       "      <td>9.734537</td>\n",
       "      <td>1.302182</td>\n",
       "    </tr>\n",
       "    <tr>\n",
       "      <th>min</th>\n",
       "      <td>3259.000000</td>\n",
       "      <td>0.000000</td>\n",
       "      <td>0.166667</td>\n",
       "      <td>5.000000</td>\n",
       "      <td>18.000000</td>\n",
       "      <td>0.000000</td>\n",
       "    </tr>\n",
       "    <tr>\n",
       "      <th>25%</th>\n",
       "      <td>32575.000000</td>\n",
       "      <td>1.000000</td>\n",
       "      <td>5.766667</td>\n",
       "      <td>173.000000</td>\n",
       "      <td>24.000000</td>\n",
       "      <td>0.000000</td>\n",
       "    </tr>\n",
       "    <tr>\n",
       "      <th>50%</th>\n",
       "      <td>32575.000000</td>\n",
       "      <td>3.000000</td>\n",
       "      <td>32.600000</td>\n",
       "      <td>978.000000</td>\n",
       "      <td>28.000000</td>\n",
       "      <td>1.000000</td>\n",
       "    </tr>\n",
       "    <tr>\n",
       "      <th>75%</th>\n",
       "      <td>32599.000000</td>\n",
       "      <td>6.000000</td>\n",
       "      <td>71.100000</td>\n",
       "      <td>2133.000000</td>\n",
       "      <td>36.000000</td>\n",
       "      <td>2.000000</td>\n",
       "    </tr>\n",
       "    <tr>\n",
       "      <th>max</th>\n",
       "      <td>75116.000000</td>\n",
       "      <td>29.000000</td>\n",
       "      <td>351.733333</td>\n",
       "      <td>10552.000000</td>\n",
       "      <td>67.000000</td>\n",
       "      <td>6.000000</td>\n",
       "    </tr>\n",
       "  </tbody>\n",
       "</table>\n",
       "</div>"
      ],
      "text/plain": [
       "       CODIGO POSTAL         Años        Meses    Antigüedad  \\\n",
       "count    1403.000000  1403.000000  1403.000000   1403.000000   \n",
       "mean    32550.890948     4.192445    48.848373   1465.451176   \n",
       "std      1740.667827     4.650099    54.076010   1622.280304   \n",
       "min      3259.000000     0.000000     0.166667      5.000000   \n",
       "25%     32575.000000     1.000000     5.766667    173.000000   \n",
       "50%     32575.000000     3.000000    32.600000    978.000000   \n",
       "75%     32599.000000     6.000000    71.100000   2133.000000   \n",
       "max     75116.000000    29.000000   351.733333  10552.000000   \n",
       "\n",
       "       Edad del empleado        Hijos  \n",
       "count        1403.000000  1403.000000  \n",
       "mean           30.941554     1.132573  \n",
       "std             9.734537     1.302182  \n",
       "min            18.000000     0.000000  \n",
       "25%            24.000000     0.000000  \n",
       "50%            28.000000     1.000000  \n",
       "75%            36.000000     2.000000  \n",
       "max            67.000000     6.000000  "
      ]
     },
     "execution_count": 9,
     "metadata": {},
     "output_type": "execute_result"
    }
   ],
   "source": [
    "data_sucia.describe()"
   ]
  },
  {
   "cell_type": "code",
   "execution_count": 10,
   "metadata": {},
   "outputs": [
    {
     "data": {
      "text/plain": [
       "StringIndex(['Posición' 'Area' 'Á.liq.' 'Grupo de personal' 'CODIGO POSTAL'\n",
       " 'Motivo de la RENUNCIA' 'Banda' 'Baja' 'ReglaPHT' 'Alta' 'Años' 'Meses'\n",
       " 'Antigüedad' 'Clave de sexo' 'Lugar de nacimiento' 'Nacionalidad'\n",
       " 'Edad del empleado' '¿Cuanto tiempo tiene viviendo en Cd. Juarez?'\n",
       " 'Estado Civil' 'Hijos'], dtype='object')"
      ]
     },
     "execution_count": 10,
     "metadata": {},
     "output_type": "execute_result"
    }
   ],
   "source": [
    "data_sucia.columns"
   ]
  },
  {
   "cell_type": "code",
   "execution_count": 11,
   "metadata": {},
   "outputs": [
    {
     "name": "stdout",
     "output_type": "stream",
     "text": [
      "Posición 0\n",
      "Area 0\n",
      "Á.liq. 0\n",
      "Grupo de personal 0\n",
      "CODIGO POSTAL 0\n",
      "Motivo de la RENUNCIA 0\n",
      "Banda 1\n",
      "Baja 0\n",
      "ReglaPHT 0\n",
      "Alta 0\n",
      "Años 0\n",
      "Meses 0\n",
      "Antigüedad 0\n",
      "Clave de sexo 0\n"
     ]
    },
    {
     "name": "stdout",
     "output_type": "stream",
     "text": [
      "Lugar de nacimiento 2\n",
      "Nacionalidad 0\n",
      "Edad del empleado 0\n",
      "¿Cuanto tiempo tiene viviendo en Cd. Juarez? 786\n",
      "Estado Civil 10\n",
      "Hijos 0\n"
     ]
    }
   ],
   "source": [
    "columns = [\n",
    "    'Posición', 'Area', 'Á.liq.', 'Grupo de personal', 'CODIGO POSTAL',\n",
    "    'Motivo de la RENUNCIA', 'Banda', 'Baja', 'ReglaPHT', 'Alta',\n",
    "    'Años', 'Meses', 'Antigüedad', 'Clave de sexo', 'Lugar de nacimiento',\n",
    "    'Nacionalidad', 'Edad del empleado', '¿Cuanto tiempo tiene viviendo en Cd. Juarez?',\n",
    "    'Estado Civil', 'Hijos'\n",
    "]\n",
    "\n",
    "for column in columns:\n",
    "    print(column, data_sucia[column].isna().sum())\n",
    "\n",
    "# Dejando de lado la columna de vivir en juarez, tenemos un total de 13 NA's\n",
    "# Podemos eliminar las filas de la columna de BANDA y la de LUGAR DE NACIMIENTO\n",
    "# La columna de ESTADO CIVIL la podemos cambiar a soltero\n",
    "# En cambio, la columna de juarez podemos cambiar todos esos NA's por \"no he vivido en CD.JUAREZ\""
   ]
  },
  {
   "cell_type": "markdown",
   "metadata": {},
   "source": [
    "# One-hot para Clave de sexo"
   ]
  },
  {
   "cell_type": "code",
   "execution_count": 12,
   "metadata": {},
   "outputs": [],
   "source": [
    "#Usamos One-hot para cambiar la columna del sexo\n",
    "data_sucia = pd.get_dummies(data_sucia,columns=['Clave de sexo'],dtype=int)"
   ]
  },
  {
   "cell_type": "markdown",
   "metadata": {},
   "source": [
    "# Agrupación para la columna de cuanto tiempo viviendo en Cd. Juarez"
   ]
  },
  {
   "cell_type": "code",
   "execution_count": 13,
   "metadata": {},
   "outputs": [],
   "source": [
    "#Esta tecnica tambien se puede usar para la columna de cuantos años has vivido en juarez, pero primero\n",
    "#hay que cambiar los NA's por 0, porque si es NA's es porque no ha vivido en Juarez\n",
    "#Primero cambiamos los NA's por 0\n",
    "data_sucia['¿Cuanto tiempo tiene viviendo en Cd. Juarez?'].fillna('Never', inplace=True)\n",
    "data_sucia['¿Cuanto tiempo tiene viviendo en Cd. Juarez?'].unique()\n",
    "\n",
    "#Para poder limpiar lo de los años voy a agruparlos en una cantidad fija, ya que hay valores como 2 y esa clase de valores\n",
    "#puede ir contenidos en 1-3, esto se ve en la celda anterior\n",
    "def categorize_years(value):\n",
    "    if value in ['91-180 Days', '61-90 Days']:\n",
    "        return '1 - Years'\n",
    "    elif value in ['1-2 Years', '2-3 Years','1-2 Years ']:\n",
    "        return '1 - 3 Years'\n",
    "    elif value in ['3-4 Years', '4-5 Years',4,5]:\n",
    "        return '3 - 5 Years'\n",
    "    elif value in ['5-6 Years', '6-7 Years', '6 Years',7]:\n",
    "        return '5 - 7 Years'\n",
    "    elif value in ['7-8 Years', '8-9 Years', '9-10 Years', '10 years', '10+ Years',10]:\n",
    "        return '7 - 10 Years'\n",
    "    elif value in ['26 years','25 years',21,19,16,25]:\n",
    "        return '10 + Years'\n",
    "    else: \n",
    "        return value\n",
    "\n",
    "data_sucia['¿Cuanto tiempo tiene viviendo en Cd. Juarez?'] = data_sucia['¿Cuanto tiempo tiene viviendo en Cd. Juarez?'].apply(categorize_years)\n",
    "\n"
   ]
  },
  {
   "cell_type": "markdown",
   "metadata": {},
   "source": [
    "# Quitams los '-' y '/' de Motivo de la RENUNCIA"
   ]
  },
  {
   "cell_type": "code",
   "execution_count": 14,
   "metadata": {},
   "outputs": [
    {
     "data": {
      "text/plain": [
       "0                       Vol Otro empleo\n",
       "1                       Vol Otro empleo\n",
       "2                       Vol Otro empleo\n",
       "3                          Vol Estudios\n",
       "4               Vol Cambio de domicilio\n",
       "                     ...               \n",
       "1398     Vol Transferencia entre planta\n",
       "1399            Vol Cambio de domicilio\n",
       "1400      Vol No regreso   no dio razón\n",
       "1401      Imp.Tra Ausentismos continuos\n",
       "1402    Imp.Tra LFT y o Reglamento Int.\n",
       "Name: Motivo de la RENUNCIA, Length: 1403, dtype: object"
      ]
     },
     "execution_count": 14,
     "metadata": {},
     "output_type": "execute_result"
    }
   ],
   "source": [
    "data_sucia['Motivo de la RENUNCIA'].replace(to_replace='[-/]', value=' ', regex=True)"
   ]
  },
  {
   "cell_type": "markdown",
   "metadata": {},
   "source": [
    "# Limpieza de Columna de Estado Civil"
   ]
  },
  {
   "cell_type": "code",
   "execution_count": 15,
   "metadata": {},
   "outputs": [],
   "source": [
    "#Ahora tenemos que cambiar el los NA's de estado civil por soltero, esto no se si sea lo correcto, pero\n",
    "#a lo mejor le da pena decir que es soltero no se \n",
    "data_sucia['Estado Civil'].fillna('solter', inplace=True)\n",
    "data_sucia['Estado Civil'].unique()\n",
    "\n",
    "\n",
    "def categorize_civil(value):\n",
    "    if value in ['solter','Solter','viud.']:\n",
    "        return 'Solter'\n",
    "    elif value in ['casad.','Casad.','Concu.','U.Libr']:\n",
    "        return 'Casad'\n",
    "    elif value in ['Divorc','Sep.','divorc']:\n",
    "        return 'Separ'\n",
    "    else:\n",
    "        return value\n",
    "\n",
    "data_sucia['Estado Civil'] = data_sucia['Estado Civil'].apply(categorize_civil)"
   ]
  },
  {
   "cell_type": "markdown",
   "metadata": {},
   "source": [
    "# Limpieza de la columna de Lugar de Nacimiento"
   ]
  },
  {
   "cell_type": "code",
   "execution_count": 48,
   "metadata": {},
   "outputs": [
    {
     "data": {
      "text/plain": [
       "102        JUAREZ\n",
       "1200       JUAREZ\n",
       "531        JUAREZ\n",
       "870      Veracruz\n",
       "1047       JUAREZ\n",
       "501     CHIHUAHUA\n",
       "1267      Durango\n",
       "387     Chihuahua\n",
       "426        JUAREZ\n",
       "1216       VIESCA\n",
       "Name: Lugar de nacimiento, dtype: object"
      ]
     },
     "execution_count": 48,
     "metadata": {},
     "output_type": "execute_result"
    }
   ],
   "source": [
    "# Limpia los datos de la columna Lugar de nacimiento a el nombre del estado de nacimiento. \n",
    "# Limpia los datos de la columna Lugar de nacimiento a el nombre del estado de nacimiento. \n",
    "# Diccionario de reemplazos\n",
    "reemplazos = {\n",
    "    'Chihuahua': ['AZTECA CIUDAD JUAREZ', 'CAMARGO', 'CD JUAREZ', 'CD JUAREZ CHIH', 'CD. JUAREZ'],\n",
    "    'Durango': ['CD. GOMEZ PALACIO', 'GENERAL SIMON BOLIVAR', 'GOMEZ PALACIO', 'LERDO', 'DURANGO', 'PEÑON BLANCO', 'POBLADO EL LUCERO', 'SAN DIMAS', 'TLAHUALILO DE ZARAGOZA'],\n",
    "    'Aguascalientes': ['AGUASCALIENTES'],\n",
    "    'Sinaloa': ['AHOME', 'CULIACAN'],\n",
    "    'Veracruz': ['ANGEL R CABADA', 'COATZACOALCOS', 'CORDOBA', 'CORDOVA', 'COSAMALOAPAN', 'LAS MERCEDES', 'MARTINEZ DE LA TORRE', 'MINATITLAN', 'MOLOACAN', 'RAYA CARACOL', 'SAN ANDRES TUXTLA', 'TRES VALLES', 'VERACRUZ'],\n",
    "    # Agrega el resto de tus reemplazos aquí\n",
    "}\n",
    "\n",
    "# Invertir el diccionario para mapear cada ciudad a su estado correspondiente\n",
    "reemplazos_invertidos = {ciudad: estado for estado, ciudades in reemplazos.items() for ciudad in ciudades}\n",
    "\n",
    "# Realizar los reemplazos\n",
    "data_sucia['Lugar de nacimiento'] = data_sucia['Lugar de nacimiento'].replace(reemplazos_invertidos)\n",
    "\n",
    "# Ver resultados de los reemplazos usando aleatoriedad\n",
    "data_sucia['Lugar de nacimiento'].sample(10)"
   ]
  },
  {
   "cell_type": "code",
   "execution_count": 17,
   "metadata": {},
   "outputs": [],
   "source": [
    "# Diccionario para la nueva celda de reemplazos\n",
    "reemplazos_nueva_celda = {\n",
    "    'PUEBLA': ['GUADALUPE ANALCO', 'PUEBLA'],\n",
    "    'OAXACA': ['IXHUATAN', 'OAXACA', 'PASO DEL JOBO', 'SAN FRANCISCO DEL MAR', 'SAN JUAN BAUTISTA TUXTEPE', 'SAN LUCAS OJITLAN', 'TUXTEPEC'],\n",
    "    'TAMAULIPAS': ['MATAMOROS']\n",
    "}\n",
    "\n",
    "# Invertir el diccionario para mapear cada ciudad a su estado correspondiente\n",
    "reemplazos_invertidos_nueva_celda = {ciudad: estado for estado, ciudades in reemplazos_nueva_celda.items() for ciudad in ciudades}\n",
    "\n",
    "# Realizar los reemplazos\n",
    "data_sucia['Lugar de nacimiento'] = data_sucia['Lugar de nacimiento'].replace(reemplazos_invertidos_nueva_celda)\n"
   ]
  },
  {
   "cell_type": "markdown",
   "metadata": {},
   "source": [
    "# Ahora que ya tenemos la limpieza lista podemos eliminar todos los valores donde hay NA"
   ]
  },
  {
   "cell_type": "code",
   "execution_count": 18,
   "metadata": {},
   "outputs": [],
   "source": [
    "data_sucia = data_sucia.dropna()"
   ]
  },
  {
   "cell_type": "markdown",
   "metadata": {},
   "source": [
    "# Comparaciones del tamaño de los dataset"
   ]
  },
  {
   "cell_type": "code",
   "execution_count": 56,
   "metadata": {},
   "outputs": [
    {
     "data": {
      "text/html": [
       "<div>\n",
       "<style scoped>\n",
       "    .dataframe tbody tr th:only-of-type {\n",
       "        vertical-align: middle;\n",
       "    }\n",
       "\n",
       "    .dataframe tbody tr th {\n",
       "        vertical-align: top;\n",
       "    }\n",
       "\n",
       "    .dataframe thead th {\n",
       "        text-align: right;\n",
       "    }\n",
       "</style>\n",
       "<table border=\"1\" class=\"dataframe\">\n",
       "  <thead>\n",
       "    <tr style=\"text-align: right;\">\n",
       "      <th></th>\n",
       "      <th>Posición</th>\n",
       "      <th>Area</th>\n",
       "      <th>Á.liq.</th>\n",
       "      <th>Grupo de personal</th>\n",
       "      <th>CODIGO POSTAL</th>\n",
       "      <th>Motivo de la RENUNCIA</th>\n",
       "      <th>Banda</th>\n",
       "      <th>Baja</th>\n",
       "      <th>ReglaPHT</th>\n",
       "      <th>Alta</th>\n",
       "      <th>...</th>\n",
       "      <th>Meses</th>\n",
       "      <th>Antigüedad</th>\n",
       "      <th>Lugar de nacimiento</th>\n",
       "      <th>Nacionalidad</th>\n",
       "      <th>Edad del empleado</th>\n",
       "      <th>¿Cuanto tiempo tiene viviendo en Cd. Juarez?</th>\n",
       "      <th>Estado Civil</th>\n",
       "      <th>Hijos</th>\n",
       "      <th>Clave de sexo_Femenino</th>\n",
       "      <th>Clave de sexo_Masculino</th>\n",
       "    </tr>\n",
       "  </thead>\n",
       "  <tbody>\n",
       "    <tr>\n",
       "      <th>1285</th>\n",
       "      <td>POS538</td>\n",
       "      <td>VS9-ABS</td>\n",
       "      <td>S5</td>\n",
       "      <td>Direct</td>\n",
       "      <td>32575</td>\n",
       "      <td>VOL-NO REGRESO / NO DIO RAZÓN</td>\n",
       "      <td>DO</td>\n",
       "      <td>2022-11-18</td>\n",
       "      <td>JT031800</td>\n",
       "      <td>2022-09-01</td>\n",
       "      <td>...</td>\n",
       "      <td>2.600000</td>\n",
       "      <td>78</td>\n",
       "      <td>CIUDAD JUAREZ</td>\n",
       "      <td>Mexican</td>\n",
       "      <td>23</td>\n",
       "      <td>Never</td>\n",
       "      <td>Casad</td>\n",
       "      <td>1</td>\n",
       "      <td>1</td>\n",
       "      <td>0</td>\n",
       "    </tr>\n",
       "    <tr>\n",
       "      <th>962</th>\n",
       "      <td>POS1921</td>\n",
       "      <td>MFS</td>\n",
       "      <td>S5</td>\n",
       "      <td>Direct</td>\n",
       "      <td>32575</td>\n",
       "      <td>IMP.TRA-AUSENTISMOS CONTINUOS</td>\n",
       "      <td>DO</td>\n",
       "      <td>2022-06-16</td>\n",
       "      <td>JS011500</td>\n",
       "      <td>2019-11-07</td>\n",
       "      <td>...</td>\n",
       "      <td>31.733333</td>\n",
       "      <td>952</td>\n",
       "      <td>JUAREZ</td>\n",
       "      <td>Mexican</td>\n",
       "      <td>20</td>\n",
       "      <td>Never</td>\n",
       "      <td>Solter</td>\n",
       "      <td>0</td>\n",
       "      <td>0</td>\n",
       "      <td>1</td>\n",
       "    </tr>\n",
       "    <tr>\n",
       "      <th>1160</th>\n",
       "      <td>POS1323</td>\n",
       "      <td>VS9-ABS</td>\n",
       "      <td>S5</td>\n",
       "      <td>Direct</td>\n",
       "      <td>32500</td>\n",
       "      <td>IMP.TRA-AUSENTISMOS CONTINUOS</td>\n",
       "      <td>DO</td>\n",
       "      <td>2022-09-20</td>\n",
       "      <td>JS011500</td>\n",
       "      <td>2020-12-29</td>\n",
       "      <td>...</td>\n",
       "      <td>21.000000</td>\n",
       "      <td>630</td>\n",
       "      <td>Durango</td>\n",
       "      <td>Mexican</td>\n",
       "      <td>44</td>\n",
       "      <td>7 - 10 Years</td>\n",
       "      <td>Solter</td>\n",
       "      <td>3</td>\n",
       "      <td>1</td>\n",
       "      <td>0</td>\n",
       "    </tr>\n",
       "    <tr>\n",
       "      <th>207</th>\n",
       "      <td>POS2939</td>\n",
       "      <td>VS5</td>\n",
       "      <td>S5</td>\n",
       "      <td>Direct</td>\n",
       "      <td>32590</td>\n",
       "      <td>VOL-ESTUDIOS</td>\n",
       "      <td>DO</td>\n",
       "      <td>2023-04-11</td>\n",
       "      <td>JS011500</td>\n",
       "      <td>2023-01-12</td>\n",
       "      <td>...</td>\n",
       "      <td>2.966667</td>\n",
       "      <td>89</td>\n",
       "      <td>CIUDAD JUAREZ</td>\n",
       "      <td>Mexican</td>\n",
       "      <td>21</td>\n",
       "      <td>7 - 10 Years</td>\n",
       "      <td>Solter</td>\n",
       "      <td>0</td>\n",
       "      <td>1</td>\n",
       "      <td>0</td>\n",
       "    </tr>\n",
       "    <tr>\n",
       "      <th>1276</th>\n",
       "      <td>POS1376</td>\n",
       "      <td>VS7</td>\n",
       "      <td>S5</td>\n",
       "      <td>Direct</td>\n",
       "      <td>32590</td>\n",
       "      <td>VOL-TRANSFERENCIA ENTRE PLANTA</td>\n",
       "      <td>DNO</td>\n",
       "      <td>2022-11-11</td>\n",
       "      <td>ADMINIST</td>\n",
       "      <td>2013-10-30</td>\n",
       "      <td>...</td>\n",
       "      <td>109.966667</td>\n",
       "      <td>3299</td>\n",
       "      <td>Durango</td>\n",
       "      <td>Mexican</td>\n",
       "      <td>34</td>\n",
       "      <td>Never</td>\n",
       "      <td>Casad</td>\n",
       "      <td>1</td>\n",
       "      <td>0</td>\n",
       "      <td>1</td>\n",
       "    </tr>\n",
       "    <tr>\n",
       "      <th>1235</th>\n",
       "      <td>POS2939</td>\n",
       "      <td>VS9-ABS</td>\n",
       "      <td>S5</td>\n",
       "      <td>Direct</td>\n",
       "      <td>32690</td>\n",
       "      <td>VOL-NO REGRESO / NO DIO RAZÓN</td>\n",
       "      <td>DO</td>\n",
       "      <td>2022-10-27</td>\n",
       "      <td>JT012324</td>\n",
       "      <td>2022-10-11</td>\n",
       "      <td>...</td>\n",
       "      <td>0.533333</td>\n",
       "      <td>16</td>\n",
       "      <td>CAMPECHE</td>\n",
       "      <td>Mexican</td>\n",
       "      <td>34</td>\n",
       "      <td>7 - 10 Years</td>\n",
       "      <td>Separ</td>\n",
       "      <td>3</td>\n",
       "      <td>0</td>\n",
       "      <td>1</td>\n",
       "    </tr>\n",
       "    <tr>\n",
       "      <th>397</th>\n",
       "      <td>POS2939</td>\n",
       "      <td>VS7</td>\n",
       "      <td>S5</td>\n",
       "      <td>Direct</td>\n",
       "      <td>32590</td>\n",
       "      <td>VOL-NO REGRESO / NO DIO RAZÓN</td>\n",
       "      <td>DO</td>\n",
       "      <td>2023-07-05</td>\n",
       "      <td>JT012324</td>\n",
       "      <td>2023-05-25</td>\n",
       "      <td>...</td>\n",
       "      <td>1.366667</td>\n",
       "      <td>41</td>\n",
       "      <td>CHIHUAHUA</td>\n",
       "      <td>Mexican</td>\n",
       "      <td>31</td>\n",
       "      <td>7 - 10 Years</td>\n",
       "      <td>Solter</td>\n",
       "      <td>1</td>\n",
       "      <td>1</td>\n",
       "      <td>0</td>\n",
       "    </tr>\n",
       "    <tr>\n",
       "      <th>655</th>\n",
       "      <td>POS1559</td>\n",
       "      <td>MFS</td>\n",
       "      <td>S5</td>\n",
       "      <td>Direct</td>\n",
       "      <td>32110</td>\n",
       "      <td>VOL-OTRO EMPLEO</td>\n",
       "      <td>DNO</td>\n",
       "      <td>2022-01-25</td>\n",
       "      <td>JS011500</td>\n",
       "      <td>2016-07-27</td>\n",
       "      <td>...</td>\n",
       "      <td>66.933333</td>\n",
       "      <td>2008</td>\n",
       "      <td>JUAREZ</td>\n",
       "      <td>Mexican</td>\n",
       "      <td>24</td>\n",
       "      <td>7 - 10 Years</td>\n",
       "      <td>Solter</td>\n",
       "      <td>0</td>\n",
       "      <td>0</td>\n",
       "      <td>1</td>\n",
       "    </tr>\n",
       "    <tr>\n",
       "      <th>833</th>\n",
       "      <td>POS1230</td>\n",
       "      <td>VS7</td>\n",
       "      <td>S5</td>\n",
       "      <td>Direct</td>\n",
       "      <td>32599</td>\n",
       "      <td>VOL-OTRO EMPLEO</td>\n",
       "      <td>DNO</td>\n",
       "      <td>2022-04-26</td>\n",
       "      <td>JF010600</td>\n",
       "      <td>2015-03-18</td>\n",
       "      <td>...</td>\n",
       "      <td>86.533333</td>\n",
       "      <td>2596</td>\n",
       "      <td>OAXACA</td>\n",
       "      <td>Mexican</td>\n",
       "      <td>28</td>\n",
       "      <td>Never</td>\n",
       "      <td>Casad</td>\n",
       "      <td>0</td>\n",
       "      <td>0</td>\n",
       "      <td>1</td>\n",
       "    </tr>\n",
       "    <tr>\n",
       "      <th>818</th>\n",
       "      <td>POS538</td>\n",
       "      <td>VS9-ABS</td>\n",
       "      <td>S5</td>\n",
       "      <td>Direct</td>\n",
       "      <td>32575</td>\n",
       "      <td>VOL-NO REGRESO / NO DIO RAZÓN</td>\n",
       "      <td>DO</td>\n",
       "      <td>2022-04-20</td>\n",
       "      <td>JT031800</td>\n",
       "      <td>2019-07-25</td>\n",
       "      <td>...</td>\n",
       "      <td>33.333333</td>\n",
       "      <td>1000</td>\n",
       "      <td>TABASCO</td>\n",
       "      <td>Mexican</td>\n",
       "      <td>40</td>\n",
       "      <td>Never</td>\n",
       "      <td>Casad</td>\n",
       "      <td>3</td>\n",
       "      <td>1</td>\n",
       "      <td>0</td>\n",
       "    </tr>\n",
       "  </tbody>\n",
       "</table>\n",
       "<p>10 rows × 21 columns</p>\n",
       "</div>"
      ],
      "text/plain": [
       "     Posición     Area Á.liq. Grupo de personal  CODIGO POSTAL  \\\n",
       "1285   POS538  VS9-ABS     S5            Direct          32575   \n",
       "962   POS1921      MFS     S5            Direct          32575   \n",
       "1160  POS1323  VS9-ABS     S5            Direct          32500   \n",
       "207   POS2939      VS5     S5            Direct          32590   \n",
       "1276  POS1376      VS7     S5            Direct          32590   \n",
       "1235  POS2939  VS9-ABS     S5            Direct          32690   \n",
       "397   POS2939      VS7     S5            Direct          32590   \n",
       "655   POS1559      MFS     S5            Direct          32110   \n",
       "833   POS1230      VS7     S5            Direct          32599   \n",
       "818    POS538  VS9-ABS     S5            Direct          32575   \n",
       "\n",
       "               Motivo de la RENUNCIA Banda       Baja  ReglaPHT       Alta  \\\n",
       "1285   VOL-NO REGRESO / NO DIO RAZÓN    DO 2022-11-18  JT031800 2022-09-01   \n",
       "962    IMP.TRA-AUSENTISMOS CONTINUOS    DO 2022-06-16  JS011500 2019-11-07   \n",
       "1160   IMP.TRA-AUSENTISMOS CONTINUOS    DO 2022-09-20  JS011500 2020-12-29   \n",
       "207                     VOL-ESTUDIOS    DO 2023-04-11  JS011500 2023-01-12   \n",
       "1276  VOL-TRANSFERENCIA ENTRE PLANTA   DNO 2022-11-11  ADMINIST 2013-10-30   \n",
       "1235   VOL-NO REGRESO / NO DIO RAZÓN    DO 2022-10-27  JT012324 2022-10-11   \n",
       "397    VOL-NO REGRESO / NO DIO RAZÓN    DO 2023-07-05  JT012324 2023-05-25   \n",
       "655                  VOL-OTRO EMPLEO   DNO 2022-01-25  JS011500 2016-07-27   \n",
       "833                  VOL-OTRO EMPLEO   DNO 2022-04-26  JF010600 2015-03-18   \n",
       "818    VOL-NO REGRESO / NO DIO RAZÓN    DO 2022-04-20  JT031800 2019-07-25   \n",
       "\n",
       "      ...       Meses  Antigüedad  Lugar de nacimiento Nacionalidad  \\\n",
       "1285  ...    2.600000          78        CIUDAD JUAREZ      Mexican   \n",
       "962   ...   31.733333         952               JUAREZ      Mexican   \n",
       "1160  ...   21.000000         630              Durango      Mexican   \n",
       "207   ...    2.966667          89        CIUDAD JUAREZ      Mexican   \n",
       "1276  ...  109.966667        3299              Durango      Mexican   \n",
       "1235  ...    0.533333          16             CAMPECHE      Mexican   \n",
       "397   ...    1.366667          41            CHIHUAHUA      Mexican   \n",
       "655   ...   66.933333        2008               JUAREZ      Mexican   \n",
       "833   ...   86.533333        2596               OAXACA      Mexican   \n",
       "818   ...   33.333333        1000              TABASCO      Mexican   \n",
       "\n",
       "     Edad del empleado  ¿Cuanto tiempo tiene viviendo en Cd. Juarez?  \\\n",
       "1285                23                                         Never   \n",
       "962                 20                                         Never   \n",
       "1160                44                                  7 - 10 Years   \n",
       "207                 21                                  7 - 10 Years   \n",
       "1276                34                                         Never   \n",
       "1235                34                                  7 - 10 Years   \n",
       "397                 31                                  7 - 10 Years   \n",
       "655                 24                                  7 - 10 Years   \n",
       "833                 28                                         Never   \n",
       "818                 40                                         Never   \n",
       "\n",
       "     Estado Civil Hijos  Clave de sexo_Femenino  Clave de sexo_Masculino  \n",
       "1285        Casad     1                       1                        0  \n",
       "962        Solter     0                       0                        1  \n",
       "1160       Solter     3                       1                        0  \n",
       "207        Solter     0                       1                        0  \n",
       "1276        Casad     1                       0                        1  \n",
       "1235        Separ     3                       0                        1  \n",
       "397        Solter     1                       1                        0  \n",
       "655        Solter     0                       0                        1  \n",
       "833         Casad     0                       0                        1  \n",
       "818         Casad     3                       1                        0  \n",
       "\n",
       "[10 rows x 21 columns]"
      ]
     },
     "execution_count": 56,
     "metadata": {},
     "output_type": "execute_result"
    }
   ],
   "source": [
    "# Ver las columnas\n",
    "data_sucia.sample(10)"
   ]
  },
  {
   "cell_type": "code",
   "execution_count": 20,
   "metadata": {},
   "outputs": [],
   "source": [
    "# Este comando cambiar el tipo de columnas, no se exactamente cuales y a que tipo por lo que dejo así el borrador\n",
    "#data_limpia[\"nombre_columna\"] = data_sucia[\"nombre_columna\"].astype(int)"
   ]
  },
  {
   "cell_type": "markdown",
   "metadata": {},
   "source": [
    "## Gráfica cantidad de Hijos"
   ]
  },
  {
   "cell_type": "code",
   "execution_count": 21,
   "metadata": {},
   "outputs": [
    {
     "data": {
      "image/png": "[encoded data removed]",
      "text/plain": [
       "<Figure size 640x480 with 1 Axes>"
      ]
     },
     "metadata": {},
     "output_type": "display_data"
    }
   ],
   "source": [
    "#Graficas de la cantidad de hijos\n",
    "num_hijos = data_sucia['Hijos'].value_counts()\n",
    "num_hijos = num_hijos.sort_index()\n",
    "plt.bar(num_hijos.index,num_hijos.values)\n",
    "plt.xlabel(\"Número de hijos\")\n",
    "plt.ylabel(\"Cantidad\")\n",
    "plt.title(\"Distribución de la cantidad de hijos\")\n",
    "plt.xticks(num_hijos.index)\n",
    "plt.show()"
   ]
  },
  {
   "cell_type": "markdown",
   "metadata": {},
   "source": [
    "## Gráfica Estado Civil"
   ]
  },
  {
   "cell_type": "code",
   "execution_count": 22,
   "metadata": {},
   "outputs": [
    {
     "data": {
      "image/png": "[encoded data removed]",
      "text/plain": [
       "<Figure size 640x480 with 1 Axes>"
      ]
     },
     "metadata": {},
     "output_type": "display_data"
    }
   ],
   "source": [
    "#Graficas del estado civil del trabajador\n",
    "num_est_civil = data_sucia['Estado Civil'].value_counts()\n",
    "num_est_civil = num_est_civil.sort_index()\n",
    "plt.bar(num_est_civil.index,num_est_civil.values)\n",
    "plt.xlabel(\"Estado civil\")\n",
    "plt.ylabel(\"Cantidad\")\n",
    "plt.title(\"Distribución del estado civil del trabajador\")\n",
    "plt.show()"
   ]
  },
  {
   "cell_type": "markdown",
   "metadata": {},
   "source": [
    "# Gráfica Motivo de RENUNCIA"
   ]
  },
  {
   "cell_type": "code",
   "execution_count": 23,
   "metadata": {},
   "outputs": [
    {
     "data": {
      "text/plain": [
       "Vol-Otro empleo                     308\n",
       "Vol-Transferencia entre planta      235\n",
       "Vol-No regreso / no dio razón       218\n",
       "Vol-Prob personales y/o fam.        197\n",
       "Vol-Insatisfacción personal          94\n",
       "Vol-Cambio de domicilio              89\n",
       "Imp.Tra-Ausentismos continuos        71\n",
       "Vol-Estudios                         68\n",
       "Imp.Tra-Jubilación                   32\n",
       "Vol-Razones médicas                  28\n",
       "Imp.Tra-LFT y/o Reglamento Int.      12\n",
       "Imp.Tra-LFT y/o Reglamento int       12\n",
       "Imp.Pat-Pensionado IMSS               8\n",
       "Imp.Pat-Terminación del Contrato      6\n",
       "Imp.Tra-Bajo desempeño                3\n",
       "Muerte Natural                        3\n",
       "Vol-Maternidad                        3\n",
       "Imp.Pat-Terminación del contra        2\n",
       "Imp.Tra-Falsificación de docto        2\n",
       "Imp.Tra-Falsificación de doctos.      2\n",
       "Muerte Accidental                     2\n",
       "Imp.Pat-Varios Jubilado               1\n",
       "Imp.Tra-Uso de drogas y/o bebi        1\n",
       "Vol-Ambiente de trabajo               1\n",
       "Vol-Matrimonio                        1\n",
       "Vol-Problemas con transporte          1\n",
       "Name: Motivo de la RENUNCIA, dtype: int64"
      ]
     },
     "execution_count": 23,
     "metadata": {},
     "output_type": "execute_result"
    }
   ],
   "source": [
    "data_sucia['Motivo de la RENUNCIA'].value_counts()"
   ]
  },
  {
   "cell_type": "markdown",
   "metadata": {},
   "source": [
    "# Renuncia (Guillermo)"
   ]
  },
  {
   "cell_type": "markdown",
   "metadata": {},
   "source": [
    "Target = VOL = RENUNCIA\n",
    "- Otro empleo\n",
    "- Estudios\n",
    "- NO regreso\n",
    "- ...\n",
    "- ..."
   ]
  },
  {
   "cell_type": "code",
   "execution_count": 26,
   "metadata": {},
   "outputs": [
    {
     "data": {
      "text/plain": [
       "VOL-OTRO EMPLEO                        308\n",
       "VOL-TRANSFERENCIA ENTRE PLANTA         235\n",
       "VOL-NO REGRESO / NO DIO RAZÓN          218\n",
       "VOL-PROB PERSONALES Y/O FAM.           197\n",
       "VOL-INSATISFACCIÓN PERSONAL             94\n",
       "VOL-CAMBIO DE DOMICILIO                 89\n",
       "IMP.TRA-AUSENTISMOS CONTINUOS           71\n",
       "VOL-ESTUDIOS                            68\n",
       "IMP.TRA-JUBILACIÓN                      32\n",
       "VOL-RAZONES MÉDICAS                     28\n",
       "IMP.TRA-LFT Y/O REGLAMENTO INTERNO      24\n",
       "IMP.PAT-PENSIONADO IMSS                  8\n",
       "IMP.PAT-TERMINACIÓN DEL CONTRATO         8\n",
       "IMP.TRA-FALSIFICACIÓN DE DOCUMENTOS      4\n",
       "IMP.TRA-BAJO DESEMPEÑO                   3\n",
       "MUERTE NATURAL                           3\n",
       "VOL-MATERNIDAD                           3\n",
       "MUERTE ACCIDENTAL                        2\n",
       "IMP.PAT-VARIOS JUBILADO                  1\n",
       "IMP.TRA-USO DE DROGAS Y/O BEBI           1\n",
       "VOL-AMBIENTE DE TRABAJO                  1\n",
       "VOL-MATRIMONIO                           1\n",
       "VOL-PROBLEMAS CON TRANSPORTE             1\n",
       "Name: Motivo de la RENUNCIA, dtype: int64"
      ]
     },
     "execution_count": 26,
     "metadata": {},
     "output_type": "execute_result"
    }
   ],
   "source": [
    "# Convertir todo a mayúsculas para mantener la consistencia\n",
    "data_sucia['Motivo de la RENUNCIA'] = data_sucia['Motivo de la RENUNCIA'].str.upper()\n",
    "\n",
    "# Eliminar espacios al principio y al final\n",
    "data_sucia['Motivo de la RENUNCIA'] = data_sucia['Motivo de la RENUNCIA'].str.strip()\n",
    "\n",
    "# Unificar categorías que son esencialmente las mismas\n",
    "reemplazos_motivos = {\n",
    "    'IMP.TRA-LFT Y/O REGLAMENTO INT.': 'IMP.TRA-LFT Y/O REGLAMENTO INTERNO',\n",
    "    'IMP.TRA-LFT Y/O REGLAMENTO INT': 'IMP.TRA-LFT Y/O REGLAMENTO INTERNO',\n",
    "    'IMP.PAT-TERMINACIÓN DEL CONTRATO': 'IMP.PAT-TERMINACIÓN DEL CONTRATO',\n",
    "    'IMP.PAT-TERMINACIÓN DEL CONTRA': 'IMP.PAT-TERMINACIÓN DEL CONTRATO',\n",
    "    'IMP.TRA-FALSIFICACIÓN DE DOCTOS.': 'IMP.TRA-FALSIFICACIÓN DE DOCUMENTOS',\n",
    "    'IMP.TRA-FALSIFICACIÓN DE DOCTO': 'IMP.TRA-FALSIFICACIÓN DE DOCUMENTOS'\n",
    "    # Agrega aquí cualquier otro reemplazo necesario\n",
    "}\n",
    "\n",
    "data_sucia['Motivo de la RENUNCIA'] = data_sucia['Motivo de la RENUNCIA'].replace(reemplazos_motivos)\n",
    "\n",
    "# Contar de nuevo los valores\n",
    "data_sucia['Motivo de la RENUNCIA'].value_counts()\n",
    "\n",
    "data_sucia[\"Motivo de la RENUNCIA\"].value_counts()\n"
   ]
  },
  {
   "cell_type": "code",
   "execution_count": 32,
   "metadata": {},
   "outputs": [
    {
     "name": "stdout",
     "output_type": "stream",
     "text": [
      "<class 'pandas.core.series.Series'>\n",
      "Int64Index: 1400 entries, 0 to 1402\n",
      "Series name: CODIGO POSTAL\n",
      "Non-Null Count  Dtype\n",
      "--------------  -----\n",
      "1400 non-null   int64\n",
      "dtypes: int64(1)\n",
      "memory usage: 21.9 KB\n"
     ]
    }
   ],
   "source": [
    "data_sucia[\"CODIGO POSTAL\"].info()"
   ]
  },
  {
   "cell_type": "code",
   "execution_count": 33,
   "metadata": {},
   "outputs": [
    {
     "data": {
      "text/plain": [
       "array([32520, 32217, 32600, 32575, 32674, 32690, 32576, 32540, 32584,\n",
       "       32599, 32433, 32696, 32570, 32598, 32150, 32665, 32695, 32410,\n",
       "       32587, 32697, 32594, 32543, 32583, 32160, 32545, 32100, 32546,\n",
       "       32563, 32667, 32580, 32240, 32618, 32590, 32573, 32424, 32675,\n",
       "       32380, 32350, 32500, 32200, 32472, 32668, 32660, 32585, 32553,\n",
       "        3720, 32664, 32107, 32574, 32654, 32699, 32551, 32510, 32422,\n",
       "       32659, 32389, 32340, 32698, 32471, 32130, 27000, 32548, 32560,\n",
       "       32400, 32550, 32469, 32215, 32720, 32310, 32586, 32190, 32552,\n",
       "       32539, 50180, 32676, 32250, 32617, 32448, 32425, 32610, 32170,\n",
       "       32110, 32680, 32220, 32230, 32606, 32536, 45086, 32912, 32742,\n",
       "       32616, 32722, 32210, 32360, 32687, 32140, 32379, 32330, 32702,\n",
       "       32538, 32670, 32740, 32264, 32577, 75116, 32662, 32320, 32650,\n",
       "       32300, 32605, 23575, 32450, 32652, 32050, 32647, 32280, 32403,\n",
       "        3259, 32180, 32750, 32408, 32060, 32423, 32159, 32677])"
      ]
     },
     "execution_count": 33,
     "metadata": {},
     "output_type": "execute_result"
    }
   ],
   "source": [
    "data_sucia[\"CODIGO POSTAL\"].unique()"
   ]
  },
  {
   "cell_type": "code",
   "execution_count": 34,
   "metadata": {},
   "outputs": [
    {
     "data": {
      "text/html": [
       "<div>\n",
       "<style scoped>\n",
       "    .dataframe tbody tr th:only-of-type {\n",
       "        vertical-align: middle;\n",
       "    }\n",
       "\n",
       "    .dataframe tbody tr th {\n",
       "        vertical-align: top;\n",
       "    }\n",
       "\n",
       "    .dataframe thead th {\n",
       "        text-align: right;\n",
       "    }\n",
       "</style>\n",
       "<table border=\"1\" class=\"dataframe\">\n",
       "  <thead>\n",
       "    <tr style=\"text-align: right;\">\n",
       "      <th></th>\n",
       "      <th>Posición</th>\n",
       "      <th>Area</th>\n",
       "      <th>Á.liq.</th>\n",
       "      <th>Grupo de personal</th>\n",
       "      <th>CODIGO POSTAL</th>\n",
       "      <th>Motivo de la RENUNCIA</th>\n",
       "      <th>Banda</th>\n",
       "      <th>Baja</th>\n",
       "      <th>ReglaPHT</th>\n",
       "      <th>Alta</th>\n",
       "      <th>...</th>\n",
       "      <th>Meses</th>\n",
       "      <th>Antigüedad</th>\n",
       "      <th>Lugar de nacimiento</th>\n",
       "      <th>Nacionalidad</th>\n",
       "      <th>Edad del empleado</th>\n",
       "      <th>¿Cuanto tiempo tiene viviendo en Cd. Juarez?</th>\n",
       "      <th>Estado Civil</th>\n",
       "      <th>Hijos</th>\n",
       "      <th>Clave de sexo_Femenino</th>\n",
       "      <th>Clave de sexo_Masculino</th>\n",
       "    </tr>\n",
       "  </thead>\n",
       "  <tbody>\n",
       "    <tr>\n",
       "      <th>209</th>\n",
       "      <td>POS538</td>\n",
       "      <td>VS1</td>\n",
       "      <td>S5</td>\n",
       "      <td>Direct</td>\n",
       "      <td>3720</td>\n",
       "      <td>VOL-NO REGRESO / NO DIO RAZÓN</td>\n",
       "      <td>DO</td>\n",
       "      <td>2023-04-11</td>\n",
       "      <td>JT031800</td>\n",
       "      <td>2023-02-02</td>\n",
       "      <td>...</td>\n",
       "      <td>2.266667</td>\n",
       "      <td>68</td>\n",
       "      <td>CIUDAD JUAREZ</td>\n",
       "      <td>Mexican</td>\n",
       "      <td>24</td>\n",
       "      <td>Never</td>\n",
       "      <td>Casad</td>\n",
       "      <td>1</td>\n",
       "      <td>1</td>\n",
       "      <td>0</td>\n",
       "    </tr>\n",
       "  </tbody>\n",
       "</table>\n",
       "<p>1 rows × 21 columns</p>\n",
       "</div>"
      ],
      "text/plain": [
       "    Posición Area Á.liq. Grupo de personal  CODIGO POSTAL  \\\n",
       "209   POS538  VS1     S5            Direct           3720   \n",
       "\n",
       "             Motivo de la RENUNCIA Banda       Baja  ReglaPHT       Alta  ...  \\\n",
       "209  VOL-NO REGRESO / NO DIO RAZÓN    DO 2023-04-11  JT031800 2023-02-02  ...   \n",
       "\n",
       "        Meses  Antigüedad  Lugar de nacimiento Nacionalidad Edad del empleado  \\\n",
       "209  2.266667          68        CIUDAD JUAREZ      Mexican                24   \n",
       "\n",
       "     ¿Cuanto tiempo tiene viviendo en Cd. Juarez? Estado Civil Hijos  \\\n",
       "209                                         Never        Casad     1   \n",
       "\n",
       "     Clave de sexo_Femenino  Clave de sexo_Masculino  \n",
       "209                       1                        0  \n",
       "\n",
       "[1 rows x 21 columns]"
      ]
     },
     "execution_count": 34,
     "metadata": {},
     "output_type": "execute_result"
    }
   ],
   "source": [
    "data_sucia[data_sucia[\"CODIGO POSTAL\"] == 3720] # Corresponde "
   ]
  },
  {
   "cell_type": "markdown",
   "metadata": {},
   "source": [
    "## Comentario: \n",
    "\n",
    "Para el punto 4 del desafío, proponogo plotear una gráfica (podrían ser dos) que relacione el código póstal (podría ser ubicación actual) con el motivo de RENUNCIA Vol-Insatisfacción personal"
   ]
  },
  {
   "cell_type": "markdown",
   "metadata": {},
   "source": [
    "----\n",
    "** Area de Victor para creacion de base de datos **"
   ]
  },
  {
   "cell_type": "code",
   "execution_count": 30,
   "metadata": {},
   "outputs": [
    {
     "data": {
      "text/plain": [
       "True"
      ]
     },
     "execution_count": 30,
     "metadata": {},
     "output_type": "execute_result"
    }
   ],
   "source": [
    "# Importar libreria para trabajar con mysql\n",
    "#! pip install mysql-connector-python\n",
    "import mysql.connector\n",
    "\n",
    "\n",
    "\n",
    "# Hacer un mapeo de los datos necesarios para conectarse\n",
    "config = {\n",
    "    'user': 'datathonequipo5',\n",
    "    'password': 'CodedSpiritDev05',\n",
    "    'host': 'datathon.mysql.database.azure.com',\n",
    "    'database': 'datathon'\n",
    "}\n",
    "\n",
    "# Conectarse a la base de datos\n",
    "cnx = mysql.connector.connect(**config)\n",
    "\n",
    "# Verificar la conexión\n",
    "cnx.is_connected()\n",
    "\n"
   ]
  },
  {
   "cell_type": "code",
   "execution_count": 31,
   "metadata": {},
   "outputs": [
    {
     "name": "stdout",
     "output_type": "stream",
     "text": [
      "Tiempo total de ejecución: 6.462537527084351 segundos\n"
     ]
    }
   ],
   "source": [
    "total_time = time.time() - start_time\n",
    "print(f\"Tiempo total de ejecución: {total_time} segundos\")"
   ]
  }
 ],
 "metadata": {
  "kernelspec": {
   "display_name": "Python 3",
   "language": "python",
   "name": "python3"
  },
  "language_info": {
   "codemirror_mode": {
    "name": "ipython",
    "version": 3
   },
   "file_extension": ".py",
   "mimetype": "text/x-python",
   "name": "python",
   "nbconvert_exporter": "python",
   "pygments_lexer": "ipython3",
   "version": "3.10.13"
  }
 },
 "nbformat": 4,
 "nbformat_minor": 2
}
