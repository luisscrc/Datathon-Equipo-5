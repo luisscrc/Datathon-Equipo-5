{
 "cells": [
  {
   "cell_type": "markdown",
   "metadata": {},
   "source": [
    "----\n",
    "**Carga de librerías**"
   ]
  },
  {
   "cell_type": "code",
   "execution_count": 7,
   "metadata": {},
   "outputs": [],
   "source": [
    "import numpy as np\n",
    "import pandas as pd\n",
    "import matplotlib.pyplot as plt\n",
    "import sklearn"
   ]
  },
  {
   "cell_type": "code",
   "execution_count": 8,
   "metadata": {},
   "outputs": [
    {
     "name": "stdout",
     "output_type": "stream",
     "text": [
      "Requirement already satisfied: openpyxl in /usr/local/python/3.10.13/lib/python3.10/site-packages (3.1.2)\n",
      "Requirement already satisfied: et-xmlfile in /usr/local/python/3.10.13/lib/python3.10/site-packages (from openpyxl) (1.1.0)\n"
     ]
    }
   ],
   "source": [
    "#Cargamos los datos\n",
    "! pip install openpyxl\n",
    "data = pd.read_excel('data/bosch_aic_datathon.xlsx')"
   ]
  },
  {
   "cell_type": "code",
   "execution_count": 9,
   "metadata": {},
   "outputs": [
    {
     "data": {
      "text/plain": [
       "pandas.core.frame.DataFrame"
      ]
     },
     "execution_count": 9,
     "metadata": {},
     "output_type": "execute_result"
    }
   ],
   "source": [
    "# Exploramos los tipos de datos\n",
    "type(data)"
   ]
  },
  {
   "cell_type": "code",
   "execution_count": 10,
   "metadata": {},
   "outputs": [],
   "source": [
    "#hacemos una copia de los datos\n",
    "data_sucia=data"
   ]
  },
  {
   "cell_type": "code",
   "execution_count": 11,
   "metadata": {},
   "outputs": [
    {
     "data": {
      "text/html": [
       "<div>\n",
       "<style scoped>\n",
       "    .dataframe tbody tr th:only-of-type {\n",
       "        vertical-align: middle;\n",
       "    }\n",
       "\n",
       "    .dataframe tbody tr th {\n",
       "        vertical-align: top;\n",
       "    }\n",
       "\n",
       "    .dataframe thead th {\n",
       "        text-align: right;\n",
       "    }\n",
       "</style>\n",
       "<table border=\"1\" class=\"dataframe\">\n",
       "  <thead>\n",
       "    <tr style=\"text-align: right;\">\n",
       "      <th></th>\n",
       "      <th>Posición</th>\n",
       "      <th>Area</th>\n",
       "      <th>Á.liq.</th>\n",
       "      <th>Grupo de personal</th>\n",
       "      <th>CODIGO POSTAL</th>\n",
       "      <th>Motivo de la RENUNCIA</th>\n",
       "      <th>Banda</th>\n",
       "      <th>Baja</th>\n",
       "      <th>ReglaPHT</th>\n",
       "      <th>Alta</th>\n",
       "      <th>Años</th>\n",
       "      <th>Meses</th>\n",
       "      <th>Antigüedad</th>\n",
       "      <th>Clave de sexo</th>\n",
       "      <th>Lugar de nacimiento</th>\n",
       "      <th>Nacionalidad</th>\n",
       "      <th>Edad del empleado</th>\n",
       "      <th>¿Cuanto tiempo tiene viviendo en Cd. Juarez?</th>\n",
       "      <th>Estado Civil</th>\n",
       "      <th>Hijos</th>\n",
       "    </tr>\n",
       "  </thead>\n",
       "  <tbody>\n",
       "    <tr>\n",
       "      <th>0</th>\n",
       "      <td>POS514</td>\n",
       "      <td>LOG</td>\n",
       "      <td>S6</td>\n",
       "      <td>Exempt</td>\n",
       "      <td>32520</td>\n",
       "      <td>Vol-Otro empleo</td>\n",
       "      <td>E3</td>\n",
       "      <td>2023-01-02</td>\n",
       "      <td>ADMINIST</td>\n",
       "      <td>2018-06-21</td>\n",
       "      <td>5</td>\n",
       "      <td>55.200000</td>\n",
       "      <td>1656</td>\n",
       "      <td>Femenino</td>\n",
       "      <td>JUAREZ</td>\n",
       "      <td>Mexican</td>\n",
       "      <td>31</td>\n",
       "      <td>NaN</td>\n",
       "      <td>solter</td>\n",
       "      <td>0</td>\n",
       "    </tr>\n",
       "    <tr>\n",
       "      <th>1</th>\n",
       "      <td>POS1745</td>\n",
       "      <td>MFS</td>\n",
       "      <td>S5</td>\n",
       "      <td>Direct</td>\n",
       "      <td>32217</td>\n",
       "      <td>Vol-Otro empleo</td>\n",
       "      <td>DNO</td>\n",
       "      <td>2023-01-03</td>\n",
       "      <td>ADMINIST</td>\n",
       "      <td>2017-07-20</td>\n",
       "      <td>6</td>\n",
       "      <td>66.433333</td>\n",
       "      <td>1993</td>\n",
       "      <td>Masculino</td>\n",
       "      <td>DURANGO</td>\n",
       "      <td>Mexican</td>\n",
       "      <td>25</td>\n",
       "      <td>10+ Years</td>\n",
       "      <td>solter</td>\n",
       "      <td>0</td>\n",
       "    </tr>\n",
       "    <tr>\n",
       "      <th>2</th>\n",
       "      <td>POS1230</td>\n",
       "      <td>VS7</td>\n",
       "      <td>S5</td>\n",
       "      <td>Direct</td>\n",
       "      <td>32600</td>\n",
       "      <td>Vol-Otro empleo</td>\n",
       "      <td>DNO</td>\n",
       "      <td>2023-01-03</td>\n",
       "      <td>JT012324</td>\n",
       "      <td>2019-08-29</td>\n",
       "      <td>4</td>\n",
       "      <td>40.766667</td>\n",
       "      <td>1223</td>\n",
       "      <td>Masculino</td>\n",
       "      <td>JUAREZ</td>\n",
       "      <td>Mexican</td>\n",
       "      <td>23</td>\n",
       "      <td>10+ Years</td>\n",
       "      <td>solter</td>\n",
       "      <td>0</td>\n",
       "    </tr>\n",
       "    <tr>\n",
       "      <th>3</th>\n",
       "      <td>POS1661</td>\n",
       "      <td>MFS</td>\n",
       "      <td>S5</td>\n",
       "      <td>Direct</td>\n",
       "      <td>32575</td>\n",
       "      <td>Vol-Estudios</td>\n",
       "      <td>DO</td>\n",
       "      <td>2023-01-03</td>\n",
       "      <td>JT012324</td>\n",
       "      <td>2022-11-03</td>\n",
       "      <td>1</td>\n",
       "      <td>2.033333</td>\n",
       "      <td>61</td>\n",
       "      <td>Femenino</td>\n",
       "      <td>CIUDAD JUAREZ</td>\n",
       "      <td>Mexican</td>\n",
       "      <td>18</td>\n",
       "      <td>10+ Years</td>\n",
       "      <td>solter</td>\n",
       "      <td>0</td>\n",
       "    </tr>\n",
       "    <tr>\n",
       "      <th>4</th>\n",
       "      <td>POS1921</td>\n",
       "      <td>MFS</td>\n",
       "      <td>S5</td>\n",
       "      <td>Direct</td>\n",
       "      <td>32575</td>\n",
       "      <td>Vol-Cambio de domicilio</td>\n",
       "      <td>DO</td>\n",
       "      <td>2023-01-03</td>\n",
       "      <td>JT012324</td>\n",
       "      <td>2017-03-02</td>\n",
       "      <td>6</td>\n",
       "      <td>71.100000</td>\n",
       "      <td>2133</td>\n",
       "      <td>Masculino</td>\n",
       "      <td>JUAREZ</td>\n",
       "      <td>Mexican</td>\n",
       "      <td>26</td>\n",
       "      <td>10+ Years</td>\n",
       "      <td>solter</td>\n",
       "      <td>0</td>\n",
       "    </tr>\n",
       "  </tbody>\n",
       "</table>\n",
       "</div>"
      ],
      "text/plain": [
       "  Posición Area Á.liq. Grupo de personal  CODIGO POSTAL  \\\n",
       "0   POS514  LOG     S6            Exempt          32520   \n",
       "1  POS1745  MFS     S5            Direct          32217   \n",
       "2  POS1230  VS7     S5            Direct          32600   \n",
       "3  POS1661  MFS     S5            Direct          32575   \n",
       "4  POS1921  MFS     S5            Direct          32575   \n",
       "\n",
       "     Motivo de la RENUNCIA Banda       Baja  ReglaPHT       Alta  Años  \\\n",
       "0          Vol-Otro empleo    E3 2023-01-02  ADMINIST 2018-06-21     5   \n",
       "1          Vol-Otro empleo   DNO 2023-01-03  ADMINIST 2017-07-20     6   \n",
       "2          Vol-Otro empleo   DNO 2023-01-03  JT012324 2019-08-29     4   \n",
       "3             Vol-Estudios    DO 2023-01-03  JT012324 2022-11-03     1   \n",
       "4  Vol-Cambio de domicilio    DO 2023-01-03  JT012324 2017-03-02     6   \n",
       "\n",
       "       Meses  Antigüedad Clave de sexo Lugar de nacimiento Nacionalidad  \\\n",
       "0  55.200000        1656      Femenino              JUAREZ      Mexican   \n",
       "1  66.433333        1993     Masculino             DURANGO      Mexican   \n",
       "2  40.766667        1223     Masculino              JUAREZ      Mexican   \n",
       "3   2.033333          61      Femenino       CIUDAD JUAREZ      Mexican   \n",
       "4  71.100000        2133     Masculino              JUAREZ      Mexican   \n",
       "\n",
       "   Edad del empleado ¿Cuanto tiempo tiene viviendo en Cd. Juarez?  \\\n",
       "0                 31                                          NaN   \n",
       "1                 25                                    10+ Years   \n",
       "2                 23                                    10+ Years   \n",
       "3                 18                                    10+ Years   \n",
       "4                 26                                    10+ Years   \n",
       "\n",
       "  Estado Civil  Hijos  \n",
       "0       solter      0  \n",
       "1       solter      0  \n",
       "2       solter      0  \n",
       "3       solter      0  \n",
       "4       solter      0  "
      ]
     },
     "execution_count": 11,
     "metadata": {},
     "output_type": "execute_result"
    }
   ],
   "source": [
    "#Previsualizamos los datos\n",
    "data_sucia.head()"
   ]
  },
  {
   "cell_type": "code",
   "execution_count": 12,
   "metadata": {},
   "outputs": [
    {
     "data": {
      "text/plain": [
       "(1403, 20)"
      ]
     },
     "execution_count": 12,
     "metadata": {},
     "output_type": "execute_result"
    }
   ],
   "source": [
    "data_sucia.shape"
   ]
  },
  {
   "cell_type": "code",
   "execution_count": 13,
   "metadata": {},
   "outputs": [
    {
     "name": "stdout",
     "output_type": "stream",
     "text": [
      "<class 'pandas.core.frame.DataFrame'>\n",
      "RangeIndex: 1403 entries, 0 to 1402\n",
      "Data columns (total 20 columns):\n",
      " #   Column                                        Non-Null Count  Dtype         \n",
      "---  ------                                        --------------  -----         \n",
      " 0   Posición                                      1403 non-null   object        \n",
      " 1   Area                                          1403 non-null   object        \n",
      " 2   Á.liq.                                        1403 non-null   object        \n",
      " 3   Grupo de personal                             1403 non-null   object        \n",
      " 4   CODIGO POSTAL                                 1403 non-null   int64         \n",
      " 5   Motivo de la RENUNCIA                         1403 non-null   object        \n",
      " 6   Banda                                         1402 non-null   object        \n",
      " 7   Baja                                          1403 non-null   datetime64[ns]\n",
      " 8   ReglaPHT                                      1403 non-null   object        \n",
      " 9   Alta                                          1403 non-null   datetime64[ns]\n",
      " 10  Años                                          1403 non-null   int64         \n",
      " 11  Meses                                         1403 non-null   float64       \n",
      " 12  Antigüedad                                    1403 non-null   int64         \n",
      " 13  Clave de sexo                                 1403 non-null   object        \n",
      " 14  Lugar de nacimiento                           1401 non-null   object        \n",
      " 15  Nacionalidad                                  1403 non-null   object        \n",
      " 16  Edad del empleado                             1403 non-null   int64         \n",
      " 17  ¿Cuanto tiempo tiene viviendo en Cd. Juarez?  617 non-null    object        \n",
      " 18  Estado Civil                                  1393 non-null   object        \n",
      " 19  Hijos                                         1403 non-null   int64         \n",
      "dtypes: datetime64[ns](2), float64(1), int64(5), object(12)\n",
      "memory usage: 219.3+ KB\n"
     ]
    }
   ],
   "source": [
    "data_sucia.info()\n",
    "#Podemos ver que la mayoría de los datos son objetos \n",
    "#hay unos que son enteros, por lo que unos si será necesario cambiarlos \n",
    "#La columna de alta y baja son fechas de tiempo ese si corresponde"
   ]
  },
  {
   "cell_type": "code",
   "execution_count": 14,
   "metadata": {},
   "outputs": [
    {
     "data": {
      "text/html": [
       "<div>\n",
       "<style scoped>\n",
       "    .dataframe tbody tr th:only-of-type {\n",
       "        vertical-align: middle;\n",
       "    }\n",
       "\n",
       "    .dataframe tbody tr th {\n",
       "        vertical-align: top;\n",
       "    }\n",
       "\n",
       "    .dataframe thead th {\n",
       "        text-align: right;\n",
       "    }\n",
       "</style>\n",
       "<table border=\"1\" class=\"dataframe\">\n",
       "  <thead>\n",
       "    <tr style=\"text-align: right;\">\n",
       "      <th></th>\n",
       "      <th>CODIGO POSTAL</th>\n",
       "      <th>Baja</th>\n",
       "      <th>Alta</th>\n",
       "      <th>Años</th>\n",
       "      <th>Meses</th>\n",
       "      <th>Antigüedad</th>\n",
       "      <th>Edad del empleado</th>\n",
       "      <th>Hijos</th>\n",
       "    </tr>\n",
       "  </thead>\n",
       "  <tbody>\n",
       "    <tr>\n",
       "      <th>count</th>\n",
       "      <td>1403.000000</td>\n",
       "      <td>1403</td>\n",
       "      <td>1403</td>\n",
       "      <td>1403.000000</td>\n",
       "      <td>1403.000000</td>\n",
       "      <td>1403.000000</td>\n",
       "      <td>1403.000000</td>\n",
       "      <td>1403.000000</td>\n",
       "    </tr>\n",
       "    <tr>\n",
       "      <th>mean</th>\n",
       "      <td>32550.890948</td>\n",
       "      <td>2022-11-23 09:07:03.378474752</td>\n",
       "      <td>2018-11-18 22:17:21.767640576</td>\n",
       "      <td>4.192445</td>\n",
       "      <td>48.848373</td>\n",
       "      <td>1465.451176</td>\n",
       "      <td>30.941554</td>\n",
       "      <td>1.132573</td>\n",
       "    </tr>\n",
       "    <tr>\n",
       "      <th>min</th>\n",
       "      <td>3259.000000</td>\n",
       "      <td>2022-01-01 00:00:00</td>\n",
       "      <td>1993-09-06 00:00:00</td>\n",
       "      <td>0.000000</td>\n",
       "      <td>0.166667</td>\n",
       "      <td>5.000000</td>\n",
       "      <td>18.000000</td>\n",
       "      <td>0.000000</td>\n",
       "    </tr>\n",
       "    <tr>\n",
       "      <th>25%</th>\n",
       "      <td>32575.000000</td>\n",
       "      <td>2022-06-14 00:00:00</td>\n",
       "      <td>2016-12-28 00:00:00</td>\n",
       "      <td>1.000000</td>\n",
       "      <td>5.766667</td>\n",
       "      <td>173.000000</td>\n",
       "      <td>24.000000</td>\n",
       "      <td>0.000000</td>\n",
       "    </tr>\n",
       "    <tr>\n",
       "      <th>50%</th>\n",
       "      <td>32575.000000</td>\n",
       "      <td>2022-11-23 00:00:00</td>\n",
       "      <td>2019-10-31 00:00:00</td>\n",
       "      <td>3.000000</td>\n",
       "      <td>32.600000</td>\n",
       "      <td>978.000000</td>\n",
       "      <td>28.000000</td>\n",
       "      <td>1.000000</td>\n",
       "    </tr>\n",
       "    <tr>\n",
       "      <th>75%</th>\n",
       "      <td>32599.000000</td>\n",
       "      <td>2023-05-07 00:00:00</td>\n",
       "      <td>2022-09-14 00:00:00</td>\n",
       "      <td>6.000000</td>\n",
       "      <td>71.100000</td>\n",
       "      <td>2133.000000</td>\n",
       "      <td>36.000000</td>\n",
       "      <td>2.000000</td>\n",
       "    </tr>\n",
       "    <tr>\n",
       "      <th>max</th>\n",
       "      <td>75116.000000</td>\n",
       "      <td>2023-10-31 00:00:00</td>\n",
       "      <td>2023-10-05 00:00:00</td>\n",
       "      <td>29.000000</td>\n",
       "      <td>351.733333</td>\n",
       "      <td>10552.000000</td>\n",
       "      <td>67.000000</td>\n",
       "      <td>6.000000</td>\n",
       "    </tr>\n",
       "    <tr>\n",
       "      <th>std</th>\n",
       "      <td>1740.667827</td>\n",
       "      <td>NaN</td>\n",
       "      <td>NaN</td>\n",
       "      <td>4.650099</td>\n",
       "      <td>54.076010</td>\n",
       "      <td>1622.280304</td>\n",
       "      <td>9.734537</td>\n",
       "      <td>1.302182</td>\n",
       "    </tr>\n",
       "  </tbody>\n",
       "</table>\n",
       "</div>"
      ],
      "text/plain": [
       "       CODIGO POSTAL                           Baja  \\\n",
       "count    1403.000000                           1403   \n",
       "mean    32550.890948  2022-11-23 09:07:03.378474752   \n",
       "min      3259.000000            2022-01-01 00:00:00   \n",
       "25%     32575.000000            2022-06-14 00:00:00   \n",
       "50%     32575.000000            2022-11-23 00:00:00   \n",
       "75%     32599.000000            2023-05-07 00:00:00   \n",
       "max     75116.000000            2023-10-31 00:00:00   \n",
       "std      1740.667827                            NaN   \n",
       "\n",
       "                                Alta         Años        Meses    Antigüedad  \\\n",
       "count                           1403  1403.000000  1403.000000   1403.000000   \n",
       "mean   2018-11-18 22:17:21.767640576     4.192445    48.848373   1465.451176   \n",
       "min              1993-09-06 00:00:00     0.000000     0.166667      5.000000   \n",
       "25%              2016-12-28 00:00:00     1.000000     5.766667    173.000000   \n",
       "50%              2019-10-31 00:00:00     3.000000    32.600000    978.000000   \n",
       "75%              2022-09-14 00:00:00     6.000000    71.100000   2133.000000   \n",
       "max              2023-10-05 00:00:00    29.000000   351.733333  10552.000000   \n",
       "std                              NaN     4.650099    54.076010   1622.280304   \n",
       "\n",
       "       Edad del empleado        Hijos  \n",
       "count        1403.000000  1403.000000  \n",
       "mean           30.941554     1.132573  \n",
       "min            18.000000     0.000000  \n",
       "25%            24.000000     0.000000  \n",
       "50%            28.000000     1.000000  \n",
       "75%            36.000000     2.000000  \n",
       "max            67.000000     6.000000  \n",
       "std             9.734537     1.302182  "
      ]
     },
     "execution_count": 14,
     "metadata": {},
     "output_type": "execute_result"
    }
   ],
   "source": [
    "data_sucia.describe()"
   ]
  },
  {
   "cell_type": "code",
   "execution_count": 15,
   "metadata": {},
   "outputs": [
    {
     "data": {
      "text/plain": [
       "Index(['Posición', 'Area', 'Á.liq.', 'Grupo de personal', 'CODIGO POSTAL',\n",
       "       'Motivo de la RENUNCIA', 'Banda', 'Baja', 'ReglaPHT', 'Alta', 'Años',\n",
       "       'Meses', 'Antigüedad', 'Clave de sexo', 'Lugar de nacimiento',\n",
       "       'Nacionalidad', 'Edad del empleado',\n",
       "       '¿Cuanto tiempo tiene viviendo en Cd. Juarez?', 'Estado Civil',\n",
       "       'Hijos'],\n",
       "      dtype='object')"
      ]
     },
     "execution_count": 15,
     "metadata": {},
     "output_type": "execute_result"
    }
   ],
   "source": [
    "data_sucia.columns"
   ]
  },
  {
   "cell_type": "code",
   "execution_count": 16,
   "metadata": {},
   "outputs": [
    {
     "name": "stdout",
     "output_type": "stream",
     "text": [
      "Posición 0\n",
      "Area 0\n",
      "Á.liq. 0\n",
      "Grupo de personal 0\n",
      "CODIGO POSTAL 0\n",
      "Motivo de la RENUNCIA 0\n",
      "Banda 1\n",
      "Baja 0\n",
      "ReglaPHT 0\n",
      "Alta 0\n",
      "Años 0\n",
      "Meses 0\n",
      "Antigüedad 0\n",
      "Clave de sexo 0\n",
      "Lugar de nacimiento 2\n",
      "Nacionalidad 0\n",
      "Edad del empleado 0\n",
      "¿Cuanto tiempo tiene viviendo en Cd. Juarez? 786\n",
      "Estado Civil 10\n",
      "Hijos 0\n"
     ]
    }
   ],
   "source": [
    "columns = [\n",
    "    'Posición', 'Area', 'Á.liq.', 'Grupo de personal', 'CODIGO POSTAL',\n",
    "    'Motivo de la RENUNCIA', 'Banda', 'Baja', 'ReglaPHT', 'Alta',\n",
    "    'Años', 'Meses', 'Antigüedad', 'Clave de sexo', 'Lugar de nacimiento',\n",
    "    'Nacionalidad', 'Edad del empleado', '¿Cuanto tiempo tiene viviendo en Cd. Juarez?',\n",
    "    'Estado Civil', 'Hijos'\n",
    "]\n",
    "\n",
    "for column in columns:\n",
    "    print(column, data_sucia[column].isna().sum())\n",
    "\n",
    "# Dejando de lado la columna de vivir en juarez, tenemos un total de 13 NA's\n",
    "# Podemos eliminar las filas de la columna de BANDA y la de LUGAR DE NACIMIENTO\n",
    "# La columna de ESTADO CIVIL la podemos cambiar a soltero\n",
    "# En cambio, la columna de juarez podemos cambiar todos esos NA's por \"no he vivido en CD.JUAREZ\""
   ]
  },
  {
   "cell_type": "markdown",
   "metadata": {},
   "source": [
    "# One-hot para Clave de sexo"
   ]
  },
  {
   "cell_type": "code",
   "execution_count": 17,
   "metadata": {},
   "outputs": [],
   "source": [
    "#Usamos One-hot para cambiar la columna del sexo\n",
    "data_limpia = pd.get_dummies(data_sucia,columns=['Clave de sexo'],dtype=int)"
   ]
  },
  {
   "cell_type": "markdown",
   "metadata": {},
   "source": [
    "# Agrupación para la columna de cuanto tiempo viviendo en Cd. Juarez"
   ]
  },
  {
   "cell_type": "code",
   "execution_count": 18,
   "metadata": {},
   "outputs": [],
   "source": [
    "#Esta tecnica tambien se puede usar para la columna de cuantos años has vivido en juarez, pero primero\n",
    "#hay que cambiar los NA's por 0, porque si es NA's es porque no ha vivido en Juarez\n",
    "#Primero cambiamos los NA's por 0\n",
    "data_sucia['¿Cuanto tiempo tiene viviendo en Cd. Juarez?'].fillna('Never', inplace=True)\n",
    "data_sucia['¿Cuanto tiempo tiene viviendo en Cd. Juarez?'].unique()\n",
    "\n",
    "#Para poder limpiar lo de los años voy a agruparlos en una cantidad fija, ya que hay valores como 2 y esa clase de valores\n",
    "#puede ir contenidos en 1-3, esto se ve en la celda anterior\n",
    "def categorize_years(value):\n",
    "    if value in ['91-180 Days', '61-90 Days']:\n",
    "        return '1 - Years'\n",
    "    elif value in ['1-2 Years', '2-3 Years','1-2 Years ']:\n",
    "        return '1 - 3 Years'\n",
    "    elif value in ['3-4 Years', '4-5 Years',4,5]:\n",
    "        return '3 - 5 Years'\n",
    "    elif value in ['5-6 Years', '6-7 Years', '6 Years',7]:\n",
    "        return '5 - 7 Years'\n",
    "    elif value in ['7-8 Years', '8-9 Years', '9-10 Years', '10 years', '10+ Years',10]:\n",
    "        return '7 - 10 Years'\n",
    "    elif value in ['26 years','25 years',21,19,16,25]:\n",
    "        return '10 + Years'\n",
    "    else: \n",
    "        return value\n",
    "\n",
    "data_sucia['¿Cuanto tiempo tiene viviendo en Cd. Juarez?'] = data_sucia['¿Cuanto tiempo tiene viviendo en Cd. Juarez?'].apply(categorize_years)\n",
    "\n"
   ]
  },
  {
   "cell_type": "code",
   "execution_count": 19,
   "metadata": {},
   "outputs": [],
   "source": [
    "#Considero que esto es lo mejor ya que la entrada de datos puede ser mejor para el modelo\n",
    "#data_limpia = pd.get_dummies(data_sucia,columns=['¿Cuanto tiempo tiene viviendo en Cd. Juarez?'],dtype=int)\n",
    "#data.head()"
   ]
  },
  {
   "cell_type": "markdown",
   "metadata": {},
   "source": [
    "# Quitams los '-' y '/' de Motivo de la RENUNCIA"
   ]
  },
  {
   "cell_type": "code",
   "execution_count": 20,
   "metadata": {},
   "outputs": [],
   "source": [
    "data_limpia['Motivo de la RENUNCIA'] = data_sucia['Motivo de la RENUNCIA'].replace(to_replace='[-/]', value=' ', regex=True)"
   ]
  },
  {
   "cell_type": "markdown",
   "metadata": {},
   "source": [
    "# Limpieza de Columna de Estado Civil"
   ]
  },
  {
   "cell_type": "code",
   "execution_count": 21,
   "metadata": {},
   "outputs": [],
   "source": [
    "#Ahora tenemos que cambiar el los NA's de estado civil por soltero, esto no se si sea lo correcto, pero\n",
    "#a lo mejor le da pena decir que es soltero no se \n",
    "data_limpia['Estado Civil'].fillna('solter', inplace=True)\n",
    "data_limpia['Estado Civil'].unique()\n",
    "\n",
    "\n",
    "def categorize_civil(value):\n",
    "    if value in ['solter','Solter','viud.']:\n",
    "        return 'Solter'\n",
    "    elif value in ['casad.','Casad.','Concu.','U.Libr']:\n",
    "        return 'Casad'\n",
    "    elif value in ['Divorc','Sep.','divorc']:\n",
    "        return 'Separ'\n",
    "    else:\n",
    "        return value\n",
    "\n",
    "data_limpia['Estado Civil'] = data_limpia['Estado Civil'].apply(categorize_civil)"
   ]
  },
  {
   "cell_type": "markdown",
   "metadata": {},
   "source": [
    "# Limpieza de la columna de Lugar de Nacimiento"
   ]
  },
  {
   "cell_type": "code",
   "execution_count": 22,
   "metadata": {},
   "outputs": [
    {
     "ename": "SyntaxError",
     "evalue": "unterminated string literal (detected at line 7) (1452427747.py, line 7)",
     "output_type": "error",
     "traceback": [
      "\u001b[0;36m  Cell \u001b[0;32mIn[22], line 7\u001b[0;36m\u001b[0m\n\u001b[0;31m    data_limpia['Lugar de nacimiento'] = data_sucia['Lugar de nacimiento'].replace(['ACOAHUILA],'COAHUILA DE ZARAGOZA','EJISO NUEVO BENAVIDES','MATAMOROS COAH.','TORREON','VIESCA','SCoahuila')\u001b[0m\n\u001b[0m                                                                                                                                                                                              ^\u001b[0m\n\u001b[0;31mSyntaxError\u001b[0m\u001b[0;31m:\u001b[0m unterminated string literal (detected at line 7)\n"
     ]
    }
   ],
   "source": [
    "# Limpia los datos de la columna Lugar de nacimiento a el nombre del estado de nacimiento. \n",
    "data_limpia['Lugar de nacimiento'] = data_sucia['Lugar de nacimiento'].replace(['AZTECA CIUDAD JUAREZ','CAMARGO','CD JUAREZ','CD JUAREZ CHIH','CD. JUAREZ'],'Chihuahua')\n",
    "data_limpia['Lugar de nacimiento'] = data_sucia['Lugar de nacimiento'].replace(['CD. GOMEZ PALACIO','GENERAL SIMON BOLIVAR','GOMEZ PALACIO', 'LERDO','DURANGO','PEÑON BLANCO','POBLADO EL LUCERO','SAN DIMAS','TLAHUALILO DE ZARAGOZA'],'Durango')\n",
    "data_limpia['Lugar de nacimiento'] = data_sucia['Lugar de nacimiento'].replace(['AGUASCALIENTES'],'Aguascalientes')\n",
    "data_limpia['Lugar de nacimiento'] = data_sucia['Lugar de nacimiento'].replace(['AHOME','CULIACAN'],'Sinaloa')\n",
    "data_limpia['Lugar de nacimiento'] = data_sucia['Lugar de nacimiento'].replace(['ANGEL R CABADA','COATZACOALCOS','CORDOBA','CORDOVA','COSAMALOAPAN','LAS MERCEDES','MARTINEZ DE LA TORRE','MINATITLAN','MOLOACAN','RAYA CARACOL','SAN ANDRES TUXTLA','TRES VALLES','VERACRUZ'],'Veracruz')\n",
    "data_limpia['Lugar de nacimiento'] = data_sucia['Lugar de nacimiento'].replace(['ACOAHUILA],'COAHUILA DE ZARAGOZA','EJISO NUEVO BENAVIDES','MATAMOROS COAH.','TORREON','VIESCA','SCoahuila')\n",
    "data_limpia['Lugar de nacimiento'] = data_sucia['Lugar de nacimiento'].replace(['A],'S)"
   ]
  },
  {
   "cell_type": "code",
   "execution_count": null,
   "metadata": {},
   "outputs": [],
   "source": [
    "data_limpia['Lugar de nacimiento'] = data_sucia['Lugar de nacimiento'].replace(['GUADALUPE ANALCO','PUEBLA'],'PUEBLA')\n",
    "data_limpia['Lugar de nacimiento'] = data_sucia['Lugar de nacimiento'].replace(['IXHUATAN','OAXACA','PASO DEL JOBO','SAN FRANCISCO DEL MAR','SAN JUAN BAUTISTA TUXTEPE','SAN LUCAS OJITLAN','TUXTEPEC'],'OAXACA')\n",
    "data_limpia['Lugar de nacimiento'] = data_sucia['Lugar de nacimiento'].replace(['MATAMOROS'],'TAMAUlIPAS')\n"
   ]
  },
  {
   "cell_type": "code",
   "execution_count": null,
   "metadata": {},
   "outputs": [],
   "source": []
  },
  {
   "cell_type": "markdown",
   "metadata": {},
   "source": [
    "# Ahora que ya tenemos la limpieza lista podemos eliminar todos los valores donde hay NA"
   ]
  },
  {
   "cell_type": "code",
   "execution_count": null,
   "metadata": {},
   "outputs": [],
   "source": [
    "data_limpia = data_limpia.dropna()"
   ]
  },
  {
   "cell_type": "markdown",
   "metadata": {},
   "source": [
    "# Comparaciones del tamaño de los dataset"
   ]
  },
  {
   "cell_type": "code",
   "execution_count": null,
   "metadata": {},
   "outputs": [
    {
     "name": "stdout",
     "output_type": "stream",
     "text": [
      "Original (1403, 20)\n",
      "Sucio (1403, 20)\n",
      "Limpio (1400, 35)\n"
     ]
    }
   ],
   "source": [
    "print('Original',data.shape)\n",
    "print('Sucio',data_sucia.shape)\n",
    "#El limpio tiene mas columnas debido al one-coding\n",
    "print('Limpio',data_limpia.shape)"
   ]
  },
  {
   "cell_type": "code",
   "execution_count": null,
   "metadata": {},
   "outputs": [],
   "source": [
    "# Ver las columnas\n",
    "data_limpia.head()"
   ]
  },
  {
   "cell_type": "code",
   "execution_count": null,
   "metadata": {},
   "outputs": [],
   "source": [
    "# Este comando cambiar el tipo de columnas, no se exactamente cuales y a que tipo por lo que dejo así el borrador\n",
    "#data_limpia[\"nombre_columna\"] = data_sucia[\"nombre_columna\"].astype(int)"
   ]
  },
  {
   "cell_type": "markdown",
   "metadata": {},
   "source": [
    "## Gráfica cantidad de Hijos"
   ]
  },
  {
   "cell_type": "code",
   "execution_count": null,
   "metadata": {},
   "outputs": [
    {
     "data": {
      "image/png": "[encoded data removed]",
      "text/plain": [
       "<Figure size 640x480 with 1 Axes>"
      ]
     },
     "metadata": {},
     "output_type": "display_data"
    }
   ],
   "source": [
    "#Graficas de la cantidad de hijos\n",
    "num_hijos = data_limpia['Hijos'].value_counts()\n",
    "num_hijos = num_hijos.sort_index()\n",
    "plt.bar(num_hijos.index,num_hijos.values)\n",
    "plt.xlabel(\"Número de hijos\")\n",
    "plt.ylabel(\"Cantidad\")\n",
    "plt.title(\"Distribución de la cantidad de hijos\")\n",
    "plt.xticks(num_hijos.index)\n",
    "plt.show()"
   ]
  },
  {
   "cell_type": "markdown",
   "metadata": {},
   "source": [
    "## Gráfica Estado Civil"
   ]
  },
  {
   "cell_type": "code",
   "execution_count": null,
   "metadata": {},
   "outputs": [
    {
     "data": {
      "image/png": "[encoded data removed]",
      "text/plain": [
       "<Figure size 640x480 with 1 Axes>"
      ]
     },
     "metadata": {},
     "output_type": "display_data"
    }
   ],
   "source": [
    "#Graficas del estado civil del trabajador\n",
    "num_est_civil = data_limpia['Estado Civil'].value_counts()\n",
    "num_est_civil = num_est_civil.sort_index()\n",
    "plt.bar(num_est_civil.index,num_est_civil.values)\n",
    "plt.xlabel(\"Estado civil\")\n",
    "plt.ylabel(\"Cantidad\")\n",
    "plt.title(\"Distribución del estado civil del trabajador\")\n",
    "plt.show()"
   ]
  },
  {
   "cell_type": "markdown",
   "metadata": {},
   "source": [
    "# Gráfica Motivo de RENUNCIA"
   ]
  },
  {
   "cell_type": "code",
   "execution_count": null,
   "metadata": {},
   "outputs": [
    {
     "data": {
      "text/plain": [
       "Motivo de la RENUNCIA\n",
       "Vol Otro empleo                     308\n",
       "Vol Transferencia entre planta      237\n",
       "Vol No regreso   no dio razón       218\n",
       "Vol Prob personales y o fam.        197\n",
       "Vol Insatisfacción personal          94\n",
       "Vol Cambio de domicilio              89\n",
       "Imp.Tra Ausentismos continuos        71\n",
       "Vol Estudios                         68\n",
       "Imp.Tra Jubilación                   33\n",
       "Vol Razones médicas                  28\n",
       "Imp.Tra LFT y o Reglamento int       12\n",
       "Imp.Tra LFT y o Reglamento Int.      12\n",
       "Imp.Pat Pensionado IMSS               8\n",
       "Imp.Pat Terminación del Contrato      6\n",
       "Imp.Tra Bajo desempeño                3\n",
       "Muerte Natural                        3\n",
       "Vol Maternidad                        3\n",
       "Imp.Pat Terminación del contra        2\n",
       "Imp.Tra Falsificación de docto        2\n",
       "Muerte Accidental                     2\n",
       "Imp.Tra Falsificación de doctos.      2\n",
       "Vol Matrimonio                        1\n",
       "Imp.Tra Uso de drogas y o bebi        1\n",
       "Vol Problemas con transporte          1\n",
       "Vol Ambiente de trabajo               1\n",
       "Imp.Pat Varios Jubilado               1\n",
       "Name: count, dtype: int64"
      ]
     },
     "execution_count": 269,
     "metadata": {},
     "output_type": "execute_result"
    }
   ],
   "source": [
    "data_limpia['Motivo de la RENUNCIA'].value_counts()"
   ]
  },
  {
   "cell_type": "markdown",
   "metadata": {},
   "source": [
    "# Renuncia (Guillermo)"
   ]
  },
  {
   "cell_type": "code",
   "execution_count": null,
   "metadata": {},
   "outputs": [
    {
     "data": {
      "text/plain": [
       "array(['Vol-Otro empleo', 'Vol-Estudios', 'Vol-Cambio de domicilio',\n",
       "       'Vol-Prob personales y/o fam.', 'Vol-No regreso / no dio razón',\n",
       "       'Vol-Insatisfacción personal', 'Vol-Transferencia entre planta',\n",
       "       'Imp.Tra-LFT y/o Reglamento int', 'Imp.Tra-Ausentismos continuos',\n",
       "       'Imp.Pat-Pensionado IMSS', 'Vol-Razones médicas',\n",
       "       'Imp.Tra-Jubilación', 'Vol-Ambiente de trabajo', 'Vol-Maternidad',\n",
       "       'Muerte Accidental', 'Imp.Pat-Terminación del contra',\n",
       "       'Imp.Tra-Bajo desempeño', 'Vol-Matrimonio', 'Muerte Natural',\n",
       "       'Imp.Tra-Falsificación de docto', 'Imp.Tra-Uso de drogas y/o bebi',\n",
       "       'Vol-Problemas con transporte', 'Imp.Tra-LFT y/o Reglamento Int.',\n",
       "       'Imp.Pat-Terminación del Contrato', 'Imp.Pat-Varios Jubilado',\n",
       "       'Imp.Tra-Falsificación de doctos.'], dtype=object)"
      ]
     },
     "execution_count": 245,
     "metadata": {},
     "output_type": "execute_result"
    }
   ],
   "source": [
    "data_sucia[\"Motivo de la RENUNCIA\"].unique()"
   ]
  },
  {
   "cell_type": "markdown",
   "metadata": {},
   "source": [
    "Target = VOL = RENUNCIA\n",
    "- Otro empleo\n",
    "- Estudios\n",
    "- NO regreso\n",
    "- ...\n",
    "- ..."
   ]
  },
  {
   "cell_type": "code",
   "execution_count": null,
   "metadata": {},
   "outputs": [
    {
     "data": {
      "text/plain": [
       "Motivo de la RENUNCIA\n",
       "Vol-Otro empleo                     308\n",
       "Vol-Transferencia entre planta      237\n",
       "Vol-No regreso / no dio razón       218\n",
       "Vol-Prob personales y/o fam.        197\n",
       "Vol-Insatisfacción personal          94\n",
       "Vol-Cambio de domicilio              89\n",
       "Imp.Tra-Ausentismos continuos        71\n",
       "Vol-Estudios                         68\n",
       "Imp.Tra-Jubilación                   33\n",
       "Vol-Razones médicas                  28\n",
       "Imp.Tra-LFT y/o Reglamento int       12\n",
       "Imp.Tra-LFT y/o Reglamento Int.      12\n",
       "Imp.Pat-Pensionado IMSS               8\n",
       "Imp.Pat-Terminación del Contrato      6\n",
       "Imp.Tra-Bajo desempeño                3\n",
       "Muerte Natural                        3\n",
       "Vol-Maternidad                        3\n",
       "Imp.Pat-Terminación del contra        2\n",
       "Imp.Tra-Falsificación de docto        2\n",
       "Muerte Accidental                     2\n",
       "Imp.Tra-Falsificación de doctos.      2\n",
       "Vol-Matrimonio                        1\n",
       "Imp.Tra-Uso de drogas y/o bebi        1\n",
       "Vol-Problemas con transporte          1\n",
       "Vol-Ambiente de trabajo               1\n",
       "Imp.Pat-Varios Jubilado               1\n",
       "Name: count, dtype: int64"
      ]
     },
     "execution_count": 246,
     "metadata": {},
     "output_type": "execute_result"
    }
   ],
   "source": [
    "data_sucia[\"Motivo de la RENUNCIA\"].value_counts()"
   ]
  },
  {
   "cell_type": "code",
   "execution_count": null,
   "metadata": {},
   "outputs": [
    {
     "name": "stdout",
     "output_type": "stream",
     "text": [
      "<class 'pandas.core.series.Series'>\n",
      "RangeIndex: 1403 entries, 0 to 1402\n",
      "Series name: CODIGO POSTAL\n",
      "Non-Null Count  Dtype\n",
      "--------------  -----\n",
      "1403 non-null   int64\n",
      "dtypes: int64(1)\n",
      "memory usage: 11.1 KB\n"
     ]
    }
   ],
   "source": [
    "data_sucia[\"CODIGO POSTAL\"].info()"
   ]
  },
  {
   "cell_type": "code",
   "execution_count": null,
   "metadata": {},
   "outputs": [
    {
     "data": {
      "text/plain": [
       "array([32520, 32217, 32600, 32575, 32674, 32690, 32576, 32540, 32584,\n",
       "       32599, 32433, 32696, 32570, 32598, 32150, 32665, 32695, 32410,\n",
       "       32587, 32697, 32594, 32543, 32583, 32160, 32545, 32100, 32546,\n",
       "       32563, 32667, 32580, 32240, 32618, 32590, 32573, 32424, 32675,\n",
       "       32380, 32350, 32500, 32200, 32472, 32668, 32660, 32585, 32553,\n",
       "        3720, 32664, 32107, 32574, 32654, 32699, 32551, 32510, 32422,\n",
       "       32659, 32389, 32340, 32698, 32471, 32130, 27000, 32548, 32560,\n",
       "       32400, 32550, 32469, 32215, 32720, 32310, 32586, 32190, 32552,\n",
       "       32539, 50180, 32676, 32250, 32617, 32448, 32425, 32610, 32170,\n",
       "       32110, 32680, 32220, 32230, 32606, 32536, 45086, 32912, 32742,\n",
       "       32616, 32722, 32210, 32360, 32687, 32140, 32379, 32330, 32702,\n",
       "       32538, 32670, 32740, 32264, 32577, 75116, 32662, 32320, 32650,\n",
       "       32300, 32605, 23575, 32450, 32652, 32050, 32647, 32280, 32403,\n",
       "        3259, 32180, 32750, 32408, 32060, 32423, 32159, 32677],\n",
       "      dtype=int64)"
      ]
     },
     "execution_count": 263,
     "metadata": {},
     "output_type": "execute_result"
    }
   ],
   "source": [
    "data_sucia[\"CODIGO POSTAL\"].unique()"
   ]
  },
  {
   "cell_type": "markdown",
   "metadata": {},
   "source": [
    "## Comentario: \n",
    "\n",
    "Para el punto 4 del desafío, proponogo plotear una gráfica (podrían ser dos) que relacione el código póstal (podría ser ubicación actual) con el motivo de RENUNCIA Vol-"
   ]
  },
  {
   "cell_type": "markdown",
   "metadata": {},
   "source": [
    "----\n",
    "** Area de Victor para creacion de base de datos **"
   ]
  },
  {
   "cell_type": "code",
   "execution_count": null,
   "metadata": {},
   "outputs": [
    {
     "ename": "ModuleNotFoundError",
     "evalue": "No module named 'mysql'",
     "output_type": "error",
     "traceback": [
      "\u001b[1;31m---------------------------------------------------------------------------\u001b[0m",
      "\u001b[1;31mModuleNotFoundError\u001b[0m                       Traceback (most recent call last)",
      "\u001b[1;32mc:\\Users\\L2001\\Documents\\Dathaton\\Proyecto_Datathon_Equipo_5_Luis.ipynb Cell 39\u001b[0m line \u001b[0;36m2\n\u001b[0;32m      <a href='vscode-notebook-cell:/c%3A/Users/L2001/Documents/Dathaton/Proyecto_Datathon_Equipo_5_Luis.ipynb#X62sZmlsZQ%3D%3D?line=0'>1</a>\u001b[0m \u001b[39m# Importar libreria para trabajar con mysql\u001b[39;00m\n\u001b[1;32m----> <a href='vscode-notebook-cell:/c%3A/Users/L2001/Documents/Dathaton/Proyecto_Datathon_Equipo_5_Luis.ipynb#X62sZmlsZQ%3D%3D?line=1'>2</a>\u001b[0m \u001b[39mimport\u001b[39;00m \u001b[39mmysql\u001b[39;00m\u001b[39m.\u001b[39;00m\u001b[39mconnector\u001b[39;00m\n\u001b[0;32m      <a href='vscode-notebook-cell:/c%3A/Users/L2001/Documents/Dathaton/Proyecto_Datathon_Equipo_5_Luis.ipynb#X62sZmlsZQ%3D%3D?line=5'>6</a>\u001b[0m \u001b[39m# Hacer un mapeo de los datos necesarios para conectarse\u001b[39;00m\n\u001b[0;32m      <a href='vscode-notebook-cell:/c%3A/Users/L2001/Documents/Dathaton/Proyecto_Datathon_Equipo_5_Luis.ipynb#X62sZmlsZQ%3D%3D?line=6'>7</a>\u001b[0m config \u001b[39m=\u001b[39m {\n\u001b[0;32m      <a href='vscode-notebook-cell:/c%3A/Users/L2001/Documents/Dathaton/Proyecto_Datathon_Equipo_5_Luis.ipynb#X62sZmlsZQ%3D%3D?line=7'>8</a>\u001b[0m     \u001b[39m'\u001b[39m\u001b[39muser\u001b[39m\u001b[39m'\u001b[39m: \u001b[39m'\u001b[39m\u001b[39mdatathonequipo5\u001b[39m\u001b[39m'\u001b[39m,\n\u001b[0;32m      <a href='vscode-notebook-cell:/c%3A/Users/L2001/Documents/Dathaton/Proyecto_Datathon_Equipo_5_Luis.ipynb#X62sZmlsZQ%3D%3D?line=8'>9</a>\u001b[0m     \u001b[39m'\u001b[39m\u001b[39mpassword\u001b[39m\u001b[39m'\u001b[39m: \u001b[39m'\u001b[39m\u001b[39mCodedSpiritDev05\u001b[39m\u001b[39m'\u001b[39m,\n\u001b[1;32m   (...)\u001b[0m\n\u001b[0;32m     <a href='vscode-notebook-cell:/c%3A/Users/L2001/Documents/Dathaton/Proyecto_Datathon_Equipo_5_Luis.ipynb#X62sZmlsZQ%3D%3D?line=11'>12</a>\u001b[0m     \u001b[39m'\u001b[39m\u001b[39mRaise_on_warnings\u001b[39m\u001b[39m'\u001b[39m: \u001b[39mTrue\u001b[39;00m\n\u001b[0;32m     <a href='vscode-notebook-cell:/c%3A/Users/L2001/Documents/Dathaton/Proyecto_Datathon_Equipo_5_Luis.ipynb#X62sZmlsZQ%3D%3D?line=12'>13</a>\u001b[0m }\n",
      "\u001b[1;31mModuleNotFoundError\u001b[0m: No module named 'mysql'"
     ]
    }
   ],
   "source": [
    "# Importar libreria para trabajar con mysql\n",
    "import mysql.connector\n",
    "\n",
    "\n",
    "\n",
    "# Hacer un mapeo de los datos necesarios para conectarse\n",
    "config = {\n",
    "    'user': 'datathonequipo5',\n",
    "    'password': 'CodedSpiritDev05',\n",
    "    'host': 'datathon.mysql.database.azure.com',\n",
    "    'database': 'datathon',\n",
    "    'Raise_on_warnings': True\n",
    "}\n",
    "\n",
    "# Conectarse a la base de datos\n",
    "cnx = mysql.connector.connect(**config)\n",
    "\n",
    "# Verificar la conexión\n",
    "cnx.is_connected()\n",
    "\n",
    "\n",
    "\n"
   ]
  }
 ],
 "metadata": {
  "kernelspec": {
   "display_name": "Python 3",
   "language": "python",
   "name": "python3"
  },
  "language_info": {
   "codemirror_mode": {
    "name": "ipython",
    "version": 3
   },
   "file_extension": ".py",
   "mimetype": "text/x-python",
   "name": "python",
   "nbconvert_exporter": "python",
   "pygments_lexer": "ipython3",
   "version": "3.10.13"
  }
 },
 "nbformat": 4,
 "nbformat_minor": 2
}
