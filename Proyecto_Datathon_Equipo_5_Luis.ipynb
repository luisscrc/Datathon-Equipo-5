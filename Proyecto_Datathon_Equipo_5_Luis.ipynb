{
 "cells": [
  {
   "cell_type": "code",
   "execution_count": null,
   "metadata": {},
   "outputs": [],
   "source": [
    "# Convertir todo a mayúsculas y eliminar espacios al principio y al final\n",
    "data_sucia['Motivo de la RENUNCIA'] = data_sucia['Motivo de la RENUNCIA'].str.upper().str.strip()\n",
    "\n",
    "# Unificar categorías que son esencialmente las mismas\n",
    "reemplazos_motivos = {\n",
    "    'IMP.TRA-LFT Y/O REGLAMENTO INT.': 'IMP.TRA-LFT Y/O REGLAMENTO INTERNO',\n",
    "    'IMP.TRA-LFT Y/O REGLAMENTO INT': 'IMP.TRA-LFT Y/O REGLAMENTO INTERNO',\n",
    "    'IMP.PAT-TERMINACIÓN DEL CONTRATO': 'IMP.PAT-TERMINACIÓN DEL CONTRATO',\n",
    "    'IMP.PAT-TERMINACIÓN DEL CONTRA': 'IMP.PAT-TERMINACIÓN DEL CONTRATO',\n",
    "    'IMP.TRA-FALSIFICACIÓN DE DOCTOS.': 'IMP.TRA-FALSIFICACIÓN DE DOCUMENTOS',\n",
    "    'IMP.TRA-FALSIFICACIÓN DE DOCTO': 'IMP.TRA-FALSIFICACIÓN DE DOCUMENTOS'\n",
    "    # Agrega aquí cualquier otro reemplazo necesario\n",
    "}\n",
    "\n",
    "# Utilizar .loc para asegurar que estamos modificando el DataFrame original\n",
    "data_sucia.loc[:, 'Motivo de la RENUNCIA'] = data_sucia['Motivo de la RENUNCIA'].replace(reemplazos_motivos)\n",
    "\n",
    "# Contar de nuevo los valores\n",
    "data_sucia['Motivo de la RENUNCIA'].value_counts()\n"
   ]
  },
  {
   "cell_type": "code",
   "execution_count": null,
   "metadata": {},
   "outputs": [],
   "source": [
    "data_sucia[\"CODIGO POSTAL\"].info()"
   ]
  },
  {
   "cell_type": "code",
   "execution_count": null,
   "metadata": {},
   "outputs": [],
   "source": [
    "data_sucia[\"CODIGO POSTAL\"].unique()"
   ]
  },
  {
   "cell_type": "code",
   "execution_count": null,
   "metadata": {},
   "outputs": [],
   "source": [
    "data_sucia[data_sucia[\"CODIGO POSTAL\"] == 3720] # Corresponde "
   ]
  },
  {
   "cell_type": "code",
   "execution_count": null,
   "metadata": {},
   "outputs": [],
   "source": [
    "data_sucia[data_sucia[\"CODIGO POSTAL\"] == 3259] # Corresponde "
   ]
  },
  {
   "cell_type": "code",
   "execution_count": null,
   "metadata": {},
   "outputs": [],
   "source": [
    "data_sucia.info()\n",
    "\n"
   ]
  },
  {
   "cell_type": "code",
   "execution_count": null,
   "metadata": {},
   "outputs": [],
   "source": [
    "total_time = time.time() - start_time\n",
    "print(f\"Tiempo total de ejecución: {total_time} segundos\")\n",
    "data_sucia"
   ]
  },
  {
   "cell_type": "code",
   "execution_count": null,
   "metadata": {},
   "outputs": [],
   "source": [
    "import time\n",
    "start_time = time.time()"
   ]
  },
  {
   "cell_type": "code",
   "execution_count": null,
   "metadata": {},
   "outputs": [],
   "source": [
    "import numpy as np\n",
    "\n",
    "import matplotlib.pyplot as plt\n",
    "import sklearn\n",
    "%load_ext cudf.pandas\n",
    "# pandas API is now GPU accelerated\n",
    "\n",
    "import pandas as pd"
   ]
  },
  {
   "cell_type": "code",
   "execution_count": null,
   "metadata": {},
   "outputs": [],
   "source": [
    "#Cargamos los datos\n",
    "! pip install openpyxl\n",
    "data = pd.read_excel('data/bosch_aic_datathon.xlsx')"
   ]
  },
  {
   "cell_type": "code",
   "execution_count": null,
   "metadata": {},
   "outputs": [],
   "source": [
    "# Exploramos los tipos de datos\n",
    "type(data)"
   ]
  },
  {
   "cell_type": "code",
   "execution_count": null,
   "metadata": {},
   "outputs": [],
   "source": [
    "#hacemos una copia de los datos\n",
    "data_sucia=data"
   ]
  },
  {
   "cell_type": "code",
   "execution_count": null,
   "metadata": {},
   "outputs": [],
   "source": [
    "#Previsualizamos los datos\n",
    "data_sucia.head()"
   ]
  },
  {
   "cell_type": "code",
   "execution_count": null,
   "metadata": {},
   "outputs": [],
   "source": [
    "data_sucia.shape"
   ]
  },
  {
   "cell_type": "code",
   "execution_count": null,
   "metadata": {},
   "outputs": [],
   "source": [
    "data_sucia.info()\n",
    "#Podemos ver que la mayoría de los datos son objetos \n",
    "#hay unos que son enteros, por lo que unos si será necesario cambiarlos \n",
    "#La columna de alta y baja son fechas de tiempo ese si corresponde"
   ]
  },
  {
   "cell_type": "code",
   "execution_count": null,
   "metadata": {},
   "outputs": [],
   "source": [
    "\"\"\"# Crear un diccionario que mapee los nombres de las columnas a 'category'\n",
    "columnas_a_categorizar = [\n",
    "    'Posición', 'Estado Civil', 'Lugar de nacimiento', \n",
    "    'Clave de sexo', 'Motivo de la RENUNCIA', 'Banda', \n",
    "    'CODIGO POSTAL', 'Grupo de personal'\n",
    "]\n",
    "\n",
    "tipo_columnas = {columna: 'category' for columna in columnas_a_categorizar}\n",
    "\n",
    "# Aplicar 'categorical' a las columnas especificadas en data_sucia\n",
    "data_sucia = data_sucia.astype(tipo_columnas)\n",
    "\n",
    "# Ver actualizado\n",
    "data_sucia.info()\"\"\""
   ]
  },
  {
   "cell_type": "code",
   "execution_count": null,
   "metadata": {},
   "outputs": [],
   "source": [
    "data_sucia.describe()"
   ]
  },
  {
   "cell_type": "code",
   "execution_count": null,
   "metadata": {},
   "outputs": [],
   "source": [
    "data_sucia.columns"
   ]
  },
  {
   "cell_type": "code",
   "execution_count": null,
   "metadata": {},
   "outputs": [],
   "source": [
    "columns = [\n",
    "    'Posición', 'Area', 'Á.liq.', 'Grupo de personal', 'CODIGO POSTAL',\n",
    "    'Motivo de la RENUNCIA', 'Banda', 'Baja', 'ReglaPHT', 'Alta',\n",
    "    'Años', 'Meses', 'Antigüedad', 'Clave de sexo', 'Lugar de nacimiento',\n",
    "    'Nacionalidad', 'Edad del empleado', '¿Cuanto tiempo tiene viviendo en Cd. Juarez?',\n",
    "    'Estado Civil', 'Hijos'\n",
    "]\n",
    "\n",
    "for column in columns:\n",
    "    print(column, data_sucia[column].isna().sum())\n",
    "\n",
    "# Dejando de lado la columna de vivir en juarez, tenemos un total de 13 NA's\n",
    "# Podemos eliminar las filas de la columna de BANDA y la de LUGAR DE NACIMIENTO\n",
    "# La columna de ESTADO CIVIL la podemos cambiar a soltero\n",
    "# En cambio, la columna de juarez podemos cambiar todos esos NA's por \"no he vivido en CD.JUAREZ\""
   ]
  },
  {
   "cell_type": "markdown",
   "metadata": {},
   "source": [
    "# One-hot para Clave de sexo"
   ]
  },
  {
   "cell_type": "code",
   "execution_count": null,
   "metadata": {},
   "outputs": [],
   "source": [
    "# Usamos One-hot Encoding para la columna de estado civil"
   ]
  },
  {
   "cell_type": "markdown",
   "metadata": {},
   "source": [
    "# Agrupación para la columna de cuanto tiempo viviendo en Cd. Juarez"
   ]
  },
  {
   "cell_type": "code",
   "execution_count": null,
   "metadata": {},
   "outputs": [],
   "source": [
    "# Esta tecnica tambien se puede usar para la columna de cuantos años has vivido en juarez, pero primero\n",
    "# hay que cambiar los NA's por 0, porque si es NA's es porque no ha vivido en Juarez\n",
    "# Primero cambiamos los NA's por 0\n",
    "data_sucia['¿Cuanto tiempo tiene viviendo en Cd. Juarez?'].fillna('Never', inplace=True)\n",
    "\n",
    "# Para poder limpiar lo de los años voy a agruparlos en una cantidad fija, ya que hay valores como 2 y esa clase de valores\n",
    "# puede ir contenidos en 1-3, esto se ve en la celda anterior\n",
    "# Definir la función para categorizar los años\n",
    "def categorize_years(value):\n",
    "    if value in ['91-180 Days', '61-90 Days']:\n",
    "        return '1 - Years'\n",
    "    elif value in ['1-2 Years', '2-3 Years', '1-2 Years ']:\n",
    "        return '1 - 3 Years'\n",
    "    elif value in ['3-4 Years', '4-5 Years', '4', '5']:\n",
    "        return '3 - 5 Years'\n",
    "    elif value in ['5-6 Years', '6-7 Years', '6 Years', '7']:\n",
    "        return '5 - 7 Years'\n",
    "    elif value in ['7-8 Years', '8-9 Years', '9-10 Years', '10 years', '10+ Years', '10']:\n",
    "        return '7 - 10 Years'\n",
    "    elif value in ['26 years', '25 years', '21', '19', '16', '25']:\n",
    "        return '10 + Years'\n",
    "    else: \n",
    "        return value\n",
    "\n",
    "# Aplicar la función de categorización\n",
    "data_sucia['¿Cuanto tiempo tiene viviendo en Cd. Juarez?'] = data_sucia['¿Cuanto tiempo tiene viviendo en Cd. Juarez?'].apply(categorize_years)\n",
    "data_sucia['¿Cuanto tiempo tiene viviendo en Cd. Juarez?'] = data_sucia['¿Cuanto tiempo tiene viviendo en Cd. Juarez?'].apply(categorize_years)\n",
    "\n",
    "# Hacer plot de la columna de años\n",
    "data_sucia['¿Cuanto tiempo tiene viviendo en Cd. Juarez?'].value_counts().plot(kind='pie')\n"
   ]
  },
  {
   "cell_type": "markdown",
   "metadata": {},
   "source": [
    "# Quitams los '-' y '/' de Motivo de la RENUNCIA"
   ]
  },
  {
   "cell_type": "code",
   "execution_count": null,
   "metadata": {},
   "outputs": [],
   "source": [
    "# Reemplazar 'y/o' por 'o'\n",
    "df['Columna'] = df['Columna'].replace(to_replace='y/o', value='o', regex=True)\n",
    "# reemplazar '-' y '/' por ' '\n",
    "data_sucia['Motivo de la RENUNCIA'].replace(to_replace='[-/]', value=' ', regex=True)"
   ]
  },
  {
   "cell_type": "markdown",
   "metadata": {},
   "source": [
    "# Limpieza de Columna de Estado Civil"
   ]
  },
  {
   "cell_type": "code",
   "execution_count": null,
   "metadata": {},
   "outputs": [],
   "source": [
    "#Ahora tenemos que cambiar el los NA's de estado civil por soltero, esto no se si sea lo correcto, pero\n",
    "#a lo mejor le da pena decir que es soltero no se \n",
    "data_sucia['Estado Civil'].fillna('solter', inplace=True)\n",
    "data_sucia['Estado Civil'].unique()\n",
    "\n",
    "\n",
    "def categorize_civil(value):\n",
    "    if value in ['solter','Solter','viud.']:\n",
    "        return 'SOLTERO'\n",
    "    elif value in ['casad.','Casad.','Concu.','U.Libr']:\n",
    "        return 'CASADO'\n",
    "    elif value in ['Divorc','Sep.','divorc']:\n",
    "        return 'SEPARADO'\n",
    "    elif value in ['Concu.','U.Libr']:\n",
    "        return 'UNION LIBRE'\n",
    "    else:\n",
    "        return value\n",
    "\n",
    "data_sucia['Estado Civil'] = data_sucia['Estado Civil'].apply(categorize_civil)"
   ]
  },
  {
   "cell_type": "markdown",
   "metadata": {},
   "source": [
    "# Limpieza de la columna de Lugar de Nacimiento"
   ]
  },
  {
   "cell_type": "code",
   "execution_count": null,
   "metadata": {},
   "outputs": [],
   "source": [
    "# Limpia los datos de la columna Lugar de nacimiento a el nombre del estado de nacimiento. \n",
    "# Limpia los datos de la columna Lugar de nacimiento a el nombre del estado de nacimiento. \n",
    "# Diccionario de reemplazos\n",
    "reemplazos = {\n",
    "    'Chihuahua': ['AZTECA CIUDAD JUAREZ', 'CAMARGO', 'CD JUAREZ', 'CD JUAREZ CHIH', 'CD. JUAREZ'],\n",
    "    'Durango': ['CD. GOMEZ PALACIO', 'GENERAL SIMON BOLIVAR', 'GOMEZ PALACIO', 'LERDO', 'DURANGO', 'PEÑON BLANCO', 'POBLADO EL LUCERO', 'SAN DIMAS', 'TLAHUALILO DE ZARAGOZA'],\n",
    "    'Aguascalientes': ['AGUASCALIENTES'],\n",
    "    'Sinaloa': ['AHOME', 'CULIACAN'],\n",
    "    'Veracruz': ['ANGEL R CABADA', 'COATZACOALCOS', 'CORDOBA', 'CORDOVA', 'COSAMALOAPAN', 'LAS MERCEDES', 'MARTINEZ DE LA TORRE', 'MINATITLAN', 'MOLOACAN', 'RAYA CARACOL', 'SAN ANDRES TUXTLA', 'TRES VALLES', 'VERACRUZ'],\n",
    "    # Agrega el resto de tus reemplazos aquí\n",
    "}\n",
    "\n",
    "# Invertir el diccionario para mapear cada ciudad a su estado correspondiente\n",
    "reemplazos_invertidos = {ciudad: estado for estado, ciudades in reemplazos.items() for ciudad in ciudades}\n",
    "\n",
    "# Realizar los reemplazos\n",
    "data_sucia['Lugar de nacimiento'] = data_sucia['Lugar de nacimiento'].replace(reemplazos_invertidos)\n",
    "\n",
    "# Ver resultados de los reemplazos usando aleatoriedad\n",
    "data_sucia['Lugar de nacimiento'].sample(10)"
   ]
  },
  {
   "cell_type": "code",
   "execution_count": null,
   "metadata": {},
   "outputs": [],
   "source": [
    "# Diccionario para la nueva celda de reemplazos\n",
    "reemplazos_nueva_celda = {\n",
    "    'PUEBLA': ['GUADALUPE ANALCO', 'PUEBLA'],\n",
    "    'OAXACA': ['IXHUATAN', 'OAXACA', 'PASO DEL JOBO', 'SAN FRANCISCO DEL MAR', 'SAN JUAN BAUTISTA TUXTEPE', 'SAN LUCAS OJITLAN', 'TUXTEPEC'],\n",
    "    'TAMAULIPAS': ['MATAMOROS']\n",
    "}\n",
    "\n",
    "# Invertir el diccionario para mapear cada ciudad a su estado correspondiente\n",
    "reemplazos_invertidos_nueva_celda = {ciudad: estado for estado, ciudades in reemplazos_nueva_celda.items() for ciudad in ciudades}\n",
    "\n",
    "# Realizar los reemplazos\n",
    "data_sucia['Lugar de nacimiento'] = data_sucia['Lugar de nacimiento'].replace(reemplazos_invertidos_nueva_celda)\n"
   ]
  },
  {
   "cell_type": "markdown",
   "metadata": {},
   "source": [
    "# Ahora que ya tenemos la limpieza lista podemos eliminar todos los valores donde hay NA"
   ]
  },
  {
   "cell_type": "code",
   "execution_count": null,
   "metadata": {},
   "outputs": [],
   "source": [
    "data_sucia = data_sucia.dropna()"
   ]
  },
  {
   "cell_type": "markdown",
   "metadata": {},
   "source": [
    "# Comparaciones del tamaño de los dataset"
   ]
  },
  {
   "cell_type": "code",
   "execution_count": null,
   "metadata": {},
   "outputs": [],
   "source": [
    "# Ver las columnas\n",
    "data_sucia.sample(10)"
   ]
  },
  {
   "cell_type": "code",
   "execution_count": null,
   "metadata": {},
   "outputs": [],
   "source": [
    "# Este comando cambiar el tipo de columnas, no se exactamente cuales y a que tipo por lo que dejo así el borrador\n",
    "#data_limpia[\"nombre_columna\"] = data_sucia[\"nombre_columna\"].astype(int)"
   ]
  },
  {
   "cell_type": "markdown",
   "metadata": {},
   "source": [
    "## Gráfica cantidad de Hijos"
   ]
  },
  {
   "cell_type": "code",
   "execution_count": null,
   "metadata": {},
   "outputs": [],
   "source": [
    "#Graficas de la cantidad de hijos\n",
    "num_hijos = data_sucia['Hijos'].value_counts()\n",
    "num_hijos = num_hijos.sort_index()\n",
    "plt.bar(num_hijos.index,num_hijos.values)\n",
    "plt.xlabel(\"Número de hijos\")\n",
    "plt.ylabel(\"Cantidad\")\n",
    "plt.title(\"Distribución de la cantidad de hijos\")\n",
    "plt.xticks(num_hijos.index)\n",
    "plt.show()"
   ]
  },
  {
   "cell_type": "markdown",
   "metadata": {},
   "source": [
    "## Gráfica Estado Civil"
   ]
  },
  {
   "cell_type": "code",
   "execution_count": null,
   "metadata": {},
   "outputs": [],
   "source": [
    "#Graficas del estado civil del trabajador\n",
    "num_est_civil = data_sucia['Estado Civil'].value_counts()\n",
    "num_est_civil = num_est_civil.sort_index()\n",
    "plt.bar(num_est_civil.index,num_est_civil.values)\n",
    "plt.xlabel(\"Estado civil\")\n",
    "plt.ylabel(\"Cantidad\")\n",
    "plt.title(\"Distribución del estado civil del trabajador\")\n",
    "plt.show()"
   ]
  },
  {
   "cell_type": "markdown",
   "metadata": {},
   "source": [
    "# Gráfica Motivo de RENUNCIA"
   ]
  },
  {
   "cell_type": "code",
   "execution_count": null,
   "metadata": {},
   "outputs": [],
   "source": [
    "data_sucia['Motivo de la RENUNCIA'].value_counts()"
   ]
  },
  {
   "cell_type": "markdown",
   "metadata": {},
   "source": [
    "# Renuncia (Guillermo)"
   ]
  },
  {
   "cell_type": "markdown",
   "metadata": {},
   "source": [
    "Target = VOL = RENUNCIA\n",
    "- Otro empleo\n",
    "- Estudios\n",
    "- NO regreso\n",
    "- ...\n",
    "- ..."
   ]
  },
  {
   "cell_type": "markdown",
   "metadata": {},
   "source": [
    "## Comentario: \n",
    "\n",
    "Para el punto 4 del desafío, proponogo plotear una gráfica (podrían ser dos) que relacione el código póstal (podría ser ubicación actual) con el motivo de RENUNCIA Vol-Insatisfacción personal"
   ]
  },
  {
   "cell_type": "markdown",
   "metadata": {},
   "source": [
    "----\n",
    "** Area de Victor para creacion de base de datos **"
   ]
  },
  {
   "cell_type": "code",
   "execution_count": null,
   "metadata": {},
   "outputs": [],
   "source": [
    "# Importar libreria para trabajar con mysql\n",
    "#! pip install mysql-connector-python\n",
    "import mysql.connector\n",
    "\n",
    "\n",
    "\n",
    "# Hacer un mapeo de los datos necesarios para conectarse\n",
    "config = {\n",
    "    'user': 'datathonequipo5',\n",
    "    'password': 'CodedSpiritDev05',\n",
    "    'host': 'datathon.mysql.database.azure.com',\n",
    "    'database': 'datathon'\n",
    "}\n",
    "\n",
    "# Conectarse a la base de datos\n",
    "cnx = mysql.connector.connect(**config)\n",
    "\n",
    "# Verificar la conexión\n",
    "cnx.is_connected()\n",
    "\n"
   ]
  },
  {
   "cell_type": "markdown",
   "metadata": {},
   "source": [
    "----\n",
    "**Carga de librerías**"
   ]
  },
  {
   "cell_type": "code",
   "execution_count": null,
   "metadata": {},
   "outputs": [],
   "source": [
    "# Convertir todo a mayúsculas y eliminar espacios al principio y al final\n",
    "data_sucia['Motivo de la RENUNCIA'] = data_sucia['Motivo de la RENUNCIA'].str.upper().str.strip()\n",
    "\n",
    "# Unificar categorías que son esencialmente las mismas\n",
    "reemplazos_motivos = {\n",
    "    'IMP.TRA-LFT Y/O REGLAMENTO INT.': 'IMP.TRA-LFT Y/O REGLAMENTO INTERNO',\n",
    "    'IMP.TRA-LFT Y/O REGLAMENTO INT': 'IMP.TRA-LFT Y/O REGLAMENTO INTERNO',\n",
    "    'IMP.PAT-TERMINACIÓN DEL CONTRATO': 'IMP.PAT-TERMINACIÓN DEL CONTRATO',\n",
    "    'IMP.PAT-TERMINACIÓN DEL CONTRA': 'IMP.PAT-TERMINACIÓN DEL CONTRATO',\n",
    "    'IMP.TRA-FALSIFICACIÓN DE DOCTOS.': 'IMP.TRA-FALSIFICACIÓN DE DOCUMENTOS',\n",
    "    'IMP.TRA-FALSIFICACIÓN DE DOCTO': 'IMP.TRA-FALSIFICACIÓN DE DOCUMENTOS'\n",
    "    # Agrega aquí cualquier otro reemplazo necesario\n",
    "}\n",
    "\n",
    "# Utilizar .loc para asegurar que estamos modificando el DataFrame original\n",
    "data_sucia.loc[:, 'Motivo de la RENUNCIA'] = data_sucia['Motivo de la RENUNCIA'].replace(reemplazos_motivos)\n",
    "\n",
    "# Contar de nuevo los valores\n",
    "data_sucia['Motivo de la RENUNCIA'].value_counts()\n"
   ]
  },
  {
   "cell_type": "code",
   "execution_count": null,
   "metadata": {},
   "outputs": [],
   "source": [
    "data_sucia[\"CODIGO POSTAL\"].unique()"
   ]
  },
  {
   "cell_type": "code",
   "execution_count": null,
   "metadata": {},
   "outputs": [],
   "source": [
    "data_sucia[data_sucia[\"CODIGO POSTAL\"] == 3259] # Corresponde "
   ]
  },
  {
   "cell_type": "code",
   "execution_count": null,
   "metadata": {},
   "outputs": [],
   "source": [
    "total_time = time.time() - start_time\n",
    "print(f\"Tiempo total de ejecución: {total_time} segundos\")\n",
    "data_sucia"
   ]
  },
  {
   "cell_type": "code",
   "execution_count": null,
   "metadata": {},
   "outputs": [],
   "source": [
    "import numpy as np\n",
    "\n",
    "import matplotlib.pyplot as plt\n",
    "import sklearn\n",
    "%load_ext cudf.pandas\n",
    "# pandas API is now GPU accelerated\n",
    "\n",
    "import pandas as pd"
   ]
  },
  {
   "cell_type": "code",
   "execution_count": null,
   "metadata": {},
   "outputs": [],
   "source": [
    "# Exploramos los tipos de datos\n",
    "type(data)"
   ]
  },
  {
   "cell_type": "code",
   "execution_count": null,
   "metadata": {},
   "outputs": [],
   "source": [
    "#Previsualizamos los datos\n",
    "data_sucia.head()"
   ]
  },
  {
   "cell_type": "code",
   "execution_count": null,
   "metadata": {},
   "outputs": [],
   "source": [
    "data_sucia.info()\n",
    "#Podemos ver que la mayoría de los datos son objetos \n",
    "#hay unos que son enteros, por lo que unos si será necesario cambiarlos \n",
    "#La columna de alta y baja son fechas de tiempo ese si corresponde"
   ]
  },
  {
   "cell_type": "code",
   "execution_count": null,
   "metadata": {},
   "outputs": [],
   "source": [
    "data_sucia.describe()"
   ]
  },
  {
   "cell_type": "code",
   "execution_count": null,
   "metadata": {},
   "outputs": [],
   "source": [
    "columns = [\n",
    "    'Posición', 'Area', 'Á.liq.', 'Grupo de personal', 'CODIGO POSTAL',\n",
    "    'Motivo de la RENUNCIA', 'Banda', 'Baja', 'ReglaPHT', 'Alta',\n",
    "    'Años', 'Meses', 'Antigüedad', 'Clave de sexo', 'Lugar de nacimiento',\n",
    "    'Nacionalidad', 'Edad del empleado', '¿Cuanto tiempo tiene viviendo en Cd. Juarez?',\n",
    "    'Estado Civil', 'Hijos'\n",
    "]\n",
    "\n",
    "for column in columns:\n",
    "    print(column, data_sucia[column].isna().sum())\n",
    "\n",
    "# Dejando de lado la columna de vivir en juarez, tenemos un total de 13 NA's\n",
    "# Podemos eliminar las filas de la columna de BANDA y la de LUGAR DE NACIMIENTO\n",
    "# La columna de ESTADO CIVIL la podemos cambiar a soltero\n",
    "# En cambio, la columna de juarez podemos cambiar todos esos NA's por \"no he vivido en CD.JUAREZ\""
   ]
  },
  {
   "cell_type": "code",
   "execution_count": null,
   "metadata": {},
   "outputs": [],
   "source": [
    "# Usamos One-hot Encoding para la columna de estado civil"
   ]
  },
  {
   "cell_type": "code",
   "execution_count": null,
   "metadata": {},
   "outputs": [],
   "source": [
    "# Esta tecnica tambien se puede usar para la columna de cuantos años has vivido en juarez, pero primero\n",
    "# hay que cambiar los NA's por 0, porque si es NA's es porque no ha vivido en Juarez\n",
    "# Primero cambiamos los NA's por 0\n",
    "data_sucia['¿Cuanto tiempo tiene viviendo en Cd. Juarez?'].fillna('Never', inplace=True)\n",
    "\n",
    "# Para poder limpiar lo de los años voy a agruparlos en una cantidad fija, ya que hay valores como 2 y esa clase de valores\n",
    "# puede ir contenidos en 1-3, esto se ve en la celda anterior\n",
    "# Definir la función para categorizar los años\n",
    "def categorize_years(value):\n",
    "    if value in ['91-180 Days', '61-90 Days']:\n",
    "        return '1 - Years'\n",
    "    elif value in ['1-2 Years', '2-3 Years', '1-2 Years ']:\n",
    "        return '1 - 3 Years'\n",
    "    elif value in ['3-4 Years', '4-5 Years', '4', '5']:\n",
    "        return '3 - 5 Years'\n",
    "    elif value in ['5-6 Years', '6-7 Years', '6 Years', '7']:\n",
    "        return '5 - 7 Years'\n",
    "    elif value in ['7-8 Years', '8-9 Years', '9-10 Years', '10 years', '10+ Years', '10']:\n",
    "        return '7 - 10 Years'\n",
    "    elif value in ['26 years', '25 years', '21', '19', '16', '25']:\n",
    "        return '10 + Years'\n",
    "    else: \n",
    "        return value\n",
    "\n",
    "# Aplicar la función de categorización\n",
    "data_sucia['¿Cuanto tiempo tiene viviendo en Cd. Juarez?'] = data_sucia['¿Cuanto tiempo tiene viviendo en Cd. Juarez?'].apply(categorize_years)\n",
    "data_sucia['¿Cuanto tiempo tiene viviendo en Cd. Juarez?'] = data_sucia['¿Cuanto tiempo tiene viviendo en Cd. Juarez?'].apply(categorize_years)\n",
    "\n",
    "# Hacer plot de la columna de años\n",
    "data_sucia['¿Cuanto tiempo tiene viviendo en Cd. Juarez?'].value_counts().plot(kind='pie')\n"
   ]
  },
  {
   "cell_type": "code",
   "execution_count": null,
   "metadata": {},
   "outputs": [],
   "source": [
    "# Reemplazar 'y/o' por 'o'\n",
    "df['Columna'] = df['Columna'].replace(to_replace='y/o', value='o', regex=True)\n",
    "# reemplazar '-' y '/' por ' '\n",
    "data_sucia['Motivo de la RENUNCIA'].replace(to_replace='[-/]', value=' ', regex=True)"
   ]
  },
  {
   "cell_type": "code",
   "execution_count": null,
   "metadata": {},
   "outputs": [],
   "source": [
    "#Ahora tenemos que cambiar el los NA's de estado civil por soltero, esto no se si sea lo correcto, pero\n",
    "#a lo mejor le da pena decir que es soltero no se \n",
    "data_sucia['Estado Civil'].fillna('solter', inplace=True)\n",
    "data_sucia['Estado Civil'].unique()\n",
    "\n",
    "\n",
    "def categorize_civil(value):\n",
    "    if value in ['solter','Solter','viud.']:\n",
    "        return 'SOLTERO'\n",
    "    elif value in ['casad.','Casad.','Concu.','U.Libr']:\n",
    "        return 'CASADO'\n",
    "    elif value in ['Divorc','Sep.','divorc']:\n",
    "        return 'SEPARADO'\n",
    "    elif value in ['Concu.','U.Libr']:\n",
    "        return 'UNION LIBRE'\n",
    "    else:\n",
    "        return value\n",
    "\n",
    "data_sucia['Estado Civil'] = data_sucia['Estado Civil'].apply(categorize_civil)"
   ]
  },
  {
   "cell_type": "code",
   "execution_count": null,
   "metadata": {},
   "outputs": [],
   "source": [
    "# Limpia los datos de la columna Lugar de nacimiento a el nombre del estado de nacimiento. \n",
    "# Limpia los datos de la columna Lugar de nacimiento a el nombre del estado de nacimiento. \n",
    "# Diccionario de reemplazos\n",
    "reemplazos = {\n",
    "    'Chihuahua': ['AZTECA CIUDAD JUAREZ', 'CAMARGO', 'CD JUAREZ', 'CD JUAREZ CHIH', 'CD. JUAREZ'],\n",
    "    'Durango': ['CD. GOMEZ PALACIO', 'GENERAL SIMON BOLIVAR', 'GOMEZ PALACIO', 'LERDO', 'DURANGO', 'PEÑON BLANCO', 'POBLADO EL LUCERO', 'SAN DIMAS', 'TLAHUALILO DE ZARAGOZA'],\n",
    "    'Aguascalientes': ['AGUASCALIENTES'],\n",
    "    'Sinaloa': ['AHOME', 'CULIACAN'],\n",
    "    'Veracruz': ['ANGEL R CABADA', 'COATZACOALCOS', 'CORDOBA', 'CORDOVA', 'COSAMALOAPAN', 'LAS MERCEDES', 'MARTINEZ DE LA TORRE', 'MINATITLAN', 'MOLOACAN', 'RAYA CARACOL', 'SAN ANDRES TUXTLA', 'TRES VALLES', 'VERACRUZ'],\n",
    "    # Agrega el resto de tus reemplazos aquí\n",
    "}\n",
    "\n",
    "# Invertir el diccionario para mapear cada ciudad a su estado correspondiente\n",
    "reemplazos_invertidos = {ciudad: estado for estado, ciudades in reemplazos.items() for ciudad in ciudades}\n",
    "\n",
    "# Realizar los reemplazos\n",
    "data_sucia['Lugar de nacimiento'] = data_sucia['Lugar de nacimiento'].replace(reemplazos_invertidos)\n",
    "\n",
    "# Ver resultados de los reemplazos usando aleatoriedad\n",
    "data_sucia['Lugar de nacimiento'].sample(10)"
   ]
  },
  {
   "cell_type": "markdown",
   "metadata": {},
   "source": [
    "# Ahora que ya tenemos la limpieza lista podemos eliminar todos los valores donde hay NA"
   ]
  },
  {
   "cell_type": "markdown",
   "metadata": {},
   "source": [
    "# Comparaciones del tamaño de los dataset"
   ]
  },
  {
   "cell_type": "code",
   "execution_count": null,
   "metadata": {},
   "outputs": [],
   "source": [
    "# Este comando cambiar el tipo de columnas, no se exactamente cuales y a que tipo por lo que dejo así el borrador\n",
    "#data_limpia[\"nombre_columna\"] = data_sucia[\"nombre_columna\"].astype(int)"
   ]
  },
  {
   "cell_type": "code",
   "execution_count": null,
   "metadata": {},
   "outputs": [],
   "source": [
    "#Graficas de la cantidad de hijos\n",
    "num_hijos = data_sucia['Hijos'].value_counts()\n",
    "num_hijos = num_hijos.sort_index()\n",
    "plt.bar(num_hijos.index,num_hijos.values)\n",
    "plt.xlabel(\"Número de hijos\")\n",
    "plt.ylabel(\"Cantidad\")\n",
    "plt.title(\"Distribución de la cantidad de hijos\")\n",
    "plt.xticks(num_hijos.index)\n",
    "plt.show()"
   ]
  },
  {
   "cell_type": "code",
   "execution_count": null,
   "metadata": {},
   "outputs": [],
   "source": [
    "#Graficas del estado civil del trabajador\n",
    "num_est_civil = data_sucia['Estado Civil'].value_counts()\n",
    "num_est_civil = num_est_civil.sort_index()\n",
    "plt.bar(num_est_civil.index,num_est_civil.values)\n",
    "plt.xlabel(\"Estado civil\")\n",
    "plt.ylabel(\"Cantidad\")\n",
    "plt.title(\"Distribución del estado civil del trabajador\")\n",
    "plt.show()"
   ]
  },
  {
   "cell_type": "code",
   "execution_count": null,
   "metadata": {},
   "outputs": [],
   "source": [
    "data_sucia['Motivo de la RENUNCIA'].value_counts()"
   ]
  },
  {
   "cell_type": "markdown",
   "metadata": {},
   "source": [
    "Target = VOL = RENUNCIA\n",
    "- Otro empleo\n",
    "- Estudios\n",
    "- NO regreso\n",
    "- ...\n",
    "- ..."
   ]
  },
  {
   "cell_type": "markdown",
   "metadata": {},
   "source": [
    "----\n",
    "** Area de Victor para creacion de base de datos **"
   ]
  }
 ],
 "metadata": {
  "kernelspec": {
   "display_name": "Python 3",
   "language": "python",
   "name": "python3"
  },
  "language_info": {
   "codemirror_mode": {
    "name": "ipython",
    "version": 3
   },
   "file_extension": ".py",
   "mimetype": "text/x-python",
   "name": "python",
   "nbconvert_exporter": "python",
   "pygments_lexer": "ipython3",
   "version": "3.10.13"
  }
 },
 "nbformat": 4,
 "nbformat_minor": 2
}
