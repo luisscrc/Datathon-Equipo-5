{
 "cells": [
  {
   "cell_type": "markdown",
   "metadata": {},
   "source": [
    "----\n",
    "**Carga de librerías**"
   ]
  },
  {
   "cell_type": "code",
   "execution_count": null,
   "metadata": {},
   "outputs": [],
   "source": [
    "# Convertir todo a mayúsculas y eliminar espacios al principio y al final\n",
    "data_sucia['Motivo de la RENUNCIA'] = data_sucia['Motivo de la RENUNCIA'].str.upper().str.strip()\n",
    "\n",
    "# Unificar categorías que son esencialmente las mismas\n",
    "reemplazos_motivos = {\n",
    "    'IMP.TRA-LFT Y/O REGLAMENTO INT.': 'IMP.TRA-LFT Y/O REGLAMENTO INTERNO',\n",
    "    'IMP.TRA-LFT Y/O REGLAMENTO INT': 'IMP.TRA-LFT Y/O REGLAMENTO INTERNO',\n",
    "    'IMP.PAT-TERMINACIÓN DEL CONTRATO': 'IMP.PAT-TERMINACIÓN DEL CONTRATO',\n",
    "    'IMP.PAT-TERMINACIÓN DEL CONTRA': 'IMP.PAT-TERMINACIÓN DEL CONTRATO',\n",
    "    'IMP.TRA-FALSIFICACIÓN DE DOCTOS.': 'IMP.TRA-FALSIFICACIÓN DE DOCUMENTOS',\n",
    "    'IMP.TRA-FALSIFICACIÓN DE DOCTO': 'IMP.TRA-FALSIFICACIÓN DE DOCUMENTOS'\n",
    "    # Agrega aquí cualquier otro reemplazo necesario\n",
    "}\n",
    "\n",
    "# Utilizar .loc para asegurar que estamos modificando el DataFrame original\n",
    "data_sucia.loc[:, 'Motivo de la RENUNCIA'] = data_sucia['Motivo de la RENUNCIA'].replace(reemplazos_motivos)\n",
    "\n",
    "# Contar de nuevo los valores\n",
    "data_sucia['Motivo de la RENUNCIA'].value_counts()\n"
   ]
  },
  {
   "cell_type": "code",
   "execution_count": null,
   "metadata": {},
   "outputs": [],
   "source": [
    "data_sucia[\"CODIGO POSTAL\"].info()"
   ]
  },
  {
   "cell_type": "code",
   "execution_count": null,
   "metadata": {},
   "outputs": [],
   "source": [
    "data_sucia[\"CODIGO POSTAL\"].unique()"
   ]
  },
  {
   "cell_type": "code",
   "execution_count": null,
   "metadata": {},
   "outputs": [],
   "source": [
    "data_sucia[data_sucia[\"CODIGO POSTAL\"] == 3720] # Corresponde "
   ]
  },
  {
   "cell_type": "code",
   "execution_count": null,
   "metadata": {},
   "outputs": [],
   "source": [
    "data_sucia[data_sucia[\"CODIGO POSTAL\"] == 3259] # Corresponde "
   ]
  },
  {
   "cell_type": "code",
   "execution_count": null,
   "metadata": {},
   "outputs": [],
   "source": [
    "data_sucia.info()\n",
    "\n"
   ]
  },
  {
   "cell_type": "code",
   "execution_count": null,
   "metadata": {},
   "outputs": [],
   "source": [
    "# Importar libreria para trabajar con mysql\n",
    "#! pip install mysql-connector-python\n",
    "import mysql.connector\n",
    "\n",
    "\n",
    "\n",
    "# Hacer un mapeo de los datos necesarios para conectarse\n",
    "config = {\n",
    "    'user': 'datathonequipo5',\n",
    "    'password': 'CodedSpiritDev05',\n",
    "    'host': 'datathon.mysql.database.azure.com',\n",
    "    'database': 'datathon'\n",
    "}\n",
    "\n",
    "# Conectarse a la base de datos\n",
    "cnx = mysql.connector.connect(**config)\n",
    "\n",
    "# Verificar la conexión\n",
    "cnx.is_connected()\n",
    "\n"
   ]
  },
  {
   "cell_type": "code",
   "execution_count": null,
   "metadata": {},
   "outputs": [],
   "source": [
    "total_time = time.time() - start_time\n",
    "print(f\"Tiempo total de ejecución: {total_time} segundos\")\n",
    "data_sucia"
   ]
  },
  {
   "cell_type": "code",
   "execution_count": 35,
   "metadata": {},
   "outputs": [],
   "source": [
    "import time\n",
    "start_time = time.time()"
   ]
  },
  {
   "cell_type": "code",
   "execution_count": 36,
   "metadata": {},
   "outputs": [
    {
     "name": "stdout",
     "output_type": "stream",
     "text": [
      "The cudf.pandas extension is already loaded. To reload it, use:\n",
      "  %reload_ext cudf.pandas\n"
     ]
    }
   ],
   "source": [
    "import numpy as np\n",
    "\n",
    "import matplotlib.pyplot as plt\n",
    "import sklearn\n",
    "%load_ext cudf.pandas\n",
    "# pandas API is now GPU accelerated\n",
    "\n",
    "import pandas as pd"
   ]
  },
  {
   "cell_type": "code",
   "execution_count": 37,
   "metadata": {},
   "outputs": [
    {
     "name": "stdout",
     "output_type": "stream",
     "text": [
      "Requirement already satisfied: openpyxl in /home/codedspirit/anaconda3/envs/rapids-23.10/lib/python3.10/site-packages (3.1.2)\n",
      "Requirement already satisfied: et-xmlfile in /home/codedspirit/anaconda3/envs/rapids-23.10/lib/python3.10/site-packages (from openpyxl) (1.1.0)\n"
     ]
    }
   ],
   "source": [
    "#Cargamos los datos\n",
    "! pip install openpyxl\n",
    "data = pd.read_excel('data/bosch_aic_datathon.xlsx')"
   ]
  },
  {
   "cell_type": "code",
   "execution_count": 38,
   "metadata": {},
   "outputs": [
    {
     "data": {
      "text/plain": [
       "pandas.core.frame.DataFrame"
      ]
     },
     "execution_count": 38,
     "metadata": {},
     "output_type": "execute_result"
    }
   ],
   "source": [
    "# Exploramos los tipos de datos\n",
    "type(data)"
   ]
  },
  {
   "cell_type": "code",
   "execution_count": 39,
   "metadata": {},
   "outputs": [],
   "source": [
    "#hacemos una copia de los datos\n",
    "data_sucia=data"
   ]
  },
  {
   "cell_type": "code",
   "execution_count": 40,
   "metadata": {},
   "outputs": [
    {
     "data": {
      "text/html": [
       "<div>\n",
       "<style scoped>\n",
       "    .dataframe tbody tr th:only-of-type {\n",
       "        vertical-align: middle;\n",
       "    }\n",
       "\n",
       "    .dataframe tbody tr th {\n",
       "        vertical-align: top;\n",
       "    }\n",
       "\n",
       "    .dataframe thead th {\n",
       "        text-align: right;\n",
       "    }\n",
       "</style>\n",
       "<table border=\"1\" class=\"dataframe\">\n",
       "  <thead>\n",
       "    <tr style=\"text-align: right;\">\n",
       "      <th></th>\n",
       "      <th>Posición</th>\n",
       "      <th>Area</th>\n",
       "      <th>Á.liq.</th>\n",
       "      <th>Grupo de personal</th>\n",
       "      <th>CODIGO POSTAL</th>\n",
       "      <th>Motivo de la RENUNCIA</th>\n",
       "      <th>Banda</th>\n",
       "      <th>Baja</th>\n",
       "      <th>ReglaPHT</th>\n",
       "      <th>Alta</th>\n",
       "      <th>Años</th>\n",
       "      <th>Meses</th>\n",
       "      <th>Antigüedad</th>\n",
       "      <th>Clave de sexo</th>\n",
       "      <th>Lugar de nacimiento</th>\n",
       "      <th>Nacionalidad</th>\n",
       "      <th>Edad del empleado</th>\n",
       "      <th>¿Cuanto tiempo tiene viviendo en Cd. Juarez?</th>\n",
       "      <th>Estado Civil</th>\n",
       "      <th>Hijos</th>\n",
       "    </tr>\n",
       "  </thead>\n",
       "  <tbody>\n",
       "    <tr>\n",
       "      <th>0</th>\n",
       "      <td>POS514</td>\n",
       "      <td>LOG</td>\n",
       "      <td>S6</td>\n",
       "      <td>Exempt</td>\n",
       "      <td>32520</td>\n",
       "      <td>Vol-Otro empleo</td>\n",
       "      <td>E3</td>\n",
       "      <td>2023-01-02</td>\n",
       "      <td>ADMINIST</td>\n",
       "      <td>2018-06-21</td>\n",
       "      <td>5</td>\n",
       "      <td>55.200000</td>\n",
       "      <td>1656</td>\n",
       "      <td>Femenino</td>\n",
       "      <td>JUAREZ</td>\n",
       "      <td>Mexican</td>\n",
       "      <td>31</td>\n",
       "      <td>None</td>\n",
       "      <td>solter</td>\n",
       "      <td>0</td>\n",
       "    </tr>\n",
       "    <tr>\n",
       "      <th>1</th>\n",
       "      <td>POS1745</td>\n",
       "      <td>MFS</td>\n",
       "      <td>S5</td>\n",
       "      <td>Direct</td>\n",
       "      <td>32217</td>\n",
       "      <td>Vol-Otro empleo</td>\n",
       "      <td>DNO</td>\n",
       "      <td>2023-01-03</td>\n",
       "      <td>ADMINIST</td>\n",
       "      <td>2017-07-20</td>\n",
       "      <td>6</td>\n",
       "      <td>66.433333</td>\n",
       "      <td>1993</td>\n",
       "      <td>Masculino</td>\n",
       "      <td>DURANGO</td>\n",
       "      <td>Mexican</td>\n",
       "      <td>25</td>\n",
       "      <td>10+ Years</td>\n",
       "      <td>solter</td>\n",
       "      <td>0</td>\n",
       "    </tr>\n",
       "    <tr>\n",
       "      <th>2</th>\n",
       "      <td>POS1230</td>\n",
       "      <td>VS7</td>\n",
       "      <td>S5</td>\n",
       "      <td>Direct</td>\n",
       "      <td>32600</td>\n",
       "      <td>Vol-Otro empleo</td>\n",
       "      <td>DNO</td>\n",
       "      <td>2023-01-03</td>\n",
       "      <td>JT012324</td>\n",
       "      <td>2019-08-29</td>\n",
       "      <td>4</td>\n",
       "      <td>40.766667</td>\n",
       "      <td>1223</td>\n",
       "      <td>Masculino</td>\n",
       "      <td>JUAREZ</td>\n",
       "      <td>Mexican</td>\n",
       "      <td>23</td>\n",
       "      <td>10+ Years</td>\n",
       "      <td>solter</td>\n",
       "      <td>0</td>\n",
       "    </tr>\n",
       "    <tr>\n",
       "      <th>3</th>\n",
       "      <td>POS1661</td>\n",
       "      <td>MFS</td>\n",
       "      <td>S5</td>\n",
       "      <td>Direct</td>\n",
       "      <td>32575</td>\n",
       "      <td>Vol-Estudios</td>\n",
       "      <td>DO</td>\n",
       "      <td>2023-01-03</td>\n",
       "      <td>JT012324</td>\n",
       "      <td>2022-11-03</td>\n",
       "      <td>1</td>\n",
       "      <td>2.033333</td>\n",
       "      <td>61</td>\n",
       "      <td>Femenino</td>\n",
       "      <td>CIUDAD JUAREZ</td>\n",
       "      <td>Mexican</td>\n",
       "      <td>18</td>\n",
       "      <td>10+ Years</td>\n",
       "      <td>solter</td>\n",
       "      <td>0</td>\n",
       "    </tr>\n",
       "    <tr>\n",
       "      <th>4</th>\n",
       "      <td>POS1921</td>\n",
       "      <td>MFS</td>\n",
       "      <td>S5</td>\n",
       "      <td>Direct</td>\n",
       "      <td>32575</td>\n",
       "      <td>Vol-Cambio de domicilio</td>\n",
       "      <td>DO</td>\n",
       "      <td>2023-01-03</td>\n",
       "      <td>JT012324</td>\n",
       "      <td>2017-03-02</td>\n",
       "      <td>6</td>\n",
       "      <td>71.100000</td>\n",
       "      <td>2133</td>\n",
       "      <td>Masculino</td>\n",
       "      <td>JUAREZ</td>\n",
       "      <td>Mexican</td>\n",
       "      <td>26</td>\n",
       "      <td>10+ Years</td>\n",
       "      <td>solter</td>\n",
       "      <td>0</td>\n",
       "    </tr>\n",
       "  </tbody>\n",
       "</table>\n",
       "</div>"
      ],
      "text/plain": [
       "  Posición Area Á.liq. Grupo de personal  CODIGO POSTAL  \\\n",
       "0   POS514  LOG     S6            Exempt          32520   \n",
       "1  POS1745  MFS     S5            Direct          32217   \n",
       "2  POS1230  VS7     S5            Direct          32600   \n",
       "3  POS1661  MFS     S5            Direct          32575   \n",
       "4  POS1921  MFS     S5            Direct          32575   \n",
       "\n",
       "     Motivo de la RENUNCIA Banda       Baja  ReglaPHT       Alta  Años  \\\n",
       "0          Vol-Otro empleo    E3 2023-01-02  ADMINIST 2018-06-21     5   \n",
       "1          Vol-Otro empleo   DNO 2023-01-03  ADMINIST 2017-07-20     6   \n",
       "2          Vol-Otro empleo   DNO 2023-01-03  JT012324 2019-08-29     4   \n",
       "3             Vol-Estudios    DO 2023-01-03  JT012324 2022-11-03     1   \n",
       "4  Vol-Cambio de domicilio    DO 2023-01-03  JT012324 2017-03-02     6   \n",
       "\n",
       "       Meses  Antigüedad Clave de sexo Lugar de nacimiento Nacionalidad  \\\n",
       "0  55.200000        1656      Femenino              JUAREZ      Mexican   \n",
       "1  66.433333        1993     Masculino             DURANGO      Mexican   \n",
       "2  40.766667        1223     Masculino              JUAREZ      Mexican   \n",
       "3   2.033333          61      Femenino       CIUDAD JUAREZ      Mexican   \n",
       "4  71.100000        2133     Masculino              JUAREZ      Mexican   \n",
       "\n",
       "   Edad del empleado ¿Cuanto tiempo tiene viviendo en Cd. Juarez?  \\\n",
       "0                 31                                         <NA>   \n",
       "1                 25                                    10+ Years   \n",
       "2                 23                                    10+ Years   \n",
       "3                 18                                    10+ Years   \n",
       "4                 26                                    10+ Years   \n",
       "\n",
       "  Estado Civil  Hijos  \n",
       "0       solter      0  \n",
       "1       solter      0  \n",
       "2       solter      0  \n",
       "3       solter      0  \n",
       "4       solter      0  "
      ]
     },
     "execution_count": 40,
     "metadata": {},
     "output_type": "execute_result"
    }
   ],
   "source": [
    "#Previsualizamos los datos\n",
    "data_sucia.head()"
   ]
  },
  {
   "cell_type": "code",
   "execution_count": 41,
   "metadata": {},
   "outputs": [
    {
     "data": {
      "text/plain": [
       "(1403, 20)"
      ]
     },
     "execution_count": 41,
     "metadata": {},
     "output_type": "execute_result"
    }
   ],
   "source": [
    "data_sucia.shape"
   ]
  },
  {
   "cell_type": "code",
   "execution_count": 42,
   "metadata": {},
   "outputs": [
    {
     "name": "stdout",
     "output_type": "stream",
     "text": [
      "<class 'pandas.core.frame.DataFrame'>\n",
      "RangeIndex: 1403 entries, 0 to 1402\n",
      "Data columns (total 20 columns):\n",
      " #   Column                                        Non-Null Count  Dtype         \n",
      "---  ------                                        --------------  -----         \n",
      " 0   Posición                                      1403 non-null   object        \n",
      " 1   Area                                          1403 non-null   object        \n",
      " 2   Á.liq.                                        1403 non-null   object        \n",
      " 3   Grupo de personal                             1403 non-null   object        \n",
      " 4   CODIGO POSTAL                                 1403 non-null   int64         \n",
      " 5   Motivo de la RENUNCIA                         1403 non-null   object        \n",
      " 6   Banda                                         1402 non-null   object        \n",
      " 7   Baja                                          1403 non-null   datetime64[ns]\n",
      " 8   ReglaPHT                                      1403 non-null   object        \n",
      " 9   Alta                                          1403 non-null   datetime64[ns]\n",
      " 10  Años                                          1403 non-null   int64         \n",
      " 11  Meses                                         1403 non-null   float64       \n",
      " 12  Antigüedad                                    1403 non-null   int64         \n",
      " 13  Clave de sexo                                 1403 non-null   object        \n",
      " 14  Lugar de nacimiento                           1401 non-null   object        \n",
      " 15  Nacionalidad                                  1403 non-null   object        \n",
      " 16  Edad del empleado                             1403 non-null   int64         \n",
      " 17  ¿Cuanto tiempo tiene viviendo en Cd. Juarez?  617 non-null    object        \n",
      " 18  Estado Civil                                  1393 non-null   object        \n",
      " 19  Hijos                                         1403 non-null   int64         \n",
      "dtypes: datetime64[ns](2), float64(1), int64(5), object(12)\n",
      "memory usage: 219.3+ KB\n"
     ]
    }
   ],
   "source": [
    "data_sucia.info()\n",
    "#Podemos ver que la mayoría de los datos son objetos \n",
    "#hay unos que son enteros, por lo que unos si será necesario cambiarlos \n",
    "#La columna de alta y baja son fechas de tiempo ese si corresponde"
   ]
  },
  {
   "cell_type": "code",
   "execution_count": 43,
   "metadata": {},
   "outputs": [
    {
     "data": {
      "text/plain": [
       "\"# Crear un diccionario que mapee los nombres de las columnas a 'category'\\ncolumnas_a_categorizar = [\\n    'Posición', 'Estado Civil', 'Lugar de nacimiento', \\n    'Clave de sexo', 'Motivo de la RENUNCIA', 'Banda', \\n    'CODIGO POSTAL', 'Grupo de personal'\\n]\\n\\ntipo_columnas = {columna: 'category' for columna in columnas_a_categorizar}\\n\\n# Aplicar 'categorical' a las columnas especificadas en data_sucia\\ndata_sucia = data_sucia.astype(tipo_columnas)\\n\\n# Ver actualizado\\ndata_sucia.info()\""
      ]
     },
     "execution_count": 43,
     "metadata": {},
     "output_type": "execute_result"
    }
   ],
   "source": [
    "\"\"\"# Crear un diccionario que mapee los nombres de las columnas a 'category'\n",
    "columnas_a_categorizar = [\n",
    "    'Posición', 'Estado Civil', 'Lugar de nacimiento', \n",
    "    'Clave de sexo', 'Motivo de la RENUNCIA', 'Banda', \n",
    "    'CODIGO POSTAL', 'Grupo de personal'\n",
    "]\n",
    "\n",
    "tipo_columnas = {columna: 'category' for columna in columnas_a_categorizar}\n",
    "\n",
    "# Aplicar 'categorical' a las columnas especificadas en data_sucia\n",
    "data_sucia = data_sucia.astype(tipo_columnas)\n",
    "\n",
    "# Ver actualizado\n",
    "data_sucia.info()\"\"\""
   ]
  },
  {
   "cell_type": "code",
   "execution_count": 44,
   "metadata": {},
   "outputs": [
    {
     "data": {
      "text/html": [
       "<div>\n",
       "<style scoped>\n",
       "    .dataframe tbody tr th:only-of-type {\n",
       "        vertical-align: middle;\n",
       "    }\n",
       "\n",
       "    .dataframe tbody tr th {\n",
       "        vertical-align: top;\n",
       "    }\n",
       "\n",
       "    .dataframe thead th {\n",
       "        text-align: right;\n",
       "    }\n",
       "</style>\n",
       "<table border=\"1\" class=\"dataframe\">\n",
       "  <thead>\n",
       "    <tr style=\"text-align: right;\">\n",
       "      <th></th>\n",
       "      <th>CODIGO POSTAL</th>\n",
       "      <th>Años</th>\n",
       "      <th>Meses</th>\n",
       "      <th>Antigüedad</th>\n",
       "      <th>Edad del empleado</th>\n",
       "      <th>Hijos</th>\n",
       "    </tr>\n",
       "  </thead>\n",
       "  <tbody>\n",
       "    <tr>\n",
       "      <th>count</th>\n",
       "      <td>1403.000000</td>\n",
       "      <td>1403.000000</td>\n",
       "      <td>1403.000000</td>\n",
       "      <td>1403.000000</td>\n",
       "      <td>1403.000000</td>\n",
       "      <td>1403.000000</td>\n",
       "    </tr>\n",
       "    <tr>\n",
       "      <th>mean</th>\n",
       "      <td>32550.890948</td>\n",
       "      <td>4.192445</td>\n",
       "      <td>48.848373</td>\n",
       "      <td>1465.451176</td>\n",
       "      <td>30.941554</td>\n",
       "      <td>1.132573</td>\n",
       "    </tr>\n",
       "    <tr>\n",
       "      <th>std</th>\n",
       "      <td>1740.667827</td>\n",
       "      <td>4.650099</td>\n",
       "      <td>54.076010</td>\n",
       "      <td>1622.280304</td>\n",
       "      <td>9.734537</td>\n",
       "      <td>1.302182</td>\n",
       "    </tr>\n",
       "    <tr>\n",
       "      <th>min</th>\n",
       "      <td>3259.000000</td>\n",
       "      <td>0.000000</td>\n",
       "      <td>0.166667</td>\n",
       "      <td>5.000000</td>\n",
       "      <td>18.000000</td>\n",
       "      <td>0.000000</td>\n",
       "    </tr>\n",
       "    <tr>\n",
       "      <th>25%</th>\n",
       "      <td>32575.000000</td>\n",
       "      <td>1.000000</td>\n",
       "      <td>5.766667</td>\n",
       "      <td>173.000000</td>\n",
       "      <td>24.000000</td>\n",
       "      <td>0.000000</td>\n",
       "    </tr>\n",
       "    <tr>\n",
       "      <th>50%</th>\n",
       "      <td>32575.000000</td>\n",
       "      <td>3.000000</td>\n",
       "      <td>32.600000</td>\n",
       "      <td>978.000000</td>\n",
       "      <td>28.000000</td>\n",
       "      <td>1.000000</td>\n",
       "    </tr>\n",
       "    <tr>\n",
       "      <th>75%</th>\n",
       "      <td>32599.000000</td>\n",
       "      <td>6.000000</td>\n",
       "      <td>71.100000</td>\n",
       "      <td>2133.000000</td>\n",
       "      <td>36.000000</td>\n",
       "      <td>2.000000</td>\n",
       "    </tr>\n",
       "    <tr>\n",
       "      <th>max</th>\n",
       "      <td>75116.000000</td>\n",
       "      <td>29.000000</td>\n",
       "      <td>351.733333</td>\n",
       "      <td>10552.000000</td>\n",
       "      <td>67.000000</td>\n",
       "      <td>6.000000</td>\n",
       "    </tr>\n",
       "  </tbody>\n",
       "</table>\n",
       "</div>"
      ],
      "text/plain": [
       "       CODIGO POSTAL         Años        Meses    Antigüedad  \\\n",
       "count    1403.000000  1403.000000  1403.000000   1403.000000   \n",
       "mean    32550.890948     4.192445    48.848373   1465.451176   \n",
       "std      1740.667827     4.650099    54.076010   1622.280304   \n",
       "min      3259.000000     0.000000     0.166667      5.000000   \n",
       "25%     32575.000000     1.000000     5.766667    173.000000   \n",
       "50%     32575.000000     3.000000    32.600000    978.000000   \n",
       "75%     32599.000000     6.000000    71.100000   2133.000000   \n",
       "max     75116.000000    29.000000   351.733333  10552.000000   \n",
       "\n",
       "       Edad del empleado        Hijos  \n",
       "count        1403.000000  1403.000000  \n",
       "mean           30.941554     1.132573  \n",
       "std             9.734537     1.302182  \n",
       "min            18.000000     0.000000  \n",
       "25%            24.000000     0.000000  \n",
       "50%            28.000000     1.000000  \n",
       "75%            36.000000     2.000000  \n",
       "max            67.000000     6.000000  "
      ]
     },
     "execution_count": 44,
     "metadata": {},
     "output_type": "execute_result"
    }
   ],
   "source": [
    "data_sucia.describe()"
   ]
  },
  {
   "cell_type": "code",
   "execution_count": 45,
   "metadata": {},
   "outputs": [
    {
     "data": {
      "text/plain": [
       "StringIndex(['Posición' 'Area' 'Á.liq.' 'Grupo de personal' 'CODIGO POSTAL'\n",
       " 'Motivo de la RENUNCIA' 'Banda' 'Baja' 'ReglaPHT' 'Alta' 'Años' 'Meses'\n",
       " 'Antigüedad' 'Clave de sexo' 'Lugar de nacimiento' 'Nacionalidad'\n",
       " 'Edad del empleado' '¿Cuanto tiempo tiene viviendo en Cd. Juarez?'\n",
       " 'Estado Civil' 'Hijos'], dtype='object')"
      ]
     },
     "execution_count": 45,
     "metadata": {},
     "output_type": "execute_result"
    }
   ],
   "source": [
    "data_sucia.columns"
   ]
  },
  {
   "cell_type": "code",
   "execution_count": 46,
   "metadata": {},
   "outputs": [
    {
     "name": "stdout",
     "output_type": "stream",
     "text": [
      "Posición 0\n",
      "Area 0\n",
      "Á.liq. 0\n",
      "Grupo de personal 0\n",
      "CODIGO POSTAL 0\n",
      "Motivo de la RENUNCIA 0\n",
      "Banda 1\n",
      "Baja 0\n",
      "ReglaPHT 0\n",
      "Alta 0\n",
      "Años 0\n",
      "Meses 0\n",
      "Antigüedad 0\n",
      "Clave de sexo 0\n",
      "Lugar de nacimiento 2\n",
      "Nacionalidad 0\n",
      "Edad del empleado 0\n",
      "¿Cuanto tiempo tiene viviendo en Cd. Juarez? 786\n",
      "Estado Civil 10\n",
      "Hijos 0\n"
     ]
    }
   ],
   "source": [
    "columns = [\n",
    "    'Posición', 'Area', 'Á.liq.', 'Grupo de personal', 'CODIGO POSTAL',\n",
    "    'Motivo de la RENUNCIA', 'Banda', 'Baja', 'ReglaPHT', 'Alta',\n",
    "    'Años', 'Meses', 'Antigüedad', 'Clave de sexo', 'Lugar de nacimiento',\n",
    "    'Nacionalidad', 'Edad del empleado', '¿Cuanto tiempo tiene viviendo en Cd. Juarez?',\n",
    "    'Estado Civil', 'Hijos'\n",
    "]\n",
    "\n",
    "for column in columns:\n",
    "    print(column, data_sucia[column].isna().sum())\n",
    "\n",
    "# Dejando de lado la columna de vivir en juarez, tenemos un total de 13 NA's\n",
    "# Podemos eliminar las filas de la columna de BANDA y la de LUGAR DE NACIMIENTO\n",
    "# La columna de ESTADO CIVIL la podemos cambiar a soltero\n",
    "# En cambio, la columna de juarez podemos cambiar todos esos NA's por \"no he vivido en CD.JUAREZ\""
   ]
  },
  {
   "cell_type": "markdown",
   "metadata": {},
   "source": [
    "# One-hot para Clave de sexo"
   ]
  },
  {
   "cell_type": "code",
   "execution_count": 47,
   "metadata": {},
   "outputs": [],
   "source": [
    "# Usamos One-hot Encoding para la columna de estado civil"
   ]
  },
  {
   "cell_type": "markdown",
   "metadata": {},
   "source": [
    "# Agrupación para la columna de cuanto tiempo viviendo en Cd. Juarez"
   ]
  },
  {
   "cell_type": "code",
   "execution_count": 48,
   "metadata": {},
   "outputs": [
    {
     "data": {
      "text/plain": [
       "<Axes: ylabel='¿Cuanto tiempo tiene viviendo en Cd. Juarez?'>"
      ]
     },
     "execution_count": 48,
     "metadata": {},
     "output_type": "execute_result"
    },
    {
     "data": {
      "image/png": "[encoded data removed]",
      "text/plain": [
       "<Figure size 640x480 with 1 Axes>"
      ]
     },
     "metadata": {},
     "output_type": "display_data"
    }
   ],
   "source": [
    "# Esta tecnica tambien se puede usar para la columna de cuantos años has vivido en juarez, pero primero\n",
    "# hay que cambiar los NA's por 0, porque si es NA's es porque no ha vivido en Juarez\n",
    "# Primero cambiamos los NA's por 0\n",
    "data_sucia['¿Cuanto tiempo tiene viviendo en Cd. Juarez?'].fillna('Never', inplace=True)\n",
    "\n",
    "# Para poder limpiar lo de los años voy a agruparlos en una cantidad fija, ya que hay valores como 2 y esa clase de valores\n",
    "# puede ir contenidos en 1-3, esto se ve en la celda anterior\n",
    "# Definir la función para categorizar los años\n",
    "def categorize_years(value):\n",
    "    if value in ['91-180 Days', '61-90 Days']:\n",
    "        return '1 - Years'\n",
    "    elif value in ['1-2 Years', '2-3 Years', '1-2 Years ']:\n",
    "        return '1 - 3 Years'\n",
    "    elif value in ['3-4 Years', '4-5 Years', '4', '5']:\n",
    "        return '3 - 5 Years'\n",
    "    elif value in ['5-6 Years', '6-7 Years', '6 Years', '7']:\n",
    "        return '5 - 7 Years'\n",
    "    elif value in ['7-8 Years', '8-9 Years', '9-10 Years', '10 years', '10+ Years', '10']:\n",
    "        return '7 - 10 Years'\n",
    "    elif value in ['26 years', '25 years', '21', '19', '16', '25']:\n",
    "        return '10 + Years'\n",
    "    else: \n",
    "        return value\n",
    "\n",
    "# Aplicar la función de categorización\n",
    "data_sucia['¿Cuanto tiempo tiene viviendo en Cd. Juarez?'] = data_sucia['¿Cuanto tiempo tiene viviendo en Cd. Juarez?'].apply(categorize_years)\n",
    "data_sucia['¿Cuanto tiempo tiene viviendo en Cd. Juarez?'] = data_sucia['¿Cuanto tiempo tiene viviendo en Cd. Juarez?'].apply(categorize_years)\n",
    "\n",
    "# Hacer plot de la columna de años\n",
    "data_sucia['¿Cuanto tiempo tiene viviendo en Cd. Juarez?'].value_counts().plot(kind='pie')\n"
   ]
  },
  {
   "cell_type": "markdown",
   "metadata": {},
   "source": [
    "# Quitams los '-' y '/' de Motivo de la RENUNCIA"
   ]
  },
  {
   "cell_type": "code",
   "execution_count": 49,
   "metadata": {},
   "outputs": [
    {
     "data": {
      "text/plain": [
       "0                       Vol Otro empleo\n",
       "1                       Vol Otro empleo\n",
       "2                       Vol Otro empleo\n",
       "3                          Vol Estudios\n",
       "4               Vol Cambio de domicilio\n",
       "                     ...               \n",
       "1398     Vol Transferencia entre planta\n",
       "1399            Vol Cambio de domicilio\n",
       "1400      Vol No regreso   no dio razón\n",
       "1401      Imp.Tra Ausentismos continuos\n",
       "1402    Imp.Tra LFT y o Reglamento Int.\n",
       "Name: Motivo de la RENUNCIA, Length: 1403, dtype: object"
      ]
     },
     "execution_count": 49,
     "metadata": {},
     "output_type": "execute_result"
    }
   ],
   "source": [
    "data_sucia['Motivo de la RENUNCIA'].replace(to_replace='[-/]', value=' ', regex=True)"
   ]
  },
  {
   "cell_type": "markdown",
   "metadata": {},
   "source": [
    "# Limpieza de Columna de Estado Civil"
   ]
  },
  {
   "cell_type": "code",
   "execution_count": 50,
   "metadata": {},
   "outputs": [],
   "source": [
    "#Ahora tenemos que cambiar el los NA's de estado civil por soltero, esto no se si sea lo correcto, pero\n",
    "#a lo mejor le da pena decir que es soltero no se \n",
    "data_sucia['Estado Civil'].fillna('solter', inplace=True)\n",
    "data_sucia['Estado Civil'].unique()\n",
    "\n",
    "\n",
    "def categorize_civil(value):\n",
    "    if value in ['solter','Solter','viud.']:\n",
    "        return 'Solter'\n",
    "    elif value in ['casad.','Casad.','Concu.','U.Libr']:\n",
    "        return 'Casad'\n",
    "    elif value in ['Divorc','Sep.','divorc']:\n",
    "        return 'Separ'\n",
    "    else:\n",
    "        return value\n",
    "\n",
    "data_sucia['Estado Civil'] = data_sucia['Estado Civil'].apply(categorize_civil)"
   ]
  },
  {
   "cell_type": "markdown",
   "metadata": {},
   "source": [
    "# Limpieza de la columna de Lugar de Nacimiento"
   ]
  },
  {
   "cell_type": "code",
   "execution_count": 51,
   "metadata": {},
   "outputs": [
    {
     "data": {
      "text/plain": [
       "224        COMALCALCO\n",
       "121         CHIHUAHUA\n",
       "1311           JUAREZ\n",
       "194      PARRAL, CHIH\n",
       "450     CIUDAD JUAREZ\n",
       "1051           JUAREZ\n",
       "701            JUAREZ\n",
       "397         CHIHUAHUA\n",
       "1366         Veracruz\n",
       "1127           JUAREZ\n",
       "Name: Lugar de nacimiento, dtype: object"
      ]
     },
     "execution_count": 51,
     "metadata": {},
     "output_type": "execute_result"
    }
   ],
   "source": [
    "# Limpia los datos de la columna Lugar de nacimiento a el nombre del estado de nacimiento. \n",
    "# Limpia los datos de la columna Lugar de nacimiento a el nombre del estado de nacimiento. \n",
    "# Diccionario de reemplazos\n",
    "reemplazos = {\n",
    "    'Chihuahua': ['AZTECA CIUDAD JUAREZ', 'CAMARGO', 'CD JUAREZ', 'CD JUAREZ CHIH', 'CD. JUAREZ'],\n",
    "    'Durango': ['CD. GOMEZ PALACIO', 'GENERAL SIMON BOLIVAR', 'GOMEZ PALACIO', 'LERDO', 'DURANGO', 'PEÑON BLANCO', 'POBLADO EL LUCERO', 'SAN DIMAS', 'TLAHUALILO DE ZARAGOZA'],\n",
    "    'Aguascalientes': ['AGUASCALIENTES'],\n",
    "    'Sinaloa': ['AHOME', 'CULIACAN'],\n",
    "    'Veracruz': ['ANGEL R CABADA', 'COATZACOALCOS', 'CORDOBA', 'CORDOVA', 'COSAMALOAPAN', 'LAS MERCEDES', 'MARTINEZ DE LA TORRE', 'MINATITLAN', 'MOLOACAN', 'RAYA CARACOL', 'SAN ANDRES TUXTLA', 'TRES VALLES', 'VERACRUZ'],\n",
    "    # Agrega el resto de tus reemplazos aquí\n",
    "}\n",
    "\n",
    "# Invertir el diccionario para mapear cada ciudad a su estado correspondiente\n",
    "reemplazos_invertidos = {ciudad: estado for estado, ciudades in reemplazos.items() for ciudad in ciudades}\n",
    "\n",
    "# Realizar los reemplazos\n",
    "data_sucia['Lugar de nacimiento'] = data_sucia['Lugar de nacimiento'].replace(reemplazos_invertidos)\n",
    "\n",
    "# Ver resultados de los reemplazos usando aleatoriedad\n",
    "data_sucia['Lugar de nacimiento'].sample(10)"
   ]
  },
  {
   "cell_type": "code",
   "execution_count": 52,
   "metadata": {},
   "outputs": [],
   "source": [
    "# Diccionario para la nueva celda de reemplazos\n",
    "reemplazos_nueva_celda = {\n",
    "    'PUEBLA': ['GUADALUPE ANALCO', 'PUEBLA'],\n",
    "    'OAXACA': ['IXHUATAN', 'OAXACA', 'PASO DEL JOBO', 'SAN FRANCISCO DEL MAR', 'SAN JUAN BAUTISTA TUXTEPE', 'SAN LUCAS OJITLAN', 'TUXTEPEC'],\n",
    "    'TAMAULIPAS': ['MATAMOROS']\n",
    "}\n",
    "\n",
    "# Invertir el diccionario para mapear cada ciudad a su estado correspondiente\n",
    "reemplazos_invertidos_nueva_celda = {ciudad: estado for estado, ciudades in reemplazos_nueva_celda.items() for ciudad in ciudades}\n",
    "\n",
    "# Realizar los reemplazos\n",
    "data_sucia['Lugar de nacimiento'] = data_sucia['Lugar de nacimiento'].replace(reemplazos_invertidos_nueva_celda)\n"
   ]
  },
  {
   "cell_type": "markdown",
   "metadata": {},
   "source": [
    "# Ahora que ya tenemos la limpieza lista podemos eliminar todos los valores donde hay NA"
   ]
  },
  {
   "cell_type": "code",
   "execution_count": 53,
   "metadata": {},
   "outputs": [],
   "source": [
    "data_sucia = data_sucia.dropna()"
   ]
  },
  {
   "cell_type": "markdown",
   "metadata": {},
   "source": [
    "# Comparaciones del tamaño de los dataset"
   ]
  },
  {
   "cell_type": "code",
   "execution_count": 54,
   "metadata": {},
   "outputs": [
    {
     "data": {
      "text/html": [
       "<div>\n",
       "<style scoped>\n",
       "    .dataframe tbody tr th:only-of-type {\n",
       "        vertical-align: middle;\n",
       "    }\n",
       "\n",
       "    .dataframe tbody tr th {\n",
       "        vertical-align: top;\n",
       "    }\n",
       "\n",
       "    .dataframe thead th {\n",
       "        text-align: right;\n",
       "    }\n",
       "</style>\n",
       "<table border=\"1\" class=\"dataframe\">\n",
       "  <thead>\n",
       "    <tr style=\"text-align: right;\">\n",
       "      <th></th>\n",
       "      <th>Posición</th>\n",
       "      <th>Area</th>\n",
       "      <th>Á.liq.</th>\n",
       "      <th>Grupo de personal</th>\n",
       "      <th>CODIGO POSTAL</th>\n",
       "      <th>Motivo de la RENUNCIA</th>\n",
       "      <th>Banda</th>\n",
       "      <th>Baja</th>\n",
       "      <th>ReglaPHT</th>\n",
       "      <th>Alta</th>\n",
       "      <th>Años</th>\n",
       "      <th>Meses</th>\n",
       "      <th>Antigüedad</th>\n",
       "      <th>Clave de sexo</th>\n",
       "      <th>Lugar de nacimiento</th>\n",
       "      <th>Nacionalidad</th>\n",
       "      <th>Edad del empleado</th>\n",
       "      <th>¿Cuanto tiempo tiene viviendo en Cd. Juarez?</th>\n",
       "      <th>Estado Civil</th>\n",
       "      <th>Hijos</th>\n",
       "    </tr>\n",
       "  </thead>\n",
       "  <tbody>\n",
       "    <tr>\n",
       "      <th>78</th>\n",
       "      <td>POS538</td>\n",
       "      <td>VS1-HOUS</td>\n",
       "      <td>S5</td>\n",
       "      <td>Direct</td>\n",
       "      <td>32599</td>\n",
       "      <td>Vol-No regreso / no dio razón</td>\n",
       "      <td>DO</td>\n",
       "      <td>2023-01-30</td>\n",
       "      <td>JF060600</td>\n",
       "      <td>2022-09-08</td>\n",
       "      <td>1</td>\n",
       "      <td>4.800000</td>\n",
       "      <td>144</td>\n",
       "      <td>Femenino</td>\n",
       "      <td>CUENCAME</td>\n",
       "      <td>Mexican</td>\n",
       "      <td>31</td>\n",
       "      <td>Never</td>\n",
       "      <td>Solter</td>\n",
       "      <td>3</td>\n",
       "    </tr>\n",
       "    <tr>\n",
       "      <th>834</th>\n",
       "      <td>POS538</td>\n",
       "      <td>VS1</td>\n",
       "      <td>S5</td>\n",
       "      <td>Direct</td>\n",
       "      <td>32696</td>\n",
       "      <td>Imp.Tra-Ausentismos continuos</td>\n",
       "      <td>DO</td>\n",
       "      <td>2022-04-26</td>\n",
       "      <td>JF060600</td>\n",
       "      <td>2016-10-26</td>\n",
       "      <td>6</td>\n",
       "      <td>66.933333</td>\n",
       "      <td>2008</td>\n",
       "      <td>Femenino</td>\n",
       "      <td>JUAREZ</td>\n",
       "      <td>Mexican</td>\n",
       "      <td>49</td>\n",
       "      <td>Never</td>\n",
       "      <td>Solter</td>\n",
       "      <td>5</td>\n",
       "    </tr>\n",
       "    <tr>\n",
       "      <th>815</th>\n",
       "      <td>POS538</td>\n",
       "      <td>VS9-ABS</td>\n",
       "      <td>S5</td>\n",
       "      <td>Direct</td>\n",
       "      <td>32575</td>\n",
       "      <td>Imp.Tra-Ausentismos continuos</td>\n",
       "      <td>DO</td>\n",
       "      <td>2022-04-19</td>\n",
       "      <td>JF060600</td>\n",
       "      <td>2019-12-19</td>\n",
       "      <td>3</td>\n",
       "      <td>28.400000</td>\n",
       "      <td>852</td>\n",
       "      <td>Femenino</td>\n",
       "      <td>JUAREZ</td>\n",
       "      <td>Mexican</td>\n",
       "      <td>20</td>\n",
       "      <td>Never</td>\n",
       "      <td>Solter</td>\n",
       "      <td>0</td>\n",
       "    </tr>\n",
       "    <tr>\n",
       "      <th>1014</th>\n",
       "      <td>POS1748</td>\n",
       "      <td>VS4</td>\n",
       "      <td>S5</td>\n",
       "      <td>Direct</td>\n",
       "      <td>32594</td>\n",
       "      <td>Vol-No regreso / no dio razón</td>\n",
       "      <td>DNO</td>\n",
       "      <td>2022-07-06</td>\n",
       "      <td>JS011500</td>\n",
       "      <td>2017-04-27</td>\n",
       "      <td>5</td>\n",
       "      <td>63.200000</td>\n",
       "      <td>1896</td>\n",
       "      <td>Femenino</td>\n",
       "      <td>JUAREZ</td>\n",
       "      <td>Mexican</td>\n",
       "      <td>25</td>\n",
       "      <td>Never</td>\n",
       "      <td>Solter</td>\n",
       "      <td>1</td>\n",
       "    </tr>\n",
       "    <tr>\n",
       "      <th>505</th>\n",
       "      <td>POS2076</td>\n",
       "      <td>HRL</td>\n",
       "      <td>S6</td>\n",
       "      <td>Exempt</td>\n",
       "      <td>32575</td>\n",
       "      <td>Vol-Transferencia entre planta</td>\n",
       "      <td>E3</td>\n",
       "      <td>2023-09-09</td>\n",
       "      <td>ADMINIST</td>\n",
       "      <td>2018-10-18</td>\n",
       "      <td>5</td>\n",
       "      <td>59.566667</td>\n",
       "      <td>1787</td>\n",
       "      <td>Femenino</td>\n",
       "      <td>Durango</td>\n",
       "      <td>Mexican</td>\n",
       "      <td>34</td>\n",
       "      <td>Never</td>\n",
       "      <td>Solter</td>\n",
       "      <td>0</td>\n",
       "    </tr>\n",
       "    <tr>\n",
       "      <th>346</th>\n",
       "      <td>POS1323</td>\n",
       "      <td>VS5</td>\n",
       "      <td>S5</td>\n",
       "      <td>Direct</td>\n",
       "      <td>32575</td>\n",
       "      <td>Vol-Matrimonio</td>\n",
       "      <td>DO</td>\n",
       "      <td>2023-06-13</td>\n",
       "      <td>JT012324</td>\n",
       "      <td>2023-01-12</td>\n",
       "      <td>0</td>\n",
       "      <td>5.066667</td>\n",
       "      <td>152</td>\n",
       "      <td>Femenino</td>\n",
       "      <td>ARRIAGA</td>\n",
       "      <td>Mexican</td>\n",
       "      <td>30</td>\n",
       "      <td>1 - 3 Years</td>\n",
       "      <td>Casad</td>\n",
       "      <td>2</td>\n",
       "    </tr>\n",
       "    <tr>\n",
       "      <th>254</th>\n",
       "      <td>POS1323</td>\n",
       "      <td>VS1</td>\n",
       "      <td>S5</td>\n",
       "      <td>Direct</td>\n",
       "      <td>32590</td>\n",
       "      <td>Vol-Transferencia entre planta</td>\n",
       "      <td>DO</td>\n",
       "      <td>2023-05-05</td>\n",
       "      <td>JS011500</td>\n",
       "      <td>2009-09-07</td>\n",
       "      <td>14</td>\n",
       "      <td>166.266667</td>\n",
       "      <td>4988</td>\n",
       "      <td>Femenino</td>\n",
       "      <td>Veracruz</td>\n",
       "      <td>Mexican</td>\n",
       "      <td>49</td>\n",
       "      <td>Never</td>\n",
       "      <td>Casad</td>\n",
       "      <td>2</td>\n",
       "    </tr>\n",
       "    <tr>\n",
       "      <th>853</th>\n",
       "      <td>POS1323</td>\n",
       "      <td>VS7</td>\n",
       "      <td>S5</td>\n",
       "      <td>Direct</td>\n",
       "      <td>32553</td>\n",
       "      <td>Vol-Prob personales y/o fam.</td>\n",
       "      <td>DO</td>\n",
       "      <td>2022-05-10</td>\n",
       "      <td>JS011500</td>\n",
       "      <td>2020-03-12</td>\n",
       "      <td>2</td>\n",
       "      <td>26.300000</td>\n",
       "      <td>789</td>\n",
       "      <td>Femenino</td>\n",
       "      <td>JUAREZ</td>\n",
       "      <td>Mexican</td>\n",
       "      <td>28</td>\n",
       "      <td>Never</td>\n",
       "      <td>Solter</td>\n",
       "      <td>0</td>\n",
       "    </tr>\n",
       "    <tr>\n",
       "      <th>143</th>\n",
       "      <td>POS1921</td>\n",
       "      <td>MFS</td>\n",
       "      <td>S5</td>\n",
       "      <td>Direct</td>\n",
       "      <td>32696</td>\n",
       "      <td>Vol-Cambio de domicilio</td>\n",
       "      <td>DO</td>\n",
       "      <td>2023-02-28</td>\n",
       "      <td>JT012324</td>\n",
       "      <td>2017-08-31</td>\n",
       "      <td>6</td>\n",
       "      <td>66.900000</td>\n",
       "      <td>2007</td>\n",
       "      <td>Femenino</td>\n",
       "      <td>Veracruz</td>\n",
       "      <td>Mexican</td>\n",
       "      <td>42</td>\n",
       "      <td>7 - 10 Years</td>\n",
       "      <td>Casad</td>\n",
       "      <td>3</td>\n",
       "    </tr>\n",
       "    <tr>\n",
       "      <th>1037</th>\n",
       "      <td>POS1230</td>\n",
       "      <td>VS9-ABS</td>\n",
       "      <td>S5</td>\n",
       "      <td>Direct</td>\n",
       "      <td>32100</td>\n",
       "      <td>Vol-Otro empleo</td>\n",
       "      <td>DNO</td>\n",
       "      <td>2022-07-19</td>\n",
       "      <td>JS011500</td>\n",
       "      <td>2016-11-16</td>\n",
       "      <td>6</td>\n",
       "      <td>69.033333</td>\n",
       "      <td>2071</td>\n",
       "      <td>Masculino</td>\n",
       "      <td>JUAREZ</td>\n",
       "      <td>Mexican</td>\n",
       "      <td>31</td>\n",
       "      <td>7 - 10 Years</td>\n",
       "      <td>Solter</td>\n",
       "      <td>0</td>\n",
       "    </tr>\n",
       "  </tbody>\n",
       "</table>\n",
       "</div>"
      ],
      "text/plain": [
       "     Posición      Area Á.liq. Grupo de personal  CODIGO POSTAL  \\\n",
       "78     POS538  VS1-HOUS     S5            Direct          32599   \n",
       "834    POS538       VS1     S5            Direct          32696   \n",
       "815    POS538   VS9-ABS     S5            Direct          32575   \n",
       "1014  POS1748       VS4     S5            Direct          32594   \n",
       "505   POS2076       HRL     S6            Exempt          32575   \n",
       "346   POS1323       VS5     S5            Direct          32575   \n",
       "254   POS1323       VS1     S5            Direct          32590   \n",
       "853   POS1323       VS7     S5            Direct          32553   \n",
       "143   POS1921       MFS     S5            Direct          32696   \n",
       "1037  POS1230   VS9-ABS     S5            Direct          32100   \n",
       "\n",
       "               Motivo de la RENUNCIA Banda       Baja  ReglaPHT       Alta  \\\n",
       "78     Vol-No regreso / no dio razón    DO 2023-01-30  JF060600 2022-09-08   \n",
       "834    Imp.Tra-Ausentismos continuos    DO 2022-04-26  JF060600 2016-10-26   \n",
       "815    Imp.Tra-Ausentismos continuos    DO 2022-04-19  JF060600 2019-12-19   \n",
       "1014   Vol-No regreso / no dio razón   DNO 2022-07-06  JS011500 2017-04-27   \n",
       "505   Vol-Transferencia entre planta    E3 2023-09-09  ADMINIST 2018-10-18   \n",
       "346                   Vol-Matrimonio    DO 2023-06-13  JT012324 2023-01-12   \n",
       "254   Vol-Transferencia entre planta    DO 2023-05-05  JS011500 2009-09-07   \n",
       "853     Vol-Prob personales y/o fam.    DO 2022-05-10  JS011500 2020-03-12   \n",
       "143          Vol-Cambio de domicilio    DO 2023-02-28  JT012324 2017-08-31   \n",
       "1037                 Vol-Otro empleo   DNO 2022-07-19  JS011500 2016-11-16   \n",
       "\n",
       "      Años       Meses  Antigüedad Clave de sexo Lugar de nacimiento  \\\n",
       "78       1    4.800000         144      Femenino            CUENCAME   \n",
       "834      6   66.933333        2008      Femenino              JUAREZ   \n",
       "815      3   28.400000         852      Femenino              JUAREZ   \n",
       "1014     5   63.200000        1896      Femenino              JUAREZ   \n",
       "505      5   59.566667        1787      Femenino             Durango   \n",
       "346      0    5.066667         152      Femenino             ARRIAGA   \n",
       "254     14  166.266667        4988      Femenino            Veracruz   \n",
       "853      2   26.300000         789      Femenino              JUAREZ   \n",
       "143      6   66.900000        2007      Femenino            Veracruz   \n",
       "1037     6   69.033333        2071     Masculino              JUAREZ   \n",
       "\n",
       "     Nacionalidad  Edad del empleado  \\\n",
       "78        Mexican                 31   \n",
       "834       Mexican                 49   \n",
       "815       Mexican                 20   \n",
       "1014      Mexican                 25   \n",
       "505       Mexican                 34   \n",
       "346       Mexican                 30   \n",
       "254       Mexican                 49   \n",
       "853       Mexican                 28   \n",
       "143       Mexican                 42   \n",
       "1037      Mexican                 31   \n",
       "\n",
       "     ¿Cuanto tiempo tiene viviendo en Cd. Juarez? Estado Civil  Hijos  \n",
       "78                                          Never       Solter      3  \n",
       "834                                         Never       Solter      5  \n",
       "815                                         Never       Solter      0  \n",
       "1014                                        Never       Solter      1  \n",
       "505                                         Never       Solter      0  \n",
       "346                                   1 - 3 Years        Casad      2  \n",
       "254                                         Never        Casad      2  \n",
       "853                                         Never       Solter      0  \n",
       "143                                  7 - 10 Years        Casad      3  \n",
       "1037                                 7 - 10 Years       Solter      0  "
      ]
     },
     "execution_count": 54,
     "metadata": {},
     "output_type": "execute_result"
    }
   ],
   "source": [
    "# Ver las columnas\n",
    "data_sucia.sample(10)"
   ]
  },
  {
   "cell_type": "code",
   "execution_count": 55,
   "metadata": {},
   "outputs": [],
   "source": [
    "# Este comando cambiar el tipo de columnas, no se exactamente cuales y a que tipo por lo que dejo así el borrador\n",
    "#data_limpia[\"nombre_columna\"] = data_sucia[\"nombre_columna\"].astype(int)"
   ]
  },
  {
   "cell_type": "markdown",
   "metadata": {},
   "source": [
    "## Gráfica cantidad de Hijos"
   ]
  },
  {
   "cell_type": "code",
   "execution_count": 56,
   "metadata": {},
   "outputs": [
    {
     "data": {
      "image/png": "[encoded data removed]",
      "text/plain": [
       "<Figure size 640x480 with 1 Axes>"
      ]
     },
     "metadata": {},
     "output_type": "display_data"
    }
   ],
   "source": [
    "#Graficas de la cantidad de hijos\n",
    "num_hijos = data_sucia['Hijos'].value_counts()\n",
    "num_hijos = num_hijos.sort_index()\n",
    "plt.bar(num_hijos.index,num_hijos.values)\n",
    "plt.xlabel(\"Número de hijos\")\n",
    "plt.ylabel(\"Cantidad\")\n",
    "plt.title(\"Distribución de la cantidad de hijos\")\n",
    "plt.xticks(num_hijos.index)\n",
    "plt.show()"
   ]
  },
  {
   "cell_type": "markdown",
   "metadata": {},
   "source": [
    "## Gráfica Estado Civil"
   ]
  },
  {
   "cell_type": "code",
   "execution_count": 57,
   "metadata": {},
   "outputs": [
    {
     "data": {
      "image/png": "[encoded data removed]",
      "text/plain": [
       "<Figure size 640x480 with 1 Axes>"
      ]
     },
     "metadata": {},
     "output_type": "display_data"
    }
   ],
   "source": [
    "#Graficas del estado civil del trabajador\n",
    "num_est_civil = data_sucia['Estado Civil'].value_counts()\n",
    "num_est_civil = num_est_civil.sort_index()\n",
    "plt.bar(num_est_civil.index,num_est_civil.values)\n",
    "plt.xlabel(\"Estado civil\")\n",
    "plt.ylabel(\"Cantidad\")\n",
    "plt.title(\"Distribución del estado civil del trabajador\")\n",
    "plt.show()"
   ]
  },
  {
   "cell_type": "markdown",
   "metadata": {},
   "source": [
    "# Gráfica Motivo de RENUNCIA"
   ]
  },
  {
   "cell_type": "code",
   "execution_count": 58,
   "metadata": {},
   "outputs": [
    {
     "data": {
      "text/plain": [
       "Vol-Otro empleo                     308\n",
       "Vol-Transferencia entre planta      235\n",
       "Vol-No regreso / no dio razón       218\n",
       "Vol-Prob personales y/o fam.        197\n",
       "Vol-Insatisfacción personal          94\n",
       "Vol-Cambio de domicilio              89\n",
       "Imp.Tra-Ausentismos continuos        71\n",
       "Vol-Estudios                         68\n",
       "Imp.Tra-Jubilación                   32\n",
       "Vol-Razones médicas                  28\n",
       "Imp.Tra-LFT y/o Reglamento Int.      12\n",
       "Imp.Tra-LFT y/o Reglamento int       12\n",
       "Imp.Pat-Pensionado IMSS               8\n",
       "Imp.Pat-Terminación del Contrato      6\n",
       "Imp.Tra-Bajo desempeño                3\n",
       "Muerte Natural                        3\n",
       "Vol-Maternidad                        3\n",
       "Imp.Pat-Terminación del contra        2\n",
       "Imp.Tra-Falsificación de docto        2\n",
       "Imp.Tra-Falsificación de doctos.      2\n",
       "Muerte Accidental                     2\n",
       "Imp.Pat-Varios Jubilado               1\n",
       "Imp.Tra-Uso de drogas y/o bebi        1\n",
       "Vol-Ambiente de trabajo               1\n",
       "Vol-Matrimonio                        1\n",
       "Vol-Problemas con transporte          1\n",
       "Name: Motivo de la RENUNCIA, dtype: int64"
      ]
     },
     "execution_count": 58,
     "metadata": {},
     "output_type": "execute_result"
    }
   ],
   "source": [
    "data_sucia['Motivo de la RENUNCIA'].value_counts()"
   ]
  },
  {
   "cell_type": "markdown",
   "metadata": {},
   "source": [
    "# Renuncia (Guillermo)"
   ]
  },
  {
   "cell_type": "markdown",
   "metadata": {},
   "source": [
    "Target = VOL = RENUNCIA\n",
    "- Otro empleo\n",
    "- Estudios\n",
    "- NO regreso\n",
    "- ...\n",
    "- ..."
   ]
  },
  {
   "cell_type": "markdown",
   "metadata": {},
   "source": [
    "## Comentario: \n",
    "\n",
    "Para el punto 4 del desafío, proponogo plotear una gráfica (podrían ser dos) que relacione el código póstal (podría ser ubicación actual) con el motivo de RENUNCIA Vol-Insatisfacción personal"
   ]
  },
  {
   "cell_type": "markdown",
   "metadata": {},
   "source": [
    "----\n",
    "** Area de Victor para creacion de base de datos **"
   ]
  }
 ],
 "metadata": {
  "kernelspec": {
   "display_name": "Python 3",
   "language": "python",
   "name": "python3"
  },
  "language_info": {
   "codemirror_mode": {
    "name": "ipython",
    "version": 3
   },
   "file_extension": ".py",
   "mimetype": "text/x-python",
   "name": "python",
   "nbconvert_exporter": "python",
   "pygments_lexer": "ipython3",
   "version": "3.10.13"
  }
 },
 "nbformat": 4,
 "nbformat_minor": 2
}
