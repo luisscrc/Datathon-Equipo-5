{
 "cells": [
  {
   "cell_type": "markdown",
   "metadata": {},
   "source": [
    "# Importar librerias"
   ]
  },
  {
   "cell_type": "code",
   "execution_count": null,
   "metadata": {},
   "outputs": [],
   "source": [
    "import numpy as np\n",
    "\n",
    "import matplotlib.pyplot as plt\n",
    "import sklearn\n",
    "%load_ext cudf.pandas\n",
    "# pandas API is now GPU accelerated\n",
    "\n",
    "import pandas as pd"
   ]
  },
  {
   "cell_type": "markdown",
   "metadata": {},
   "source": [
    "# Importar datos"
   ]
  },
  {
   "cell_type": "code",
   "execution_count": null,
   "metadata": {},
   "outputs": [],
   "source": [
    "#Cargamos los datos\n",
    "! pip install openpyxl\n",
    "data = pd.read_excel('data/bosch_aic_datathon.xlsx')"
   ]
  },
  {
   "cell_type": "markdown",
   "metadata": {},
   "source": [
    "# Limpieza por columnas"
   ]
  },
  {
   "cell_type": "markdown",
   "metadata": {},
   "source": [
    "### Posicion"
   ]
  },
  {
   "cell_type": "markdown",
   "metadata": {},
   "source": [
    "### Area"
   ]
  },
  {
   "cell_type": "markdown",
   "metadata": {},
   "source": [
    "### A Liquida"
   ]
  },
  {
   "cell_type": "markdown",
   "metadata": {},
   "source": [
    "### A Liquida"
   ]
  },
  {
   "cell_type": "markdown",
   "metadata": {},
   "source": [
    "### A Liquida"
   ]
  },
  {
   "cell_type": "markdown",
   "metadata": {},
   "source": [
    "### A Liquida"
   ]
  },
  {
   "cell_type": "markdown",
   "metadata": {},
   "source": [
    "### Hijos - Victor"
   ]
  },
  {
   "cell_type": "code",
   "execution_count": null,
   "metadata": {},
   "outputs": [],
   "source": []
  },
  {
   "cell_type": "markdown",
   "metadata": {},
   "source": []
  },
  {
   "cell_type": "markdown",
   "metadata": {},
   "source": [
    "### Lugar de nacimiento"
   ]
  },
  {
   "cell_type": "code",
   "execution_count": null,
   "metadata": {},
   "outputs": [],
   "source": [
    "# Limpia los datos de la columna Lugar de nacimiento a el nombre del estado de nacimiento. \n",
    "# Limpia los datos de la columna Lugar de nacimiento a el nombre del estado de nacimiento. \n",
    "# Diccionario de reemplazos\n",
    "reemplazos = {\n",
    "    'Chihuahua': ['AZTECA CIUDAD JUAREZ', 'CAMARGO', 'CD JUAREZ', 'CD JUAREZ CHIH', 'CD. JUAREZ'],\n",
    "    'Durango': ['CD. GOMEZ PALACIO', 'GENERAL SIMON BOLIVAR', 'GOMEZ PALACIO', 'LERDO', 'DURANGO', 'PEÑON BLANCO', 'POBLADO EL LUCERO', 'SAN DIMAS', 'TLAHUALILO DE ZARAGOZA'],\n",
    "    'Aguascalientes': ['AGUASCALIENTES'],\n",
    "    'Sinaloa': ['AHOME', 'CULIACAN'],\n",
    "    'Veracruz': ['ANGEL R CABADA', 'COATZACOALCOS', 'CORDOBA', 'CORDOVA', 'COSAMALOAPAN', 'LAS MERCEDES', 'MARTINEZ DE LA TORRE', 'MINATITLAN', 'MOLOACAN', 'RAYA CARACOL', 'SAN ANDRES TUXTLA', 'TRES VALLES', 'VERACRUZ'],\n",
    "    # Agrega el resto de tus reemplazos aquí\n",
    "}\n",
    "\n",
    "# Invertir el diccionario para mapear cada ciudad a su estado correspondiente\n",
    "reemplazos_invertidos = {ciudad: estado for estado, ciudades in reemplazos.items() for ciudad in ciudades}\n",
    "\n",
    "# Realizar los reemplazos\n",
    "data_sucia['Lugar de nacimiento'] = data_sucia['Lugar de nacimiento'].replace(reemplazos_invertidos)\n",
    "\n",
    "# Ver resultados de los reemplazos usando aleatoriedad\n",
    "data_sucia['Lugar de nacimiento'].sample(10)\n",
    "\n",
    "# Diccionario para la nueva celda de reemplazos\n",
    "reemplazos_nueva_celda = {\n",
    "    'PUEBLA': ['GUADALUPE ANALCO', 'PUEBLA'],\n",
    "    'OAXACA': ['IXHUATAN', 'OAXACA', 'PASO DEL JOBO', 'SAN FRANCISCO DEL MAR', 'SAN JUAN BAUTISTA TUXTEPE', 'SAN LUCAS OJITLAN', 'TUXTEPEC'],\n",
    "    'TAMAULIPAS': ['MATAMOROS']\n",
    "}\n",
    "\n",
    "# Invertir el diccionario para mapear cada ciudad a su estado correspondiente\n",
    "reemplazos_invertidos_nueva_celda = {ciudad: estado for estado, ciudades in reemplazos_nueva_celda.items() for ciudad in ciudades}\n",
    "\n",
    "# Realizar los reemplazos\n",
    "data_sucia['Lugar de nacimiento'] = data_sucia['Lugar de nacimiento'].replace(reemplazos_invertidos_nueva_celda)\n"
   ]
  },
  {
   "cell_type": "code",
   "execution_count": null,
   "metadata": {},
   "outputs": [],
   "source": []
  },
  {
   "cell_type": "markdown",
   "metadata": {},
   "source": [
    "[ ] Posición: No tenemos información. -\n",
    "[ ] Área: Luis pasará un mensaje en WhatsApp explicando el significado de las iniciales.\n",
    "[ ] A líquida: No disponible.\n",
    "[ ] Grupo de personal: Luis proporcionará detalles en WhatsApp.\n",
    "[ ] Código Postal: Usar API para determinar el lugar actual de vivienda. Dos códigos no corresponden.\n",
    "[ ] Motivo de la Renuncia: Continuar con la limpieza y clasificación de las razones, diferenciando entre renuncias voluntarias e impuestas.\n",
    "[ ] Baja: Fecha en que los empleados salen de la empresa.\n",
    "[ ] Alta: Fecha en que los empleados entran a la empresa.\n",
    "[ ] Regla PHT: Se desconoce su significado.\n",
    "[ ] Años: Duración en años que el empleado estuvo en la empresa.\n",
    "[ ] Meses: Duración en meses que el empleado estuvo en la empresa.\n",
    "[ ] Antigüedad: Total de días que el empleado estuvo en la empresa.\n",
    "[ ] Clave de sexo: M (Masculino) y F (Femenino).\n",
    "[ ] Lugar de Nacimiento: Ya está limpio. Falta convertir a mayúsculas.\n",
    "[ ] Nacionalidad: Información disponible.\n",
    "[ ] Edad del Empleado: Información disponible.\n",
    "[ ] Tiempo Viviendo en Ciudad Juárez: Convertir a categoría.\n",
    "[ ] Estado Civil: Incluye soltero, casado, separado.\n",
    "[ ] Hijos: Número de hijos. Crear nueva columna para indicar si tienen hijos o no."
   ]
  }
 ],
 "metadata": {
  "kernelspec": {
   "display_name": "rapids-23.10",
   "language": "python",
   "name": "python3"
  },
  "language_info": {
   "name": "python",
   "version": "3.10.13"
  }
 },
 "nbformat": 4,
 "nbformat_minor": 2
}
