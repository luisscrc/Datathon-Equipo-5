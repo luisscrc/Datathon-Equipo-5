{
 "cells": [
  {
   "cell_type": "code",
   "execution_count": 34,
   "metadata": {},
   "outputs": [
    {
     "name": "stdout",
     "output_type": "stream",
     "text": [
      "The cudf.pandas extension is already loaded. To reload it, use:\n",
      "  %reload_ext cudf.pandas\n"
     ]
    }
   ],
   "source": [
    "import numpy as np\n",
    "\n",
    "import matplotlib.pyplot as plt\n",
    "import sklearn\n",
    "%load_ext cudf.pandas\n",
    "# pandas API is now GPU accelerated\n",
    "\n",
    "import pandas as pd"
   ]
  },
  {
   "cell_type": "markdown",
   "metadata": {},
   "source": [
    "# Importar datos"
   ]
  },
  {
   "cell_type": "code",
   "execution_count": 35,
   "metadata": {},
   "outputs": [
    {
     "name": "stdout",
     "output_type": "stream",
     "text": [
      "Requirement already satisfied: openpyxl in /home/codedspirit/anaconda3/envs/rapids-23.10/lib/python3.10/site-packages (3.1.2)\n",
      "Requirement already satisfied: et-xmlfile in /home/codedspirit/anaconda3/envs/rapids-23.10/lib/python3.10/site-packages (from openpyxl) (1.1.0)\n"
     ]
    },
    {
     "data": {
      "text/html": [
       "<div>\n",
       "<style scoped>\n",
       "    .dataframe tbody tr th:only-of-type {\n",
       "        vertical-align: middle;\n",
       "    }\n",
       "\n",
       "    .dataframe tbody tr th {\n",
       "        vertical-align: top;\n",
       "    }\n",
       "\n",
       "    .dataframe thead th {\n",
       "        text-align: right;\n",
       "    }\n",
       "</style>\n",
       "<table border=\"1\" class=\"dataframe\">\n",
       "  <thead>\n",
       "    <tr style=\"text-align: right;\">\n",
       "      <th></th>\n",
       "      <th>Posición</th>\n",
       "      <th>Area</th>\n",
       "      <th>Á.liq.</th>\n",
       "      <th>Grupo de personal</th>\n",
       "      <th>CODIGO POSTAL</th>\n",
       "      <th>Motivo de la RENUNCIA</th>\n",
       "      <th>Banda</th>\n",
       "      <th>Baja</th>\n",
       "      <th>ReglaPHT</th>\n",
       "      <th>Alta</th>\n",
       "      <th>Años</th>\n",
       "      <th>Meses</th>\n",
       "      <th>Antigüedad</th>\n",
       "      <th>Clave de sexo</th>\n",
       "      <th>Lugar de nacimiento</th>\n",
       "      <th>Nacionalidad</th>\n",
       "      <th>Edad del empleado</th>\n",
       "      <th>¿Cuanto tiempo tiene viviendo en Cd. Juarez?</th>\n",
       "      <th>Estado Civil</th>\n",
       "      <th>Hijos</th>\n",
       "    </tr>\n",
       "  </thead>\n",
       "  <tbody>\n",
       "    <tr>\n",
       "      <th>0</th>\n",
       "      <td>POS514</td>\n",
       "      <td>LOG</td>\n",
       "      <td>S6</td>\n",
       "      <td>Exempt</td>\n",
       "      <td>32520</td>\n",
       "      <td>Vol-Otro empleo</td>\n",
       "      <td>E3</td>\n",
       "      <td>2023-01-02</td>\n",
       "      <td>ADMINIST</td>\n",
       "      <td>2018-06-21</td>\n",
       "      <td>5</td>\n",
       "      <td>55.200000</td>\n",
       "      <td>1656</td>\n",
       "      <td>Femenino</td>\n",
       "      <td>JUAREZ</td>\n",
       "      <td>Mexican</td>\n",
       "      <td>31</td>\n",
       "      <td>None</td>\n",
       "      <td>solter</td>\n",
       "      <td>0</td>\n",
       "    </tr>\n",
       "    <tr>\n",
       "      <th>1</th>\n",
       "      <td>POS1745</td>\n",
       "      <td>MFS</td>\n",
       "      <td>S5</td>\n",
       "      <td>Direct</td>\n",
       "      <td>32217</td>\n",
       "      <td>Vol-Otro empleo</td>\n",
       "      <td>DNO</td>\n",
       "      <td>2023-01-03</td>\n",
       "      <td>ADMINIST</td>\n",
       "      <td>2017-07-20</td>\n",
       "      <td>6</td>\n",
       "      <td>66.433333</td>\n",
       "      <td>1993</td>\n",
       "      <td>Masculino</td>\n",
       "      <td>DURANGO</td>\n",
       "      <td>Mexican</td>\n",
       "      <td>25</td>\n",
       "      <td>10+ Years</td>\n",
       "      <td>solter</td>\n",
       "      <td>0</td>\n",
       "    </tr>\n",
       "    <tr>\n",
       "      <th>2</th>\n",
       "      <td>POS1230</td>\n",
       "      <td>VS7</td>\n",
       "      <td>S5</td>\n",
       "      <td>Direct</td>\n",
       "      <td>32600</td>\n",
       "      <td>Vol-Otro empleo</td>\n",
       "      <td>DNO</td>\n",
       "      <td>2023-01-03</td>\n",
       "      <td>JT012324</td>\n",
       "      <td>2019-08-29</td>\n",
       "      <td>4</td>\n",
       "      <td>40.766667</td>\n",
       "      <td>1223</td>\n",
       "      <td>Masculino</td>\n",
       "      <td>JUAREZ</td>\n",
       "      <td>Mexican</td>\n",
       "      <td>23</td>\n",
       "      <td>10+ Years</td>\n",
       "      <td>solter</td>\n",
       "      <td>0</td>\n",
       "    </tr>\n",
       "    <tr>\n",
       "      <th>3</th>\n",
       "      <td>POS1661</td>\n",
       "      <td>MFS</td>\n",
       "      <td>S5</td>\n",
       "      <td>Direct</td>\n",
       "      <td>32575</td>\n",
       "      <td>Vol-Estudios</td>\n",
       "      <td>DO</td>\n",
       "      <td>2023-01-03</td>\n",
       "      <td>JT012324</td>\n",
       "      <td>2022-11-03</td>\n",
       "      <td>1</td>\n",
       "      <td>2.033333</td>\n",
       "      <td>61</td>\n",
       "      <td>Femenino</td>\n",
       "      <td>CIUDAD JUAREZ</td>\n",
       "      <td>Mexican</td>\n",
       "      <td>18</td>\n",
       "      <td>10+ Years</td>\n",
       "      <td>solter</td>\n",
       "      <td>0</td>\n",
       "    </tr>\n",
       "    <tr>\n",
       "      <th>4</th>\n",
       "      <td>POS1921</td>\n",
       "      <td>MFS</td>\n",
       "      <td>S5</td>\n",
       "      <td>Direct</td>\n",
       "      <td>32575</td>\n",
       "      <td>Vol-Cambio de domicilio</td>\n",
       "      <td>DO</td>\n",
       "      <td>2023-01-03</td>\n",
       "      <td>JT012324</td>\n",
       "      <td>2017-03-02</td>\n",
       "      <td>6</td>\n",
       "      <td>71.100000</td>\n",
       "      <td>2133</td>\n",
       "      <td>Masculino</td>\n",
       "      <td>JUAREZ</td>\n",
       "      <td>Mexican</td>\n",
       "      <td>26</td>\n",
       "      <td>10+ Years</td>\n",
       "      <td>solter</td>\n",
       "      <td>0</td>\n",
       "    </tr>\n",
       "  </tbody>\n",
       "</table>\n",
       "</div>"
      ],
      "text/plain": [
       "  Posición Area Á.liq. Grupo de personal  CODIGO POSTAL  \\\n",
       "0   POS514  LOG     S6            Exempt          32520   \n",
       "1  POS1745  MFS     S5            Direct          32217   \n",
       "2  POS1230  VS7     S5            Direct          32600   \n",
       "3  POS1661  MFS     S5            Direct          32575   \n",
       "4  POS1921  MFS     S5            Direct          32575   \n",
       "\n",
       "     Motivo de la RENUNCIA Banda       Baja  ReglaPHT       Alta  Años  \\\n",
       "0          Vol-Otro empleo    E3 2023-01-02  ADMINIST 2018-06-21     5   \n",
       "1          Vol-Otro empleo   DNO 2023-01-03  ADMINIST 2017-07-20     6   \n",
       "2          Vol-Otro empleo   DNO 2023-01-03  JT012324 2019-08-29     4   \n",
       "3             Vol-Estudios    DO 2023-01-03  JT012324 2022-11-03     1   \n",
       "4  Vol-Cambio de domicilio    DO 2023-01-03  JT012324 2017-03-02     6   \n",
       "\n",
       "       Meses  Antigüedad Clave de sexo Lugar de nacimiento Nacionalidad  \\\n",
       "0  55.200000        1656      Femenino              JUAREZ      Mexican   \n",
       "1  66.433333        1993     Masculino             DURANGO      Mexican   \n",
       "2  40.766667        1223     Masculino              JUAREZ      Mexican   \n",
       "3   2.033333          61      Femenino       CIUDAD JUAREZ      Mexican   \n",
       "4  71.100000        2133     Masculino              JUAREZ      Mexican   \n",
       "\n",
       "   Edad del empleado ¿Cuanto tiempo tiene viviendo en Cd. Juarez?  \\\n",
       "0                 31                                         <NA>   \n",
       "1                 25                                    10+ Years   \n",
       "2                 23                                    10+ Years   \n",
       "3                 18                                    10+ Years   \n",
       "4                 26                                    10+ Years   \n",
       "\n",
       "  Estado Civil  Hijos  \n",
       "0       solter      0  \n",
       "1       solter      0  \n",
       "2       solter      0  \n",
       "3       solter      0  \n",
       "4       solter      0  "
      ]
     },
     "execution_count": 35,
     "metadata": {},
     "output_type": "execute_result"
    }
   ],
   "source": [
    "#Cargamos los datos\n",
    "! pip install openpyxl\n",
    "data = pd.read_excel('data/bosch_aic_datathon.xlsx')\n",
    "\n",
    "# Hacemos copia de los datos\n",
    "data_sucia = data\n",
    "data_sucia.head()"
   ]
  },
  {
   "cell_type": "markdown",
   "metadata": {},
   "source": [
    "# Limpieza por columnas"
   ]
  },
  {
   "cell_type": "code",
   "execution_count": 36,
   "metadata": {},
   "outputs": [
    {
     "data": {
      "text/html": [
       "<div>\n",
       "<style scoped>\n",
       "    .dataframe tbody tr th:only-of-type {\n",
       "        vertical-align: middle;\n",
       "    }\n",
       "\n",
       "    .dataframe tbody tr th {\n",
       "        vertical-align: top;\n",
       "    }\n",
       "\n",
       "    .dataframe thead th {\n",
       "        text-align: right;\n",
       "    }\n",
       "</style>\n",
       "<table border=\"1\" class=\"dataframe\">\n",
       "  <thead>\n",
       "    <tr style=\"text-align: right;\">\n",
       "      <th></th>\n",
       "      <th>POSICIÓN</th>\n",
       "      <th>AREA</th>\n",
       "      <th>Á.LIQ.</th>\n",
       "      <th>GRUPO DE PERSONAL</th>\n",
       "      <th>CODIGO POSTAL</th>\n",
       "      <th>MOTIVO DE LA RENUNCIA</th>\n",
       "      <th>BANDA</th>\n",
       "      <th>BAJA</th>\n",
       "      <th>REGLAPHT</th>\n",
       "      <th>ALTA</th>\n",
       "      <th>AÑOS</th>\n",
       "      <th>MESES</th>\n",
       "      <th>ANTIGÜEDAD</th>\n",
       "      <th>CLAVE DE SEXO</th>\n",
       "      <th>LUGAR DE NACIMIENTO</th>\n",
       "      <th>NACIONALIDAD</th>\n",
       "      <th>EDAD DEL EMPLEADO</th>\n",
       "      <th>¿CUANTO TIEMPO TIENE VIVIENDO EN CD. JUAREZ?</th>\n",
       "      <th>ESTADO CIVIL</th>\n",
       "      <th>HIJOS</th>\n",
       "    </tr>\n",
       "  </thead>\n",
       "  <tbody>\n",
       "    <tr>\n",
       "      <th>0</th>\n",
       "      <td>POS514</td>\n",
       "      <td>LOG</td>\n",
       "      <td>S6</td>\n",
       "      <td>Exempt</td>\n",
       "      <td>32520</td>\n",
       "      <td>Vol-Otro empleo</td>\n",
       "      <td>E3</td>\n",
       "      <td>2023-01-02</td>\n",
       "      <td>ADMINIST</td>\n",
       "      <td>2018-06-21</td>\n",
       "      <td>5</td>\n",
       "      <td>55.200000</td>\n",
       "      <td>1656</td>\n",
       "      <td>Femenino</td>\n",
       "      <td>JUAREZ</td>\n",
       "      <td>Mexican</td>\n",
       "      <td>31</td>\n",
       "      <td>None</td>\n",
       "      <td>solter</td>\n",
       "      <td>0</td>\n",
       "    </tr>\n",
       "    <tr>\n",
       "      <th>1</th>\n",
       "      <td>POS1745</td>\n",
       "      <td>MFS</td>\n",
       "      <td>S5</td>\n",
       "      <td>Direct</td>\n",
       "      <td>32217</td>\n",
       "      <td>Vol-Otro empleo</td>\n",
       "      <td>DNO</td>\n",
       "      <td>2023-01-03</td>\n",
       "      <td>ADMINIST</td>\n",
       "      <td>2017-07-20</td>\n",
       "      <td>6</td>\n",
       "      <td>66.433333</td>\n",
       "      <td>1993</td>\n",
       "      <td>Masculino</td>\n",
       "      <td>DURANGO</td>\n",
       "      <td>Mexican</td>\n",
       "      <td>25</td>\n",
       "      <td>10+ Years</td>\n",
       "      <td>solter</td>\n",
       "      <td>0</td>\n",
       "    </tr>\n",
       "    <tr>\n",
       "      <th>2</th>\n",
       "      <td>POS1230</td>\n",
       "      <td>VS7</td>\n",
       "      <td>S5</td>\n",
       "      <td>Direct</td>\n",
       "      <td>32600</td>\n",
       "      <td>Vol-Otro empleo</td>\n",
       "      <td>DNO</td>\n",
       "      <td>2023-01-03</td>\n",
       "      <td>JT012324</td>\n",
       "      <td>2019-08-29</td>\n",
       "      <td>4</td>\n",
       "      <td>40.766667</td>\n",
       "      <td>1223</td>\n",
       "      <td>Masculino</td>\n",
       "      <td>JUAREZ</td>\n",
       "      <td>Mexican</td>\n",
       "      <td>23</td>\n",
       "      <td>10+ Years</td>\n",
       "      <td>solter</td>\n",
       "      <td>0</td>\n",
       "    </tr>\n",
       "    <tr>\n",
       "      <th>3</th>\n",
       "      <td>POS1661</td>\n",
       "      <td>MFS</td>\n",
       "      <td>S5</td>\n",
       "      <td>Direct</td>\n",
       "      <td>32575</td>\n",
       "      <td>Vol-Estudios</td>\n",
       "      <td>DO</td>\n",
       "      <td>2023-01-03</td>\n",
       "      <td>JT012324</td>\n",
       "      <td>2022-11-03</td>\n",
       "      <td>1</td>\n",
       "      <td>2.033333</td>\n",
       "      <td>61</td>\n",
       "      <td>Femenino</td>\n",
       "      <td>CIUDAD JUAREZ</td>\n",
       "      <td>Mexican</td>\n",
       "      <td>18</td>\n",
       "      <td>10+ Years</td>\n",
       "      <td>solter</td>\n",
       "      <td>0</td>\n",
       "    </tr>\n",
       "    <tr>\n",
       "      <th>4</th>\n",
       "      <td>POS1921</td>\n",
       "      <td>MFS</td>\n",
       "      <td>S5</td>\n",
       "      <td>Direct</td>\n",
       "      <td>32575</td>\n",
       "      <td>Vol-Cambio de domicilio</td>\n",
       "      <td>DO</td>\n",
       "      <td>2023-01-03</td>\n",
       "      <td>JT012324</td>\n",
       "      <td>2017-03-02</td>\n",
       "      <td>6</td>\n",
       "      <td>71.100000</td>\n",
       "      <td>2133</td>\n",
       "      <td>Masculino</td>\n",
       "      <td>JUAREZ</td>\n",
       "      <td>Mexican</td>\n",
       "      <td>26</td>\n",
       "      <td>10+ Years</td>\n",
       "      <td>solter</td>\n",
       "      <td>0</td>\n",
       "    </tr>\n",
       "  </tbody>\n",
       "</table>\n",
       "</div>"
      ],
      "text/plain": [
       "  POSICIÓN AREA Á.LIQ. GRUPO DE PERSONAL  CODIGO POSTAL  \\\n",
       "0   POS514  LOG     S6            Exempt          32520   \n",
       "1  POS1745  MFS     S5            Direct          32217   \n",
       "2  POS1230  VS7     S5            Direct          32600   \n",
       "3  POS1661  MFS     S5            Direct          32575   \n",
       "4  POS1921  MFS     S5            Direct          32575   \n",
       "\n",
       "     MOTIVO DE LA RENUNCIA BANDA       BAJA  REGLAPHT       ALTA  AÑOS  \\\n",
       "0          Vol-Otro empleo    E3 2023-01-02  ADMINIST 2018-06-21     5   \n",
       "1          Vol-Otro empleo   DNO 2023-01-03  ADMINIST 2017-07-20     6   \n",
       "2          Vol-Otro empleo   DNO 2023-01-03  JT012324 2019-08-29     4   \n",
       "3             Vol-Estudios    DO 2023-01-03  JT012324 2022-11-03     1   \n",
       "4  Vol-Cambio de domicilio    DO 2023-01-03  JT012324 2017-03-02     6   \n",
       "\n",
       "       MESES  ANTIGÜEDAD CLAVE DE SEXO LUGAR DE NACIMIENTO NACIONALIDAD  \\\n",
       "0  55.200000        1656      Femenino              JUAREZ      Mexican   \n",
       "1  66.433333        1993     Masculino             DURANGO      Mexican   \n",
       "2  40.766667        1223     Masculino              JUAREZ      Mexican   \n",
       "3   2.033333          61      Femenino       CIUDAD JUAREZ      Mexican   \n",
       "4  71.100000        2133     Masculino              JUAREZ      Mexican   \n",
       "\n",
       "   EDAD DEL EMPLEADO ¿CUANTO TIEMPO TIENE VIVIENDO EN CD. JUAREZ?  \\\n",
       "0                 31                                         <NA>   \n",
       "1                 25                                    10+ Years   \n",
       "2                 23                                    10+ Years   \n",
       "3                 18                                    10+ Years   \n",
       "4                 26                                    10+ Years   \n",
       "\n",
       "  ESTADO CIVIL  HIJOS  \n",
       "0       solter      0  \n",
       "1       solter      0  \n",
       "2       solter      0  \n",
       "3       solter      0  \n",
       "4       solter      0  "
      ]
     },
     "execution_count": 36,
     "metadata": {},
     "output_type": "execute_result"
    }
   ],
   "source": [
    "# Poner todas las columnas en mayúsculas\n",
    "data_sucia.columns = map(str.upper, data_sucia.columns)\n",
    "data_sucia.head()"
   ]
  },
  {
   "cell_type": "markdown",
   "metadata": {},
   "source": [
    "### Posicion"
   ]
  },
  {
   "cell_type": "markdown",
   "metadata": {},
   "source": [
    "### Area"
   ]
  },
  {
   "cell_type": "markdown",
   "metadata": {},
   "source": [
    "### A Liquida"
   ]
  },
  {
   "cell_type": "code",
   "execution_count": 37,
   "metadata": {},
   "outputs": [
    {
     "data": {
      "text/plain": [
       "<Axes: ylabel='Á.LIQ.'>"
      ]
     },
     "execution_count": 37,
     "metadata": {},
     "output_type": "execute_result"
    },
    {
     "data": {
      "image/png": "[encoded data removed]",
      "text/plain": [
       "<Figure size 600x600 with 1 Axes>"
      ]
     },
     "metadata": {},
     "output_type": "display_data"
    }
   ],
   "source": [
    "# Convierte columna Á.liq. a categoricos\n",
    "data_sucia['Á.LIQ.'] = data_sucia['Á.LIQ.'].astype('category')\n",
    "# Hace plot de pie de la columna Á.liq.\n",
    "data_sucia['Á.LIQ.'].value_counts().plot(kind='pie', autopct='%.2f', figsize=(6, 6))\n"
   ]
  },
  {
   "cell_type": "code",
   "execution_count": 38,
   "metadata": {},
   "outputs": [],
   "source": [
    "# C"
   ]
  },
  {
   "cell_type": "markdown",
   "metadata": {},
   "source": [
    "### Grupo de personal"
   ]
  },
  {
   "cell_type": "markdown",
   "metadata": {},
   "source": [
    "### Codigo postal"
   ]
  },
  {
   "cell_type": "code",
   "execution_count": 39,
   "metadata": {},
   "outputs": [],
   "source": [
    "# Si un valor es menor a 4 digitos, se dropea la fila\n",
    "data_sucia = data_sucia[data_sucia.apply(lambda x: len(str(x)) >= 4, axis=1)]\n",
    "\n"
   ]
  },
  {
   "cell_type": "code",
   "execution_count": 40,
   "metadata": {},
   "outputs": [
    {
     "data": {
      "text/plain": [
       "'from geopy.geocoders import Nominatim\\nfrom geopy.distance import geodesic\\n\\ngeolocator = Nominatim(user_agent=\"my_geocoder\")\\ngeolocation_cache = {}\\n\\n# Function to obtain geolocation coordinates from a postal code\\ndef obtener_coordenadas_osm(codigo_postal):\\n    if codigo_postal in geolocation_cache:\\n        return geolocation_cache[codigo_postal]\\n\\n    location = geolocator.geocode({\"postalcode\": codigo_postal})\\n    if location:\\n        coords = (location.latitude, location.longitude)\\n        geolocation_cache[codigo_postal] = coords\\n        return coords\\n    else:\\n        return None\\n\\n# Function to calculate the distance between two postal codes\\ndef calcular_distancia_osm(cp_empleado, cp_bosch):\\n    coords_empleado = obtener_coordenadas_osm(cp_empleado)\\n    coords_bosch = obtener_coordenadas_osm(cp_bosch)\\n\\n    if coords_empleado and coords_bosch:\\n        distancia = geodesic(coords_empleado, coords_bosch).kilometers\\n        return distancia\\n    else:\\n        return None\\n\\n# Insert a column called \"Codigo Postal Bosch\" with the value 32557\\ndata_sucia[\\'CODIGO POSTAL BOSCH\\'] = 32557\\n\\n# Calcula la distancia entre el codigo postal del empleado y el codigo postal de Bosch y lo guarda en una columna llamada \"distancia\"\\ndata_sucia[\\'distancia\\'] = data_sucia.apply(lambda x: calcular_distancia_osm(x[\\'CODIGO POSTAL\\'], x[\\'CODIGO POSTAL BOSCH\\']), axis=1)\\n\\n\\ndata_sucia'"
      ]
     },
     "execution_count": 40,
     "metadata": {},
     "output_type": "execute_result"
    }
   ],
   "source": [
    "\"\"\"from geopy.geocoders import Nominatim\n",
    "from geopy.distance import geodesic\n",
    "\n",
    "geolocator = Nominatim(user_agent=\"my_geocoder\")\n",
    "geolocation_cache = {}\n",
    "\n",
    "# Function to obtain geolocation coordinates from a postal code\n",
    "def obtener_coordenadas_osm(codigo_postal):\n",
    "    if codigo_postal in geolocation_cache:\n",
    "        return geolocation_cache[codigo_postal]\n",
    "\n",
    "    location = geolocator.geocode({\"postalcode\": codigo_postal})\n",
    "    if location:\n",
    "        coords = (location.latitude, location.longitude)\n",
    "        geolocation_cache[codigo_postal] = coords\n",
    "        return coords\n",
    "    else:\n",
    "        return None\n",
    "\n",
    "# Function to calculate the distance between two postal codes\n",
    "def calcular_distancia_osm(cp_empleado, cp_bosch):\n",
    "    coords_empleado = obtener_coordenadas_osm(cp_empleado)\n",
    "    coords_bosch = obtener_coordenadas_osm(cp_bosch)\n",
    "\n",
    "    if coords_empleado and coords_bosch:\n",
    "        distancia = geodesic(coords_empleado, coords_bosch).kilometers\n",
    "        return distancia\n",
    "    else:\n",
    "        return None\n",
    "\n",
    "# Insert a column called \"Codigo Postal Bosch\" with the value 32557\n",
    "data_sucia['CODIGO POSTAL BOSCH'] = 32557\n",
    "\n",
    "# Calcula la distancia entre el codigo postal del empleado y el codigo postal de Bosch y lo guarda en una columna llamada \"distancia\"\n",
    "data_sucia['distancia'] = data_sucia.apply(lambda x: calcular_distancia_osm(x['CODIGO POSTAL'], x['CODIGO POSTAL BOSCH']), axis=1)\n",
    "\n",
    "\n",
    "data_sucia\"\"\""
   ]
  },
  {
   "cell_type": "code",
   "execution_count": 41,
   "metadata": {},
   "outputs": [],
   "source": [
    "# Exportar los datos a CSV\n",
    "data_sucia.to_csv('data_sucia.csv', index=False)\n",
    "\n",
    "# Volver a cargar los datos desde CSV\n",
    "data_sucia = pd.read_csv('data_sucia.csv')"
   ]
  },
  {
   "cell_type": "markdown",
   "metadata": {},
   "source": [
    "### Motivo de la renuncia"
   ]
  },
  {
   "cell_type": "markdown",
   "metadata": {},
   "source": [
    "### Motivo de la renuncia"
   ]
  },
  {
   "cell_type": "markdown",
   "metadata": {},
   "source": [
    "### Baja"
   ]
  },
  {
   "cell_type": "markdown",
   "metadata": {},
   "source": [
    "### Alta"
   ]
  },
  {
   "cell_type": "markdown",
   "metadata": {},
   "source": [
    "### Regla PHT"
   ]
  },
  {
   "cell_type": "markdown",
   "metadata": {},
   "source": [
    "### Años"
   ]
  },
  {
   "cell_type": "markdown",
   "metadata": {},
   "source": [
    "### Meses"
   ]
  },
  {
   "cell_type": "markdown",
   "metadata": {},
   "source": [
    "### Dias totales/Antigüedad"
   ]
  },
  {
   "cell_type": "markdown",
   "metadata": {},
   "source": [
    "### Sexo"
   ]
  },
  {
   "cell_type": "code",
   "execution_count": 42,
   "metadata": {},
   "outputs": [
    {
     "data": {
      "text/html": [
       "<div>\n",
       "<style scoped>\n",
       "    .dataframe tbody tr th:only-of-type {\n",
       "        vertical-align: middle;\n",
       "    }\n",
       "\n",
       "    .dataframe tbody tr th {\n",
       "        vertical-align: top;\n",
       "    }\n",
       "\n",
       "    .dataframe thead th {\n",
       "        text-align: right;\n",
       "    }\n",
       "</style>\n",
       "<table border=\"1\" class=\"dataframe\">\n",
       "  <thead>\n",
       "    <tr style=\"text-align: right;\">\n",
       "      <th></th>\n",
       "      <th>CLAVE DE SEXO</th>\n",
       "    </tr>\n",
       "  </thead>\n",
       "  <tbody>\n",
       "    <tr>\n",
       "      <th>0</th>\n",
       "      <td>Femenino</td>\n",
       "    </tr>\n",
       "    <tr>\n",
       "      <th>1</th>\n",
       "      <td>Masculino</td>\n",
       "    </tr>\n",
       "    <tr>\n",
       "      <th>2</th>\n",
       "      <td>Masculino</td>\n",
       "    </tr>\n",
       "    <tr>\n",
       "      <th>3</th>\n",
       "      <td>Femenino</td>\n",
       "    </tr>\n",
       "    <tr>\n",
       "      <th>4</th>\n",
       "      <td>Masculino</td>\n",
       "    </tr>\n",
       "    <tr>\n",
       "      <th>...</th>\n",
       "      <td>...</td>\n",
       "    </tr>\n",
       "    <tr>\n",
       "      <th>1398</th>\n",
       "      <td>Masculino</td>\n",
       "    </tr>\n",
       "    <tr>\n",
       "      <th>1399</th>\n",
       "      <td>Masculino</td>\n",
       "    </tr>\n",
       "    <tr>\n",
       "      <th>1400</th>\n",
       "      <td>Femenino</td>\n",
       "    </tr>\n",
       "    <tr>\n",
       "      <th>1401</th>\n",
       "      <td>Femenino</td>\n",
       "    </tr>\n",
       "    <tr>\n",
       "      <th>1402</th>\n",
       "      <td>Masculino</td>\n",
       "    </tr>\n",
       "  </tbody>\n",
       "</table>\n",
       "<p>1403 rows × 1 columns</p>\n",
       "</div>"
      ],
      "text/plain": [
       "     CLAVE DE SEXO\n",
       "0         Femenino\n",
       "1        Masculino\n",
       "2        Masculino\n",
       "3         Femenino\n",
       "4        Masculino\n",
       "...            ...\n",
       "1398     Masculino\n",
       "1399     Masculino\n",
       "1400      Femenino\n",
       "1401      Femenino\n",
       "1402     Masculino\n",
       "\n",
       "[1403 rows x 1 columns]"
      ]
     },
     "execution_count": 42,
     "metadata": {},
     "output_type": "execute_result"
    }
   ],
   "source": [
    "data_sucia[[\"CLAVE DE SEXO\"]]"
   ]
  },
  {
   "cell_type": "code",
   "execution_count": 43,
   "metadata": {},
   "outputs": [
    {
     "data": {
      "text/plain": [
       "array(['Femenino', 'Masculino'], dtype=object)"
      ]
     },
     "execution_count": 43,
     "metadata": {},
     "output_type": "execute_result"
    }
   ],
   "source": [
    "data_sucia[\"CLAVE DE SEXO\"].unique()"
   ]
  },
  {
   "cell_type": "code",
   "execution_count": 44,
   "metadata": {},
   "outputs": [],
   "source": [
    "reemplazo_sexo = {\"Femenino\":\"F\",\n",
    "              \"Masculino\":\"M\"}"
   ]
  },
  {
   "cell_type": "code",
   "execution_count": 45,
   "metadata": {},
   "outputs": [
    {
     "data": {
      "text/plain": [
       "0       F\n",
       "1       M\n",
       "2       M\n",
       "3       F\n",
       "4       M\n",
       "       ..\n",
       "1398    M\n",
       "1399    M\n",
       "1400    F\n",
       "1401    F\n",
       "1402    M\n",
       "Name: CLAVE DE SEXO, Length: 1403, dtype: object"
      ]
     },
     "execution_count": 45,
     "metadata": {},
     "output_type": "execute_result"
    }
   ],
   "source": [
    "data_sucia['CLAVE DE SEXO'].replace(reemplazo_sexo)"
   ]
  },
  {
   "cell_type": "markdown",
   "metadata": {},
   "source": [
    "Falta susutituir la columna en data_sucia"
   ]
  },
  {
   "cell_type": "markdown",
   "metadata": {},
   "source": [
    "### Lugar de nacimiento"
   ]
  },
  {
   "cell_type": "code",
   "execution_count": 46,
   "metadata": {},
   "outputs": [
    {
     "data": {
      "text/plain": [
       "552            JUAREZ\n",
       "290            JUAREZ\n",
       "1225    CIUDAD JUAREZ\n",
       "126         CHIHUAHUA\n",
       "691            OAXACA\n",
       "345         CHIHUAHUA\n",
       "1060         Veracruz\n",
       "711           ATLANTA\n",
       "520          JUCHITAN\n",
       "81             JUAREZ\n",
       "Name: LUGAR DE NACIMIENTO, dtype: object"
      ]
     },
     "execution_count": 46,
     "metadata": {},
     "output_type": "execute_result"
    }
   ],
   "source": [
    "# Limpia los datos de la columna Lugar de nacimiento a el nombre del estado de nacimiento. \n",
    "# Limpia los datos de la columna Lugar de nacimiento a el nombre del estado de nacimiento. \n",
    "# Diccionario de reemplazos\n",
    "reemplazos = {\n",
    "    'Chihuahua': ['AZTECA CIUDAD JUAREZ', 'CAMARGO', 'CD JUAREZ', 'CD JUAREZ CHIH', 'CD. JUAREZ'],\n",
    "    'Durango': ['CD. GOMEZ PALACIO', 'GENERAL SIMON BOLIVAR', 'GOMEZ PALACIO', 'LERDO', 'DURANGO', 'PEÑON BLANCO', 'POBLADO EL LUCERO', 'SAN DIMAS', 'TLAHUALILO DE ZARAGOZA'],\n",
    "    'Aguascalientes': ['AGUASCALIENTES'],\n",
    "    'Sinaloa': ['AHOME', 'CULIACAN'],\n",
    "    'Veracruz': ['ANGEL R CABADA', 'COATZACOALCOS', 'CORDOBA', 'CORDOVA', 'COSAMALOAPAN', 'LAS MERCEDES', 'MARTINEZ DE LA TORRE', 'MINATITLAN', 'MOLOACAN', 'RAYA CARACOL', 'SAN ANDRES TUXTLA', 'TRES VALLES', 'VERACRUZ'],\n",
    "    # Agrega el resto de tus reemplazos aquí\n",
    "}\n",
    "\n",
    "# Invertir el diccionario para mapear cada ciudad a su estado correspondiente\n",
    "reemplazos_invertidos = {ciudad: estado for estado, ciudades in reemplazos.items() for ciudad in ciudades}\n",
    "\n",
    "# Realizar los reemplazos\n",
    "data_sucia['LUGAR DE NACIMIENTO'] = data_sucia['LUGAR DE NACIMIENTO'].replace(reemplazos_invertidos)\n",
    "\n",
    "# Ver resultados de los reemplazos usando aleatoriedad\n",
    "data_sucia['LUGAR DE NACIMIENTO'].sample(10)\n",
    "\n",
    "# Diccionario para la nueva celda de reemplazos\n",
    "reemplazos_nueva_celda = {\n",
    "    'PUEBLA': ['GUADALUPE ANALCO', 'PUEBLA'],\n",
    "    'OAXACA': ['IXHUATAN', 'OAXACA', 'PASO DEL JOBO', 'SAN FRANCISCO DEL MAR', 'SAN JUAN BAUTISTA TUXTEPE', 'SAN LUCAS OJITLAN', 'TUXTEPEC'],\n",
    "    'TAMAULIPAS': ['MATAMOROS']\n",
    "}\n",
    "\n",
    "# Invertir el diccionario para mapear cada ciudad a su estado correspondiente\n",
    "reemplazos_invertidos_nueva_celda = {ciudad: estado for estado, ciudades in reemplazos_nueva_celda.items() for ciudad in ciudades}\n",
    "\n",
    "# Realizar los reemplazos\n",
    "data_sucia['LUGAR DE NACIMIENTO'] = data_sucia['LUGAR DE NACIMIENTO'].replace(reemplazos_invertidos_nueva_celda)\n",
    "\n",
    "data_sucia['LUGAR DE NACIMIENTO'].sample(10)\n"
   ]
  },
  {
   "cell_type": "markdown",
   "metadata": {},
   "source": [
    "### Nacionalidad"
   ]
  },
  {
   "cell_type": "markdown",
   "metadata": {},
   "source": [
    "### Edad del empleado"
   ]
  },
  {
   "cell_type": "code",
   "execution_count": 47,
   "metadata": {},
   "outputs": [
    {
     "data": {
      "text/plain": [
       "StringIndex(['POSICIÓN' 'AREA' 'Á.LIQ.' 'GRUPO DE PERSONAL' 'CODIGO POSTAL'\n",
       " 'MOTIVO DE LA RENUNCIA' 'BANDA' 'BAJA' 'REGLAPHT' 'ALTA' 'AÑOS' 'MESES'\n",
       " 'ANTIGÜEDAD' 'CLAVE DE SEXO' 'LUGAR DE NACIMIENTO' 'NACIONALIDAD'\n",
       " 'EDAD DEL EMPLEADO' '¿CUANTO TIEMPO TIENE VIVIENDO EN CD. JUAREZ?'\n",
       " 'ESTADO CIVIL' 'HIJOS'], dtype='object')"
      ]
     },
     "execution_count": 47,
     "metadata": {},
     "output_type": "execute_result"
    }
   ],
   "source": [
    "# Edad del empleado\n",
    "# Convertir en tipos de datos enteros\n",
    "data_sucia['EDAD DEL EMPLEADO'] = data_sucia['EDAD DEL EMPLEADO'].astype(int)\n",
    "# Cambiar nombre de columna a Edad\n",
    "data_sucia = data_sucia.rename(columns={'EDAD DEL EMPLEADO': 'EDAD'})\n",
    "\n",
    "# Ver resultados de los reemplazos usando aleatoriedad\n",
    "data.columns "
   ]
  },
  {
   "cell_type": "markdown",
   "metadata": {},
   "source": [
    "### Tiempo viviendo en Ciudad Juarez"
   ]
  },
  {
   "cell_type": "code",
   "execution_count": 48,
   "metadata": {},
   "outputs": [
    {
     "data": {
      "text/plain": [
       "Menos de 1 Año    788\n",
       "10+ Años          511\n",
       "4-6 Años           43\n",
       "7-9 Años           41\n",
       "1-3 Años           20\n",
       "Name: TIEMPO VIVIENDO EN CD JUAREZ - CATEGORIA, dtype: int64"
      ]
     },
     "execution_count": 48,
     "metadata": {},
     "output_type": "execute_result"
    }
   ],
   "source": [
    "# Categorizar \"Tiempo Viviendo en Ciudad Juárez\"\n",
    "\n",
    "def categorize_time_living(time):\n",
    "    if pd.isna(time) or isinstance(time, str) and 'Days' in time:\n",
    "        return 'Menos de 1 Año'\n",
    "    elif isinstance(time, str) and any(x in time for x in ['1-2 Years', '2-3 Years']) or (isinstance(time, int) and 1 <= time <= 3):\n",
    "        return '1-3 Años'\n",
    "    elif isinstance(time, str) and any(x in time for x in ['3-4 Years', '4-5 Years', '5-6 Years']) or (isinstance(time, int) and 4 <= time <= 6):\n",
    "        return '4-6 Años'\n",
    "    elif isinstance(time, str) and any(x in time for x in ['6-7 Years', '7-8 Years', '8-9 Years']) or (isinstance(time, int) and 7 <= time <= 9):\n",
    "        return '7-9 Años'\n",
    "    else:\n",
    "        return '10+ Años'\n",
    "\n",
    "# Apply the categorization\n",
    "data_sucia['TIEMPO VIVIENDO EN CD JUAREZ - CATEGORIA'] = data_sucia['¿CUANTO TIEMPO TIENE VIVIENDO EN CD. JUAREZ?'].apply(categorize_time_living)\n",
    "\n",
    "# Display the first few rows to verify the categorization\n",
    "data_sucia[['¿CUANTO TIEMPO TIENE VIVIENDO EN CD. JUAREZ?', 'TIEMPO VIVIENDO EN CD JUAREZ - CATEGORIA']].head()\n",
    "\n",
    "# Saber cuantos valores hay en cada categoria de la columna Tiempo Viviendo en Cd. Juarez - Categoría\n",
    "data_sucia['TIEMPO VIVIENDO EN CD JUAREZ - CATEGORIA'].value_counts()"
   ]
  },
  {
   "cell_type": "markdown",
   "metadata": {},
   "source": [
    "### Estado civil"
   ]
  },
  {
   "cell_type": "code",
   "execution_count": 59,
   "metadata": {},
   "outputs": [
    {
     "data": {
      "text/plain": [
       "array(['Solter', 'Casad', 'U-Libr', 'Sep'], dtype=object)"
      ]
     },
     "execution_count": 59,
     "metadata": {},
     "output_type": "execute_result"
    }
   ],
   "source": [
    "data_sucia['ESTADO CIVIL'].unique()"
   ]
  },
  {
   "cell_type": "code",
   "execution_count": 60,
   "metadata": {},
   "outputs": [],
   "source": [
    "data_sucia['ESTADO CIVIL'].fillna('Solter', inplace=True)\n",
    "data_sucia['ESTADO CIVIL'].unique()\n",
    "\n",
    "\n",
    "def categorize_civil(value):\n",
    "    if value in ['Solter','viud.','solter']:\n",
    "        return 'Solter'\n",
    "    elif value in ['casad.','Casad.']:\n",
    "        return 'Casad'\n",
    "    elif value in ['Divorc','Sep.','divorc']:\n",
    "        return 'Sep'\n",
    "    elif value in ['Concu.','U.Libr']:\n",
    "        return 'U-Libr'\n",
    "    else:\n",
    "        return value\n",
    "\n",
    "data_sucia['ESTADO CIVIL'] = data_sucia['ESTADO CIVIL'].apply(categorize_civil)"
   ]
  },
  {
   "cell_type": "markdown",
   "metadata": {},
   "source": [
    "### Hijos - Victor"
   ]
  },
  {
   "cell_type": "code",
   "execution_count": 55,
   "metadata": {},
   "outputs": [],
   "source": [
    "# Convertir columna hijos a enteros\n",
    "data_sucia['HIJOS'] = data_sucia['HIJOS'].astype(int)\n",
    "\n",
    "# Crear una columna con nombre 'Tiene Hijos' que sera 'Sí' si 'Hijos' > 0 y 'No' si 'Hijos' == 0\n",
    "data_sucia['TIENE HIJOS'] = data['HIJOS'].apply(lambda x: 'Sí' if x > 0 else 'No')\n",
    "\n",
    "# Convertir columna Tiene Hijos booleana\n",
    "data_sucia['TIENE HIJOS'] = data_sucia['TIENE HIJOS'].astype('category')\n"
   ]
  },
  {
   "cell_type": "markdown",
   "metadata": {},
   "source": [
    "----\n",
    "# Subida de datos en DB MySQL"
   ]
  },
  {
   "cell_type": "code",
   "execution_count": null,
   "metadata": {},
   "outputs": [],
   "source": [
    "\"\"\"# Importar libreria para trabajar con mysql\n",
    "#! pip install mysql-connector-python\n",
    "import mysql.connector\n",
    "\n",
    "# Hacer un mapeo de los datos necesarios para conectarse\n",
    "config = {\n",
    "    'user': 'datathonequipo5',\n",
    "    'password': 'CodedSpiritDev05',\n",
    "    'host': 'datathon.mysql.database.azure.com',\n",
    "    'database': 'datathon'\n",
    "}\n",
    "\n",
    "# Conectarse a la base de datos\n",
    "cnx = mysql.connector.connect(**config)\n",
    "\n",
    "# Verificar la conexión\n",
    "cnx.is_connected()\n",
    "\n",
    "# Cerrar la conexión\n",
    "cnx.close()\"\"\""
   ]
  }
 ],
 "metadata": {
  "kernelspec": {
   "display_name": "rapids-23.10",
   "language": "python",
   "name": "python3"
  },
  "language_info": {
   "codemirror_mode": {
    "name": "ipython",
    "version": 3
   },
   "file_extension": ".py",
   "mimetype": "text/x-python",
   "name": "python",
   "nbconvert_exporter": "python",
   "pygments_lexer": "ipython3",
   "version": "3.10.13"
  }
 },
 "nbformat": 4,
 "nbformat_minor": 2
}
