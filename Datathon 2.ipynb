{
 "cells": [
  {
   "cell_type": "markdown",
   "metadata": {},
   "source": [
    "# Importar librerias"
   ]
  },
  {
   "cell_type": "code",
   "execution_count": 71,
   "metadata": {},
   "outputs": [
    {
     "name": "stdout",
     "output_type": "stream",
     "text": [
      "The cudf.pandas extension is already loaded. To reload it, use:\n",
      "  %reload_ext cudf.pandas\n"
     ]
    }
   ],
   "source": [
    "import numpy as np\n",
    "\n",
    "import matplotlib.pyplot as plt\n",
    "import sklearn\n",
    "%load_ext cudf.pandas\n",
    "# pandas API is now GPU accelerated\n",
    "\n",
    "import pandas as pd"
   ]
  },
  {
   "cell_type": "markdown",
   "metadata": {},
   "source": [
    "# Importar datos"
   ]
  },
  {
   "cell_type": "code",
   "execution_count": 72,
   "metadata": {},
   "outputs": [
    {
     "name": "stdout",
     "output_type": "stream",
     "text": [
      "Requirement already satisfied: openpyxl in /home/codedspirit/anaconda3/envs/rapids-23.10/lib/python3.10/site-packages (3.1.2)\n",
      "Requirement already satisfied: et-xmlfile in /home/codedspirit/anaconda3/envs/rapids-23.10/lib/python3.10/site-packages (from openpyxl) (1.1.0)\n"
     ]
    },
    {
     "data": {
      "text/html": [
       "<div>\n",
       "<style scoped>\n",
       "    .dataframe tbody tr th:only-of-type {\n",
       "        vertical-align: middle;\n",
       "    }\n",
       "\n",
       "    .dataframe tbody tr th {\n",
       "        vertical-align: top;\n",
       "    }\n",
       "\n",
       "    .dataframe thead th {\n",
       "        text-align: right;\n",
       "    }\n",
       "</style>\n",
       "<table border=\"1\" class=\"dataframe\">\n",
       "  <thead>\n",
       "    <tr style=\"text-align: right;\">\n",
       "      <th></th>\n",
       "      <th>Posición</th>\n",
       "      <th>Area</th>\n",
       "      <th>Á.liq.</th>\n",
       "      <th>Grupo de personal</th>\n",
       "      <th>CODIGO POSTAL</th>\n",
       "      <th>Motivo de la RENUNCIA</th>\n",
       "      <th>Banda</th>\n",
       "      <th>Baja</th>\n",
       "      <th>ReglaPHT</th>\n",
       "      <th>Alta</th>\n",
       "      <th>Años</th>\n",
       "      <th>Meses</th>\n",
       "      <th>Antigüedad</th>\n",
       "      <th>Clave de sexo</th>\n",
       "      <th>Lugar de nacimiento</th>\n",
       "      <th>Nacionalidad</th>\n",
       "      <th>Edad del empleado</th>\n",
       "      <th>¿Cuanto tiempo tiene viviendo en Cd. Juarez?</th>\n",
       "      <th>Estado Civil</th>\n",
       "      <th>Hijos</th>\n",
       "    </tr>\n",
       "  </thead>\n",
       "  <tbody>\n",
       "    <tr>\n",
       "      <th>0</th>\n",
       "      <td>POS514</td>\n",
       "      <td>LOG</td>\n",
       "      <td>S6</td>\n",
       "      <td>Exempt</td>\n",
       "      <td>32520</td>\n",
       "      <td>Vol-Otro empleo</td>\n",
       "      <td>E3</td>\n",
       "      <td>2023-01-02</td>\n",
       "      <td>ADMINIST</td>\n",
       "      <td>2018-06-21</td>\n",
       "      <td>5</td>\n",
       "      <td>55.200000</td>\n",
       "      <td>1656</td>\n",
       "      <td>Femenino</td>\n",
       "      <td>JUAREZ</td>\n",
       "      <td>Mexican</td>\n",
       "      <td>31</td>\n",
       "      <td>None</td>\n",
       "      <td>solter</td>\n",
       "      <td>0</td>\n",
       "    </tr>\n",
       "    <tr>\n",
       "      <th>1</th>\n",
       "      <td>POS1745</td>\n",
       "      <td>MFS</td>\n",
       "      <td>S5</td>\n",
       "      <td>Direct</td>\n",
       "      <td>32217</td>\n",
       "      <td>Vol-Otro empleo</td>\n",
       "      <td>DNO</td>\n",
       "      <td>2023-01-03</td>\n",
       "      <td>ADMINIST</td>\n",
       "      <td>2017-07-20</td>\n",
       "      <td>6</td>\n",
       "      <td>66.433333</td>\n",
       "      <td>1993</td>\n",
       "      <td>Masculino</td>\n",
       "      <td>DURANGO</td>\n",
       "      <td>Mexican</td>\n",
       "      <td>25</td>\n",
       "      <td>10+ Years</td>\n",
       "      <td>solter</td>\n",
       "      <td>0</td>\n",
       "    </tr>\n",
       "    <tr>\n",
       "      <th>2</th>\n",
       "      <td>POS1230</td>\n",
       "      <td>VS7</td>\n",
       "      <td>S5</td>\n",
       "      <td>Direct</td>\n",
       "      <td>32600</td>\n",
       "      <td>Vol-Otro empleo</td>\n",
       "      <td>DNO</td>\n",
       "      <td>2023-01-03</td>\n",
       "      <td>JT012324</td>\n",
       "      <td>2019-08-29</td>\n",
       "      <td>4</td>\n",
       "      <td>40.766667</td>\n",
       "      <td>1223</td>\n",
       "      <td>Masculino</td>\n",
       "      <td>JUAREZ</td>\n",
       "      <td>Mexican</td>\n",
       "      <td>23</td>\n",
       "      <td>10+ Years</td>\n",
       "      <td>solter</td>\n",
       "      <td>0</td>\n",
       "    </tr>\n",
       "    <tr>\n",
       "      <th>3</th>\n",
       "      <td>POS1661</td>\n",
       "      <td>MFS</td>\n",
       "      <td>S5</td>\n",
       "      <td>Direct</td>\n",
       "      <td>32575</td>\n",
       "      <td>Vol-Estudios</td>\n",
       "      <td>DO</td>\n",
       "      <td>2023-01-03</td>\n",
       "      <td>JT012324</td>\n",
       "      <td>2022-11-03</td>\n",
       "      <td>1</td>\n",
       "      <td>2.033333</td>\n",
       "      <td>61</td>\n",
       "      <td>Femenino</td>\n",
       "      <td>CIUDAD JUAREZ</td>\n",
       "      <td>Mexican</td>\n",
       "      <td>18</td>\n",
       "      <td>10+ Years</td>\n",
       "      <td>solter</td>\n",
       "      <td>0</td>\n",
       "    </tr>\n",
       "    <tr>\n",
       "      <th>4</th>\n",
       "      <td>POS1921</td>\n",
       "      <td>MFS</td>\n",
       "      <td>S5</td>\n",
       "      <td>Direct</td>\n",
       "      <td>32575</td>\n",
       "      <td>Vol-Cambio de domicilio</td>\n",
       "      <td>DO</td>\n",
       "      <td>2023-01-03</td>\n",
       "      <td>JT012324</td>\n",
       "      <td>2017-03-02</td>\n",
       "      <td>6</td>\n",
       "      <td>71.100000</td>\n",
       "      <td>2133</td>\n",
       "      <td>Masculino</td>\n",
       "      <td>JUAREZ</td>\n",
       "      <td>Mexican</td>\n",
       "      <td>26</td>\n",
       "      <td>10+ Years</td>\n",
       "      <td>solter</td>\n",
       "      <td>0</td>\n",
       "    </tr>\n",
       "  </tbody>\n",
       "</table>\n",
       "</div>"
      ],
      "text/plain": [
       "  Posición Area Á.liq. Grupo de personal  CODIGO POSTAL  \\\n",
       "0   POS514  LOG     S6            Exempt          32520   \n",
       "1  POS1745  MFS     S5            Direct          32217   \n",
       "2  POS1230  VS7     S5            Direct          32600   \n",
       "3  POS1661  MFS     S5            Direct          32575   \n",
       "4  POS1921  MFS     S5            Direct          32575   \n",
       "\n",
       "     Motivo de la RENUNCIA Banda       Baja  ReglaPHT       Alta  Años  \\\n",
       "0          Vol-Otro empleo    E3 2023-01-02  ADMINIST 2018-06-21     5   \n",
       "1          Vol-Otro empleo   DNO 2023-01-03  ADMINIST 2017-07-20     6   \n",
       "2          Vol-Otro empleo   DNO 2023-01-03  JT012324 2019-08-29     4   \n",
       "3             Vol-Estudios    DO 2023-01-03  JT012324 2022-11-03     1   \n",
       "4  Vol-Cambio de domicilio    DO 2023-01-03  JT012324 2017-03-02     6   \n",
       "\n",
       "       Meses  Antigüedad Clave de sexo Lugar de nacimiento Nacionalidad  \\\n",
       "0  55.200000        1656      Femenino              JUAREZ      Mexican   \n",
       "1  66.433333        1993     Masculino             DURANGO      Mexican   \n",
       "2  40.766667        1223     Masculino              JUAREZ      Mexican   \n",
       "3   2.033333          61      Femenino       CIUDAD JUAREZ      Mexican   \n",
       "4  71.100000        2133     Masculino              JUAREZ      Mexican   \n",
       "\n",
       "   Edad del empleado ¿Cuanto tiempo tiene viviendo en Cd. Juarez?  \\\n",
       "0                 31                                         <NA>   \n",
       "1                 25                                    10+ Years   \n",
       "2                 23                                    10+ Years   \n",
       "3                 18                                    10+ Years   \n",
       "4                 26                                    10+ Years   \n",
       "\n",
       "  Estado Civil  Hijos  \n",
       "0       solter      0  \n",
       "1       solter      0  \n",
       "2       solter      0  \n",
       "3       solter      0  \n",
       "4       solter      0  "
      ]
     },
     "execution_count": 72,
     "metadata": {},
     "output_type": "execute_result"
    }
   ],
   "source": [
    "#Cargamos los datos\n",
    "! pip install openpyxl\n",
    "data = pd.read_excel('data/bosch_aic_datathon.xlsx')\n",
    "\n",
    "# Hacemos copia de los datos\n",
    "data_sucia = data\n",
    "data_sucia.head()"
   ]
  },
  {
   "cell_type": "markdown",
   "metadata": {},
   "source": [
    "# Limpieza por columnas"
   ]
  },
  {
   "cell_type": "code",
   "execution_count": null,
   "metadata": {},
   "outputs": [],
   "source": []
  },
  {
   "cell_type": "code",
   "execution_count": null,
   "metadata": {},
   "outputs": [],
   "source": []
  },
  {
   "cell_type": "code",
   "execution_count": null,
   "metadata": {},
   "outputs": [],
   "source": []
  },
  {
   "cell_type": "code",
   "execution_count": null,
   "metadata": {},
   "outputs": [],
   "source": []
  },
  {
   "cell_type": "code",
   "execution_count": 73,
   "metadata": {},
   "outputs": [
    {
     "data": {
      "text/html": [
       "<div>\n",
       "<style scoped>\n",
       "    .dataframe tbody tr th:only-of-type {\n",
       "        vertical-align: middle;\n",
       "    }\n",
       "\n",
       "    .dataframe tbody tr th {\n",
       "        vertical-align: top;\n",
       "    }\n",
       "\n",
       "    .dataframe thead th {\n",
       "        text-align: right;\n",
       "    }\n",
       "</style>\n",
       "<table border=\"1\" class=\"dataframe\">\n",
       "  <thead>\n",
       "    <tr style=\"text-align: right;\">\n",
       "      <th></th>\n",
       "      <th>POSICIÓN</th>\n",
       "      <th>AREA</th>\n",
       "      <th>Á.LIQ.</th>\n",
       "      <th>GRUPO DE PERSONAL</th>\n",
       "      <th>CODIGO POSTAL</th>\n",
       "      <th>MOTIVO DE LA RENUNCIA</th>\n",
       "      <th>BANDA</th>\n",
       "      <th>BAJA</th>\n",
       "      <th>REGLAPHT</th>\n",
       "      <th>ALTA</th>\n",
       "      <th>AÑOS</th>\n",
       "      <th>MESES</th>\n",
       "      <th>ANTIGÜEDAD</th>\n",
       "      <th>CLAVE DE SEXO</th>\n",
       "      <th>LUGAR DE NACIMIENTO</th>\n",
       "      <th>NACIONALIDAD</th>\n",
       "      <th>EDAD DEL EMPLEADO</th>\n",
       "      <th>¿CUANTO TIEMPO TIENE VIVIENDO EN CD. JUAREZ?</th>\n",
       "      <th>ESTADO CIVIL</th>\n",
       "      <th>HIJOS</th>\n",
       "    </tr>\n",
       "  </thead>\n",
       "  <tbody>\n",
       "    <tr>\n",
       "      <th>0</th>\n",
       "      <td>POS514</td>\n",
       "      <td>LOG</td>\n",
       "      <td>S6</td>\n",
       "      <td>Exempt</td>\n",
       "      <td>32520</td>\n",
       "      <td>Vol-Otro empleo</td>\n",
       "      <td>E3</td>\n",
       "      <td>2023-01-02</td>\n",
       "      <td>ADMINIST</td>\n",
       "      <td>2018-06-21</td>\n",
       "      <td>5</td>\n",
       "      <td>55.200000</td>\n",
       "      <td>1656</td>\n",
       "      <td>Femenino</td>\n",
       "      <td>JUAREZ</td>\n",
       "      <td>Mexican</td>\n",
       "      <td>31</td>\n",
       "      <td>None</td>\n",
       "      <td>solter</td>\n",
       "      <td>0</td>\n",
       "    </tr>\n",
       "    <tr>\n",
       "      <th>1</th>\n",
       "      <td>POS1745</td>\n",
       "      <td>MFS</td>\n",
       "      <td>S5</td>\n",
       "      <td>Direct</td>\n",
       "      <td>32217</td>\n",
       "      <td>Vol-Otro empleo</td>\n",
       "      <td>DNO</td>\n",
       "      <td>2023-01-03</td>\n",
       "      <td>ADMINIST</td>\n",
       "      <td>2017-07-20</td>\n",
       "      <td>6</td>\n",
       "      <td>66.433333</td>\n",
       "      <td>1993</td>\n",
       "      <td>Masculino</td>\n",
       "      <td>DURANGO</td>\n",
       "      <td>Mexican</td>\n",
       "      <td>25</td>\n",
       "      <td>10+ Years</td>\n",
       "      <td>solter</td>\n",
       "      <td>0</td>\n",
       "    </tr>\n",
       "    <tr>\n",
       "      <th>2</th>\n",
       "      <td>POS1230</td>\n",
       "      <td>VS7</td>\n",
       "      <td>S5</td>\n",
       "      <td>Direct</td>\n",
       "      <td>32600</td>\n",
       "      <td>Vol-Otro empleo</td>\n",
       "      <td>DNO</td>\n",
       "      <td>2023-01-03</td>\n",
       "      <td>JT012324</td>\n",
       "      <td>2019-08-29</td>\n",
       "      <td>4</td>\n",
       "      <td>40.766667</td>\n",
       "      <td>1223</td>\n",
       "      <td>Masculino</td>\n",
       "      <td>JUAREZ</td>\n",
       "      <td>Mexican</td>\n",
       "      <td>23</td>\n",
       "      <td>10+ Years</td>\n",
       "      <td>solter</td>\n",
       "      <td>0</td>\n",
       "    </tr>\n",
       "    <tr>\n",
       "      <th>3</th>\n",
       "      <td>POS1661</td>\n",
       "      <td>MFS</td>\n",
       "      <td>S5</td>\n",
       "      <td>Direct</td>\n",
       "      <td>32575</td>\n",
       "      <td>Vol-Estudios</td>\n",
       "      <td>DO</td>\n",
       "      <td>2023-01-03</td>\n",
       "      <td>JT012324</td>\n",
       "      <td>2022-11-03</td>\n",
       "      <td>1</td>\n",
       "      <td>2.033333</td>\n",
       "      <td>61</td>\n",
       "      <td>Femenino</td>\n",
       "      <td>CIUDAD JUAREZ</td>\n",
       "      <td>Mexican</td>\n",
       "      <td>18</td>\n",
       "      <td>10+ Years</td>\n",
       "      <td>solter</td>\n",
       "      <td>0</td>\n",
       "    </tr>\n",
       "    <tr>\n",
       "      <th>4</th>\n",
       "      <td>POS1921</td>\n",
       "      <td>MFS</td>\n",
       "      <td>S5</td>\n",
       "      <td>Direct</td>\n",
       "      <td>32575</td>\n",
       "      <td>Vol-Cambio de domicilio</td>\n",
       "      <td>DO</td>\n",
       "      <td>2023-01-03</td>\n",
       "      <td>JT012324</td>\n",
       "      <td>2017-03-02</td>\n",
       "      <td>6</td>\n",
       "      <td>71.100000</td>\n",
       "      <td>2133</td>\n",
       "      <td>Masculino</td>\n",
       "      <td>JUAREZ</td>\n",
       "      <td>Mexican</td>\n",
       "      <td>26</td>\n",
       "      <td>10+ Years</td>\n",
       "      <td>solter</td>\n",
       "      <td>0</td>\n",
       "    </tr>\n",
       "  </tbody>\n",
       "</table>\n",
       "</div>"
      ],
      "text/plain": [
       "  POSICIÓN AREA Á.LIQ. GRUPO DE PERSONAL  CODIGO POSTAL  \\\n",
       "0   POS514  LOG     S6            Exempt          32520   \n",
       "1  POS1745  MFS     S5            Direct          32217   \n",
       "2  POS1230  VS7     S5            Direct          32600   \n",
       "3  POS1661  MFS     S5            Direct          32575   \n",
       "4  POS1921  MFS     S5            Direct          32575   \n",
       "\n",
       "     MOTIVO DE LA RENUNCIA BANDA       BAJA  REGLAPHT       ALTA  AÑOS  \\\n",
       "0          Vol-Otro empleo    E3 2023-01-02  ADMINIST 2018-06-21     5   \n",
       "1          Vol-Otro empleo   DNO 2023-01-03  ADMINIST 2017-07-20     6   \n",
       "2          Vol-Otro empleo   DNO 2023-01-03  JT012324 2019-08-29     4   \n",
       "3             Vol-Estudios    DO 2023-01-03  JT012324 2022-11-03     1   \n",
       "4  Vol-Cambio de domicilio    DO 2023-01-03  JT012324 2017-03-02     6   \n",
       "\n",
       "       MESES  ANTIGÜEDAD CLAVE DE SEXO LUGAR DE NACIMIENTO NACIONALIDAD  \\\n",
       "0  55.200000        1656      Femenino              JUAREZ      Mexican   \n",
       "1  66.433333        1993     Masculino             DURANGO      Mexican   \n",
       "2  40.766667        1223     Masculino              JUAREZ      Mexican   \n",
       "3   2.033333          61      Femenino       CIUDAD JUAREZ      Mexican   \n",
       "4  71.100000        2133     Masculino              JUAREZ      Mexican   \n",
       "\n",
       "   EDAD DEL EMPLEADO ¿CUANTO TIEMPO TIENE VIVIENDO EN CD. JUAREZ?  \\\n",
       "0                 31                                         <NA>   \n",
       "1                 25                                    10+ Years   \n",
       "2                 23                                    10+ Years   \n",
       "3                 18                                    10+ Years   \n",
       "4                 26                                    10+ Years   \n",
       "\n",
       "  ESTADO CIVIL  HIJOS  \n",
       "0       solter      0  \n",
       "1       solter      0  \n",
       "2       solter      0  \n",
       "3       solter      0  \n",
       "4       solter      0  "
      ]
     },
     "execution_count": 73,
     "metadata": {},
     "output_type": "execute_result"
    }
   ],
   "source": [
    "# Poner todas las columnas en mayúsculas\n",
    "data_sucia.columns = map(str.upper, data_sucia.columns)\n",
    "data_sucia.head()"
   ]
  },
  {
   "cell_type": "markdown",
   "metadata": {},
   "source": [
    "### Posicion"
   ]
  },
  {
   "cell_type": "markdown",
   "metadata": {},
   "source": [
    "### Area"
   ]
  },
  {
   "cell_type": "markdown",
   "metadata": {},
   "source": [
    "### A Liquida"
   ]
  },
  {
   "cell_type": "code",
   "execution_count": 74,
   "metadata": {},
   "outputs": [
    {
     "ename": "KeyError",
     "evalue": "'Á.liq.'",
     "output_type": "error",
     "traceback": [
      "\u001b[0;31m---------------------------------------------------------------------------\u001b[0m",
      "\u001b[0;31mArrowTypeError\u001b[0m                            Traceback (most recent call last)",
      "File \u001b[0;32m~/anaconda3/envs/rapids-23.10/lib/python3.10/site-packages/cudf/pandas/fast_slow_proxy.py:836\u001b[0m, in \u001b[0;36m_fast_slow_function_call\u001b[0;34m(func, *args, **kwargs)\u001b[0m\n\u001b[1;32m    831\u001b[0m \u001b[38;5;28;01mwith\u001b[39;00m nvtx\u001b[38;5;241m.\u001b[39mannotate(\n\u001b[1;32m    832\u001b[0m     \u001b[38;5;124m\"\u001b[39m\u001b[38;5;124mEXECUTE_FAST\u001b[39m\u001b[38;5;124m\"\u001b[39m,\n\u001b[1;32m    833\u001b[0m     color\u001b[38;5;241m=\u001b[39m_CUDF_PANDAS_NVTX_COLORS[\u001b[38;5;124m\"\u001b[39m\u001b[38;5;124mEXECUTE_FAST\u001b[39m\u001b[38;5;124m\"\u001b[39m],\n\u001b[1;32m    834\u001b[0m     domain\u001b[38;5;241m=\u001b[39m\u001b[38;5;124m\"\u001b[39m\u001b[38;5;124mcudf_pandas\u001b[39m\u001b[38;5;124m\"\u001b[39m,\n\u001b[1;32m    835\u001b[0m ):\n\u001b[0;32m--> 836\u001b[0m     fast_args, fast_kwargs \u001b[38;5;241m=\u001b[39m \u001b[43m_fast_arg\u001b[49m\u001b[43m(\u001b[49m\u001b[43margs\u001b[49m\u001b[43m)\u001b[49m, _fast_arg(kwargs)\n\u001b[1;32m    837\u001b[0m     result \u001b[38;5;241m=\u001b[39m func(\u001b[38;5;241m*\u001b[39mfast_args, \u001b[38;5;241m*\u001b[39m\u001b[38;5;241m*\u001b[39mfast_kwargs)\n",
      "File \u001b[0;32m~/anaconda3/envs/rapids-23.10/lib/python3.10/site-packages/cudf/pandas/fast_slow_proxy.py:955\u001b[0m, in \u001b[0;36m_fast_arg\u001b[0;34m(arg)\u001b[0m\n\u001b[1;32m    954\u001b[0m seen: Set[\u001b[38;5;28mint\u001b[39m] \u001b[38;5;241m=\u001b[39m \u001b[38;5;28mset\u001b[39m()\n\u001b[0;32m--> 955\u001b[0m \u001b[38;5;28;01mreturn\u001b[39;00m \u001b[43m_transform_arg\u001b[49m\u001b[43m(\u001b[49m\u001b[43marg\u001b[49m\u001b[43m,\u001b[49m\u001b[43m \u001b[49m\u001b[38;5;124;43m\"\u001b[39;49m\u001b[38;5;124;43m_fsproxy_fast\u001b[39;49m\u001b[38;5;124;43m\"\u001b[39;49m\u001b[43m,\u001b[49m\u001b[43m \u001b[49m\u001b[43mseen\u001b[49m\u001b[43m)\u001b[49m\n",
      "File \u001b[0;32m~/anaconda3/envs/rapids-23.10/lib/python3.10/site-packages/cudf/pandas/fast_slow_proxy.py:882\u001b[0m, in \u001b[0;36m_transform_arg\u001b[0;34m(arg, attribute_name, seen)\u001b[0m\n\u001b[1;32m    880\u001b[0m \u001b[38;5;28;01mif\u001b[39;00m \u001b[38;5;28mtype\u001b[39m(arg) \u001b[38;5;129;01mis\u001b[39;00m \u001b[38;5;28mtuple\u001b[39m:\n\u001b[1;32m    881\u001b[0m     \u001b[38;5;66;03m# Must come first to avoid infinite recursion\u001b[39;00m\n\u001b[0;32m--> 882\u001b[0m     \u001b[38;5;28;01mreturn\u001b[39;00m \u001b[38;5;28;43mtuple\u001b[39;49m\u001b[43m(\u001b[49m\u001b[43m_transform_arg\u001b[49m\u001b[43m(\u001b[49m\u001b[43ma\u001b[49m\u001b[43m,\u001b[49m\u001b[43m \u001b[49m\u001b[43mattribute_name\u001b[49m\u001b[43m,\u001b[49m\u001b[43m \u001b[49m\u001b[43mseen\u001b[49m\u001b[43m)\u001b[49m\u001b[43m \u001b[49m\u001b[38;5;28;43;01mfor\u001b[39;49;00m\u001b[43m \u001b[49m\u001b[43ma\u001b[49m\u001b[43m \u001b[49m\u001b[38;5;129;43;01min\u001b[39;49;00m\u001b[43m \u001b[49m\u001b[43marg\u001b[49m\u001b[43m)\u001b[49m\n\u001b[1;32m    883\u001b[0m \u001b[38;5;28;01melif\u001b[39;00m \u001b[38;5;28mhasattr\u001b[39m(arg, \u001b[38;5;124m\"\u001b[39m\u001b[38;5;124m__getnewargs_ex__\u001b[39m\u001b[38;5;124m\"\u001b[39m):\n\u001b[1;32m    884\u001b[0m     \u001b[38;5;66;03m# Partial implementation of to reconstruct with\u001b[39;00m\n\u001b[1;32m    885\u001b[0m     \u001b[38;5;66;03m# transformed pieces\u001b[39;00m\n\u001b[1;32m    886\u001b[0m     \u001b[38;5;66;03m# This handles scipy._lib._bunch._make_tuple_bunch\u001b[39;00m\n",
      "File \u001b[0;32m~/anaconda3/envs/rapids-23.10/lib/python3.10/site-packages/cudf/pandas/fast_slow_proxy.py:882\u001b[0m, in \u001b[0;36m<genexpr>\u001b[0;34m(.0)\u001b[0m\n\u001b[1;32m    880\u001b[0m \u001b[38;5;28;01mif\u001b[39;00m \u001b[38;5;28mtype\u001b[39m(arg) \u001b[38;5;129;01mis\u001b[39;00m \u001b[38;5;28mtuple\u001b[39m:\n\u001b[1;32m    881\u001b[0m     \u001b[38;5;66;03m# Must come first to avoid infinite recursion\u001b[39;00m\n\u001b[0;32m--> 882\u001b[0m     \u001b[38;5;28;01mreturn\u001b[39;00m \u001b[38;5;28mtuple\u001b[39m(\u001b[43m_transform_arg\u001b[49m\u001b[43m(\u001b[49m\u001b[43ma\u001b[49m\u001b[43m,\u001b[49m\u001b[43m \u001b[49m\u001b[43mattribute_name\u001b[49m\u001b[43m,\u001b[49m\u001b[43m \u001b[49m\u001b[43mseen\u001b[49m\u001b[43m)\u001b[49m \u001b[38;5;28;01mfor\u001b[39;00m a \u001b[38;5;129;01min\u001b[39;00m arg)\n\u001b[1;32m    883\u001b[0m \u001b[38;5;28;01melif\u001b[39;00m \u001b[38;5;28mhasattr\u001b[39m(arg, \u001b[38;5;124m\"\u001b[39m\u001b[38;5;124m__getnewargs_ex__\u001b[39m\u001b[38;5;124m\"\u001b[39m):\n\u001b[1;32m    884\u001b[0m     \u001b[38;5;66;03m# Partial implementation of to reconstruct with\u001b[39;00m\n\u001b[1;32m    885\u001b[0m     \u001b[38;5;66;03m# transformed pieces\u001b[39;00m\n\u001b[1;32m    886\u001b[0m     \u001b[38;5;66;03m# This handles scipy._lib._bunch._make_tuple_bunch\u001b[39;00m\n",
      "File \u001b[0;32m~/anaconda3/envs/rapids-23.10/lib/python3.10/site-packages/cudf/pandas/fast_slow_proxy.py:865\u001b[0m, in \u001b[0;36m_transform_arg\u001b[0;34m(arg, attribute_name, seen)\u001b[0m\n\u001b[1;32m    864\u001b[0m \u001b[38;5;28;01mif\u001b[39;00m \u001b[38;5;28misinstance\u001b[39m(arg, (_FastSlowProxy, _FastSlowProxyMeta, _FunctionProxy)):\n\u001b[0;32m--> 865\u001b[0m     typ \u001b[38;5;241m=\u001b[39m \u001b[38;5;28;43mgetattr\u001b[39;49m\u001b[43m(\u001b[49m\u001b[43marg\u001b[49m\u001b[43m,\u001b[49m\u001b[43m \u001b[49m\u001b[43mattribute_name\u001b[49m\u001b[43m)\u001b[49m\n\u001b[1;32m    866\u001b[0m     \u001b[38;5;28;01mif\u001b[39;00m typ \u001b[38;5;129;01mis\u001b[39;00m _Unusable:\n",
      "File \u001b[0;32m~/anaconda3/envs/rapids-23.10/lib/python3.10/site-packages/cudf/pandas/fast_slow_proxy.py:542\u001b[0m, in \u001b[0;36m_FastSlowProxy._fsproxy_fast\u001b[0;34m(self)\u001b[0m\n\u001b[1;32m    537\u001b[0m \u001b[38;5;250m\u001b[39m\u001b[38;5;124;03m\"\"\"\u001b[39;00m\n\u001b[1;32m    538\u001b[0m \u001b[38;5;124;03mReturns the wrapped object. If the wrapped object is of \"slow\"\u001b[39;00m\n\u001b[1;32m    539\u001b[0m \u001b[38;5;124;03mtype, replaces it with the corresponding \"fast\" object before\u001b[39;00m\n\u001b[1;32m    540\u001b[0m \u001b[38;5;124;03mreturning it.\u001b[39;00m\n\u001b[1;32m    541\u001b[0m \u001b[38;5;124;03m\"\"\"\u001b[39;00m\n\u001b[0;32m--> 542\u001b[0m \u001b[38;5;28mself\u001b[39m\u001b[38;5;241m.\u001b[39m_fsproxy_wrapped \u001b[38;5;241m=\u001b[39m \u001b[38;5;28;43mself\u001b[39;49m\u001b[38;5;241;43m.\u001b[39;49m\u001b[43m_fsproxy_slow_to_fast\u001b[49m\u001b[43m(\u001b[49m\u001b[43m)\u001b[49m\n\u001b[1;32m    543\u001b[0m \u001b[38;5;28;01mreturn\u001b[39;00m \u001b[38;5;28mself\u001b[39m\u001b[38;5;241m.\u001b[39m_fsproxy_wrapped\n",
      "File \u001b[0;32m~/anaconda3/envs/rapids-23.10/lib/python3.10/site-packages/nvtx/nvtx.py:115\u001b[0m, in \u001b[0;36mannotate.__call__.<locals>.inner\u001b[0;34m(*args, **kwargs)\u001b[0m\n\u001b[1;32m    114\u001b[0m libnvtx_push_range(\u001b[38;5;28mself\u001b[39m\u001b[38;5;241m.\u001b[39mattributes, \u001b[38;5;28mself\u001b[39m\u001b[38;5;241m.\u001b[39mdomain\u001b[38;5;241m.\u001b[39mhandle)\n\u001b[0;32m--> 115\u001b[0m result \u001b[38;5;241m=\u001b[39m \u001b[43mfunc\u001b[49m\u001b[43m(\u001b[49m\u001b[38;5;241;43m*\u001b[39;49m\u001b[43margs\u001b[49m\u001b[43m,\u001b[49m\u001b[43m \u001b[49m\u001b[38;5;241;43m*\u001b[39;49m\u001b[38;5;241;43m*\u001b[39;49m\u001b[43mkwargs\u001b[49m\u001b[43m)\u001b[49m\n\u001b[1;32m    116\u001b[0m libnvtx_pop_range(\u001b[38;5;28mself\u001b[39m\u001b[38;5;241m.\u001b[39mdomain\u001b[38;5;241m.\u001b[39mhandle)\n",
      "File \u001b[0;32m~/anaconda3/envs/rapids-23.10/lib/python3.10/site-packages/cudf/pandas/fast_slow_proxy.py:762\u001b[0m, in \u001b[0;36m_IntermediateProxy._fsproxy_slow_to_fast\u001b[0;34m(self)\u001b[0m\n\u001b[1;32m    761\u001b[0m func, args, kwargs \u001b[38;5;241m=\u001b[39m \u001b[38;5;28mself\u001b[39m\u001b[38;5;241m.\u001b[39m_method_chain\n\u001b[0;32m--> 762\u001b[0m args, kwargs \u001b[38;5;241m=\u001b[39m \u001b[43m_fast_arg\u001b[49m\u001b[43m(\u001b[49m\u001b[43margs\u001b[49m\u001b[43m)\u001b[49m, _fast_arg(kwargs)\n\u001b[1;32m    763\u001b[0m \u001b[38;5;28;01mreturn\u001b[39;00m func(\u001b[38;5;241m*\u001b[39margs, \u001b[38;5;241m*\u001b[39m\u001b[38;5;241m*\u001b[39mkwargs)\n",
      "File \u001b[0;32m~/anaconda3/envs/rapids-23.10/lib/python3.10/site-packages/cudf/pandas/fast_slow_proxy.py:955\u001b[0m, in \u001b[0;36m_fast_arg\u001b[0;34m(arg)\u001b[0m\n\u001b[1;32m    954\u001b[0m seen: Set[\u001b[38;5;28mint\u001b[39m] \u001b[38;5;241m=\u001b[39m \u001b[38;5;28mset\u001b[39m()\n\u001b[0;32m--> 955\u001b[0m \u001b[38;5;28;01mreturn\u001b[39;00m \u001b[43m_transform_arg\u001b[49m\u001b[43m(\u001b[49m\u001b[43marg\u001b[49m\u001b[43m,\u001b[49m\u001b[43m \u001b[49m\u001b[38;5;124;43m\"\u001b[39;49m\u001b[38;5;124;43m_fsproxy_fast\u001b[39;49m\u001b[38;5;124;43m\"\u001b[39;49m\u001b[43m,\u001b[49m\u001b[43m \u001b[49m\u001b[43mseen\u001b[49m\u001b[43m)\u001b[49m\n",
      "File \u001b[0;32m~/anaconda3/envs/rapids-23.10/lib/python3.10/site-packages/cudf/pandas/fast_slow_proxy.py:882\u001b[0m, in \u001b[0;36m_transform_arg\u001b[0;34m(arg, attribute_name, seen)\u001b[0m\n\u001b[1;32m    880\u001b[0m \u001b[38;5;28;01mif\u001b[39;00m \u001b[38;5;28mtype\u001b[39m(arg) \u001b[38;5;129;01mis\u001b[39;00m \u001b[38;5;28mtuple\u001b[39m:\n\u001b[1;32m    881\u001b[0m     \u001b[38;5;66;03m# Must come first to avoid infinite recursion\u001b[39;00m\n\u001b[0;32m--> 882\u001b[0m     \u001b[38;5;28;01mreturn\u001b[39;00m \u001b[38;5;28;43mtuple\u001b[39;49m\u001b[43m(\u001b[49m\u001b[43m_transform_arg\u001b[49m\u001b[43m(\u001b[49m\u001b[43ma\u001b[49m\u001b[43m,\u001b[49m\u001b[43m \u001b[49m\u001b[43mattribute_name\u001b[49m\u001b[43m,\u001b[49m\u001b[43m \u001b[49m\u001b[43mseen\u001b[49m\u001b[43m)\u001b[49m\u001b[43m \u001b[49m\u001b[38;5;28;43;01mfor\u001b[39;49;00m\u001b[43m \u001b[49m\u001b[43ma\u001b[49m\u001b[43m \u001b[49m\u001b[38;5;129;43;01min\u001b[39;49;00m\u001b[43m \u001b[49m\u001b[43marg\u001b[49m\u001b[43m)\u001b[49m\n\u001b[1;32m    883\u001b[0m \u001b[38;5;28;01melif\u001b[39;00m \u001b[38;5;28mhasattr\u001b[39m(arg, \u001b[38;5;124m\"\u001b[39m\u001b[38;5;124m__getnewargs_ex__\u001b[39m\u001b[38;5;124m\"\u001b[39m):\n\u001b[1;32m    884\u001b[0m     \u001b[38;5;66;03m# Partial implementation of to reconstruct with\u001b[39;00m\n\u001b[1;32m    885\u001b[0m     \u001b[38;5;66;03m# transformed pieces\u001b[39;00m\n\u001b[1;32m    886\u001b[0m     \u001b[38;5;66;03m# This handles scipy._lib._bunch._make_tuple_bunch\u001b[39;00m\n",
      "File \u001b[0;32m~/anaconda3/envs/rapids-23.10/lib/python3.10/site-packages/cudf/pandas/fast_slow_proxy.py:882\u001b[0m, in \u001b[0;36m<genexpr>\u001b[0;34m(.0)\u001b[0m\n\u001b[1;32m    880\u001b[0m \u001b[38;5;28;01mif\u001b[39;00m \u001b[38;5;28mtype\u001b[39m(arg) \u001b[38;5;129;01mis\u001b[39;00m \u001b[38;5;28mtuple\u001b[39m:\n\u001b[1;32m    881\u001b[0m     \u001b[38;5;66;03m# Must come first to avoid infinite recursion\u001b[39;00m\n\u001b[0;32m--> 882\u001b[0m     \u001b[38;5;28;01mreturn\u001b[39;00m \u001b[38;5;28mtuple\u001b[39m(\u001b[43m_transform_arg\u001b[49m\u001b[43m(\u001b[49m\u001b[43ma\u001b[49m\u001b[43m,\u001b[49m\u001b[43m \u001b[49m\u001b[43mattribute_name\u001b[49m\u001b[43m,\u001b[49m\u001b[43m \u001b[49m\u001b[43mseen\u001b[49m\u001b[43m)\u001b[49m \u001b[38;5;28;01mfor\u001b[39;00m a \u001b[38;5;129;01min\u001b[39;00m arg)\n\u001b[1;32m    883\u001b[0m \u001b[38;5;28;01melif\u001b[39;00m \u001b[38;5;28mhasattr\u001b[39m(arg, \u001b[38;5;124m\"\u001b[39m\u001b[38;5;124m__getnewargs_ex__\u001b[39m\u001b[38;5;124m\"\u001b[39m):\n\u001b[1;32m    884\u001b[0m     \u001b[38;5;66;03m# Partial implementation of to reconstruct with\u001b[39;00m\n\u001b[1;32m    885\u001b[0m     \u001b[38;5;66;03m# transformed pieces\u001b[39;00m\n\u001b[1;32m    886\u001b[0m     \u001b[38;5;66;03m# This handles scipy._lib._bunch._make_tuple_bunch\u001b[39;00m\n",
      "File \u001b[0;32m~/anaconda3/envs/rapids-23.10/lib/python3.10/site-packages/cudf/pandas/fast_slow_proxy.py:865\u001b[0m, in \u001b[0;36m_transform_arg\u001b[0;34m(arg, attribute_name, seen)\u001b[0m\n\u001b[1;32m    864\u001b[0m \u001b[38;5;28;01mif\u001b[39;00m \u001b[38;5;28misinstance\u001b[39m(arg, (_FastSlowProxy, _FastSlowProxyMeta, _FunctionProxy)):\n\u001b[0;32m--> 865\u001b[0m     typ \u001b[38;5;241m=\u001b[39m \u001b[38;5;28;43mgetattr\u001b[39;49m\u001b[43m(\u001b[49m\u001b[43marg\u001b[49m\u001b[43m,\u001b[49m\u001b[43m \u001b[49m\u001b[43mattribute_name\u001b[49m\u001b[43m)\u001b[49m\n\u001b[1;32m    866\u001b[0m     \u001b[38;5;28;01mif\u001b[39;00m typ \u001b[38;5;129;01mis\u001b[39;00m _Unusable:\n",
      "File \u001b[0;32m~/anaconda3/envs/rapids-23.10/lib/python3.10/site-packages/cudf/pandas/fast_slow_proxy.py:542\u001b[0m, in \u001b[0;36m_FastSlowProxy._fsproxy_fast\u001b[0;34m(self)\u001b[0m\n\u001b[1;32m    537\u001b[0m \u001b[38;5;250m\u001b[39m\u001b[38;5;124;03m\"\"\"\u001b[39;00m\n\u001b[1;32m    538\u001b[0m \u001b[38;5;124;03mReturns the wrapped object. If the wrapped object is of \"slow\"\u001b[39;00m\n\u001b[1;32m    539\u001b[0m \u001b[38;5;124;03mtype, replaces it with the corresponding \"fast\" object before\u001b[39;00m\n\u001b[1;32m    540\u001b[0m \u001b[38;5;124;03mreturning it.\u001b[39;00m\n\u001b[1;32m    541\u001b[0m \u001b[38;5;124;03m\"\"\"\u001b[39;00m\n\u001b[0;32m--> 542\u001b[0m \u001b[38;5;28mself\u001b[39m\u001b[38;5;241m.\u001b[39m_fsproxy_wrapped \u001b[38;5;241m=\u001b[39m \u001b[38;5;28;43mself\u001b[39;49m\u001b[38;5;241;43m.\u001b[39;49m\u001b[43m_fsproxy_slow_to_fast\u001b[49m\u001b[43m(\u001b[49m\u001b[43m)\u001b[49m\n\u001b[1;32m    543\u001b[0m \u001b[38;5;28;01mreturn\u001b[39;00m \u001b[38;5;28mself\u001b[39m\u001b[38;5;241m.\u001b[39m_fsproxy_wrapped\n",
      "File \u001b[0;32m~/anaconda3/envs/rapids-23.10/lib/python3.10/site-packages/nvtx/nvtx.py:115\u001b[0m, in \u001b[0;36mannotate.__call__.<locals>.inner\u001b[0;34m(*args, **kwargs)\u001b[0m\n\u001b[1;32m    114\u001b[0m libnvtx_push_range(\u001b[38;5;28mself\u001b[39m\u001b[38;5;241m.\u001b[39mattributes, \u001b[38;5;28mself\u001b[39m\u001b[38;5;241m.\u001b[39mdomain\u001b[38;5;241m.\u001b[39mhandle)\n\u001b[0;32m--> 115\u001b[0m result \u001b[38;5;241m=\u001b[39m \u001b[43mfunc\u001b[49m\u001b[43m(\u001b[49m\u001b[38;5;241;43m*\u001b[39;49m\u001b[43margs\u001b[49m\u001b[43m,\u001b[49m\u001b[43m \u001b[49m\u001b[38;5;241;43m*\u001b[39;49m\u001b[38;5;241;43m*\u001b[39;49m\u001b[43mkwargs\u001b[49m\u001b[43m)\u001b[49m\n\u001b[1;32m    116\u001b[0m libnvtx_pop_range(\u001b[38;5;28mself\u001b[39m\u001b[38;5;241m.\u001b[39mdomain\u001b[38;5;241m.\u001b[39mhandle)\n",
      "File \u001b[0;32m~/anaconda3/envs/rapids-23.10/lib/python3.10/site-packages/cudf/pandas/fast_slow_proxy.py:169\u001b[0m, in \u001b[0;36mmake_final_proxy_type.<locals>._fsproxy_slow_to_fast\u001b[0;34m(self)\u001b[0m\n\u001b[1;32m    168\u001b[0m \u001b[38;5;28;01mif\u001b[39;00m \u001b[38;5;28mself\u001b[39m\u001b[38;5;241m.\u001b[39m_fsproxy_state \u001b[38;5;129;01mis\u001b[39;00m _State\u001b[38;5;241m.\u001b[39mSLOW:\n\u001b[0;32m--> 169\u001b[0m     \u001b[38;5;28;01mreturn\u001b[39;00m \u001b[43mslow_to_fast\u001b[49m\u001b[43m(\u001b[49m\u001b[38;5;28;43mself\u001b[39;49m\u001b[38;5;241;43m.\u001b[39;49m\u001b[43m_fsproxy_wrapped\u001b[49m\u001b[43m)\u001b[49m\n\u001b[1;32m    170\u001b[0m \u001b[38;5;28;01mreturn\u001b[39;00m \u001b[38;5;28mself\u001b[39m\u001b[38;5;241m.\u001b[39m_fsproxy_wrapped\n",
      "File \u001b[0;32m~/anaconda3/envs/rapids-23.10/lib/python3.10/site-packages/nvtx/nvtx.py:115\u001b[0m, in \u001b[0;36mannotate.__call__.<locals>.inner\u001b[0;34m(*args, **kwargs)\u001b[0m\n\u001b[1;32m    114\u001b[0m libnvtx_push_range(\u001b[38;5;28mself\u001b[39m\u001b[38;5;241m.\u001b[39mattributes, \u001b[38;5;28mself\u001b[39m\u001b[38;5;241m.\u001b[39mdomain\u001b[38;5;241m.\u001b[39mhandle)\n\u001b[0;32m--> 115\u001b[0m result \u001b[38;5;241m=\u001b[39m \u001b[43mfunc\u001b[49m\u001b[43m(\u001b[49m\u001b[38;5;241;43m*\u001b[39;49m\u001b[43margs\u001b[49m\u001b[43m,\u001b[49m\u001b[43m \u001b[49m\u001b[38;5;241;43m*\u001b[39;49m\u001b[38;5;241;43m*\u001b[39;49m\u001b[43mkwargs\u001b[49m\u001b[43m)\u001b[49m\n\u001b[1;32m    116\u001b[0m libnvtx_pop_range(\u001b[38;5;28mself\u001b[39m\u001b[38;5;241m.\u001b[39mdomain\u001b[38;5;241m.\u001b[39mhandle)\n",
      "File \u001b[0;32m~/anaconda3/envs/rapids-23.10/lib/python3.10/site-packages/cudf/core/dataframe.py:7890\u001b[0m, in \u001b[0;36mfrom_pandas\u001b[0;34m(obj, nan_as_null)\u001b[0m\n\u001b[1;32m   7889\u001b[0m \u001b[38;5;28;01mif\u001b[39;00m \u001b[38;5;28misinstance\u001b[39m(obj, pd\u001b[38;5;241m.\u001b[39mDataFrame):\n\u001b[0;32m-> 7890\u001b[0m     \u001b[38;5;28;01mreturn\u001b[39;00m \u001b[43mDataFrame\u001b[49m\u001b[38;5;241;43m.\u001b[39;49m\u001b[43mfrom_pandas\u001b[49m\u001b[43m(\u001b[49m\u001b[43mobj\u001b[49m\u001b[43m,\u001b[49m\u001b[43m \u001b[49m\u001b[43mnan_as_null\u001b[49m\u001b[38;5;241;43m=\u001b[39;49m\u001b[43mnan_as_null\u001b[49m\u001b[43m)\u001b[49m\n\u001b[1;32m   7891\u001b[0m \u001b[38;5;28;01melif\u001b[39;00m \u001b[38;5;28misinstance\u001b[39m(obj, pd\u001b[38;5;241m.\u001b[39mSeries):\n",
      "File \u001b[0;32m~/anaconda3/envs/rapids-23.10/lib/python3.10/site-packages/nvtx/nvtx.py:115\u001b[0m, in \u001b[0;36mannotate.__call__.<locals>.inner\u001b[0;34m(*args, **kwargs)\u001b[0m\n\u001b[1;32m    114\u001b[0m libnvtx_push_range(\u001b[38;5;28mself\u001b[39m\u001b[38;5;241m.\u001b[39mattributes, \u001b[38;5;28mself\u001b[39m\u001b[38;5;241m.\u001b[39mdomain\u001b[38;5;241m.\u001b[39mhandle)\n\u001b[0;32m--> 115\u001b[0m result \u001b[38;5;241m=\u001b[39m \u001b[43mfunc\u001b[49m\u001b[43m(\u001b[49m\u001b[38;5;241;43m*\u001b[39;49m\u001b[43margs\u001b[49m\u001b[43m,\u001b[49m\u001b[43m \u001b[49m\u001b[38;5;241;43m*\u001b[39;49m\u001b[38;5;241;43m*\u001b[39;49m\u001b[43mkwargs\u001b[49m\u001b[43m)\u001b[49m\n\u001b[1;32m    116\u001b[0m libnvtx_pop_range(\u001b[38;5;28mself\u001b[39m\u001b[38;5;241m.\u001b[39mdomain\u001b[38;5;241m.\u001b[39mhandle)\n",
      "File \u001b[0;32m~/anaconda3/envs/rapids-23.10/lib/python3.10/site-packages/cudf/core/dataframe.py:5240\u001b[0m, in \u001b[0;36mDataFrame.from_pandas\u001b[0;34m(cls, dataframe, nan_as_null)\u001b[0m\n\u001b[1;32m   5239\u001b[0m \u001b[38;5;28;01mif\u001b[39;00m \u001b[38;5;28mlen\u001b[39m(col_value\u001b[38;5;241m.\u001b[39mshape) \u001b[38;5;241m==\u001b[39m \u001b[38;5;241m1\u001b[39m:\n\u001b[0;32m-> 5240\u001b[0m     data[col_name] \u001b[38;5;241m=\u001b[39m \u001b[43mcolumn\u001b[49m\u001b[38;5;241;43m.\u001b[39;49m\u001b[43mas_column\u001b[49m\u001b[43m(\u001b[49m\n\u001b[1;32m   5241\u001b[0m \u001b[43m        \u001b[49m\u001b[43mcol_value\u001b[49m\u001b[38;5;241;43m.\u001b[39;49m\u001b[43marray\u001b[49m\u001b[43m,\u001b[49m\u001b[43m \u001b[49m\u001b[43mnan_as_null\u001b[49m\u001b[38;5;241;43m=\u001b[39;49m\u001b[43mnan_as_null\u001b[49m\n\u001b[1;32m   5242\u001b[0m \u001b[43m    \u001b[49m\u001b[43m)\u001b[49m\n\u001b[1;32m   5243\u001b[0m \u001b[38;5;28;01melse\u001b[39;00m:\n",
      "File \u001b[0;32m~/anaconda3/envs/rapids-23.10/lib/python3.10/site-packages/cudf/core/column/column.py:2264\u001b[0m, in \u001b[0;36mas_column\u001b[0;34m(arbitrary, nan_as_null, dtype, length)\u001b[0m\n\u001b[1;32m   2263\u001b[0m \u001b[38;5;28;01melif\u001b[39;00m arb_dtype\u001b[38;5;241m.\u001b[39mkind \u001b[38;5;129;01min\u001b[39;00m (\u001b[38;5;124m\"\u001b[39m\u001b[38;5;124mO\u001b[39m\u001b[38;5;124m\"\u001b[39m, \u001b[38;5;124m\"\u001b[39m\u001b[38;5;124mU\u001b[39m\u001b[38;5;124m\"\u001b[39m):\n\u001b[0;32m-> 2264\u001b[0m     pyarrow_array \u001b[38;5;241m=\u001b[39m \u001b[43mpa\u001b[49m\u001b[38;5;241;43m.\u001b[39;49m\u001b[43mArray\u001b[49m\u001b[38;5;241;43m.\u001b[39;49m\u001b[43mfrom_pandas\u001b[49m\u001b[43m(\u001b[49m\u001b[43marbitrary\u001b[49m\u001b[43m)\u001b[49m\n\u001b[1;32m   2265\u001b[0m     \u001b[38;5;28;01mif\u001b[39;00m \u001b[38;5;129;01mnot\u001b[39;00m \u001b[38;5;28misinstance\u001b[39m(\n\u001b[1;32m   2266\u001b[0m         pyarrow_array,\n\u001b[1;32m   2267\u001b[0m         (\n\u001b[0;32m   (...)\u001b[0m\n\u001b[1;32m   2274\u001b[0m         ),\n\u001b[1;32m   2275\u001b[0m     ):\n",
      "File \u001b[0;32m~/anaconda3/envs/rapids-23.10/lib/python3.10/site-packages/pyarrow/array.pxi:1054\u001b[0m, in \u001b[0;36mpyarrow.lib.Array.from_pandas\u001b[0;34m()\u001b[0m\n",
      "File \u001b[0;32m~/anaconda3/envs/rapids-23.10/lib/python3.10/site-packages/pyarrow/array.pxi:323\u001b[0m, in \u001b[0;36mpyarrow.lib.array\u001b[0;34m()\u001b[0m\n",
      "File \u001b[0;32m~/anaconda3/envs/rapids-23.10/lib/python3.10/site-packages/pyarrow/array.pxi:83\u001b[0m, in \u001b[0;36mpyarrow.lib._ndarray_to_array\u001b[0;34m()\u001b[0m\n",
      "File \u001b[0;32m~/anaconda3/envs/rapids-23.10/lib/python3.10/site-packages/pyarrow/error.pxi:123\u001b[0m, in \u001b[0;36mpyarrow.lib.check_status\u001b[0;34m()\u001b[0m\n",
      "\u001b[0;31mArrowTypeError\u001b[0m: Expected bytes, got a 'int' object",
      "\nDuring handling of the above exception, another exception occurred:\n",
      "\u001b[0;31mKeyError\u001b[0m                                  Traceback (most recent call last)",
      "File \u001b[0;32m~/anaconda3/envs/rapids-23.10/lib/python3.10/site-packages/pandas/core/indexes/base.py:3802\u001b[0m, in \u001b[0;36mIndex.get_loc\u001b[0;34m(self, key, method, tolerance)\u001b[0m\n\u001b[1;32m   3801\u001b[0m \u001b[38;5;28;01mtry\u001b[39;00m:\n\u001b[0;32m-> 3802\u001b[0m     \u001b[38;5;28;01mreturn\u001b[39;00m \u001b[38;5;28;43mself\u001b[39;49m\u001b[38;5;241;43m.\u001b[39;49m\u001b[43m_engine\u001b[49m\u001b[38;5;241;43m.\u001b[39;49m\u001b[43mget_loc\u001b[49m\u001b[43m(\u001b[49m\u001b[43mcasted_key\u001b[49m\u001b[43m)\u001b[49m\n\u001b[1;32m   3803\u001b[0m \u001b[38;5;28;01mexcept\u001b[39;00m \u001b[38;5;167;01mKeyError\u001b[39;00m \u001b[38;5;28;01mas\u001b[39;00m err:\n",
      "File \u001b[0;32m~/anaconda3/envs/rapids-23.10/lib/python3.10/site-packages/pandas/_libs/index.pyx:138\u001b[0m, in \u001b[0;36mpandas._libs.index.IndexEngine.get_loc\u001b[0;34m()\u001b[0m\n",
      "File \u001b[0;32m~/anaconda3/envs/rapids-23.10/lib/python3.10/site-packages/pandas/_libs/index.pyx:165\u001b[0m, in \u001b[0;36mpandas._libs.index.IndexEngine.get_loc\u001b[0;34m()\u001b[0m\n",
      "File \u001b[0;32mpandas/_libs/hashtable_class_helper.pxi:5745\u001b[0m, in \u001b[0;36mpandas._libs.hashtable.PyObjectHashTable.get_item\u001b[0;34m()\u001b[0m\n",
      "File \u001b[0;32mpandas/_libs/hashtable_class_helper.pxi:5753\u001b[0m, in \u001b[0;36mpandas._libs.hashtable.PyObjectHashTable.get_item\u001b[0;34m()\u001b[0m\n",
      "\u001b[0;31mKeyError\u001b[0m: 'Á.liq.'",
      "\nThe above exception was the direct cause of the following exception:\n",
      "\u001b[0;31mKeyError\u001b[0m                                  Traceback (most recent call last)",
      "Cell \u001b[0;32mIn[74], line 2\u001b[0m\n\u001b[1;32m      1\u001b[0m \u001b[38;5;66;03m# Convierte columna Á.liq. a categoricos\u001b[39;00m\n\u001b[0;32m----> 2\u001b[0m data_sucia[\u001b[38;5;124m'\u001b[39m\u001b[38;5;124mÁ.liq.\u001b[39m\u001b[38;5;124m'\u001b[39m] \u001b[38;5;241m=\u001b[39m \u001b[43mdata_sucia\u001b[49m\u001b[43m[\u001b[49m\u001b[38;5;124;43m'\u001b[39;49m\u001b[38;5;124;43mÁ.liq.\u001b[39;49m\u001b[38;5;124;43m'\u001b[39;49m\u001b[43m]\u001b[49m\u001b[38;5;241m.\u001b[39mastype(\u001b[38;5;124m'\u001b[39m\u001b[38;5;124mcategory\u001b[39m\u001b[38;5;124m'\u001b[39m)\n\u001b[1;32m      3\u001b[0m \u001b[38;5;66;03m# Hace plot de pie de la columna Á.liq.\u001b[39;00m\n\u001b[1;32m      4\u001b[0m data_sucia[\u001b[38;5;124m'\u001b[39m\u001b[38;5;124mÁ.liq.\u001b[39m\u001b[38;5;124m'\u001b[39m]\u001b[38;5;241m.\u001b[39mvalue_counts()\u001b[38;5;241m.\u001b[39mplot(kind\u001b[38;5;241m=\u001b[39m\u001b[38;5;124m'\u001b[39m\u001b[38;5;124mpie\u001b[39m\u001b[38;5;124m'\u001b[39m, autopct\u001b[38;5;241m=\u001b[39m\u001b[38;5;124m'\u001b[39m\u001b[38;5;132;01m%.2f\u001b[39;00m\u001b[38;5;124m'\u001b[39m, figsize\u001b[38;5;241m=\u001b[39m(\u001b[38;5;241m6\u001b[39m, \u001b[38;5;241m6\u001b[39m))\n",
      "File \u001b[0;32m~/anaconda3/envs/rapids-23.10/lib/python3.10/site-packages/cudf/pandas/fast_slow_proxy.py:785\u001b[0m, in \u001b[0;36m_CallableProxyMixin.__call__\u001b[0;34m(self, *args, **kwargs)\u001b[0m\n\u001b[1;32m    784\u001b[0m \u001b[38;5;28;01mdef\u001b[39;00m \u001b[38;5;21m__call__\u001b[39m(\u001b[38;5;28mself\u001b[39m, \u001b[38;5;241m*\u001b[39margs, \u001b[38;5;241m*\u001b[39m\u001b[38;5;241m*\u001b[39mkwargs) \u001b[38;5;241m-\u001b[39m\u001b[38;5;241m>\u001b[39m Any:\n\u001b[0;32m--> 785\u001b[0m     result, _ \u001b[38;5;241m=\u001b[39m \u001b[43m_fast_slow_function_call\u001b[49m\u001b[43m(\u001b[49m\n\u001b[1;32m    786\u001b[0m \u001b[43m        \u001b[49m\u001b[38;5;66;43;03m# We cannot directly call self here because we need it to be\u001b[39;49;00m\n\u001b[1;32m    787\u001b[0m \u001b[43m        \u001b[49m\u001b[38;5;66;43;03m# converted into either the fast or slow object (by\u001b[39;49;00m\n\u001b[1;32m    788\u001b[0m \u001b[43m        \u001b[49m\u001b[38;5;66;43;03m# _fast_slow_function_call) to avoid infinite recursion.\u001b[39;49;00m\n\u001b[1;32m    789\u001b[0m \u001b[43m        \u001b[49m\u001b[38;5;66;43;03m# TODO: When Python 3.11 is the minimum supported Python version\u001b[39;49;00m\n\u001b[1;32m    790\u001b[0m \u001b[43m        \u001b[49m\u001b[38;5;66;43;03m# this can use operator.call\u001b[39;49;00m\n\u001b[1;32m    791\u001b[0m \u001b[43m        \u001b[49m\u001b[38;5;28;43;01mlambda\u001b[39;49;00m\u001b[43m \u001b[49m\u001b[43mfn\u001b[49m\u001b[43m,\u001b[49m\u001b[43m \u001b[49m\u001b[43margs\u001b[49m\u001b[43m,\u001b[49m\u001b[43m \u001b[49m\u001b[43mkwargs\u001b[49m\u001b[43m:\u001b[49m\u001b[43m \u001b[49m\u001b[43mfn\u001b[49m\u001b[43m(\u001b[49m\u001b[38;5;241;43m*\u001b[39;49m\u001b[43margs\u001b[49m\u001b[43m,\u001b[49m\u001b[43m \u001b[49m\u001b[38;5;241;43m*\u001b[39;49m\u001b[38;5;241;43m*\u001b[39;49m\u001b[43mkwargs\u001b[49m\u001b[43m)\u001b[49m\u001b[43m,\u001b[49m\n\u001b[1;32m    792\u001b[0m \u001b[43m        \u001b[49m\u001b[38;5;28;43mself\u001b[39;49m\u001b[43m,\u001b[49m\n\u001b[1;32m    793\u001b[0m \u001b[43m        \u001b[49m\u001b[43margs\u001b[49m\u001b[43m,\u001b[49m\n\u001b[1;32m    794\u001b[0m \u001b[43m        \u001b[49m\u001b[43mkwargs\u001b[49m\u001b[43m,\u001b[49m\n\u001b[1;32m    795\u001b[0m \u001b[43m    \u001b[49m\u001b[43m)\u001b[49m\n\u001b[1;32m    796\u001b[0m     \u001b[38;5;28;01mreturn\u001b[39;00m result\n",
      "File \u001b[0;32m~/anaconda3/envs/rapids-23.10/lib/python3.10/site-packages/cudf/pandas/fast_slow_proxy.py:850\u001b[0m, in \u001b[0;36m_fast_slow_function_call\u001b[0;34m(func, *args, **kwargs)\u001b[0m\n\u001b[1;32m    848\u001b[0m         slow_args, slow_kwargs \u001b[38;5;241m=\u001b[39m _slow_arg(args), _slow_arg(kwargs)\n\u001b[1;32m    849\u001b[0m         \u001b[38;5;28;01mwith\u001b[39;00m disable_module_accelerator():\n\u001b[0;32m--> 850\u001b[0m             result \u001b[38;5;241m=\u001b[39m \u001b[43mfunc\u001b[49m\u001b[43m(\u001b[49m\u001b[38;5;241;43m*\u001b[39;49m\u001b[43mslow_args\u001b[49m\u001b[43m,\u001b[49m\u001b[43m \u001b[49m\u001b[38;5;241;43m*\u001b[39;49m\u001b[38;5;241;43m*\u001b[39;49m\u001b[43mslow_kwargs\u001b[49m\u001b[43m)\u001b[49m\n\u001b[1;32m    851\u001b[0m \u001b[38;5;28;01mreturn\u001b[39;00m _maybe_wrap_result(result, func, \u001b[38;5;241m*\u001b[39margs, \u001b[38;5;241m*\u001b[39m\u001b[38;5;241m*\u001b[39mkwargs), fast\n",
      "File \u001b[0;32m~/anaconda3/envs/rapids-23.10/lib/python3.10/site-packages/cudf/pandas/fast_slow_proxy.py:791\u001b[0m, in \u001b[0;36m_CallableProxyMixin.__call__.<locals>.<lambda>\u001b[0;34m(fn, args, kwargs)\u001b[0m\n\u001b[1;32m    784\u001b[0m \u001b[38;5;28;01mdef\u001b[39;00m \u001b[38;5;21m__call__\u001b[39m(\u001b[38;5;28mself\u001b[39m, \u001b[38;5;241m*\u001b[39margs, \u001b[38;5;241m*\u001b[39m\u001b[38;5;241m*\u001b[39mkwargs) \u001b[38;5;241m-\u001b[39m\u001b[38;5;241m>\u001b[39m Any:\n\u001b[1;32m    785\u001b[0m     result, _ \u001b[38;5;241m=\u001b[39m _fast_slow_function_call(\n\u001b[1;32m    786\u001b[0m         \u001b[38;5;66;03m# We cannot directly call self here because we need it to be\u001b[39;00m\n\u001b[1;32m    787\u001b[0m         \u001b[38;5;66;03m# converted into either the fast or slow object (by\u001b[39;00m\n\u001b[1;32m    788\u001b[0m         \u001b[38;5;66;03m# _fast_slow_function_call) to avoid infinite recursion.\u001b[39;00m\n\u001b[1;32m    789\u001b[0m         \u001b[38;5;66;03m# TODO: When Python 3.11 is the minimum supported Python version\u001b[39;00m\n\u001b[1;32m    790\u001b[0m         \u001b[38;5;66;03m# this can use operator.call\u001b[39;00m\n\u001b[0;32m--> 791\u001b[0m         \u001b[38;5;28;01mlambda\u001b[39;00m fn, args, kwargs: \u001b[43mfn\u001b[49m\u001b[43m(\u001b[49m\u001b[38;5;241;43m*\u001b[39;49m\u001b[43margs\u001b[49m\u001b[43m,\u001b[49m\u001b[43m \u001b[49m\u001b[38;5;241;43m*\u001b[39;49m\u001b[38;5;241;43m*\u001b[39;49m\u001b[43mkwargs\u001b[49m\u001b[43m)\u001b[49m,\n\u001b[1;32m    792\u001b[0m         \u001b[38;5;28mself\u001b[39m,\n\u001b[1;32m    793\u001b[0m         args,\n\u001b[1;32m    794\u001b[0m         kwargs,\n\u001b[1;32m    795\u001b[0m     )\n\u001b[1;32m    796\u001b[0m     \u001b[38;5;28;01mreturn\u001b[39;00m result\n",
      "File \u001b[0;32m~/anaconda3/envs/rapids-23.10/lib/python3.10/site-packages/pandas/core/frame.py:3807\u001b[0m, in \u001b[0;36mDataFrame.__getitem__\u001b[0;34m(self, key)\u001b[0m\n\u001b[1;32m   3805\u001b[0m \u001b[38;5;28;01mif\u001b[39;00m \u001b[38;5;28mself\u001b[39m\u001b[38;5;241m.\u001b[39mcolumns\u001b[38;5;241m.\u001b[39mnlevels \u001b[38;5;241m>\u001b[39m \u001b[38;5;241m1\u001b[39m:\n\u001b[1;32m   3806\u001b[0m     \u001b[38;5;28;01mreturn\u001b[39;00m \u001b[38;5;28mself\u001b[39m\u001b[38;5;241m.\u001b[39m_getitem_multilevel(key)\n\u001b[0;32m-> 3807\u001b[0m indexer \u001b[38;5;241m=\u001b[39m \u001b[38;5;28;43mself\u001b[39;49m\u001b[38;5;241;43m.\u001b[39;49m\u001b[43mcolumns\u001b[49m\u001b[38;5;241;43m.\u001b[39;49m\u001b[43mget_loc\u001b[49m\u001b[43m(\u001b[49m\u001b[43mkey\u001b[49m\u001b[43m)\u001b[49m\n\u001b[1;32m   3808\u001b[0m \u001b[38;5;28;01mif\u001b[39;00m is_integer(indexer):\n\u001b[1;32m   3809\u001b[0m     indexer \u001b[38;5;241m=\u001b[39m [indexer]\n",
      "File \u001b[0;32m~/anaconda3/envs/rapids-23.10/lib/python3.10/site-packages/pandas/core/indexes/base.py:3804\u001b[0m, in \u001b[0;36mIndex.get_loc\u001b[0;34m(self, key, method, tolerance)\u001b[0m\n\u001b[1;32m   3802\u001b[0m     \u001b[38;5;28;01mreturn\u001b[39;00m \u001b[38;5;28mself\u001b[39m\u001b[38;5;241m.\u001b[39m_engine\u001b[38;5;241m.\u001b[39mget_loc(casted_key)\n\u001b[1;32m   3803\u001b[0m \u001b[38;5;28;01mexcept\u001b[39;00m \u001b[38;5;167;01mKeyError\u001b[39;00m \u001b[38;5;28;01mas\u001b[39;00m err:\n\u001b[0;32m-> 3804\u001b[0m     \u001b[38;5;28;01mraise\u001b[39;00m \u001b[38;5;167;01mKeyError\u001b[39;00m(key) \u001b[38;5;28;01mfrom\u001b[39;00m \u001b[38;5;21;01merr\u001b[39;00m\n\u001b[1;32m   3805\u001b[0m \u001b[38;5;28;01mexcept\u001b[39;00m \u001b[38;5;167;01mTypeError\u001b[39;00m:\n\u001b[1;32m   3806\u001b[0m     \u001b[38;5;66;03m# If we have a listlike key, _check_indexing_error will raise\u001b[39;00m\n\u001b[1;32m   3807\u001b[0m     \u001b[38;5;66;03m#  InvalidIndexError. Otherwise we fall through and re-raise\u001b[39;00m\n\u001b[1;32m   3808\u001b[0m     \u001b[38;5;66;03m#  the TypeError.\u001b[39;00m\n\u001b[1;32m   3809\u001b[0m     \u001b[38;5;28mself\u001b[39m\u001b[38;5;241m.\u001b[39m_check_indexing_error(key)\n",
      "\u001b[0;31mKeyError\u001b[0m: 'Á.liq.'"
     ]
    }
   ],
   "source": [
    "# Convierte columna Á.liq. a categoricos\n",
    "data_sucia['Á.liq.'] = data_sucia['Á.liq.'].astype('category')\n",
    "# Hace plot de pie de la columna Á.liq.\n",
    "data_sucia['Á.liq.'].value_counts().plot(kind='pie', autopct='%.2f', figsize=(6, 6))\n"
   ]
  },
  {
   "cell_type": "code",
   "execution_count": null,
   "metadata": {},
   "outputs": [],
   "source": [
    "# C"
   ]
  },
  {
   "cell_type": "markdown",
   "metadata": {},
   "source": [
    "### Grupo de personal"
   ]
  },
  {
   "cell_type": "markdown",
   "metadata": {},
   "source": [
    "### Codigo postal"
   ]
  },
  {
   "cell_type": "code",
   "execution_count": null,
   "metadata": {},
   "outputs": [
    {
     "name": "stdout",
     "output_type": "stream",
     "text": [
      "Column names 'C.P.' and/or 'C.P. Bosch' not found in the DataFrame.\n"
     ]
    },
    {
     "ename": "KeyError",
     "evalue": "'Codigo Postal'",
     "output_type": "error",
     "traceback": [
      "\u001b[0;31m---------------------------------------------------------------------------\u001b[0m",
      "\u001b[0;31mArrowTypeError\u001b[0m                            Traceback (most recent call last)",
      "File \u001b[0;32m~/anaconda3/envs/rapids-23.10/lib/python3.10/site-packages/cudf/pandas/fast_slow_proxy.py:836\u001b[0m, in \u001b[0;36m_fast_slow_function_call\u001b[0;34m(func, *args, **kwargs)\u001b[0m\n\u001b[1;32m    831\u001b[0m \u001b[38;5;28;01mwith\u001b[39;00m nvtx\u001b[38;5;241m.\u001b[39mannotate(\n\u001b[1;32m    832\u001b[0m     \u001b[38;5;124m\"\u001b[39m\u001b[38;5;124mEXECUTE_FAST\u001b[39m\u001b[38;5;124m\"\u001b[39m,\n\u001b[1;32m    833\u001b[0m     color\u001b[38;5;241m=\u001b[39m_CUDF_PANDAS_NVTX_COLORS[\u001b[38;5;124m\"\u001b[39m\u001b[38;5;124mEXECUTE_FAST\u001b[39m\u001b[38;5;124m\"\u001b[39m],\n\u001b[1;32m    834\u001b[0m     domain\u001b[38;5;241m=\u001b[39m\u001b[38;5;124m\"\u001b[39m\u001b[38;5;124mcudf_pandas\u001b[39m\u001b[38;5;124m\"\u001b[39m,\n\u001b[1;32m    835\u001b[0m ):\n\u001b[0;32m--> 836\u001b[0m     fast_args, fast_kwargs \u001b[38;5;241m=\u001b[39m \u001b[43m_fast_arg\u001b[49m\u001b[43m(\u001b[49m\u001b[43margs\u001b[49m\u001b[43m)\u001b[49m, _fast_arg(kwargs)\n\u001b[1;32m    837\u001b[0m     result \u001b[38;5;241m=\u001b[39m func(\u001b[38;5;241m*\u001b[39mfast_args, \u001b[38;5;241m*\u001b[39m\u001b[38;5;241m*\u001b[39mfast_kwargs)\n",
      "File \u001b[0;32m~/anaconda3/envs/rapids-23.10/lib/python3.10/site-packages/cudf/pandas/fast_slow_proxy.py:955\u001b[0m, in \u001b[0;36m_fast_arg\u001b[0;34m(arg)\u001b[0m\n\u001b[1;32m    954\u001b[0m seen: Set[\u001b[38;5;28mint\u001b[39m] \u001b[38;5;241m=\u001b[39m \u001b[38;5;28mset\u001b[39m()\n\u001b[0;32m--> 955\u001b[0m \u001b[38;5;28;01mreturn\u001b[39;00m \u001b[43m_transform_arg\u001b[49m\u001b[43m(\u001b[49m\u001b[43marg\u001b[49m\u001b[43m,\u001b[49m\u001b[43m \u001b[49m\u001b[38;5;124;43m\"\u001b[39;49m\u001b[38;5;124;43m_fsproxy_fast\u001b[39;49m\u001b[38;5;124;43m\"\u001b[39;49m\u001b[43m,\u001b[49m\u001b[43m \u001b[49m\u001b[43mseen\u001b[49m\u001b[43m)\u001b[49m\n",
      "File \u001b[0;32m~/anaconda3/envs/rapids-23.10/lib/python3.10/site-packages/cudf/pandas/fast_slow_proxy.py:882\u001b[0m, in \u001b[0;36m_transform_arg\u001b[0;34m(arg, attribute_name, seen)\u001b[0m\n\u001b[1;32m    880\u001b[0m \u001b[38;5;28;01mif\u001b[39;00m \u001b[38;5;28mtype\u001b[39m(arg) \u001b[38;5;129;01mis\u001b[39;00m \u001b[38;5;28mtuple\u001b[39m:\n\u001b[1;32m    881\u001b[0m     \u001b[38;5;66;03m# Must come first to avoid infinite recursion\u001b[39;00m\n\u001b[0;32m--> 882\u001b[0m     \u001b[38;5;28;01mreturn\u001b[39;00m \u001b[38;5;28;43mtuple\u001b[39;49m\u001b[43m(\u001b[49m\u001b[43m_transform_arg\u001b[49m\u001b[43m(\u001b[49m\u001b[43ma\u001b[49m\u001b[43m,\u001b[49m\u001b[43m \u001b[49m\u001b[43mattribute_name\u001b[49m\u001b[43m,\u001b[49m\u001b[43m \u001b[49m\u001b[43mseen\u001b[49m\u001b[43m)\u001b[49m\u001b[43m \u001b[49m\u001b[38;5;28;43;01mfor\u001b[39;49;00m\u001b[43m \u001b[49m\u001b[43ma\u001b[49m\u001b[43m \u001b[49m\u001b[38;5;129;43;01min\u001b[39;49;00m\u001b[43m \u001b[49m\u001b[43marg\u001b[49m\u001b[43m)\u001b[49m\n\u001b[1;32m    883\u001b[0m \u001b[38;5;28;01melif\u001b[39;00m \u001b[38;5;28mhasattr\u001b[39m(arg, \u001b[38;5;124m\"\u001b[39m\u001b[38;5;124m__getnewargs_ex__\u001b[39m\u001b[38;5;124m\"\u001b[39m):\n\u001b[1;32m    884\u001b[0m     \u001b[38;5;66;03m# Partial implementation of to reconstruct with\u001b[39;00m\n\u001b[1;32m    885\u001b[0m     \u001b[38;5;66;03m# transformed pieces\u001b[39;00m\n\u001b[1;32m    886\u001b[0m     \u001b[38;5;66;03m# This handles scipy._lib._bunch._make_tuple_bunch\u001b[39;00m\n",
      "File \u001b[0;32m~/anaconda3/envs/rapids-23.10/lib/python3.10/site-packages/cudf/pandas/fast_slow_proxy.py:882\u001b[0m, in \u001b[0;36m<genexpr>\u001b[0;34m(.0)\u001b[0m\n\u001b[1;32m    880\u001b[0m \u001b[38;5;28;01mif\u001b[39;00m \u001b[38;5;28mtype\u001b[39m(arg) \u001b[38;5;129;01mis\u001b[39;00m \u001b[38;5;28mtuple\u001b[39m:\n\u001b[1;32m    881\u001b[0m     \u001b[38;5;66;03m# Must come first to avoid infinite recursion\u001b[39;00m\n\u001b[0;32m--> 882\u001b[0m     \u001b[38;5;28;01mreturn\u001b[39;00m \u001b[38;5;28mtuple\u001b[39m(\u001b[43m_transform_arg\u001b[49m\u001b[43m(\u001b[49m\u001b[43ma\u001b[49m\u001b[43m,\u001b[49m\u001b[43m \u001b[49m\u001b[43mattribute_name\u001b[49m\u001b[43m,\u001b[49m\u001b[43m \u001b[49m\u001b[43mseen\u001b[49m\u001b[43m)\u001b[49m \u001b[38;5;28;01mfor\u001b[39;00m a \u001b[38;5;129;01min\u001b[39;00m arg)\n\u001b[1;32m    883\u001b[0m \u001b[38;5;28;01melif\u001b[39;00m \u001b[38;5;28mhasattr\u001b[39m(arg, \u001b[38;5;124m\"\u001b[39m\u001b[38;5;124m__getnewargs_ex__\u001b[39m\u001b[38;5;124m\"\u001b[39m):\n\u001b[1;32m    884\u001b[0m     \u001b[38;5;66;03m# Partial implementation of to reconstruct with\u001b[39;00m\n\u001b[1;32m    885\u001b[0m     \u001b[38;5;66;03m# transformed pieces\u001b[39;00m\n\u001b[1;32m    886\u001b[0m     \u001b[38;5;66;03m# This handles scipy._lib._bunch._make_tuple_bunch\u001b[39;00m\n",
      "File \u001b[0;32m~/anaconda3/envs/rapids-23.10/lib/python3.10/site-packages/cudf/pandas/fast_slow_proxy.py:865\u001b[0m, in \u001b[0;36m_transform_arg\u001b[0;34m(arg, attribute_name, seen)\u001b[0m\n\u001b[1;32m    864\u001b[0m \u001b[38;5;28;01mif\u001b[39;00m \u001b[38;5;28misinstance\u001b[39m(arg, (_FastSlowProxy, _FastSlowProxyMeta, _FunctionProxy)):\n\u001b[0;32m--> 865\u001b[0m     typ \u001b[38;5;241m=\u001b[39m \u001b[38;5;28;43mgetattr\u001b[39;49m\u001b[43m(\u001b[49m\u001b[43marg\u001b[49m\u001b[43m,\u001b[49m\u001b[43m \u001b[49m\u001b[43mattribute_name\u001b[49m\u001b[43m)\u001b[49m\n\u001b[1;32m    866\u001b[0m     \u001b[38;5;28;01mif\u001b[39;00m typ \u001b[38;5;129;01mis\u001b[39;00m _Unusable:\n",
      "File \u001b[0;32m~/anaconda3/envs/rapids-23.10/lib/python3.10/site-packages/cudf/pandas/fast_slow_proxy.py:542\u001b[0m, in \u001b[0;36m_FastSlowProxy._fsproxy_fast\u001b[0;34m(self)\u001b[0m\n\u001b[1;32m    537\u001b[0m \u001b[38;5;250m\u001b[39m\u001b[38;5;124;03m\"\"\"\u001b[39;00m\n\u001b[1;32m    538\u001b[0m \u001b[38;5;124;03mReturns the wrapped object. If the wrapped object is of \"slow\"\u001b[39;00m\n\u001b[1;32m    539\u001b[0m \u001b[38;5;124;03mtype, replaces it with the corresponding \"fast\" object before\u001b[39;00m\n\u001b[1;32m    540\u001b[0m \u001b[38;5;124;03mreturning it.\u001b[39;00m\n\u001b[1;32m    541\u001b[0m \u001b[38;5;124;03m\"\"\"\u001b[39;00m\n\u001b[0;32m--> 542\u001b[0m \u001b[38;5;28mself\u001b[39m\u001b[38;5;241m.\u001b[39m_fsproxy_wrapped \u001b[38;5;241m=\u001b[39m \u001b[38;5;28;43mself\u001b[39;49m\u001b[38;5;241;43m.\u001b[39;49m\u001b[43m_fsproxy_slow_to_fast\u001b[49m\u001b[43m(\u001b[49m\u001b[43m)\u001b[49m\n\u001b[1;32m    543\u001b[0m \u001b[38;5;28;01mreturn\u001b[39;00m \u001b[38;5;28mself\u001b[39m\u001b[38;5;241m.\u001b[39m_fsproxy_wrapped\n",
      "File \u001b[0;32m~/anaconda3/envs/rapids-23.10/lib/python3.10/site-packages/nvtx/nvtx.py:115\u001b[0m, in \u001b[0;36mannotate.__call__.<locals>.inner\u001b[0;34m(*args, **kwargs)\u001b[0m\n\u001b[1;32m    114\u001b[0m libnvtx_push_range(\u001b[38;5;28mself\u001b[39m\u001b[38;5;241m.\u001b[39mattributes, \u001b[38;5;28mself\u001b[39m\u001b[38;5;241m.\u001b[39mdomain\u001b[38;5;241m.\u001b[39mhandle)\n\u001b[0;32m--> 115\u001b[0m result \u001b[38;5;241m=\u001b[39m \u001b[43mfunc\u001b[49m\u001b[43m(\u001b[49m\u001b[38;5;241;43m*\u001b[39;49m\u001b[43margs\u001b[49m\u001b[43m,\u001b[49m\u001b[43m \u001b[49m\u001b[38;5;241;43m*\u001b[39;49m\u001b[38;5;241;43m*\u001b[39;49m\u001b[43mkwargs\u001b[49m\u001b[43m)\u001b[49m\n\u001b[1;32m    116\u001b[0m libnvtx_pop_range(\u001b[38;5;28mself\u001b[39m\u001b[38;5;241m.\u001b[39mdomain\u001b[38;5;241m.\u001b[39mhandle)\n",
      "File \u001b[0;32m~/anaconda3/envs/rapids-23.10/lib/python3.10/site-packages/cudf/pandas/fast_slow_proxy.py:762\u001b[0m, in \u001b[0;36m_IntermediateProxy._fsproxy_slow_to_fast\u001b[0;34m(self)\u001b[0m\n\u001b[1;32m    761\u001b[0m func, args, kwargs \u001b[38;5;241m=\u001b[39m \u001b[38;5;28mself\u001b[39m\u001b[38;5;241m.\u001b[39m_method_chain\n\u001b[0;32m--> 762\u001b[0m args, kwargs \u001b[38;5;241m=\u001b[39m \u001b[43m_fast_arg\u001b[49m\u001b[43m(\u001b[49m\u001b[43margs\u001b[49m\u001b[43m)\u001b[49m, _fast_arg(kwargs)\n\u001b[1;32m    763\u001b[0m \u001b[38;5;28;01mreturn\u001b[39;00m func(\u001b[38;5;241m*\u001b[39margs, \u001b[38;5;241m*\u001b[39m\u001b[38;5;241m*\u001b[39mkwargs)\n",
      "File \u001b[0;32m~/anaconda3/envs/rapids-23.10/lib/python3.10/site-packages/cudf/pandas/fast_slow_proxy.py:955\u001b[0m, in \u001b[0;36m_fast_arg\u001b[0;34m(arg)\u001b[0m\n\u001b[1;32m    954\u001b[0m seen: Set[\u001b[38;5;28mint\u001b[39m] \u001b[38;5;241m=\u001b[39m \u001b[38;5;28mset\u001b[39m()\n\u001b[0;32m--> 955\u001b[0m \u001b[38;5;28;01mreturn\u001b[39;00m \u001b[43m_transform_arg\u001b[49m\u001b[43m(\u001b[49m\u001b[43marg\u001b[49m\u001b[43m,\u001b[49m\u001b[43m \u001b[49m\u001b[38;5;124;43m\"\u001b[39;49m\u001b[38;5;124;43m_fsproxy_fast\u001b[39;49m\u001b[38;5;124;43m\"\u001b[39;49m\u001b[43m,\u001b[49m\u001b[43m \u001b[49m\u001b[43mseen\u001b[49m\u001b[43m)\u001b[49m\n",
      "File \u001b[0;32m~/anaconda3/envs/rapids-23.10/lib/python3.10/site-packages/cudf/pandas/fast_slow_proxy.py:882\u001b[0m, in \u001b[0;36m_transform_arg\u001b[0;34m(arg, attribute_name, seen)\u001b[0m\n\u001b[1;32m    880\u001b[0m \u001b[38;5;28;01mif\u001b[39;00m \u001b[38;5;28mtype\u001b[39m(arg) \u001b[38;5;129;01mis\u001b[39;00m \u001b[38;5;28mtuple\u001b[39m:\n\u001b[1;32m    881\u001b[0m     \u001b[38;5;66;03m# Must come first to avoid infinite recursion\u001b[39;00m\n\u001b[0;32m--> 882\u001b[0m     \u001b[38;5;28;01mreturn\u001b[39;00m \u001b[38;5;28;43mtuple\u001b[39;49m\u001b[43m(\u001b[49m\u001b[43m_transform_arg\u001b[49m\u001b[43m(\u001b[49m\u001b[43ma\u001b[49m\u001b[43m,\u001b[49m\u001b[43m \u001b[49m\u001b[43mattribute_name\u001b[49m\u001b[43m,\u001b[49m\u001b[43m \u001b[49m\u001b[43mseen\u001b[49m\u001b[43m)\u001b[49m\u001b[43m \u001b[49m\u001b[38;5;28;43;01mfor\u001b[39;49;00m\u001b[43m \u001b[49m\u001b[43ma\u001b[49m\u001b[43m \u001b[49m\u001b[38;5;129;43;01min\u001b[39;49;00m\u001b[43m \u001b[49m\u001b[43marg\u001b[49m\u001b[43m)\u001b[49m\n\u001b[1;32m    883\u001b[0m \u001b[38;5;28;01melif\u001b[39;00m \u001b[38;5;28mhasattr\u001b[39m(arg, \u001b[38;5;124m\"\u001b[39m\u001b[38;5;124m__getnewargs_ex__\u001b[39m\u001b[38;5;124m\"\u001b[39m):\n\u001b[1;32m    884\u001b[0m     \u001b[38;5;66;03m# Partial implementation of to reconstruct with\u001b[39;00m\n\u001b[1;32m    885\u001b[0m     \u001b[38;5;66;03m# transformed pieces\u001b[39;00m\n\u001b[1;32m    886\u001b[0m     \u001b[38;5;66;03m# This handles scipy._lib._bunch._make_tuple_bunch\u001b[39;00m\n",
      "File \u001b[0;32m~/anaconda3/envs/rapids-23.10/lib/python3.10/site-packages/cudf/pandas/fast_slow_proxy.py:882\u001b[0m, in \u001b[0;36m<genexpr>\u001b[0;34m(.0)\u001b[0m\n\u001b[1;32m    880\u001b[0m \u001b[38;5;28;01mif\u001b[39;00m \u001b[38;5;28mtype\u001b[39m(arg) \u001b[38;5;129;01mis\u001b[39;00m \u001b[38;5;28mtuple\u001b[39m:\n\u001b[1;32m    881\u001b[0m     \u001b[38;5;66;03m# Must come first to avoid infinite recursion\u001b[39;00m\n\u001b[0;32m--> 882\u001b[0m     \u001b[38;5;28;01mreturn\u001b[39;00m \u001b[38;5;28mtuple\u001b[39m(\u001b[43m_transform_arg\u001b[49m\u001b[43m(\u001b[49m\u001b[43ma\u001b[49m\u001b[43m,\u001b[49m\u001b[43m \u001b[49m\u001b[43mattribute_name\u001b[49m\u001b[43m,\u001b[49m\u001b[43m \u001b[49m\u001b[43mseen\u001b[49m\u001b[43m)\u001b[49m \u001b[38;5;28;01mfor\u001b[39;00m a \u001b[38;5;129;01min\u001b[39;00m arg)\n\u001b[1;32m    883\u001b[0m \u001b[38;5;28;01melif\u001b[39;00m \u001b[38;5;28mhasattr\u001b[39m(arg, \u001b[38;5;124m\"\u001b[39m\u001b[38;5;124m__getnewargs_ex__\u001b[39m\u001b[38;5;124m\"\u001b[39m):\n\u001b[1;32m    884\u001b[0m     \u001b[38;5;66;03m# Partial implementation of to reconstruct with\u001b[39;00m\n\u001b[1;32m    885\u001b[0m     \u001b[38;5;66;03m# transformed pieces\u001b[39;00m\n\u001b[1;32m    886\u001b[0m     \u001b[38;5;66;03m# This handles scipy._lib._bunch._make_tuple_bunch\u001b[39;00m\n",
      "File \u001b[0;32m~/anaconda3/envs/rapids-23.10/lib/python3.10/site-packages/cudf/pandas/fast_slow_proxy.py:865\u001b[0m, in \u001b[0;36m_transform_arg\u001b[0;34m(arg, attribute_name, seen)\u001b[0m\n\u001b[1;32m    864\u001b[0m \u001b[38;5;28;01mif\u001b[39;00m \u001b[38;5;28misinstance\u001b[39m(arg, (_FastSlowProxy, _FastSlowProxyMeta, _FunctionProxy)):\n\u001b[0;32m--> 865\u001b[0m     typ \u001b[38;5;241m=\u001b[39m \u001b[38;5;28;43mgetattr\u001b[39;49m\u001b[43m(\u001b[49m\u001b[43marg\u001b[49m\u001b[43m,\u001b[49m\u001b[43m \u001b[49m\u001b[43mattribute_name\u001b[49m\u001b[43m)\u001b[49m\n\u001b[1;32m    866\u001b[0m     \u001b[38;5;28;01mif\u001b[39;00m typ \u001b[38;5;129;01mis\u001b[39;00m _Unusable:\n",
      "File \u001b[0;32m~/anaconda3/envs/rapids-23.10/lib/python3.10/site-packages/cudf/pandas/fast_slow_proxy.py:542\u001b[0m, in \u001b[0;36m_FastSlowProxy._fsproxy_fast\u001b[0;34m(self)\u001b[0m\n\u001b[1;32m    537\u001b[0m \u001b[38;5;250m\u001b[39m\u001b[38;5;124;03m\"\"\"\u001b[39;00m\n\u001b[1;32m    538\u001b[0m \u001b[38;5;124;03mReturns the wrapped object. If the wrapped object is of \"slow\"\u001b[39;00m\n\u001b[1;32m    539\u001b[0m \u001b[38;5;124;03mtype, replaces it with the corresponding \"fast\" object before\u001b[39;00m\n\u001b[1;32m    540\u001b[0m \u001b[38;5;124;03mreturning it.\u001b[39;00m\n\u001b[1;32m    541\u001b[0m \u001b[38;5;124;03m\"\"\"\u001b[39;00m\n\u001b[0;32m--> 542\u001b[0m \u001b[38;5;28mself\u001b[39m\u001b[38;5;241m.\u001b[39m_fsproxy_wrapped \u001b[38;5;241m=\u001b[39m \u001b[38;5;28;43mself\u001b[39;49m\u001b[38;5;241;43m.\u001b[39;49m\u001b[43m_fsproxy_slow_to_fast\u001b[49m\u001b[43m(\u001b[49m\u001b[43m)\u001b[49m\n\u001b[1;32m    543\u001b[0m \u001b[38;5;28;01mreturn\u001b[39;00m \u001b[38;5;28mself\u001b[39m\u001b[38;5;241m.\u001b[39m_fsproxy_wrapped\n",
      "File \u001b[0;32m~/anaconda3/envs/rapids-23.10/lib/python3.10/site-packages/nvtx/nvtx.py:115\u001b[0m, in \u001b[0;36mannotate.__call__.<locals>.inner\u001b[0;34m(*args, **kwargs)\u001b[0m\n\u001b[1;32m    114\u001b[0m libnvtx_push_range(\u001b[38;5;28mself\u001b[39m\u001b[38;5;241m.\u001b[39mattributes, \u001b[38;5;28mself\u001b[39m\u001b[38;5;241m.\u001b[39mdomain\u001b[38;5;241m.\u001b[39mhandle)\n\u001b[0;32m--> 115\u001b[0m result \u001b[38;5;241m=\u001b[39m \u001b[43mfunc\u001b[49m\u001b[43m(\u001b[49m\u001b[38;5;241;43m*\u001b[39;49m\u001b[43margs\u001b[49m\u001b[43m,\u001b[49m\u001b[43m \u001b[49m\u001b[38;5;241;43m*\u001b[39;49m\u001b[38;5;241;43m*\u001b[39;49m\u001b[43mkwargs\u001b[49m\u001b[43m)\u001b[49m\n\u001b[1;32m    116\u001b[0m libnvtx_pop_range(\u001b[38;5;28mself\u001b[39m\u001b[38;5;241m.\u001b[39mdomain\u001b[38;5;241m.\u001b[39mhandle)\n",
      "File \u001b[0;32m~/anaconda3/envs/rapids-23.10/lib/python3.10/site-packages/cudf/pandas/fast_slow_proxy.py:169\u001b[0m, in \u001b[0;36mmake_final_proxy_type.<locals>._fsproxy_slow_to_fast\u001b[0;34m(self)\u001b[0m\n\u001b[1;32m    168\u001b[0m \u001b[38;5;28;01mif\u001b[39;00m \u001b[38;5;28mself\u001b[39m\u001b[38;5;241m.\u001b[39m_fsproxy_state \u001b[38;5;129;01mis\u001b[39;00m _State\u001b[38;5;241m.\u001b[39mSLOW:\n\u001b[0;32m--> 169\u001b[0m     \u001b[38;5;28;01mreturn\u001b[39;00m \u001b[43mslow_to_fast\u001b[49m\u001b[43m(\u001b[49m\u001b[38;5;28;43mself\u001b[39;49m\u001b[38;5;241;43m.\u001b[39;49m\u001b[43m_fsproxy_wrapped\u001b[49m\u001b[43m)\u001b[49m\n\u001b[1;32m    170\u001b[0m \u001b[38;5;28;01mreturn\u001b[39;00m \u001b[38;5;28mself\u001b[39m\u001b[38;5;241m.\u001b[39m_fsproxy_wrapped\n",
      "File \u001b[0;32m~/anaconda3/envs/rapids-23.10/lib/python3.10/site-packages/nvtx/nvtx.py:115\u001b[0m, in \u001b[0;36mannotate.__call__.<locals>.inner\u001b[0;34m(*args, **kwargs)\u001b[0m\n\u001b[1;32m    114\u001b[0m libnvtx_push_range(\u001b[38;5;28mself\u001b[39m\u001b[38;5;241m.\u001b[39mattributes, \u001b[38;5;28mself\u001b[39m\u001b[38;5;241m.\u001b[39mdomain\u001b[38;5;241m.\u001b[39mhandle)\n\u001b[0;32m--> 115\u001b[0m result \u001b[38;5;241m=\u001b[39m \u001b[43mfunc\u001b[49m\u001b[43m(\u001b[49m\u001b[38;5;241;43m*\u001b[39;49m\u001b[43margs\u001b[49m\u001b[43m,\u001b[49m\u001b[43m \u001b[49m\u001b[38;5;241;43m*\u001b[39;49m\u001b[38;5;241;43m*\u001b[39;49m\u001b[43mkwargs\u001b[49m\u001b[43m)\u001b[49m\n\u001b[1;32m    116\u001b[0m libnvtx_pop_range(\u001b[38;5;28mself\u001b[39m\u001b[38;5;241m.\u001b[39mdomain\u001b[38;5;241m.\u001b[39mhandle)\n",
      "File \u001b[0;32m~/anaconda3/envs/rapids-23.10/lib/python3.10/site-packages/cudf/core/dataframe.py:7890\u001b[0m, in \u001b[0;36mfrom_pandas\u001b[0;34m(obj, nan_as_null)\u001b[0m\n\u001b[1;32m   7889\u001b[0m \u001b[38;5;28;01mif\u001b[39;00m \u001b[38;5;28misinstance\u001b[39m(obj, pd\u001b[38;5;241m.\u001b[39mDataFrame):\n\u001b[0;32m-> 7890\u001b[0m     \u001b[38;5;28;01mreturn\u001b[39;00m \u001b[43mDataFrame\u001b[49m\u001b[38;5;241;43m.\u001b[39;49m\u001b[43mfrom_pandas\u001b[49m\u001b[43m(\u001b[49m\u001b[43mobj\u001b[49m\u001b[43m,\u001b[49m\u001b[43m \u001b[49m\u001b[43mnan_as_null\u001b[49m\u001b[38;5;241;43m=\u001b[39;49m\u001b[43mnan_as_null\u001b[49m\u001b[43m)\u001b[49m\n\u001b[1;32m   7891\u001b[0m \u001b[38;5;28;01melif\u001b[39;00m \u001b[38;5;28misinstance\u001b[39m(obj, pd\u001b[38;5;241m.\u001b[39mSeries):\n",
      "File \u001b[0;32m~/anaconda3/envs/rapids-23.10/lib/python3.10/site-packages/nvtx/nvtx.py:115\u001b[0m, in \u001b[0;36mannotate.__call__.<locals>.inner\u001b[0;34m(*args, **kwargs)\u001b[0m\n\u001b[1;32m    114\u001b[0m libnvtx_push_range(\u001b[38;5;28mself\u001b[39m\u001b[38;5;241m.\u001b[39mattributes, \u001b[38;5;28mself\u001b[39m\u001b[38;5;241m.\u001b[39mdomain\u001b[38;5;241m.\u001b[39mhandle)\n\u001b[0;32m--> 115\u001b[0m result \u001b[38;5;241m=\u001b[39m \u001b[43mfunc\u001b[49m\u001b[43m(\u001b[49m\u001b[38;5;241;43m*\u001b[39;49m\u001b[43margs\u001b[49m\u001b[43m,\u001b[49m\u001b[43m \u001b[49m\u001b[38;5;241;43m*\u001b[39;49m\u001b[38;5;241;43m*\u001b[39;49m\u001b[43mkwargs\u001b[49m\u001b[43m)\u001b[49m\n\u001b[1;32m    116\u001b[0m libnvtx_pop_range(\u001b[38;5;28mself\u001b[39m\u001b[38;5;241m.\u001b[39mdomain\u001b[38;5;241m.\u001b[39mhandle)\n",
      "File \u001b[0;32m~/anaconda3/envs/rapids-23.10/lib/python3.10/site-packages/cudf/core/dataframe.py:5240\u001b[0m, in \u001b[0;36mDataFrame.from_pandas\u001b[0;34m(cls, dataframe, nan_as_null)\u001b[0m\n\u001b[1;32m   5239\u001b[0m \u001b[38;5;28;01mif\u001b[39;00m \u001b[38;5;28mlen\u001b[39m(col_value\u001b[38;5;241m.\u001b[39mshape) \u001b[38;5;241m==\u001b[39m \u001b[38;5;241m1\u001b[39m:\n\u001b[0;32m-> 5240\u001b[0m     data[col_name] \u001b[38;5;241m=\u001b[39m \u001b[43mcolumn\u001b[49m\u001b[38;5;241;43m.\u001b[39;49m\u001b[43mas_column\u001b[49m\u001b[43m(\u001b[49m\n\u001b[1;32m   5241\u001b[0m \u001b[43m        \u001b[49m\u001b[43mcol_value\u001b[49m\u001b[38;5;241;43m.\u001b[39;49m\u001b[43marray\u001b[49m\u001b[43m,\u001b[49m\u001b[43m \u001b[49m\u001b[43mnan_as_null\u001b[49m\u001b[38;5;241;43m=\u001b[39;49m\u001b[43mnan_as_null\u001b[49m\n\u001b[1;32m   5242\u001b[0m \u001b[43m    \u001b[49m\u001b[43m)\u001b[49m\n\u001b[1;32m   5243\u001b[0m \u001b[38;5;28;01melse\u001b[39;00m:\n",
      "File \u001b[0;32m~/anaconda3/envs/rapids-23.10/lib/python3.10/site-packages/cudf/core/column/column.py:2264\u001b[0m, in \u001b[0;36mas_column\u001b[0;34m(arbitrary, nan_as_null, dtype, length)\u001b[0m\n\u001b[1;32m   2263\u001b[0m \u001b[38;5;28;01melif\u001b[39;00m arb_dtype\u001b[38;5;241m.\u001b[39mkind \u001b[38;5;129;01min\u001b[39;00m (\u001b[38;5;124m\"\u001b[39m\u001b[38;5;124mO\u001b[39m\u001b[38;5;124m\"\u001b[39m, \u001b[38;5;124m\"\u001b[39m\u001b[38;5;124mU\u001b[39m\u001b[38;5;124m\"\u001b[39m):\n\u001b[0;32m-> 2264\u001b[0m     pyarrow_array \u001b[38;5;241m=\u001b[39m \u001b[43mpa\u001b[49m\u001b[38;5;241;43m.\u001b[39;49m\u001b[43mArray\u001b[49m\u001b[38;5;241;43m.\u001b[39;49m\u001b[43mfrom_pandas\u001b[49m\u001b[43m(\u001b[49m\u001b[43marbitrary\u001b[49m\u001b[43m)\u001b[49m\n\u001b[1;32m   2265\u001b[0m     \u001b[38;5;28;01mif\u001b[39;00m \u001b[38;5;129;01mnot\u001b[39;00m \u001b[38;5;28misinstance\u001b[39m(\n\u001b[1;32m   2266\u001b[0m         pyarrow_array,\n\u001b[1;32m   2267\u001b[0m         (\n\u001b[0;32m   (...)\u001b[0m\n\u001b[1;32m   2274\u001b[0m         ),\n\u001b[1;32m   2275\u001b[0m     ):\n",
      "File \u001b[0;32m~/anaconda3/envs/rapids-23.10/lib/python3.10/site-packages/pyarrow/array.pxi:1054\u001b[0m, in \u001b[0;36mpyarrow.lib.Array.from_pandas\u001b[0;34m()\u001b[0m\n",
      "File \u001b[0;32m~/anaconda3/envs/rapids-23.10/lib/python3.10/site-packages/pyarrow/array.pxi:323\u001b[0m, in \u001b[0;36mpyarrow.lib.array\u001b[0;34m()\u001b[0m\n",
      "File \u001b[0;32m~/anaconda3/envs/rapids-23.10/lib/python3.10/site-packages/pyarrow/array.pxi:83\u001b[0m, in \u001b[0;36mpyarrow.lib._ndarray_to_array\u001b[0;34m()\u001b[0m\n",
      "File \u001b[0;32m~/anaconda3/envs/rapids-23.10/lib/python3.10/site-packages/pyarrow/error.pxi:123\u001b[0m, in \u001b[0;36mpyarrow.lib.check_status\u001b[0;34m()\u001b[0m\n",
      "\u001b[0;31mArrowTypeError\u001b[0m: Expected bytes, got a 'int' object",
      "\nDuring handling of the above exception, another exception occurred:\n",
      "\u001b[0;31mKeyError\u001b[0m                                  Traceback (most recent call last)",
      "File \u001b[0;32m~/anaconda3/envs/rapids-23.10/lib/python3.10/site-packages/pandas/core/indexes/base.py:3802\u001b[0m, in \u001b[0;36mIndex.get_loc\u001b[0;34m(self, key, method, tolerance)\u001b[0m\n\u001b[1;32m   3801\u001b[0m \u001b[38;5;28;01mtry\u001b[39;00m:\n\u001b[0;32m-> 3802\u001b[0m     \u001b[38;5;28;01mreturn\u001b[39;00m \u001b[38;5;28;43mself\u001b[39;49m\u001b[38;5;241;43m.\u001b[39;49m\u001b[43m_engine\u001b[49m\u001b[38;5;241;43m.\u001b[39;49m\u001b[43mget_loc\u001b[49m\u001b[43m(\u001b[49m\u001b[43mcasted_key\u001b[49m\u001b[43m)\u001b[49m\n\u001b[1;32m   3803\u001b[0m \u001b[38;5;28;01mexcept\u001b[39;00m \u001b[38;5;167;01mKeyError\u001b[39;00m \u001b[38;5;28;01mas\u001b[39;00m err:\n",
      "File \u001b[0;32m~/anaconda3/envs/rapids-23.10/lib/python3.10/site-packages/pandas/_libs/index.pyx:138\u001b[0m, in \u001b[0;36mpandas._libs.index.IndexEngine.get_loc\u001b[0;34m()\u001b[0m\n",
      "File \u001b[0;32m~/anaconda3/envs/rapids-23.10/lib/python3.10/site-packages/pandas/_libs/index.pyx:165\u001b[0m, in \u001b[0;36mpandas._libs.index.IndexEngine.get_loc\u001b[0;34m()\u001b[0m\n",
      "File \u001b[0;32mpandas/_libs/hashtable_class_helper.pxi:5745\u001b[0m, in \u001b[0;36mpandas._libs.hashtable.PyObjectHashTable.get_item\u001b[0;34m()\u001b[0m\n",
      "File \u001b[0;32mpandas/_libs/hashtable_class_helper.pxi:5753\u001b[0m, in \u001b[0;36mpandas._libs.hashtable.PyObjectHashTable.get_item\u001b[0;34m()\u001b[0m\n",
      "\u001b[0;31mKeyError\u001b[0m: 'Codigo Postal'",
      "\nThe above exception was the direct cause of the following exception:\n",
      "\u001b[0;31mKeyError\u001b[0m                                  Traceback (most recent call last)",
      "Cell \u001b[0;32mIn[69], line 44\u001b[0m\n\u001b[1;32m     41\u001b[0m         \u001b[38;5;28;01mreturn\u001b[39;00m \u001b[38;5;28;01mNone\u001b[39;00m\n\u001b[1;32m     43\u001b[0m \u001b[38;5;66;03m# Calcular la distancia entre el empleado y Bosch\u001b[39;00m\n\u001b[0;32m---> 44\u001b[0m data_sucia[\u001b[38;5;124m'\u001b[39m\u001b[38;5;124mdistancia\u001b[39m\u001b[38;5;124m'\u001b[39m] \u001b[38;5;241m=\u001b[39m \u001b[43mdata_sucia\u001b[49m\u001b[38;5;241;43m.\u001b[39;49m\u001b[43mapply\u001b[49m\u001b[43m(\u001b[49m\u001b[38;5;28;43;01mlambda\u001b[39;49;00m\u001b[43m \u001b[49m\u001b[43mx\u001b[49m\u001b[43m:\u001b[49m\u001b[43m \u001b[49m\u001b[43mcalcular_distancia_osm\u001b[49m\u001b[43m(\u001b[49m\u001b[43mx\u001b[49m\u001b[43m[\u001b[49m\u001b[38;5;124;43m'\u001b[39;49m\u001b[38;5;124;43mCodigo Postal\u001b[39;49m\u001b[38;5;124;43m'\u001b[39;49m\u001b[43m]\u001b[49m\u001b[43m,\u001b[49m\u001b[43m \u001b[49m\u001b[43mx\u001b[49m\u001b[43m[\u001b[49m\u001b[38;5;124;43m'\u001b[39;49m\u001b[38;5;124;43mCodigo Postal Bosch\u001b[39;49m\u001b[38;5;124;43m'\u001b[39;49m\u001b[43m]\u001b[49m\u001b[43m)\u001b[49m\u001b[43m,\u001b[49m\u001b[43m \u001b[49m\u001b[43maxis\u001b[49m\u001b[38;5;241;43m=\u001b[39;49m\u001b[38;5;241;43m1\u001b[39;49m\u001b[43m)\u001b[49m\n\u001b[1;32m     45\u001b[0m data_sucia\u001b[38;5;241m.\u001b[39mhead()\n",
      "File \u001b[0;32m~/anaconda3/envs/rapids-23.10/lib/python3.10/site-packages/cudf/pandas/fast_slow_proxy.py:785\u001b[0m, in \u001b[0;36m_CallableProxyMixin.__call__\u001b[0;34m(self, *args, **kwargs)\u001b[0m\n\u001b[1;32m    784\u001b[0m \u001b[38;5;28;01mdef\u001b[39;00m \u001b[38;5;21m__call__\u001b[39m(\u001b[38;5;28mself\u001b[39m, \u001b[38;5;241m*\u001b[39margs, \u001b[38;5;241m*\u001b[39m\u001b[38;5;241m*\u001b[39mkwargs) \u001b[38;5;241m-\u001b[39m\u001b[38;5;241m>\u001b[39m Any:\n\u001b[0;32m--> 785\u001b[0m     result, _ \u001b[38;5;241m=\u001b[39m \u001b[43m_fast_slow_function_call\u001b[49m\u001b[43m(\u001b[49m\n\u001b[1;32m    786\u001b[0m \u001b[43m        \u001b[49m\u001b[38;5;66;43;03m# We cannot directly call self here because we need it to be\u001b[39;49;00m\n\u001b[1;32m    787\u001b[0m \u001b[43m        \u001b[49m\u001b[38;5;66;43;03m# converted into either the fast or slow object (by\u001b[39;49;00m\n\u001b[1;32m    788\u001b[0m \u001b[43m        \u001b[49m\u001b[38;5;66;43;03m# _fast_slow_function_call) to avoid infinite recursion.\u001b[39;49;00m\n\u001b[1;32m    789\u001b[0m \u001b[43m        \u001b[49m\u001b[38;5;66;43;03m# TODO: When Python 3.11 is the minimum supported Python version\u001b[39;49;00m\n\u001b[1;32m    790\u001b[0m \u001b[43m        \u001b[49m\u001b[38;5;66;43;03m# this can use operator.call\u001b[39;49;00m\n\u001b[1;32m    791\u001b[0m \u001b[43m        \u001b[49m\u001b[38;5;28;43;01mlambda\u001b[39;49;00m\u001b[43m \u001b[49m\u001b[43mfn\u001b[49m\u001b[43m,\u001b[49m\u001b[43m \u001b[49m\u001b[43margs\u001b[49m\u001b[43m,\u001b[49m\u001b[43m \u001b[49m\u001b[43mkwargs\u001b[49m\u001b[43m:\u001b[49m\u001b[43m \u001b[49m\u001b[43mfn\u001b[49m\u001b[43m(\u001b[49m\u001b[38;5;241;43m*\u001b[39;49m\u001b[43margs\u001b[49m\u001b[43m,\u001b[49m\u001b[43m \u001b[49m\u001b[38;5;241;43m*\u001b[39;49m\u001b[38;5;241;43m*\u001b[39;49m\u001b[43mkwargs\u001b[49m\u001b[43m)\u001b[49m\u001b[43m,\u001b[49m\n\u001b[1;32m    792\u001b[0m \u001b[43m        \u001b[49m\u001b[38;5;28;43mself\u001b[39;49m\u001b[43m,\u001b[49m\n\u001b[1;32m    793\u001b[0m \u001b[43m        \u001b[49m\u001b[43margs\u001b[49m\u001b[43m,\u001b[49m\n\u001b[1;32m    794\u001b[0m \u001b[43m        \u001b[49m\u001b[43mkwargs\u001b[49m\u001b[43m,\u001b[49m\n\u001b[1;32m    795\u001b[0m \u001b[43m    \u001b[49m\u001b[43m)\u001b[49m\n\u001b[1;32m    796\u001b[0m     \u001b[38;5;28;01mreturn\u001b[39;00m result\n",
      "File \u001b[0;32m~/anaconda3/envs/rapids-23.10/lib/python3.10/site-packages/cudf/pandas/fast_slow_proxy.py:850\u001b[0m, in \u001b[0;36m_fast_slow_function_call\u001b[0;34m(func, *args, **kwargs)\u001b[0m\n\u001b[1;32m    848\u001b[0m         slow_args, slow_kwargs \u001b[38;5;241m=\u001b[39m _slow_arg(args), _slow_arg(kwargs)\n\u001b[1;32m    849\u001b[0m         \u001b[38;5;28;01mwith\u001b[39;00m disable_module_accelerator():\n\u001b[0;32m--> 850\u001b[0m             result \u001b[38;5;241m=\u001b[39m \u001b[43mfunc\u001b[49m\u001b[43m(\u001b[49m\u001b[38;5;241;43m*\u001b[39;49m\u001b[43mslow_args\u001b[49m\u001b[43m,\u001b[49m\u001b[43m \u001b[49m\u001b[38;5;241;43m*\u001b[39;49m\u001b[38;5;241;43m*\u001b[39;49m\u001b[43mslow_kwargs\u001b[49m\u001b[43m)\u001b[49m\n\u001b[1;32m    851\u001b[0m \u001b[38;5;28;01mreturn\u001b[39;00m _maybe_wrap_result(result, func, \u001b[38;5;241m*\u001b[39margs, \u001b[38;5;241m*\u001b[39m\u001b[38;5;241m*\u001b[39mkwargs), fast\n",
      "File \u001b[0;32m~/anaconda3/envs/rapids-23.10/lib/python3.10/site-packages/cudf/pandas/fast_slow_proxy.py:791\u001b[0m, in \u001b[0;36m_CallableProxyMixin.__call__.<locals>.<lambda>\u001b[0;34m(fn, args, kwargs)\u001b[0m\n\u001b[1;32m    784\u001b[0m \u001b[38;5;28;01mdef\u001b[39;00m \u001b[38;5;21m__call__\u001b[39m(\u001b[38;5;28mself\u001b[39m, \u001b[38;5;241m*\u001b[39margs, \u001b[38;5;241m*\u001b[39m\u001b[38;5;241m*\u001b[39mkwargs) \u001b[38;5;241m-\u001b[39m\u001b[38;5;241m>\u001b[39m Any:\n\u001b[1;32m    785\u001b[0m     result, _ \u001b[38;5;241m=\u001b[39m _fast_slow_function_call(\n\u001b[1;32m    786\u001b[0m         \u001b[38;5;66;03m# We cannot directly call self here because we need it to be\u001b[39;00m\n\u001b[1;32m    787\u001b[0m         \u001b[38;5;66;03m# converted into either the fast or slow object (by\u001b[39;00m\n\u001b[1;32m    788\u001b[0m         \u001b[38;5;66;03m# _fast_slow_function_call) to avoid infinite recursion.\u001b[39;00m\n\u001b[1;32m    789\u001b[0m         \u001b[38;5;66;03m# TODO: When Python 3.11 is the minimum supported Python version\u001b[39;00m\n\u001b[1;32m    790\u001b[0m         \u001b[38;5;66;03m# this can use operator.call\u001b[39;00m\n\u001b[0;32m--> 791\u001b[0m         \u001b[38;5;28;01mlambda\u001b[39;00m fn, args, kwargs: \u001b[43mfn\u001b[49m\u001b[43m(\u001b[49m\u001b[38;5;241;43m*\u001b[39;49m\u001b[43margs\u001b[49m\u001b[43m,\u001b[49m\u001b[43m \u001b[49m\u001b[38;5;241;43m*\u001b[39;49m\u001b[38;5;241;43m*\u001b[39;49m\u001b[43mkwargs\u001b[49m\u001b[43m)\u001b[49m,\n\u001b[1;32m    792\u001b[0m         \u001b[38;5;28mself\u001b[39m,\n\u001b[1;32m    793\u001b[0m         args,\n\u001b[1;32m    794\u001b[0m         kwargs,\n\u001b[1;32m    795\u001b[0m     )\n\u001b[1;32m    796\u001b[0m     \u001b[38;5;28;01mreturn\u001b[39;00m result\n",
      "File \u001b[0;32m~/anaconda3/envs/rapids-23.10/lib/python3.10/site-packages/pandas/core/frame.py:9568\u001b[0m, in \u001b[0;36mDataFrame.apply\u001b[0;34m(self, func, axis, raw, result_type, args, **kwargs)\u001b[0m\n\u001b[1;32m   9557\u001b[0m \u001b[38;5;28;01mfrom\u001b[39;00m \u001b[38;5;21;01mpandas\u001b[39;00m\u001b[38;5;21;01m.\u001b[39;00m\u001b[38;5;21;01mcore\u001b[39;00m\u001b[38;5;21;01m.\u001b[39;00m\u001b[38;5;21;01mapply\u001b[39;00m \u001b[38;5;28;01mimport\u001b[39;00m frame_apply\n\u001b[1;32m   9559\u001b[0m op \u001b[38;5;241m=\u001b[39m frame_apply(\n\u001b[1;32m   9560\u001b[0m     \u001b[38;5;28mself\u001b[39m,\n\u001b[1;32m   9561\u001b[0m     func\u001b[38;5;241m=\u001b[39mfunc,\n\u001b[0;32m   (...)\u001b[0m\n\u001b[1;32m   9566\u001b[0m     kwargs\u001b[38;5;241m=\u001b[39mkwargs,\n\u001b[1;32m   9567\u001b[0m )\n\u001b[0;32m-> 9568\u001b[0m \u001b[38;5;28;01mreturn\u001b[39;00m \u001b[43mop\u001b[49m\u001b[38;5;241;43m.\u001b[39;49m\u001b[43mapply\u001b[49m\u001b[43m(\u001b[49m\u001b[43m)\u001b[49m\u001b[38;5;241m.\u001b[39m__finalize__(\u001b[38;5;28mself\u001b[39m, method\u001b[38;5;241m=\u001b[39m\u001b[38;5;124m\"\u001b[39m\u001b[38;5;124mapply\u001b[39m\u001b[38;5;124m\"\u001b[39m)\n",
      "File \u001b[0;32m~/anaconda3/envs/rapids-23.10/lib/python3.10/site-packages/pandas/core/apply.py:764\u001b[0m, in \u001b[0;36mFrameApply.apply\u001b[0;34m(self)\u001b[0m\n\u001b[1;32m    761\u001b[0m \u001b[38;5;28;01melif\u001b[39;00m \u001b[38;5;28mself\u001b[39m\u001b[38;5;241m.\u001b[39mraw:\n\u001b[1;32m    762\u001b[0m     \u001b[38;5;28;01mreturn\u001b[39;00m \u001b[38;5;28mself\u001b[39m\u001b[38;5;241m.\u001b[39mapply_raw()\n\u001b[0;32m--> 764\u001b[0m \u001b[38;5;28;01mreturn\u001b[39;00m \u001b[38;5;28;43mself\u001b[39;49m\u001b[38;5;241;43m.\u001b[39;49m\u001b[43mapply_standard\u001b[49m\u001b[43m(\u001b[49m\u001b[43m)\u001b[49m\n",
      "File \u001b[0;32m~/anaconda3/envs/rapids-23.10/lib/python3.10/site-packages/pandas/core/apply.py:891\u001b[0m, in \u001b[0;36mFrameApply.apply_standard\u001b[0;34m(self)\u001b[0m\n\u001b[1;32m    890\u001b[0m \u001b[38;5;28;01mdef\u001b[39;00m \u001b[38;5;21mapply_standard\u001b[39m(\u001b[38;5;28mself\u001b[39m):\n\u001b[0;32m--> 891\u001b[0m     results, res_index \u001b[38;5;241m=\u001b[39m \u001b[38;5;28;43mself\u001b[39;49m\u001b[38;5;241;43m.\u001b[39;49m\u001b[43mapply_series_generator\u001b[49m\u001b[43m(\u001b[49m\u001b[43m)\u001b[49m\n\u001b[1;32m    893\u001b[0m     \u001b[38;5;66;03m# wrap results\u001b[39;00m\n\u001b[1;32m    894\u001b[0m     \u001b[38;5;28;01mreturn\u001b[39;00m \u001b[38;5;28mself\u001b[39m\u001b[38;5;241m.\u001b[39mwrap_results(results, res_index)\n",
      "File \u001b[0;32m~/anaconda3/envs/rapids-23.10/lib/python3.10/site-packages/pandas/core/apply.py:907\u001b[0m, in \u001b[0;36mFrameApply.apply_series_generator\u001b[0;34m(self)\u001b[0m\n\u001b[1;32m    904\u001b[0m \u001b[38;5;28;01mwith\u001b[39;00m option_context(\u001b[38;5;124m\"\u001b[39m\u001b[38;5;124mmode.chained_assignment\u001b[39m\u001b[38;5;124m\"\u001b[39m, \u001b[38;5;28;01mNone\u001b[39;00m):\n\u001b[1;32m    905\u001b[0m     \u001b[38;5;28;01mfor\u001b[39;00m i, v \u001b[38;5;129;01min\u001b[39;00m \u001b[38;5;28menumerate\u001b[39m(series_gen):\n\u001b[1;32m    906\u001b[0m         \u001b[38;5;66;03m# ignore SettingWithCopy here in case the user mutates\u001b[39;00m\n\u001b[0;32m--> 907\u001b[0m         results[i] \u001b[38;5;241m=\u001b[39m \u001b[38;5;28;43mself\u001b[39;49m\u001b[38;5;241;43m.\u001b[39;49m\u001b[43mf\u001b[49m\u001b[43m(\u001b[49m\u001b[43mv\u001b[49m\u001b[43m)\u001b[49m\n\u001b[1;32m    908\u001b[0m         \u001b[38;5;28;01mif\u001b[39;00m \u001b[38;5;28misinstance\u001b[39m(results[i], ABCSeries):\n\u001b[1;32m    909\u001b[0m             \u001b[38;5;66;03m# If we have a view on v, we need to make a copy because\u001b[39;00m\n\u001b[1;32m    910\u001b[0m             \u001b[38;5;66;03m#  series_generator will swap out the underlying data\u001b[39;00m\n\u001b[1;32m    911\u001b[0m             results[i] \u001b[38;5;241m=\u001b[39m results[i]\u001b[38;5;241m.\u001b[39mcopy(deep\u001b[38;5;241m=\u001b[39m\u001b[38;5;28;01mFalse\u001b[39;00m)\n",
      "Cell \u001b[0;32mIn[69], line 44\u001b[0m, in \u001b[0;36m<lambda>\u001b[0;34m(x)\u001b[0m\n\u001b[1;32m     41\u001b[0m         \u001b[38;5;28;01mreturn\u001b[39;00m \u001b[38;5;28;01mNone\u001b[39;00m\n\u001b[1;32m     43\u001b[0m \u001b[38;5;66;03m# Calcular la distancia entre el empleado y Bosch\u001b[39;00m\n\u001b[0;32m---> 44\u001b[0m data_sucia[\u001b[38;5;124m'\u001b[39m\u001b[38;5;124mdistancia\u001b[39m\u001b[38;5;124m'\u001b[39m] \u001b[38;5;241m=\u001b[39m data_sucia\u001b[38;5;241m.\u001b[39mapply(\u001b[38;5;28;01mlambda\u001b[39;00m x: calcular_distancia_osm(\u001b[43mx\u001b[49m\u001b[43m[\u001b[49m\u001b[38;5;124;43m'\u001b[39;49m\u001b[38;5;124;43mCodigo Postal\u001b[39;49m\u001b[38;5;124;43m'\u001b[39;49m\u001b[43m]\u001b[49m, x[\u001b[38;5;124m'\u001b[39m\u001b[38;5;124mCodigo Postal Bosch\u001b[39m\u001b[38;5;124m'\u001b[39m]), axis\u001b[38;5;241m=\u001b[39m\u001b[38;5;241m1\u001b[39m)\n\u001b[1;32m     45\u001b[0m data_sucia\u001b[38;5;241m.\u001b[39mhead()\n",
      "File \u001b[0;32m~/anaconda3/envs/rapids-23.10/lib/python3.10/site-packages/pandas/core/series.py:981\u001b[0m, in \u001b[0;36mSeries.__getitem__\u001b[0;34m(self, key)\u001b[0m\n\u001b[1;32m    978\u001b[0m     \u001b[38;5;28;01mreturn\u001b[39;00m \u001b[38;5;28mself\u001b[39m\u001b[38;5;241m.\u001b[39m_values[key]\n\u001b[1;32m    980\u001b[0m \u001b[38;5;28;01melif\u001b[39;00m key_is_scalar:\n\u001b[0;32m--> 981\u001b[0m     \u001b[38;5;28;01mreturn\u001b[39;00m \u001b[38;5;28;43mself\u001b[39;49m\u001b[38;5;241;43m.\u001b[39;49m\u001b[43m_get_value\u001b[49m\u001b[43m(\u001b[49m\u001b[43mkey\u001b[49m\u001b[43m)\u001b[49m\n\u001b[1;32m    983\u001b[0m \u001b[38;5;28;01mif\u001b[39;00m is_hashable(key):\n\u001b[1;32m    984\u001b[0m     \u001b[38;5;66;03m# Otherwise index.get_value will raise InvalidIndexError\u001b[39;00m\n\u001b[1;32m    985\u001b[0m     \u001b[38;5;28;01mtry\u001b[39;00m:\n\u001b[1;32m    986\u001b[0m         \u001b[38;5;66;03m# For labels that don't resolve as scalars like tuples and frozensets\u001b[39;00m\n",
      "File \u001b[0;32m~/anaconda3/envs/rapids-23.10/lib/python3.10/site-packages/pandas/core/series.py:1089\u001b[0m, in \u001b[0;36mSeries._get_value\u001b[0;34m(self, label, takeable)\u001b[0m\n\u001b[1;32m   1086\u001b[0m     \u001b[38;5;28;01mreturn\u001b[39;00m \u001b[38;5;28mself\u001b[39m\u001b[38;5;241m.\u001b[39m_values[label]\n\u001b[1;32m   1088\u001b[0m \u001b[38;5;66;03m# Similar to Index.get_value, but we do not fall back to positional\u001b[39;00m\n\u001b[0;32m-> 1089\u001b[0m loc \u001b[38;5;241m=\u001b[39m \u001b[38;5;28;43mself\u001b[39;49m\u001b[38;5;241;43m.\u001b[39;49m\u001b[43mindex\u001b[49m\u001b[38;5;241;43m.\u001b[39;49m\u001b[43mget_loc\u001b[49m\u001b[43m(\u001b[49m\u001b[43mlabel\u001b[49m\u001b[43m)\u001b[49m\n\u001b[1;32m   1090\u001b[0m \u001b[38;5;28;01mreturn\u001b[39;00m \u001b[38;5;28mself\u001b[39m\u001b[38;5;241m.\u001b[39mindex\u001b[38;5;241m.\u001b[39m_get_values_for_loc(\u001b[38;5;28mself\u001b[39m, loc, label)\n",
      "File \u001b[0;32m~/anaconda3/envs/rapids-23.10/lib/python3.10/site-packages/pandas/core/indexes/base.py:3804\u001b[0m, in \u001b[0;36mIndex.get_loc\u001b[0;34m(self, key, method, tolerance)\u001b[0m\n\u001b[1;32m   3802\u001b[0m     \u001b[38;5;28;01mreturn\u001b[39;00m \u001b[38;5;28mself\u001b[39m\u001b[38;5;241m.\u001b[39m_engine\u001b[38;5;241m.\u001b[39mget_loc(casted_key)\n\u001b[1;32m   3803\u001b[0m \u001b[38;5;28;01mexcept\u001b[39;00m \u001b[38;5;167;01mKeyError\u001b[39;00m \u001b[38;5;28;01mas\u001b[39;00m err:\n\u001b[0;32m-> 3804\u001b[0m     \u001b[38;5;28;01mraise\u001b[39;00m \u001b[38;5;167;01mKeyError\u001b[39;00m(key) \u001b[38;5;28;01mfrom\u001b[39;00m \u001b[38;5;21;01merr\u001b[39;00m\n\u001b[1;32m   3805\u001b[0m \u001b[38;5;28;01mexcept\u001b[39;00m \u001b[38;5;167;01mTypeError\u001b[39;00m:\n\u001b[1;32m   3806\u001b[0m     \u001b[38;5;66;03m# If we have a listlike key, _check_indexing_error will raise\u001b[39;00m\n\u001b[1;32m   3807\u001b[0m     \u001b[38;5;66;03m#  InvalidIndexError. Otherwise we fall through and re-raise\u001b[39;00m\n\u001b[1;32m   3808\u001b[0m     \u001b[38;5;66;03m#  the TypeError.\u001b[39;00m\n\u001b[1;32m   3809\u001b[0m     \u001b[38;5;28mself\u001b[39m\u001b[38;5;241m.\u001b[39m_check_indexing_error(key)\n",
      "\u001b[0;31mKeyError\u001b[0m: 'Codigo Postal'"
     ]
    }
   ],
   "source": [
    "from geopy.geocoders import Nominatim\n",
    "from geopy.distance import geodesic\n",
    "\n",
    "geolocator = Nominatim(user_agent=\"my_geocoder\")\n",
    "\n",
    "# Obtener coordenadas de geolocalización de un código postal\n",
    "def obtener_coordenadas_osm(codigo_postal):\n",
    "    location = geolocator.geocode({\"postalcode\": codigo_postal})\n",
    "    if location:\n",
    "        return (location.latitude, location.longitude)\n",
    "    else:\n",
    "        return None\n",
    "\n",
    "# Funcion para calcular la distancia entre dos codigos postales\n",
    "def calcular_distancia_osm(cp_empleado, cp_bosch):\n",
    "    coords_empleado = obtener_coordenadas_osm(cp_empleado)\n",
    "    coords_bosch = obtener_coordenadas_osm(cp_bosch)\n",
    "\n",
    "    if coords_empleado and coords_bosch:\n",
    "        distancia = geodesic(coords_empleado, coords_bosch).kilometers\n",
    "        return distancia\n",
    "    else:\n",
    "        return None\n",
    "# Insertar una columna llamada \"Codigo Postal Bosch\" con el valor 32557\n",
    "data_sucia['Codigo Postal Bosch'] = 32557\n",
    "\n",
    "# Calcular la distancia entre el empleado y Bosch\n",
    "if 'Codigo Postal' in data_sucia.columns and 'Codigo Postal Bosch' in data_sucia.columns:\n",
    "    data_sucia['distancia'] = data_sucia.apply(lambda x: calcular_distancia_osm(x['C.P.'], x['C.P. Bosch']), axis=1)\n",
    "    data_sucia.head()\n",
    "else:\n",
    "    print(\"Column names 'C.P.' and/or 'C.P. Bosch' not found in the DataFrame.\")\n",
    "def calcular_distancia_osm(cp_empleado, cp_bosch):\n",
    "    coords_empleado = obtener_coordenadas_osm(cp_empleado)\n",
    "    coords_bosch = obtener_coordenadas_osm(cp_bosch)\n",
    "\n",
    "    if coords_empleado and coords_bosch:\n",
    "        distancia = geodesic(coords_empleado, coords_bosch).kilometers\n",
    "        return distancia\n",
    "    else:\n",
    "        return None\n",
    "\n",
    "# Calcular la distancia entre el empleado y Bosch\n",
    "data_sucia['distancia'] = data_sucia.apply(lambda x: calcular_distancia_osm(x['Codigo Postal'], x['Codigo Postal Bosch']), axis=1)\n",
    "data_sucia.head()\n"
   ]
  },
  {
   "cell_type": "markdown",
   "metadata": {},
   "source": [
    "### Motivo de la renuncia"
   ]
  },
  {
   "cell_type": "markdown",
   "metadata": {},
   "source": [
    "### Motivo de la renuncia"
   ]
  },
  {
   "cell_type": "markdown",
   "metadata": {},
   "source": [
    "### Baja"
   ]
  },
  {
   "cell_type": "markdown",
   "metadata": {},
   "source": [
    "### Alta"
   ]
  },
  {
   "cell_type": "markdown",
   "metadata": {},
   "source": [
    "### Regla PHT"
   ]
  },
  {
   "cell_type": "markdown",
   "metadata": {},
   "source": [
    "### Años"
   ]
  },
  {
   "cell_type": "markdown",
   "metadata": {},
   "source": [
    "### Meses"
   ]
  },
  {
   "cell_type": "markdown",
   "metadata": {},
   "source": [
    "### Dias totales/Antigüedad"
   ]
  },
  {
   "cell_type": "markdown",
   "metadata": {},
   "source": [
    "### Sexo"
   ]
  },
  {
   "cell_type": "markdown",
   "metadata": {},
   "source": [
    "### Lugar de nacimiento"
   ]
  },
  {
   "cell_type": "code",
   "execution_count": null,
   "metadata": {},
   "outputs": [
    {
     "data": {
      "text/plain": [
       "1275               OAXACA\n",
       "1369               OCAMPO\n",
       "347         CIUDAD JUAREZ\n",
       "1294            CHIHUAHUA\n",
       "970              Veracruz\n",
       "51                 JUAREZ\n",
       "1357               JUAREZ\n",
       "866                JUAREZ\n",
       "798     CD. JUAREZ, CHIH.\n",
       "470                JUAREZ\n",
       "Name: Lugar de nacimiento, dtype: object"
      ]
     },
     "execution_count": 34,
     "metadata": {},
     "output_type": "execute_result"
    }
   ],
   "source": [
    "# Limpia los datos de la columna Lugar de nacimiento a el nombre del estado de nacimiento. \n",
    "# Limpia los datos de la columna Lugar de nacimiento a el nombre del estado de nacimiento. \n",
    "# Diccionario de reemplazos\n",
    "reemplazos = {\n",
    "    'Chihuahua': ['AZTECA CIUDAD JUAREZ', 'CAMARGO', 'CD JUAREZ', 'CD JUAREZ CHIH', 'CD. JUAREZ'],\n",
    "    'Durango': ['CD. GOMEZ PALACIO', 'GENERAL SIMON BOLIVAR', 'GOMEZ PALACIO', 'LERDO', 'DURANGO', 'PEÑON BLANCO', 'POBLADO EL LUCERO', 'SAN DIMAS', 'TLAHUALILO DE ZARAGOZA'],\n",
    "    'Aguascalientes': ['AGUASCALIENTES'],\n",
    "    'Sinaloa': ['AHOME', 'CULIACAN'],\n",
    "    'Veracruz': ['ANGEL R CABADA', 'COATZACOALCOS', 'CORDOBA', 'CORDOVA', 'COSAMALOAPAN', 'LAS MERCEDES', 'MARTINEZ DE LA TORRE', 'MINATITLAN', 'MOLOACAN', 'RAYA CARACOL', 'SAN ANDRES TUXTLA', 'TRES VALLES', 'VERACRUZ'],\n",
    "    # Agrega el resto de tus reemplazos aquí\n",
    "}\n",
    "\n",
    "# Invertir el diccionario para mapear cada ciudad a su estado correspondiente\n",
    "reemplazos_invertidos = {ciudad: estado for estado, ciudades in reemplazos.items() for ciudad in ciudades}\n",
    "\n",
    "# Realizar los reemplazos\n",
    "data_sucia['Lugar de nacimiento'] = data_sucia['Lugar de nacimiento'].replace(reemplazos_invertidos)\n",
    "\n",
    "# Ver resultados de los reemplazos usando aleatoriedad\n",
    "data_sucia['Lugar de nacimiento'].sample(10)\n",
    "\n",
    "# Diccionario para la nueva celda de reemplazos\n",
    "reemplazos_nueva_celda = {\n",
    "    'PUEBLA': ['GUADALUPE ANALCO', 'PUEBLA'],\n",
    "    'OAXACA': ['IXHUATAN', 'OAXACA', 'PASO DEL JOBO', 'SAN FRANCISCO DEL MAR', 'SAN JUAN BAUTISTA TUXTEPE', 'SAN LUCAS OJITLAN', 'TUXTEPEC'],\n",
    "    'TAMAULIPAS': ['MATAMOROS']\n",
    "}\n",
    "\n",
    "# Invertir el diccionario para mapear cada ciudad a su estado correspondiente\n",
    "reemplazos_invertidos_nueva_celda = {ciudad: estado for estado, ciudades in reemplazos_nueva_celda.items() for ciudad in ciudades}\n",
    "\n",
    "# Realizar los reemplazos\n",
    "data_sucia['Lugar de nacimiento'] = data_sucia['Lugar de nacimiento'].replace(reemplazos_invertidos_nueva_celda)\n",
    "\n",
    "data_sucia['Lugar de nacimiento'].sample(10)\n"
   ]
  },
  {
   "cell_type": "markdown",
   "metadata": {},
   "source": [
    "### Nacionalidad"
   ]
  },
  {
   "cell_type": "markdown",
   "metadata": {},
   "source": [
    "### Edad del empleado"
   ]
  },
  {
   "cell_type": "code",
   "execution_count": null,
   "metadata": {},
   "outputs": [],
   "source": [
    "# Edad del empleado\n",
    "# Convertir en tipos de datos enteros\n",
    "data_sucia['Edad del empleado'] = data_sucia['Edad del empleado'].astype(int)\n",
    "# Cambiar nombre de columna a Edad\n",
    "data_sucia = data_sucia.rename(columns={'Edad del empleado': 'Edad'})\n",
    "\n",
    "# Ver resultados de los reemplazos usando aleatoriedad"
   ]
  },
  {
   "cell_type": "markdown",
   "metadata": {},
   "source": [
    "### Tiempo viviendo en Ciudad Juarez"
   ]
  },
  {
   "cell_type": "code",
   "execution_count": null,
   "metadata": {},
   "outputs": [
    {
     "data": {
      "text/plain": [
       "Menos de 1 Año    788\n",
       "10+ Años          508\n",
       "4-6 Años           45\n",
       "7-9 Años           42\n",
       "1-3 Años           20\n",
       "Name: Tiempo Viviendo en Cd. Juarez - Categoria, dtype: int64"
      ]
     },
     "execution_count": 36,
     "metadata": {},
     "output_type": "execute_result"
    }
   ],
   "source": [
    "# Categorizar \"Tiempo Viviendo en Ciudad Juárez\"\n",
    "\n",
    "def categorize_time_living(time):\n",
    "    if pd.isna(time) or isinstance(time, str) and 'Days' in time:\n",
    "        return 'Menos de 1 Año'\n",
    "    elif isinstance(time, str) and any(x in time for x in ['1-2 Years', '2-3 Years']) or (isinstance(time, int) and 1 <= time <= 3):\n",
    "        return '1-3 Años'\n",
    "    elif isinstance(time, str) and any(x in time for x in ['3-4 Years', '4-5 Years', '5-6 Years']) or (isinstance(time, int) and 4 <= time <= 6):\n",
    "        return '4-6 Años'\n",
    "    elif isinstance(time, str) and any(x in time for x in ['6-7 Years', '7-8 Years', '8-9 Years']) or (isinstance(time, int) and 7 <= time <= 9):\n",
    "        return '7-9 Años'\n",
    "    else:\n",
    "        return '10+ Años'\n",
    "\n",
    "# Apply the categorization\n",
    "data_sucia['Tiempo Viviendo en Cd. Juarez - Categoria'] = data_sucia['¿Cuanto tiempo tiene viviendo en Cd. Juarez?'].apply(categorize_time_living)\n",
    "\n",
    "# Display the first few rows to verify the categorization\n",
    "data_sucia[['¿Cuanto tiempo tiene viviendo en Cd. Juarez?', 'Tiempo Viviendo en Cd. Juarez - Categoria']].head()\n",
    "\n",
    "# Saber cuantos valores hay en cada categoria de la columna Tiempo Viviendo en Cd. Juarez - Categoría\n",
    "data_sucia['Tiempo Viviendo en Cd. Juarez - Categoria'].value_counts()"
   ]
  },
  {
   "cell_type": "markdown",
   "metadata": {},
   "source": [
    "### Estado civil"
   ]
  },
  {
   "cell_type": "markdown",
   "metadata": {},
   "source": [
    "### Hijos - Victor"
   ]
  },
  {
   "cell_type": "code",
   "execution_count": null,
   "metadata": {},
   "outputs": [],
   "source": [
    "# Convertir columna hijos a enteros\n",
    "data_sucia['Hijos'] = data_sucia['Hijos'].astype(int)\n",
    "\n",
    "# Crear una columna con nombre 'Tiene Hijos' que sera 'Sí' si 'Hijos' > 0 y 'No' si 'Hijos' == 0\n",
    "data_sucia['Tiene Hijos'] = data['Hijos'].apply(lambda x: 'Sí' if x > 0 else 'No')\n",
    "\n",
    "# Convertir columna Tiene Hijos booleana\n",
    "data_sucia['Tiene Hijos'] = data_sucia['Tiene Hijos'].astype('category')\n"
   ]
  },
  {
   "cell_type": "markdown",
   "metadata": {},
   "source": [
    "----\n",
    "# Subida de datos en DB MySQL"
   ]
  },
  {
   "cell_type": "code",
   "execution_count": null,
   "metadata": {},
   "outputs": [
    {
     "data": {
      "text/plain": [
       "\"# Importar libreria para trabajar con mysql\\n#! pip install mysql-connector-python\\nimport mysql.connector\\n\\n# Hacer un mapeo de los datos necesarios para conectarse\\nconfig = {\\n    'user': 'datathonequipo5',\\n    'password': 'CodedSpiritDev05',\\n    'host': 'datathon.mysql.database.azure.com',\\n    'database': 'datathon'\\n}\\n\\n# Conectarse a la base de datos\\ncnx = mysql.connector.connect(**config)\\n\\n# Verificar la conexión\\ncnx.is_connected()\\n\\n# Cerrar la conexión\\ncnx.close()\""
      ]
     },
     "execution_count": 38,
     "metadata": {},
     "output_type": "execute_result"
    }
   ],
   "source": [
    "\"\"\"# Importar libreria para trabajar con mysql\n",
    "#! pip install mysql-connector-python\n",
    "import mysql.connector\n",
    "\n",
    "# Hacer un mapeo de los datos necesarios para conectarse\n",
    "config = {\n",
    "    'user': 'datathonequipo5',\n",
    "    'password': 'CodedSpiritDev05',\n",
    "    'host': 'datathon.mysql.database.azure.com',\n",
    "    'database': 'datathon'\n",
    "}\n",
    "\n",
    "# Conectarse a la base de datos\n",
    "cnx = mysql.connector.connect(**config)\n",
    "\n",
    "# Verificar la conexión\n",
    "cnx.is_connected()\n",
    "\n",
    "# Cerrar la conexión\n",
    "cnx.close()\"\"\""
   ]
  }
 ],
 "metadata": {
  "kernelspec": {
   "display_name": "rapids-23.10",
   "language": "python",
   "name": "python3"
  },
  "language_info": {
   "codemirror_mode": {
    "name": "ipython",
    "version": 3
   },
   "file_extension": ".py",
   "mimetype": "text/x-python",
   "name": "python",
   "nbconvert_exporter": "python",
   "pygments_lexer": "ipython3",
   "version": "3.10.13"
  }
 },
 "nbformat": 4,
 "nbformat_minor": 2
}
