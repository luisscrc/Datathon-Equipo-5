{
 "cells": [
  {
   "cell_type": "code",
   "execution_count": 46,
   "metadata": {},
   "outputs": [],
   "source": [
    "# Importar librerias\n",
    "import pandas as pd\n",
    "from sklearn.model_selection import train_test_split\n",
    "from sklearn.tree import DecisionTreeRegressor\n",
    "from sklearn.metrics import mean_squared_error, mean_absolute_error, r2_score\n",
    "import numpy as np\n"
   ]
  },
  {
   "cell_type": "code",
   "execution_count": 47,
   "metadata": {},
   "outputs": [],
   "source": [
    "# Cargando el conjunto de datos\n",
    "file_path = 'data_sucia_con_coordenadas.csv'\n",
    "data = pd.read_csv(file_path)\n",
    "\n",
    "# Filtrando por tipo de renuncia voluntaria\n",
    "data_voluntaria = data[data['TIPO DE RENUNCIA'] == 'VOLUNTARIA']\n",
    "\n",
    "# Seleccionando características relevantes y la variable objetivo\n",
    "features = ['AREA', 'BANDA', 'EDAD', 'HIJOS']\n",
    "X = data_voluntaria[features]\n",
    "y = data_voluntaria['ANTIGÜEDAD']\n",
    "\n",
    "# Conversión de variables categóricas a numéricas\n",
    "X = pd.get_dummies(X)"
   ]
  },
  {
   "cell_type": "code",
   "execution_count": 48,
   "metadata": {},
   "outputs": [],
   "source": [
    "# Dividiendo el conjunto de datos en entrenamiento y prueba\n",
    "X_train, X_test, y_train, y_test = train_test_split(X, y, test_size=0.3, random_state=42)\n",
    "\n",
    "# Creando el modelo de árbol de decisión\n",
    "tree_reg = DecisionTreeRegressor(random_state=42)\n",
    "tree_reg.fit(X_train, y_train)\n",
    "\n",
    "# Realizando predicciones en el conjunto de prueba\n",
    "y_pred = tree_reg.predict(X_test)"
   ]
  },
  {
   "cell_type": "code",
   "execution_count": 49,
   "metadata": {},
   "outputs": [
    {
     "name": "stdout",
     "output_type": "stream",
     "text": [
      "MSE:  2036192.3340672757\n",
      "MAE:  1005.0200859611048\n",
      "R2:  -0.10089277908615912\n"
     ]
    }
   ],
   "source": [
    "# Calculando métricas de rendimiento\n",
    "mse = mean_squared_error(y_test, y_pred)\n",
    "mae = mean_absolute_error(y_test, y_pred)\n",
    "r2 = r2_score(y_test, y_pred)\n",
    "\n",
    "# Imprimiendo métricas de rendimiento sin notación científica\n",
    "np.set_printoptions(suppress=True)\n",
    "print('MSE: ', mse)\n",
    "print('MAE: ', mae)\n",
    "print('R2: ', r2)\n"
   ]
  },
  {
   "cell_type": "code",
   "execution_count": 60,
   "metadata": {},
   "outputs": [
    {
     "name": "stdout",
     "output_type": "stream",
     "text": [
      "Accuracy: 0.7479892761394102\n",
      "Classification Report: \n",
      "              precision    recall  f1-score   support\n",
      "\n",
      "           0       0.78      0.81      0.80       225\n",
      "           1       0.70      0.65      0.67       148\n",
      "\n",
      "    accuracy                           0.75       373\n",
      "   macro avg       0.74      0.73      0.73       373\n",
      "weighted avg       0.75      0.75      0.75       373\n",
      "\n",
      "Running on local URL:  http://127.0.0.1:7885\n",
      "\n",
      "To create a public link, set `share=True` in `launch()`.\n"
     ]
    },
    {
     "data": {
      "text/html": [
       "<div><iframe src=\"http://127.0.0.1:7885/\" width=\"100%\" height=\"500\" allow=\"autoplay; camera; microphone; clipboard-read; clipboard-write;\" frameborder=\"0\" allowfullscreen></iframe></div>"
      ],
      "text/plain": [
       "<IPython.core.display.HTML object>"
      ]
     },
     "metadata": {},
     "output_type": "display_data"
    },
    {
     "data": {
      "text/plain": []
     },
     "execution_count": 60,
     "metadata": {},
     "output_type": "execute_result"
    }
   ],
   "source": [
    "import gradio as gr\n",
    "import pandas as pd\n",
    "import numpy as np\n",
    "from sklearn.model_selection import train_test_split\n",
    "from sklearn.linear_model import LogisticRegression\n",
    "from sklearn.metrics import classification_report, accuracy_score\n",
    "from sklearn.preprocessing import StandardScaler, LabelEncoder\n",
    "\n",
    "# Function to load and prepare data\n",
    "def load_and_prepare_data(file_path):\n",
    "    data = pd.read_csv(file_path)\n",
    "    data_logistic = data[data['TIPO DE RENUNCIA'] == 'VOLUNTARIA']\n",
    "    features_logistic = ['BANDA', 'EDAD', 'HIJOS']\n",
    "    X_logistic = data_logistic[features_logistic]\n",
    "    y_logistic = data_logistic['ANTIGÜEDAD']\n",
    "    y_logistic = np.where(y_logistic < 1460, 0, 1)\n",
    "    X_logistic = pd.get_dummies(X_logistic)\n",
    "    scaler = StandardScaler()\n",
    "    X_logistic_scaled = scaler.fit_transform(X_logistic)\n",
    "    X_train_logistic, X_test_logistic, y_train_logistic, y_test_logistic = train_test_split(X_logistic_scaled, y_logistic, test_size=0.3, random_state=42)\n",
    "    return X_train_logistic, X_test_logistic, y_train_logistic, y_test_logistic, scaler, X_logistic.columns\n",
    "\n",
    "# Function to train and evaluate model\n",
    "def train_and_evaluate_model(X_train, X_test, y_train, y_test):\n",
    "    logistic_reg = LogisticRegression()\n",
    "    logistic_reg.fit(X_train, y_train)\n",
    "    y_pred_logistic = logistic_reg.predict(X_test)\n",
    "    accuracy = accuracy_score(y_test, y_pred_logistic, normalize=True)\n",
    "    report = classification_report(y_test, y_pred_logistic)\n",
    "    return logistic_reg, accuracy, report\n",
    "\n",
    "# Load and prepare data\n",
    "file_path = 'data_sucia_con_coordenadas.csv'\n",
    "X_train, X_test, y_train, y_test, scaler, feature_columns = load_and_prepare_data(file_path)\n",
    "\n",
    "# Train and evaluate the model\n",
    "logistic_reg, accuracy, report = train_and_evaluate_model(X_train, X_test, y_train, y_test)\n",
    "print(f\"Accuracy: {accuracy}\\nClassification Report: \\n{report}\")\n",
    "\n",
    "# Function for Gradio Interface\n",
    "def predict_resignation(banda, edad, hijos):\n",
    "    input_df = pd.DataFrame([[banda, edad, hijos]], columns=['BANDA', 'EDAD', 'HIJOS'])\n",
    "    input_df = pd.get_dummies(input_df)\n",
    "    for column in feature_columns:\n",
    "        if column not in input_df.columns:\n",
    "            input_df[column] = 0\n",
    "    input_df = input_df.reindex(columns=feature_columns, fill_value=0)\n",
    "    input_scaled = scaler.transform(input_df)\n",
    "    prediction = logistic_reg.predict(input_scaled)[0]\n",
    "    return \"Renuncia antes de 4 años poco probable\" if prediction == 1 else \"Renuncia antes de 4 años probable\"\n",
    "\n",
    "# BANDA options\n",
    "banda_options = ['E3', 'DNO', 'DO', 'E4', 'SL1']\n",
    "\n",
    "# Setup Gradio Interface\n",
    "iface = gr.Interface(fn=predict_resignation, \n",
    "                     inputs=[gr.Dropdown(choices=banda_options, label=\"BANDA\"), gr.Slider(label=\"EDAD\", minimum=18, step=1), gr.Slider(label=\"HIJOS\", minimum=0, maximum=10, step=1)], \n",
    "                     outputs=gr.Textbox(label=\"Prediction\"),\n",
    "                     title=\"Predictor de Renuncia Voluntaria\",\n",
    "                     description=\"Introduce los detalles del empleado para predecir si es más probable que renuncie antes de 4 años.\")\n",
    "iface.launch()\n"
   ]
  }
 ],
 "metadata": {
  "kernelspec": {
   "display_name": "rapids-23.10",
   "language": "python",
   "name": "python3"
  },
  "language_info": {
   "codemirror_mode": {
    "name": "ipython",
    "version": 3
   },
   "file_extension": ".py",
   "mimetype": "text/x-python",
   "name": "python",
   "nbconvert_exporter": "python",
   "pygments_lexer": "ipython3",
   "version": "3.10.13"
  }
 },
 "nbformat": 4,
 "nbformat_minor": 2
}
